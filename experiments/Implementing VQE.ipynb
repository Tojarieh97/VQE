{
 "cells": [
  {
   "cell_type": "code",
   "execution_count": 5,
   "id": "9a2c43f0",
   "metadata": {},
   "outputs": [],
   "source": [
    "import numpy as np\n",
    "from qiskit.opflow import X, Z, I\n",
    "from qiskit.algorithms.optimizers import L_BFGS_B\n",
    "from qiskit.circuit.library import EfficientSU2"
   ]
  },
  {
   "cell_type": "markdown",
   "id": "f11527e8",
   "metadata": {},
   "source": [
    "## Setting Optimazer"
   ]
  },
  {
   "cell_type": "code",
   "execution_count": 2,
   "id": "aa188c57",
   "metadata": {},
   "outputs": [],
   "source": [
    "bfgs_optimizer = L_BFGS_B(maxiter=60)"
   ]
  },
  {
   "cell_type": "markdown",
   "id": "8ecb5443",
   "metadata": {},
   "source": [
    "## Transverse Ising Model Hamiltonian"
   ]
  },
  {
   "cell_type": "code",
   "execution_count": 3,
   "id": "df7bebab",
   "metadata": {},
   "outputs": [
    {
     "name": "stdout",
     "output_type": "stream",
     "text": [
      "========== Transverse Ising Model Hamiltonian for Two Qubits ==========\n",
      "\n",
      "[[ 0.33421116+0.j  0.63529013+0.j  0.96240534+0.j  0.        +0.j]\n",
      " [ 0.63529013+0.j -0.33421116+0.j  0.        +0.j  0.96240534+0.j]\n",
      " [ 0.96240534+0.j  0.        +0.j -0.33421116+0.j  0.63529013+0.j]\n",
      " [ 0.        +0.j  0.96240534+0.j  0.63529013+0.j  0.33421116+0.j]]\n",
      "\n"
     ]
    }
   ],
   "source": [
    "a_1 = np.random.random_sample()\n",
    "a_2 = np.random.random_sample()\n",
    "J_21 = np.random.random_sample()\n",
    "\n",
    "H_transverse_ising = a_1*(I^X) + a_2*(X^I) + J_21*(Z^Z)\n",
    "print(\"========== Transverse Ising Model Hamiltonian for Two Qubits ==========\\n\")\n",
    "print(H_transverse_ising.to_matrix())\n",
    "print()"
   ]
  },
  {
   "cell_type": "markdown",
   "id": "f654ba92",
   "metadata": {},
   "source": [
    "## Molecular Hamiltonian"
   ]
  },
  {
   "cell_type": "code",
   "execution_count": 4,
   "id": "fc423669",
   "metadata": {},
   "outputs": [
    {
     "name": "stdout",
     "output_type": "stream",
     "text": [
      "========== H2 Molecule Hamiltonian for Two Qubits ==========\n",
      "\n",
      "[[-1.0051067 +0.j  0.        +0.j  0.        +0.j  0.        +0.j]\n",
      " [ 0.        +0.j -0.66097983+0.j  0.        +0.j  0.        +0.j]\n",
      " [ 0.        +0.j  0.        +0.j -0.66097983+0.j  0.        +0.j]\n",
      " [ 0.        +0.j  0.        +0.j  0.        +0.j  0.3058456 +0.j]]\n",
      "\n"
     ]
    }
   ],
   "source": [
    "H2_molecule_Hamiltonian = -0.5053051899926562*(I^I) + \\\n",
    "                            -0.3277380754984016*(Z^I) + \\\n",
    "                            0.15567463610622564*(Z^Z) + \\\n",
    "                            -0.3277380754984016*(I^Z)\n",
    "print(\"========== H2 Molecule Hamiltonian for Two Qubits ==========\\n\")\n",
    "print(H2_molecule_Hamiltonian.to_matrix())\n",
    "print()"
   ]
  },
  {
   "cell_type": "code",
   "execution_count": null,
   "id": "ce28b9e2",
   "metadata": {},
   "outputs": [],
   "source": [
    "def vqe(hamiltonian, anzatz, optimazer, min_dist):\n",
    "    # Create the initial parameters\n",
    "    params = np.random.rand(3)\n",
    "    ret = optimizer.optimize(num_vars=3, objective_function=objective_function, initial_point=params)\n",
    "\n",
    "    # Obtain the output distribution using the final parameters\n",
    "    qc = get_var_form(ret[0])\n",
    "    t_qc = transpile(qc, backend)\n",
    "    qobj = assemble(t_qc, shots=NUM_SHOTS)\n",
    "    counts = backend.run(qobj).result().get_counts(qc)\n",
    "    output_distr = get_probability_distribution(counts)\n",
    "    #calculate the target function\n",
    "    old_res = old_state.dagger * hamiltonian * old_state\n",
    "    print(old_res)\n",
    "    #minimaize the target function\n",
    "    \n",
    "    #iterate the process\n",
    "    \n",
    "vqe((I^I).to_matrix(),)"
   ]
  },
  {
   "cell_type": "code",
   "execution_count": 12,
   "id": "71718929",
   "metadata": {},
   "outputs": [
    {
     "data": {
      "text/plain": [
       "array([[1.+0.j, 0.+0.j, 0.+0.j, 0.+0.j],\n",
       "       [0.+0.j, 1.+0.j, 0.+0.j, 0.+0.j],\n",
       "       [0.+0.j, 0.+0.j, 1.+0.j, 0.+0.j],\n",
       "       [0.+0.j, 0.+0.j, 0.+0.j, 1.+0.j]])"
      ]
     },
     "execution_count": 12,
     "metadata": {},
     "output_type": "execute_result"
    }
   ],
   "source": [
    "(I^I).to_matrix()"
   ]
  },
  {
   "cell_type": "code",
   "execution_count": null,
   "id": "33ece8b5",
   "metadata": {},
   "outputs": [],
   "source": []
  }
 ],
 "metadata": {
  "kernelspec": {
   "display_name": "QIS_ENV",
   "language": "python",
   "name": "pythonqisenv"
  },
  "language_info": {
   "codemirror_mode": {
    "name": "ipython",
    "version": 3
   },
   "file_extension": ".py",
   "mimetype": "text/x-python",
   "name": "python",
   "nbconvert_exporter": "python",
   "pygments_lexer": "ipython3",
   "version": "3.9.12"
  }
 },
 "nbformat": 4,
 "nbformat_minor": 5
}
