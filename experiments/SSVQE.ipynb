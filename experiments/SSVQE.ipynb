{
 "cells": [
  {
   "cell_type": "markdown",
   "id": "b9a29d3d",
   "metadata": {},
   "source": [
    "### backend"
   ]
  },
  {
   "cell_type": "code",
   "execution_count": 1,
   "id": "0939a0d5",
   "metadata": {},
   "outputs": [],
   "source": [
    "from qiskit import Aer\n",
    "from qiskit.utils import QuantumInstance, algorithm_globals\n",
    "\n",
    "seed = 50\n",
    "algorithm_globals.random_seed = seed\n",
    "\n",
    "backend = Aer.get_backend('qasm_simulator')\n",
    "quantum_instance = QuantumInstance(backend=backend, shots=800,  seed_transpiler=seed, seed_simulator=seed)"
   ]
  },
  {
   "cell_type": "markdown",
   "id": "a1e0b885",
   "metadata": {},
   "source": [
    "### optimizer"
   ]
  },
  {
   "cell_type": "code",
   "execution_count": 2,
   "id": "e97f8aac",
   "metadata": {},
   "outputs": [],
   "source": [
    "from qiskit.algorithms.optimizers import L_BFGS_B\n",
    "\n",
    "bfgs_optimizer = L_BFGS_B(maxiter=60)"
   ]
  },
  {
   "cell_type": "code",
   "execution_count": 15,
   "id": "6905e9dd",
   "metadata": {},
   "outputs": [],
   "source": [
    "import numpy as np\n",
    "np.random.seed(999999)\n",
    "target_distr = np.random.rand(2)\n",
    "# We now convert the random vector into a valid probability vector\n",
    "target_distr /= sum(target_distr)"
   ]
  },
  {
   "cell_type": "code",
   "execution_count": 16,
   "id": "a1223ae0",
   "metadata": {},
   "outputs": [],
   "source": [
    "import numpy as np\n",
    "from qiskit.circuit.library import EfficientSU2\n",
    "\n",
    "num_qubits = 2\n",
    "entanglement = 'full'\n",
    "energies = np.zeros(2)\n",
    "\n",
    "ansatz = EfficientSU2(num_qubits=num_qubits, entanglement=entanglement)"
   ]
  },
  {
   "cell_type": "code",
   "execution_count": 20,
   "id": "b0020dab",
   "metadata": {},
   "outputs": [
    {
     "name": "stderr",
     "output_type": "stream",
     "text": [
      "C:\\Users\\hadar\\AppData\\Local\\Temp\\ipykernel_36308\\2317275169.py:6: DeprecationWarning: The QuantumCircuit.u3 method is deprecated as of 0.16.0. It will be removed no earlier than 3 months after the release date. You should use QuantumCircuit.u instead, which acts identically. Alternatively, you can decompose u3 in terms of QuantumCircuit.p and QuantumCircuit.sx: u3(ϴ,φ,λ) = p(φ+π) sx p(ϴ+π) sx p(λ) (2 pulses on hardware).\n",
      "  qc.u3(params[0], params[1], params[2], qr[0])\n"
     ]
    },
    {
     "name": "stdout",
     "output_type": "stream",
     "text": [
      "     ┌──────────────────────────────┐┌─┐\n",
      "  q: ┤ U3(0.14172,0.094188,0.91319) ├┤M├\n",
      "     └──────────────────────────────┘└╥┘\n",
      "c: 1/═════════════════════════════════╩═\n",
      "                                      0 \n",
      "(array([0.14172334, 0.09418886, 0.91318713]), 0.959859881261161, 88)\n",
      "     ┌──────────────────────────────┐┌─┐\n",
      "  q: ┤ U3(0.14172,0.094189,0.91319) ├┤M├\n",
      "     └──────────────────────────────┘└╥┘\n",
      "c: 1/═════════════════════════════════╩═\n",
      "                                      0 \n"
     ]
    }
   ],
   "source": [
    "from qiskit import QuantumCircuit, ClassicalRegister, QuantumRegister\n",
    "def get_var_form(params):\n",
    "    qr = QuantumRegister(1, name=\"q\")\n",
    "    cr = ClassicalRegister(1, name='c')\n",
    "    qc = QuantumCircuit(qr, cr)\n",
    "    qc.u3(params[0], params[1], params[2], qr[0])\n",
    "    qc.measure(qr, cr[0])\n",
    "    return qc\n",
    "\n",
    "params = np.random.rand(3)\n",
    "print(get_var_form(params))\n",
    "\n",
    "ret = bfgs_optimizer.optimize(num_vars=3, objective_function=objective_function, initial_point=params)\n",
    "print(ret)\n",
    "print(get_var_form(ret[0]))"
   ]
  },
  {
   "cell_type": "code",
   "execution_count": 13,
   "id": "e359c33f",
   "metadata": {},
   "outputs": [],
   "source": [
    "from qiskit import Aer, transpile, assemble\n",
    "backend = Aer.get_backend(\"qasm_simulator\")\n",
    "NUM_SHOTS = 10000\n",
    "\n",
    "def get_probability_distribution(counts):\n",
    "    output_distr = [v / NUM_SHOTS for v in counts.values()]\n",
    "    if len(output_distr) == 1:\n",
    "        output_distr.append(1 - output_distr[0])\n",
    "    return output_distr\n",
    "\n",
    "def objective_function(params):\n",
    "    # Obtain a quantum circuit instance from the paramters\n",
    "    qc = get_var_form(params)\n",
    "    \n",
    "    # Execute the quantum circuit to obtain the probability distribution associated with the current parameters\n",
    "    t_qc = transpile(qc, backend)\n",
    "    qobj = assemble(t_qc, shots=NUM_SHOTS)\n",
    "    result = backend.run(qobj).result()\n",
    "    \n",
    "    # Obtain the counts for each measured state, and convert those counts into a probability vector\n",
    "    output_distr = get_probability_distribution(result.get_counts(qc))\n",
    "    \n",
    "    # Calculate the cost as the distance between the output distribution and the target distribution\n",
    "    cost = sum([np.abs(output_distr[i] - target_distr[i]) for i in range(2)])\n",
    "    \n",
    "    return cost"
   ]
  },
  {
   "cell_type": "code",
   "execution_count": null,
   "id": "73ee1b16",
   "metadata": {},
   "outputs": [],
   "source": [
    "from collections.abc import Sequence\n",
    "\n",
    "import numpy as np\n",
    "\n",
    "class ExpvalCost:\n",
    "    \"\"\"\n",
    "    Create a cost function that gives the expectation value of an input Hamiltonian.\n",
    "\n",
    "    This cost function is useful for a range of problems including VQE and QAOA.\n",
    "    \"\"\"\n",
    "\n",
    "    def __init__(\n",
    "        self,\n",
    "        ansatz,\n",
    "        hamiltonian,\n",
    "        device,\n",
    "    ):\n",
    "        self.ansatz = ansatz\n",
    "        \n",
    "        coeffs, observables = hamiltonian.terms()\n",
    "\n",
    "        self.hamiltonian = hamiltonian\n",
    "\n",
    "        self._optimize = optimize\n",
    "\n",
    "        self.qnodes = qml.map(\n",
    "            ansatz, observables, device, interface=interface, diff_method=diff_method, **kwargs\n",
    "        )\n",
    "\n",
    "        if self._optimize:\n",
    "            obs_groupings, coeffs_groupings = qml.grouping.group_observables(observables, coeffs)\n",
    "            d = device[0] if self._multiple_devices else device\n",
    "            w = d.wires.tolist()\n",
    "\n",
    "            @qml.qnode(device, interface=interface, diff_method=diff_method, **kwargs)\n",
    "            def circuit(*qnode_args, obs, **qnode_kwargs):\n",
    "                \"\"\"Converting ansatz into a full circuit including measurements\"\"\"\n",
    "                ansatz(*qnode_args, wires=w, **qnode_kwargs)\n",
    "                return [qml.expval(o) for o in obs]\n",
    "\n",
    "            def cost_fn(*qnode_args, **qnode_kwargs):\n",
    "                \"\"\"Combine results from grouped QNode executions with grouped coefficients\"\"\"\n",
    "                if device.shot_vector:\n",
    "                    shots_batch = 0\n",
    "\n",
    "                    for i in device.shot_vector:\n",
    "                        shots_batch += i[1]\n",
    "\n",
    "                    total = [0] * shots_batch\n",
    "\n",
    "                    for o, c in zip(obs_groupings, coeffs_groupings):\n",
    "                        res = circuit(*qnode_args, obs=o, **qnode_kwargs)\n",
    "\n",
    "                        for i, batch_res in enumerate(res):\n",
    "                            total[i] += sum(batch_res * c)\n",
    "                else:\n",
    "                    total = 0\n",
    "                    for o, c in zip(obs_groupings, coeffs_groupings):\n",
    "                        res = circuit(*qnode_args, obs=o, **qnode_kwargs)\n",
    "                        total += sum([r * c_ for r, c_ in zip(res, c)])\n",
    "                return total\n",
    "\n",
    "            self.cost_fn = cost_fn\n",
    "\n",
    "        else:\n",
    "            self.cost_fn = qml.dot(coeffs, self.qnodes)\n",
    "\n",
    "\n",
    "    def __call__(self, *params, state_idx):\n",
    "        return self.cost_fn(*params, state_idx)\n"
   ]
  },
  {
   "cell_type": "code",
   "execution_count": 10,
   "id": "ed335185",
   "metadata": {},
   "outputs": [
    {
     "name": "stdout",
     "output_type": "stream",
     "text": [
      "[2 1]\n"
     ]
    }
   ],
   "source": [
    "def single_cost(parameters):\n",
    "    "
   ]
  },
  {
   "cell_type": "code",
   "execution_count": null,
   "id": "88e2dcaa",
   "metadata": {},
   "outputs": [],
   "source": []
  }
 ],
 "metadata": {
  "kernelspec": {
   "display_name": "Qiskitenv",
   "language": "python",
   "name": "qiskitenv"
  },
  "language_info": {
   "codemirror_mode": {
    "name": "ipython",
    "version": 3
   },
   "file_extension": ".py",
   "mimetype": "text/x-python",
   "name": "python",
   "nbconvert_exporter": "python",
   "pygments_lexer": "ipython3",
   "version": "3.8.13"
  }
 },
 "nbformat": 4,
 "nbformat_minor": 5
}
