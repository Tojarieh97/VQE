{
 "cells": [
  {
   "cell_type": "code",
   "execution_count": 7,
   "id": "b90ffd9f",
   "metadata": {},
   "outputs": [],
   "source": [
    "from qiskit.algorithms import VQE\n",
    "from qiskit.algorithms.optimizers import SLSQP, L_BFGS_B\n",
    "from qiskit.circuit.library import TwoLocal\n",
    "\n",
    "num_qubits = 2\n",
    "ansatz = TwoLocal(num_qubits, 'ry', 'cz')\n",
    "opt = SLSQP(maxiter=60)\n",
    "bfgs_optimizer = L_BFGS_B(maxiter=60)\n",
    "vqe = VQE(ansatz, optimizer=opt)"
   ]
  },
  {
   "cell_type": "code",
   "execution_count": 2,
   "id": "27c6f849",
   "metadata": {},
   "outputs": [
    {
     "data": {
      "text/html": [
       "<pre style=\"word-wrap: normal;white-space: pre;background: #fff0;line-height: 1.1;font-family: &quot;Courier New&quot;,Courier,monospace\">     ┌────────────────────────────────────────────────────┐\n",
       "q_0: ┤0                                                   ├\n",
       "     │  TwoLocal(θ[0],θ[1],θ[2],θ[3],θ[4],θ[5],θ[6],θ[7]) │\n",
       "q_1: ┤1                                                   ├\n",
       "     └────────────────────────────────────────────────────┘</pre>"
      ],
      "text/plain": [
       "     ┌────────────────────────────────────────────────────┐\n",
       "q_0: ┤0                                                   ├\n",
       "     │  TwoLocal(θ[0],θ[1],θ[2],θ[3],θ[4],θ[5],θ[6],θ[7]) │\n",
       "q_1: ┤1                                                   ├\n",
       "     └────────────────────────────────────────────────────┘"
      ]
     },
     "execution_count": 2,
     "metadata": {},
     "output_type": "execute_result"
    }
   ],
   "source": [
    "ansatz.draw()"
   ]
  },
  {
   "cell_type": "code",
   "execution_count": 3,
   "id": "f4c2e463",
   "metadata": {},
   "outputs": [],
   "source": [
    "from qiskit import Aer\n",
    "\n",
    "backend = Aer.get_backend('aer_simulator_statevector')"
   ]
  },
  {
   "cell_type": "code",
   "execution_count": 4,
   "id": "63184e1f",
   "metadata": {},
   "outputs": [],
   "source": [
    "from qiskit.utils import QuantumInstance\n",
    "\n",
    "backend = Aer.get_backend('aer_simulator')\n",
    "quantum_instance = QuantumInstance(backend=backend, shots=800, seed_simulator=99) "
   ]
  },
  {
   "cell_type": "code",
   "execution_count": 11,
   "id": "4e82f640",
   "metadata": {},
   "outputs": [
    {
     "name": "stdout",
     "output_type": "stream",
     "text": [
      "[[1.+0.j 0.+0.j]\n",
      " [0.+0.j 1.+0.j]]\n",
      "[[ 1.+0.j  0.+0.j  0.+0.j  0.+0.j]\n",
      " [ 0.+0.j  1.+0.j  0.+0.j  0.+0.j]\n",
      " [ 0.+0.j  0.+0.j -1.+0.j  0.+0.j]\n",
      " [ 0.+0.j  0.+0.j  0.+0.j -1.+0.j]]\n",
      "[[-1.06365335+0.j  0.        +0.j  0.        +0.j  0.1809312 +0.j]\n",
      " [ 0.        +0.j -1.83696799+0.j  0.1809312 +0.j  0.        +0.j]\n",
      " [ 0.        +0.j  0.1809312 +0.j -0.24521829+0.j  0.        +0.j]\n",
      " [ 0.1809312 +0.j  0.        +0.j  0.        +0.j -1.06365335+0.j]]\n"
     ]
    }
   ],
   "source": [
    "from qiskit.opflow import X, Z, I\n",
    "print(I.to_matrix())\n",
    "print((Z^I).to_matrix())\n",
    "\n",
    "H2_op = (-1.052373245772859 * I ^ I) + \\\n",
    "        (0.39793742484318045 * I ^ Z) + \\\n",
    "        (-0.39793742484318045 * Z ^ I) + \\\n",
    "        (-0.01128010425623538 * Z ^ Z) + \\\n",
    "        (0.18093119978423156 * X ^ X)\n",
    "\n",
    "print(H2_op.to_matrix())"
   ]
  },
  {
   "cell_type": "code",
   "execution_count": 8,
   "id": "d5f6a15d",
   "metadata": {},
   "outputs": [
    {
     "name": "stdout",
     "output_type": "stream",
     "text": [
      "{   'aux_operator_eigenvalues': None,\n",
      "    'cost_function_evals': 90,\n",
      "    'eigenstate': array([ 1.12545455e-07+0.j, -9.93760463e-01+0.j,  1.11535385e-01+0.j,\n",
      "        2.63130183e-07+0.j]),\n",
      "    'eigenvalue': (-1.8572750302017977+0j),\n",
      "    'optimal_parameters': {   ParameterVectorElement(θ[3]): 6.099130538217296,\n",
      "                              ParameterVectorElement(θ[1]): 4.431295508546644,\n",
      "                              ParameterVectorElement(θ[4]): -2.6108993564833125,\n",
      "                              ParameterVectorElement(θ[5]): 1.5600498975818753,\n",
      "                              ParameterVectorElement(θ[6]): -4.693991170216267,\n",
      "                              ParameterVectorElement(θ[7]): 0.41087277109758974,\n",
      "                              ParameterVectorElement(θ[0]): 4.291772565646996,\n",
      "                              ParameterVectorElement(θ[2]): 0.587090405824378},\n",
      "    'optimal_point': array([ 4.29177257,  4.43129551,  0.58709041,  6.09913054, -2.61089936,\n",
      "        1.5600499 , -4.69399117,  0.41087277]),\n",
      "    'optimal_value': -1.8572750302017977,\n",
      "    'optimizer_evals': None,\n",
      "    'optimizer_time': 0.3120894432067871}\n"
     ]
    }
   ],
   "source": [
    "from qiskit.utils import algorithm_globals\n",
    "seed = 50\n",
    "algorithm_globals.random_seed = seed\n",
    "qi = QuantumInstance(Aer.get_backend('statevector_simulator'), seed_transpiler=seed, seed_simulator=seed)\n",
    "\n",
    "ansatz = TwoLocal(rotation_blocks='ry', entanglement_blocks='cz')\n",
    "slsqp = SLSQP(maxiter=1000)\n",
    "vqe = VQE(ansatz, optimizer=bfgs_optimizer, quantum_instance=qi)\n",
    "result = vqe.compute_minimum_eigenvalue(H2_op)\n",
    "print(result)"
   ]
  },
  {
   "cell_type": "code",
   "execution_count": 10,
   "id": "2c54bc02",
   "metadata": {},
   "outputs": [
    {
     "name": "stdout",
     "output_type": "stream",
     "text": [
      "=============Linear Entanglement:=============\n",
      "{   'aux_operator_eigenvalues': None,\n",
      "    'cost_function_evals': 238,\n",
      "    'eigenstate': array([ 4.07057275e-06+5.67074962e-06j,  9.67285589e-01+2.27856546e-01j,\n",
      "       -1.08562403e-01-2.55770897e-02j, -9.78924583e-06-6.76318987e-06j]),\n",
      "    'eigenvalue': (-1.857275030054701+0j),\n",
      "    'optimal_parameters': {   ParameterVectorElement(θ[15]): -2.9574388317435485,\n",
      "                              ParameterVectorElement(θ[12]): -0.3282134697230569,\n",
      "                              ParameterVectorElement(θ[13]): -0.05044324112669982,\n",
      "                              ParameterVectorElement(θ[14]): 1.100914135109823,\n",
      "                              ParameterVectorElement(θ[11]): 0.6753823493309326,\n",
      "                              ParameterVectorElement(θ[5]): -1.4218223143113484,\n",
      "                              ParameterVectorElement(θ[0]): -1.3794323227066296,\n",
      "                              ParameterVectorElement(θ[2]): 3.1309309566713504,\n",
      "                              ParameterVectorElement(θ[4]): -1.361036050020186,\n",
      "                              ParameterVectorElement(θ[3]): -0.5475502182464455,\n",
      "                              ParameterVectorElement(θ[1]): -1.1831152108907501,\n",
      "                              ParameterVectorElement(θ[8]): 0.6272341176183057,\n",
      "                              ParameterVectorElement(θ[10]): -2.345652895489707,\n",
      "                              ParameterVectorElement(θ[7]): 2.831041732073509,\n",
      "                              ParameterVectorElement(θ[9]): 2.9772725375826306,\n",
      "                              ParameterVectorElement(θ[6]): -1.6586309220599482},\n",
      "    'optimal_point': array([-1.37943232, -1.18311521,  3.13093096, -0.54755022, -1.36103605,\n",
      "       -1.42182231, -1.65863092,  2.83104173,  0.62723412,  2.97727254,\n",
      "       -2.3456529 ,  0.67538235, -0.32821347, -0.05044324,  1.10091414,\n",
      "       -2.95743883]),\n",
      "    'optimal_value': -1.857275030054701,\n",
      "    'optimizer_evals': None,\n",
      "    'optimizer_time': 1.4135475158691406}\n",
      "=============Full Entanglement:=============\n",
      "{   'aux_operator_eigenvalues': None,\n",
      "    'cost_function_evals': 272,\n",
      "    'eigenstate': array([-1.05908695e-06+1.71028108e-06j,  9.60324884e-01+2.55608763e-01j,\n",
      "       -1.07782597e-01-2.86912875e-02j,  1.46049480e-07+2.30441082e-07j]),\n",
      "    'eigenvalue': (-1.8572750301863925+0j),\n",
      "    'optimal_parameters': {   ParameterVectorElement(θ[9]): 1.4299746392097925,\n",
      "                              ParameterVectorElement(θ[15]): -0.1991115740297752,\n",
      "                              ParameterVectorElement(θ[5]): 0.0823173417475991,\n",
      "                              ParameterVectorElement(θ[0]): -1.532353823768397,\n",
      "                              ParameterVectorElement(θ[3]): -1.42580827324779,\n",
      "                              ParameterVectorElement(θ[4]): 2.3343452241568245,\n",
      "                              ParameterVectorElement(θ[10]): 0.6866711780658906,\n",
      "                              ParameterVectorElement(θ[1]): -2.246850707601815,\n",
      "                              ParameterVectorElement(θ[2]): -0.3082465365199793,\n",
      "                              ParameterVectorElement(θ[8]): 0.005577466464285159,\n",
      "                              ParameterVectorElement(θ[6]): 1.4014379404024506,\n",
      "                              ParameterVectorElement(θ[7]): -2.8658651077329567,\n",
      "                              ParameterVectorElement(θ[13]): 0.595117406297818,\n",
      "                              ParameterVectorElement(θ[11]): -3.1028621882062852,\n",
      "                              ParameterVectorElement(θ[12]): -1.4620126276141971,\n",
      "                              ParameterVectorElement(θ[14]): -1.3601836893155133},\n",
      "    'optimal_point': array([-1.53235382, -2.24685071, -0.30824654, -1.42580827,  2.33434522,\n",
      "        0.08231734,  1.40143794, -2.86586511,  0.00557747,  1.42997464,\n",
      "        0.68667118, -3.10286219, -1.46201263,  0.59511741, -1.36018369,\n",
      "       -0.19911157]),\n",
      "    'optimal_value': -1.8572750301863925,\n",
      "    'optimizer_evals': None,\n",
      "    'optimizer_time': 1.6310739517211914}\n"
     ]
    }
   ],
   "source": [
    "from qiskit.circuit.library import EfficientSU2\n",
    "entanglements = [\"linear\", \"full\"]\n",
    "for entanglement in entanglements:\n",
    "    ansatz = EfficientSU2(num_qubits=4, entanglement=entanglement)\n",
    "    if entanglement == \"linear\":\n",
    "        print(\"=============Linear Entanglement:=============\")\n",
    "        vqe = VQE(ansatz, optimizer=bfgs_optimizer, quantum_instance=qi)\n",
    "        result = vqe.compute_minimum_eigenvalue(H2_op)\n",
    "        print(result)\n",
    "        print()\n",
    "    else:\n",
    "        print(\"=============Full Entanglement:=============\")\n",
    "        vqe = VQE(ansatz, optimizer=bfgs_optimizer, quantum_instance=qi)\n",
    "        result = vqe.compute_minimum_eigenvalue(H2_op)\n",
    "        print(result)\n",
    "        print()"
   ]
  },
  {
   "cell_type": "code",
   "execution_count": null,
   "id": "e806db73",
   "metadata": {},
   "outputs": [],
   "source": []
  }
 ],
 "metadata": {
  "kernelspec": {
   "display_name": "Qiskitenv",
   "language": "python",
   "name": "qiskitenv"
  },
  "language_info": {
   "codemirror_mode": {
    "name": "ipython",
    "version": 3
   },
   "file_extension": ".py",
   "mimetype": "text/x-python",
   "name": "python",
   "nbconvert_exporter": "python",
   "pygments_lexer": "ipython3",
   "version": "3.8.13"
  }
 },
 "nbformat": 4,
 "nbformat_minor": 5
}
