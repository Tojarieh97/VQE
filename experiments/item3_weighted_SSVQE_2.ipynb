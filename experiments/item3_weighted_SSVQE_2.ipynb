{
 "cells": [
  {
   "cell_type": "markdown",
   "id": "abbae752",
   "metadata": {},
   "source": [
    "# Implement the ansatz "
   ]
  },
  {
   "cell_type": "code",
   "execution_count": 2,
   "id": "e111e09c",
   "metadata": {},
   "outputs": [],
   "source": [
    "from qiskit.circuit.library.standard_gates import RXGate, RZGate, CXGate, CZGate\n",
    "from qiskit import QuantumCircuit, ClassicalRegister, QuantumRegister\n",
    "import numpy as np"
   ]
  },
  {
   "cell_type": "code",
   "execution_count": 9,
   "id": "8b8fb8ea",
   "metadata": {},
   "outputs": [],
   "source": [
    "def anzats_circ(thetas, D1, D2, in_state):\n",
    "    qr = QuantumRegister(4, name=\"q\")\n",
    "    qc = QuantumCircuit(qr)\n",
    "    qc.initialize(in_state)\n",
    "    \n",
    "    for d in range(D1):\n",
    "        qc.append(RXGate(thetas[8]), [qr[2]])\n",
    "        qc.append(RXGate(thetas[9]), [qr[3]])\n",
    "        \n",
    "        qc.append(RZGate(thetas[10]), [qr[2]])\n",
    "        qc.append(RZGate(thetas[11]), [qr[3]])\n",
    "        \n",
    "        qc.append(CZGate(), [qr[2], qr[3]])\n",
    "        qc.barrier(qr)\n",
    "    \n",
    "    for d in range(D2):\n",
    "        qc.append(RXGate(thetas[0]), [qr[0]])\n",
    "        qc.append(RXGate(thetas[1]), [qr[1]])\n",
    "        qc.append(RXGate(thetas[2]), [qr[2]])\n",
    "        qc.append(RXGate(thetas[3]), [qr[3]])\n",
    "        \n",
    "        qc.append(RZGate(thetas[4]), [qr[0]])\n",
    "        qc.append(RZGate(thetas[5]), [qr[1]])\n",
    "        qc.append(RZGate(thetas[6]), [qr[2]])\n",
    "        qc.append(RZGate(thetas[7]), [qr[3]])\n",
    "        \n",
    "        qc.append(CZGate(), [qr[0], qr[1]])\n",
    "        qc.append(CZGate(), [qr[1], qr[2]])\n",
    "        qc.append(CZGate(), [qr[2], qr[3]])\n",
    "        qc.barrier(qr)\n",
    "    \n",
    "    qc.append(RXGate(thetas[0]), [qr[0]])\n",
    "    qc.append(RXGate(thetas[1]), [qr[1]])\n",
    "    qc.append(RXGate(thetas[2]), [qr[2]])\n",
    "    qc.append(RXGate(thetas[3]), [qr[3]])\n",
    "\n",
    "    qc.append(RZGate(thetas[4]), [qr[0]])\n",
    "    qc.append(RZGate(thetas[5]), [qr[1]])\n",
    "    qc.append(RZGate(thetas[6]), [qr[2]])\n",
    "    qc.append(RZGate(thetas[7]), [qr[3]])\n",
    "    \n",
    "    qc.measure_all()\n",
    "    \n",
    "    return qc\n"
   ]
  },
  {
   "cell_type": "markdown",
   "id": "36fb4bd1",
   "metadata": {},
   "source": [
    "# Choose k orthogonal states(computational basis)"
   ]
  },
  {
   "cell_type": "code",
   "execution_count": 11,
   "id": "e4bf8bfd",
   "metadata": {},
   "outputs": [],
   "source": [
    "def get_k_basis(k, n):\n",
    "    full_basis = np.identity(n)\n",
    "    return full_basis[:k]"
   ]
  },
  {
   "cell_type": "code",
   "execution_count": null,
   "id": "784aa509",
   "metadata": {},
   "outputs": [],
   "source": []
  }
 ],
 "metadata": {
  "kernelspec": {
   "display_name": "QIS_ENV",
   "language": "python",
   "name": "pythonqisenv"
  },
  "language_info": {
   "codemirror_mode": {
    "name": "ipython",
    "version": 3
   },
   "file_extension": ".py",
   "mimetype": "text/x-python",
   "name": "python",
   "nbconvert_exporter": "python",
   "pygments_lexer": "ipython3",
   "version": "3.9.12"
  }
 },
 "nbformat": 4,
 "nbformat_minor": 5
}
