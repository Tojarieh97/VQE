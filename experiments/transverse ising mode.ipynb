{
 "cells": [
  {
   "cell_type": "markdown",
   "id": "c00535b6",
   "metadata": {},
   "source": [
    "# hamiltonians implementation"
   ]
  },
  {
   "cell_type": "code",
   "execution_count": 2,
   "id": "1f7f740a",
   "metadata": {},
   "outputs": [],
   "source": [
    "from qiskit.opflow import X, Z, I\n",
    "\n",
    "H2_op = (-1.052373245772859 * I ^ I) + \\\n",
    "        (0.39793742484318045 * I ^ Z) + \\\n",
    "        (-0.39793742484318045 * Z ^ I) + \\\n",
    "        (-0.01128010425623538 * Z ^ Z) + \\\n",
    "        (0.18093119978423156 * X ^ X)"
   ]
  },
  {
   "cell_type": "markdown",
   "id": "4b82e448",
   "metadata": {},
   "source": [
    "Transverse Ising model"
   ]
  },
  {
   "cell_type": "code",
   "execution_count": 11,
   "id": "a9f31b7d",
   "metadata": {},
   "outputs": [
    {
     "name": "stdout",
     "output_type": "stream",
     "text": [
      "[[ 2.+0.j  0.+0.j]\n",
      " [ 0.+0.j -2.+0.j]]\n"
     ]
    },
    {
     "ename": "ValueError",
     "evalue": "Operators can only be scalar multiplied by float or complex, not Z of type <class 'qiskit.opflow.primitive_ops.pauli_op.PauliOp'>.",
     "output_type": "error",
     "traceback": [
      "\u001b[1;31m---------------------------------------------------------------------------\u001b[0m",
      "\u001b[1;31mValueError\u001b[0m                                Traceback (most recent call last)",
      "Input \u001b[1;32mIn [11]\u001b[0m, in \u001b[0;36m<cell line: 7>\u001b[1;34m()\u001b[0m\n\u001b[0;32m      9\u001b[0m     \u001b[38;5;28;01mfor\u001b[39;00m j \u001b[38;5;129;01min\u001b[39;00m \u001b[38;5;28mrange\u001b[39m(\u001b[38;5;241m1\u001b[39m,i\u001b[38;5;241m+\u001b[39m\u001b[38;5;241m1\u001b[39m):\n\u001b[0;32m     10\u001b[0m         J_ij \u001b[38;5;241m=\u001b[39m np\u001b[38;5;241m.\u001b[39mrandom\u001b[38;5;241m.\u001b[39mrandom_sample()\n\u001b[1;32m---> 11\u001b[0m         H \u001b[38;5;241m+\u001b[39m\u001b[38;5;241m=\u001b[39m \u001b[43mJ_ij\u001b[49m\u001b[38;5;241;43m*\u001b[39;49m\u001b[43mZ\u001b[49m\u001b[38;5;241;43m*\u001b[39;49m\u001b[43mZ\u001b[49m\n\u001b[0;32m     12\u001b[0m     H \u001b[38;5;241m+\u001b[39m\u001b[38;5;241m=\u001b[39m a_i\u001b[38;5;241m*\u001b[39mX\n\u001b[0;32m     14\u001b[0m \u001b[38;5;28mprint\u001b[39m(H)\n",
      "File \u001b[1;32m~\\anaconda3\\envs\\Qiskitenv\\lib\\site-packages\\qiskit\\opflow\\mixins\\star_algebra.py:49\u001b[0m, in \u001b[0;36mStarAlgebraMixin.__mul__\u001b[1;34m(self, other)\u001b[0m\n\u001b[0;32m     48\u001b[0m \u001b[38;5;28;01mdef\u001b[39;00m \u001b[38;5;21m__mul__\u001b[39m(\u001b[38;5;28mself\u001b[39m, other: \u001b[38;5;28mcomplex\u001b[39m):\n\u001b[1;32m---> 49\u001b[0m     \u001b[38;5;28;01mreturn\u001b[39;00m \u001b[38;5;28;43mself\u001b[39;49m\u001b[38;5;241;43m.\u001b[39;49m\u001b[43mmul\u001b[49m\u001b[43m(\u001b[49m\u001b[43mother\u001b[49m\u001b[43m)\u001b[49m\n",
      "File \u001b[1;32m~\\anaconda3\\envs\\Qiskitenv\\lib\\site-packages\\qiskit\\opflow\\primitive_ops\\primitive_op.py:151\u001b[0m, in \u001b[0;36mPrimitiveOp.mul\u001b[1;34m(self, scalar)\u001b[0m\n\u001b[0;32m    149\u001b[0m \u001b[38;5;28;01mdef\u001b[39;00m \u001b[38;5;21mmul\u001b[39m(\u001b[38;5;28mself\u001b[39m, scalar: Union[\u001b[38;5;28mcomplex\u001b[39m, ParameterExpression]) \u001b[38;5;241m-\u001b[39m\u001b[38;5;241m>\u001b[39m OperatorBase:\n\u001b[0;32m    150\u001b[0m     \u001b[38;5;28;01mif\u001b[39;00m \u001b[38;5;129;01mnot\u001b[39;00m \u001b[38;5;28misinstance\u001b[39m(scalar, (\u001b[38;5;28mint\u001b[39m, \u001b[38;5;28mfloat\u001b[39m, \u001b[38;5;28mcomplex\u001b[39m, ParameterExpression)):\n\u001b[1;32m--> 151\u001b[0m         \u001b[38;5;28;01mraise\u001b[39;00m \u001b[38;5;167;01mValueError\u001b[39;00m(\n\u001b[0;32m    152\u001b[0m             \u001b[38;5;124m\"\u001b[39m\u001b[38;5;124mOperators can only be scalar multiplied by float or complex, not \u001b[39m\u001b[38;5;124m\"\u001b[39m\n\u001b[0;32m    153\u001b[0m             \u001b[38;5;124m\"\u001b[39m\u001b[38;5;132;01m{}\u001b[39;00m\u001b[38;5;124m of type \u001b[39m\u001b[38;5;132;01m{}\u001b[39;00m\u001b[38;5;124m.\u001b[39m\u001b[38;5;124m\"\u001b[39m\u001b[38;5;241m.\u001b[39mformat(scalar, \u001b[38;5;28mtype\u001b[39m(scalar))\n\u001b[0;32m    154\u001b[0m         )\n\u001b[0;32m    155\u001b[0m     \u001b[38;5;66;03m# Need to return self.__class__ in case the object is one of the inherited OpPrimitives\u001b[39;00m\n\u001b[0;32m    156\u001b[0m     \u001b[38;5;28;01mreturn\u001b[39;00m \u001b[38;5;28mself\u001b[39m\u001b[38;5;241m.\u001b[39m\u001b[38;5;18m__class__\u001b[39m(\u001b[38;5;28mself\u001b[39m\u001b[38;5;241m.\u001b[39mprimitive, coeff\u001b[38;5;241m=\u001b[39m\u001b[38;5;28mself\u001b[39m\u001b[38;5;241m.\u001b[39mcoeff \u001b[38;5;241m*\u001b[39m scalar)\n",
      "\u001b[1;31mValueError\u001b[0m: Operators can only be scalar multiplied by float or complex, not Z of type <class 'qiskit.opflow.primitive_ops.pauli_op.PauliOp'>."
     ]
    }
   ],
   "source": [
    "import numpy as np\n",
    "from qiskit.opflow import X, Z, I\n",
    "\n",
    "N = 2\n",
    "H = 0*X\n",
    "for i in range(1,N+1):\n",
    "    a_i = np.random.random_sample()\n",
    "    for j in range(1,i+1):\n",
    "        J_ij = np.random.random_sample()\n",
    "        H += J_ij*Z*Z\n",
    "    H += a_i*X\n",
    "    \n",
    "print(H)"
   ]
  },
  {
   "cell_type": "code",
   "execution_count": 12,
   "id": "21acc979",
   "metadata": {},
   "outputs": [
    {
     "name": "stdout",
     "output_type": "stream",
     "text": [
      "[[ 0.76998082+0.j  0.59291489+0.j  0.55842687+0.j  0.        +0.j]\n",
      " [ 0.59291489+0.j -0.76998082+0.j  0.        +0.j  0.55842687+0.j]\n",
      " [ 0.55842687+0.j  0.        +0.j -0.76998082+0.j  0.59291489+0.j]\n",
      " [ 0.        +0.j  0.55842687+0.j  0.59291489+0.j  0.76998082+0.j]]\n"
     ]
    }
   ],
   "source": [
    "import numpy as np\n",
    "from qiskit.opflow import X, Z, I\n",
    "\n",
    "N = 2\n",
    "a_1 = np.random.random_sample()\n",
    "a_2 = np.random.random_sample()\n",
    "J_21 = np.random.random_sample()\n",
    "H = a_1*(I^X) + a_2*(X^I) + J_21*(Z^Z)\n",
    "\n",
    "print(H.to_matrix())"
   ]
  },
  {
   "cell_type": "code",
   "execution_count": null,
   "id": "8994a548",
   "metadata": {},
   "outputs": [],
   "source": []
  }
 ],
 "metadata": {
  "kernelspec": {
   "display_name": "Qiskitenv",
   "language": "python",
   "name": "qiskitenv"
  },
  "language_info": {
   "codemirror_mode": {
    "name": "ipython",
    "version": 3
   },
   "file_extension": ".py",
   "mimetype": "text/x-python",
   "name": "python",
   "nbconvert_exporter": "python",
   "pygments_lexer": "ipython3",
   "version": "3.8.13"
  }
 },
 "nbformat": 4,
 "nbformat_minor": 5
}
