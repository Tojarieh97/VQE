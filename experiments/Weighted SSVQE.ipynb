{
 "cells": [
  {
   "cell_type": "code",
   "execution_count": 5,
   "id": "3b56b3bc",
   "metadata": {},
   "outputs": [],
   "source": [
    "import nbimporter\n",
    "import item2_copy"
   ]
  },
  {
   "cell_type": "markdown",
   "id": "b9a29d3d",
   "metadata": {},
   "source": [
    "### backend"
   ]
  },
  {
   "cell_type": "code",
   "execution_count": 22,
   "id": "0939a0d5",
   "metadata": {},
   "outputs": [],
   "source": [
    "from qiskit import Aer\n",
    "from qiskit.utils import QuantumInstance, algorithm_globals\n",
    "\n",
    "seed = 50\n",
    "algorithm_globals.random_seed = seed\n",
    "\n",
    "backend = Aer.get_backend('qasm_simulator')\n",
    "quantum_instance = QuantumInstance(backend=backend, shots=800,  seed_transpiler=seed, seed_simulator=seed)"
   ]
  },
  {
   "cell_type": "markdown",
   "id": "a1e0b885",
   "metadata": {},
   "source": [
    "### optimizer"
   ]
  },
  {
   "cell_type": "code",
   "execution_count": 23,
   "id": "e97f8aac",
   "metadata": {},
   "outputs": [],
   "source": [
    "from qiskit.algorithms.optimizers import L_BFGS_B\n",
    "\n",
    "bfgs_optimizer = L_BFGS_B(maxiter=60)"
   ]
  },
  {
   "cell_type": "code",
   "execution_count": 24,
   "id": "6905e9dd",
   "metadata": {},
   "outputs": [],
   "source": [
    "import numpy as np\n",
    "np.random.seed(999999)\n",
    "target_distr = np.random.rand(2)\n",
    "# We now convert the random vector into a valid probability vector\n",
    "target_distr /= sum(target_distr)"
   ]
  },
  {
   "cell_type": "code",
   "execution_count": 25,
   "id": "a1223ae0",
   "metadata": {},
   "outputs": [],
   "source": [
    "import numpy as np\n",
    "from qiskit.circuit.library import EfficientSU2\n",
    "\n",
    "num_qubits = 2\n",
    "entanglement = 'full'\n",
    "energies = np.zeros(2)\n",
    "\n",
    "ansatz = EfficientSU2(num_qubits=num_qubits, entanglement=entanglement)"
   ]
  },
  {
   "cell_type": "code",
   "execution_count": 12,
   "id": "b0020dab",
   "metadata": {},
   "outputs": [
    {
     "name": "stdout",
     "output_type": "stream",
     "text": [
      "     ┌────────────────────────────┐┌─┐\n",
      "  q: ┤ U3(0.71981,0.081255,0.653) ├┤M├\n",
      "     └────────────────────────────┘└╥┘\n",
      "c: 1/═══════════════════════════════╩═\n",
      "                                    0 \n"
     ]
    },
    {
     "name": "stderr",
     "output_type": "stream",
     "text": [
      "C:\\Users\\hadar\\AppData\\Local\\Temp\\ipykernel_20228\\2317275169.py:6: DeprecationWarning: The QuantumCircuit.u3 method is deprecated as of 0.16.0. It will be removed no earlier than 3 months after the release date. You should use QuantumCircuit.u instead, which acts identically. Alternatively, you can decompose u3 in terms of QuantumCircuit.p and QuantumCircuit.sx: u3(ϴ,φ,λ) = p(φ+π) sx p(ϴ+π) sx p(λ) (2 pulses on hardware).\n",
      "  qc.u3(params[0], params[1], params[2], qr[0])\n"
     ]
    },
    {
     "ename": "NameError",
     "evalue": "name 'objective_function' is not defined",
     "output_type": "error",
     "traceback": [
      "\u001b[1;31m---------------------------------------------------------------------------\u001b[0m",
      "\u001b[1;31mNameError\u001b[0m                                 Traceback (most recent call last)",
      "Input \u001b[1;32mIn [12]\u001b[0m, in \u001b[0;36m<cell line: 13>\u001b[1;34m()\u001b[0m\n\u001b[0;32m     10\u001b[0m params \u001b[38;5;241m=\u001b[39m np\u001b[38;5;241m.\u001b[39mrandom\u001b[38;5;241m.\u001b[39mrand(\u001b[38;5;241m3\u001b[39m)\n\u001b[0;32m     11\u001b[0m \u001b[38;5;28mprint\u001b[39m(get_var_form(params))\n\u001b[1;32m---> 13\u001b[0m ret \u001b[38;5;241m=\u001b[39m bfgs_optimizer\u001b[38;5;241m.\u001b[39moptimize(num_vars\u001b[38;5;241m=\u001b[39m\u001b[38;5;241m3\u001b[39m, objective_function\u001b[38;5;241m=\u001b[39m\u001b[43mobjective_function\u001b[49m, initial_point\u001b[38;5;241m=\u001b[39mparams)\n\u001b[0;32m     14\u001b[0m \u001b[38;5;28mprint\u001b[39m(ret)\n\u001b[0;32m     15\u001b[0m \u001b[38;5;28mprint\u001b[39m(get_var_form(ret[\u001b[38;5;241m0\u001b[39m]))\n",
      "\u001b[1;31mNameError\u001b[0m: name 'objective_function' is not defined"
     ]
    }
   ],
   "source": [
    "from qiskit import QuantumCircuit, ClassicalRegister, QuantumRegister\n",
    "def get_var_form(params):\n",
    "    qr = QuantumRegister(1, name=\"q\")\n",
    "    cr = ClassicalRegister(1, name='c')\n",
    "    qc = QuantumCircuit(qr, cr)\n",
    "    qc.u3(params[0], params[1], params[2], qr[0])\n",
    "    qc.measure(qr, cr[0])\n",
    "    return qc\n",
    "\n",
    "params = np.random.rand(3)\n",
    "print(get_var_form(params))\n",
    "\n",
    "ret = bfgs_optimizer.optimize(num_vars=3, objective_function=objective_function, initial_point=params)\n",
    "print(ret)\n",
    "print(get_var_form(ret[0]))"
   ]
  },
  {
   "cell_type": "code",
   "execution_count": 13,
   "id": "e359c33f",
   "metadata": {},
   "outputs": [],
   "source": [
    "from qiskit import Aer, transpile, assemble\n",
    "backend = Aer.get_backend(\"qasm_simulator\")\n",
    "NUM_SHOTS = 10000\n",
    "\n",
    "def get_probability_distribution(counts):\n",
    "    output_distr = [v / NUM_SHOTS for v in counts.values()]\n",
    "    if len(output_distr) == 1:\n",
    "        output_distr.append(1 - output_distr[0])\n",
    "    return output_distr\n",
    "\n",
    "def objective_function(params):\n",
    "    # Obtain a quantum circuit instance from the paramters\n",
    "    qc = get_var_form(params)\n",
    "    \n",
    "    # Execute the quantum circuit to obtain the probability distribution associated with the current parameters\n",
    "    t_qc = transpile(qc, backend)\n",
    "    qobj = assemble(t_qc, shots=NUM_SHOTS)\n",
    "    result = backend.run(qobj).result()\n",
    "    \n",
    "    # Obtain the counts for each measured state, and convert those counts into a probability vector\n",
    "    output_distr = get_probability_distribution(result.get_counts(qc))\n",
    "    \n",
    "    # Calculate the cost as the distance between the output distribution and the target distribution\n",
    "    cost = sum([np.abs(output_distr[i] - target_distr[i]) for i in range(2)])\n",
    "    \n",
    "    return cost"
   ]
  },
  {
   "cell_type": "code",
   "execution_count": 14,
   "id": "73ee1b16",
   "metadata": {},
   "outputs": [],
   "source": [
    "from collections.abc import Sequence\n",
    "\n",
    "import numpy as np\n",
    "\n",
    "class ExpvalCost:\n",
    "    \"\"\"\n",
    "    Create a cost function that gives the expectation value of an input Hamiltonian.\n",
    "\n",
    "    This cost function is useful for a range of problems including VQE and QAOA.\n",
    "    \"\"\"\n",
    "\n",
    "    def __init__(\n",
    "        self,\n",
    "        ansatz,\n",
    "        hamiltonian,\n",
    "        device,\n",
    "    ):\n",
    "        self.ansatz = ansatz\n",
    "        \n",
    "        coeffs, observables = hamiltonian.terms()\n",
    "\n",
    "        self.hamiltonian = hamiltonian\n",
    "\n",
    "        self._optimize = optimize\n",
    "\n",
    "        self.qnodes = qml.map(\n",
    "            ansatz, observables, device, interface=interface, diff_method=diff_method, **kwargs\n",
    "        )\n",
    "\n",
    "        if self._optimize:\n",
    "            obs_groupings, coeffs_groupings = qml.grouping.group_observables(observables, coeffs)\n",
    "            d = device[0] if self._multiple_devices else device\n",
    "            w = d.wires.tolist()\n",
    "\n",
    "            @qml.qnode(device, interface=interface, diff_method=diff_method, **kwargs)\n",
    "            def circuit(*qnode_args, obs, **qnode_kwargs):\n",
    "                \"\"\"Converting ansatz into a full circuit including measurements\"\"\"\n",
    "                ansatz(*qnode_args, wires=w, **qnode_kwargs)\n",
    "                return [qml.expval(o) for o in obs]\n",
    "\n",
    "            def cost_fn(*qnode_args, **qnode_kwargs):\n",
    "                \"\"\"Combine results from grouped QNode executions with grouped coefficients\"\"\"\n",
    "                if device.shot_vector:\n",
    "                    shots_batch = 0\n",
    "\n",
    "                    for i in device.shot_vector:\n",
    "                        shots_batch += i[1]\n",
    "\n",
    "                    total = [0] * shots_batch\n",
    "\n",
    "                    for o, c in zip(obs_groupings, coeffs_groupings):\n",
    "                        res = circuit(*qnode_args, obs=o, **qnode_kwargs)\n",
    "\n",
    "                        for i, batch_res in enumerate(res):\n",
    "                            total[i] += sum(batch_res * c)\n",
    "                else:\n",
    "                    total = 0\n",
    "                    for o, c in zip(obs_groupings, coeffs_groupings):\n",
    "                        res = circuit(*qnode_args, obs=o, **qnode_kwargs)\n",
    "                        total += sum([r * c_ for r, c_ in zip(res, c)])\n",
    "                return total\n",
    "\n",
    "            self.cost_fn = cost_fn\n",
    "\n",
    "        else:\n",
    "            self.cost_fn = qml.dot(coeffs, self.qnodes)\n",
    "\n",
    "\n",
    "    def __call__(self, *params, state_idx):\n",
    "        return self.cost_fn(*params, state_idx)\n"
   ]
  },
  {
   "cell_type": "code",
   "execution_count": 15,
   "id": "ed335185",
   "metadata": {},
   "outputs": [
    {
     "data": {
      "text/html": [
       "<pre style=\"word-wrap: normal;white-space: pre;background: #fff0;line-height: 1.1;font-family: &quot;Courier New&quot;,Courier,monospace\">                           ░ ┌───────┐┌─────────┐          ░ ┌───────┐»\n",
       "q_0: ──────────────────────░─┤ Rx(0) ├┤ Rz(π/2) ├─■────────░─┤ Rx(0) ├»\n",
       "                           ░ ├───────┤├─────────┤ │        ░ ├───────┤»\n",
       "q_1: ──────────────────────░─┤ Rx(0) ├┤ Rz(π/2) ├─■──■─────░─┤ Rx(0) ├»\n",
       "     ┌───────┐┌───────┐    ░ ├───────┤├─────────┤    │     ░ ├───────┤»\n",
       "q_2: ┤ Rx(π) ├┤ Rz(π) ├─■──░─┤ Rx(0) ├┤ Rz(π/2) ├────■──■──░─┤ Rx(0) ├»\n",
       "     ├───────┤├───────┤ │  ░ ├───────┤├─────────┤       │  ░ ├───────┤»\n",
       "q_3: ┤ Rx(π) ├┤ Rz(π) ├─■──░─┤ Rx(0) ├┤ Rz(π/2) ├───────■──░─┤ Rx(0) ├»\n",
       "     └───────┘└───────┘    ░ └───────┘└─────────┘          ░ └───────┘»\n",
       "c: 4/═════════════════════════════════════════════════════════════════»\n",
       "                                                                      »\n",
       "«     ┌─────────┐\n",
       "«q_0: ┤ Rz(π/2) ├\n",
       "«     ├─────────┤\n",
       "«q_1: ┤ Rz(π/2) ├\n",
       "«     ├─────────┤\n",
       "«q_2: ┤ Rz(π/2) ├\n",
       "«     ├─────────┤\n",
       "«q_3: ┤ Rz(π/2) ├\n",
       "«     └─────────┘\n",
       "«c: 4/═══════════\n",
       "«                </pre>"
      ],
      "text/plain": [
       "                           ░ ┌───────┐┌─────────┐          ░ ┌───────┐»\n",
       "q_0: ──────────────────────░─┤ Rx(0) ├┤ Rz(π/2) ├─■────────░─┤ Rx(0) ├»\n",
       "                           ░ ├───────┤├─────────┤ │        ░ ├───────┤»\n",
       "q_1: ──────────────────────░─┤ Rx(0) ├┤ Rz(π/2) ├─■──■─────░─┤ Rx(0) ├»\n",
       "     ┌───────┐┌───────┐    ░ ├───────┤├─────────┤    │     ░ ├───────┤»\n",
       "q_2: ┤ Rx(π) ├┤ Rz(π) ├─■──░─┤ Rx(0) ├┤ Rz(π/2) ├────■──■──░─┤ Rx(0) ├»\n",
       "     ├───────┤├───────┤ │  ░ ├───────┤├─────────┤       │  ░ ├───────┤»\n",
       "q_3: ┤ Rx(π) ├┤ Rz(π) ├─■──░─┤ Rx(0) ├┤ Rz(π/2) ├───────■──░─┤ Rx(0) ├»\n",
       "     └───────┘└───────┘    ░ └───────┘└─────────┘          ░ └───────┘»\n",
       "c: 4/═════════════════════════════════════════════════════════════════»\n",
       "                                                                      »\n",
       "«     ┌─────────┐\n",
       "«q_0: ┤ Rz(π/2) ├\n",
       "«     ├─────────┤\n",
       "«q_1: ┤ Rz(π/2) ├\n",
       "«     ├─────────┤\n",
       "«q_2: ┤ Rz(π/2) ├\n",
       "«     ├─────────┤\n",
       "«q_3: ┤ Rz(π/2) ├\n",
       "«     └─────────┘\n",
       "«c: 4/═══════════\n",
       "«                "
      ]
     },
     "execution_count": 15,
     "metadata": {},
     "output_type": "execute_result"
    }
   ],
   "source": [
    "#Define in this box the parameters for the anzats\n",
    "import numpy as np\n",
    "\n",
    "#you may define here the requsted parameters as you'd like\n",
    "thetas = np.array([0,0,0,0,np.pi/2,np.pi/2,np.pi/2,np.pi/2])\n",
    "phis = np.array([np.pi,np.pi,np.pi,np.pi])\n",
    "\n",
    "#you may define here the requested number of iterations D1 and D2 as described in Fig.1 of Subspace-search variational quantum\n",
    "#eigensolver for excited states. \n",
    "D1 = 1\n",
    "D2 = 1\n",
    "\n",
    "qc = item2_copy.anzats_circ(thetas,phis,D1,D2)\n",
    "qc.draw()"
   ]
  },
  {
   "cell_type": "code",
   "execution_count": 26,
   "id": "88e2dcaa",
   "metadata": {},
   "outputs": [
    {
     "name": "stdout",
     "output_type": "stream",
     "text": [
      "[[1. 0. 0. 0.]\n",
      " [0. 1. 0. 0.]\n",
      " [0. 0. 1. 0.]\n",
      " [0. 0. 0. 1.]]\n",
      "[[1. 0. 0. 0.]\n",
      " [0. 1. 0. 0.]]\n"
     ]
    }
   ],
   "source": [
    "def get_k_basis(k, n):\n",
    "    full_basis = np.identity(n)\n",
    "    return full_basis[:k]\n",
    "\n",
    "print(np.identity(4))\n",
    "print(get_k_basis(2,4))"
   ]
  },
  {
   "cell_type": "code",
   "execution_count": 27,
   "id": "b33ab8c9",
   "metadata": {},
   "outputs": [],
   "source": [
    "from qiskit import assemble, Aer\n",
    "import math\n",
    "\n",
    "def get_cost_function(params, basis_of_sub_space, D1, D2, hamiltonian):\n",
    "    cost = 0\n",
    "    for state_vector in basis_of_sub_space:\n",
    "        quatnum_circut = item2_copy.anzats_circ(theta[0:8], theta[8:], D1, D2)\n",
    "        quatnum_circut.initialize(state_vector)\n",
    "        print(quatnum_circut.draw())\n",
    "        \n",
    "        qobj = assemble(quatnum_circut)\n",
    "        state = backend.run(qobj).result().get_statevector()\n",
    "        print(state)\n",
    "        \n",
    "        dagger_state = np.matrix(state)\n",
    "        state = dagger_state.getH()\n",
    "        state = np.array(state)\n",
    "        dagger_state = np.array(dagger_state)\n",
    "        print(\"--- state vectors now: ---\")\n",
    "        print(state)\n",
    "        print(dagger_state)\n",
    "        print(\"--- state vectors ends. ---\")\n",
    "        \n",
    "        product = np.matmul(Ham, state)\n",
    "        product = np.matmul(dagger_state, product)\n",
    "\n",
    "        cost += product\n",
    "        return cost"
   ]
  },
  {
   "cell_type": "code",
   "execution_count": 28,
   "id": "2390f5dc",
   "metadata": {
    "scrolled": true
   },
   "outputs": [
    {
     "name": "stdout",
     "output_type": "stream",
     "text": [
      "                           ░ ┌───────┐┌───────┐          ░ ┌───────┐┌───────┐»\n",
      "q_0: ──────────────────────░─┤ Rx(0) ├┤ Rz(0) ├─■────────░─┤ Rx(0) ├┤ Rz(0) ├»\n",
      "                           ░ ├───────┤├───────┤ │        ░ ├───────┤├───────┤»\n",
      "q_1: ──────────────────────░─┤ Rx(0) ├┤ Rz(0) ├─■──■─────░─┤ Rx(0) ├┤ Rz(0) ├»\n",
      "     ┌───────┐┌───────┐    ░ ├───────┤├───────┤    │     ░ ├───────┤├───────┤»\n",
      "q_2: ┤ Rx(0) ├┤ Rz(0) ├─■──░─┤ Rx(0) ├┤ Rz(0) ├────■──■──░─┤ Rx(0) ├┤ Rz(0) ├»\n",
      "     ├───────┤├───────┤ │  ░ ├───────┤├───────┤       │  ░ ├───────┤├───────┤»\n",
      "q_3: ┤ Rx(0) ├┤ Rz(0) ├─■──░─┤ Rx(0) ├┤ Rz(0) ├───────■──░─┤ Rx(0) ├┤ Rz(0) ├»\n",
      "     └───────┘└───────┘    ░ └───────┘└───────┘          ░ └───────┘└───────┘»\n",
      "c: 4/════════════════════════════════════════════════════════════════════════»\n",
      "                                                                             »\n",
      "«     ┌──────────────────────────────────────────────┐\n",
      "«q_0: ┤0                                             ├\n",
      "«     │                                              │\n",
      "«q_1: ┤1                                             ├\n",
      "«     │  Initialize(1,0,0,0,0,0,0,0,0,0,0,0,0,0,0,0) │\n",
      "«q_2: ┤2                                             ├\n",
      "«     │                                              │\n",
      "«q_3: ┤3                                             ├\n",
      "«     └──────────────────────────────────────────────┘\n",
      "«c: 4/════════════════════════════════════════════════\n",
      "«                                                     \n"
     ]
    },
    {
     "ename": "QiskitError",
     "evalue": "'No statevector for experiment \"None\"'",
     "output_type": "error",
     "traceback": [
      "\u001b[1;31m---------------------------------------------------------------------------\u001b[0m",
      "\u001b[1;31mKeyError\u001b[0m                                  Traceback (most recent call last)",
      "File \u001b[1;32m~\\anaconda3\\envs\\Qiskitenv\\lib\\site-packages\\qiskit\\result\\result.py:325\u001b[0m, in \u001b[0;36mResult.get_statevector\u001b[1;34m(self, experiment, decimals)\u001b[0m\n\u001b[0;32m    323\u001b[0m \u001b[38;5;28;01mtry\u001b[39;00m:\n\u001b[0;32m    324\u001b[0m     \u001b[38;5;28;01mreturn\u001b[39;00m postprocess\u001b[38;5;241m.\u001b[39mformat_statevector(\n\u001b[1;32m--> 325\u001b[0m         \u001b[38;5;28;43mself\u001b[39;49m\u001b[38;5;241;43m.\u001b[39;49m\u001b[43mdata\u001b[49m\u001b[43m(\u001b[49m\u001b[43mexperiment\u001b[49m\u001b[43m)\u001b[49m\u001b[43m[\u001b[49m\u001b[38;5;124;43m\"\u001b[39;49m\u001b[38;5;124;43mstatevector\u001b[39;49m\u001b[38;5;124;43m\"\u001b[39;49m\u001b[43m]\u001b[49m, decimals\u001b[38;5;241m=\u001b[39mdecimals\n\u001b[0;32m    326\u001b[0m     )\n\u001b[0;32m    327\u001b[0m \u001b[38;5;28;01mexcept\u001b[39;00m \u001b[38;5;167;01mKeyError\u001b[39;00m \u001b[38;5;28;01mas\u001b[39;00m ex:\n",
      "\u001b[1;31mKeyError\u001b[0m: 'statevector'",
      "\nThe above exception was the direct cause of the following exception:\n",
      "\u001b[1;31mQiskitError\u001b[0m                               Traceback (most recent call last)",
      "Input \u001b[1;32mIn [28]\u001b[0m, in \u001b[0;36m<cell line: 3>\u001b[1;34m()\u001b[0m\n\u001b[0;32m      1\u001b[0m theta \u001b[38;5;241m=\u001b[39m np\u001b[38;5;241m.\u001b[39mzeros(\u001b[38;5;241m12\u001b[39m)\n\u001b[0;32m      2\u001b[0m basis \u001b[38;5;241m=\u001b[39m get_k_basis(\u001b[38;5;241m4\u001b[39m,\u001b[38;5;241m16\u001b[39m)\n\u001b[1;32m----> 3\u001b[0m target_func \u001b[38;5;241m=\u001b[39m \u001b[43mget_cost_function\u001b[49m\u001b[43m(\u001b[49m\u001b[43mtheta\u001b[49m\u001b[43m,\u001b[49m\u001b[43m \u001b[49m\u001b[43mbasis\u001b[49m\u001b[43m,\u001b[49m\u001b[43m \u001b[49m\u001b[38;5;241;43m1\u001b[39;49m\u001b[43m,\u001b[49m\u001b[43m \u001b[49m\u001b[38;5;241;43m1\u001b[39;49m\u001b[43m,\u001b[49m\u001b[43m \u001b[49m\u001b[43mnp\u001b[49m\u001b[38;5;241;43m.\u001b[39;49m\u001b[43midentity\u001b[49m\u001b[43m(\u001b[49m\u001b[38;5;241;43m16\u001b[39;49m\u001b[43m)\u001b[49m\u001b[43m)\u001b[49m\n\u001b[0;32m      4\u001b[0m \u001b[38;5;28mprint\u001b[39m(\u001b[38;5;124m\"\u001b[39m\u001b[38;5;124mtarget func:\u001b[39m\u001b[38;5;124m\"\u001b[39m)\n\u001b[0;32m      5\u001b[0m \u001b[38;5;28mprint\u001b[39m(target_func)\n",
      "Input \u001b[1;32mIn [27]\u001b[0m, in \u001b[0;36mget_cost_function\u001b[1;34m(parameters, basis_of_sub_space, D1, D2, hamiltonian)\u001b[0m\n\u001b[0;32m      9\u001b[0m \u001b[38;5;28mprint\u001b[39m(quatnum_circut\u001b[38;5;241m.\u001b[39mdraw())\n\u001b[0;32m     11\u001b[0m qobj \u001b[38;5;241m=\u001b[39m assemble(quatnum_circut)\n\u001b[1;32m---> 12\u001b[0m state \u001b[38;5;241m=\u001b[39m \u001b[43mbackend\u001b[49m\u001b[38;5;241;43m.\u001b[39;49m\u001b[43mrun\u001b[49m\u001b[43m(\u001b[49m\u001b[43mqobj\u001b[49m\u001b[43m)\u001b[49m\u001b[38;5;241;43m.\u001b[39;49m\u001b[43mresult\u001b[49m\u001b[43m(\u001b[49m\u001b[43m)\u001b[49m\u001b[38;5;241;43m.\u001b[39;49m\u001b[43mget_statevector\u001b[49m\u001b[43m(\u001b[49m\u001b[43m)\u001b[49m\n\u001b[0;32m     13\u001b[0m \u001b[38;5;28mprint\u001b[39m(state)\n\u001b[0;32m     15\u001b[0m dagger_state \u001b[38;5;241m=\u001b[39m np\u001b[38;5;241m.\u001b[39mmatrix(state)\n",
      "File \u001b[1;32m~\\anaconda3\\envs\\Qiskitenv\\lib\\site-packages\\qiskit\\result\\result.py:328\u001b[0m, in \u001b[0;36mResult.get_statevector\u001b[1;34m(self, experiment, decimals)\u001b[0m\n\u001b[0;32m    324\u001b[0m     \u001b[38;5;28;01mreturn\u001b[39;00m postprocess\u001b[38;5;241m.\u001b[39mformat_statevector(\n\u001b[0;32m    325\u001b[0m         \u001b[38;5;28mself\u001b[39m\u001b[38;5;241m.\u001b[39mdata(experiment)[\u001b[38;5;124m\"\u001b[39m\u001b[38;5;124mstatevector\u001b[39m\u001b[38;5;124m\"\u001b[39m], decimals\u001b[38;5;241m=\u001b[39mdecimals\n\u001b[0;32m    326\u001b[0m     )\n\u001b[0;32m    327\u001b[0m \u001b[38;5;28;01mexcept\u001b[39;00m \u001b[38;5;167;01mKeyError\u001b[39;00m \u001b[38;5;28;01mas\u001b[39;00m ex:\n\u001b[1;32m--> 328\u001b[0m     \u001b[38;5;28;01mraise\u001b[39;00m QiskitError(\u001b[38;5;124mf\u001b[39m\u001b[38;5;124m'\u001b[39m\u001b[38;5;124mNo statevector for experiment \u001b[39m\u001b[38;5;124m\"\u001b[39m\u001b[38;5;132;01m{\u001b[39;00m\u001b[38;5;28mrepr\u001b[39m(experiment)\u001b[38;5;132;01m}\u001b[39;00m\u001b[38;5;124m\"\u001b[39m\u001b[38;5;124m'\u001b[39m) \u001b[38;5;28;01mfrom\u001b[39;00m \u001b[38;5;21;01mex\u001b[39;00m\n",
      "\u001b[1;31mQiskitError\u001b[0m: 'No statevector for experiment \"None\"'"
     ]
    }
   ],
   "source": [
    "theta = np.zeros(12)\n",
    "basis = get_k_basis(4,16)\n",
    "target_func = get_cost_function(theta, basis, 1, 1, np.identity(16))\n",
    "print(\"target func:\")\n",
    "print(target_func)"
   ]
  },
  {
   "cell_type": "code",
   "execution_count": 4,
   "id": "7df12089",
   "metadata": {},
   "outputs": [
    {
     "ename": "ImportError",
     "evalue": "cannot import name 'item2' from 'item2' (unknown location)",
     "output_type": "error",
     "traceback": [
      "\u001b[1;31m---------------------------------------------------------------------------\u001b[0m",
      "\u001b[1;31mImportError\u001b[0m                               Traceback (most recent call last)",
      "Input \u001b[1;32mIn [4]\u001b[0m, in \u001b[0;36m<cell line: 9>\u001b[1;34m()\u001b[0m\n\u001b[0;32m      6\u001b[0m     sys\u001b[38;5;241m.\u001b[39mpath\u001b[38;5;241m.\u001b[39mappend(module_path)\n\u001b[0;32m      7\u001b[0m     \u001b[38;5;28mprint\u001b[39m(sys\u001b[38;5;241m.\u001b[39mpath)\n\u001b[1;32m----> 9\u001b[0m \u001b[38;5;28;01mfrom\u001b[39;00m \u001b[38;5;21;01mitem2\u001b[39;00m \u001b[38;5;28;01mimport\u001b[39;00m item2\n",
      "\u001b[1;31mImportError\u001b[0m: cannot import name 'item2' from 'item2' (unknown location)"
     ]
    }
   ],
   "source": [
    "import sys\n",
    "import os\n",
    "\n",
    "module_path = os.path.abspath(os.path.join('..'))\n",
    "if module_path not in sys.path:\n",
    "    sys.path.append(module_path)\n",
    "    print(sys.path)\n",
    "\n",
    "from item2 import item2"
   ]
  },
  {
   "cell_type": "code",
   "execution_count": null,
   "id": "7f60916f",
   "metadata": {},
   "outputs": [],
   "source": []
  }
 ],
 "metadata": {
  "kernelspec": {
   "display_name": "Qiskitenv",
   "language": "python",
   "name": "qiskitenv"
  },
  "language_info": {
   "codemirror_mode": {
    "name": "ipython",
    "version": 3
   },
   "file_extension": ".py",
   "mimetype": "text/x-python",
   "name": "python",
   "nbconvert_exporter": "python",
   "pygments_lexer": "ipython3",
   "version": "3.8.13"
  }
 },
 "nbformat": 4,
 "nbformat_minor": 5
}
