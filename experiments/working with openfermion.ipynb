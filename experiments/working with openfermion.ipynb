{
 "cells": [
  {
   "cell_type": "code",
   "execution_count": 1,
   "id": "f6535d36",
   "metadata": {},
   "outputs": [
    {
     "ename": "ModuleNotFoundError",
     "evalue": "No module named 'openfermion'",
     "output_type": "error",
     "traceback": [
      "\u001b[1;31m---------------------------------------------------------------------------\u001b[0m",
      "\u001b[1;31mModuleNotFoundError\u001b[0m                       Traceback (most recent call last)",
      "Input \u001b[1;32mIn [1]\u001b[0m, in \u001b[0;36m<cell line: 1>\u001b[1;34m()\u001b[0m\n\u001b[1;32m----> 1\u001b[0m \u001b[38;5;28;01mfrom\u001b[39;00m \u001b[38;5;21;01mopenfermion\u001b[39;00m\u001b[38;5;21;01m.\u001b[39;00m\u001b[38;5;21;01mhamiltonians\u001b[39;00m \u001b[38;5;28;01mimport\u001b[39;00m MolecularData\n\u001b[0;32m      3\u001b[0m \u001b[38;5;66;03m# Set parameters to make a simple molecule.\u001b[39;00m\n\u001b[0;32m      4\u001b[0m diatomic_bond_length \u001b[38;5;241m=\u001b[39m \u001b[38;5;241m.7414\u001b[39m\n",
      "\u001b[1;31mModuleNotFoundError\u001b[0m: No module named 'openfermion'"
     ]
    }
   ],
   "source": [
    "from openfermion.hamiltonians import MolecularData\n",
    "\n",
    "# Set parameters to make a simple molecule.\n",
    "diatomic_bond_length = .7414\n",
    "geometry = [('H', (0., 0., 0.)), ('H', (0., 0., diatomic_bond_length))]\n",
    "basis = 'sto-3g'\n",
    "multiplicity = 1\n",
    "charge = 0\n",
    "description = str(diatomic_bond_length)\n",
    "\n",
    "# Make molecule and print out a few interesting facts about it.\n",
    "molecule = MolecularData(geometry, basis, multiplicity,\n",
    "                         charge, description)\n",
    "print('Molecule has automatically generated name {}'.format(\n",
    "    molecule.name))\n",
    "print('Information about this molecule would be saved at:\\n{}\\n'.format(\n",
    "    molecule.filename))\n",
    "print('This molecule has {} atoms and {} electrons.'.format(\n",
    "    molecule.n_atoms, molecule.n_electrons))\n",
    "for atom, atomic_number in zip(molecule.atoms, molecule.protons):\n",
    "    print('Contains {} atom, which has {} protons.'.format(\n",
    "        atom, atomic_number))"
   ]
  },
  {
   "cell_type": "code",
   "execution_count": null,
   "id": "eb739faf",
   "metadata": {},
   "outputs": [],
   "source": []
  }
 ],
 "metadata": {
  "kernelspec": {
   "display_name": "Python (QIS_ENV)",
   "language": "python",
   "name": "qis_env"
  },
  "language_info": {
   "codemirror_mode": {
    "name": "ipython",
    "version": 3
   },
   "file_extension": ".py",
   "mimetype": "text/x-python",
   "name": "python",
   "nbconvert_exporter": "python",
   "pygments_lexer": "ipython3",
   "version": "3.8.13"
  }
 },
 "nbformat": 4,
 "nbformat_minor": 5
}
