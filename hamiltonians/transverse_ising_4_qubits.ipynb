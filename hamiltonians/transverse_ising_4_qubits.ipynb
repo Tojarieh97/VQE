{
 "cells": [
  {
   "cell_type": "code",
   "execution_count": 1,
   "id": "8af95867",
   "metadata": {},
   "outputs": [],
   "source": [
    "#TODO: change the a_i and J_ij params into random values\n",
    "from qiskit.opflow import X, Z, I, H\n",
    "\n",
    "\n",
    "H_transverse_ising = 0.5*((I^I^I^X) + (I^I^X^I) + (I^X^I^I) + (X^I^I^I) + \\\n",
    "                          (Z^Z^I^I) + (Z^I^Z^I) + (Z^I^I^Z) + (I^Z^Z^I) + \\\n",
    "                          (I^Z^I^Z) + (I^I^Z^Z))\n"
   ]
  }
 ],
 "metadata": {
  "kernelspec": {
   "display_name": "Qiskitenv",
   "language": "python",
   "name": "qiskitenv"
  },
  "language_info": {
   "codemirror_mode": {
    "name": "ipython",
    "version": 3
   },
   "file_extension": ".py",
   "mimetype": "text/x-python",
   "name": "python",
   "nbconvert_exporter": "python",
   "pygments_lexer": "ipython3",
   "version": "3.8.13"
  }
 },
 "nbformat": 4,
 "nbformat_minor": 5
}
