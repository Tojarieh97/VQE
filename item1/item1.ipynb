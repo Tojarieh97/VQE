{
 "cells": [
  {
   "cell_type": "code",
   "execution_count": null,
   "id": "e801812c",
   "metadata": {},
   "outputs": [],
   "source": [
    "from qiskit.algorithms import VQE"
   ]
  },
  {
   "cell_type": "markdown",
   "id": "ec3f5cb6",
   "metadata": {},
   "source": [
    "### Simulator Backend"
   ]
  },
  {
   "cell_type": "code",
   "execution_count": null,
   "id": "0575c7f9",
   "metadata": {},
   "outputs": [],
   "source": [
    "from qiskit import Aer\n",
    "from qiskit.utils import QuantumInstance, algorithm_globals\n",
    "\n",
    "seed = 50\n",
    "algorithm_globals.random_seed = seed\n",
    "\n",
    "backend = Aer.get_backend('qasm_simulator')\n",
    "quantum_instance = QuantumInstance(backend=backend, shots=800,  seed_transpiler=seed, seed_simulator=seed)"
   ]
  },
  {
   "cell_type": "markdown",
   "id": "54d51a5a",
   "metadata": {},
   "source": [
    "### BFGS Optimizer"
   ]
  },
  {
   "cell_type": "code",
   "execution_count": null,
   "id": "b0f4dba0",
   "metadata": {},
   "outputs": [],
   "source": [
    "from qiskit.algorithms.optimizers import L_BFGS_B\n",
    "\n",
    "bfgs_optimizer = L_BFGS_B(maxiter=60)"
   ]
  },
  {
   "cell_type": "markdown",
   "id": "c428ccf8",
   "metadata": {},
   "source": [
    "### Transverse Ising Model Hamiltonian Implemitation"
   ]
  },
  {
   "cell_type": "code",
   "execution_count": null,
   "id": "d149a99f",
   "metadata": {},
   "outputs": [],
   "source": [
    "import numpy as np\n",
    "from qiskit.opflow import X, Z, I\n",
    "\n",
    "a_1 = np.random.random_sample()\n",
    "a_2 = np.random.random_sample()\n",
    "J_21 = np.random.random_sample()\n",
    "\n",
    "H_transverse_ising = a_1*(I^X) + a_2*(X^I) + J_21*(Z^Z)\n",
    "print(\"========== Transverse Ising Model Hamiltonian for Two Qubits ==========\\n\")\n",
    "print(H_transverse_ising.to_matrix())\n",
    "print()"
   ]
  },
  {
   "cell_type": "markdown",
   "id": "4c806cd7",
   "metadata": {},
   "source": [
    "### Molecular Hamiltonian"
   ]
  },
  {
   "cell_type": "code",
   "execution_count": null,
   "id": "ceb63f5d",
   "metadata": {},
   "outputs": [],
   "source": [
    "H2_molecule_Hamiltonian = -0.5053051899926562*(I^I) + \\\n",
    "                            -0.3277380754984016*(Z^I) + \\\n",
    "                            0.15567463610622564*(Z^Z) + \\\n",
    "                            -0.3277380754984016*(I^Z)\n",
    "print(\"========== H2 Molecule Hamiltonian for Two Qubits ==========\\n\")\n",
    "print(H2_molecule_Hamiltonian.to_matrix())\n",
    "print()"
   ]
  },
  {
   "cell_type": "markdown",
   "id": "346815c9",
   "metadata": {},
   "source": [
    "### Minimum Eigenvalue Computation"
   ]
  },
  {
   "cell_type": "code",
   "execution_count": 29,
   "id": "c8e4dc2f",
   "metadata": {},
   "outputs": [],
   "source": [
    "from qiskit.circuit.library import EfficientSU2\n",
    "\n",
    "def minimum_eigenvalue_by_vqe(num_qubits, ansatz_entanglement, optimizer, quantum_instance, hamiltonian):\n",
    "    ansatz = EfficientSU2(num_qubits=num_qubits, entanglement=entanglement)\n",
    "    vqe = VQE(ansatz, optimizer, quantum_instance=quantum_instance)\n",
    "    result = vqe.compute_minimum_eigenvalue(hamiltonian)\n",
    "    print(result)"
   ]
  },
  {
   "cell_type": "markdown",
   "id": "f0b8c3cd",
   "metadata": {},
   "source": [
    "### VQE with Transverse Ising Model Hamiltonian + LINEAR Entangelment Ansatz "
   ]
  },
  {
   "cell_type": "code",
   "execution_count": 38,
   "id": "77e55604",
   "metadata": {
    "scrolled": true
   },
   "outputs": [
    {
     "name": "stdout",
     "output_type": "stream",
     "text": [
      "{   'aux_operator_eigenvalues': None,\n",
      "    'cost_function_evals': 17,\n",
      "    'eigenstate': {   '00': 0.21505813167606566,\n",
      "                      '01': 0.7219764539096826,\n",
      "                      '10': 0.5159941860137573,\n",
      "                      '11': 0.4077376607575023},\n",
      "    'eigenvalue': (-0.35241326745684+0j),\n",
      "    'optimal_parameters': {   ParameterVectorElement(θ[7]): 0.3492044015231808,\n",
      "                              ParameterVectorElement(θ[13]): -2.355208090379098,\n",
      "                              ParameterVectorElement(θ[12]): -1.0778415392666831,\n",
      "                              ParameterVectorElement(θ[15]): 3.04466447998374,\n",
      "                              ParameterVectorElement(θ[14]): -2.441282637701142,\n",
      "                              ParameterVectorElement(θ[0]): 1.8059300346120386,\n",
      "                              ParameterVectorElement(θ[1]): 2.096506260511955,\n",
      "                              ParameterVectorElement(θ[2]): 0.3009926003778922,\n",
      "                              ParameterVectorElement(θ[8]): -0.6135060278382625,\n",
      "                              ParameterVectorElement(θ[9]): -1.470480263202383,\n",
      "                              ParameterVectorElement(θ[10]): 3.0579150775698114,\n",
      "                              ParameterVectorElement(θ[11]): -0.6451721220067017,\n",
      "                              ParameterVectorElement(θ[4]): -1.6535235222677882,\n",
      "                              ParameterVectorElement(θ[3]): 2.9747684045650127,\n",
      "                              ParameterVectorElement(θ[6]): -2.7330217992033035,\n",
      "                              ParameterVectorElement(θ[5]): 0.9231465915914692},\n",
      "    'optimal_point': array([ 1.80593003,  2.09650626,  0.3009926 ,  2.9747684 , -1.65352352,\n",
      "        0.92314659, -2.7330218 ,  0.3492044 , -0.61350603, -1.47048026,\n",
      "        3.05791508, -0.64517212, -1.07784154, -2.35520809, -2.44128264,\n",
      "        3.04466448]),\n",
      "    'optimal_value': -0.35241326745684,\n",
      "    'optimizer_evals': None,\n",
      "    'optimizer_time': 0.13575387001037598}\n"
     ]
    }
   ],
   "source": [
    "num_qubits = 2\n",
    "entanglement = \"linear\"\n",
    "\n",
    "minimum_eigenvalue_by_vqe(num_qubits, entanglement, bfgs_optimizer, quantum_instance, H_transverse_ising)"
   ]
  },
  {
   "cell_type": "markdown",
   "id": "5a47c291",
   "metadata": {},
   "source": [
    "### VQE with Transverse Ising Model Hamiltonian + FULL Entangelment Ansatz "
   ]
  },
  {
   "cell_type": "code",
   "execution_count": 39,
   "id": "ef157d27",
   "metadata": {},
   "outputs": [
    {
     "name": "stdout",
     "output_type": "stream",
     "text": [
      "{   'aux_operator_eigenvalues': None,\n",
      "    'cost_function_evals': 17,\n",
      "    'eigenstate': {   '00': 0.229128784747792,\n",
      "                      '01': 0.6072478900745559,\n",
      "                      '10': 0.4472135954999579,\n",
      "                      '11': 0.6154266812545586},\n",
      "    'eigenvalue': (-0.18523010091379846+0j),\n",
      "    'optimal_parameters': {   ParameterVectorElement(θ[8]): -1.6599564518556666,\n",
      "                              ParameterVectorElement(θ[9]): -1.5974216012656661,\n",
      "                              ParameterVectorElement(θ[12]): 1.707431253698691,\n",
      "                              ParameterVectorElement(θ[6]): 1.2975349445689135,\n",
      "                              ParameterVectorElement(θ[13]): -0.16906297609226462,\n",
      "                              ParameterVectorElement(θ[11]): -1.0576319213534093,\n",
      "                              ParameterVectorElement(θ[14]): 1.761908415504708,\n",
      "                              ParameterVectorElement(θ[3]): 0.6264252531360546,\n",
      "                              ParameterVectorElement(θ[7]): -2.7557541686727918,\n",
      "                              ParameterVectorElement(θ[4]): -0.5012478517020038,\n",
      "                              ParameterVectorElement(θ[2]): -3.0468410814268387,\n",
      "                              ParameterVectorElement(θ[15]): -2.3570554401623167,\n",
      "                              ParameterVectorElement(θ[0]): 0.49599171969357725,\n",
      "                              ParameterVectorElement(θ[5]): -0.7933722525536382,\n",
      "                              ParameterVectorElement(θ[1]): 2.4635904347705457,\n",
      "                              ParameterVectorElement(θ[10]): -0.3228894360242789},\n",
      "    'optimal_point': array([ 0.49599172,  2.46359043, -3.04684108,  0.62642525, -0.50124785,\n",
      "       -0.79337225,  1.29753494, -2.75575417, -1.65995645, -1.5974216 ,\n",
      "       -0.32288944, -1.05763192,  1.70743125, -0.16906298,  1.76190842,\n",
      "       -2.35705544]),\n",
      "    'optimal_value': -0.18523010091379846,\n",
      "    'optimizer_evals': None,\n",
      "    'optimizer_time': 0.14139628410339355}\n"
     ]
    }
   ],
   "source": [
    "num_qubits = 2\n",
    "entanglement = \"full\"\n",
    "\n",
    "minimum_eigenvalue_by_vqe(num_qubits, entanglement, bfgs_optimizer, quantum_instance, H_transverse_ising)"
   ]
  },
  {
   "cell_type": "markdown",
   "id": "c74cb5fe",
   "metadata": {},
   "source": [
    "### VQE with H2 Molecule Hamiltonian + LINEAR Entangelment Ansatz "
   ]
  },
  {
   "cell_type": "code",
   "execution_count": 40,
   "id": "cbbf59e4",
   "metadata": {},
   "outputs": [
    {
     "name": "stdout",
     "output_type": "stream",
     "text": [
      "{   'aux_operator_eigenvalues': None,\n",
      "    'cost_function_evals': 17,\n",
      "    'eigenstate': {   '00': 0.4227883631321941,\n",
      "                      '01': 0.698212002188447,\n",
      "                      '10': 0.4183300132670378,\n",
      "                      '11': 0.3984344362627307},\n",
      "    'eigenvalue': (-0.5690089697471157+0j),\n",
      "    'optimal_parameters': {   ParameterVectorElement(θ[6]): -1.4501692941078987,\n",
      "                              ParameterVectorElement(θ[7]): -0.3048588234950933,\n",
      "                              ParameterVectorElement(θ[14]): -0.17440456723429376,\n",
      "                              ParameterVectorElement(θ[5]): 0.6851562949691838,\n",
      "                              ParameterVectorElement(θ[8]): 2.4773329259547365,\n",
      "                              ParameterVectorElement(θ[10]): -3.1190899005737527,\n",
      "                              ParameterVectorElement(θ[9]): 2.2778742084993278,\n",
      "                              ParameterVectorElement(θ[12]): 2.698524354404043,\n",
      "                              ParameterVectorElement(θ[11]): 0.08824890382901796,\n",
      "                              ParameterVectorElement(θ[13]): -0.9447326454158476,\n",
      "                              ParameterVectorElement(θ[15]): -0.8159227586005264,\n",
      "                              ParameterVectorElement(θ[4]): -2.030193858446075,\n",
      "                              ParameterVectorElement(θ[1]): 1.2990943966546373,\n",
      "                              ParameterVectorElement(θ[3]): -2.91079863589501,\n",
      "                              ParameterVectorElement(θ[2]): 1.1532462895125706,\n",
      "                              ParameterVectorElement(θ[0]): 0.4953014387346655},\n",
      "    'optimal_point': array([ 0.49530144,  1.2990944 ,  1.15324629, -2.91079864, -2.03019386,\n",
      "        0.68515629, -1.45016929, -0.30485882,  2.47733293,  2.27787421,\n",
      "       -3.1190899 ,  0.0882489 ,  2.69852435, -0.94473265, -0.17440457,\n",
      "       -0.81592276]),\n",
      "    'optimal_value': -0.5690089697471157,\n",
      "    'optimizer_evals': None,\n",
      "    'optimizer_time': 0.07510161399841309}\n"
     ]
    }
   ],
   "source": [
    "num_qubits = 2\n",
    "entanglement = \"linear\"\n",
    "\n",
    "minimum_eigenvalue_by_vqe(num_qubits, entanglement, bfgs_optimizer, quantum_instance, H2_molecule_Hamiltonian)"
   ]
  },
  {
   "cell_type": "markdown",
   "id": "48ccb19e",
   "metadata": {},
   "source": [
    "### VQE with H2 Molecule Hamiltonian + FULL Entangelment Ansatz "
   ]
  },
  {
   "cell_type": "code",
   "execution_count": 41,
   "id": "525f6c6e",
   "metadata": {},
   "outputs": [
    {
     "name": "stdout",
     "output_type": "stream",
     "text": [
      "{   'aux_operator_eigenvalues': None,\n",
      "    'cost_function_evals': 17,\n",
      "    'eigenstate': {   '00': 0.2872281323269014,\n",
      "                      '01': 0.4046603514059661,\n",
      "                      '10': 0.7591113225344489,\n",
      "                      '11': 0.4213074886588179},\n",
      "    'eigenvalue': (-0.5177587809789482+0j),\n",
      "    'optimal_parameters': {   ParameterVectorElement(θ[11]): -1.7175272329641564,\n",
      "                              ParameterVectorElement(θ[14]): -2.976300463801502,\n",
      "                              ParameterVectorElement(θ[15]): -1.8895720649979129,\n",
      "                              ParameterVectorElement(θ[10]): 0.07511921447076064,\n",
      "                              ParameterVectorElement(θ[12]): 2.269051985389839,\n",
      "                              ParameterVectorElement(θ[13]): 3.0649187635514448,\n",
      "                              ParameterVectorElement(θ[0]): 1.9153294280769568,\n",
      "                              ParameterVectorElement(θ[9]): 2.244037268334507,\n",
      "                              ParameterVectorElement(θ[2]): 2.5423539340316097,\n",
      "                              ParameterVectorElement(θ[8]): -1.5413453043894576,\n",
      "                              ParameterVectorElement(θ[6]): 0.8296125311299618,\n",
      "                              ParameterVectorElement(θ[5]): -0.5092863604681925,\n",
      "                              ParameterVectorElement(θ[7]): -0.004264722799665499,\n",
      "                              ParameterVectorElement(θ[1]): -0.3795188261322777,\n",
      "                              ParameterVectorElement(θ[4]): -0.5376620311547495,\n",
      "                              ParameterVectorElement(θ[3]): -1.9417214600631498},\n",
      "    'optimal_point': array([ 1.91532943, -0.37951883,  2.54235393, -1.94172146, -0.53766203,\n",
      "       -0.50928636,  0.82961253, -0.00426472, -1.5413453 ,  2.24403727,\n",
      "        0.07511921, -1.71752723,  2.26905199,  3.06491876, -2.97630046,\n",
      "       -1.88957206]),\n",
      "    'optimal_value': -0.5177587809789482,\n",
      "    'optimizer_evals': None,\n",
      "    'optimizer_time': 0.1069953441619873}\n"
     ]
    }
   ],
   "source": [
    "num_qubits = 2\n",
    "entanglement = \"full\"\n",
    "\n",
    "minimum_eigenvalue_by_vqe(num_qubits, entanglement, bfgs_optimizer, quantum_instance, H2_molecule_Hamiltonian)"
   ]
  },
  {
   "cell_type": "code",
   "execution_count": null,
   "id": "9d9fcbb6",
   "metadata": {},
   "outputs": [],
   "source": []
  }
 ],
 "metadata": {
  "kernelspec": {
   "display_name": "Qiskitenv",
   "language": "python",
   "name": "qiskitenv"
  },
  "language_info": {
   "codemirror_mode": {
    "name": "ipython",
    "version": 3
   },
   "file_extension": ".py",
   "mimetype": "text/x-python",
   "name": "python",
   "nbconvert_exporter": "python",
   "pygments_lexer": "ipython3",
   "version": "3.8.13"
  }
 },
 "nbformat": 4,
 "nbformat_minor": 5
}
