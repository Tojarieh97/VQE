{
 "cells": [
  {
   "cell_type": "code",
   "execution_count": 6,
   "id": "6bc2734c",
   "metadata": {},
   "outputs": [],
   "source": [
    "from qiskit.opflow import X, Z, I, Y\n",
    "\n",
    "LiH_molecule_4_qubits = -7.49894690201071*(I^I^I^I) + \\\n",
    "-0.0029329964409502266*(X^X^Y^Y) + \\\n",
    "0.0029329964409502266*(X^Y^Y^X) + \\\n",
    "0.01291078027311749*(X^Z^X^I) + \\\n",
    "-0.0013743761078958677*(X^Z^X^Z) + \\\n",
    "0.011536413200774975*(X^I^X^I) + \\\n",
    "0.0029329964409502266*(Y^X^X^Y) + \\\n",
    "-0.0029329964409502266*(Y^Y^X^X) + \\\n",
    "0.01291078027311749*(Y^Z^Y^I) + \\\n",
    "-0.0013743761078958677*(Y^Z^Y^Z) + \\\n",
    "0.011536413200774975*(Y^I^Y^I) + \\\n",
    "0.16199475388004184*(Z^I^I^I) + \\\n",
    "0.011536413200774975*(Z^X^Z^X) + \\\n",
    "0.011536413200774975*(Z^Y^Z^Y) + \\\n",
    "0.12444770133137588*(Z^Z^I^I) + \\\n",
    "0.054130445793298836*(Z^I^Z^I) + \\\n",
    "0.05706344223424907*(Z^I^I^Z) + \\\n",
    "0.012910780273117487*(I^X^Z^X) + \\\n",
    "-0.0013743761078958677*(I^X^I^X) + \\\n",
    "0.012910780273117487*(I^Y^Z^Y) + \\\n",
    "-0.0013743761078958677*(I^Y^I^Y) + \\\n",
    "0.16199475388004186*(I^Z^I^I) + \\\n",
    "0.05706344223424907*(I^Z^Z^I) + \\\n",
    "0.054130445793298836*(I^Z^I^Z) + \\\n",
    "-0.013243698330265966*(I^I^Z^I) + \\\n",
    "0.08479609543670981*(I^I^Z^Z) + \\\n",
    "-0.013243698330265952*(I^I^I^Z) "
   ]
  },
  {
   "cell_type": "code",
   "execution_count": 7,
   "id": "a72f0c43",
   "metadata": {},
   "outputs": [],
   "source": [
    "#TODO: change the a_i and J_ij params into random values\n",
    "\n",
    "transverse_ising_4_qubits = 0.5*((I^I^I^X) + (I^I^X^I) + (I^X^I^I) + (X^I^I^I) + \\\n",
    "                          (Z^Z^I^I) + (Z^I^Z^I) + (Z^I^I^Z) + (I^Z^Z^I) + \\\n",
    "                          (I^Z^I^Z) + (I^I^Z^Z))"
   ]
  },
  {
   "cell_type": "code",
   "execution_count": 8,
   "id": "640f724c",
   "metadata": {},
   "outputs": [],
   "source": [
    "H2_molecule_Hamiltonian_4_qubits =  -0.8105479805373279 * (I^I^I^I) \\\n",
    "                                    + 0.1721839326191554 * (I^I^I^Z) \\\n",
    "                                    - 0.22575349222402372 * (I^I^Z^I) \\\n",
    "                                    + 0.17218393261915543 * (I^Z^I^I) \\\n",
    "                                    - 0.2257534922240237 * (Z^I^I^I) \\\n",
    "                                    + 0.12091263261776627 * (I^I^Z^Z) \\\n",
    "                                    + 0.16892753870087907 * (I^Z^I^Z) \\\n",
    "                                    + 0.045232799946057826 * (Y^Y^Y^Y) \\\n",
    "                                    + 0.045232799946057826 * (X^X^Y^Y) \\\n",
    "                                    + 0.045232799946057826 * (Y^Y^X^X) \\\n",
    "                                    + 0.045232799946057826 * (X^X^X^X) \\\n",
    "                                    + 0.1661454325638241 * (Z^I^I^Z) \\\n",
    "                                    + 0.1661454325638241 * (I^Z^Z^I) \\\n",
    "                                    + 0.17464343068300453 * (Z^I^Z^I) \\\n",
    "                                    + 0.12091263261776627 * (Z^Z^I^I)"
   ]
  }
 ],
 "metadata": {
  "kernelspec": {
   "display_name": "Qiskitenv",
   "language": "python",
   "name": "qiskitenv"
  },
  "language_info": {
   "codemirror_mode": {
    "name": "ipython",
    "version": 3
   },
   "file_extension": ".py",
   "mimetype": "text/x-python",
   "name": "python",
   "nbconvert_exporter": "python",
   "pygments_lexer": "ipython3",
   "version": "3.8.13"
  }
 },
 "nbformat": 4,
 "nbformat_minor": 5
}
