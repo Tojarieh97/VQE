{
 "cells": [
  {
   "cell_type": "code",
   "execution_count": 2,
   "id": "d8a222f6",
   "metadata": {},
   "outputs": [],
   "source": [
    "import numpy as np"
   ]
  },
  {
   "cell_type": "code",
   "execution_count": 4,
   "id": "23bfbf44",
   "metadata": {},
   "outputs": [],
   "source": [
    "def get_first_k_eigenvectors_from_n_computational_basis(k, n):\n",
    "    n_computational_basis = np.identity(n)\n",
    "    return n_computational_basis[:k]"
   ]
  },
  {
   "cell_type": "code",
   "execution_count": null,
   "id": "cdc9b707",
   "metadata": {},
   "outputs": [],
   "source": []
  }
 ],
 "metadata": {
  "kernelspec": {
   "display_name": "Qiskitenv",
   "language": "python",
   "name": "qiskitenv"
  },
  "language_info": {
   "codemirror_mode": {
    "name": "ipython",
    "version": 3
   },
   "file_extension": ".py",
   "mimetype": "text/x-python",
   "name": "python",
   "nbconvert_exporter": "python",
   "pygments_lexer": "ipython3",
   "version": "3.8.13"
  }
 },
 "nbformat": 4,
 "nbformat_minor": 5
}
