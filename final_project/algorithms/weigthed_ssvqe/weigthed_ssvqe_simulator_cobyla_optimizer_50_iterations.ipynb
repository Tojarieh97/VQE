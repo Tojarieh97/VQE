{
 "cells": [
  {
   "cell_type": "markdown",
   "id": "c4c77734",
   "metadata": {},
   "source": [
    "### Basic Imports"
   ]
  },
  {
   "cell_type": "code",
   "execution_count": 1,
   "id": "9431f6b7",
   "metadata": {},
   "outputs": [],
   "source": [
    "import nbimporter\n",
    "from typing import Dict, Tuple, List\n",
    "import numpy as np\n",
    "from tqdm import tqdm"
   ]
  },
  {
   "cell_type": "markdown",
   "id": "4ff98362",
   "metadata": {},
   "source": [
    "### Env Vars"
   ]
  },
  {
   "cell_type": "code",
   "execution_count": 2,
   "id": "9c7250c3",
   "metadata": {},
   "outputs": [],
   "source": [
    "QUBITS_NUM = 4 \n",
    "N = 16\n",
    "K = 4\n",
    "NUM_SHOTS = 1024\n",
    "NUM_ITERATIONS = 50\n",
    "\n",
    "w = 0.5\n",
    "\n",
    "approximated_energies = []"
   ]
  },
  {
   "cell_type": "markdown",
   "id": "6dcb0625",
   "metadata": {},
   "source": [
    "### Simulator Backend"
   ]
  },
  {
   "cell_type": "code",
   "execution_count": 3,
   "id": "8e287170",
   "metadata": {},
   "outputs": [],
   "source": [
    "from qiskit import Aer\n",
    "from qiskit.utils import QuantumInstance, algorithm_globals\n",
    "\n",
    "seed = 50\n",
    "algorithm_globals.random_seed = seed\n",
    "\n",
    "simulator_backend = Aer.get_backend('qasm_simulator')"
   ]
  },
  {
   "cell_type": "markdown",
   "id": "5cc189d2",
   "metadata": {},
   "source": [
    "### Optimizer"
   ]
  },
  {
   "cell_type": "code",
   "execution_count": 4,
   "id": "aea5f838",
   "metadata": {},
   "outputs": [],
   "source": [
    "from scipy.optimize import minimize"
   ]
  },
  {
   "cell_type": "markdown",
   "id": "8b33aa64",
   "metadata": {},
   "source": [
    "### K input states (computational basis)"
   ]
  },
  {
   "cell_type": "code",
   "execution_count": 5,
   "id": "fdd30a93",
   "metadata": {},
   "outputs": [],
   "source": [
    "from utiles import *"
   ]
  },
  {
   "cell_type": "code",
   "execution_count": 6,
   "id": "edf70318",
   "metadata": {},
   "outputs": [],
   "source": [
    "input_states = get_first_k_eigenvectors_from_n_computational_basis(K, N)"
   ]
  },
  {
   "cell_type": "markdown",
   "id": "6681d9cf",
   "metadata": {},
   "source": [
    "### Ansatz State"
   ]
  },
  {
   "cell_type": "code",
   "execution_count": 7,
   "id": "ed679eb5",
   "metadata": {},
   "outputs": [],
   "source": [
    "from ansatz_circuit_item2 import get_full_variational_quantum_circuit"
   ]
  },
  {
   "cell_type": "code",
   "execution_count": 8,
   "id": "e70a51fc",
   "metadata": {},
   "outputs": [],
   "source": [
    "init_circuit_params = {\n",
    "    \"thetas\": np.random.uniform(low=0, high=2*np.pi, size=8),\n",
    "    \"phis\": np.random.uniform(low=0, high=2*np.pi, size=4),\n",
    "    \"D1\": 2,\n",
    "    \"D2\": 6\n",
    "}"
   ]
  },
  {
   "cell_type": "code",
   "execution_count": 9,
   "id": "75e7bdcc",
   "metadata": {},
   "outputs": [],
   "source": [
    "def prepare_circuit_params(thetas) -> Dict:\n",
    "     return {\n",
    "    \"thetas\": thetas[4:],\n",
    "    \"phis\": thetas[:4],\n",
    "    \"D1\": 2,\n",
    "    \"D2\": 6\n",
    "     }"
   ]
  },
  {
   "cell_type": "code",
   "execution_count": 10,
   "id": "9ebdb4f8",
   "metadata": {},
   "outputs": [],
   "source": [
    "def get_ansatz_state(circuit_params, input_state):\n",
    "    circuit_params_with_input_state = {**circuit_params, \"input_state\": input_state}\n",
    "    return get_full_variational_quantum_circuit(**circuit_params_with_input_state)"
   ]
  },
  {
   "cell_type": "markdown",
   "id": "21777faa",
   "metadata": {},
   "source": [
    "## Expectation Value"
   ]
  },
  {
   "cell_type": "markdown",
   "id": "d320f1b6",
   "metadata": {},
   "source": [
    "### convert hamiltonian to pauli strings"
   ]
  },
  {
   "cell_type": "code",
   "execution_count": 11,
   "id": "56435355",
   "metadata": {},
   "outputs": [],
   "source": [
    "def transfrom_hamiltonian_into_pauli_strings(hamiltonian) -> List:\n",
    "    pauli_operators = hamiltonian.to_pauli_op().settings['oplist']\n",
    "    pauli_coeffs = list(map(lambda pauli_operator: pauli_operator.coeff, pauli_operators))\n",
    "    pauli_strings = list(map(lambda pauli_operator: pauli_operator.primitive, pauli_operators))\n",
    "    return pauli_coeffs, pauli_strings"
   ]
  },
  {
   "cell_type": "markdown",
   "id": "de5f75c3",
   "metadata": {},
   "source": [
    "### pauli string reduction to sigma_z's"
   ]
  },
  {
   "cell_type": "code",
   "execution_count": 12,
   "id": "347de6bb",
   "metadata": {},
   "outputs": [],
   "source": [
    "from qiskit.circuit.library.standard_gates import HGate, SGate\n",
    "from qiskit import QuantumCircuit, ClassicalRegister, QuantumRegister"
   ]
  },
  {
   "cell_type": "code",
   "execution_count": 13,
   "id": "dbbe79ef",
   "metadata": {},
   "outputs": [],
   "source": [
    "reducing_to_pauli_z_mapping = {\n",
    "    'I': 'I',\n",
    "    'Z': 'Z',\n",
    "    'X': 'Z',\n",
    "    'Y': 'Z'\n",
    "} "
   ]
  },
  {
   "cell_type": "code",
   "execution_count": 14,
   "id": "6f94927f",
   "metadata": {},
   "outputs": [],
   "source": [
    "def reduce_pauli_matrixes_into_sigma_z(pauli_string) -> str:\n",
    "    reduced_pauli_string = \"\"\n",
    "    for matrix_index in range(QUBITS_NUM):\n",
    "        pauli_matrix = str(pauli_string[matrix_index])\n",
    "        reduced_pauli_matrix = reducing_to_pauli_z_mapping[pauli_matrix]\n",
    "        reduced_pauli_string = reduced_pauli_matrix + reduced_pauli_string\n",
    "    \n",
    "    return reduced_pauli_string"
   ]
  },
  {
   "cell_type": "code",
   "execution_count": 15,
   "id": "e6f0562f",
   "metadata": {},
   "outputs": [],
   "source": [
    "def add_layer_of_gates_for_reducing_paulis_to_sigma_z(pauli_string, quantum_circuit):\n",
    "    quantum_registers = QuantumRegister(QUBITS_NUM, name=\"qubit\")\n",
    "    additional_circuit_layer = QuantumCircuit(quantum_registers)\n",
    "    \n",
    "    for quantum_register_index, pauli_matrix in enumerate(pauli_string):\n",
    "        if pauli_matrix == \"X\":\n",
    "            additional_circuit_layer.append(HGate(), [quantum_registers[quantum_register_index]])\n",
    "        if pauli_string == \"Y\":\n",
    "            additional_circuit_layer.append(HGate(), [quantum_registers[quantum_register_index]])\n",
    "            additional_circuit_layer.append(SGate(), [quantum_registers[quantum_register_index]])\n",
    "                \n",
    "    extended_quantum_circuit = quantum_circuit.compose(additional_circuit_layer)\n",
    "    return extended_quantum_circuit"
   ]
  },
  {
   "cell_type": "markdown",
   "id": "ce83fae9",
   "metadata": {},
   "source": [
    "### probabilities distribution"
   ]
  },
  {
   "cell_type": "code",
   "execution_count": 16,
   "id": "84e65e31",
   "metadata": {},
   "outputs": [],
   "source": [
    "def get_probability_distribution(counts: Dict) -> Dict:\n",
    "    proba_distribution = {state: (count / NUM_SHOTS) for state, count in counts.items()}\n",
    "    return proba_distribution\n",
    "\n",
    "def calculate_probabilities_of_measurments_in_computational_basis(quantum_state_circuit) -> Dict:\n",
    "    quantum_state_circuit.measure_all()\n",
    "    \n",
    "    transpiled_quantum_state_circuit = transpile(quantum_state_circuit, simulator_backend) \n",
    "    Qobj = assemble(transpiled_quantum_state_circuit)\n",
    "    result = simulator_backend.run(Qobj).result()\n",
    "    counts = result.get_counts(quantum_state_circuit)\n",
    "    \n",
    "    return get_probability_distribution(counts)"
   ]
  },
  {
   "cell_type": "markdown",
   "id": "b9286e5d",
   "metadata": {},
   "source": [
    "### Expectation value from probabilities"
   ]
  },
  {
   "cell_type": "code",
   "execution_count": 17,
   "id": "38a72356",
   "metadata": {},
   "outputs": [],
   "source": [
    "def sort_probas_dict_by_qubits_string_keys(proba_distribution: Dict) -> Dict:\n",
    "    return dict(sorted(proba_distribution.items()))\n",
    "\n",
    "def reset_power_of_minus_1(power_of_minus_1):\n",
    "    power_of_minus_1 = 0\n",
    "    return power_of_minus_1\n",
    "\n",
    "def convert_pauli_string_into_str(pauli_string) -> str:\n",
    "    return str(pauli_string)\n",
    "\n",
    "def calculate_expectation_value_of_pauli_string_by_measurments_probas(pauli_string, ansatz_circuit):\n",
    "    pauli_string_expectation_value = 0\n",
    "    power_of_minus_1 = 0\n",
    "    \n",
    "    pauli_string_str = convert_pauli_string_into_str(pauli_string)\n",
    "    extended_ansatz_circuit = add_layer_of_gates_for_reducing_paulis_to_sigma_z(pauli_string_str, ansatz_circuit)\n",
    "    probas_distribution = calculate_probabilities_of_measurments_in_computational_basis(extended_ansatz_circuit)\n",
    "    \n",
    "    reduced_pauli_string = reduce_pauli_matrixes_into_sigma_z(pauli_string)\n",
    "    sorted_probas_distribuition = sort_probas_dict_by_qubits_string_keys(probas_distribution)\n",
    "    for qubits_string, proba in sorted_probas_distribuition.items():\n",
    "        for string_index in range(QUBITS_NUM):\n",
    "            if(str(qubits_string[string_index])==\"1\" and str(pauli_string[string_index])==\"Z\"):\n",
    "                power_of_minus_1 += 1\n",
    "            \n",
    "        pauli_string_expectation_value += pow(-1, power_of_minus_1)*proba\n",
    "        power_of_minus_1 = reset_power_of_minus_1(power_of_minus_1)\n",
    "        \n",
    "    return pauli_string_expectation_value"
   ]
  },
  {
   "cell_type": "code",
   "execution_count": 18,
   "id": "c263be2b",
   "metadata": {},
   "outputs": [],
   "source": [
    "def get_expectation_value(ansatz_circuit, pauli_coeffs, pauli_strings):\n",
    "    total_expection_value = 0\n",
    "    \n",
    "    for pauli_coeff, pauli_string in zip(pauli_coeffs, pauli_strings):\n",
    "        total_expection_value += pauli_coeff*calculate_expectation_value_of_pauli_string_by_measurments_probas(\n",
    "                                                                                    pauli_string, ansatz_circuit)\n",
    "    \n",
    "    return total_expection_value"
   ]
  },
  {
   "cell_type": "markdown",
   "id": "a79fc302",
   "metadata": {},
   "source": [
    "## Objective Function"
   ]
  },
  {
   "cell_type": "code",
   "execution_count": 19,
   "id": "e3f4d330",
   "metadata": {},
   "outputs": [],
   "source": [
    "from qiskit import assemble, transpile\n",
    "\n",
    "def cost_function(thetas, hamiltonian):\n",
    "    circuit_params = prepare_circuit_params(thetas)\n",
    "    computational_eigenvectors = get_first_k_eigenvectors_from_n_computational_basis(K, N)\n",
    "    \n",
    "    pauli_coeffs, pauli_strings = transfrom_hamiltonian_into_pauli_strings(hamiltonian)\n",
    "    k_ansatz_state = get_ansatz_state(circuit_params, computational_eigenvectors[K-1])\n",
    "    \n",
    "    approximated_energey = get_expectation_value(k_ansatz_state, pauli_coeffs, pauli_strings)\n",
    "    insert_approximated_energy_to_list_of_all_approximated_energies(approximated_energey)\n",
    "    \n",
    "    L_w = w*approximated_energey\n",
    "    for j in range(K-1):\n",
    "        ansatz_state = get_ansatz_state(circuit_params, computational_eigenvectors[j])\n",
    "        L_w += get_expectation_value(ansatz_state, pauli_coeffs, pauli_strings)\n",
    "        \n",
    "    return L_w"
   ]
  },
  {
   "cell_type": "markdown",
   "id": "e8ac20b3",
   "metadata": {},
   "source": [
    "## Optimization"
   ]
  },
  {
   "cell_type": "code",
   "execution_count": 20,
   "id": "9b2663d2",
   "metadata": {},
   "outputs": [],
   "source": [
    "def get_optimal_thetas_of_ansatz_circuit_for_hamiltonian(hamiltonian):\n",
    "    initial_thetas = np.random.uniform(low=0, high=2*np.pi, size=12)\n",
    "    optimizer_result = minimize(cost_function,\n",
    "                                x0=initial_thetas,\n",
    "                                args=(hamiltonian),\n",
    "                                method=\"COBYLA\",\n",
    "                                options={\"disp\": True, \"maxiter\":NUM_ITERATIONS})\n",
    "    optimal_thetas = prepare_circuit_params(optimizer_result.x)\n",
    "    \n",
    "    return optimal_thetas"
   ]
  },
  {
   "cell_type": "code",
   "execution_count": 21,
   "id": "80c13445",
   "metadata": {},
   "outputs": [],
   "source": [
    "def get_approximated_eigenvalue_of_hamiltonian(hamiltonian):\n",
    "    optimal_thetas = get_optimal_thetas_of_ansatz_circuit_for_hamiltonian(hamiltonian)\n",
    "    print(optimal_thetas)\n",
    "    computational_eigenvectors = get_first_k_eigenvectors_from_n_computational_basis(K, N)\n",
    "    optimal_ansatz_state = get_ansatz_state(optimal_thetas, computational_eigenvectors[K-1])\n",
    "    \n",
    "    pauli_coeffs, pauli_strings = transfrom_hamiltonian_into_pauli_strings(hamiltonian)\n",
    "    approximated_eigenvalue = get_expectation_value(optimal_ansatz_state, pauli_coeffs, pauli_strings)\n",
    "\n",
    "    return approximated_eigenvalue"
   ]
  },
  {
   "cell_type": "markdown",
   "id": "7b410988",
   "metadata": {},
   "source": [
    "## Comparsion"
   ]
  },
  {
   "cell_type": "code",
   "execution_count": 22,
   "id": "6cbe0758",
   "metadata": {},
   "outputs": [],
   "source": [
    "from numpy import linalg as LA\n",
    "\n",
    "def get_approximation_error(exact_eigenvalue, approximated_eigenvalue):\n",
    "    return abs(abs(exact_eigenvalue)-abs(approximated_eigenvalue))/abs(exact_eigenvalue)"
   ]
  },
  {
   "cell_type": "code",
   "execution_count": 23,
   "id": "28b63147",
   "metadata": {},
   "outputs": [],
   "source": [
    "def get_k_exact_eigenvalue_of_hamiltonian(hamiltonian, k):\n",
    "    eigen_values = LA.eig(hamiltonian.to_matrix())[0]\n",
    "    print(sorted(eigen_values, reverse=True))\n",
    "    \n",
    "    return sorted(eigen_values,reverse=True)[k-1]"
   ]
  },
  {
   "cell_type": "code",
   "execution_count": 24,
   "id": "529a29d1",
   "metadata": {},
   "outputs": [],
   "source": [
    "def compare_exact_and_approximated_eigenvalue(hamiltonian, approximated_eigenvalue):\n",
    "    exact_eigenvalue = get_k_exact_eigenvalue_of_hamiltonian(hamiltonian, K)\n",
    "    print(\"Exact Eigenvalue:\")\n",
    "    print(exact_eigenvalue)\n",
    "    print(\"Approximated K Eigenvalues:\")\n",
    "    print(approximated_eigenvalue)\n",
    "\n",
    "    print(\"Approximation Error\")\n",
    "    print(get_approximation_error(exact_eigenvalue, approximated_eigenvalue))"
   ]
  },
  {
   "cell_type": "markdown",
   "id": "c1452964",
   "metadata": {},
   "source": [
    "## Visualization"
   ]
  },
  {
   "cell_type": "code",
   "execution_count": 25,
   "id": "5c4331c6",
   "metadata": {},
   "outputs": [],
   "source": [
    "def insert_approximated_energy_to_list_of_all_approximated_energies(energy):\n",
    "    approximated_energies.append(energy)"
   ]
  },
  {
   "cell_type": "code",
   "execution_count": 26,
   "id": "26026bbb",
   "metadata": {},
   "outputs": [],
   "source": [
    "import matplotlib.pyplot as plt\n",
    "\n",
    "def plot_convergence_of_optimization_process(approximated_energies, exact_eigenvalue, margin):\n",
    "    plt.title(\"convergence of optimization process to the exact eigenvalue\")\n",
    "    plt.margins(0, margin)\n",
    "    plt.plot(approximated_energies)\n",
    "    plt.axhline(y = exact_eigenvalue, color = 'r', linestyle = '-')\n",
    "    plt.xlabel(\"# of iterations\")\n",
    "    plt.ylabel(\"Energy\")\n",
    "    \n",
    "def plot_fidelity():\n",
    "    plt.plot(LiH_approximated_energies)\n",
    "    plt.xlabel(\"# of iterations\")\n",
    "    plt.ylabel(\"Energy\")"
   ]
  },
  {
   "cell_type": "markdown",
   "id": "2b442e22",
   "metadata": {},
   "source": [
    "## LiH Molecule 4 qubits"
   ]
  },
  {
   "cell_type": "code",
   "execution_count": 28,
   "id": "7d7c87c9",
   "metadata": {},
   "outputs": [],
   "source": [
    "from qiskit.opflow import X, Z, Y, I, H, S\n",
    "\n",
    "LiH_molecule_4_qubits = -7.49894690201071*(I^I^I^I) + \\\n",
    "-0.0029329964409502266*(X^X^Y^Y) + \\\n",
    "0.0029329964409502266*(X^Y^Y^X) + \\\n",
    "0.01291078027311749*(X^Z^X^I) + \\\n",
    "-0.0013743761078958677*(X^Z^X^Z) + \\\n",
    "0.011536413200774975*(X^I^X^I) + \\\n",
    "0.0029329964409502266*(Y^X^X^Y) + \\\n",
    "-0.0029329964409502266*(Y^Y^X^X) + \\\n",
    "0.01291078027311749*(Y^Z^Y^I) + \\\n",
    "-0.0013743761078958677*(Y^Z^Y^Z) + \\\n",
    "0.011536413200774975*(Y^I^Y^I) + \\\n",
    "0.16199475388004184*(Z^I^I^I) + \\\n",
    "0.011536413200774975*(Z^X^Z^X) + \\\n",
    "0.011536413200774975*(Z^Y^Z^Y) + \\\n",
    "0.12444770133137588*(Z^Z^I^I) + \\\n",
    "0.054130445793298836*(Z^I^Z^I) + \\\n",
    "0.05706344223424907*(Z^I^I^Z) + \\\n",
    "0.012910780273117487*(I^X^Z^X) + \\\n",
    "-0.0013743761078958677*(I^X^I^X) + \\\n",
    "0.012910780273117487*(I^Y^Z^Y) + \\\n",
    "-0.0013743761078958677*(I^Y^I^Y) + \\\n",
    "0.16199475388004186*(I^Z^I^I) + \\\n",
    "0.05706344223424907*(I^Z^Z^I) + \\\n",
    "0.054130445793298836*(I^Z^I^Z) + \\\n",
    "-0.013243698330265966*(I^I^Z^I) + \\\n",
    "0.08479609543670981*(I^I^Z^Z) + \\\n",
    "-0.013243698330265952*(I^I^I^Z)"
   ]
  },
  {
   "cell_type": "code",
   "execution_count": 28,
   "id": "58cbff1d",
   "metadata": {},
   "outputs": [
    {
     "name": "stdout",
     "output_type": "stream",
     "text": [
      "{'thetas': array([5.0479588 , 7.03017471, 2.03149628, 0.01467794, 3.9078662 ,\n",
      "       2.60771169, 4.86141792, 3.82686379]), 'phis': array([7.12812319, 3.21711817, 2.15104148, 4.97209282]), 'D1': 2, 'D2': 6}\n",
      "CPU times: total: 6min 33s\n",
      "Wall time: 6min 54s\n"
     ]
    }
   ],
   "source": [
    "%%time\n",
    "LiH_approximated_eigenvalue = get_approximated_eigenvalue_of_hamiltonian(LiH_molecule_4_qubits)"
   ]
  },
  {
   "cell_type": "markdown",
   "id": "fbe670c9",
   "metadata": {},
   "source": [
    "### Comparsion between approximate value after optimtimzation and exact eigenvalue"
   ]
  },
  {
   "cell_type": "code",
   "execution_count": 29,
   "id": "a97114cc",
   "metadata": {},
   "outputs": [
    {
     "name": "stdout",
     "output_type": "stream",
     "text": [
      "[(-6.769813218087976+0j), (-7.130406955301308+0j), (-7.130406955301309+0j), (-7.151525481896562+0j), (-7.364817440287081+0j), (-7.511999706834451+0j), (-7.511999706834453+0j), (-7.569984737620559+0j), (-7.569984737620559+0j), (-7.700475837803976+0j), (-7.714056691660695+0j), (-7.714056691660695+0j), (-7.7140566916607005+0j), (-7.783396208286518+0j), (-7.7833962082865185+0j), (-7.862773163027979+0j)]\n",
      "Exact Eigenvalue:\n",
      "(-7.151525481896562+0j)\n",
      "Approximated K Eigenvalues:\n",
      "-7.63407392193416\n",
      "Approximation Error\n",
      "0.06747489626641553\n"
     ]
    }
   ],
   "source": [
    "compare_exact_and_approximated_eigenvalue(LiH_molecule_4_qubits, LiH_approximated_eigenvalue)"
   ]
  },
  {
   "cell_type": "code",
   "execution_count": 30,
   "id": "1200db6a",
   "metadata": {},
   "outputs": [
    {
     "name": "stdout",
     "output_type": "stream",
     "text": [
      "[-7.6274591415582105, -7.607576828257072, -7.632200935003245, -7.609855196623901, -7.6059250397280795, -7.854597415729809, -7.628956794318834, -7.6784378048763715, -7.640342773091634, -7.665298199108273, -7.4589086431520615, -7.64400728822478, -7.63919074876535, -7.5712982052834015, -7.644638404908841, -7.646954760531615, -7.755301596699023, -7.631831246253383, -7.631061799605215, -7.616310788526333, -7.611576222526171, -7.620105483420993, -7.6417862171136335, -7.589952292685995, -7.610418644012381, -7.674320046442037, -7.61956694546109, -7.627683802497983, -7.623678295984975, -7.617228428549745, -7.633104604686701, -7.629086274819348, -7.595694407363554, -7.617836676264696, -7.617389773769819, -7.634299221424122, -7.598467942904893, -7.630191480144404, -7.63698619980098, -7.623626950424333, -7.612007795510998, -7.6261074907011634, -7.6148982305668405, -7.623709634670492, -7.61204075447679, -7.6106110013026385, -7.620711346718306, -7.618187492707977, -7.612462844967995, -7.623640830688807]\n"
     ]
    }
   ],
   "source": [
    "print(approximated_energies)\n",
    "approximated_energies = []"
   ]
  },
  {
   "cell_type": "code",
   "execution_count": 3,
   "id": "3d20e357",
   "metadata": {},
   "outputs": [
    {
     "data": {
      "image/png": "[encoded data removed]",
      "text/plain": [
       "<Figure size 432x288 with 1 Axes>"
      ]
     },
     "metadata": {
      "needs_background": "light"
     },
     "output_type": "display_data"
    }
   ],
   "source": [
    "LiH_approximated_energies = [-7.6274591415582105, -7.607576828257072, -7.632200935003245, -7.609855196623901, -7.6059250397280795, -7.854597415729809, -7.628956794318834, -7.6784378048763715, -7.640342773091634, -7.665298199108273, -7.4589086431520615, -7.64400728822478, -7.63919074876535, -7.5712982052834015, -7.644638404908841, -7.646954760531615, -7.755301596699023, -7.631831246253383, -7.631061799605215, -7.616310788526333, -7.611576222526171, -7.620105483420993, -7.6417862171136335, -7.589952292685995, -7.610418644012381, -7.674320046442037, -7.61956694546109, -7.627683802497983, -7.623678295984975, -7.617228428549745, -7.633104604686701, -7.629086274819348, -7.595694407363554, -7.617836676264696, -7.617389773769819, -7.634299221424122, -7.598467942904893, -7.630191480144404, -7.63698619980098, -7.623626950424333, -7.612007795510998, -7.6261074907011634, -7.6148982305668405, -7.623709634670492, -7.61204075447679, -7.6106110013026385, -7.620711346718306, -7.618187492707977, -7.612462844967995, -7.623640830688807]\n",
    "plot_convergence_of_optimization_process(LiH_approximated_energies, exact_eigenvalue=-7.7140566916607005,margin=1)"
   ]
  },
  {
   "cell_type": "markdown",
   "id": "e9cc887a",
   "metadata": {},
   "source": [
    "## H2 Molecule 4 qubits"
   ]
  },
  {
   "cell_type": "code",
   "execution_count": 29,
   "id": "259df459",
   "metadata": {},
   "outputs": [],
   "source": [
    "H2_molecule_Hamiltonian_4_qubits =  -0.8105479805373279 * (I^I^I^I) \\\n",
    "                                    + 0.1721839326191554 * (I^I^I^Z) \\\n",
    "                                    - 0.22575349222402372 * (I^I^Z^I) \\\n",
    "                                    + 0.17218393261915543 * (I^Z^I^I) \\\n",
    "                                    - 0.2257534922240237 * (Z^I^I^I) \\\n",
    "                                    + 0.12091263261776627 * (I^I^Z^Z) \\\n",
    "                                    + 0.16892753870087907 * (I^Z^I^Z) \\\n",
    "                                    + 0.045232799946057826 * (Y^Y^Y^Y) \\\n",
    "                                    + 0.045232799946057826 * (X^X^Y^Y) \\\n",
    "                                    + 0.045232799946057826 * (Y^Y^X^X) \\\n",
    "                                    + 0.045232799946057826 * (X^X^X^X) \\\n",
    "                                    + 0.1661454325638241 * (Z^I^I^Z) \\\n",
    "                                    + 0.1661454325638241 * (I^Z^Z^I) \\\n",
    "                                    + 0.17464343068300453 * (Z^I^Z^I) \\\n",
    "                                    + 0.12091263261776627 * (Z^Z^I^I)"
   ]
  },
  {
   "cell_type": "code",
   "execution_count": 33,
   "id": "3634f0d7",
   "metadata": {},
   "outputs": [
    {
     "name": "stdout",
     "output_type": "stream",
     "text": [
      "{'thetas': array([ 6.00048954,  6.24468863,  1.31451197,  5.79732417, -0.15369229,\n",
      "        3.93625548,  3.22566857,  5.60925868]), 'phis': array([5.32425838, 2.2047112 , 4.52353773, 4.22342281]), 'D1': 2, 'D2': 6}\n",
      "CPU times: total: 3min 30s\n",
      "Wall time: 3min 41s\n"
     ]
    }
   ],
   "source": [
    "%%time\n",
    "H2_approximated_eigenvalue = get_approximated_eigenvalue_of_hamiltonian(H2_molecule_Hamiltonian_4_qubits)"
   ]
  },
  {
   "cell_type": "code",
   "execution_count": 34,
   "id": "5b96cc5e",
   "metadata": {},
   "outputs": [
    {
     "name": "stdout",
     "output_type": "stream",
     "text": [
      "[(0.2142782384194731+0j), (-1.942890293094024e-16+0j), (-0.2249112528308709+0j), (-0.353325104107155+0j), (-0.353325104107155+0j), (-0.47189600728114245+0j), (-0.47189600728114256+0j), (-0.8827221502448648+0j), (-1.1606317377577642+0j), (-1.1606317377577642+0j), (-1.244584549813327+0j), (-1.2445845498133272+0j), (-1.2445845498133272+0j), (-1.2563390730032498+0j), (-1.25633907300325+0j), (-1.8572750302023793+0j)]\n",
      "Exact Eigenvalue:\n",
      "(-0.353325104107155+0j)\n",
      "Approximated K Eigenvalues:\n",
      "-0.7867885849215133\n",
      "Approximation Error\n",
      "1.2268120090411103\n"
     ]
    }
   ],
   "source": [
    "compare_exact_and_approximated_eigenvalue(H2_molecule_Hamiltonian_4_qubits, H2_approximated_eigenvalue)"
   ]
  },
  {
   "cell_type": "code",
   "execution_count": 35,
   "id": "6077fdd8",
   "metadata": {},
   "outputs": [
    {
     "name": "stdout",
     "output_type": "stream",
     "text": [
      "[-1.009976657006965, -0.9238284763706393, -0.9884320852467877, -0.9805917857984984, -1.0167176344158073, -0.803009921527331, -0.4598306468944341, -0.5114890962692614, -0.8589176393087158, -0.9346855734783651, -0.8412382644084648, -0.6224404303456501, -0.653317087612677, -0.7607656559263039, -0.7930275875404521, -0.4281158503125878, -0.5788815212789364, -0.7176165386431208, -0.8701142070097521, -0.8688095826524974, -0.9151572025822381, -0.6635735611840398, -0.6037067550586409, -0.9285839833437391, -0.5058550482270441, -0.9291800596309192, -0.49550483773798376, -0.7464398349372543, -0.9433354608506894, -0.8895971844704103, -0.9048816527272305, -0.8978302385287464, -0.6949574562429168, -0.8304208103551916, -0.4692230966986817, -0.8462497998117152, -0.7185585023635032, -0.8077110062007753, -0.5192275804166049, -0.5640061209546482, -0.8011222125790844, -0.9513753098344495, -0.8402620344123755, -0.6086751350074949, -0.7369530952207817, -0.7603612456563129, -0.7950958666448285, -0.7999579057635281, -0.7706575601258369, -0.7909119439657882]\n"
     ]
    }
   ],
   "source": [
    "print(approximated_energies)\n",
    "approximated_energies = []"
   ]
  },
  {
   "cell_type": "code",
   "execution_count": 30,
   "id": "226fb043",
   "metadata": {},
   "outputs": [
    {
     "data": {
      "image/png": "[encoded data removed]",
      "text/plain": [
       "<Figure size 432x288 with 1 Axes>"
      ]
     },
     "metadata": {
      "needs_background": "light"
     },
     "output_type": "display_data"
    }
   ],
   "source": [
    "H2_approximated_energies = [-1.009976657006965, -0.9238284763706393, -0.9884320852467877, -0.9805917857984984, -1.0167176344158073, -0.803009921527331, -0.4598306468944341, -0.5114890962692614, -0.8589176393087158, -0.9346855734783651, -0.8412382644084648, -0.6224404303456501, -0.653317087612677, -0.7607656559263039, -0.7930275875404521, -0.4281158503125878, -0.5788815212789364, -0.7176165386431208, -0.8701142070097521, -0.8688095826524974, -0.9151572025822381, -0.6635735611840398, -0.6037067550586409, -0.9285839833437391, -0.5058550482270441, -0.9291800596309192, -0.49550483773798376, -0.7464398349372543, -0.9433354608506894, -0.8895971844704103, -0.9048816527272305, -0.8978302385287464, -0.6949574562429168, -0.8304208103551916, -0.4692230966986817, -0.8462497998117152, -0.7185585023635032, -0.8077110062007753, -0.5192275804166049, -0.5640061209546482, -0.8011222125790844, -0.9513753098344495, -0.8402620344123755, -0.6086751350074949, -0.7369530952207817, -0.7603612456563129, -0.7950958666448285, -0.7999579057635281, -0.7706575601258369, -0.7909119439657882]\n",
    "plot_convergence_of_optimization_process(H2_approximated_energies, exact_eigenvalue=-1.2445845498133272, margin=5)"
   ]
  },
  {
   "cell_type": "markdown",
   "id": "394c3bee",
   "metadata": {},
   "source": [
    "##  Transverse Ising Model 4 qubits"
   ]
  },
  {
   "cell_type": "code",
   "execution_count": 31,
   "id": "8dab0ec4",
   "metadata": {},
   "outputs": [],
   "source": [
    "transverse_ising_4_qubits = 0.0 * (I^I^I^I) \\\n",
    "    + 0.8398088405253477 * (X^I^I^I) \\\n",
    "    + 0.7989496312070936 * (I^X^I^I) \\\n",
    "    + 0.38189710487113193 * (Z^Z^I^I) \\\n",
    "    + 0.057753122422666725 * (I^I^X^I) \\\n",
    "    + 0.5633292636970458 * (Z^I^Z^I) \\\n",
    "    + 0.3152740621483513 * (I^Z^Z^I) \\\n",
    "    + 0.07209487981989715 * (I^I^I^X) \\\n",
    "    + 0.17892334004292654 * (Z^I^I^Z) \\\n",
    "    + 0.2273896497668042 * (I^Z^I^Z) \\\n",
    "    + 0.09762902934216211 * (I^I^Z^Z)"
   ]
  },
  {
   "cell_type": "code",
   "execution_count": 38,
   "id": "ac7514ba",
   "metadata": {},
   "outputs": [
    {
     "name": "stdout",
     "output_type": "stream",
     "text": [
      "{'thetas': array([1.21536429, 3.94035676, 2.49170235, 3.06897748, 3.75063214,\n",
      "       2.60536331, 3.72012159, 0.5755547 ]), 'phis': array([4.73586805, 3.70018073, 4.59383588, 2.38765779]), 'D1': 2, 'D2': 6}\n",
      "CPU times: total: 2min 36s\n",
      "Wall time: 2min 43s\n"
     ]
    }
   ],
   "source": [
    "%%time\n",
    "TI_approximated_eigen_value = get_approximated_eigenvalue_of_hamiltonian(transverse_ising_4_qubits)"
   ]
  },
  {
   "cell_type": "code",
   "execution_count": 39,
   "id": "ecd81c72",
   "metadata": {},
   "outputs": [
    {
     "name": "stdout",
     "output_type": "stream",
     "text": [
      "[(2.3867070442313216+0j), (2.3718326043433704+0j), (1.6958488386667439+0j), (1.6816520928402046+0j), (0.3444947223438019+0j), (0.2757654176709828+0j), (0.20992649961322052+0j), (0.14239915569453057+0j), (-0.2505930484227001+0j), (-0.31907768442618767+0j), (-0.47710503946487287+0j), (-0.5462047134056278+0j), (-1.7583827504312988+0j), (-1.8497137109270194+0j), (-1.9080638482930956+0j), (-1.9994855800333675+0j)]\n",
      "Exact Eigenvalue:\n",
      "(1.6816520928402046+0j)\n",
      "Approximated K Eigenvalues:\n",
      "1.7466031814418677\n",
      "Approximation Error\n",
      "0.03862338047102525\n"
     ]
    }
   ],
   "source": [
    "compare_exact_and_approximated_eigenvalue(transverse_ising_4_qubits, TI_approximated_eigen_value)"
   ]
  },
  {
   "cell_type": "code",
   "execution_count": 40,
   "id": "f559cf98",
   "metadata": {},
   "outputs": [
    {
     "name": "stdout",
     "output_type": "stream",
     "text": [
      "[1.0877911566875362, 1.3339897771771856, 1.1497195956414945, 1.3463775026022828, 1.1824868775928117, 1.6423958284840114, 1.5842407965410792, 1.6377219801098, 1.5250316270225506, 1.626129653972439, 1.3560460449434424, 1.6695319025733455, 1.6842571288891142, 1.5407570120203158, 1.5187677867233031, 1.4564666271629088, 1.7323725293893963, 1.792109013228278, 1.7481282811675565, 1.8139670143156743, 1.6629383661129478, 1.68337823955209, 1.4848944286809986, 1.4845001982657569, 1.6129182843066505, 1.6625400070359255, 1.6104761870181472, 1.7152744787413363, 1.6678413737920048, 1.6869395320619605, 1.6590487040095492, 1.6723344557176432, 1.627252139576561, 1.6998615622327233, 1.6227578573441954, 1.6709380388303952, 1.747587311276882, 1.7146592410359045, 1.7219455615683754, 1.6503664867345986, 1.7349602602365404, 1.767898541795154, 1.7803996165862503, 1.6955748077929296, 1.7174656756704858, 1.715728620581076, 1.7002352954018423, 1.7436412571902764, 1.6757447332820925, 1.7032804122037015]\n"
     ]
    }
   ],
   "source": [
    "print(approximated_energies)\n",
    "approximated_energies = []"
   ]
  },
  {
   "cell_type": "code",
   "execution_count": 32,
   "id": "8db7d13c",
   "metadata": {},
   "outputs": [
    {
     "data": {
      "image/png": "[encoded data removed]",
      "text/plain": [
       "<Figure size 432x288 with 1 Axes>"
      ]
     },
     "metadata": {
      "needs_background": "light"
     },
     "output_type": "display_data"
    }
   ],
   "source": [
    "TI_approximated_energies = [1.0877911566875362, 1.3339897771771856, 1.1497195956414945, 1.3463775026022828, 1.1824868775928117, 1.6423958284840114, 1.5842407965410792, 1.6377219801098, 1.5250316270225506, 1.626129653972439, 1.3560460449434424, 1.6695319025733455, 1.6842571288891142, 1.5407570120203158, 1.5187677867233031, 1.4564666271629088, 1.7323725293893963, 1.792109013228278, 1.7481282811675565, 1.8139670143156743, 1.6629383661129478, 1.68337823955209, 1.4848944286809986, 1.4845001982657569, 1.6129182843066505, 1.6625400070359255, 1.6104761870181472, 1.7152744787413363, 1.6678413737920048, 1.6869395320619605, 1.6590487040095492, 1.6723344557176432, 1.627252139576561, 1.6998615622327233, 1.6227578573441954, 1.6709380388303952, 1.747587311276882, 1.7146592410359045, 1.7219455615683754, 1.6503664867345986, 1.7349602602365404, 1.767898541795154, 1.7803996165862503, 1.6955748077929296, 1.7174656756704858, 1.715728620581076, 1.7002352954018423, 1.7436412571902764, 1.6757447332820925, 1.7032804122037015]\n",
    "plot_convergence_of_optimization_process(TI_approximated_energies, exact_eigenvalue=-1.7583827504312988, margin=3)"
   ]
  },
  {
   "cell_type": "code",
   "execution_count": null,
   "id": "defdd66a",
   "metadata": {},
   "outputs": [],
   "source": []
  }
 ],
 "metadata": {
  "kernelspec": {
   "display_name": "Qiskitenv",
   "language": "python",
   "name": "qiskitenv"
  },
  "language_info": {
   "codemirror_mode": {
    "name": "ipython",
    "version": 3
   },
   "file_extension": ".py",
   "mimetype": "text/x-python",
   "name": "python",
   "nbconvert_exporter": "python",
   "pygments_lexer": "ipython3",
   "version": "3.8.13"
  }
 },
 "nbformat": 4,
 "nbformat_minor": 5
}
