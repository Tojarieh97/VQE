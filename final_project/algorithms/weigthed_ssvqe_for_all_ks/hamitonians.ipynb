{
 "cells": [
  {
   "cell_type": "code",
   "execution_count": 5,
   "id": "bf879fca",
   "metadata": {},
   "outputs": [],
   "source": [
    "from qiskit.opflow import X, Z, Y, I, H, S\n",
    "import numpy as np"
   ]
  },
  {
   "cell_type": "code",
   "execution_count": 3,
   "id": "8c55a257",
   "metadata": {},
   "outputs": [],
   "source": [
    "QUBITS_NUM = 4"
   ]
  },
  {
   "cell_type": "code",
   "execution_count": 1,
   "id": "652954ca",
   "metadata": {},
   "outputs": [],
   "source": [
    "LiH_molecule_4_qubits = -7.49894690201071*(I^I^I^I) + \\\n",
    "-0.0029329964409502266*(X^X^Y^Y) + \\\n",
    "0.0029329964409502266*(X^Y^Y^X) + \\\n",
    "0.01291078027311749*(X^Z^X^I) + \\\n",
    "-0.0013743761078958677*(X^Z^X^Z) + \\\n",
    "0.011536413200774975*(X^I^X^I) + \\\n",
    "0.0029329964409502266*(Y^X^X^Y) + \\\n",
    "-0.0029329964409502266*(Y^Y^X^X) + \\\n",
    "0.01291078027311749*(Y^Z^Y^I) + \\\n",
    "-0.0013743761078958677*(Y^Z^Y^Z) + \\\n",
    "0.011536413200774975*(Y^I^Y^I) + \\\n",
    "0.16199475388004184*(Z^I^I^I) + \\\n",
    "0.011536413200774975*(Z^X^Z^X) + \\\n",
    "0.011536413200774975*(Z^Y^Z^Y) + \\\n",
    "0.12444770133137588*(Z^Z^I^I) + \\\n",
    "0.054130445793298836*(Z^I^Z^I) + \\\n",
    "0.05706344223424907*(Z^I^I^Z) + \\\n",
    "0.012910780273117487*(I^X^Z^X) + \\\n",
    "-0.0013743761078958677*(I^X^I^X) + \\\n",
    "0.012910780273117487*(I^Y^Z^Y) + \\\n",
    "-0.0013743761078958677*(I^Y^I^Y) + \\\n",
    "0.16199475388004186*(I^Z^I^I) + \\\n",
    "0.05706344223424907*(I^Z^Z^I) + \\\n",
    "0.054130445793298836*(I^Z^I^Z) + \\\n",
    "-0.013243698330265966*(I^I^Z^I) + \\\n",
    "0.08479609543670981*(I^I^Z^Z) + \\\n",
    "-0.013243698330265952*(I^I^I^Z) "
   ]
  },
  {
   "cell_type": "code",
   "execution_count": 2,
   "id": "3e473ced",
   "metadata": {},
   "outputs": [],
   "source": [
    "H2_molecule_hamiltonian = -0.5053051899926562*(I^I) + \\\n",
    "                            -0.3277380754984016*(Z^I) + \\\n",
    "                            0.15567463610622564*(Z^Z) + \\\n",
    "                            -0.3277380754984016*(I^Z)"
   ]
  },
  {
   "cell_type": "code",
   "execution_count": 8,
   "id": "29e57848",
   "metadata": {},
   "outputs": [
    {
     "name": "stdout",
     "output_type": "stream",
     "text": [
      "0.0 * IIII\n",
      "+ 0.2818820692267142 * XIII\n",
      "+ 0.424954051562069 * IXII\n",
      "+ 0.908678536019229 * ZZII\n",
      "+ 0.18220474740840875 * IIXI\n",
      "+ 0.34756479332154777 * ZIZI\n",
      "+ 0.3477889527488258 * IZZI\n",
      "+ 0.1692359483934146 * IIIX\n",
      "+ 0.23211727036309882 * ZIIZ\n",
      "+ 0.18352384779214626 * IZIZ\n",
      "+ 0.3193844064341932 * IIZZ\n"
     ]
    }
   ],
   "source": [
    "def create_pauli_string_with_pauli_op_on_index_i(pauli_op, i, qubits_num):\n",
    "    if i == 1:\n",
    "        pauli_string = pauli_op\n",
    "        for qubit in range(qubits_num - 1):\n",
    "            pauli_string = pauli_string ^ I\n",
    "        return pauli_string\n",
    "    \n",
    "    pauli_string = I\n",
    "    for qubit in range(2, qubits_num + 1):\n",
    "        if qubit == i:\n",
    "            pauli_string = pauli_string ^ pauli_op\n",
    "        else:\n",
    "            pauli_string = pauli_string ^ I\n",
    "            \n",
    "    return pauli_string\n",
    "\n",
    "def create_pauli_string_with_pauli_ops_on_index_i_and_j(pauli_op_second, i, pauli_op_first, j, qubits_num):\n",
    "    if j == 1:\n",
    "        pauli_string = pauli_op_first\n",
    "        for qubit in range(2, qubits_num + 1):\n",
    "            if qubit == i:\n",
    "                pauli_string = pauli_string ^ pauli_op_second\n",
    "            else:\n",
    "                pauli_string = pauli_string ^ I\n",
    "        return pauli_string\n",
    "    \n",
    "    pauli_string = I\n",
    "    for qubit in range(2, qubits_num + 1):\n",
    "        if qubit == j:\n",
    "            pauli_string = pauli_string ^ pauli_op_first\n",
    "        elif qubit == i:\n",
    "            pauli_string = pauli_string ^ pauli_op_second\n",
    "        else:\n",
    "            pauli_string = pauli_string ^ I\n",
    "            \n",
    "    return pauli_string\n",
    "\n",
    "\n",
    "def get_ising_model_hamiltonian():\n",
    "    hamiltonian = I\n",
    "    for qubit in range(QUBITS_NUM - 1):\n",
    "        hamiltonian = hamiltonian^I\n",
    "    hamiltonian = 0 * hamiltonian\n",
    "    \n",
    "    for i in range(1, QUBITS_NUM + 1):\n",
    "        a_i = np.random.random_sample()\n",
    "        x_i = create_pauli_string_with_pauli_op_on_index_i(X, i, QUBITS_NUM)\n",
    "        hamiltonian = hamiltonian + a_i * x_i\n",
    "        for j in range(1, i):\n",
    "            J_ij = np.random.random_sample()\n",
    "            z_ij = create_pauli_string_with_pauli_ops_on_index_i_and_j(Z, i, Z, j, QUBITS_NUM)\n",
    "            hamiltonian = hamiltonian + J_ij * z_ij\n",
    "    \n",
    "    return hamiltonian\n",
    "\n",
    "transverse_ising_4_qubits = get_ising_model_hamiltonian()\n",
    "print(transverse_ising_4_qubits)"
   ]
  },
  {
   "cell_type": "code",
   "execution_count": null,
   "id": "20222273",
   "metadata": {},
   "outputs": [],
   "source": []
  }
 ],
 "metadata": {
  "kernelspec": {
   "display_name": "Qiskitenv",
   "language": "python",
   "name": "qiskitenv"
  },
  "language_info": {
   "codemirror_mode": {
    "name": "ipython",
    "version": 3
   },
   "file_extension": ".py",
   "mimetype": "text/x-python",
   "name": "python",
   "nbconvert_exporter": "python",
   "pygments_lexer": "ipython3",
   "version": "3.8.13"
  }
 },
 "nbformat": 4,
 "nbformat_minor": 5
}
