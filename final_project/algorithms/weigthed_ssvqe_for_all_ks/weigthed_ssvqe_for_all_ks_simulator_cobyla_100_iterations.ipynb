{
 "cells": [
  {
   "cell_type": "markdown",
   "id": "c4c77734",
   "metadata": {},
   "source": [
    "### Basic Imports"
   ]
  },
  {
   "cell_type": "code",
   "execution_count": 1,
   "id": "9431f6b7",
   "metadata": {},
   "outputs": [],
   "source": [
    "import nbimporter\n",
    "from typing import Dict, Tuple, List\n",
    "import numpy as np\n",
    "from tqdm import tqdm"
   ]
  },
  {
   "cell_type": "markdown",
   "id": "4ff98362",
   "metadata": {},
   "source": [
    "### Env Vars"
   ]
  },
  {
   "cell_type": "code",
   "execution_count": 2,
   "id": "9c7250c3",
   "metadata": {},
   "outputs": [],
   "source": [
    "QUBITS_NUM = 4 \n",
    "N = 16\n",
    "K = 4\n",
    "NUM_SHOTS = 1024\n",
    "NUM_ITERATIONS = 100\n",
    "\n",
    "w_vector = np.asarray([4,3,2,1])"
   ]
  },
  {
   "cell_type": "markdown",
   "id": "6dcb0625",
   "metadata": {},
   "source": [
    "### Simulator Backend"
   ]
  },
  {
   "cell_type": "code",
   "execution_count": 3,
   "id": "8e287170",
   "metadata": {},
   "outputs": [],
   "source": [
    "from qiskit import Aer\n",
    "from qiskit.utils import QuantumInstance, algorithm_globals\n",
    "\n",
    "seed = 50\n",
    "algorithm_globals.random_seed = seed\n",
    "\n",
    "simulator_backend = Aer.get_backend('qasm_simulator')"
   ]
  },
  {
   "cell_type": "markdown",
   "id": "5cc189d2",
   "metadata": {},
   "source": [
    "### BFGS Optimizer"
   ]
  },
  {
   "cell_type": "code",
   "execution_count": 4,
   "id": "aea5f838",
   "metadata": {},
   "outputs": [],
   "source": [
    "from scipy.optimize import minimize"
   ]
  },
  {
   "cell_type": "markdown",
   "id": "8b33aa64",
   "metadata": {},
   "source": [
    "### K input states (computational basis)"
   ]
  },
  {
   "cell_type": "code",
   "execution_count": 5,
   "id": "fdd30a93",
   "metadata": {},
   "outputs": [],
   "source": [
    "from utiles import *"
   ]
  },
  {
   "cell_type": "code",
   "execution_count": 6,
   "id": "edf70318",
   "metadata": {},
   "outputs": [],
   "source": [
    "input_states = get_first_k_eigenvectors_from_n_computational_basis(K, N)"
   ]
  },
  {
   "cell_type": "markdown",
   "id": "6681d9cf",
   "metadata": {},
   "source": [
    "### Ansatz State"
   ]
  },
  {
   "cell_type": "code",
   "execution_count": 7,
   "id": "ed679eb5",
   "metadata": {},
   "outputs": [],
   "source": [
    "from ansatz_circuit_item2 import get_full_variational_quantum_circuit"
   ]
  },
  {
   "cell_type": "code",
   "execution_count": 8,
   "id": "e70a51fc",
   "metadata": {},
   "outputs": [],
   "source": [
    "init_circuit_params = {\n",
    "    \"thetas\": np.random.uniform(low=0, high=2*np.pi, size=8),\n",
    "    \"phis\": np.random.uniform(low=0, high=2*np.pi, size=4),\n",
    "    \"D1\": 2,\n",
    "    \"D2\": 8\n",
    "}"
   ]
  },
  {
   "cell_type": "code",
   "execution_count": 9,
   "id": "75e7bdcc",
   "metadata": {},
   "outputs": [],
   "source": [
    "def prepare_circuit_params(thetas) -> Dict:\n",
    "     return {\n",
    "    \"thetas\": thetas[4:],\n",
    "    \"phis\": thetas[:4],\n",
    "    \"D1\": 2,\n",
    "    \"D2\": 8\n",
    "     }"
   ]
  },
  {
   "cell_type": "code",
   "execution_count": 10,
   "id": "9ebdb4f8",
   "metadata": {},
   "outputs": [],
   "source": [
    "def get_ansatz_state(circuit_params, input_state):\n",
    "    circuit_params_with_input_state = {**circuit_params, \"input_state\": input_state}\n",
    "    return get_full_variational_quantum_circuit(**circuit_params_with_input_state)"
   ]
  },
  {
   "cell_type": "markdown",
   "id": "21777faa",
   "metadata": {},
   "source": [
    "## Expectation Value"
   ]
  },
  {
   "cell_type": "markdown",
   "id": "d320f1b6",
   "metadata": {},
   "source": [
    "### convert hamiltonian to pauli strings"
   ]
  },
  {
   "cell_type": "code",
   "execution_count": 11,
   "id": "56435355",
   "metadata": {},
   "outputs": [],
   "source": [
    "def transfrom_hamiltonian_into_pauli_strings(hamiltonian) -> List:\n",
    "    pauli_operators = hamiltonian.to_pauli_op().settings['oplist']\n",
    "    pauli_coeffs = list(map(lambda pauli_operator: pauli_operator.coeff, pauli_operators))\n",
    "    pauli_strings = list(map(lambda pauli_operator: pauli_operator.primitive, pauli_operators))\n",
    "    return pauli_coeffs, pauli_strings"
   ]
  },
  {
   "cell_type": "markdown",
   "id": "de5f75c3",
   "metadata": {},
   "source": [
    "### pauli string reduction to sigma_z's"
   ]
  },
  {
   "cell_type": "code",
   "execution_count": 12,
   "id": "347de6bb",
   "metadata": {},
   "outputs": [],
   "source": [
    "from qiskit.circuit.library.standard_gates import HGate, SGate\n",
    "from qiskit import QuantumCircuit, ClassicalRegister, QuantumRegister"
   ]
  },
  {
   "cell_type": "code",
   "execution_count": 13,
   "id": "dbbe79ef",
   "metadata": {},
   "outputs": [],
   "source": [
    "reducing_to_pauli_z_mapping = {\n",
    "    'I': 'I',\n",
    "    'Z': 'Z',\n",
    "    'X': 'Z',\n",
    "    'Y': 'Z'\n",
    "} "
   ]
  },
  {
   "cell_type": "code",
   "execution_count": 14,
   "id": "6f94927f",
   "metadata": {},
   "outputs": [],
   "source": [
    "def reduce_pauli_matrixes_into_sigma_z(pauli_string) -> str:\n",
    "    reduced_pauli_string = \"\"\n",
    "    for matrix_index in range(QUBITS_NUM):\n",
    "        pauli_matrix = str(pauli_string[matrix_index])\n",
    "        reduced_pauli_matrix = reducing_to_pauli_z_mapping[pauli_matrix]\n",
    "        reduced_pauli_string = reduced_pauli_matrix + reduced_pauli_string\n",
    "    \n",
    "    return reduced_pauli_string"
   ]
  },
  {
   "cell_type": "code",
   "execution_count": 15,
   "id": "e6f0562f",
   "metadata": {},
   "outputs": [],
   "source": [
    "def add_layer_of_gates_for_reducing_paulis_to_sigma_z(pauli_string, quantum_circuit):\n",
    "    quantum_registers = QuantumRegister(QUBITS_NUM, name=\"qubit\")\n",
    "    additional_circuit_layer = QuantumCircuit(quantum_registers)\n",
    "    \n",
    "    for quantum_register_index, pauli_matrix in enumerate(pauli_string):\n",
    "        if pauli_matrix == \"X\":\n",
    "            additional_circuit_layer.append(HGate(), [quantum_registers[quantum_register_index]])\n",
    "        if pauli_string == \"Y\":\n",
    "            additional_circuit_layer.append(HGate(), [quantum_registers[quantum_register_index]])\n",
    "            additional_circuit_layer.append(SGate(), [quantum_registers[quantum_register_index]])\n",
    "                \n",
    "    extended_quantum_circuit = quantum_circuit.compose(additional_circuit_layer)\n",
    "    return extended_quantum_circuit"
   ]
  },
  {
   "cell_type": "markdown",
   "id": "ce83fae9",
   "metadata": {},
   "source": [
    "### probabilities distribution"
   ]
  },
  {
   "cell_type": "code",
   "execution_count": 16,
   "id": "84e65e31",
   "metadata": {},
   "outputs": [],
   "source": [
    "def get_probability_distribution(counts: Dict) -> Dict:\n",
    "    proba_distribution = {state: (count / NUM_SHOTS) for state, count in counts.items()}\n",
    "    return proba_distribution\n",
    "\n",
    "def calculate_probabilities_of_measurments_in_computational_basis(quantum_state_circuit) -> Dict:\n",
    "    quantum_state_circuit.measure_all()\n",
    "    \n",
    "    transpiled_quantum_state_circuit = transpile(quantum_state_circuit, simulator_backend) \n",
    "    Qobj = assemble(transpiled_quantum_state_circuit)\n",
    "    result = simulator_backend.run(Qobj).result()\n",
    "    counts = result.get_counts(quantum_state_circuit)\n",
    "    \n",
    "    return get_probability_distribution(counts)"
   ]
  },
  {
   "cell_type": "markdown",
   "id": "b9286e5d",
   "metadata": {},
   "source": [
    "### Expectation value from probabilities"
   ]
  },
  {
   "cell_type": "code",
   "execution_count": 17,
   "id": "38a72356",
   "metadata": {},
   "outputs": [],
   "source": [
    "def sort_probas_dict_by_qubits_string_keys(proba_distribution: Dict) -> Dict:\n",
    "    return dict(sorted(proba_distribution.items()))\n",
    "\n",
    "def reset_power_of_minus_1(power_of_minus_1):\n",
    "    power_of_minus_1 = 0\n",
    "    return power_of_minus_1\n",
    "\n",
    "def convert_pauli_string_into_str(pauli_string) -> str:\n",
    "    return str(pauli_string)\n",
    "\n",
    "def calculate_expectation_value_of_pauli_string_by_measurments_probas(pauli_string, ansatz_circuit):\n",
    "    pauli_string_expectation_value = 0\n",
    "    power_of_minus_1 = 0\n",
    "    \n",
    "    pauli_string_str = convert_pauli_string_into_str(pauli_string)\n",
    "    extended_ansatz_circuit = add_layer_of_gates_for_reducing_paulis_to_sigma_z(pauli_string_str, ansatz_circuit)\n",
    "    probas_distribution = calculate_probabilities_of_measurments_in_computational_basis(extended_ansatz_circuit)\n",
    "    \n",
    "    reduced_pauli_string = reduce_pauli_matrixes_into_sigma_z(pauli_string)\n",
    "    sorted_probas_distribuition = sort_probas_dict_by_qubits_string_keys(probas_distribution)\n",
    "    for qubits_string, proba in sorted_probas_distribuition.items():\n",
    "        for string_index in range(QUBITS_NUM):\n",
    "            if(str(qubits_string[string_index])==\"1\" and str(pauli_string[string_index])==\"Z\"):\n",
    "                power_of_minus_1 += 1\n",
    "            \n",
    "        pauli_string_expectation_value += pow(-1, power_of_minus_1)*proba\n",
    "        power_of_minus_1 = reset_power_of_minus_1(power_of_minus_1)\n",
    "        \n",
    "    return pauli_string_expectation_value"
   ]
  },
  {
   "cell_type": "code",
   "execution_count": 18,
   "id": "c263be2b",
   "metadata": {},
   "outputs": [],
   "source": [
    "def get_expectation_value(ansatz_circuit, pauli_coeffs, pauli_strings):\n",
    "    total_expection_value = 0\n",
    "    \n",
    "    for pauli_coeff, pauli_string in zip(pauli_coeffs, pauli_strings):\n",
    "        total_expection_value += pauli_coeff*calculate_expectation_value_of_pauli_string_by_measurments_probas(\n",
    "                                                                                    pauli_string, ansatz_circuit)\n",
    "    \n",
    "    return total_expection_value"
   ]
  },
  {
   "cell_type": "markdown",
   "id": "a79fc302",
   "metadata": {},
   "source": [
    "## Objective Function"
   ]
  },
  {
   "cell_type": "code",
   "execution_count": 19,
   "id": "e3f4d330",
   "metadata": {},
   "outputs": [],
   "source": [
    "from qiskit import assemble, transpile\n",
    "\n",
    "def cost_function(thetas, hamiltonian):\n",
    "    L_w = 0\n",
    "    circuit_params = prepare_circuit_params(thetas)\n",
    "    computational_eigenvectors = get_first_k_eigenvectors_from_n_computational_basis(K, N)\n",
    "    \n",
    "    pauli_coeffs, pauli_strings = transfrom_hamiltonian_into_pauli_strings(LiH_molecule_4_qubits)\n",
    "    \n",
    "    for j in tqdm(range(K)):\n",
    "        ansatz_state = get_ansatz_state(circuit_params, computational_eigenvectors[j])\n",
    "        approximated_energy = get_expectation_value(ansatz_state, pauli_coeffs, pauli_strings)\n",
    "        insert_approximated_energy_to_list_of_all_approximated_energies(\n",
    "            approximated_energies_dict[\"approximated_eneriges_\"+str(j)], approximated_energy)\n",
    "        L_w += w_vector[j]*approximated_energy\n",
    "        \n",
    "    return L_w"
   ]
  },
  {
   "cell_type": "markdown",
   "id": "0bd47a8d",
   "metadata": {},
   "source": [
    "### Optimization"
   ]
  },
  {
   "cell_type": "code",
   "execution_count": 20,
   "id": "4788b561",
   "metadata": {},
   "outputs": [],
   "source": [
    "def get_optimal_thetas_of_ansatz_circuit_for_hamiltonian(hamiltonian):\n",
    "    initial_thetas = np.random.uniform(low=0, high=360, size=12)\n",
    "    optimizer_result = minimize(\n",
    "                            cost_function,\n",
    "                            x0=initial_thetas,\n",
    "                            args=(hamiltonian),\n",
    "                            method=\"COBYLA\",\n",
    "                            options={\"maxiter\":NUM_ITERATIONS})\n",
    "    optimal_thetas = prepare_circuit_params(optimizer_result.x)\n",
    "    \n",
    "    return optimal_thetas"
   ]
  },
  {
   "cell_type": "code",
   "execution_count": 21,
   "id": "62c22d66",
   "metadata": {},
   "outputs": [],
   "source": [
    "def get_approximated_k_eigenvalues_of_hamiltonian(hamiltonian):\n",
    "    approximated_k_eigenvalues = []\n",
    "    optimal_thetas = get_optimal_thetas_of_ansatz_circuit_for_hamiltonian(hamiltonian)\n",
    "    computational_eigenvectors = get_first_k_eigenvectors_from_n_computational_basis(K, N)\n",
    "    \n",
    "    pauli_coeffs, pauli_strings = transfrom_hamiltonian_into_pauli_strings(hamiltonian)\n",
    "    for eigenvalue_index, eigenvector in enumerate(computational_eigenvectors):\n",
    "        optimal_ansatz_state = get_ansatz_state(optimal_thetas, eigenvector)\n",
    "        approximated_eigenvalue = get_expectation_value(optimal_ansatz_state, pauli_coeffs, pauli_strings)\n",
    "        approximated_k_eigenvalues.append(approximated_eigenvalue)\n",
    "\n",
    "    return approximated_k_eigenvalues"
   ]
  },
  {
   "cell_type": "markdown",
   "id": "a18cf419",
   "metadata": {},
   "source": [
    "## Comparsion"
   ]
  },
  {
   "cell_type": "code",
   "execution_count": 22,
   "id": "fdc8c9f5",
   "metadata": {},
   "outputs": [],
   "source": [
    "from numpy import linalg as LA\n",
    "from statistics import mean\n",
    "\n",
    "def get_mean_approximation_error(exact_k_eigenvalues, approximated_k_eigenvalues):\n",
    "    approximated_errors = []\n",
    "    for exact_eigenvalue, approximated_eigenvalue in zip(exact_k_eigenvalues, approximated_k_eigenvalues):\n",
    "        approximated_errors.append(abs(abs(exact_eigenvalue)-abs(approximated_eigenvalue))/abs(exact_eigenvalue))\n",
    "        \n",
    "    return mean(approximated_errors)"
   ]
  },
  {
   "cell_type": "code",
   "execution_count": 23,
   "id": "dcc552e8",
   "metadata": {},
   "outputs": [],
   "source": [
    "def get_exact_k_eigenvalues_of_hamiltonian(hamiltonian, k):\n",
    "    eigenvalues = LA.eig(hamiltonian.to_matrix())[0]\n",
    "    \n",
    "    return sorted(eigenvalues)[:k]"
   ]
  },
  {
   "cell_type": "code",
   "execution_count": 24,
   "id": "9f0aea0f",
   "metadata": {},
   "outputs": [],
   "source": [
    "def compare_exact_and_approximated_eigenvectors(hamiltonian, approximated_k_eigenvalues):\n",
    "    exact_k_eigenvalues = get_exact_k_eigenvalues_of_hamiltonian(hamiltonian, K)\n",
    "    print(\"Exact K Eigenvalues:\")\n",
    "    print(exact_k_eigenvalues)\n",
    "    \n",
    "    print(\"\\nApproximated K Eigenvalues:\")\n",
    "    print(sorted(approximated_k_eigenvalues))\n",
    "\n",
    "    print(\"\\nMean Approximation error:\")\n",
    "    print(get_mean_approximation_error(exact_k_eigenvalues, sorted(approximated_k_eigenvalues)))"
   ]
  },
  {
   "cell_type": "markdown",
   "id": "24e78254",
   "metadata": {},
   "source": [
    "## Visualization"
   ]
  },
  {
   "cell_type": "code",
   "execution_count": 25,
   "id": "99ac4dc3",
   "metadata": {},
   "outputs": [],
   "source": [
    "approximated_energies_dict = { \"approximated_eneriges_0\": [],\n",
    "\"approximated_eneriges_1\":[],\n",
    "\"approximated_eneriges_2\": [],\n",
    "\"approximated_eneriges_3\": []}"
   ]
  },
  {
   "cell_type": "code",
   "execution_count": 26,
   "id": "57b18a8d",
   "metadata": {},
   "outputs": [],
   "source": [
    "def initialize_approximated_energies_dict():\n",
    "    return { \"approximated_eneriges_0\": [],\n",
    "        \"approximated_eneriges_1\":[],\n",
    "        \"approximated_eneriges_2\": [],\n",
    "        \"approximated_eneriges_3\": []}"
   ]
  },
  {
   "cell_type": "code",
   "execution_count": 27,
   "id": "14b66141",
   "metadata": {},
   "outputs": [],
   "source": [
    "def insert_approximated_energy_to_list_of_all_approximated_energies(approximated_energies_list, energy):\n",
    "    approximated_energies_list.append(energy)"
   ]
  },
  {
   "cell_type": "code",
   "execution_count": 28,
   "id": "815e81f2",
   "metadata": {},
   "outputs": [],
   "source": [
    "import matplotlib.pyplot as plt\n",
    "import matplotlib.colors as mcolors\n",
    "\n",
    "def plot_convergence_of_optimization_process(approximated_energies, hamiltonian, margin=0.02):\n",
    "    plt.title(\"convergence of optimization process to the exact eigenvalue\")\n",
    "    plt.margins(0,margin)\n",
    "    base_colors_list = list(mcolors.BASE_COLORS.keys())\n",
    "    \n",
    "    exact_k_eigenvalues = get_exact_k_eigenvalues_of_hamiltonian(hamiltonian, K)\n",
    "    print(exact_k_eigenvalues)\n",
    "    for energy_level, eigenvalue in enumerate(exact_k_eigenvalues):\n",
    "        energy_level_name = \"E_{0}\".format(str(energy_level))\n",
    "        \n",
    "        plt.axhline(y = eigenvalue, \n",
    "                    color = base_colors_list[energy_level], \n",
    "                    linestyle = 'dotted', label=energy_level_name)\n",
    "        plt.plot(approximated_energies[\"approximated_eneriges_{0}\".format(str(energy_level))],\n",
    "                 color = base_colors_list[energy_level], \n",
    "                 label=\"Weighted_SSVQE({0})\".format(energy_level_name))\n",
    "    \n",
    "    plt.xlabel(\"# of iterations\")\n",
    "    plt.ylabel(\"Energy\")\n",
    "    \n",
    "    plt.legend(loc='center left', bbox_to_anchor=(1, 0.5))\n",
    "    \n",
    "def plot_fidelity():\n",
    "    plt.plot(LiH_approximated_energies)\n",
    "    plt.xlabel(\"# of iterations\")\n",
    "    plt.ylabel(\"Energy\")"
   ]
  },
  {
   "cell_type": "markdown",
   "id": "eed0d713",
   "metadata": {},
   "source": [
    "## LiH Molecule 4 qubits"
   ]
  },
  {
   "cell_type": "code",
   "execution_count": 29,
   "id": "4ebe2ed0",
   "metadata": {},
   "outputs": [],
   "source": [
    "from qiskit.opflow import X, Z, Y, I, H, S"
   ]
  },
  {
   "cell_type": "code",
   "execution_count": 30,
   "id": "92fcede9",
   "metadata": {},
   "outputs": [],
   "source": [
    "LiH_molecule_4_qubits = -7.49894690201071*(I^I^I^I) + \\\n",
    "-0.0029329964409502266*(X^X^Y^Y) + \\\n",
    "0.0029329964409502266*(X^Y^Y^X) + \\\n",
    "0.01291078027311749*(X^Z^X^I) + \\\n",
    "-0.0013743761078958677*(X^Z^X^Z) + \\\n",
    "0.011536413200774975*(X^I^X^I) + \\\n",
    "0.0029329964409502266*(Y^X^X^Y) + \\\n",
    "-0.0029329964409502266*(Y^Y^X^X) + \\\n",
    "0.01291078027311749*(Y^Z^Y^I) + \\\n",
    "-0.0013743761078958677*(Y^Z^Y^Z) + \\\n",
    "0.011536413200774975*(Y^I^Y^I) + \\\n",
    "0.16199475388004184*(Z^I^I^I) + \\\n",
    "0.011536413200774975*(Z^X^Z^X) + \\\n",
    "0.011536413200774975*(Z^Y^Z^Y) + \\\n",
    "0.12444770133137588*(Z^Z^I^I) + \\\n",
    "0.054130445793298836*(Z^I^Z^I) + \\\n",
    "0.05706344223424907*(Z^I^I^Z) + \\\n",
    "0.012910780273117487*(I^X^Z^X) + \\\n",
    "-0.0013743761078958677*(I^X^I^X) + \\\n",
    "0.012910780273117487*(I^Y^Z^Y) + \\\n",
    "-0.0013743761078958677*(I^Y^I^Y) + \\\n",
    "0.16199475388004186*(I^Z^I^I) + \\\n",
    "0.05706344223424907*(I^Z^Z^I) + \\\n",
    "0.054130445793298836*(I^Z^I^Z) + \\\n",
    "-0.013243698330265966*(I^I^Z^I) + \\\n",
    "0.08479609543670981*(I^I^Z^Z) + \\\n",
    "-0.013243698330265952*(I^I^I^Z)"
   ]
  },
  {
   "cell_type": "code",
   "execution_count": 31,
   "id": "596148c2",
   "metadata": {},
   "outputs": [
    {
     "name": "stderr",
     "output_type": "stream",
     "text": [
      "100%|████████████████████████████████████████████████████████████████████████████████████| 4/4 [00:10<00:00,  2.61s/it]\n",
      "100%|████████████████████████████████████████████████████████████████████████████████████| 4/4 [00:10<00:00,  2.55s/it]\n",
      "100%|████████████████████████████████████████████████████████████████████████████████████| 4/4 [00:10<00:00,  2.71s/it]\n",
      "100%|████████████████████████████████████████████████████████████████████████████████████| 4/4 [00:10<00:00,  2.52s/it]\n",
      "100%|████████████████████████████████████████████████████████████████████████████████████| 4/4 [00:10<00:00,  2.67s/it]\n",
      "100%|████████████████████████████████████████████████████████████████████████████████████| 4/4 [00:10<00:00,  2.65s/it]\n",
      "100%|████████████████████████████████████████████████████████████████████████████████████| 4/4 [00:10<00:00,  2.61s/it]\n",
      "100%|████████████████████████████████████████████████████████████████████████████████████| 4/4 [00:10<00:00,  2.66s/it]\n",
      "100%|████████████████████████████████████████████████████████████████████████████████████| 4/4 [00:11<00:00,  2.89s/it]\n",
      "100%|████████████████████████████████████████████████████████████████████████████████████| 4/4 [00:11<00:00,  2.78s/it]\n",
      "100%|████████████████████████████████████████████████████████████████████████████████████| 4/4 [00:09<00:00,  2.38s/it]\n",
      "100%|████████████████████████████████████████████████████████████████████████████████████| 4/4 [00:09<00:00,  2.49s/it]\n",
      "100%|████████████████████████████████████████████████████████████████████████████████████| 4/4 [00:09<00:00,  2.44s/it]\n",
      "100%|████████████████████████████████████████████████████████████████████████████████████| 4/4 [00:09<00:00,  2.28s/it]\n",
      "100%|████████████████████████████████████████████████████████████████████████████████████| 4/4 [00:09<00:00,  2.41s/it]\n",
      "100%|████████████████████████████████████████████████████████████████████████████████████| 4/4 [00:09<00:00,  2.48s/it]\n",
      "100%|████████████████████████████████████████████████████████████████████████████████████| 4/4 [00:10<00:00,  2.55s/it]\n",
      "100%|████████████████████████████████████████████████████████████████████████████████████| 4/4 [00:11<00:00,  2.91s/it]\n",
      "100%|████████████████████████████████████████████████████████████████████████████████████| 4/4 [00:10<00:00,  2.55s/it]\n",
      "100%|████████████████████████████████████████████████████████████████████████████████████| 4/4 [00:11<00:00,  2.82s/it]\n",
      "100%|████████████████████████████████████████████████████████████████████████████████████| 4/4 [00:10<00:00,  2.71s/it]\n",
      "100%|████████████████████████████████████████████████████████████████████████████████████| 4/4 [00:10<00:00,  2.54s/it]\n",
      "100%|████████████████████████████████████████████████████████████████████████████████████| 4/4 [00:10<00:00,  2.54s/it]\n",
      "100%|████████████████████████████████████████████████████████████████████████████████████| 4/4 [00:09<00:00,  2.42s/it]\n",
      "100%|████████████████████████████████████████████████████████████████████████████████████| 4/4 [00:09<00:00,  2.47s/it]\n",
      "100%|████████████████████████████████████████████████████████████████████████████████████| 4/4 [00:09<00:00,  2.39s/it]\n",
      "100%|████████████████████████████████████████████████████████████████████████████████████| 4/4 [00:09<00:00,  2.37s/it]\n",
      "100%|████████████████████████████████████████████████████████████████████████████████████| 4/4 [00:12<00:00,  3.07s/it]\n",
      "100%|████████████████████████████████████████████████████████████████████████████████████| 4/4 [00:11<00:00,  3.00s/it]\n",
      "100%|████████████████████████████████████████████████████████████████████████████████████| 4/4 [00:10<00:00,  2.60s/it]\n",
      "100%|████████████████████████████████████████████████████████████████████████████████████| 4/4 [00:10<00:00,  2.53s/it]\n",
      "100%|████████████████████████████████████████████████████████████████████████████████████| 4/4 [00:09<00:00,  2.40s/it]\n",
      "100%|████████████████████████████████████████████████████████████████████████████████████| 4/4 [00:10<00:00,  2.50s/it]\n",
      "100%|████████████████████████████████████████████████████████████████████████████████████| 4/4 [00:10<00:00,  2.61s/it]\n",
      "100%|████████████████████████████████████████████████████████████████████████████████████| 4/4 [00:10<00:00,  2.63s/it]\n",
      "100%|████████████████████████████████████████████████████████████████████████████████████| 4/4 [00:09<00:00,  2.46s/it]\n",
      "100%|████████████████████████████████████████████████████████████████████████████████████| 4/4 [00:10<00:00,  2.52s/it]\n",
      "100%|████████████████████████████████████████████████████████████████████████████████████| 4/4 [00:11<00:00,  2.92s/it]\n",
      "100%|████████████████████████████████████████████████████████████████████████████████████| 4/4 [00:10<00:00,  2.75s/it]\n",
      "100%|████████████████████████████████████████████████████████████████████████████████████| 4/4 [00:10<00:00,  2.75s/it]\n",
      "100%|████████████████████████████████████████████████████████████████████████████████████| 4/4 [00:10<00:00,  2.60s/it]\n",
      "100%|████████████████████████████████████████████████████████████████████████████████████| 4/4 [00:10<00:00,  2.64s/it]\n",
      "100%|████████████████████████████████████████████████████████████████████████████████████| 4/4 [00:10<00:00,  2.70s/it]\n",
      "100%|████████████████████████████████████████████████████████████████████████████████████| 4/4 [00:10<00:00,  2.60s/it]\n",
      "100%|████████████████████████████████████████████████████████████████████████████████████| 4/4 [00:10<00:00,  2.61s/it]\n",
      "100%|████████████████████████████████████████████████████████████████████████████████████| 4/4 [00:10<00:00,  2.68s/it]\n",
      "100%|████████████████████████████████████████████████████████████████████████████████████| 4/4 [00:11<00:00,  2.75s/it]\n",
      "100%|████████████████████████████████████████████████████████████████████████████████████| 4/4 [00:11<00:00,  2.95s/it]\n",
      "100%|████████████████████████████████████████████████████████████████████████████████████| 4/4 [00:10<00:00,  2.59s/it]\n",
      "100%|████████████████████████████████████████████████████████████████████████████████████| 4/4 [00:11<00:00,  2.77s/it]\n",
      "100%|████████████████████████████████████████████████████████████████████████████████████| 4/4 [00:09<00:00,  2.44s/it]\n",
      "100%|████████████████████████████████████████████████████████████████████████████████████| 4/4 [00:10<00:00,  2.55s/it]\n",
      "100%|████████████████████████████████████████████████████████████████████████████████████| 4/4 [00:10<00:00,  2.67s/it]\n",
      "100%|████████████████████████████████████████████████████████████████████████████████████| 4/4 [00:10<00:00,  2.57s/it]\n",
      "100%|████████████████████████████████████████████████████████████████████████████████████| 4/4 [00:10<00:00,  2.61s/it]\n",
      "100%|████████████████████████████████████████████████████████████████████████████████████| 4/4 [00:10<00:00,  2.68s/it]\n",
      "100%|████████████████████████████████████████████████████████████████████████████████████| 4/4 [00:10<00:00,  2.73s/it]\n",
      "100%|████████████████████████████████████████████████████████████████████████████████████| 4/4 [00:12<00:00,  3.03s/it]\n",
      "100%|████████████████████████████████████████████████████████████████████████████████████| 4/4 [00:10<00:00,  2.75s/it]\n",
      "100%|████████████████████████████████████████████████████████████████████████████████████| 4/4 [00:11<00:00,  2.79s/it]\n",
      "100%|████████████████████████████████████████████████████████████████████████████████████| 4/4 [00:10<00:00,  2.54s/it]\n",
      "100%|████████████████████████████████████████████████████████████████████████████████████| 4/4 [00:09<00:00,  2.42s/it]\n",
      "100%|████████████████████████████████████████████████████████████████████████████████████| 4/4 [00:10<00:00,  2.61s/it]\n",
      "100%|████████████████████████████████████████████████████████████████████████████████████| 4/4 [00:10<00:00,  2.70s/it]\n",
      "100%|████████████████████████████████████████████████████████████████████████████████████| 4/4 [00:10<00:00,  2.61s/it]\n",
      "100%|████████████████████████████████████████████████████████████████████████████████████| 4/4 [00:09<00:00,  2.39s/it]\n",
      "100%|████████████████████████████████████████████████████████████████████████████████████| 4/4 [00:10<00:00,  2.73s/it]\n",
      "100%|████████████████████████████████████████████████████████████████████████████████████| 4/4 [00:11<00:00,  2.92s/it]\n"
     ]
    },
    {
     "name": "stderr",
     "output_type": "stream",
     "text": [
      "100%|████████████████████████████████████████████████████████████████████████████████████| 4/4 [00:09<00:00,  2.44s/it]\n",
      "100%|████████████████████████████████████████████████████████████████████████████████████| 4/4 [00:11<00:00,  2.78s/it]\n",
      "100%|████████████████████████████████████████████████████████████████████████████████████| 4/4 [00:11<00:00,  2.76s/it]\n",
      "100%|████████████████████████████████████████████████████████████████████████████████████| 4/4 [00:10<00:00,  2.58s/it]\n",
      "100%|████████████████████████████████████████████████████████████████████████████████████| 4/4 [00:12<00:00,  3.12s/it]\n",
      "100%|████████████████████████████████████████████████████████████████████████████████████| 4/4 [00:12<00:00,  3.02s/it]\n",
      "100%|████████████████████████████████████████████████████████████████████████████████████| 4/4 [00:10<00:00,  2.72s/it]\n",
      "100%|████████████████████████████████████████████████████████████████████████████████████| 4/4 [00:09<00:00,  2.48s/it]\n",
      "100%|████████████████████████████████████████████████████████████████████████████████████| 4/4 [00:09<00:00,  2.48s/it]\n",
      "100%|████████████████████████████████████████████████████████████████████████████████████| 4/4 [00:09<00:00,  2.41s/it]\n",
      "100%|████████████████████████████████████████████████████████████████████████████████████| 4/4 [00:09<00:00,  2.27s/it]\n",
      "100%|████████████████████████████████████████████████████████████████████████████████████| 4/4 [00:09<00:00,  2.34s/it]\n",
      "100%|████████████████████████████████████████████████████████████████████████████████████| 4/4 [00:09<00:00,  2.31s/it]\n",
      "100%|████████████████████████████████████████████████████████████████████████████████████| 4/4 [00:09<00:00,  2.36s/it]\n",
      "100%|████████████████████████████████████████████████████████████████████████████████████| 4/4 [00:09<00:00,  2.33s/it]\n",
      "100%|████████████████████████████████████████████████████████████████████████████████████| 4/4 [00:09<00:00,  2.32s/it]\n",
      "100%|████████████████████████████████████████████████████████████████████████████████████| 4/4 [00:09<00:00,  2.30s/it]\n",
      "100%|████████████████████████████████████████████████████████████████████████████████████| 4/4 [00:09<00:00,  2.32s/it]\n",
      "100%|████████████████████████████████████████████████████████████████████████████████████| 4/4 [00:09<00:00,  2.50s/it]\n",
      "100%|████████████████████████████████████████████████████████████████████████████████████| 4/4 [00:09<00:00,  2.41s/it]\n",
      "100%|████████████████████████████████████████████████████████████████████████████████████| 4/4 [00:10<00:00,  2.55s/it]\n",
      "100%|████████████████████████████████████████████████████████████████████████████████████| 4/4 [00:09<00:00,  2.49s/it]\n",
      "100%|████████████████████████████████████████████████████████████████████████████████████| 4/4 [00:09<00:00,  2.47s/it]\n",
      "100%|████████████████████████████████████████████████████████████████████████████████████| 4/4 [00:09<00:00,  2.28s/it]\n",
      "100%|████████████████████████████████████████████████████████████████████████████████████| 4/4 [00:09<00:00,  2.31s/it]\n",
      "100%|████████████████████████████████████████████████████████████████████████████████████| 4/4 [00:09<00:00,  2.31s/it]\n",
      "100%|████████████████████████████████████████████████████████████████████████████████████| 4/4 [00:09<00:00,  2.30s/it]\n",
      "100%|████████████████████████████████████████████████████████████████████████████████████| 4/4 [00:09<00:00,  2.27s/it]\n",
      "100%|████████████████████████████████████████████████████████████████████████████████████| 4/4 [00:09<00:00,  2.34s/it]\n",
      "100%|████████████████████████████████████████████████████████████████████████████████████| 4/4 [00:09<00:00,  2.29s/it]\n",
      "100%|████████████████████████████████████████████████████████████████████████████████████| 4/4 [00:09<00:00,  2.28s/it]\n",
      "100%|████████████████████████████████████████████████████████████████████████████████████| 4/4 [00:09<00:00,  2.29s/it]\n"
     ]
    },
    {
     "name": "stdout",
     "output_type": "stream",
     "text": [
      "CPU times: total: 16min 48s\n",
      "Wall time: 17min 18s\n"
     ]
    }
   ],
   "source": [
    "%%time\n",
    "LiH_approximated_k_eigenvalues = get_approximated_k_eigenvalues_of_hamiltonian(LiH_molecule_4_qubits)"
   ]
  },
  {
   "cell_type": "code",
   "execution_count": 32,
   "id": "1b907d9d",
   "metadata": {},
   "outputs": [
    {
     "name": "stdout",
     "output_type": "stream",
     "text": [
      "Exact K Eigenvalues:\n",
      "[(-7.862773163027979+0j), (-7.7833962082865185+0j), (-7.783396208286518+0j), (-7.7140566916607005+0j)]\n",
      "\n",
      "Approximated K Eigenvalues:\n",
      "[-7.6031612073357175, -7.514047133238333, -7.4966395931411425, -7.4626337834414525]\n",
      "\n",
      "Mean Approximation error:\n",
      "0.03426459475601994\n"
     ]
    }
   ],
   "source": [
    "compare_exact_and_approximated_eigenvectors(LiH_molecule_4_qubits, LiH_approximated_k_eigenvalues)"
   ]
  },
  {
   "cell_type": "code",
   "execution_count": 33,
   "id": "c4e48c15",
   "metadata": {},
   "outputs": [
    {
     "name": "stdout",
     "output_type": "stream",
     "text": [
      "{'approximated_eneriges_0': [-7.4359978177503105, -7.3757160134880255, -7.478056967985576, -7.43423318511301, -7.355443130290436, -7.192724859258253, -7.450920788878105, -7.528286487074502, -7.394739360509528, -7.317749147572674, -7.286270047581571, -7.4539545298694785, -7.44412070623346, -7.402133541137446, -7.552664643558308, -7.568283862713287, -7.573591027000904, -7.535135660615394, -7.597412805282164, -7.538645554626885, -7.578921687444361, -7.586715825227806, -7.565345358431128, -7.423376452717088, -7.551201224131409, -7.539770740005005, -7.592254126623817, -7.539227622021473, -7.5750395368613095, -7.588661555901759, -7.564936011228601, -7.569946985202293, -7.597800786473079, -7.60174429655928, -7.607208125538174, -7.588006467364922, -7.603319168883829, -7.603252712613508, -7.610148493285537, -7.596728890615095, -7.611359454917831, -7.605137074986479, -7.5827355988868685, -7.607745782500884, -7.596119842956979, -7.605197446864565, -7.618699365136879, -7.581959892315226, -7.619830987255232, -7.627009331058453, -7.623099035038707, -7.597793267048176, -7.618386627806506, -7.611298270108082, -7.606136233981235, -7.608441979685434, -7.596603864637451, -7.596980305890562, -7.599484062425265, -7.604961840108982, -7.628989300086476, -7.61396166393855, -7.614537160932233, -7.608041622100229, -7.611754604274044, -7.6230040457029435, -7.600844444756573, -7.606527254464379, -7.5993924381817015, -7.607495010077031, -7.614282576748779, -7.609683852763337, -7.616152123086971, -7.613837216283268, -7.62331974015962, -7.594996794186726, -7.618297934752857, -7.607990262921083, -7.61247830997694, -7.614302756367001, -7.603945148990441, -7.6092154034830335, -7.612463660555308, -7.600080179294738, -7.5962901665029, -7.6203053810187615, -7.621180943967142, -7.604561422446704, -7.595040063594807, -7.615045958691884, -7.613883381882757, -7.604979420230417, -7.599973282600669, -7.617525447393337, -7.603551763511067, -7.603870721354521, -7.609160292171129, -7.604830858318478, -7.602231173367541, -7.607427247054508], 'approximated_eneriges_1': [-7.369720946220077, -7.284615605591785, -7.422710944569149, -7.4581631015090775, -7.479827324443771, -7.596326259207429, -7.387981956600001, -7.392105680947723, -7.3527231397967165, -7.400129043451653, -7.486080695568652, -7.322530105059792, -7.293766099303258, -7.5726154250713416, -7.327214025763202, -7.402172858006177, -7.4456047664441565, -7.452128344810114, -7.463592354236733, -7.530184574960802, -7.536168536251782, -7.492527116179123, -7.518018956132232, -7.539391516307027, -7.549464723252624, -7.4927859444125025, -7.541830841400866, -7.545027706653603, -7.5128847791889255, -7.474986748639313, -7.51329968246658, -7.535985713174429, -7.490890244452389, -7.503397904390909, -7.50438784704549, -7.522578619910159, -7.490029455428654, -7.511208067188535, -7.500275119653851, -7.519196014869349, -7.504540357010696, -7.486598538144047, -7.5171809812643, -7.4997375715682875, -7.500693913220207, -7.5028885117110296, -7.500543824688353, -7.492066552423204, -7.501171462255589, -7.476878181087409, -7.509752407601858, -7.4878173306819695, -7.495867897647616, -7.481935168584907, -7.494458466846155, -7.4818522318720175, -7.485492054046362, -7.523495336373576, -7.500079989596788, -7.490625797079748, -7.504202778977235, -7.500047814723787, -7.487894352036536, -7.484402899786207, -7.49207852975708, -7.4917893216530125, -7.481894205535479, -7.491531489456596, -7.4846742354903295, -7.484615072115526, -7.49010376409187, -7.48980908905745, -7.497912657112446, -7.489907401911693, -7.466331856606921, -7.4766661151643, -7.488739314702181, -7.511589359828686, -7.479267306340722, -7.503003289692228, -7.483866188545683, -7.486424524334093, -7.481526630343756, -7.495559403832105, -7.470136253187876, -7.495014467729333, -7.49425542742509, -7.493743310266782, -7.476298407088879, -7.493484370321813, -7.507737936146738, -7.495883201404465, -7.485035436264507, -7.487327626320272, -7.483877789518591, -7.479266561455753, -7.494972434049399, -7.487948108612521, -7.481589508502105, -7.486191555755674], 'approximated_eneriges_2': [-7.60445151962817, -7.655232543207473, -7.604681755498327, -7.544655854470915, -7.651187546917118, -7.7064649110878065, -7.598985142229321, -7.489143564252442, -7.579378665690618, -7.61388160356942, -7.595472881991509, -7.57009736815452, -7.5856075808481584, -7.515756627336239, -7.589371948160775, -7.567589129960221, -7.526475471401677, -7.523533420315598, -7.501447871360413, -7.51444689186753, -7.4731568926591905, -7.4499366497621, -7.487997980596033, -7.443511965070655, -7.48111420076774, -7.438587236642091, -7.4756161504712075, -7.472679633242018, -7.486267482009884, -7.522060443722684, -7.498934611021357, -7.465323431991165, -7.505859428447175, -7.490664442738144, -7.4714816950328204, -7.497975967790592, -7.470918670163662, -7.505177351472003, -7.502669367384783, -7.499486433515628, -7.49574707048921, -7.497920689039059, -7.5032131687125, -7.490899948534863, -7.495049707392978, -7.4989275436973495, -7.498116569339063, -7.491795837581543, -7.488240447294538, -7.501495936182565, -7.504600784310542, -7.500791989910224, -7.490631907495327, -7.513608891418408, -7.504896812265393, -7.497605798935151, -7.494716898916706, -7.51303872860677, -7.493476654275234, -7.520168160777175, -7.495566985421824, -7.523076222675151, -7.505625230880127, -7.5045960349895084, -7.526933228334964, -7.497193479007045, -7.510716713949249, -7.49813954866455, -7.505821655651803, -7.509396298971292, -7.513900132639387, -7.521700431748883, -7.496590438769134, -7.50040765154925, -7.503146711246868, -7.501055138467218, -7.511340751594758, -7.503091211811797, -7.500149789917347, -7.503869329733866, -7.495946700272824, -7.506077014713066, -7.5076488119433025, -7.502625690003929, -7.498680764354626, -7.508196510496762, -7.515809238774814, -7.517085533272401, -7.496387051502411, -7.507710261289481, -7.508883548919884, -7.522210172904317, -7.505431452973038, -7.504216095895367, -7.506062127006093, -7.491323923524002, -7.49785899314833, -7.50428427998314, -7.50345031056545, -7.496063807188474], 'approximated_eneriges_3': [-7.643652310964605, -7.614875211334047, -7.5722353408359755, -7.628056777917271, -7.589736579660415, -7.623855678194498, -7.64226615225835, -7.462163171371778, -7.619034083714235, -7.728280789853676, -7.632774898502142, -7.6105705806926505, -7.628688582617396, -7.480045419829754, -7.563994814453252, -7.548646654407666, -7.511870695170854, -7.544133705353124, -7.46584481839385, -7.432643759877038, -7.427684867737173, -7.3801375382133205, -7.450044739213393, -7.44470982899095, -7.417690672061957, -7.457712572893358, -7.441134017516161, -7.467375731034074, -7.477196990708893, -7.482410430713579, -7.480959040629046, -7.439622141967715, -7.43023522219672, -7.456256717224399, -7.407517146343806, -7.466049131481666, -7.461043788439267, -7.437188098742744, -7.454997067149924, -7.456065032589761, -7.467230559062875, -7.487457701970791, -7.470165685081138, -7.470333759730428, -7.469693137722975, -7.438476280721978, -7.445136966922958, -7.42915321407176, -7.470653125078609, -7.436986778185698, -7.44463947947816, -7.463278526523228, -7.449222248825425, -7.453878999754039, -7.458704921977438, -7.458695028359949, -7.447748015103533, -7.44434597761277, -7.446524790732852, -7.457700888828586, -7.454420807735906, -7.469976604953012, -7.462651176526999, -7.455840579471994, -7.453349726915201, -7.450276341236521, -7.443155560956516, -7.459592280281525, -7.443959308474996, -7.461853098414388, -7.455235840280521, -7.441350596503641, -7.442961863056196, -7.459157772376535, -7.468626709750809, -7.443724391557815, -7.466957424815946, -7.457320279715997, -7.454374266040888, -7.450995592016022, -7.444971406705359, -7.431306088670685, -7.439121431944524, -7.454864350081211, -7.475508507625055, -7.44366673446211, -7.453036982023549, -7.455441929138748, -7.450513644938214, -7.461151343964756, -7.452215579033645, -7.448922525293548, -7.453759589796489, -7.458076363815906, -7.457368483862118, -7.470848576745644, -7.46667882388933, -7.447222341735188, -7.452987986887233, -7.447620735707453]}\n"
     ]
    }
   ],
   "source": [
    "print(approximated_energies_dict)\n",
    "approximated_energies_dict = initialize_approximated_energies_dict()"
   ]
  },
  {
   "cell_type": "code",
   "execution_count": 34,
   "id": "b18d74d7",
   "metadata": {},
   "outputs": [
    {
     "name": "stdout",
     "output_type": "stream",
     "text": [
      "[(-7.862773163027979+0j), (-7.7833962082865185+0j), (-7.783396208286518+0j), (-7.7140566916607005+0j)]\n"
     ]
    },
    {
     "name": "stderr",
     "output_type": "stream",
     "text": [
      "C:\\Users\\hadar\\anaconda3\\envs\\Qiskitenv\\lib\\site-packages\\matplotlib\\cbook\\__init__.py:1317: ComplexWarning: Casting complex values to real discards the imaginary part\n",
      "  return np.asarray(x, float)\n"
     ]
    },
    {
     "data": {
      "image/png": "[encoded data removed]",
      "text/plain": [
       "<Figure size 432x288 with 1 Axes>"
      ]
     },
     "metadata": {
      "needs_background": "light"
     },
     "output_type": "display_data"
    }
   ],
   "source": [
    "LiH_approximated_energies = {'approximated_eneriges_0': [-7.443763256904104, -7.4002130802981165, -7.402247491880844, -7.470848596022202, -7.45320004578142, -7.2037442823809394, -7.606622032604259, -7.432350599744895, -7.432495103535102, -7.141159809219269, -7.34603922757036, -7.476135398795488, -7.280043003574207, -7.4614181224914295, -7.407924717612185, -7.461586578652535, -7.525445976535891, -7.422114431402694, -7.401649526037618, -7.488021953946464, -7.47896570893905, -7.462685937161847, -7.454120832230556, -7.436292572707697, -7.480688115871342, -7.515063846777348, -7.477177021961932, -7.391244710949009, -7.471217858315684, -7.503242588552382, -7.471439257727218, -7.44505573833778, -7.418285185624123, -7.466695823049642, -7.4771052531993325, -7.4637738318283535, -7.520776558858023, -7.526230791574609, -7.533608947411593, -7.503004948009757, -7.519724331102011, -7.493384913528219, -7.485478644775202, -7.516510223399673, -7.503475090881356, -7.494010354458551, -7.510090310795372, -7.526632388070386, -7.492160858734219, -7.5090846022988345], 'approximated_eneriges_1': [-7.611160770738447, -7.612537039823402, -7.5628667736575075, -7.627321643310454, -7.602218901158253, -7.669321267055824, -7.112869137843162, -7.529831878035033, -7.492031424566759, -7.546144927687019, -7.5380518543846815, -7.619806507952486, -7.536960192278364, -7.430594135829916, -7.558781662996708, -7.620192075334588, -7.500080654402885, -7.5874392595184466, -7.60518715593763, -7.587653509223957, -7.612775269021471, -7.6068484660945295, -7.599678769877363, -7.589714279771383, -7.60619548365883, -7.51735676728312, -7.612125836144872, -7.6014638647121675, -7.5899647846917055, -7.5976032888517775, -7.597212073112908, -7.558188737021209, -7.601200874808052, -7.607713345897209, -7.607499093171809, -7.599792654361252, -7.5596730670773855, -7.573728870000363, -7.546383632358012, -7.583001966857374, -7.5523102781572735, -7.560199542695961, -7.588780755315564, -7.566078651167328, -7.5879779290873905, -7.551861316141719, -7.573269260993632, -7.5817304433034804, -7.579569386092089, -7.570120795581553], 'approximated_eneriges_2': [-7.470829844981112, -7.470523575311227, -7.437547474097366, -7.489185208098881, -7.490140854087586, -7.406399694105737, -7.590301545017305, -7.541698353920802, -7.3691554663088015, -7.5191215141999335, -7.5115133084041545, -7.479635969058671, -7.567154091041735, -7.50831667284109, -7.404328307409327, -7.5010681837274165, -7.4650688490182455, -7.472575860441914, -7.402811603611692, -7.488550998068402, -7.488801074870055, -7.487994212250475, -7.515666333417201, -7.544214178703916, -7.510926968697341, -7.5173523503867195, -7.516193644717367, -7.53534000298624, -7.523519316290358, -7.455126696410415, -7.491381392393936, -7.504298259865865, -7.554652346024801, -7.523103712442472, -7.4955202720183, -7.517862423002627, -7.519654460714506, -7.518381698117194, -7.505702129067322, -7.504489391632537, -7.513392952340638, -7.5270772264781485, -7.519299542624053, -7.516485116618228, -7.50529569871512, -7.523333441799501, -7.499747575849092, -7.512325163721414, -7.52439763900249, -7.516395718429318], 'approximated_eneriges_3': [-7.32849500423405, -7.391564768264744, -7.474600394267608, -7.364808119047038, -7.381820772708144, -7.738911447566172, -7.758703374786833, -7.337171319897428, -7.381997666733045, -7.7142353175373115, -7.553174001897375, -7.381334761150993, -7.432289783474271, -7.368363081328347, -7.3468625031342345, -7.361828638208896, -7.480664471801326, -7.400110228803251, -7.3144431418222435, -7.368928231722106, -7.364078865897079, -7.373915189743662, -7.364944693985124, -7.3659051775080195, -7.361913922683342, -7.393984696256876, -7.358970234887909, -7.374457680841522, -7.380263158291077, -7.334590298526401, -7.362071851140452, -7.386812482151001, -7.350540699194575, -7.371636446671611, -7.367436744048734, -7.364018994060641, -7.366669879511723, -7.352155755509138, -7.36382240372502, -7.361211381137372, -7.395275852423786, -7.356090854960467, -7.385525123953955, -7.369782537122054, -7.388817786814771, -7.378669588844872, -7.38373310976381, -7.353810063874061, -7.387305671775982, -7.39466794423844]}\n",
    "plot_convergence_of_optimization_process(LiH_approximated_energies, LiH_molecule_4_qubits, margin=0.02)"
   ]
  },
  {
   "cell_type": "markdown",
   "id": "a50ca714",
   "metadata": {},
   "source": [
    "## H2 Molecule 4 qubits"
   ]
  },
  {
   "cell_type": "code",
   "execution_count": 35,
   "id": "deb28756",
   "metadata": {},
   "outputs": [],
   "source": [
    "H2_molecule_Hamiltonian_4_qubits =  -0.8105479805373279 * (I^I^I^I) \\\n",
    "                                    + 0.1721839326191554 * (I^I^I^Z) \\\n",
    "                                    - 0.22575349222402372 * (I^I^Z^I) \\\n",
    "                                    + 0.17218393261915543 * (I^Z^I^I) \\\n",
    "                                    - 0.2257534922240237 * (Z^I^I^I) \\\n",
    "                                    + 0.12091263261776627 * (I^I^Z^Z) \\\n",
    "                                    + 0.16892753870087907 * (I^Z^I^Z) \\\n",
    "                                    + 0.045232799946057826 * (Y^Y^Y^Y) \\\n",
    "                                    + 0.045232799946057826 * (X^X^Y^Y) \\\n",
    "                                    + 0.045232799946057826 * (Y^Y^X^X) \\\n",
    "                                    + 0.045232799946057826 * (X^X^X^X) \\\n",
    "                                    + 0.1661454325638241 * (Z^I^I^Z) \\\n",
    "                                    + 0.1661454325638241 * (I^Z^Z^I) \\\n",
    "                                    + 0.17464343068300453 * (Z^I^Z^I) \\\n",
    "                                    + 0.12091263261776627 * (Z^Z^I^I)"
   ]
  },
  {
   "cell_type": "code",
   "execution_count": 36,
   "id": "b33cdc84",
   "metadata": {},
   "outputs": [
    {
     "name": "stderr",
     "output_type": "stream",
     "text": [
      "100%|████████████████████████████████████████████████████████████████████████████████████| 4/4 [00:09<00:00,  2.32s/it]\n",
      "100%|████████████████████████████████████████████████████████████████████████████████████| 4/4 [00:09<00:00,  2.29s/it]\n",
      "100%|████████████████████████████████████████████████████████████████████████████████████| 4/4 [00:12<00:00,  3.19s/it]\n",
      "100%|████████████████████████████████████████████████████████████████████████████████████| 4/4 [00:14<00:00,  3.69s/it]\n",
      "100%|████████████████████████████████████████████████████████████████████████████████████| 4/4 [00:33<00:00,  8.29s/it]\n",
      "100%|████████████████████████████████████████████████████████████████████████████████████| 4/4 [00:15<00:00,  3.94s/it]\n",
      "100%|████████████████████████████████████████████████████████████████████████████████████| 4/4 [00:13<00:00,  3.35s/it]\n",
      "100%|████████████████████████████████████████████████████████████████████████████████████| 4/4 [00:10<00:00,  2.55s/it]\n",
      "100%|████████████████████████████████████████████████████████████████████████████████████| 4/4 [00:12<00:00,  3.11s/it]\n",
      "100%|████████████████████████████████████████████████████████████████████████████████████| 4/4 [00:13<00:00,  3.48s/it]\n",
      "100%|████████████████████████████████████████████████████████████████████████████████████| 4/4 [00:11<00:00,  2.75s/it]\n",
      "100%|████████████████████████████████████████████████████████████████████████████████████| 4/4 [00:11<00:00,  2.79s/it]\n",
      "100%|████████████████████████████████████████████████████████████████████████████████████| 4/4 [00:11<00:00,  2.78s/it]\n",
      "100%|████████████████████████████████████████████████████████████████████████████████████| 4/4 [00:10<00:00,  2.74s/it]\n",
      "100%|████████████████████████████████████████████████████████████████████████████████████| 4/4 [00:11<00:00,  2.78s/it]\n",
      "100%|████████████████████████████████████████████████████████████████████████████████████| 4/4 [00:11<00:00,  2.98s/it]\n",
      "100%|████████████████████████████████████████████████████████████████████████████████████| 4/4 [00:10<00:00,  2.69s/it]\n",
      "100%|████████████████████████████████████████████████████████████████████████████████████| 4/4 [00:10<00:00,  2.74s/it]\n",
      "100%|████████████████████████████████████████████████████████████████████████████████████| 4/4 [00:11<00:00,  2.89s/it]\n",
      "100%|████████████████████████████████████████████████████████████████████████████████████| 4/4 [00:09<00:00,  2.42s/it]\n",
      "100%|████████████████████████████████████████████████████████████████████████████████████| 4/4 [00:10<00:00,  2.62s/it]\n",
      "100%|████████████████████████████████████████████████████████████████████████████████████| 4/4 [00:09<00:00,  2.48s/it]\n",
      "100%|████████████████████████████████████████████████████████████████████████████████████| 4/4 [00:10<00:00,  2.58s/it]\n",
      "100%|████████████████████████████████████████████████████████████████████████████████████| 4/4 [00:11<00:00,  2.77s/it]\n",
      "100%|████████████████████████████████████████████████████████████████████████████████████| 4/4 [00:11<00:00,  2.87s/it]\n",
      "100%|████████████████████████████████████████████████████████████████████████████████████| 4/4 [00:10<00:00,  2.59s/it]\n",
      "100%|████████████████████████████████████████████████████████████████████████████████████| 4/4 [00:11<00:00,  2.97s/it]\n",
      "100%|████████████████████████████████████████████████████████████████████████████████████| 4/4 [00:11<00:00,  2.78s/it]\n",
      "100%|████████████████████████████████████████████████████████████████████████████████████| 4/4 [00:12<00:00,  3.01s/it]\n",
      "100%|████████████████████████████████████████████████████████████████████████████████████| 4/4 [00:11<00:00,  2.88s/it]\n",
      "100%|████████████████████████████████████████████████████████████████████████████████████| 4/4 [00:09<00:00,  2.44s/it]\n",
      "100%|████████████████████████████████████████████████████████████████████████████████████| 4/4 [00:09<00:00,  2.41s/it]\n",
      "100%|████████████████████████████████████████████████████████████████████████████████████| 4/4 [00:09<00:00,  2.45s/it]\n",
      "100%|████████████████████████████████████████████████████████████████████████████████████| 4/4 [00:09<00:00,  2.49s/it]\n",
      "100%|████████████████████████████████████████████████████████████████████████████████████| 4/4 [00:10<00:00,  2.54s/it]\n",
      "100%|████████████████████████████████████████████████████████████████████████████████████| 4/4 [00:10<00:00,  2.51s/it]\n",
      "100%|████████████████████████████████████████████████████████████████████████████████████| 4/4 [00:09<00:00,  2.40s/it]\n",
      "100%|████████████████████████████████████████████████████████████████████████████████████| 4/4 [00:13<00:00,  3.34s/it]\n",
      "100%|████████████████████████████████████████████████████████████████████████████████████| 4/4 [00:11<00:00,  2.94s/it]\n",
      "100%|████████████████████████████████████████████████████████████████████████████████████| 4/4 [00:10<00:00,  2.64s/it]\n",
      "100%|████████████████████████████████████████████████████████████████████████████████████| 4/4 [00:09<00:00,  2.49s/it]\n",
      "100%|████████████████████████████████████████████████████████████████████████████████████| 4/4 [00:09<00:00,  2.41s/it]\n",
      "100%|████████████████████████████████████████████████████████████████████████████████████| 4/4 [00:09<00:00,  2.38s/it]\n",
      "100%|████████████████████████████████████████████████████████████████████████████████████| 4/4 [00:09<00:00,  2.40s/it]\n",
      "100%|████████████████████████████████████████████████████████████████████████████████████| 4/4 [00:09<00:00,  2.41s/it]\n",
      "100%|████████████████████████████████████████████████████████████████████████████████████| 4/4 [00:09<00:00,  2.38s/it]\n",
      "100%|████████████████████████████████████████████████████████████████████████████████████| 4/4 [00:09<00:00,  2.45s/it]\n",
      "100%|████████████████████████████████████████████████████████████████████████████████████| 4/4 [00:09<00:00,  2.39s/it]\n",
      "100%|████████████████████████████████████████████████████████████████████████████████████| 4/4 [00:09<00:00,  2.37s/it]\n",
      "100%|████████████████████████████████████████████████████████████████████████████████████| 4/4 [00:09<00:00,  2.39s/it]\n",
      "100%|████████████████████████████████████████████████████████████████████████████████████| 4/4 [00:09<00:00,  2.40s/it]\n",
      "100%|████████████████████████████████████████████████████████████████████████████████████| 4/4 [00:09<00:00,  2.40s/it]\n",
      "100%|████████████████████████████████████████████████████████████████████████████████████| 4/4 [00:09<00:00,  2.47s/it]\n",
      "100%|████████████████████████████████████████████████████████████████████████████████████| 4/4 [00:10<00:00,  2.52s/it]\n",
      "100%|████████████████████████████████████████████████████████████████████████████████████| 4/4 [00:09<00:00,  2.36s/it]\n",
      "100%|████████████████████████████████████████████████████████████████████████████████████| 4/4 [00:09<00:00,  2.40s/it]\n",
      "100%|████████████████████████████████████████████████████████████████████████████████████| 4/4 [00:09<00:00,  2.34s/it]\n",
      "100%|████████████████████████████████████████████████████████████████████████████████████| 4/4 [00:09<00:00,  2.39s/it]\n",
      "100%|████████████████████████████████████████████████████████████████████████████████████| 4/4 [00:09<00:00,  2.39s/it]\n",
      "100%|████████████████████████████████████████████████████████████████████████████████████| 4/4 [00:11<00:00,  2.77s/it]\n",
      "100%|████████████████████████████████████████████████████████████████████████████████████| 4/4 [00:09<00:00,  2.39s/it]\n",
      "100%|████████████████████████████████████████████████████████████████████████████████████| 4/4 [00:09<00:00,  2.39s/it]\n",
      "100%|████████████████████████████████████████████████████████████████████████████████████| 4/4 [00:09<00:00,  2.42s/it]\n",
      "100%|████████████████████████████████████████████████████████████████████████████████████| 4/4 [00:09<00:00,  2.41s/it]\n",
      "100%|████████████████████████████████████████████████████████████████████████████████████| 4/4 [00:09<00:00,  2.39s/it]\n",
      "100%|████████████████████████████████████████████████████████████████████████████████████| 4/4 [00:09<00:00,  2.48s/it]\n",
      "100%|████████████████████████████████████████████████████████████████████████████████████| 4/4 [00:09<00:00,  2.42s/it]\n",
      "100%|████████████████████████████████████████████████████████████████████████████████████| 4/4 [00:09<00:00,  2.40s/it]\n"
     ]
    },
    {
     "name": "stderr",
     "output_type": "stream",
     "text": [
      "100%|████████████████████████████████████████████████████████████████████████████████████| 4/4 [00:09<00:00,  2.41s/it]\n",
      "100%|████████████████████████████████████████████████████████████████████████████████████| 4/4 [00:09<00:00,  2.39s/it]\n",
      "100%|████████████████████████████████████████████████████████████████████████████████████| 4/4 [00:11<00:00,  2.75s/it]\n",
      "100%|████████████████████████████████████████████████████████████████████████████████████| 4/4 [00:09<00:00,  2.45s/it]\n",
      "100%|████████████████████████████████████████████████████████████████████████████████████| 4/4 [00:09<00:00,  2.41s/it]\n",
      "100%|████████████████████████████████████████████████████████████████████████████████████| 4/4 [00:09<00:00,  2.39s/it]\n",
      "100%|████████████████████████████████████████████████████████████████████████████████████| 4/4 [00:09<00:00,  2.37s/it]\n",
      "100%|████████████████████████████████████████████████████████████████████████████████████| 4/4 [00:09<00:00,  2.38s/it]\n",
      "100%|████████████████████████████████████████████████████████████████████████████████████| 4/4 [00:09<00:00,  2.40s/it]\n",
      "100%|████████████████████████████████████████████████████████████████████████████████████| 4/4 [00:09<00:00,  2.45s/it]\n",
      "100%|████████████████████████████████████████████████████████████████████████████████████| 4/4 [00:09<00:00,  2.36s/it]\n",
      "100%|████████████████████████████████████████████████████████████████████████████████████| 4/4 [00:09<00:00,  2.42s/it]\n",
      "100%|████████████████████████████████████████████████████████████████████████████████████| 4/4 [00:09<00:00,  2.42s/it]\n",
      "100%|████████████████████████████████████████████████████████████████████████████████████| 4/4 [00:09<00:00,  2.41s/it]\n",
      "100%|████████████████████████████████████████████████████████████████████████████████████| 4/4 [00:09<00:00,  2.40s/it]\n",
      "100%|████████████████████████████████████████████████████████████████████████████████████| 4/4 [00:09<00:00,  2.47s/it]\n",
      "100%|████████████████████████████████████████████████████████████████████████████████████| 4/4 [00:09<00:00,  2.40s/it]\n",
      "100%|████████████████████████████████████████████████████████████████████████████████████| 4/4 [00:09<00:00,  2.36s/it]\n",
      "100%|████████████████████████████████████████████████████████████████████████████████████| 4/4 [00:09<00:00,  2.35s/it]\n",
      "100%|████████████████████████████████████████████████████████████████████████████████████| 4/4 [00:09<00:00,  2.41s/it]\n",
      "100%|████████████████████████████████████████████████████████████████████████████████████| 4/4 [00:09<00:00,  2.40s/it]\n",
      "100%|████████████████████████████████████████████████████████████████████████████████████| 4/4 [00:09<00:00,  2.42s/it]\n",
      "100%|████████████████████████████████████████████████████████████████████████████████████| 4/4 [00:09<00:00,  2.42s/it]\n",
      "100%|████████████████████████████████████████████████████████████████████████████████████| 4/4 [00:09<00:00,  2.39s/it]\n",
      "100%|████████████████████████████████████████████████████████████████████████████████████| 4/4 [00:09<00:00,  2.38s/it]\n",
      "100%|████████████████████████████████████████████████████████████████████████████████████| 4/4 [00:09<00:00,  2.43s/it]\n",
      "100%|████████████████████████████████████████████████████████████████████████████████████| 4/4 [00:09<00:00,  2.43s/it]\n",
      "100%|████████████████████████████████████████████████████████████████████████████████████| 4/4 [00:09<00:00,  2.39s/it]\n",
      "100%|████████████████████████████████████████████████████████████████████████████████████| 4/4 [00:09<00:00,  2.47s/it]\n",
      "100%|████████████████████████████████████████████████████████████████████████████████████| 4/4 [00:09<00:00,  2.40s/it]\n",
      "100%|████████████████████████████████████████████████████████████████████████████████████| 4/4 [00:10<00:00,  2.71s/it]\n",
      "100%|████████████████████████████████████████████████████████████████████████████████████| 4/4 [00:10<00:00,  2.60s/it]\n"
     ]
    },
    {
     "name": "stdout",
     "output_type": "stream",
     "text": [
      "CPU times: total: 16min 55s\n",
      "Wall time: 17min 38s\n"
     ]
    }
   ],
   "source": [
    "%%time\n",
    "H2_approximated_k_eigenvalues = get_approximated_k_eigenvalues_of_hamiltonian(H2_molecule_Hamiltonian_4_qubits)"
   ]
  },
  {
   "cell_type": "code",
   "execution_count": 37,
   "id": "a95162a1",
   "metadata": {},
   "outputs": [
    {
     "name": "stdout",
     "output_type": "stream",
     "text": [
      "Exact K Eigenvalues:\n",
      "[(-1.8572750302023793+0j), (-1.25633907300325+0j), (-1.2563390730032498+0j), (-1.2445845498133272+0j)]\n",
      "\n",
      "Approximated K Eigenvalues:\n",
      "[-0.7777604893190466, -0.6735386786350909, -0.5977243543178954, -0.5136638479187221]\n",
      "\n",
      "Mean Approximation error:\n",
      "0.5391594101963663\n"
     ]
    }
   ],
   "source": [
    "compare_exact_and_approximated_eigenvectors(H2_molecule_Hamiltonian_4_qubits, H2_approximated_k_eigenvalues)"
   ]
  },
  {
   "cell_type": "code",
   "execution_count": 38,
   "id": "7069bbed",
   "metadata": {},
   "outputs": [
    {
     "name": "stdout",
     "output_type": "stream",
     "text": [
      "{'approximated_eneriges_0': [-7.188801984377791, -7.134689648752158, -7.179127204688834, -7.224758887725214, -7.2863078438018976, -7.372773870494362, -7.207270667317686, -7.413687350341411, -7.428121763693766, -7.328343447146835, -7.3915770925029225, -7.358136618920451, -7.252774045097725, -7.466883287608596, -7.369830877567047, -7.487226088585458, -7.24174938603287, -7.561737064104707, -7.547488349772367, -7.460743666897275, -7.55845619414137, -7.187874823746111, -7.559074993534476, -7.391897662381548, -7.609399754507748, -7.377056681120491, -7.549084027578189, -7.321236210994772, -7.6048638639259085, -7.519823002667011, -7.606996713340115, -7.579876326926382, -7.58584664923799, -7.553764660411169, -7.61046246002371, -7.421726833775241, -7.567507219689139, -7.58213580248592, -7.640525374560105, -7.531835796868543, -7.554756378951443, -7.281874369047035, -7.6472225615248055, -7.645517220756481, -7.531009578421864, -7.6419521025275765, -7.640594096476325, -7.662394967216955, -7.593855153979836, -7.657999414308448, -7.61418397491712, -7.661234510546758, -7.646933249547571, -7.624795037097809, -7.641968808193135, -7.603291000742781, -7.651951333260504, -7.644516963493974, -7.641983954474247, -7.646940606970922, -7.6570318073483135, -7.658093229950389, -7.655243328482831, -7.67211997969252, -7.660558130861979, -7.662844927645315, -7.629895051581609, -7.659629186932058, -7.671146703380116, -7.666997763395515, -7.662233511190833, -7.666032883898815, -7.6711201247398515, -7.659647399144287, -7.669143790122764, -7.6550828131761515, -7.669135887569947, -7.665874271799051, -7.67023472522865, -7.682938041743126, -7.662783786103197, -7.683333352679972, -7.6415447644214956, -7.65764120726737, -7.664122715451331, -7.6830695679328365, -7.655652222709959, -7.655543948710485, -7.668183369417409, -7.661171297744671, -7.66218990123321, -7.668065710910118, -7.660214710056073, -7.65305892969307, -7.654747010435949, -7.650195929391692, -7.6709162867782945, -7.6608454807831246, -7.664463761171443, -7.6584348535187665], 'approximated_eneriges_1': [-7.621036297241042, -7.546655850405033, -7.602906150829525, -7.605805297461899, -7.643548910453084, -7.539645916710875, -7.5581066199755425, -7.655417821308429, -7.593048970199803, -7.572019650140179, -7.567579001679394, -7.618186208840072, -7.523671049746576, -7.570412591829459, -7.579194289750557, -7.575288055760595, -7.549308356751919, -7.599235026008796, -7.577088273518248, -7.627007281301124, -7.574945303387528, -7.551631672096014, -7.489958598813136, -7.544133900824713, -7.587645864895708, -7.51349197753548, -7.608745224712012, -7.5225431497038615, -7.5525438380311085, -7.48207663464102, -7.604625402235675, -7.584642557536056, -7.605147765263373, -7.597748035744163, -7.643414094606937, -7.5753968926878095, -7.602079564904018, -7.61594339087383, -7.628343886472414, -7.602530289371864, -7.675496065034809, -7.525089284399193, -7.608386988755737, -7.594735297984094, -7.5577373102230725, -7.60607081104482, -7.620532747045051, -7.604089677998537, -7.5986957804600985, -7.602867186234428, -7.619980128123958, -7.595879367713117, -7.582930652327032, -7.588863364230547, -7.575671233139272, -7.61901291801193, -7.585710701302098, -7.588037212902567, -7.577550430034395, -7.574924589624802, -7.578642969725941, -7.574008327128824, -7.559201632824614, -7.597965178096565, -7.605986793772225, -7.5717095760483195, -7.562502665786023, -7.586942097998333, -7.5783733961852615, -7.588166955138117, -7.6105164261540885, -7.592269697765173, -7.602691496321397, -7.587451895994067, -7.597846079970408, -7.598505088562745, -7.583314390333937, -7.5707154031310635, -7.594416178877066, -7.617233177443749, -7.621912892054864, -7.611451936741467, -7.575307012481554, -7.596884378316218, -7.592837269552041, -7.598108982975684, -7.6101302481328155, -7.618200762150151, -7.596604691886045, -7.599688971628006, -7.608303411381924, -7.605982439881032, -7.598215694479405, -7.603463077524652, -7.616084032592818, -7.594211815932998, -7.601611870285922, -7.60469795991014, -7.603593014407289, -7.59967745531924], 'approximated_eneriges_2': [-7.4758293608230035, -7.597291259610309, -7.44308383355827, -7.401631976987798, -7.511672238938571, -7.5619665328150445, -7.673904043158113, -7.346982601891904, -7.458676133663013, -7.510296867765859, -7.537530612783717, -7.411314942293927, -7.396830571466054, -7.312443286916525, -7.500765128786079, -7.320174471402731, -7.469496413333704, -7.322266138374247, -7.352808631462479, -7.356870980589902, -7.31506357552387, -7.673507553023767, -7.264097541337042, -7.516513906414213, -7.318153105898477, -7.515829752997524, -7.263832226108803, -7.551111948640735, -7.326965903371263, -7.4809970060636415, -7.286412815237598, -7.337371197968821, -7.319674796348711, -7.389863618907279, -7.3312272862356735, -7.290458466800197, -7.331435393204093, -7.34729091169378, -7.330814271055136, -7.36477799708096, -7.413012282522988, -7.594136464305459, -7.410914989989409, -7.435037554302736, -7.588328673754121, -7.409485398777518, -7.371569726831603, -7.396582499787375, -7.458689477470936, -7.427504001666163, -7.453581505364901, -7.424568118108547, -7.3852190212943025, -7.451179199679655, -7.366576783781503, -7.468903909476178, -7.4388678798723, -7.475314475587071, -7.451528360362178, -7.43253214269081, -7.4566805846037, -7.469245864907044, -7.4797183460361145, -7.44261232845716, -7.449907992857057, -7.415241255139192, -7.484380257898, -7.461508544664889, -7.460993290918239, -7.447898614363539, -7.450645739856129, -7.4352600197990695, -7.4476928636002135, -7.460250539405989, -7.458452774734609, -7.438562072863973, -7.4579413172811755, -7.43169214580139, -7.4538777371503935, -7.452952310957366, -7.458391242832845, -7.426109180912953, -7.469994591410726, -7.457707012760547, -7.462888422858594, -7.426458172735403, -7.443090589293762, -7.4332928283183, -7.443276188180777, -7.449943341416615, -7.434401670908267, -7.47016330431783, -7.452387420264088, -7.442363514108463, -7.4602703418047005, -7.442796170297839, -7.44689485493584, -7.4506431128483905, -7.45146031875382, -7.447099771677498], 'approximated_eneriges_3': [-7.634360619768123, -7.650704555503893, -7.5853969945427195, -7.636328061108084, -7.6031095608700126, -7.59623816059008, -7.745354953749241, -7.680313914569679, -7.610381370109846, -7.591563359845994, -7.474527116360329, -7.633478457741542, -7.573852961407908, -7.661398033952624, -7.637811328927071, -7.660508129733365, -7.582238376530992, -7.645614842713286, -7.6196269356069, -7.66452684419791, -7.586744359702056, -7.684251386193303, -7.540266117006307, -7.670537590893408, -7.613590550939354, -7.555514180510041, -7.608438462566094, -7.656422938844591, -7.644139815426023, -7.560059385387166, -7.60831169967084, -7.617441406237519, -7.606732610987651, -7.649471809841117, -7.639263387929916, -7.648191668920939, -7.615013712591872, -7.639890178395549, -7.64761426134188, -7.597054235040359, -7.634061213342625, -7.629737417831335, -7.608294887112638, -7.63725789602874, -7.631213061080918, -7.639942192375202, -7.645984725325037, -7.625133948966949, -7.5951422921375515, -7.594082005821117, -7.632209232644153, -7.63158021635471, -7.662492432916323, -7.652426886562908, -7.578514839262577, -7.642650059938748, -7.636178627355888, -7.636716118859412, -7.624872204873318, -7.643796557819595, -7.621192922152721, -7.619097287720029, -7.654477842114466, -7.650978258658592, -7.645499167112879, -7.657536759354995, -7.636720772322368, -7.630585008005721, -7.6302301772376495, -7.64655954532125, -7.634523389047863, -7.647886555798915, -7.63572990062669, -7.622504598450385, -7.6403800270909805, -7.643276796839659, -7.634458757521333, -7.660231523185357, -7.6474155792432414, -7.643014470256801, -7.623027987919856, -7.640062522258944, -7.6322683113813685, -7.627750287378524, -7.642576871232863, -7.640004897021717, -7.630926598869326, -7.631391881992968, -7.637583880521842, -7.624731589169993, -7.635334143678729, -7.630738048787721, -7.64168970204447, -7.620476939800899, -7.624872356138697, -7.633699452655818, -7.638789749663096, -7.622776562243416, -7.640933385364202, -7.62487592622126]}\n"
     ]
    }
   ],
   "source": [
    "print(approximated_energies_dict)\n",
    "approximated_energies_dict = initialize_approximated_energies_dict()"
   ]
  },
  {
   "cell_type": "code",
   "execution_count": 39,
   "id": "a90d45a9",
   "metadata": {},
   "outputs": [
    {
     "name": "stdout",
     "output_type": "stream",
     "text": [
      "[(-1.8572750302023793+0j), (-1.25633907300325+0j), (-1.2563390730032498+0j), (-1.2445845498133272+0j)]\n"
     ]
    },
    {
     "data": {
      "image/png": "[encoded data removed]",
      "text/plain": [
       "<Figure size 432x288 with 1 Axes>"
      ]
     },
     "metadata": {
      "needs_background": "light"
     },
     "output_type": "display_data"
    }
   ],
   "source": [
    "H2_approximated_energies = {'approximated_eneriges_0': [-7.231052657869664, -7.078319612689266, -7.215401871826676, -7.230221135636873, -7.262455020005291, -7.267031049860837, -7.501572363017872, -7.4813356803216, -7.4947234955867215, -7.467291869278843], 'approximated_eneriges_1': [-7.563886100199448, -7.658659320088765, -7.578874516640113, -7.5780818494863516, -7.560965458088562, -7.637089945397857, -7.663568893024004, -7.5617725937859115, -7.705323888763656, -7.702392677865555], 'approximated_eneriges_2': [-7.579265030661066, -7.5773451380441585, -7.599916344085796, -7.618297129617218, -7.60986111046384, -7.491511476610149, -7.270122634763994, -7.295684673991992, -7.268791877445621, -7.325654461172013], 'approximated_eneriges_3': [-7.592367719916387, -7.681333606694948, -7.696180773666084, -7.713150310751485, -7.710985775433959, -7.709751408629662, -7.676158468825629, -7.621108302975905, -7.706198964984833, -7.67241616951112]}\n",
    "plot_convergence_of_optimization_process(H2_approximated_energies, H2_molecule_Hamiltonian_4_qubits, margin=0.01)"
   ]
  },
  {
   "cell_type": "markdown",
   "id": "cf3d964d",
   "metadata": {},
   "source": [
    "##  Transverse Ising Model 4 qubits"
   ]
  },
  {
   "cell_type": "code",
   "execution_count": 40,
   "id": "60d3ee06",
   "metadata": {},
   "outputs": [],
   "source": [
    "transverse_ising_4_qubits = 0.0 * (I^I^I^I) \\\n",
    "    + 0.8398088405253477 * (X^I^I^I) \\\n",
    "    + 0.7989496312070936 * (I^X^I^I) \\\n",
    "    + 0.38189710487113193 * (Z^Z^I^I) \\\n",
    "    + 0.057753122422666725 * (I^I^X^I) \\\n",
    "    + 0.5633292636970458 * (Z^I^Z^I) \\\n",
    "    + 0.3152740621483513 * (I^Z^Z^I) \\\n",
    "    + 0.07209487981989715 * (I^I^I^X) \\\n",
    "    + 0.17892334004292654 * (Z^I^I^Z) \\\n",
    "    + 0.2273896497668042 * (I^Z^I^Z) \\\n",
    "    + 0.09762902934216211 * (I^I^Z^Z)"
   ]
  },
  {
   "cell_type": "code",
   "execution_count": 41,
   "id": "4d58ada7",
   "metadata": {},
   "outputs": [
    {
     "name": "stderr",
     "output_type": "stream",
     "text": [
      "100%|████████████████████████████████████████████████████████████████████████████████████| 4/4 [00:10<00:00,  2.54s/it]\n",
      "100%|████████████████████████████████████████████████████████████████████████████████████| 4/4 [00:09<00:00,  2.47s/it]\n",
      "100%|████████████████████████████████████████████████████████████████████████████████████| 4/4 [00:09<00:00,  2.44s/it]\n",
      "100%|████████████████████████████████████████████████████████████████████████████████████| 4/4 [00:09<00:00,  2.38s/it]\n",
      "100%|████████████████████████████████████████████████████████████████████████████████████| 4/4 [00:09<00:00,  2.40s/it]\n",
      "100%|████████████████████████████████████████████████████████████████████████████████████| 4/4 [00:09<00:00,  2.43s/it]\n",
      "100%|████████████████████████████████████████████████████████████████████████████████████| 4/4 [00:09<00:00,  2.40s/it]\n",
      "100%|████████████████████████████████████████████████████████████████████████████████████| 4/4 [00:09<00:00,  2.48s/it]\n",
      "100%|████████████████████████████████████████████████████████████████████████████████████| 4/4 [00:09<00:00,  2.41s/it]\n",
      "100%|████████████████████████████████████████████████████████████████████████████████████| 4/4 [00:09<00:00,  2.40s/it]\n",
      "100%|████████████████████████████████████████████████████████████████████████████████████| 4/4 [00:09<00:00,  2.42s/it]\n",
      "100%|████████████████████████████████████████████████████████████████████████████████████| 4/4 [00:09<00:00,  2.39s/it]\n",
      "100%|████████████████████████████████████████████████████████████████████████████████████| 4/4 [00:09<00:00,  2.39s/it]\n",
      "100%|████████████████████████████████████████████████████████████████████████████████████| 4/4 [00:10<00:00,  2.54s/it]\n",
      "100%|████████████████████████████████████████████████████████████████████████████████████| 4/4 [00:09<00:00,  2.47s/it]\n",
      "100%|████████████████████████████████████████████████████████████████████████████████████| 4/4 [00:10<00:00,  2.53s/it]\n",
      "100%|████████████████████████████████████████████████████████████████████████████████████| 4/4 [00:09<00:00,  2.44s/it]\n",
      "100%|████████████████████████████████████████████████████████████████████████████████████| 4/4 [00:09<00:00,  2.48s/it]\n",
      "100%|████████████████████████████████████████████████████████████████████████████████████| 4/4 [00:09<00:00,  2.38s/it]\n",
      "100%|████████████████████████████████████████████████████████████████████████████████████| 4/4 [00:09<00:00,  2.44s/it]\n",
      "100%|████████████████████████████████████████████████████████████████████████████████████| 4/4 [00:10<00:00,  2.54s/it]\n",
      "100%|████████████████████████████████████████████████████████████████████████████████████| 4/4 [00:09<00:00,  2.40s/it]\n",
      "100%|████████████████████████████████████████████████████████████████████████████████████| 4/4 [00:09<00:00,  2.42s/it]\n",
      "100%|████████████████████████████████████████████████████████████████████████████████████| 4/4 [00:09<00:00,  2.46s/it]\n",
      "100%|████████████████████████████████████████████████████████████████████████████████████| 4/4 [00:09<00:00,  2.40s/it]\n",
      "100%|████████████████████████████████████████████████████████████████████████████████████| 4/4 [00:09<00:00,  2.44s/it]\n",
      "100%|████████████████████████████████████████████████████████████████████████████████████| 4/4 [00:09<00:00,  2.40s/it]\n",
      "100%|████████████████████████████████████████████████████████████████████████████████████| 4/4 [00:09<00:00,  2.43s/it]\n",
      "100%|████████████████████████████████████████████████████████████████████████████████████| 4/4 [00:09<00:00,  2.42s/it]\n",
      "100%|████████████████████████████████████████████████████████████████████████████████████| 4/4 [00:09<00:00,  2.46s/it]\n",
      "100%|████████████████████████████████████████████████████████████████████████████████████| 4/4 [00:09<00:00,  2.44s/it]\n",
      "100%|████████████████████████████████████████████████████████████████████████████████████| 4/4 [00:09<00:00,  2.43s/it]\n",
      "100%|████████████████████████████████████████████████████████████████████████████████████| 4/4 [00:09<00:00,  2.48s/it]\n",
      "100%|████████████████████████████████████████████████████████████████████████████████████| 4/4 [00:09<00:00,  2.40s/it]\n",
      "100%|████████████████████████████████████████████████████████████████████████████████████| 4/4 [00:09<00:00,  2.46s/it]\n",
      "100%|████████████████████████████████████████████████████████████████████████████████████| 4/4 [00:09<00:00,  2.40s/it]\n",
      "100%|████████████████████████████████████████████████████████████████████████████████████| 4/4 [00:09<00:00,  2.45s/it]\n",
      "100%|████████████████████████████████████████████████████████████████████████████████████| 4/4 [00:09<00:00,  2.42s/it]\n",
      "100%|████████████████████████████████████████████████████████████████████████████████████| 4/4 [00:09<00:00,  2.45s/it]\n",
      "100%|████████████████████████████████████████████████████████████████████████████████████| 4/4 [00:09<00:00,  2.41s/it]\n",
      "100%|████████████████████████████████████████████████████████████████████████████████████| 4/4 [00:09<00:00,  2.45s/it]\n",
      "100%|████████████████████████████████████████████████████████████████████████████████████| 4/4 [00:09<00:00,  2.42s/it]\n",
      "100%|████████████████████████████████████████████████████████████████████████████████████| 4/4 [00:09<00:00,  2.44s/it]\n",
      "100%|████████████████████████████████████████████████████████████████████████████████████| 4/4 [00:09<00:00,  2.44s/it]\n",
      "100%|████████████████████████████████████████████████████████████████████████████████████| 4/4 [00:09<00:00,  2.44s/it]\n",
      "100%|████████████████████████████████████████████████████████████████████████████████████| 4/4 [00:09<00:00,  2.43s/it]\n",
      "100%|████████████████████████████████████████████████████████████████████████████████████| 4/4 [00:09<00:00,  2.42s/it]\n",
      "100%|████████████████████████████████████████████████████████████████████████████████████| 4/4 [00:09<00:00,  2.43s/it]\n",
      "100%|████████████████████████████████████████████████████████████████████████████████████| 4/4 [00:09<00:00,  2.39s/it]\n",
      "100%|████████████████████████████████████████████████████████████████████████████████████| 4/4 [00:10<00:00,  2.55s/it]\n",
      "100%|████████████████████████████████████████████████████████████████████████████████████| 4/4 [00:10<00:00,  2.58s/it]\n",
      "100%|████████████████████████████████████████████████████████████████████████████████████| 4/4 [00:11<00:00,  2.90s/it]\n",
      "100%|████████████████████████████████████████████████████████████████████████████████████| 4/4 [00:09<00:00,  2.30s/it]\n",
      "100%|████████████████████████████████████████████████████████████████████████████████████| 4/4 [00:08<00:00,  2.22s/it]\n",
      "100%|████████████████████████████████████████████████████████████████████████████████████| 4/4 [00:08<00:00,  2.16s/it]\n",
      "100%|████████████████████████████████████████████████████████████████████████████████████| 4/4 [00:08<00:00,  2.15s/it]\n",
      "100%|████████████████████████████████████████████████████████████████████████████████████| 4/4 [00:08<00:00,  2.21s/it]\n",
      "100%|████████████████████████████████████████████████████████████████████████████████████| 4/4 [00:08<00:00,  2.22s/it]\n",
      "100%|████████████████████████████████████████████████████████████████████████████████████| 4/4 [00:09<00:00,  2.26s/it]\n",
      "100%|████████████████████████████████████████████████████████████████████████████████████| 4/4 [00:08<00:00,  2.18s/it]\n",
      "100%|████████████████████████████████████████████████████████████████████████████████████| 4/4 [00:08<00:00,  2.25s/it]\n",
      "100%|████████████████████████████████████████████████████████████████████████████████████| 4/4 [00:08<00:00,  2.21s/it]\n",
      "100%|████████████████████████████████████████████████████████████████████████████████████| 4/4 [00:09<00:00,  2.27s/it]\n",
      "100%|████████████████████████████████████████████████████████████████████████████████████| 4/4 [00:09<00:00,  2.32s/it]\n",
      "100%|████████████████████████████████████████████████████████████████████████████████████| 4/4 [00:09<00:00,  2.30s/it]\n",
      "100%|████████████████████████████████████████████████████████████████████████████████████| 4/4 [00:08<00:00,  2.23s/it]\n",
      "100%|████████████████████████████████████████████████████████████████████████████████████| 4/4 [00:08<00:00,  2.17s/it]\n",
      "100%|████████████████████████████████████████████████████████████████████████████████████| 4/4 [00:08<00:00,  2.21s/it]\n"
     ]
    },
    {
     "name": "stderr",
     "output_type": "stream",
     "text": [
      "100%|████████████████████████████████████████████████████████████████████████████████████| 4/4 [00:08<00:00,  2.19s/it]\n",
      "100%|████████████████████████████████████████████████████████████████████████████████████| 4/4 [00:08<00:00,  2.14s/it]\n",
      "100%|████████████████████████████████████████████████████████████████████████████████████| 4/4 [00:09<00:00,  2.29s/it]\n",
      "100%|████████████████████████████████████████████████████████████████████████████████████| 4/4 [00:09<00:00,  2.34s/it]\n",
      "100%|████████████████████████████████████████████████████████████████████████████████████| 4/4 [00:09<00:00,  2.27s/it]\n",
      "100%|████████████████████████████████████████████████████████████████████████████████████| 4/4 [00:08<00:00,  2.23s/it]\n",
      "100%|████████████████████████████████████████████████████████████████████████████████████| 4/4 [00:09<00:00,  2.26s/it]\n",
      "100%|████████████████████████████████████████████████████████████████████████████████████| 4/4 [00:09<00:00,  2.26s/it]\n",
      "100%|████████████████████████████████████████████████████████████████████████████████████| 4/4 [00:08<00:00,  2.14s/it]\n",
      "100%|████████████████████████████████████████████████████████████████████████████████████| 4/4 [00:09<00:00,  2.30s/it]\n",
      "100%|████████████████████████████████████████████████████████████████████████████████████| 4/4 [00:09<00:00,  2.31s/it]\n",
      "100%|████████████████████████████████████████████████████████████████████████████████████| 4/4 [00:08<00:00,  2.15s/it]\n",
      "100%|████████████████████████████████████████████████████████████████████████████████████| 4/4 [00:08<00:00,  2.24s/it]\n",
      "100%|████████████████████████████████████████████████████████████████████████████████████| 4/4 [00:09<00:00,  2.34s/it]\n",
      "100%|████████████████████████████████████████████████████████████████████████████████████| 4/4 [00:08<00:00,  2.19s/it]\n",
      "100%|████████████████████████████████████████████████████████████████████████████████████| 4/4 [00:09<00:00,  2.31s/it]\n",
      "100%|████████████████████████████████████████████████████████████████████████████████████| 4/4 [00:08<00:00,  2.15s/it]\n",
      "100%|████████████████████████████████████████████████████████████████████████████████████| 4/4 [00:08<00:00,  2.21s/it]\n",
      "100%|████████████████████████████████████████████████████████████████████████████████████| 4/4 [00:08<00:00,  2.18s/it]\n",
      "100%|████████████████████████████████████████████████████████████████████████████████████| 4/4 [00:09<00:00,  2.32s/it]\n",
      "100%|████████████████████████████████████████████████████████████████████████████████████| 4/4 [00:08<00:00,  2.15s/it]\n",
      "100%|████████████████████████████████████████████████████████████████████████████████████| 4/4 [00:08<00:00,  2.23s/it]\n",
      "100%|████████████████████████████████████████████████████████████████████████████████████| 4/4 [00:08<00:00,  2.24s/it]\n",
      "100%|████████████████████████████████████████████████████████████████████████████████████| 4/4 [00:08<00:00,  2.21s/it]\n",
      "100%|████████████████████████████████████████████████████████████████████████████████████| 4/4 [00:08<00:00,  2.19s/it]\n",
      "100%|████████████████████████████████████████████████████████████████████████████████████| 4/4 [00:08<00:00,  2.24s/it]\n",
      "100%|████████████████████████████████████████████████████████████████████████████████████| 4/4 [00:08<00:00,  2.23s/it]\n",
      "100%|████████████████████████████████████████████████████████████████████████████████████| 4/4 [00:08<00:00,  2.22s/it]\n",
      "100%|████████████████████████████████████████████████████████████████████████████████████| 4/4 [00:09<00:00,  2.30s/it]\n",
      "100%|████████████████████████████████████████████████████████████████████████████████████| 4/4 [00:09<00:00,  2.26s/it]\n",
      "100%|████████████████████████████████████████████████████████████████████████████████████| 4/4 [00:09<00:00,  2.26s/it]\n",
      "100%|████████████████████████████████████████████████████████████████████████████████████| 4/4 [00:09<00:00,  2.29s/it]\n"
     ]
    },
    {
     "name": "stdout",
     "output_type": "stream",
     "text": [
      "CPU times: total: 15min 22s\n",
      "Wall time: 15min 42s\n"
     ]
    }
   ],
   "source": [
    "%%time\n",
    "TI_approximated_k_eigenvalues = get_approximated_k_eigenvalues_of_hamiltonian(transverse_ising_4_qubits)"
   ]
  },
  {
   "cell_type": "code",
   "execution_count": 42,
   "id": "e8e7313c",
   "metadata": {},
   "outputs": [
    {
     "name": "stdout",
     "output_type": "stream",
     "text": [
      "Exact K Eigenvalues:\n",
      "[(-1.9994855800333675+0j), (-1.9080638482930956+0j), (-1.8497137109270194+0j), (-1.7583827504312988+0j)]\n",
      "\n",
      "Approximated K Eigenvalues:\n",
      "[1.3290864882981321, 1.499809612547787, 1.8655597729585458, 1.9227581244692806]\n",
      "\n",
      "Mean Approximation error:\n",
      "0.16282402812018626\n"
     ]
    }
   ],
   "source": [
    "compare_exact_and_approximated_eigenvectors(transverse_ising_4_qubits, TI_approximated_k_eigenvalues)"
   ]
  },
  {
   "cell_type": "code",
   "execution_count": 43,
   "id": "27c88461",
   "metadata": {},
   "outputs": [
    {
     "name": "stdout",
     "output_type": "stream",
     "text": [
      "{'approximated_eneriges_0': [-7.490700593111317, -7.569308492554165, -7.438191844805709, -7.5867839345437424, -7.558493626890667, -7.4168428878734405, -7.638427855426193, -7.509673777059569, -7.554367078537331, -7.5798112461689175, -7.4763776257680945, -7.587119520618607, -7.592825860419122, -7.173527304372202, -7.4544549514346725, -7.555678140078989, -7.535576045814802, -7.569293067297772, -7.56767162957801, -7.660024094145796, -7.6534596083536455, -7.6960941658733715, -7.64841724078481, -7.707026267752197, -7.725043491750451, -7.736032243319994, -7.7252843912854585, -7.670864164020332, -7.729738251616463, -7.725558469104271, -7.732160342721239, -7.643999491391236, -7.754687811548367, -7.746540675348194, -7.702714707498153, -7.7090481935872175, -7.7468713351869365, -7.74518697130509, -7.7386397704422105, -7.741273567860519, -7.701120737697892, -7.740945064435749, -7.739231727095247, -7.750343376378801, -7.741793840123544, -7.747793926062887, -7.747395046530334, -7.740045706948089, -7.748533783050176, -7.737944503003912, -7.744595126957544, -7.738494063748944, -7.737035284737065, -7.73831496378503, -7.740240306502166, -7.749912568661352, -7.744815575408567, -7.7386196613828835, -7.7499543950527086, -7.745510334264755, -7.743081612358921, -7.747235524846596, -7.7467917638545805, -7.744053748375225, -7.744347581243033, -7.7371820600240175, -7.745178801367279, -7.7460981175313535, -7.745219991058255, -7.7311512043068555, -7.748306900566917, -7.745463373079766, -7.736930657608808, -7.742141937443577, -7.745663754056365, -7.745752050831397, -7.742205174382401, -7.748465549432593, -7.74660558932534, -7.738940731146555, -7.741560912166548, -7.740684458066804, -7.747654480307507, -7.738735125439226, -7.7480373602369825, -7.7421821492136065, -7.743448143151299, -7.743475905927158, -7.741368809635856, -7.750728797676603, -7.74406282306279, -7.742032443539051, -7.741556367872175, -7.7482168385811585, -7.748623487456212, -7.741122762173406, -7.749673827170688, -7.742633458902046, -7.741807998332814, -7.743385452298111], 'approximated_eneriges_1': [-7.498875213028647, -7.405809549455485, -7.457195924752599, -7.397042688496778, -7.403347379960856, -7.558528391206578, -7.483349298782877, -7.575644024140193, -7.462991377175781, -7.58634712206907, -7.605813193428653, -7.634374792728323, -7.6322795704035284, -7.520014857564446, -7.598229064316597, -7.580439154997415, -7.586250127592759, -7.630303873657242, -7.6000979328356, -7.66981474274782, -7.627990087981677, -7.682653924666011, -7.656673485080308, -7.665293931562553, -7.649858880069245, -7.644878742698049, -7.651765666126157, -7.634016206141723, -7.637998081570423, -7.655167516628855, -7.668985384261396, -7.624293977302309, -7.663118794668695, -7.653248341038974, -7.626947704305543, -7.615652837718018, -7.660634125778163, -7.663561836054539, -7.66422952668453, -7.650700550030138, -7.637576103152632, -7.672517175203126, -7.653305614086572, -7.668591855054952, -7.648948360957195, -7.659488877433384, -7.6546965732426555, -7.655831602124327, -7.658054422857429, -7.653428217935682, -7.651574213163033, -7.653314134150782, -7.663401429008421, -7.656375364748416, -7.653249046971278, -7.645975287805129, -7.665322847407086, -7.6537268321760275, -7.65861275190006, -7.659009955381427, -7.65679133572994, -7.654909644647766, -7.666263225307099, -7.659876492807621, -7.66164320018414, -7.663492961467836, -7.662056193014664, -7.656322172040608, -7.653393094415117, -7.660618557372355, -7.650568777995836, -7.6519255362766145, -7.654785178381361, -7.658417245100965, -7.661075328729892, -7.663543795042967, -7.657780516137844, -7.655516738258367, -7.659636419217151, -7.65786263348103, -7.667012256397779, -7.655882859929407, -7.661443416381982, -7.658856156920768, -7.651257807929011, -7.661831083449607, -7.661140036923106, -7.658750984640213, -7.655636971441499, -7.661734856907199, -7.659939252151546, -7.660194842049269, -7.657504087152969, -7.657370878207886, -7.653377616195395, -7.666238521969632, -7.652528059420054, -7.6569616909000695, -7.657966569221401, -7.6560767757161505], 'approximated_eneriges_2': [-7.391678678017952, -7.512326574816906, -7.490652900404738, -7.513273038047977, -7.466973552683195, -7.515439914127516, -7.396557326156841, -7.3518826556212336, -7.4049821478395375, -7.575142267415647, -7.582361854647088, -7.488007986854797, -7.494524731371072, -7.614641081011899, -7.555949961735019, -7.56818564184637, -7.53422280698383, -7.5914350613410955, -7.5775832118839945, -7.468819550091341, -7.361179208960549, -7.443337664477727, -7.378146179933962, -7.530453775793689, -7.563436033263554, -7.547980489544445, -7.5301248756957895, -7.562944800710022, -7.580460397020025, -7.547920011046288, -7.548166251647106, -7.542280461456048, -7.592740029690959, -7.563361210639303, -7.600116447814191, -7.619742866425449, -7.593601746018786, -7.54454259018591, -7.587885611256812, -7.587669004825558, -7.574017220007911, -7.598490488780996, -7.600960028575771, -7.572212365085175, -7.590550784874405, -7.5839840886989345, -7.6011379338676965, -7.58616320403354, -7.595745807644866, -7.58757506072732, -7.588538561137222, -7.582800183557287, -7.589152636433046, -7.584325194635327, -7.585989322685634, -7.585716607642908, -7.592735492330416, -7.5933172862993565, -7.585263742839151, -7.5941532954747855, -7.592578015788937, -7.583612651729599, -7.59141745040882, -7.5875710358394475, -7.597780385902744, -7.589056976937616, -7.591900725045371, -7.598310933067544, -7.5842569160458995, -7.593368808372614, -7.590150711324282, -7.590701547129156, -7.595020846204937, -7.592214018187709, -7.588718922576918, -7.587080645850564, -7.590062650571634, -7.588952131250538, -7.597434015383984, -7.595784592534486, -7.594479051680735, -7.591634541327941, -7.601097103657049, -7.596234011485706, -7.585595928048359, -7.589553034016017, -7.607363117203636, -7.601934275885487, -7.598884485170853, -7.594402214875818, -7.589771379126601, -7.598790379112732, -7.593280244201674, -7.5993463377808075, -7.595861723156728, -7.594940453282536, -7.596107414357503, -7.589439027695463, -7.588464179365711, -7.577780964996492], 'approximated_eneriges_3': [-7.541292399901842, -7.488612913272689, -7.450436496625942, -7.543366930445918, -7.527251007525461, -7.701281113010573, -7.526847067304994, -7.409545277151577, -7.449935244973824, -7.462076913835335, -7.4417197739857555, -7.455040493887247, -7.347376231487821, -7.509513431374959, -7.424728110232962, -7.422554613726023, -7.424628533295036, -7.416625058007965, -7.408519498519387, -7.288228201105225, -7.216860868300477, -7.271070775740174, -7.327755456601061, -7.203737249663374, -7.139073236968207, -7.139976992430944, -7.072615194006263, -7.120231520620293, -7.105397370693828, -7.164816110957486, -7.156739242165889, -7.123632968472925, -7.10930021604233, -7.148904347574196, -7.159754412443318, -7.189062085277014, -7.116700986800453, -7.110197532781392, -7.109600019950294, -7.113313071033183, -7.085808511786444, -7.093296381821661, -7.11372081558416, -7.116322479444839, -7.112800517886292, -7.093606537151902, -7.123018511397373, -7.1168332226377276, -7.127592297407575, -7.117171060001556, -7.109416855922876, -7.120656175838114, -7.109982499470359, -7.115647004057706, -7.1225782060352225, -7.118541453343395, -7.113798944487185, -7.119251717048009, -7.109966708823428, -7.12035100865448, -7.109640866278314, -7.116137468955192, -7.111988349450031, -7.109081369836743, -7.114164367845334, -7.109742328095893, -7.106622655971228, -7.116518541339892, -7.111305795060592, -7.120870130511159, -7.10119919299734, -7.126780388833514, -7.113821719446101, -7.115526936031174, -7.1069433880137245, -7.112107257902605, -7.115508393402322, -7.1046675090051155, -7.124051871543883, -7.12010444840624, -7.105868819777233, -7.11971080422238, -7.117744438046695, -7.109833280747294, -7.1065008829260865, -7.112104439404117, -7.115027032690859, -7.113096281252085, -7.12316847564703, -7.119278113867022, -7.101982179521126, -7.117475176282839, -7.114572380824904, -7.111218835320862, -7.11140091332154, -7.116076715481871, -7.110388469102248, -7.110262759261138, -7.125806090631026, -7.124046372471629]}\n"
     ]
    }
   ],
   "source": [
    "print(approximated_energies_dict)\n",
    "approximated_energies_dict = initialize_approximated_energies_dict()"
   ]
  },
  {
   "cell_type": "code",
   "execution_count": 44,
   "id": "b9401638",
   "metadata": {},
   "outputs": [
    {
     "name": "stdout",
     "output_type": "stream",
     "text": [
      "[(-1.9994855800333675+0j), (-1.9080638482930956+0j), (-1.8497137109270194+0j), (-1.7583827504312988+0j)]\n"
     ]
    },
    {
     "data": {
      "image/png": "[encoded data removed]",
      "text/plain": [
       "<Figure size 432x288 with 1 Axes>"
      ]
     },
     "metadata": {
      "needs_background": "light"
     },
     "output_type": "display_data"
    }
   ],
   "source": [
    "TI_approximated_energies = {'approximated_eneriges_0': [-7.527374926796388, -7.490948460217839, -7.471351892950928, -7.490702422799052, -7.515817970419744, -7.31595982882803, -7.099053535351137, -7.366127033312333, -7.558208686809385, -7.245080154006243], 'approximated_eneriges_1': [-7.435160167575143, -7.3454563436422955, -7.467036090723377, -7.46674892502807, -7.512177681355114, -7.551799781215262, -7.56977798445727, -7.337817913611366, -7.542405722352239, -7.604048469384494], 'approximated_eneriges_2': [-7.45094378726649, -7.494835406044515, -7.546427492721137, -7.5519911271001785, -7.621700741850081, -7.480593237888603, -7.63756007071119, -7.485733803067446, -7.551661441110606, -7.532503440725798], 'approximated_eneriges_3': [-7.420383731278358, -7.269163097081034, -7.378626010242662, -7.344163256333969, -7.384431167351, -7.606108205702219, -7.7098709634708, -7.590454974935595, -7.404154849273452, -7.621812392089753]}\n",
    "plot_convergence_of_optimization_process(TI_approximated_energies, transverse_ising_4_qubits, )"
   ]
  }
 ],
 "metadata": {
  "kernelspec": {
   "display_name": "Qiskitenv",
   "language": "python",
   "name": "qiskitenv"
  },
  "language_info": {
   "codemirror_mode": {
    "name": "ipython",
    "version": 3
   },
   "file_extension": ".py",
   "mimetype": "text/x-python",
   "name": "python",
   "nbconvert_exporter": "python",
   "pygments_lexer": "ipython3",
   "version": "3.8.13"
  }
 },
 "nbformat": 4,
 "nbformat_minor": 5
}
