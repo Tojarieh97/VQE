{
 "cells": [
  {
   "cell_type": "code",
   "execution_count": 1,
   "id": "213d256a",
   "metadata": {},
   "outputs": [],
   "source": [
    "%load_ext autoreload\n",
    "%autoreload 2"
   ]
  },
  {
   "cell_type": "markdown",
   "id": "c4c77734",
   "metadata": {},
   "source": [
    "### Basic Imports"
   ]
  },
  {
   "cell_type": "code",
   "execution_count": 2,
   "id": "9431f6b7",
   "metadata": {},
   "outputs": [],
   "source": [
    "import nbimporter\n",
    "from typing import Dict, Tuple, List\n",
    "import numpy as np\n",
    "from tqdm import tqdm"
   ]
  },
  {
   "cell_type": "markdown",
   "id": "4ff98362",
   "metadata": {},
   "source": [
    "### Env Vars"
   ]
  },
  {
   "cell_type": "code",
   "execution_count": 3,
   "id": "9c7250c3",
   "metadata": {},
   "outputs": [],
   "source": [
    "QUBITS_NUM = 4 \n",
    "N = 2**QUBITS_NUM\n",
    "\n",
    "NUM_SHOTS = 1024\n",
    "NUM_ITERATIONS = 100\n",
    "\n",
    "CIRCUIT_DEPTH = 3\n",
    "PARAMS_NUM = 2*QUBITS_NUM*(CIRCUIT_DEPTH+1)"
   ]
  },
  {
   "cell_type": "markdown",
   "id": "6dcb0625",
   "metadata": {},
   "source": [
    "### Simulator Backend"
   ]
  },
  {
   "cell_type": "code",
   "execution_count": 4,
   "id": "8e287170",
   "metadata": {},
   "outputs": [],
   "source": [
    "from qiskit import Aer\n",
    "from qiskit.utils import QuantumInstance, algorithm_globals\n",
    "\n",
    "seed = 50\n",
    "algorithm_globals.random_seed = seed\n",
    "\n",
    "simulator_backend = Aer.get_backend('qasm_simulator')"
   ]
  },
  {
   "cell_type": "markdown",
   "id": "5cc189d2",
   "metadata": {},
   "source": [
    "### BFGS Optimizer"
   ]
  },
  {
   "cell_type": "code",
   "execution_count": 5,
   "id": "aea5f838",
   "metadata": {},
   "outputs": [],
   "source": [
    "from scipy.optimize import minimize"
   ]
  },
  {
   "cell_type": "markdown",
   "id": "6681d9cf",
   "metadata": {},
   "source": [
    "### Ansatz State"
   ]
  },
  {
   "cell_type": "code",
   "execution_count": 6,
   "id": "ed679eb5",
   "metadata": {},
   "outputs": [],
   "source": [
    "from linear_entangelment_and_full_entangelment_ansatz_circuits import *"
   ]
  },
  {
   "cell_type": "code",
   "execution_count": 7,
   "id": "9ebdb4f8",
   "metadata": {},
   "outputs": [],
   "source": [
    "def get_ansatz_state(thetas, ansatz_entangelment, input_state):\n",
    "    if ansatz_entangelment==\"full\":\n",
    "        return get_full_entangelment_ansatz(QUBITS_NUM, thetas, input_state)\n",
    "    if ansatz_entangelment==\"linear\":\n",
    "        return get_linear_entangelment_ansatz(QUBITS_NUM, thetas, input_state)"
   ]
  },
  {
   "cell_type": "markdown",
   "id": "21777faa",
   "metadata": {},
   "source": [
    "## Expectation Value"
   ]
  },
  {
   "cell_type": "markdown",
   "id": "d320f1b6",
   "metadata": {},
   "source": [
    "### convert hamiltonian to pauli strings"
   ]
  },
  {
   "cell_type": "code",
   "execution_count": 8,
   "id": "56435355",
   "metadata": {},
   "outputs": [],
   "source": [
    "def transfrom_hamiltonian_into_pauli_strings(hamiltonian) -> List:\n",
    "    pauli_operators = hamiltonian.to_pauli_op().settings['oplist']\n",
    "    pauli_coeffs = list(map(lambda pauli_operator: pauli_operator.coeff, pauli_operators))\n",
    "    pauli_strings = list(map(lambda pauli_operator: pauli_operator.primitive, pauli_operators))\n",
    "    return pauli_coeffs, pauli_strings"
   ]
  },
  {
   "cell_type": "markdown",
   "id": "de5f75c3",
   "metadata": {},
   "source": [
    "### pauli string reduction to sigma_z's"
   ]
  },
  {
   "cell_type": "code",
   "execution_count": 9,
   "id": "347de6bb",
   "metadata": {},
   "outputs": [],
   "source": [
    "from qiskit.circuit.library.standard_gates import HGate, SGate\n",
    "from qiskit import QuantumCircuit, ClassicalRegister, QuantumRegister"
   ]
  },
  {
   "cell_type": "code",
   "execution_count": 10,
   "id": "dbbe79ef",
   "metadata": {},
   "outputs": [],
   "source": [
    "reducing_to_pauli_z_mapping = {\n",
    "    'I': 'I',\n",
    "    'Z': 'Z',\n",
    "    'X': 'Z',\n",
    "    'Y': 'Z'\n",
    "} "
   ]
  },
  {
   "cell_type": "code",
   "execution_count": 11,
   "id": "6f94927f",
   "metadata": {},
   "outputs": [],
   "source": [
    "def reduce_pauli_matrixes_into_sigma_z(pauli_string) -> str:\n",
    "    reduced_pauli_string = \"\"\n",
    "    for matrix_index in range(QUBITS_NUM):\n",
    "        pauli_matrix = str(pauli_string[matrix_index])\n",
    "        reduced_pauli_matrix = reducing_to_pauli_z_mapping[pauli_matrix]\n",
    "        reduced_pauli_string = reduced_pauli_matrix + reduced_pauli_string\n",
    "    \n",
    "    return reduced_pauli_string"
   ]
  },
  {
   "cell_type": "code",
   "execution_count": 12,
   "id": "e6f0562f",
   "metadata": {},
   "outputs": [],
   "source": [
    "def add_layer_of_gates_for_reducing_paulis_to_sigma_z(pauli_string, quantum_circuit):\n",
    "    quantum_registers = QuantumRegister(QUBITS_NUM, name=\"qubit\")\n",
    "    additional_circuit_layer = QuantumCircuit(quantum_registers)\n",
    "    \n",
    "    for quantum_register_index, pauli_matrix in enumerate(pauli_string):\n",
    "        if pauli_matrix == \"X\":\n",
    "            additional_circuit_layer.append(HGate(), [quantum_registers[quantum_register_index]])\n",
    "        if pauli_string == \"Y\":\n",
    "            additional_circuit_layer.append(HGate(), [quantum_registers[quantum_register_index]])\n",
    "            additional_circuit_layer.append(SGate(), [quantum_registers[quantum_register_index]])\n",
    "                \n",
    "    extended_quantum_circuit = quantum_circuit.compose(additional_circuit_layer)\n",
    "    return extended_quantum_circuit"
   ]
  },
  {
   "cell_type": "markdown",
   "id": "ce83fae9",
   "metadata": {},
   "source": [
    "### probabilities distribution"
   ]
  },
  {
   "cell_type": "code",
   "execution_count": 13,
   "id": "84e65e31",
   "metadata": {},
   "outputs": [],
   "source": [
    "def get_probability_distribution(counts: Dict) -> Dict:\n",
    "    proba_distribution = {state: (count / NUM_SHOTS) for state, count in counts.items()}\n",
    "    return proba_distribution\n",
    "\n",
    "def calculate_probabilities_of_measurments_in_computational_basis(quantum_state_circuit) -> Dict:\n",
    "    quantum_state_circuit.measure_all()\n",
    "    \n",
    "    transpiled_quantum_state_circuit = transpile(quantum_state_circuit, simulator_backend) \n",
    "    Qobj = assemble(transpiled_quantum_state_circuit)\n",
    "    result = simulator_backend.run(Qobj).result()\n",
    "    counts = result.get_counts(quantum_state_circuit)\n",
    "    \n",
    "    return get_probability_distribution(counts)"
   ]
  },
  {
   "cell_type": "markdown",
   "id": "b9286e5d",
   "metadata": {},
   "source": [
    "### Expectation value from probabilities"
   ]
  },
  {
   "cell_type": "code",
   "execution_count": 14,
   "id": "38a72356",
   "metadata": {},
   "outputs": [],
   "source": [
    "def sort_probas_dict_by_qubits_string_keys(proba_distribution: Dict) -> Dict:\n",
    "    return dict(sorted(proba_distribution.items()))\n",
    "\n",
    "def reset_power_of_minus_1(power_of_minus_1):\n",
    "    power_of_minus_1 = 0\n",
    "    return power_of_minus_1\n",
    "\n",
    "def convert_pauli_string_into_str(pauli_string) -> str:\n",
    "    return str(pauli_string)\n",
    "\n",
    "def calculate_expectation_value_of_pauli_string_by_measurments_probas(pauli_string, ansatz_circuit):\n",
    "    pauli_string_expectation_value = 0\n",
    "    power_of_minus_1 = 0\n",
    "    \n",
    "    pauli_string_str = convert_pauli_string_into_str(pauli_string)\n",
    "    extended_ansatz_circuit = add_layer_of_gates_for_reducing_paulis_to_sigma_z(pauli_string_str, ansatz_circuit)\n",
    "    probas_distribution = calculate_probabilities_of_measurments_in_computational_basis(extended_ansatz_circuit)\n",
    "    \n",
    "    reduced_pauli_string = reduce_pauli_matrixes_into_sigma_z(pauli_string)\n",
    "    sorted_probas_distribuition = sort_probas_dict_by_qubits_string_keys(probas_distribution)\n",
    "    for qubits_string, proba in sorted_probas_distribuition.items():\n",
    "        for string_index in range(QUBITS_NUM):\n",
    "            if(str(qubits_string[string_index])==\"1\" and str(reduced_pauli_string[string_index])==\"Z\"):\n",
    "                power_of_minus_1 += 1\n",
    "            \n",
    "        pauli_string_expectation_value += pow(-1, power_of_minus_1)*proba\n",
    "        power_of_minus_1 = reset_power_of_minus_1(power_of_minus_1)\n",
    "        \n",
    "    return pauli_string_expectation_value"
   ]
  },
  {
   "cell_type": "code",
   "execution_count": 15,
   "id": "c263be2b",
   "metadata": {},
   "outputs": [],
   "source": [
    "def get_expectation_value(ansatz_circuit, pauli_coeffs, pauli_strings):\n",
    "    total_expection_value = 0\n",
    "    \n",
    "    for pauli_coeff, pauli_string in zip(pauli_coeffs, pauli_strings):\n",
    "        total_expection_value += pauli_coeff*calculate_expectation_value_of_pauli_string_by_measurments_probas(\n",
    "                                                                                    pauli_string, ansatz_circuit)\n",
    "    \n",
    "    return total_expection_value"
   ]
  },
  {
   "cell_type": "markdown",
   "id": "a79fc302",
   "metadata": {},
   "source": [
    "## Objective Function"
   ]
  },
  {
   "cell_type": "code",
   "execution_count": 16,
   "id": "e3f4d330",
   "metadata": {},
   "outputs": [],
   "source": [
    "from qiskit import assemble, transpile\n",
    "\n",
    "def cost_function(thetas, hamiltonian, ansatz_entangelment):\n",
    "    initial_eigenvector = np.identity(N)[0]\n",
    "    \n",
    "    pauli_coeffs, pauli_strings = transfrom_hamiltonian_into_pauli_strings(hamiltonian)\n",
    "    ansatz_state = get_ansatz_state(thetas, ansatz_entangelment, initial_eigenvector)\n",
    "        \n",
    "    L = get_expectation_value(ansatz_state, pauli_coeffs, pauli_strings)\n",
    "    insert_approximated_energy_to_list_of_all_approximated_energies(L)\n",
    "        \n",
    "    return L"
   ]
  },
  {
   "cell_type": "markdown",
   "id": "e8ac20b3",
   "metadata": {},
   "source": [
    "## Optimization"
   ]
  },
  {
   "cell_type": "code",
   "execution_count": 17,
   "id": "9b2663d2",
   "metadata": {},
   "outputs": [],
   "source": [
    "def get_optimal_thetas_of_ansatz_circuit_for_hamiltonian(hamiltonian, ansatz_entangelment):\n",
    "    initial_thetas = np.random.uniform(low=0, high=2*np.pi, size=PARAMS_NUM)\n",
    "    optimizer_result = minimize(cost_function,\n",
    "                                x0=initial_thetas,\n",
    "                                args=(hamiltonian, ansatz_entangelment),\n",
    "                                method=\"POWELL\",\n",
    "                                options={\"maxiter\":NUM_ITERATIONS,\n",
    "                                         \"return_all\": True,\n",
    "                                        \"disp\": True})\n",
    "    optimal_thetas = optimizer_result.x\n",
    "    \n",
    "    return optimal_thetas"
   ]
  },
  {
   "cell_type": "code",
   "execution_count": 18,
   "id": "80c13445",
   "metadata": {},
   "outputs": [],
   "source": [
    "def get_approximated_eigenvalue_of_hamiltonian(hamiltonian, ansatz_entangelment):\n",
    "    optimal_thetas = get_optimal_thetas_of_ansatz_circuit_for_hamiltonian(hamiltonian, ansatz_entangelment)\n",
    "    print(optimal_thetas)\n",
    "    initial_eigenvector = np.identity(N)[0]\n",
    "    optimal_ansatz_state = get_ansatz_state(optimal_thetas, ansatz_entangelment, initial_eigenvector)\n",
    "    \n",
    "    pauli_coeffs, pauli_strings = transfrom_hamiltonian_into_pauli_strings(hamiltonian)\n",
    "    approximated_eigenvalue = get_expectation_value(optimal_ansatz_state, pauli_coeffs, pauli_strings)\n",
    "\n",
    "    return approximated_eigenvalue"
   ]
  },
  {
   "cell_type": "markdown",
   "id": "7b410988",
   "metadata": {},
   "source": [
    "## Comparsion"
   ]
  },
  {
   "cell_type": "code",
   "execution_count": 19,
   "id": "6cbe0758",
   "metadata": {},
   "outputs": [],
   "source": [
    "from numpy import linalg as LA\n",
    "\n",
    "def get_approximation_error(exact_eigenvalue, approximated_eigenvalue):\n",
    "    return abs(abs(exact_eigenvalue)-abs(approximated_eigenvalue))/abs(exact_eigenvalue)"
   ]
  },
  {
   "cell_type": "code",
   "execution_count": 20,
   "id": "28b63147",
   "metadata": {},
   "outputs": [],
   "source": [
    "def get_minimum_exact_eigenvalue_of_hamiltonian(hamiltonian):\n",
    "    eigen_values = LA.eigvals(hamiltonian.to_matrix())\n",
    "    print(sorted(eigen_values))\n",
    "    \n",
    "    return min(sorted(eigen_values))"
   ]
  },
  {
   "cell_type": "code",
   "execution_count": 21,
   "id": "529a29d1",
   "metadata": {},
   "outputs": [],
   "source": [
    "def compare_exact_and_approximated_eigenvalue(hamiltonian, approximated_eigenvalue):\n",
    "    exact_eigenvalue = get_minimum_exact_eigenvalue_of_hamiltonian(hamiltonian)\n",
    "    print(\"Exact Eigenvalue:\")\n",
    "    print(exact_eigenvalue)\n",
    "    print(\"\\nApproximated Eigenvalue:\")\n",
    "    print(approximated_eigenvalue)\n",
    "\n",
    "    print(\"\\nApproximation Error\")\n",
    "    print(get_approximation_error(exact_eigenvalue, approximated_eigenvalue))\n",
    "    \n",
    "    plot_convergence_of_optimization_process(approximated_energies, exact_eigenvalue, margin=3)"
   ]
  },
  {
   "cell_type": "markdown",
   "id": "c1452964",
   "metadata": {},
   "source": [
    "## Visualization"
   ]
  },
  {
   "cell_type": "code",
   "execution_count": 22,
   "id": "75c3e505",
   "metadata": {},
   "outputs": [],
   "source": [
    "approximated_energies = []"
   ]
  },
  {
   "cell_type": "code",
   "execution_count": 23,
   "id": "5c4331c6",
   "metadata": {},
   "outputs": [],
   "source": [
    "def insert_approximated_energy_to_list_of_all_approximated_energies(energy):\n",
    "    approximated_energies.append(energy)"
   ]
  },
  {
   "cell_type": "code",
   "execution_count": 24,
   "id": "26026bbb",
   "metadata": {},
   "outputs": [],
   "source": [
    "import matplotlib.pyplot as plt\n",
    "\n",
    "def plot_convergence_of_optimization_process(approximated_energies, exact_eigenvalue, margin):\n",
    "    plt.title(\"convergence of optimization process to the exact eigenvalue\")\n",
    "    plt.margins(0, margin)\n",
    "    plt.plot(approximated_energies[-NUM_ITERATIONS])\n",
    "    plt.axhline(y = exact_eigenvalue, color = 'r', linestyle = '-')\n",
    "    plt.grid()\n",
    "    plt.xlabel(\"# of iterations\")\n",
    "    plt.ylabel(\"Energy\")\n",
    "    \n",
    "def plot_fidelity():\n",
    "    plt.plot(LiH_approximated_energies)\n",
    "    plt.xlabel(\"# of iterations\")\n",
    "    plt.ylabel(\"Energy\")"
   ]
  },
  {
   "cell_type": "markdown",
   "id": "2b442e22",
   "metadata": {},
   "source": [
    "## LiH Molecule 4 qubits"
   ]
  },
  {
   "cell_type": "code",
   "execution_count": 25,
   "id": "87e93b42",
   "metadata": {},
   "outputs": [],
   "source": [
    "from qiskit.opflow import X, Z, I, H, Y\n",
    "\n",
    "LiH_molecule_4_qubits = -7.49894690201071*(I^I^I^I) + \\\n",
    "                            -0.0029329964409502266*(X^X^Y^Y) + \\\n",
    "                            0.0029329964409502266*(X^Y^Y^X) + \\\n",
    "                            0.01291078027311749*(X^Z^X^I) + \\\n",
    "                            -0.0013743761078958677*(X^Z^X^Z) + \\\n",
    "                            0.011536413200774975*(X^I^X^I) + \\\n",
    "                            0.0029329964409502266*(Y^X^X^Y) + \\\n",
    "                            -0.0029329964409502266*(Y^Y^X^X) + \\\n",
    "                            0.01291078027311749*(Y^Z^Y^I) + \\\n",
    "                            -0.0013743761078958677*(Y^Z^Y^Z) + \\\n",
    "                            0.011536413200774975*(Y^I^Y^I) + \\\n",
    "                            0.16199475388004184*(Z^I^I^I) + \\\n",
    "                            0.011536413200774975*(Z^X^Z^X) + \\\n",
    "                            0.011536413200774975*(Z^Y^Z^Y) + \\\n",
    "                            0.12444770133137588*(Z^Z^I^I) + \\\n",
    "                            0.054130445793298836*(Z^I^Z^I) + \\\n",
    "                            0.05706344223424907*(Z^I^I^Z) + \\\n",
    "                            0.012910780273117487*(I^X^Z^X) + \\\n",
    "                            -0.0013743761078958677*(I^X^I^X) + \\\n",
    "                            0.012910780273117487*(I^Y^Z^Y) + \\\n",
    "                            -0.0013743761078958677*(I^Y^I^Y) + \\\n",
    "                            0.16199475388004186*(I^Z^I^I) + \\\n",
    "                            0.05706344223424907*(I^Z^Z^I) + \\\n",
    "                            0.054130445793298836*(I^Z^I^Z) + \\\n",
    "                            -0.013243698330265966*(I^I^Z^I) + \\\n",
    "                            0.08479609543670981*(I^I^Z^Z) + \\\n",
    "                            -0.013243698330265952*(I^I^I^Z)"
   ]
  },
  {
   "cell_type": "markdown",
   "id": "dbfc22f0",
   "metadata": {},
   "source": [
    "#### Linear Entangelment"
   ]
  },
  {
   "cell_type": "code",
   "execution_count": 26,
   "id": "58cbff1d",
   "metadata": {},
   "outputs": [
    {
     "name": "stdout",
     "output_type": "stream",
     "text": [
      "Optimization terminated successfully.\n",
      "         Current function value: -7.825385\n",
      "         Iterations: 4\n",
      "         Function evaluations: 2137\n",
      "[ 2.37939045  3.67222867  3.02365108  2.29835291  4.18215815  1.47989191\n",
      "  5.86179242 -0.04741948  1.96866648  4.97507767  4.76783778  2.67580579\n",
      "  2.03536868  4.47149334  3.25741518  2.6902151   1.89690471  2.76882478\n",
      "  6.68415872  4.58398871  0.4532844   1.66039107  1.03826789  5.33620625\n",
      " -1.33246091  0.62469661  2.48408139  3.28092253 13.80669411  5.49329676\n",
      " -2.66965659  8.0615252 ]\n",
      "CPU times: total: 1h 43min 31s\n",
      "Wall time: 2h 27min 13s\n"
     ]
    }
   ],
   "source": [
    "%%time\n",
    "LiH_approximated_eigenvalue = get_approximated_eigenvalue_of_hamiltonian(LiH_molecule_4_qubits, \"linear\")"
   ]
  },
  {
   "cell_type": "markdown",
   "id": "fbe670c9",
   "metadata": {},
   "source": [
    "### Comparsion between approximate value after optimtimzation and exact eigenvalue"
   ]
  },
  {
   "cell_type": "code",
   "execution_count": 27,
   "id": "a97114cc",
   "metadata": {
    "scrolled": true
   },
   "outputs": [
    {
     "name": "stdout",
     "output_type": "stream",
     "text": [
      "[(-7.862773163027979+0j), (-7.7833962082865185+0j), (-7.783396208286518+0j), (-7.7140566916607005+0j), (-7.714056691660695+0j), (-7.714056691660695+0j), (-7.700475837803976+0j), (-7.569984737620559+0j), (-7.569984737620559+0j), (-7.511999706834453+0j), (-7.511999706834451+0j), (-7.364817440287081+0j), (-7.151525481896562+0j), (-7.130406955301309+0j), (-7.130406955301308+0j), (-6.769813218087976+0j)]\n",
      "Exact Eigenvalue:\n",
      "(-7.862773163027979+0j)\n",
      "\n",
      "Approximated Eigenvalue:\n",
      "-7.818565556892062\n",
      "\n",
      "Approximation Error\n",
      "0.0056223936795975265\n"
     ]
    },
    {
     "name": "stderr",
     "output_type": "stream",
     "text": [
      "C:\\Users\\hadar\\anaconda3\\envs\\Qiskitenv\\lib\\site-packages\\matplotlib\\cbook\\__init__.py:1317: ComplexWarning: Casting complex values to real discards the imaginary part\n",
      "  return np.asarray(x, float)\n"
     ]
    },
    {
     "data": {
      "image/png": "[encoded data removed]",
      "text/plain": [
       "<Figure size 432x288 with 1 Axes>"
      ]
     },
     "metadata": {
      "needs_background": "light"
     },
     "output_type": "display_data"
    }
   ],
   "source": [
    "compare_exact_and_approximated_eigenvalue(LiH_molecule_4_qubits, LiH_approximated_eigenvalue)"
   ]
  },
  {
   "cell_type": "markdown",
   "id": "32d3273c",
   "metadata": {},
   "source": [
    "#### Full Entangelment"
   ]
  },
  {
   "cell_type": "code",
   "execution_count": 28,
   "id": "39faf0d6",
   "metadata": {},
   "outputs": [
    {
     "name": "stdout",
     "output_type": "stream",
     "text": [
      "Optimization terminated successfully.\n",
      "         Current function value: -7.849411\n",
      "         Iterations: 5\n",
      "         Function evaluations: 2773\n",
      "[ 4.07691199  1.50052657  4.26140849  1.44067801  3.18490465  0.17412599\n",
      "  1.36524116  2.17984016  8.3819186   3.01046994  4.77478849  3.35580526\n",
      "  4.88708536  1.80188783  3.90143482  3.19573691  0.26286116  3.26954085\n",
      " -0.27388943  0.94802893  1.94811883  0.10640433  1.54340032  0.26174017\n",
      "  5.4740734   4.61419871  2.41440108  4.66997587 -4.46093548  2.23412968\n",
      "  4.71644173  5.38090445]\n",
      "CPU times: total: 1h 45min 21s\n",
      "Wall time: 1h 52min 14s\n"
     ]
    }
   ],
   "source": [
    "%%time\n",
    "LiH_approximated_eigenvalue = get_approximated_eigenvalue_of_hamiltonian(LiH_molecule_4_qubits, \"full\")"
   ]
  },
  {
   "cell_type": "code",
   "execution_count": 29,
   "id": "ae67fc6d",
   "metadata": {},
   "outputs": [
    {
     "name": "stdout",
     "output_type": "stream",
     "text": [
      "[(-7.862773163027979+0j), (-7.7833962082865185+0j), (-7.783396208286518+0j), (-7.7140566916607005+0j), (-7.714056691660695+0j), (-7.714056691660695+0j), (-7.700475837803976+0j), (-7.569984737620559+0j), (-7.569984737620559+0j), (-7.511999706834453+0j), (-7.511999706834451+0j), (-7.364817440287081+0j), (-7.151525481896562+0j), (-7.130406955301309+0j), (-7.130406955301308+0j), (-6.769813218087976+0j)]\n",
      "Exact Eigenvalue:\n",
      "(-7.862773163027979+0j)\n",
      "\n",
      "Approximated Eigenvalue:\n",
      "-7.845884875898588\n",
      "\n",
      "Approximation Error\n",
      "0.0021478792252080476\n"
     ]
    },
    {
     "data": {
      "image/png": "[encoded data removed]",
      "text/plain": [
       "<Figure size 432x288 with 1 Axes>"
      ]
     },
     "metadata": {
      "needs_background": "light"
     },
     "output_type": "display_data"
    }
   ],
   "source": [
    "compare_exact_and_approximated_eigenvalue(LiH_molecule_4_qubits, LiH_approximated_eigenvalue)"
   ]
  },
  {
   "cell_type": "markdown",
   "id": "e9cc887a",
   "metadata": {},
   "source": [
    "## H2 Molecule 4 qubits"
   ]
  },
  {
   "cell_type": "code",
   "execution_count": 30,
   "id": "259df459",
   "metadata": {},
   "outputs": [],
   "source": [
    "H2_molecule_Hamiltonian_4_qubits =  -0.8105479805373279 * (I^I^I^I) \\\n",
    "                                    + 0.1721839326191554 * (I^I^I^Z) \\\n",
    "                                    - 0.22575349222402372 * (I^I^Z^I) \\\n",
    "                                    + 0.17218393261915543 * (I^Z^I^I) \\\n",
    "                                    - 0.2257534922240237 * (Z^I^I^I) \\\n",
    "                                    + 0.12091263261776627 * (I^I^Z^Z) \\\n",
    "                                    + 0.16892753870087907 * (I^Z^I^Z) \\\n",
    "                                    + 0.045232799946057826 * (Y^Y^Y^Y) \\\n",
    "                                    + 0.045232799946057826 * (X^X^Y^Y) \\\n",
    "                                    + 0.045232799946057826 * (Y^Y^X^X) \\\n",
    "                                    + 0.045232799946057826 * (X^X^X^X) \\\n",
    "                                    + 0.1661454325638241 * (Z^I^I^Z) \\\n",
    "                                    + 0.1661454325638241 * (I^Z^Z^I) \\\n",
    "                                    + 0.17464343068300453 * (Z^I^Z^I) \\\n",
    "                                    + 0.12091263261776627 * (Z^Z^I^I)"
   ]
  },
  {
   "cell_type": "markdown",
   "id": "fa5a1423",
   "metadata": {},
   "source": [
    "#### Linear Entangelment"
   ]
  },
  {
   "cell_type": "code",
   "execution_count": 31,
   "id": "3634f0d7",
   "metadata": {},
   "outputs": [
    {
     "name": "stdout",
     "output_type": "stream",
     "text": [
      "Optimization terminated successfully.\n",
      "         Current function value: -1.755388\n",
      "         Iterations: 5\n",
      "         Function evaluations: 2727\n",
      "[ 2.91854994  6.29309175  3.43876596  2.36221096  6.18862669 11.86067695\n",
      "  0.69809516  6.81718917  1.0240436   2.40593993  1.5529633   2.22914593\n",
      "  1.10184249  1.17089683  3.00084153  6.56168169  3.80702662  3.55607138\n",
      "  5.55315894  2.89843882 -1.53888254  5.96689496  6.12831538  3.18545496\n",
      "  4.09714527  0.01694271  4.0912751   1.67365461  9.21771217  8.8056059\n",
      "  3.59924346  1.64666558]\n",
      "CPU times: total: 39min 31s\n",
      "Wall time: 40min 21s\n"
     ]
    }
   ],
   "source": [
    "%%time\n",
    "H2_approximated_eigenvalue = get_approximated_eigenvalue_of_hamiltonian(H2_molecule_Hamiltonian_4_qubits, \"linear\")"
   ]
  },
  {
   "cell_type": "code",
   "execution_count": 32,
   "id": "5b96cc5e",
   "metadata": {},
   "outputs": [
    {
     "name": "stdout",
     "output_type": "stream",
     "text": [
      "[(-1.8572750302023793+0j), (-1.25633907300325+0j), (-1.2563390730032498+0j), (-1.2445845498133272+0j), (-1.2445845498133272+0j), (-1.244584549813327+0j), (-1.1606317377577642+0j), (-1.1606317377577642+0j), (-0.8827221502448648+0j), (-0.47189600728114256+0j), (-0.47189600728114245+0j), (-0.353325104107155+0j), (-0.353325104107155+0j), (-0.2249112528308709+0j), (-1.942890293094024e-16+0j), (0.2142782384194731+0j)]\n",
      "Exact Eigenvalue:\n",
      "(-1.8572750302023793+0j)\n",
      "\n",
      "Approximated Eigenvalue:\n",
      "-1.7385008226419159\n",
      "\n",
      "Approximation Error\n",
      "0.0639507911477823\n"
     ]
    },
    {
     "data": {
      "image/png": "[encoded data removed]",
      "text/plain": [
       "<Figure size 432x288 with 1 Axes>"
      ]
     },
     "metadata": {
      "needs_background": "light"
     },
     "output_type": "display_data"
    }
   ],
   "source": [
    "compare_exact_and_approximated_eigenvalue(H2_molecule_Hamiltonian_4_qubits, H2_approximated_eigenvalue)"
   ]
  },
  {
   "cell_type": "markdown",
   "id": "72f299b7",
   "metadata": {},
   "source": [
    "#### Full Entangelment"
   ]
  },
  {
   "cell_type": "code",
   "execution_count": 33,
   "id": "51d29e0c",
   "metadata": {},
   "outputs": [
    {
     "name": "stdout",
     "output_type": "stream",
     "text": [
      "Optimization terminated successfully.\n",
      "         Current function value: -1.781072\n",
      "         Iterations: 5\n",
      "         Function evaluations: 2775\n",
      "[ 3.15369652  6.18248662  3.70528335  1.64384221  5.56194205  5.15958221\n",
      "  2.23337927  3.46686638  6.18940104  4.89381786  4.30980897  3.07066889\n",
      "  8.3311599   6.19213912  4.43903232  1.30823262  0.70334042  4.87030651\n",
      "  1.50315359  3.08854379  9.26545284  2.48092267  2.21379492  5.20804358\n",
      "  0.61759523  4.66799283  6.57862909  0.11642329 -0.37606206  2.42906248\n",
      "  5.73267418  5.95610883]\n",
      "CPU times: total: 40min 1s\n",
      "Wall time: 40min 49s\n"
     ]
    }
   ],
   "source": [
    "%%time\n",
    "H2_approximated_eigenvalue = get_approximated_eigenvalue_of_hamiltonian(H2_molecule_Hamiltonian_4_qubits, \"full\")"
   ]
  },
  {
   "cell_type": "code",
   "execution_count": 34,
   "id": "b3b3d512",
   "metadata": {},
   "outputs": [
    {
     "name": "stdout",
     "output_type": "stream",
     "text": [
      "[(-1.8572750302023793+0j), (-1.25633907300325+0j), (-1.2563390730032498+0j), (-1.2445845498133272+0j), (-1.2445845498133272+0j), (-1.244584549813327+0j), (-1.1606317377577642+0j), (-1.1606317377577642+0j), (-0.8827221502448648+0j), (-0.47189600728114256+0j), (-0.47189600728114245+0j), (-0.353325104107155+0j), (-0.353325104107155+0j), (-0.2249112528308709+0j), (-1.942890293094024e-16+0j), (0.2142782384194731+0j)]\n",
      "Exact Eigenvalue:\n",
      "(-1.8572750302023793+0j)\n",
      "\n",
      "Approximated Eigenvalue:\n",
      "-1.776092008866802\n",
      "\n",
      "Approximation Error\n",
      "0.04371082366122757\n"
     ]
    },
    {
     "data": {
      "image/png": "[encoded data removed]",
      "text/plain": [
       "<Figure size 432x288 with 1 Axes>"
      ]
     },
     "metadata": {
      "needs_background": "light"
     },
     "output_type": "display_data"
    }
   ],
   "source": [
    "compare_exact_and_approximated_eigenvalue(H2_molecule_Hamiltonian_4_qubits, H2_approximated_eigenvalue)"
   ]
  },
  {
   "cell_type": "markdown",
   "id": "394c3bee",
   "metadata": {},
   "source": [
    "##  Transverse Ising Model 4 qubits"
   ]
  },
  {
   "cell_type": "code",
   "execution_count": 35,
   "id": "8dab0ec4",
   "metadata": {},
   "outputs": [],
   "source": [
    "transverse_ising_4_qubits = 0.0 * (I^I^I^I) \\\n",
    "    + 0.8398088405253477 * (X^I^I^I) \\\n",
    "    + 0.7989496312070936 * (I^X^I^I) \\\n",
    "    + 0.38189710487113193 * (Z^Z^I^I) \\\n",
    "    + 0.057753122422666725 * (I^I^X^I) \\\n",
    "    + 0.5633292636970458 * (Z^I^Z^I) \\\n",
    "    + 0.3152740621483513 * (I^Z^Z^I) \\\n",
    "    + 0.07209487981989715 * (I^I^I^X) \\\n",
    "    + 0.17892334004292654 * (Z^I^I^Z) \\\n",
    "    + 0.2273896497668042 * (I^Z^I^Z) \\\n",
    "    + 0.09762902934216211 * (I^I^Z^Z)"
   ]
  },
  {
   "cell_type": "markdown",
   "id": "c82bd1cb",
   "metadata": {},
   "source": [
    "#### Linear Entangelment"
   ]
  },
  {
   "cell_type": "code",
   "execution_count": 36,
   "id": "ac7514ba",
   "metadata": {},
   "outputs": [
    {
     "name": "stdout",
     "output_type": "stream",
     "text": [
      "Optimization terminated successfully.\n",
      "         Current function value: -2.262293\n",
      "         Iterations: 6\n",
      "         Function evaluations: 3326\n",
      "[ 2.7399521   0.51970162  1.9901902   3.85750613  3.87691251  1.55168981\n",
      " -0.07024556  5.57075676  2.8935298   5.94059228  4.23795245  6.14901393\n",
      " -0.57856561  2.39601477  1.89484983  3.02949131  3.52110381  6.02877863\n",
      "  0.09335951  1.26246682  7.08766121  0.05709324  4.63804612  5.4610431\n",
      "  2.96762824  0.5845722   2.21103833  5.95742629  3.38110647 12.5745885\n",
      " 10.7587742  12.02592504]\n",
      "CPU times: total: 27min 55s\n",
      "Wall time: 28min 17s\n"
     ]
    }
   ],
   "source": [
    "%%time\n",
    "TI_approximated_eigenvalue = get_approximated_eigenvalue_of_hamiltonian(transverse_ising_4_qubits, \"linear\")"
   ]
  },
  {
   "cell_type": "code",
   "execution_count": 37,
   "id": "ecd81c72",
   "metadata": {},
   "outputs": [
    {
     "name": "stdout",
     "output_type": "stream",
     "text": [
      "[(-1.9994855800333675+0j), (-1.9080638482930956+0j), (-1.8497137109270194+0j), (-1.7583827504312988+0j), (-0.5462047134056278+0j), (-0.47710503946487287+0j), (-0.31907768442618767+0j), (-0.2505930484227001+0j), (0.14239915569453057+0j), (0.20992649961322052+0j), (0.2757654176709828+0j), (0.3444947223438019+0j), (1.6816520928402046+0j), (1.6958488386667439+0j), (2.3718326043433704+0j), (2.3867070442313216+0j)]\n",
      "Exact Eigenvalue:\n",
      "(-1.9994855800333675+0j)\n",
      "\n",
      "Approximated Eigenvalue:\n",
      "-2.248658728784755\n",
      "\n",
      "Approximation Error\n",
      "0.12461862753080186\n"
     ]
    },
    {
     "data": {
      "image/png": "[encoded data removed]",
      "text/plain": [
       "<Figure size 432x288 with 1 Axes>"
      ]
     },
     "metadata": {
      "needs_background": "light"
     },
     "output_type": "display_data"
    }
   ],
   "source": [
    "compare_exact_and_approximated_eigenvalue(transverse_ising_4_qubits, TI_approximated_eigenvalue)"
   ]
  },
  {
   "cell_type": "markdown",
   "id": "b13fdb69",
   "metadata": {},
   "source": [
    "#### Full Entangelment"
   ]
  },
  {
   "cell_type": "code",
   "execution_count": 38,
   "id": "defdd66a",
   "metadata": {},
   "outputs": [
    {
     "name": "stdout",
     "output_type": "stream",
     "text": [
      "Optimization terminated successfully.\n",
      "         Current function value: -2.297156\n",
      "         Iterations: 5\n",
      "         Function evaluations: 2788\n",
      "[ 4.68832947e-04  3.20271790e+00  3.84752417e+00  1.08133373e+00\n",
      " -6.79151452e+00 -2.04460500e+00 -5.40120282e-03  1.45393913e+00\n",
      "  1.92327071e+00  2.85256496e+00  1.94423810e+00  1.34598344e+00\n",
      "  6.38014874e+00  2.91006602e+00  1.98443323e+00  3.01208413e+00\n",
      "  4.51256322e+00  1.40090721e+00  5.21975392e+00  5.54540478e+00\n",
      "  1.30691839e-01  1.30335497e-01  5.22692403e+00  3.48867425e+00\n",
      "  4.97425625e+00  3.50998418e+00  5.03618434e+00  5.44870129e+00\n",
      "  6.47180938e+00  6.38058250e-01  1.36178360e+01  1.06863692e+01]\n",
      "CPU times: total: 27min 14s\n",
      "Wall time: 27min 41s\n"
     ]
    }
   ],
   "source": [
    "%%time\n",
    "TI_approximated_eigenvalue = get_approximated_eigenvalue_of_hamiltonian(transverse_ising_4_qubits, \"full\")"
   ]
  },
  {
   "cell_type": "code",
   "execution_count": 39,
   "id": "2f902eaa",
   "metadata": {},
   "outputs": [
    {
     "name": "stdout",
     "output_type": "stream",
     "text": [
      "[(-1.9994855800333675+0j), (-1.9080638482930956+0j), (-1.8497137109270194+0j), (-1.7583827504312988+0j), (-0.5462047134056278+0j), (-0.47710503946487287+0j), (-0.31907768442618767+0j), (-0.2505930484227001+0j), (0.14239915569453057+0j), (0.20992649961322052+0j), (0.2757654176709828+0j), (0.3444947223438019+0j), (1.6816520928402046+0j), (1.6958488386667439+0j), (2.3718326043433704+0j), (2.3867070442313216+0j)]\n",
      "Exact Eigenvalue:\n",
      "(-1.9994855800333675+0j)\n",
      "\n",
      "Approximated Eigenvalue:\n",
      "-2.2963813611708606\n",
      "\n",
      "Approximation Error\n",
      "0.1484860826715932\n"
     ]
    },
    {
     "data": {
      "image/png": "[encoded data removed]",
      "text/plain": [
       "<Figure size 432x288 with 1 Axes>"
      ]
     },
     "metadata": {
      "needs_background": "light"
     },
     "output_type": "display_data"
    }
   ],
   "source": [
    "compare_exact_and_approximated_eigenvalue(transverse_ising_4_qubits, TI_approximated_eigenvalue)"
   ]
  },
  {
   "cell_type": "markdown",
   "id": "cbf062b7",
   "metadata": {},
   "source": [
    "##  Transverse Ising Model 3 qubits"
   ]
  },
  {
   "cell_type": "code",
   "execution_count": 40,
   "id": "ff246ff1",
   "metadata": {},
   "outputs": [],
   "source": [
    "QUBITS_NUM = 3 \n",
    "N = 2**QUBITS_NUM\n",
    "\n",
    "NUM_SHOTS = 1024\n",
    "\n",
    "CIRCUIT_DEPTH = 3\n",
    "PARAMS_NUM = 2*QUBITS_NUM*(CIRCUIT_DEPTH+1)"
   ]
  },
  {
   "cell_type": "code",
   "execution_count": 41,
   "id": "8dd976ef",
   "metadata": {},
   "outputs": [],
   "source": [
    "from qiskit.opflow import X, Z, I\n",
    "\n",
    "transverse_ising_3_qubits = 0.0 * (I^I^I) \\\n",
    "                    + 0.012764169333459807 * (X^I^I) \\\n",
    "                    + 0.7691573729160869 * (I^X^I) \\\n",
    "                    + 0.398094746026449 * (Z^Z^I) \\\n",
    "                    + 0.15250261906586637 * (I^I^X) \\\n",
    "                    + 0.2094051920882264 * (Z^I^Z) \\\n",
    "                    + 0.5131291860752999 * (I^Z^Z)"
   ]
  },
  {
   "cell_type": "markdown",
   "id": "e37dd875",
   "metadata": {},
   "source": [
    "#### Linear Entangelment"
   ]
  },
  {
   "cell_type": "code",
   "execution_count": 42,
   "id": "7ffc0e36",
   "metadata": {},
   "outputs": [
    {
     "name": "stdout",
     "output_type": "stream",
     "text": [
      "Optimization terminated successfully.\n",
      "         Current function value: -1.052709\n",
      "         Iterations: 5\n",
      "         Function evaluations: 2075\n",
      "[ 2.56237325  6.40125655  1.6388237   4.48396551  5.72455563 -0.20941623\n",
      "  2.40298867  0.28739754  0.29563112  4.73381543  0.99192202  5.19559228\n",
      "  3.54276274  2.60297925  1.67501484  4.37467489  5.44526946  3.50632823\n",
      "  6.10895907  2.16898493  2.17714502  7.67192626  6.99350367 13.17713197]\n",
      "CPU times: total: 9min 2s\n",
      "Wall time: 9min 9s\n"
     ]
    }
   ],
   "source": [
    "%%time\n",
    "TI_approximated_eigenvalue = get_approximated_eigenvalue_of_hamiltonian(transverse_ising_3_qubits, \"linear\")"
   ]
  },
  {
   "cell_type": "code",
   "execution_count": 43,
   "id": "400315d0",
   "metadata": {},
   "outputs": [
    {
     "name": "stdout",
     "output_type": "stream",
     "text": [
      "[(-1.1327102067329746+0j), (-1.1089522226243493+0j), (-0.8673630797839832+0j), (-0.8433012058342556+0j), (0.5479228225821259+0j), (0.5543478038595204+0j), (1.4216636087077101+0j), (1.4283924798262082+0j)]\n",
      "Exact Eigenvalue:\n",
      "(-1.1327102067329746+0j)\n",
      "\n",
      "Approximated Eigenvalue:\n",
      "-1.0492112901482482\n",
      "\n",
      "Approximation Error\n",
      "0.07371604501168803\n"
     ]
    },
    {
     "data": {
      "image/png": "[encoded data removed]",
      "text/plain": [
       "<Figure size 432x288 with 1 Axes>"
      ]
     },
     "metadata": {
      "needs_background": "light"
     },
     "output_type": "display_data"
    }
   ],
   "source": [
    "compare_exact_and_approximated_eigenvalue(transverse_ising_3_qubits, TI_approximated_eigenvalue)"
   ]
  },
  {
   "cell_type": "markdown",
   "id": "91d5d284",
   "metadata": {},
   "source": [
    "#### Full Entangelment"
   ]
  },
  {
   "cell_type": "code",
   "execution_count": 44,
   "id": "d43a0eb0",
   "metadata": {},
   "outputs": [
    {
     "name": "stdout",
     "output_type": "stream",
     "text": [
      "Optimization terminated successfully.\n",
      "         Current function value: -1.124131\n",
      "         Iterations: 4\n",
      "         Function evaluations: 1737\n",
      "[ 2.03369108  1.38495887  4.49862493  2.97680862 -0.12430262  0.62531627\n",
      "  1.35271494  1.5835164   0.87209702  2.91171595  6.05772988  2.14589701\n",
      "  2.68827591  0.43731894  1.82429209  4.1136067   0.70186111  0.49850081\n",
      "  2.69340559  3.63597507  3.3473297   6.23454747  3.76787966  2.57902624]\n",
      "CPU times: total: 7min 20s\n",
      "Wall time: 7min 27s\n"
     ]
    }
   ],
   "source": [
    "%%time\n",
    "TI_approximated_eigenvalue = get_approximated_eigenvalue_of_hamiltonian(transverse_ising_3_qubits, \"full\")"
   ]
  },
  {
   "cell_type": "code",
   "execution_count": 45,
   "id": "39bdc045",
   "metadata": {},
   "outputs": [
    {
     "name": "stdout",
     "output_type": "stream",
     "text": [
      "[(-1.1327102067329746+0j), (-1.1089522226243493+0j), (-0.8673630797839832+0j), (-0.8433012058342556+0j), (0.5479228225821259+0j), (0.5543478038595204+0j), (1.4216636087077101+0j), (1.4283924798262082+0j)]\n",
      "Exact Eigenvalue:\n",
      "(-1.1327102067329746+0j)\n",
      "\n",
      "Approximated Eigenvalue:\n",
      "-1.1069053544290886\n",
      "\n",
      "Approximation Error\n",
      "0.022781513003501445\n"
     ]
    },
    {
     "data": {
      "image/png": "[encoded data removed]",
      "text/plain": [
       "<Figure size 432x288 with 1 Axes>"
      ]
     },
     "metadata": {
      "needs_background": "light"
     },
     "output_type": "display_data"
    }
   ],
   "source": [
    "compare_exact_and_approximated_eigenvalue(transverse_ising_3_qubits, TI_approximated_eigenvalue)"
   ]
  },
  {
   "cell_type": "markdown",
   "id": "09be5f46",
   "metadata": {},
   "source": [
    "##  Transverse Ising Model 2 qubits"
   ]
  },
  {
   "cell_type": "code",
   "execution_count": 46,
   "id": "d8a0c4e6",
   "metadata": {},
   "outputs": [],
   "source": [
    "QUBITS_NUM = 2 \n",
    "N = 2**QUBITS_NUM\n",
    "\n",
    "NUM_SHOTS = 1024\n",
    "\n",
    "CIRCUIT_DEPTH = 3\n",
    "PARAMS_NUM = 2*QUBITS_NUM*(CIRCUIT_DEPTH+1)"
   ]
  },
  {
   "cell_type": "code",
   "execution_count": 47,
   "id": "58136107",
   "metadata": {},
   "outputs": [],
   "source": [
    "transverse_ising_2_qubits = 0.13755727363376802 * (I^X) \\\n",
    "                            + 0.43305656297810435 * (X^I) \\\n",
    "                            + 0.8538597608997253 * (Z^Z)"
   ]
  },
  {
   "cell_type": "markdown",
   "id": "6428a32d",
   "metadata": {},
   "source": [
    "#### Linear Entangelment"
   ]
  },
  {
   "cell_type": "code",
   "execution_count": 48,
   "id": "d9154eaa",
   "metadata": {},
   "outputs": [
    {
     "name": "stdout",
     "output_type": "stream",
     "text": [
      "Optimization terminated successfully.\n",
      "         Current function value: -1.149548\n",
      "         Iterations: 3\n",
      "         Function evaluations: 802\n",
      "[5.34590258 6.09345539 1.87971501 6.19729181 6.1954195  1.95862673\n",
      " 0.95451075 3.10409034 2.75281813 1.92699716 1.2150425  4.67914506\n",
      " 2.29087481 0.07947362 3.40756407 7.56403244]\n",
      "CPU times: total: 1min 2s\n",
      "Wall time: 1min 2s\n"
     ]
    }
   ],
   "source": [
    "%%time\n",
    "TI_approximated_eigenvalue = get_approximated_eigenvalue_of_hamiltonian(transverse_ising_2_qubits, \"linear\")"
   ]
  },
  {
   "cell_type": "code",
   "execution_count": 49,
   "id": "88b56e14",
   "metadata": {},
   "outputs": [
    {
     "name": "stdout",
     "output_type": "stream",
     "text": [
      "[(-1.0269745088446245+0j), (-0.9035465241407018+0j), (0.9035465241407012+0j), (1.0269745088446243+0j)]\n",
      "Exact Eigenvalue:\n",
      "(-1.0269745088446245+0j)\n",
      "\n",
      "Approximated Eigenvalue:\n",
      "-1.1462285808001182\n",
      "\n",
      "Approximation Error\n",
      "0.11612174492009347\n"
     ]
    },
    {
     "data": {
      "image/png": "[encoded data removed]",
      "text/plain": [
       "<Figure size 432x288 with 1 Axes>"
      ]
     },
     "metadata": {
      "needs_background": "light"
     },
     "output_type": "display_data"
    }
   ],
   "source": [
    "compare_exact_and_approximated_eigenvalue(transverse_ising_2_qubits, TI_approximated_eigenvalue)"
   ]
  },
  {
   "cell_type": "markdown",
   "id": "49bb4028",
   "metadata": {},
   "source": [
    "#### Full Entangelment"
   ]
  },
  {
   "cell_type": "code",
   "execution_count": 50,
   "id": "c06487da",
   "metadata": {},
   "outputs": [
    {
     "name": "stdout",
     "output_type": "stream",
     "text": [
      "Optimization terminated successfully.\n",
      "         Current function value: -1.149628\n",
      "         Iterations: 7\n",
      "         Function evaluations: 2010\n",
      "[2.11773402 6.30356102 2.60420997 3.67735046 1.64493605 5.78174565\n",
      " 0.82720057 5.51700398 5.5675748  0.02111379 3.52733582 1.31788863\n",
      " 4.18550713 0.94387527 7.57950437 4.53536348]\n",
      "CPU times: total: 2min 37s\n",
      "Wall time: 2min 39s\n"
     ]
    }
   ],
   "source": [
    "%%time\n",
    "TI_approximated_eigenvalue = get_approximated_eigenvalue_of_hamiltonian(transverse_ising_2_qubits, \"full\")"
   ]
  },
  {
   "cell_type": "code",
   "execution_count": 51,
   "id": "65ad38bc",
   "metadata": {},
   "outputs": [
    {
     "name": "stdout",
     "output_type": "stream",
     "text": [
      "[(-1.0269745088446245+0j), (-0.9035465241407018+0j), (0.9035465241407012+0j), (1.0269745088446243+0j)]\n",
      "Exact Eigenvalue:\n",
      "(-1.0269745088446245+0j)\n",
      "\n",
      "Approximated Eigenvalue:\n",
      "-1.1493590502440616\n",
      "\n",
      "Approximation Error\n",
      "0.11916998946461017\n"
     ]
    },
    {
     "data": {
      "image/png": "[encoded data removed]",
      "text/plain": [
       "<Figure size 432x288 with 1 Axes>"
      ]
     },
     "metadata": {
      "needs_background": "light"
     },
     "output_type": "display_data"
    }
   ],
   "source": [
    "compare_exact_and_approximated_eigenvalue(transverse_ising_2_qubits, TI_approximated_eigenvalue)"
   ]
  },
  {
   "cell_type": "markdown",
   "id": "e9cf7ccb",
   "metadata": {},
   "source": [
    "## H2 Molecule 2 qubits"
   ]
  },
  {
   "cell_type": "code",
   "execution_count": 52,
   "id": "2909cd68",
   "metadata": {},
   "outputs": [],
   "source": [
    "from qiskit.opflow import X, Z, I\n",
    "\n",
    "H2_molecule_Hamiltonian_2_qubits = -0.5053051899926562*(I^I) + \\\n",
    "                            -0.3277380754984016*(Z^I) + \\\n",
    "                            0.15567463610622564*(Z^Z) + \\\n",
    "                            -0.3277380754984016*(I^Z)"
   ]
  },
  {
   "cell_type": "markdown",
   "id": "a3af5292",
   "metadata": {},
   "source": [
    "#### Linear Entangelment"
   ]
  },
  {
   "cell_type": "code",
   "execution_count": 53,
   "id": "6fe25ff3",
   "metadata": {},
   "outputs": [
    {
     "name": "stdout",
     "output_type": "stream",
     "text": [
      "Optimization terminated successfully.\n",
      "         Current function value: -1.005411\n",
      "         Iterations: 7\n",
      "         Function evaluations: 2095\n",
      "[ 1.35048723  3.84411543  2.51171998  4.46902437  3.99945154  1.9217137\n",
      "  5.57147929  1.20088168 -0.50262696  5.1765664   6.34906086  3.34194214\n",
      "  4.74624774  5.69413857  2.89990909 12.27865824]\n",
      "CPU times: total: 3min 38s\n",
      "Wall time: 3min 41s\n"
     ]
    }
   ],
   "source": [
    "%%time\n",
    "H2_approximated_eigenvalue = get_approximated_eigenvalue_of_hamiltonian(H2_molecule_Hamiltonian_2_qubits, \"linear\")"
   ]
  },
  {
   "cell_type": "code",
   "execution_count": 54,
   "id": "692be58b",
   "metadata": {},
   "outputs": [
    {
     "name": "stdout",
     "output_type": "stream",
     "text": [
      "[(-1.0051067048832336+0j), (-0.6609798260988818+0j), (-0.6609798260988818+0j), (0.30584559711037274+0j)]\n",
      "Exact Eigenvalue:\n",
      "(-1.0051067048832336+0j)\n",
      "\n",
      "Approximated Eigenvalue:\n",
      "-1.0051067048832336\n",
      "\n",
      "Approximation Error\n",
      "0.0\n"
     ]
    },
    {
     "data": {
      "image/png": "[encoded data removed]",
      "text/plain": [
       "<Figure size 432x288 with 1 Axes>"
      ]
     },
     "metadata": {
      "needs_background": "light"
     },
     "output_type": "display_data"
    }
   ],
   "source": [
    "compare_exact_and_approximated_eigenvalue(H2_molecule_Hamiltonian_2_qubits, H2_approximated_eigenvalue)"
   ]
  },
  {
   "cell_type": "markdown",
   "id": "46aa3a97",
   "metadata": {},
   "source": [
    "#### Full Entangelment"
   ]
  },
  {
   "cell_type": "code",
   "execution_count": 55,
   "id": "c027435b",
   "metadata": {},
   "outputs": [
    {
     "name": "stdout",
     "output_type": "stream",
     "text": [
      "Optimization terminated successfully.\n",
      "         Current function value: -1.004467\n",
      "         Iterations: 5\n",
      "         Function evaluations: 1405\n",
      "[ 1.01320029  3.97328283  4.55166672  1.99940811  3.63771815  2.76164524\n",
      "  4.43319672  0.1382371   0.32525548  3.3177431   0.77153158  5.04896422\n",
      "  3.92760324  4.51447793 11.59724782 -8.77846323]\n",
      "CPU times: total: 2min 25s\n",
      "Wall time: 2min 27s\n"
     ]
    }
   ],
   "source": [
    "%%time\n",
    "H2_approximated_eigenvalue = get_approximated_eigenvalue_of_hamiltonian(H2_molecule_Hamiltonian_2_qubits, \"full\")"
   ]
  },
  {
   "cell_type": "code",
   "execution_count": 56,
   "id": "d45ad4e5",
   "metadata": {},
   "outputs": [
    {
     "name": "stdout",
     "output_type": "stream",
     "text": [
      "[(-1.0051067048832336+0j), (-0.6609798260988818+0j), (-0.6609798260988818+0j), (0.30584559711037274+0j)]\n",
      "Exact Eigenvalue:\n",
      "(-1.0051067048832336+0j)\n",
      "\n",
      "Approximated Eigenvalue:\n",
      "-1.0034904166207552\n",
      "\n",
      "Approximation Error\n",
      "0.0016080762914283443\n"
     ]
    },
    {
     "data": {
      "image/png": "[encoded data removed]",
      "text/plain": [
       "<Figure size 432x288 with 1 Axes>"
      ]
     },
     "metadata": {
      "needs_background": "light"
     },
     "output_type": "display_data"
    }
   ],
   "source": [
    "compare_exact_and_approximated_eigenvalue(H2_molecule_Hamiltonian_2_qubits, H2_approximated_eigenvalue)"
   ]
  },
  {
   "cell_type": "code",
   "execution_count": null,
   "id": "64b16eaf",
   "metadata": {},
   "outputs": [],
   "source": []
  }
 ],
 "metadata": {
  "kernelspec": {
   "display_name": "Qiskitenv",
   "language": "python",
   "name": "qiskitenv"
  },
  "language_info": {
   "codemirror_mode": {
    "name": "ipython",
    "version": 3
   },
   "file_extension": ".py",
   "mimetype": "text/x-python",
   "name": "python",
   "nbconvert_exporter": "python",
   "pygments_lexer": "ipython3",
   "version": "3.8.13"
  }
 },
 "nbformat": 4,
 "nbformat_minor": 5
}
