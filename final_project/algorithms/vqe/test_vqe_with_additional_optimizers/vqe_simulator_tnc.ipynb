{
 "cells": [
  {
   "cell_type": "code",
   "execution_count": 1,
   "id": "213d256a",
   "metadata": {},
   "outputs": [],
   "source": [
    "%load_ext autoreload\n",
    "%autoreload 2"
   ]
  },
  {
   "cell_type": "markdown",
   "id": "c4c77734",
   "metadata": {},
   "source": [
    "### Basic Imports"
   ]
  },
  {
   "cell_type": "code",
   "execution_count": 2,
   "id": "9431f6b7",
   "metadata": {},
   "outputs": [],
   "source": [
    "import nbimporter\n",
    "from typing import Dict, Tuple, List\n",
    "import numpy as np\n",
    "from tqdm import tqdm"
   ]
  },
  {
   "cell_type": "markdown",
   "id": "4ff98362",
   "metadata": {},
   "source": [
    "### Env Vars"
   ]
  },
  {
   "cell_type": "code",
   "execution_count": 3,
   "id": "9c7250c3",
   "metadata": {},
   "outputs": [],
   "source": [
    "QUBITS_NUM = 4 \n",
    "N = 2**QUBITS_NUM\n",
    "\n",
    "NUM_SHOTS = 1024\n",
    "NUM_ITERATIONS = 100\n",
    "\n",
    "CIRCUIT_DEPTH = 3\n",
    "PARAMS_NUM = 2*QUBITS_NUM*(CIRCUIT_DEPTH+1)"
   ]
  },
  {
   "cell_type": "markdown",
   "id": "6dcb0625",
   "metadata": {},
   "source": [
    "### Simulator Backend"
   ]
  },
  {
   "cell_type": "code",
   "execution_count": 4,
   "id": "8e287170",
   "metadata": {},
   "outputs": [],
   "source": [
    "from qiskit import Aer\n",
    "from qiskit.utils import QuantumInstance, algorithm_globals\n",
    "\n",
    "seed = 50\n",
    "algorithm_globals.random_seed = seed\n",
    "\n",
    "simulator_backend = Aer.get_backend('qasm_simulator')"
   ]
  },
  {
   "cell_type": "markdown",
   "id": "5cc189d2",
   "metadata": {},
   "source": [
    "### Optimizer"
   ]
  },
  {
   "cell_type": "code",
   "execution_count": 5,
   "id": "aea5f838",
   "metadata": {},
   "outputs": [],
   "source": [
    "from scipy.optimize import minimize"
   ]
  },
  {
   "cell_type": "markdown",
   "id": "6681d9cf",
   "metadata": {},
   "source": [
    "### Ansatz State"
   ]
  },
  {
   "cell_type": "code",
   "execution_count": 6,
   "id": "ed679eb5",
   "metadata": {},
   "outputs": [],
   "source": [
    "from linear_entangelment_and_full_entangelment_ansatz_circuits import *"
   ]
  },
  {
   "cell_type": "code",
   "execution_count": 7,
   "id": "9ebdb4f8",
   "metadata": {},
   "outputs": [],
   "source": [
    "def get_ansatz_state(thetas, ansatz_entangelment, input_state):\n",
    "    if ansatz_entangelment==\"full\":\n",
    "        return get_full_entangelment_ansatz(QUBITS_NUM, thetas, input_state)\n",
    "    if ansatz_entangelment==\"linear\":\n",
    "        return get_linear_entangelment_ansatz(QUBITS_NUM, thetas, input_state)"
   ]
  },
  {
   "cell_type": "markdown",
   "id": "21777faa",
   "metadata": {},
   "source": [
    "## Expectation Value"
   ]
  },
  {
   "cell_type": "markdown",
   "id": "d320f1b6",
   "metadata": {},
   "source": [
    "### convert hamiltonian to pauli strings"
   ]
  },
  {
   "cell_type": "code",
   "execution_count": 8,
   "id": "56435355",
   "metadata": {},
   "outputs": [],
   "source": [
    "def transfrom_hamiltonian_into_pauli_strings(hamiltonian) -> List:\n",
    "    pauli_operators = hamiltonian.to_pauli_op().settings['oplist']\n",
    "    pauli_coeffs = list(map(lambda pauli_operator: pauli_operator.coeff, pauli_operators))\n",
    "    pauli_strings = list(map(lambda pauli_operator: pauli_operator.primitive, pauli_operators))\n",
    "    return pauli_coeffs, pauli_strings"
   ]
  },
  {
   "cell_type": "markdown",
   "id": "de5f75c3",
   "metadata": {},
   "source": [
    "### pauli string reduction to sigma_z's"
   ]
  },
  {
   "cell_type": "code",
   "execution_count": 9,
   "id": "347de6bb",
   "metadata": {},
   "outputs": [],
   "source": [
    "from qiskit.circuit.library.standard_gates import HGate, SGate\n",
    "from qiskit import QuantumCircuit, ClassicalRegister, QuantumRegister"
   ]
  },
  {
   "cell_type": "code",
   "execution_count": 10,
   "id": "dbbe79ef",
   "metadata": {},
   "outputs": [],
   "source": [
    "reducing_to_pauli_z_mapping = {\n",
    "    'I': 'I',\n",
    "    'Z': 'Z',\n",
    "    'X': 'Z',\n",
    "    'Y': 'Z'\n",
    "} "
   ]
  },
  {
   "cell_type": "code",
   "execution_count": 11,
   "id": "6f94927f",
   "metadata": {},
   "outputs": [],
   "source": [
    "def reduce_pauli_matrixes_into_sigma_z(pauli_string) -> str:\n",
    "    reduced_pauli_string = \"\"\n",
    "    for matrix_index in range(QUBITS_NUM):\n",
    "        pauli_matrix = str(pauli_string[matrix_index])\n",
    "        reduced_pauli_matrix = reducing_to_pauli_z_mapping[pauli_matrix]\n",
    "        reduced_pauli_string = reduced_pauli_matrix + reduced_pauli_string\n",
    "    \n",
    "    return reduced_pauli_string"
   ]
  },
  {
   "cell_type": "code",
   "execution_count": 12,
   "id": "e6f0562f",
   "metadata": {},
   "outputs": [],
   "source": [
    "def add_layer_of_gates_for_reducing_paulis_to_sigma_z(pauli_string, quantum_circuit):\n",
    "    quantum_registers = QuantumRegister(QUBITS_NUM, name=\"qubit\")\n",
    "    additional_circuit_layer = QuantumCircuit(quantum_registers)\n",
    "    \n",
    "    for quantum_register_index, pauli_matrix in enumerate(pauli_string):\n",
    "        if pauli_matrix == \"X\":\n",
    "            additional_circuit_layer.append(HGate(), [quantum_registers[quantum_register_index]])\n",
    "        if pauli_string == \"Y\":\n",
    "            additional_circuit_layer.append(HGate(), [quantum_registers[quantum_register_index]])\n",
    "            additional_circuit_layer.append(SGate(), [quantum_registers[quantum_register_index]])\n",
    "                \n",
    "    extended_quantum_circuit = quantum_circuit.compose(additional_circuit_layer)\n",
    "    return extended_quantum_circuit"
   ]
  },
  {
   "cell_type": "markdown",
   "id": "ce83fae9",
   "metadata": {},
   "source": [
    "### probabilities distribution"
   ]
  },
  {
   "cell_type": "code",
   "execution_count": 13,
   "id": "84e65e31",
   "metadata": {},
   "outputs": [],
   "source": [
    "def get_probability_distribution(counts: Dict) -> Dict:\n",
    "    proba_distribution = {state: (count / NUM_SHOTS) for state, count in counts.items()}\n",
    "    return proba_distribution\n",
    "\n",
    "def calculate_probabilities_of_measurments_in_computational_basis(quantum_state_circuit) -> Dict:\n",
    "    quantum_state_circuit.measure_all()\n",
    "    \n",
    "    transpiled_quantum_state_circuit = transpile(quantum_state_circuit, simulator_backend) \n",
    "    Qobj = assemble(transpiled_quantum_state_circuit)\n",
    "    result = simulator_backend.run(Qobj).result()\n",
    "    counts = result.get_counts(quantum_state_circuit)\n",
    "    \n",
    "    return get_probability_distribution(counts)"
   ]
  },
  {
   "cell_type": "markdown",
   "id": "b9286e5d",
   "metadata": {},
   "source": [
    "### Expectation value from probabilities"
   ]
  },
  {
   "cell_type": "code",
   "execution_count": 14,
   "id": "38a72356",
   "metadata": {},
   "outputs": [],
   "source": [
    "def sort_probas_dict_by_qubits_string_keys(proba_distribution: Dict) -> Dict:\n",
    "    return dict(sorted(proba_distribution.items()))\n",
    "\n",
    "def reset_power_of_minus_1(power_of_minus_1):\n",
    "    power_of_minus_1 = 0\n",
    "    return power_of_minus_1\n",
    "\n",
    "def convert_pauli_string_into_str(pauli_string) -> str:\n",
    "    return str(pauli_string)\n",
    "\n",
    "def calculate_expectation_value_of_pauli_string_by_measurments_probas(pauli_string, ansatz_circuit):\n",
    "    pauli_string_expectation_value = 0\n",
    "    power_of_minus_1 = 0\n",
    "    \n",
    "    pauli_string_str = convert_pauli_string_into_str(pauli_string)\n",
    "    extended_ansatz_circuit = add_layer_of_gates_for_reducing_paulis_to_sigma_z(pauli_string_str, ansatz_circuit)\n",
    "    probas_distribution = calculate_probabilities_of_measurments_in_computational_basis(extended_ansatz_circuit)\n",
    "    \n",
    "    reduced_pauli_string = reduce_pauli_matrixes_into_sigma_z(pauli_string)\n",
    "    sorted_probas_distribuition = sort_probas_dict_by_qubits_string_keys(probas_distribution)\n",
    "    for qubits_string, proba in sorted_probas_distribuition.items():\n",
    "        for string_index in range(QUBITS_NUM):\n",
    "            if(str(qubits_string[string_index])==\"1\" and str(reduced_pauli_string[string_index])==\"Z\"):\n",
    "                power_of_minus_1 += 1\n",
    "            \n",
    "        pauli_string_expectation_value += pow(-1, power_of_minus_1)*proba\n",
    "        power_of_minus_1 = reset_power_of_minus_1(power_of_minus_1)\n",
    "        \n",
    "    return pauli_string_expectation_value"
   ]
  },
  {
   "cell_type": "code",
   "execution_count": 15,
   "id": "c263be2b",
   "metadata": {},
   "outputs": [],
   "source": [
    "def get_expectation_value(ansatz_circuit, pauli_coeffs, pauli_strings):\n",
    "    total_expection_value = 0\n",
    "    \n",
    "    for pauli_coeff, pauli_string in tqdm(zip(pauli_coeffs, pauli_strings)):\n",
    "        total_expection_value += pauli_coeff*calculate_expectation_value_of_pauli_string_by_measurments_probas(\n",
    "                                                                                    pauli_string, ansatz_circuit)\n",
    "    \n",
    "    return total_expection_value"
   ]
  },
  {
   "cell_type": "markdown",
   "id": "a79fc302",
   "metadata": {},
   "source": [
    "## Objective Function"
   ]
  },
  {
   "cell_type": "code",
   "execution_count": 16,
   "id": "e3f4d330",
   "metadata": {},
   "outputs": [],
   "source": [
    "from qiskit import assemble, transpile\n",
    "\n",
    "def cost_function(thetas, hamiltonian, ansatz_entangelment):\n",
    "    initial_eigenvector = np.identity(N)[0]\n",
    "    \n",
    "    pauli_coeffs, pauli_strings = transfrom_hamiltonian_into_pauli_strings(hamiltonian)\n",
    "    ansatz_state = get_ansatz_state(thetas, ansatz_entangelment, initial_eigenvector)\n",
    "        \n",
    "    L = get_expectation_value(ansatz_state, pauli_coeffs, pauli_strings)\n",
    "    insert_approximated_energy_to_list_of_all_approximated_energies(L)\n",
    "        \n",
    "    return L"
   ]
  },
  {
   "cell_type": "markdown",
   "id": "e8ac20b3",
   "metadata": {},
   "source": [
    "## Optimization"
   ]
  },
  {
   "cell_type": "code",
   "execution_count": 17,
   "id": "9b2663d2",
   "metadata": {},
   "outputs": [],
   "source": [
    "def get_optimal_thetas_of_ansatz_circuit_for_hamiltonian(hamiltonian, ansatz_entangelment):\n",
    "    initial_thetas = np.random.uniform(low=0, high=2*np.pi, size=PARAMS_NUM)\n",
    "    optimizer_result = minimize(cost_function,\n",
    "                                x0=initial_thetas,\n",
    "                                args=(hamiltonian, ansatz_entangelment),\n",
    "                                method=\"TNC\",\n",
    "                                options={\"maxiter\":NUM_ITERATIONS,\n",
    "                                        \"disp\": True})\n",
    "    optimal_thetas = optimizer_result.x\n",
    "    \n",
    "    return optimal_thetas"
   ]
  },
  {
   "cell_type": "code",
   "execution_count": 18,
   "id": "80c13445",
   "metadata": {},
   "outputs": [],
   "source": [
    "def get_approximated_eigenvalue_of_hamiltonian(hamiltonian, ansatz_entangelment):\n",
    "    optimal_thetas = get_optimal_thetas_of_ansatz_circuit_for_hamiltonian(hamiltonian, ansatz_entangelment)\n",
    "    print(optimal_thetas)\n",
    "    initial_eigenvector = np.identity(N)[0]\n",
    "    optimal_ansatz_state = get_ansatz_state(optimal_thetas, ansatz_entangelment, initial_eigenvector)\n",
    "    \n",
    "    pauli_coeffs, pauli_strings = transfrom_hamiltonian_into_pauli_strings(hamiltonian)\n",
    "    approximated_eigenvalue = get_expectation_value(optimal_ansatz_state, pauli_coeffs, pauli_strings)\n",
    "\n",
    "    return approximated_eigenvalue"
   ]
  },
  {
   "cell_type": "markdown",
   "id": "7b410988",
   "metadata": {},
   "source": [
    "## Comparsion"
   ]
  },
  {
   "cell_type": "code",
   "execution_count": 19,
   "id": "6cbe0758",
   "metadata": {},
   "outputs": [],
   "source": [
    "from numpy import linalg as LA\n",
    "\n",
    "def get_approximation_error(exact_eigenvalue, approximated_eigenvalue):\n",
    "    return abs(abs(exact_eigenvalue)-abs(approximated_eigenvalue))/abs(exact_eigenvalue)"
   ]
  },
  {
   "cell_type": "code",
   "execution_count": 20,
   "id": "28b63147",
   "metadata": {},
   "outputs": [],
   "source": [
    "def get_minimum_exact_eigenvalue_of_hamiltonian(hamiltonian):\n",
    "    eigen_values = LA.eigvals(hamiltonian.to_matrix())\n",
    "    print(sorted(eigen_values))\n",
    "    \n",
    "    return min(sorted(eigen_values))"
   ]
  },
  {
   "cell_type": "code",
   "execution_count": 21,
   "id": "529a29d1",
   "metadata": {},
   "outputs": [],
   "source": [
    "def compare_exact_and_approximated_eigenvalue(hamiltonian, approximated_eigenvalue):\n",
    "    exact_eigenvalue = get_minimum_exact_eigenvalue_of_hamiltonian(hamiltonian)\n",
    "    print(\"Exact Eigenvalue:\")\n",
    "    print(exact_eigenvalue)\n",
    "    print(\"\\nApproximated Eigenvalue:\")\n",
    "    print(approximated_eigenvalue)\n",
    "\n",
    "    print(\"\\nApproximation Error\")\n",
    "    print(get_approximation_error(exact_eigenvalue, approximated_eigenvalue))\n",
    "    \n",
    "    plot_convergence_of_optimization_process(approximated_energies, exact_eigenvalue, margin=3)\n",
    "    initialize_approximated_energy_to_list_of_all_approximated_energies()"
   ]
  },
  {
   "cell_type": "markdown",
   "id": "c1452964",
   "metadata": {},
   "source": [
    "## Visualization"
   ]
  },
  {
   "cell_type": "code",
   "execution_count": 22,
   "id": "75c3e505",
   "metadata": {},
   "outputs": [],
   "source": [
    "approximated_energies = []"
   ]
  },
  {
   "cell_type": "code",
   "execution_count": 23,
   "id": "5c4331c6",
   "metadata": {},
   "outputs": [],
   "source": [
    "def insert_approximated_energy_to_list_of_all_approximated_energies(energy):\n",
    "    approximated_energies.append(energy)"
   ]
  },
  {
   "cell_type": "code",
   "execution_count": 24,
   "id": "26026bbb",
   "metadata": {},
   "outputs": [],
   "source": [
    "import matplotlib.pyplot as plt\n",
    "\n",
    "def plot_convergence_of_optimization_process(approximated_energies, exact_eigenvalue, margin):\n",
    "    plt.title(\"convergence of optimization process to the exact eigenvalue\")\n",
    "    plt.margins(0, margin)\n",
    "    plt.plot(approximated_energies[-NUM_ITERATIONS:])\n",
    "    plt.axhline(y = exact_eigenvalue, color = 'r', linestyle = '-')\n",
    "    plt.grid()\n",
    "    plt.xlabel(\"# of iterations\")\n",
    "    plt.ylabel(\"Energy\")\n",
    "    \n",
    "def plot_fidelity():\n",
    "    plt.plot(LiH_approximated_energies)\n",
    "    plt.xlabel(\"# of iterations\")\n",
    "    plt.ylabel(\"Energy\")"
   ]
  },
  {
   "cell_type": "markdown",
   "id": "2b442e22",
   "metadata": {},
   "source": [
    "## LiH Molecule 4 qubits"
   ]
  },
  {
   "cell_type": "code",
   "execution_count": 25,
   "id": "87e93b42",
   "metadata": {},
   "outputs": [],
   "source": [
    "from qiskit.opflow import X, Z, I, H, Y\n",
    "\n",
    "LiH_molecule_4_qubits = -7.49894690201071*(I^I^I^I) + \\\n",
    "                            -0.0029329964409502266*(X^X^Y^Y) + \\\n",
    "                            0.0029329964409502266*(X^Y^Y^X) + \\\n",
    "                            0.01291078027311749*(X^Z^X^I) + \\\n",
    "                            -0.0013743761078958677*(X^Z^X^Z) + \\\n",
    "                            0.011536413200774975*(X^I^X^I) + \\\n",
    "                            0.0029329964409502266*(Y^X^X^Y) + \\\n",
    "                            -0.0029329964409502266*(Y^Y^X^X) + \\\n",
    "                            0.01291078027311749*(Y^Z^Y^I) + \\\n",
    "                            -0.0013743761078958677*(Y^Z^Y^Z) + \\\n",
    "                            0.011536413200774975*(Y^I^Y^I) + \\\n",
    "                            0.16199475388004184*(Z^I^I^I) + \\\n",
    "                            0.011536413200774975*(Z^X^Z^X) + \\\n",
    "                            0.011536413200774975*(Z^Y^Z^Y) + \\\n",
    "                            0.12444770133137588*(Z^Z^I^I) + \\\n",
    "                            0.054130445793298836*(Z^I^Z^I) + \\\n",
    "                            0.05706344223424907*(Z^I^I^Z) + \\\n",
    "                            0.012910780273117487*(I^X^Z^X) + \\\n",
    "                            -0.0013743761078958677*(I^X^I^X) + \\\n",
    "                            0.012910780273117487*(I^Y^Z^Y) + \\\n",
    "                            -0.0013743761078958677*(I^Y^I^Y) + \\\n",
    "                            0.16199475388004186*(I^Z^I^I) + \\\n",
    "                            0.05706344223424907*(I^Z^Z^I) + \\\n",
    "                            0.054130445793298836*(I^Z^I^Z) + \\\n",
    "                            -0.013243698330265966*(I^I^Z^I) + \\\n",
    "                            0.08479609543670981*(I^I^Z^Z) + \\\n",
    "                            -0.013243698330265952*(I^I^I^Z)"
   ]
  },
  {
   "cell_type": "markdown",
   "id": "dbfc22f0",
   "metadata": {},
   "source": [
    "#### Linear Entangelment"
   ]
  },
  {
   "cell_type": "code",
   "execution_count": 26,
   "id": "58cbff1d",
   "metadata": {},
   "outputs": [
    {
     "name": "stderr",
     "output_type": "stream",
     "text": [
      "27it [00:08,  3.33it/s]\n",
      "27it [00:04,  6.13it/s]\n",
      "27it [00:04,  6.06it/s]\n",
      "27it [00:03,  6.89it/s]\n",
      "27it [00:04,  6.60it/s]\n",
      "27it [00:04,  6.69it/s]\n",
      "27it [00:03,  6.86it/s]\n",
      "27it [00:03,  7.21it/s]\n",
      "27it [00:03,  6.97it/s]\n",
      "27it [00:04,  6.44it/s]\n",
      "27it [00:04,  6.11it/s]\n",
      "27it [00:04,  5.92it/s]\n",
      "27it [00:04,  6.58it/s]\n",
      "27it [00:04,  6.64it/s]\n",
      "27it [00:04,  6.17it/s]\n",
      "27it [00:04,  6.46it/s]\n",
      "27it [00:04,  6.34it/s]\n",
      "27it [00:04,  6.71it/s]\n",
      "27it [00:04,  6.22it/s]\n",
      "27it [00:04,  6.69it/s]\n",
      "27it [00:04,  6.36it/s]\n",
      "27it [00:04,  5.86it/s]\n",
      "27it [00:04,  6.30it/s]\n",
      "27it [00:03,  6.95it/s]\n",
      "27it [00:03,  6.79it/s]\n",
      "27it [00:03,  6.91it/s]\n",
      "27it [00:04,  6.43it/s]\n",
      "27it [00:04,  6.69it/s]\n",
      "27it [00:03,  7.23it/s]\n",
      "27it [00:04,  5.89it/s]\n",
      "27it [00:04,  6.12it/s]\n",
      "27it [00:04,  6.63it/s]\n",
      "27it [00:04,  6.46it/s]\n",
      "27it [00:03,  6.81it/s]\n",
      "27it [00:03,  6.84it/s]\n",
      "27it [00:04,  5.90it/s]\n",
      "27it [00:04,  6.47it/s]\n",
      "27it [00:04,  6.40it/s]\n",
      "27it [00:03,  7.07it/s]\n",
      "27it [00:03,  6.94it/s]\n",
      "27it [00:03,  7.38it/s]\n",
      "27it [00:04,  5.40it/s]\n",
      "27it [00:04,  6.19it/s]\n",
      "27it [00:04,  5.57it/s]\n",
      "27it [00:04,  6.25it/s]\n",
      "27it [00:04,  6.20it/s]\n",
      "27it [00:03,  6.87it/s]\n",
      "27it [00:03,  7.00it/s]\n",
      "27it [00:03,  7.06it/s]\n",
      "27it [00:04,  6.51it/s]\n",
      "27it [00:04,  6.54it/s]\n",
      "27it [00:04,  6.10it/s]\n",
      "27it [00:04,  6.04it/s]\n",
      "27it [00:04,  6.65it/s]\n",
      "27it [00:03,  7.11it/s]\n",
      "27it [00:03,  6.92it/s]\n",
      "27it [00:03,  6.98it/s]\n",
      "27it [00:04,  5.95it/s]\n",
      "27it [00:04,  5.83it/s]\n",
      "27it [00:04,  6.21it/s]\n",
      "27it [00:03,  6.99it/s]\n",
      "27it [00:03,  7.27it/s]\n",
      "27it [00:04,  6.46it/s]\n",
      "27it [00:04,  5.79it/s]\n",
      "27it [00:04,  5.60it/s]\n",
      "27it [00:04,  5.87it/s]\n",
      "27it [00:04,  5.43it/s]\n",
      "27it [00:04,  5.61it/s]\n",
      "27it [00:04,  6.28it/s]\n",
      "27it [00:04,  6.44it/s]\n",
      "27it [00:04,  5.55it/s]\n",
      "27it [00:03,  7.18it/s]\n",
      "27it [00:04,  6.15it/s]\n",
      "27it [00:05,  5.13it/s]\n",
      "27it [00:04,  6.11it/s]\n",
      "27it [00:04,  6.13it/s]\n",
      "27it [00:05,  4.75it/s]\n",
      "27it [00:04,  5.64it/s]\n",
      "27it [00:05,  5.00it/s]\n",
      "27it [00:04,  5.52it/s]\n",
      "27it [00:04,  5.82it/s]\n",
      "27it [00:04,  5.88it/s]\n",
      "27it [00:04,  5.84it/s]\n",
      "27it [00:04,  6.22it/s]\n",
      "27it [00:04,  5.76it/s]\n",
      "27it [00:04,  5.69it/s]\n",
      "27it [00:04,  5.66it/s]\n",
      "27it [00:04,  6.41it/s]\n",
      "27it [00:04,  6.17it/s]\n",
      "27it [00:04,  5.42it/s]\n",
      "27it [00:05,  5.16it/s]\n",
      "27it [00:05,  5.16it/s]\n",
      "27it [00:04,  6.08it/s]\n",
      "27it [00:04,  6.42it/s]\n",
      "27it [00:04,  6.35it/s]\n",
      "27it [00:04,  5.63it/s]\n",
      "27it [00:04,  5.42it/s]\n",
      "27it [00:04,  5.77it/s]\n",
      "27it [00:05,  4.56it/s]\n",
      "27it [00:05,  5.06it/s]\n",
      "27it [00:05,  4.74it/s]\n",
      "27it [00:04,  5.72it/s]\n",
      "27it [00:04,  5.77it/s]\n",
      "27it [00:04,  5.98it/s]\n",
      "27it [00:05,  5.36it/s]\n",
      "27it [00:05,  4.98it/s]\n",
      "27it [00:04,  5.43it/s]\n",
      "27it [00:05,  5.28it/s]\n",
      "27it [00:06,  4.32it/s]\n",
      "27it [00:05,  5.21it/s]\n",
      "27it [00:05,  4.85it/s]\n",
      "27it [00:04,  5.46it/s]\n",
      "27it [00:04,  6.12it/s]\n",
      "27it [00:04,  6.48it/s]\n",
      "27it [00:04,  6.24it/s]\n",
      "27it [00:04,  5.85it/s]\n",
      "27it [00:04,  6.20it/s]\n",
      "27it [00:04,  6.37it/s]\n",
      "27it [00:04,  5.95it/s]\n",
      "27it [00:04,  5.53it/s]\n",
      "27it [00:04,  5.47it/s]\n",
      "27it [00:04,  5.44it/s]\n",
      "27it [00:05,  5.30it/s]\n",
      "27it [00:04,  6.22it/s]\n",
      "27it [00:07,  3.85it/s]\n",
      "27it [00:05,  4.98it/s]\n",
      "27it [00:05,  4.83it/s]\n",
      "27it [00:05,  5.07it/s]\n",
      "27it [00:05,  5.35it/s]\n",
      "27it [00:05,  5.28it/s]\n",
      "27it [00:05,  5.23it/s]\n",
      "27it [00:05,  4.97it/s]\n",
      "27it [00:05,  4.62it/s]\n",
      "27it [00:05,  4.51it/s]\n",
      "27it [00:05,  4.98it/s]\n",
      "27it [00:05,  5.06it/s]\n",
      "27it [00:05,  4.78it/s]\n",
      "27it [00:05,  5.10it/s]\n",
      "27it [00:05,  5.26it/s]\n",
      "27it [00:05,  5.21it/s]\n",
      "27it [00:05,  4.84it/s]\n",
      "27it [00:05,  5.10it/s]\n",
      "27it [00:04,  5.43it/s]\n",
      "27it [00:04,  5.47it/s]\n",
      "27it [00:06,  4.33it/s]\n",
      "27it [00:05,  4.81it/s]\n",
      "27it [00:05,  4.86it/s]\n",
      "27it [00:05,  5.01it/s]\n",
      "27it [00:05,  4.79it/s]\n",
      "27it [00:05,  4.75it/s]\n",
      "27it [00:05,  5.22it/s]\n",
      "27it [00:05,  5.38it/s]\n",
      "27it [00:04,  5.62it/s]\n",
      "27it [00:05,  4.99it/s]\n",
      "27it [00:05,  4.88it/s]\n",
      "27it [00:04,  5.48it/s]\n",
      "27it [00:04,  5.86it/s]\n",
      "27it [00:05,  4.88it/s]\n",
      "27it [00:04,  5.57it/s]\n",
      "27it [00:05,  5.04it/s]\n",
      "27it [00:04,  5.60it/s]\n",
      "27it [00:04,  6.08it/s]\n",
      "27it [00:04,  5.74it/s]\n",
      "27it [00:04,  5.86it/s]\n",
      "27it [00:04,  5.86it/s]\n",
      "27it [00:05,  5.38it/s]\n",
      "27it [00:04,  5.73it/s]\n",
      "27it [00:04,  5.58it/s]\n",
      "27it [00:04,  5.71it/s]\n",
      "27it [00:04,  5.72it/s]\n",
      "27it [00:04,  5.82it/s]\n",
      "27it [00:04,  6.07it/s]\n",
      "27it [00:04,  5.64it/s]\n",
      "27it [00:04,  5.92it/s]\n",
      "27it [00:04,  5.55it/s]\n",
      "27it [00:05,  4.88it/s]\n",
      "27it [00:06,  4.47it/s]\n",
      "27it [00:05,  4.78it/s]\n",
      "27it [00:05,  5.23it/s]\n",
      "27it [00:04,  5.55it/s]\n",
      "27it [00:04,  5.73it/s]\n",
      "27it [00:04,  5.49it/s]\n",
      "27it [00:04,  5.85it/s]\n",
      "27it [00:04,  6.07it/s]\n",
      "27it [00:04,  5.80it/s]\n",
      "27it [00:04,  5.62it/s]\n",
      "27it [00:04,  5.57it/s]\n",
      "27it [00:05,  5.33it/s]\n",
      "27it [00:06,  4.46it/s]\n",
      "27it [00:05,  5.24it/s]\n",
      "27it [00:05,  5.34it/s]\n",
      "27it [00:05,  5.17it/s]\n",
      "27it [00:04,  5.95it/s]\n",
      "27it [00:05,  4.85it/s]\n",
      "27it [00:06,  4.28it/s]\n",
      "27it [00:05,  4.84it/s]\n",
      "27it [00:05,  4.79it/s]\n",
      "27it [00:04,  5.47it/s]\n",
      "27it [00:05,  5.39it/s]\n",
      "27it [00:04,  5.63it/s]\n",
      "27it [00:05,  5.31it/s]\n",
      "27it [00:05,  4.72it/s]\n",
      "27it [00:05,  5.27it/s]\n",
      "27it [00:05,  5.39it/s]\n",
      "27it [00:05,  5.34it/s]\n",
      "27it [00:05,  5.11it/s]\n",
      "27it [00:05,  5.01it/s]\n",
      "27it [00:05,  5.33it/s]\n",
      "27it [00:05,  5.38it/s]\n",
      "27it [00:05,  5.12it/s]\n",
      "27it [00:05,  5.19it/s]\n",
      "27it [00:04,  5.61it/s]\n",
      "27it [00:05,  4.86it/s]\n",
      "27it [00:04,  5.43it/s]\n",
      "27it [00:05,  4.88it/s]\n",
      "27it [00:05,  4.81it/s]\n",
      "27it [00:05,  5.20it/s]\n",
      "27it [00:04,  5.50it/s]\n",
      "27it [00:05,  5.35it/s]\n",
      "27it [00:05,  5.03it/s]\n",
      "27it [00:05,  5.24it/s]\n",
      "27it [00:05,  4.91it/s]\n",
      "27it [00:05,  5.29it/s]\n",
      "27it [00:05,  5.14it/s]\n",
      "27it [00:05,  5.16it/s]\n",
      "27it [00:05,  5.12it/s]\n",
      "27it [00:05,  4.90it/s]\n",
      "27it [00:05,  4.93it/s]\n",
      "27it [00:05,  5.35it/s]\n",
      "27it [00:05,  5.17it/s]\n",
      "27it [00:05,  5.26it/s]\n",
      "27it [00:05,  5.27it/s]\n",
      "27it [00:05,  4.80it/s]\n",
      "27it [00:05,  5.18it/s]\n",
      "27it [00:05,  5.18it/s]\n",
      "27it [00:05,  4.60it/s]\n",
      "27it [00:05,  5.28it/s]\n",
      "27it [00:05,  5.12it/s]\n",
      "27it [00:05,  5.40it/s]\n",
      "27it [00:05,  5.09it/s]\n",
      "27it [00:05,  5.37it/s]\n",
      "27it [00:05,  5.22it/s]\n",
      "27it [00:05,  4.91it/s]\n",
      "27it [00:05,  4.82it/s]\n",
      "27it [00:05,  5.13it/s]\n",
      "27it [00:05,  5.14it/s]\n",
      "27it [00:06,  4.44it/s]\n",
      "27it [00:05,  5.05it/s]\n",
      "27it [00:04,  5.73it/s]\n",
      "27it [00:05,  4.84it/s]\n",
      "27it [00:05,  5.37it/s]\n",
      "27it [00:05,  5.20it/s]\n",
      "27it [00:05,  5.25it/s]\n",
      "27it [00:05,  5.08it/s]\n",
      "27it [00:04,  5.40it/s]\n",
      "27it [00:05,  5.11it/s]\n",
      "27it [00:05,  5.38it/s]\n",
      "27it [00:05,  5.20it/s]\n",
      "27it [00:05,  4.80it/s]\n",
      "27it [00:05,  5.13it/s]\n",
      "27it [00:05,  5.17it/s]\n",
      "27it [00:05,  4.89it/s]\n",
      "27it [00:05,  5.34it/s]\n",
      "27it [00:05,  5.30it/s]\n",
      "27it [00:05,  5.25it/s]\n",
      "27it [00:05,  5.12it/s]\n",
      "27it [00:04,  5.41it/s]\n",
      "27it [00:05,  4.93it/s]\n",
      "27it [00:05,  5.16it/s]\n",
      "27it [00:05,  4.92it/s]\n",
      "27it [00:05,  5.01it/s]\n",
      "27it [00:05,  5.19it/s]\n",
      "27it [00:05,  4.76it/s]\n",
      "27it [00:05,  5.17it/s]\n",
      "27it [00:05,  5.21it/s]\n",
      "27it [00:05,  5.24it/s]\n",
      "27it [00:05,  5.26it/s]\n",
      "27it [00:05,  5.06it/s]\n",
      "27it [00:04,  5.54it/s]\n",
      "27it [00:05,  5.15it/s]\n",
      "27it [00:05,  5.26it/s]\n",
      "27it [00:05,  5.03it/s]\n",
      "27it [00:05,  5.05it/s]\n",
      "27it [00:05,  5.11it/s]\n",
      "27it [00:05,  5.08it/s]\n",
      "27it [00:04,  5.52it/s]\n",
      "27it [00:05,  5.32it/s]\n",
      "27it [00:04,  5.91it/s]\n",
      "27it [00:04,  6.05it/s]\n",
      "27it [00:04,  5.72it/s]\n",
      "27it [00:04,  5.61it/s]\n",
      "27it [00:04,  6.24it/s]\n",
      "27it [00:04,  5.97it/s]\n",
      "27it [00:04,  5.50it/s]\n",
      "27it [00:04,  5.98it/s]\n",
      "27it [00:04,  5.76it/s]\n",
      "27it [00:04,  6.03it/s]\n",
      "27it [00:04,  5.98it/s]\n",
      "27it [00:04,  5.81it/s]\n",
      "27it [00:04,  5.79it/s]\n",
      "27it [00:04,  6.07it/s]\n",
      "27it [00:04,  5.76it/s]\n",
      "27it [00:04,  6.01it/s]\n",
      "27it [00:04,  5.60it/s]\n",
      "27it [00:04,  5.54it/s]\n",
      "27it [00:05,  5.26it/s]\n",
      "27it [00:04,  5.75it/s]\n",
      "27it [00:04,  5.96it/s]\n",
      "27it [00:04,  5.66it/s]\n",
      "27it [00:04,  5.91it/s]\n",
      "27it [00:04,  6.05it/s]\n",
      "27it [00:04,  5.74it/s]\n",
      "27it [00:04,  5.80it/s]\n",
      "27it [00:04,  5.49it/s]\n",
      "27it [00:04,  6.00it/s]\n",
      "27it [00:04,  6.07it/s]\n",
      "27it [00:04,  5.75it/s]\n",
      "27it [00:04,  6.29it/s]\n",
      "27it [00:04,  5.46it/s]\n",
      "27it [00:04,  5.72it/s]\n",
      "27it [00:05,  5.18it/s]\n",
      "27it [00:05,  5.34it/s]\n",
      "27it [00:04,  5.89it/s]\n",
      "27it [00:04,  5.83it/s]\n",
      "27it [00:04,  5.58it/s]\n",
      "27it [00:04,  6.06it/s]\n",
      "27it [00:04,  6.33it/s]\n",
      "27it [00:04,  5.56it/s]\n",
      "27it [00:04,  5.67it/s]\n",
      "27it [00:04,  5.64it/s]\n",
      "27it [00:04,  5.50it/s]\n",
      "27it [00:04,  5.81it/s]\n",
      "27it [00:05,  5.00it/s]\n",
      "27it [00:04,  5.85it/s]\n",
      "27it [00:04,  5.73it/s]\n",
      "27it [00:04,  6.03it/s]\n",
      "27it [00:04,  6.46it/s]\n",
      "27it [00:04,  5.57it/s]\n",
      "27it [00:04,  5.87it/s]\n",
      "27it [00:04,  5.93it/s]\n",
      "27it [00:04,  5.72it/s]\n"
     ]
    },
    {
     "name": "stderr",
     "output_type": "stream",
     "text": [
      "27it [00:04,  5.79it/s]\n",
      "27it [00:04,  6.41it/s]\n",
      "27it [00:05,  5.13it/s]\n",
      "27it [00:05,  5.21it/s]\n",
      "27it [00:04,  5.52it/s]\n",
      "27it [00:04,  6.03it/s]\n",
      "27it [00:04,  5.95it/s]\n",
      "27it [00:04,  5.73it/s]\n",
      "27it [00:04,  5.85it/s]\n",
      "27it [00:04,  5.79it/s]\n",
      "27it [00:04,  5.86it/s]\n",
      "27it [00:04,  6.09it/s]\n",
      "27it [00:04,  5.93it/s]\n",
      "27it [00:04,  5.59it/s]\n",
      "27it [00:04,  5.74it/s]\n",
      "27it [00:05,  5.40it/s]\n",
      "27it [00:04,  5.83it/s]\n",
      "27it [00:04,  5.78it/s]\n",
      "27it [00:04,  5.98it/s]\n",
      "27it [00:04,  6.06it/s]\n",
      "27it [00:04,  5.87it/s]\n",
      "27it [00:04,  6.22it/s]\n",
      "27it [00:04,  6.26it/s]\n",
      "27it [00:04,  5.90it/s]\n",
      "27it [00:04,  5.83it/s]\n",
      "27it [00:04,  5.60it/s]\n",
      "27it [00:04,  5.77it/s]\n",
      "27it [00:04,  5.65it/s]\n",
      "27it [00:04,  5.64it/s]\n",
      "27it [00:04,  5.81it/s]\n",
      "27it [00:04,  6.09it/s]\n",
      "27it [00:04,  6.09it/s]\n",
      "27it [00:04,  6.01it/s]\n",
      "27it [00:04,  6.32it/s]\n",
      "27it [00:04,  5.97it/s]\n",
      "27it [00:04,  5.58it/s]\n",
      "27it [00:04,  6.05it/s]\n",
      "27it [00:04,  6.19it/s]\n",
      "27it [00:04,  5.52it/s]\n",
      "27it [00:04,  5.92it/s]\n",
      "27it [00:04,  5.74it/s]\n",
      "27it [00:04,  5.53it/s]\n",
      "27it [00:04,  5.65it/s]\n",
      "27it [00:04,  5.66it/s]\n",
      "27it [00:04,  6.18it/s]\n",
      "27it [00:04,  5.84it/s]\n",
      "27it [00:04,  5.89it/s]\n",
      "27it [00:04,  6.03it/s]\n",
      "27it [00:04,  6.10it/s]\n",
      "27it [00:04,  5.73it/s]\n",
      "27it [00:04,  6.24it/s]\n",
      "27it [00:04,  5.41it/s]\n",
      "27it [00:04,  6.15it/s]\n",
      "27it [00:04,  5.85it/s]\n",
      "27it [00:05,  5.08it/s]\n",
      "27it [00:05,  4.66it/s]\n",
      "27it [00:04,  5.64it/s]\n",
      "27it [00:05,  5.14it/s]\n",
      "27it [00:06,  4.44it/s]\n",
      "27it [00:05,  4.53it/s]\n",
      "27it [00:05,  4.59it/s]\n",
      "27it [00:07,  3.85it/s]\n",
      "27it [00:06,  4.22it/s]\n",
      "27it [00:05,  4.62it/s]\n",
      "27it [00:06,  4.03it/s]\n",
      "27it [00:06,  4.44it/s]\n",
      "27it [00:06,  4.47it/s]\n",
      "27it [00:06,  4.28it/s]\n",
      "27it [00:05,  4.62it/s]\n",
      "27it [00:06,  3.89it/s]\n",
      "27it [00:07,  3.69it/s]\n",
      "27it [00:06,  4.07it/s]\n",
      "27it [00:05,  4.74it/s]\n",
      "27it [00:05,  5.00it/s]\n",
      "27it [00:05,  4.87it/s]\n",
      "27it [00:05,  4.96it/s]\n",
      "27it [00:05,  5.27it/s]\n",
      "27it [00:05,  4.86it/s]\n",
      "27it [00:04,  5.45it/s]\n",
      "27it [00:05,  5.04it/s]\n",
      "27it [00:04,  5.40it/s]\n",
      "27it [00:05,  5.08it/s]\n",
      "27it [00:05,  5.16it/s]\n",
      "27it [00:04,  5.44it/s]\n",
      "27it [00:05,  5.37it/s]\n",
      "27it [00:05,  5.31it/s]\n",
      "27it [00:05,  5.00it/s]\n",
      "27it [00:05,  5.24it/s]\n",
      "27it [00:05,  4.94it/s]\n",
      "27it [00:05,  5.01it/s]\n",
      "27it [00:05,  5.36it/s]\n",
      "27it [00:05,  4.92it/s]\n",
      "27it [00:05,  4.91it/s]\n",
      "27it [00:05,  5.15it/s]\n",
      "27it [00:05,  5.08it/s]\n",
      "27it [00:05,  4.75it/s]\n",
      "27it [00:05,  4.91it/s]\n",
      "27it [00:05,  5.07it/s]\n",
      "27it [00:05,  5.07it/s]\n",
      "27it [00:05,  5.06it/s]\n",
      "27it [00:05,  5.04it/s]\n",
      "27it [00:05,  5.22it/s]\n",
      "27it [00:05,  5.09it/s]\n",
      "27it [00:05,  5.25it/s]\n",
      "27it [00:05,  5.18it/s]\n",
      "27it [00:05,  5.18it/s]\n",
      "27it [00:05,  5.35it/s]\n",
      "27it [00:05,  4.97it/s]\n",
      "27it [00:05,  4.63it/s]\n",
      "27it [00:05,  5.05it/s]\n",
      "27it [00:05,  5.25it/s]\n",
      "27it [00:05,  5.03it/s]\n",
      "27it [00:05,  5.13it/s]\n",
      "27it [00:05,  5.03it/s]\n",
      "27it [00:05,  5.27it/s]\n",
      "27it [00:05,  4.97it/s]\n",
      "27it [00:05,  5.07it/s]\n",
      "27it [00:05,  4.85it/s]\n",
      "27it [00:05,  4.90it/s]\n",
      "27it [00:05,  4.81it/s]\n",
      "27it [00:05,  4.96it/s]\n",
      "27it [00:05,  5.06it/s]\n",
      "27it [00:05,  5.36it/s]\n",
      "27it [00:05,  5.10it/s]\n",
      "27it [00:05,  5.07it/s]\n",
      "27it [00:06,  4.50it/s]\n",
      "27it [00:05,  4.97it/s]\n",
      "27it [00:05,  4.95it/s]\n",
      "27it [00:06,  4.48it/s]\n",
      "27it [00:05,  5.15it/s]\n",
      "27it [00:05,  5.10it/s]\n",
      "27it [00:05,  5.02it/s]\n",
      "27it [00:05,  5.32it/s]\n",
      "27it [00:05,  5.06it/s]\n",
      "27it [00:04,  5.61it/s]\n",
      "27it [00:05,  5.02it/s]\n",
      "27it [00:05,  5.16it/s]\n",
      "27it [00:05,  5.25it/s]\n",
      "27it [00:05,  5.24it/s]\n",
      "27it [00:05,  4.91it/s]\n",
      "27it [00:05,  5.17it/s]\n",
      "27it [00:05,  4.98it/s]\n",
      "27it [00:05,  4.98it/s]\n",
      "27it [00:05,  5.30it/s]\n",
      "27it [00:05,  5.02it/s]\n",
      "27it [00:04,  5.44it/s]\n",
      "27it [00:05,  5.18it/s]\n",
      "27it [00:05,  5.15it/s]\n",
      "27it [00:05,  5.37it/s]\n",
      "27it [00:05,  5.12it/s]\n",
      "27it [00:05,  5.06it/s]\n",
      "27it [00:05,  5.17it/s]\n",
      "27it [00:05,  5.34it/s]\n",
      "27it [00:05,  5.18it/s]\n",
      "27it [00:05,  4.93it/s]\n",
      "27it [00:05,  4.82it/s]\n",
      "27it [00:05,  5.16it/s]\n",
      "27it [00:05,  4.95it/s]\n",
      "27it [00:05,  5.01it/s]\n",
      "27it [00:05,  5.34it/s]\n",
      "27it [00:05,  5.23it/s]\n",
      "27it [00:04,  5.62it/s]\n",
      "27it [00:05,  5.32it/s]\n",
      "27it [00:05,  4.99it/s]\n",
      "27it [00:05,  4.97it/s]\n",
      "27it [00:05,  4.88it/s]\n",
      "27it [00:05,  5.26it/s]\n",
      "27it [00:05,  5.24it/s]\n",
      "27it [00:05,  5.07it/s]\n",
      "27it [00:05,  5.27it/s]\n",
      "27it [00:05,  5.36it/s]\n",
      "27it [00:05,  5.10it/s]\n",
      "27it [00:05,  5.03it/s]\n",
      "27it [00:05,  4.99it/s]\n",
      "27it [00:04,  5.60it/s]\n",
      "27it [00:05,  4.86it/s]\n",
      "27it [00:05,  5.33it/s]\n",
      "27it [00:05,  5.23it/s]\n",
      "27it [00:05,  5.17it/s]\n",
      "27it [00:05,  5.39it/s]\n",
      "27it [00:05,  5.20it/s]\n",
      "27it [00:05,  4.98it/s]\n",
      "27it [00:05,  5.07it/s]\n",
      "27it [00:05,  4.74it/s]\n",
      "27it [00:05,  5.05it/s]\n",
      "27it [00:05,  5.05it/s]\n",
      "27it [00:05,  4.94it/s]\n",
      "27it [00:04,  5.45it/s]\n",
      "27it [00:05,  4.93it/s]\n",
      "27it [00:05,  4.96it/s]\n",
      "27it [00:05,  5.18it/s]\n",
      "27it [00:05,  5.25it/s]\n",
      "27it [00:05,  5.32it/s]\n",
      "27it [00:05,  5.39it/s]\n",
      "27it [00:05,  5.16it/s]\n",
      "27it [00:04,  5.57it/s]\n",
      "27it [00:05,  5.14it/s]\n",
      "27it [00:05,  5.11it/s]\n",
      "27it [00:05,  4.94it/s]\n",
      "27it [00:05,  5.02it/s]\n",
      "27it [00:05,  5.15it/s]\n",
      "27it [00:05,  5.10it/s]\n",
      "27it [00:05,  5.28it/s]\n",
      "27it [00:05,  5.26it/s]\n",
      "27it [00:05,  4.98it/s]\n",
      "27it [00:05,  5.03it/s]\n",
      "27it [00:05,  5.11it/s]\n",
      "27it [00:05,  4.83it/s]\n",
      "27it [00:05,  4.53it/s]\n",
      "27it [00:05,  4.93it/s]\n",
      "27it [00:05,  5.24it/s]\n",
      "27it [00:05,  5.07it/s]\n",
      "27it [00:05,  5.06it/s]\n",
      "27it [00:05,  5.04it/s]\n",
      "27it [00:05,  5.37it/s]\n",
      "27it [00:05,  5.20it/s]\n",
      "27it [00:05,  5.05it/s]\n",
      "27it [00:05,  5.02it/s]\n",
      "27it [00:05,  4.98it/s]\n",
      "27it [00:05,  5.24it/s]\n"
     ]
    },
    {
     "name": "stdout",
     "output_type": "stream",
     "text": [
      "[2.21244911 5.86835473 4.53375475 1.78529473 0.78918869 0.54918492\n",
      " 0.62871106 2.12891893 6.13723977 0.06573569 0.29027453 4.73743268\n",
      " 1.25848453 5.02103615 1.88900073 1.51197928 4.09053881 6.1443879\n",
      " 5.63556627 5.70460982 1.94487956 5.16917109 1.65828757 1.05083579\n",
      " 3.50723067 4.04628954 4.89268347 5.10503515 1.07779394 2.56587588\n",
      " 5.10507117 0.79415888]\n"
     ]
    },
    {
     "name": "stderr",
     "output_type": "stream",
     "text": [
      "27it [00:05,  5.16it/s]"
     ]
    },
    {
     "name": "stdout",
     "output_type": "stream",
     "text": [
      "CPU times: total: 27min 37s\n",
      "Wall time: 47min 1s\n"
     ]
    },
    {
     "name": "stderr",
     "output_type": "stream",
     "text": [
      "\n"
     ]
    }
   ],
   "source": [
    "%%time\n",
    "LiH_approximated_eigenvalue = get_approximated_eigenvalue_of_hamiltonian(LiH_molecule_4_qubits, \"linear\")"
   ]
  },
  {
   "cell_type": "markdown",
   "id": "fbe670c9",
   "metadata": {},
   "source": [
    "### Comparsion between approximate value after optimtimzation and exact eigenvalue"
   ]
  },
  {
   "cell_type": "code",
   "execution_count": 27,
   "id": "a97114cc",
   "metadata": {},
   "outputs": [
    {
     "name": "stdout",
     "output_type": "stream",
     "text": [
      "[(-7.862773163027979+0j), (-7.7833962082865185+0j), (-7.783396208286518+0j), (-7.7140566916607005+0j), (-7.714056691660695+0j), (-7.714056691660695+0j), (-7.700475837803976+0j), (-7.569984737620559+0j), (-7.569984737620559+0j), (-7.511999706834453+0j), (-7.511999706834451+0j), (-7.364817440287081+0j), (-7.151525481896562+0j), (-7.130406955301309+0j), (-7.130406955301308+0j), (-6.769813218087976+0j)]\n",
      "Exact Eigenvalue:\n",
      "(-7.862773163027979+0j)\n",
      "\n",
      "Approximated Eigenvalue:\n",
      "-7.500721515235691\n",
      "\n",
      "Approximation Error\n",
      "0.046046304565253555\n"
     ]
    },
    {
     "name": "stderr",
     "output_type": "stream",
     "text": [
      "C:\\Users\\hadar\\anaconda3\\envs\\Qiskitenv\\lib\\site-packages\\matplotlib\\cbook\\__init__.py:1317: ComplexWarning: Casting complex values to real discards the imaginary part\n",
      "  return np.asarray(x, float)\n"
     ]
    },
    {
     "ename": "NameError",
     "evalue": "name 'initialize_approximated_energy_to_list_of_all_approximated_energies' is not defined",
     "output_type": "error",
     "traceback": [
      "\u001b[1;31m---------------------------------------------------------------------------\u001b[0m",
      "\u001b[1;31mNameError\u001b[0m                                 Traceback (most recent call last)",
      "Input \u001b[1;32mIn [27]\u001b[0m, in \u001b[0;36m<cell line: 1>\u001b[1;34m()\u001b[0m\n\u001b[1;32m----> 1\u001b[0m \u001b[43mcompare_exact_and_approximated_eigenvalue\u001b[49m\u001b[43m(\u001b[49m\u001b[43mLiH_molecule_4_qubits\u001b[49m\u001b[43m,\u001b[49m\u001b[43m \u001b[49m\u001b[43mLiH_approximated_eigenvalue\u001b[49m\u001b[43m)\u001b[49m\n",
      "Input \u001b[1;32mIn [21]\u001b[0m, in \u001b[0;36mcompare_exact_and_approximated_eigenvalue\u001b[1;34m(hamiltonian, approximated_eigenvalue)\u001b[0m\n\u001b[0;32m      9\u001b[0m \u001b[38;5;28mprint\u001b[39m(get_approximation_error(exact_eigenvalue, approximated_eigenvalue))\n\u001b[0;32m     11\u001b[0m plot_convergence_of_optimization_process(approximated_energies, exact_eigenvalue, margin\u001b[38;5;241m=\u001b[39m\u001b[38;5;241m3\u001b[39m)\n\u001b[1;32m---> 12\u001b[0m \u001b[43minitialize_approximated_energy_to_list_of_all_approximated_energies\u001b[49m()\n",
      "\u001b[1;31mNameError\u001b[0m: name 'initialize_approximated_energy_to_list_of_all_approximated_energies' is not defined"
     ]
    },
    {
     "data": {
      "image/png": "[encoded data removed]",
      "text/plain": [
       "<Figure size 432x288 with 1 Axes>"
      ]
     },
     "metadata": {
      "needs_background": "light"
     },
     "output_type": "display_data"
    }
   ],
   "source": [
    "compare_exact_and_approximated_eigenvalue(LiH_molecule_4_qubits, LiH_approximated_eigenvalue)"
   ]
  },
  {
   "cell_type": "markdown",
   "id": "32d3273c",
   "metadata": {},
   "source": [
    "#### Full Entangelment"
   ]
  },
  {
   "cell_type": "code",
   "execution_count": null,
   "id": "39faf0d6",
   "metadata": {},
   "outputs": [],
   "source": [
    "%%time\n",
    "LiH_approximated_eigenvalue = get_approximated_eigenvalue_of_hamiltonian(LiH_molecule_4_qubits, \"full\")"
   ]
  },
  {
   "cell_type": "code",
   "execution_count": null,
   "id": "ae67fc6d",
   "metadata": {},
   "outputs": [],
   "source": [
    "compare_exact_and_approximated_eigenvalue(LiH_molecule_4_qubits, LiH_approximated_eigenvalue)"
   ]
  },
  {
   "cell_type": "markdown",
   "id": "e9cc887a",
   "metadata": {},
   "source": [
    "## H2 Molecule 4 qubits"
   ]
  },
  {
   "cell_type": "code",
   "execution_count": null,
   "id": "259df459",
   "metadata": {},
   "outputs": [],
   "source": [
    "H2_molecule_Hamiltonian_4_qubits =  -0.8105479805373279 * (I^I^I^I) \\\n",
    "                                    + 0.1721839326191554 * (I^I^I^Z) \\\n",
    "                                    - 0.22575349222402372 * (I^I^Z^I) \\\n",
    "                                    + 0.17218393261915543 * (I^Z^I^I) \\\n",
    "                                    - 0.2257534922240237 * (Z^I^I^I) \\\n",
    "                                    + 0.12091263261776627 * (I^I^Z^Z) \\\n",
    "                                    + 0.16892753870087907 * (I^Z^I^Z) \\\n",
    "                                    + 0.045232799946057826 * (Y^Y^Y^Y) \\\n",
    "                                    + 0.045232799946057826 * (X^X^Y^Y) \\\n",
    "                                    + 0.045232799946057826 * (Y^Y^X^X) \\\n",
    "                                    + 0.045232799946057826 * (X^X^X^X) \\\n",
    "                                    + 0.1661454325638241 * (Z^I^I^Z) \\\n",
    "                                    + 0.1661454325638241 * (I^Z^Z^I) \\\n",
    "                                    + 0.17464343068300453 * (Z^I^Z^I) \\\n",
    "                                    + 0.12091263261776627 * (Z^Z^I^I)"
   ]
  },
  {
   "cell_type": "markdown",
   "id": "fa5a1423",
   "metadata": {},
   "source": [
    "#### Linear Entangelment"
   ]
  },
  {
   "cell_type": "code",
   "execution_count": null,
   "id": "3634f0d7",
   "metadata": {},
   "outputs": [],
   "source": [
    "%%time\n",
    "H2_approximated_eigenvalue = get_approximated_eigenvalue_of_hamiltonian(H2_molecule_Hamiltonian_4_qubits, \"linear\")"
   ]
  },
  {
   "cell_type": "code",
   "execution_count": null,
   "id": "5b96cc5e",
   "metadata": {},
   "outputs": [],
   "source": [
    "compare_exact_and_approximated_eigenvalue(H2_molecule_Hamiltonian_4_qubits, H2_approximated_eigenvalue)"
   ]
  },
  {
   "cell_type": "markdown",
   "id": "72f299b7",
   "metadata": {},
   "source": [
    "#### Full Entangelment"
   ]
  },
  {
   "cell_type": "code",
   "execution_count": null,
   "id": "51d29e0c",
   "metadata": {},
   "outputs": [],
   "source": [
    "%%time\n",
    "H2_approximated_eigenvalue = get_approximated_eigenvalue_of_hamiltonian(H2_molecule_Hamiltonian_4_qubits, \"full\")"
   ]
  },
  {
   "cell_type": "code",
   "execution_count": null,
   "id": "b3b3d512",
   "metadata": {},
   "outputs": [],
   "source": [
    "compare_exact_and_approximated_eigenvalue(H2_molecule_Hamiltonian_4_qubits, H2_approximated_eigenvalue)"
   ]
  },
  {
   "cell_type": "markdown",
   "id": "394c3bee",
   "metadata": {},
   "source": [
    "##  Transverse Ising Model 4 qubits"
   ]
  },
  {
   "cell_type": "code",
   "execution_count": null,
   "id": "8dab0ec4",
   "metadata": {},
   "outputs": [],
   "source": [
    "transverse_ising_4_qubits = 0.0 * (I^I^I^I) \\\n",
    "    + 0.8398088405253477 * (X^I^I^I) \\\n",
    "    + 0.7989496312070936 * (I^X^I^I) \\\n",
    "    + 0.38189710487113193 * (Z^Z^I^I) \\\n",
    "    + 0.057753122422666725 * (I^I^X^I) \\\n",
    "    + 0.5633292636970458 * (Z^I^Z^I) \\\n",
    "    + 0.3152740621483513 * (I^Z^Z^I) \\\n",
    "    + 0.07209487981989715 * (I^I^I^X) \\\n",
    "    + 0.17892334004292654 * (Z^I^I^Z) \\\n",
    "    + 0.2273896497668042 * (I^Z^I^Z) \\\n",
    "    + 0.09762902934216211 * (I^I^Z^Z)"
   ]
  },
  {
   "cell_type": "markdown",
   "id": "c82bd1cb",
   "metadata": {},
   "source": [
    "#### Linear Entangelment"
   ]
  },
  {
   "cell_type": "code",
   "execution_count": null,
   "id": "ac7514ba",
   "metadata": {},
   "outputs": [],
   "source": [
    "%%time\n",
    "TI_approximated_eigenvalue = get_approximated_eigenvalue_of_hamiltonian(transverse_ising_4_qubits, \"linear\")"
   ]
  },
  {
   "cell_type": "code",
   "execution_count": null,
   "id": "ecd81c72",
   "metadata": {},
   "outputs": [],
   "source": [
    "compare_exact_and_approximated_eigenvalue(transverse_ising_4_qubits, TI_approximated_eigenvalue)"
   ]
  },
  {
   "cell_type": "markdown",
   "id": "b13fdb69",
   "metadata": {},
   "source": [
    "#### Full Entangelment"
   ]
  },
  {
   "cell_type": "code",
   "execution_count": null,
   "id": "defdd66a",
   "metadata": {},
   "outputs": [],
   "source": [
    "%%time\n",
    "TI_approximated_eigenvalue = get_approximated_eigenvalue_of_hamiltonian(transverse_ising_4_qubits, \"full\")"
   ]
  },
  {
   "cell_type": "code",
   "execution_count": null,
   "id": "2f902eaa",
   "metadata": {},
   "outputs": [],
   "source": [
    "compare_exact_and_approximated_eigenvalue(transverse_ising_4_qubits, TI_approximated_eigenvalue)"
   ]
  },
  {
   "cell_type": "markdown",
   "id": "cbf062b7",
   "metadata": {},
   "source": [
    "##  Transverse Ising Model 3 qubits"
   ]
  },
  {
   "cell_type": "code",
   "execution_count": null,
   "id": "ff246ff1",
   "metadata": {},
   "outputs": [],
   "source": [
    "QUBITS_NUM = 3 \n",
    "N = 2**QUBITS_NUM\n",
    "\n",
    "NUM_SHOTS = 1024\n",
    "NUM_ITERATIONS = 1000\n",
    "\n",
    "CIRCUIT_DEPTH = 3\n",
    "PARAMS_NUM = 2*QUBITS_NUM*(CIRCUIT_DEPTH+1)"
   ]
  },
  {
   "cell_type": "code",
   "execution_count": null,
   "id": "8dd976ef",
   "metadata": {},
   "outputs": [],
   "source": [
    "from qiskit.opflow import X, Z, I\n",
    "\n",
    "transverse_ising_3_qubits = 0.0 * (I^I^I) \\\n",
    "                    + 0.012764169333459807 * (X^I^I) \\\n",
    "                    + 0.7691573729160869 * (I^X^I) \\\n",
    "                    + 0.398094746026449 * (Z^Z^I) \\\n",
    "                    + 0.15250261906586637 * (I^I^X) \\\n",
    "                    + 0.2094051920882264 * (Z^I^Z) \\\n",
    "                    + 0.5131291860752999 * (I^Z^Z)"
   ]
  },
  {
   "cell_type": "markdown",
   "id": "e37dd875",
   "metadata": {},
   "source": [
    "#### Linear Entangelment"
   ]
  },
  {
   "cell_type": "code",
   "execution_count": null,
   "id": "7ffc0e36",
   "metadata": {},
   "outputs": [],
   "source": [
    "%%time\n",
    "TI_approximated_eigenvalue = get_approximated_eigenvalue_of_hamiltonian(transverse_ising_3_qubits, \"linear\")"
   ]
  },
  {
   "cell_type": "code",
   "execution_count": null,
   "id": "400315d0",
   "metadata": {},
   "outputs": [],
   "source": [
    "compare_exact_and_approximated_eigenvalue(transverse_ising_3_qubits, TI_approximated_eigenvalue)"
   ]
  },
  {
   "cell_type": "markdown",
   "id": "91d5d284",
   "metadata": {},
   "source": [
    "#### Full Entangelment"
   ]
  },
  {
   "cell_type": "code",
   "execution_count": null,
   "id": "d43a0eb0",
   "metadata": {},
   "outputs": [],
   "source": [
    "%%time\n",
    "TI_approximated_eigenvalue = get_approximated_eigenvalue_of_hamiltonian(transverse_ising_3_qubits, \"full\")"
   ]
  },
  {
   "cell_type": "code",
   "execution_count": null,
   "id": "39bdc045",
   "metadata": {},
   "outputs": [],
   "source": [
    "compare_exact_and_approximated_eigenvalue(transverse_ising_3_qubits, TI_approximated_eigenvalue)"
   ]
  },
  {
   "cell_type": "markdown",
   "id": "09be5f46",
   "metadata": {},
   "source": [
    "##  Transverse Ising Model 2 qubits"
   ]
  },
  {
   "cell_type": "code",
   "execution_count": null,
   "id": "d8a0c4e6",
   "metadata": {},
   "outputs": [],
   "source": [
    "QUBITS_NUM = 2 \n",
    "N = 2**QUBITS_NUM\n",
    "\n",
    "NUM_SHOTS = 1024\n",
    "NUM_ITERATIONS = 1000\n",
    "\n",
    "CIRCUIT_DEPTH = 3\n",
    "PARAMS_NUM = 2*QUBITS_NUM*(CIRCUIT_DEPTH+1)"
   ]
  },
  {
   "cell_type": "code",
   "execution_count": null,
   "id": "58136107",
   "metadata": {},
   "outputs": [],
   "source": [
    "transverse_ising_2_qubits = 0.13755727363376802 * (I^X) \\\n",
    "                            + 0.43305656297810435 * (X^I) \\\n",
    "                            + 0.8538597608997253 * (Z^Z)"
   ]
  },
  {
   "cell_type": "markdown",
   "id": "6428a32d",
   "metadata": {},
   "source": [
    "#### Linear Entangelment"
   ]
  },
  {
   "cell_type": "code",
   "execution_count": null,
   "id": "d9154eaa",
   "metadata": {},
   "outputs": [],
   "source": [
    "%%time\n",
    "TI_approximated_eigenvalue = get_approximated_eigenvalue_of_hamiltonian(transverse_ising_2_qubits, \"linear\")"
   ]
  },
  {
   "cell_type": "code",
   "execution_count": null,
   "id": "88b56e14",
   "metadata": {},
   "outputs": [],
   "source": [
    "compare_exact_and_approximated_eigenvalue(transverse_ising_2_qubits, TI_approximated_eigenvalue)"
   ]
  },
  {
   "cell_type": "markdown",
   "id": "49bb4028",
   "metadata": {},
   "source": [
    "#### Full Entangelment"
   ]
  },
  {
   "cell_type": "code",
   "execution_count": null,
   "id": "c06487da",
   "metadata": {},
   "outputs": [],
   "source": [
    "%%time\n",
    "TI_approximated_eigenvalue = get_approximated_eigenvalue_of_hamiltonian(transverse_ising_2_qubits, \"full\")"
   ]
  },
  {
   "cell_type": "code",
   "execution_count": null,
   "id": "65ad38bc",
   "metadata": {},
   "outputs": [],
   "source": [
    "compare_exact_and_approximated_eigenvalue(transverse_ising_2_qubits, TI_approximated_eigenvalue)"
   ]
  },
  {
   "cell_type": "markdown",
   "id": "e9cf7ccb",
   "metadata": {},
   "source": [
    "## H2 Molecule 2 qubits"
   ]
  },
  {
   "cell_type": "code",
   "execution_count": null,
   "id": "2909cd68",
   "metadata": {},
   "outputs": [],
   "source": [
    "from qiskit.opflow import X, Z, I\n",
    "\n",
    "H2_molecule_Hamiltonian_2_qubits = -0.5053051899926562*(I^I) + \\\n",
    "                            -0.3277380754984016*(Z^I) + \\\n",
    "                            0.15567463610622564*(Z^Z) + \\\n",
    "                            -0.3277380754984016*(I^Z)"
   ]
  },
  {
   "cell_type": "markdown",
   "id": "a3af5292",
   "metadata": {},
   "source": [
    "#### Linear Entangelment"
   ]
  },
  {
   "cell_type": "code",
   "execution_count": null,
   "id": "6fe25ff3",
   "metadata": {},
   "outputs": [],
   "source": [
    "%%time\n",
    "H2_approximated_eigenvalue = get_approximated_eigenvalue_of_hamiltonian(H2_molecule_Hamiltonian_2_qubits, \"linear\")"
   ]
  },
  {
   "cell_type": "code",
   "execution_count": null,
   "id": "692be58b",
   "metadata": {},
   "outputs": [],
   "source": [
    "compare_exact_and_approximated_eigenvalue(H2_molecule_Hamiltonian_2_qubits, H2_approximated_eigenvalue)"
   ]
  },
  {
   "cell_type": "markdown",
   "id": "46aa3a97",
   "metadata": {},
   "source": [
    "#### Full Entangelment"
   ]
  },
  {
   "cell_type": "code",
   "execution_count": null,
   "id": "c027435b",
   "metadata": {},
   "outputs": [],
   "source": [
    "%%time\n",
    "H2_approximated_eigenvalue = get_approximated_eigenvalue_of_hamiltonian(H2_molecule_Hamiltonian_2_qubits, \"full\")"
   ]
  },
  {
   "cell_type": "code",
   "execution_count": null,
   "id": "d45ad4e5",
   "metadata": {},
   "outputs": [],
   "source": [
    "compare_exact_and_approximated_eigenvalue(H2_molecule_Hamiltonian_2_qubits, H2_approximated_eigenvalue)"
   ]
  }
 ],
 "metadata": {
  "kernelspec": {
   "display_name": "Qiskitenv",
   "language": "python",
   "name": "qiskitenv"
  },
  "language_info": {
   "codemirror_mode": {
    "name": "ipython",
    "version": 3
   },
   "file_extension": ".py",
   "mimetype": "text/x-python",
   "name": "python",
   "nbconvert_exporter": "python",
   "pygments_lexer": "ipython3",
   "version": "3.8.13"
  }
 },
 "nbformat": 4,
 "nbformat_minor": 5
}
