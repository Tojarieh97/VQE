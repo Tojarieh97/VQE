{
 "cells": [
  {
   "cell_type": "markdown",
   "id": "33ac95af",
   "metadata": {},
   "source": [
    "### Basic Imports"
   ]
  },
  {
   "cell_type": "code",
   "execution_count": 1,
   "id": "a155b4ab",
   "metadata": {},
   "outputs": [],
   "source": [
    "import nbimporter\n",
    "from typing import Dict, Tuple, List\n",
    "import numpy as np\n",
    "from tqdm import tqdm"
   ]
  },
  {
   "cell_type": "markdown",
   "id": "a9f75cec",
   "metadata": {},
   "source": [
    "### Simulator Backend"
   ]
  },
  {
   "cell_type": "code",
   "execution_count": 2,
   "id": "0901e02d",
   "metadata": {},
   "outputs": [],
   "source": [
    "from qiskit import Aer\n",
    "from qiskit.utils import QuantumInstance, algorithm_globals\n",
    "\n",
    "seed = 50\n",
    "algorithm_globals.random_seed = seed\n",
    "\n",
    "simulator_backend = Aer.get_backend('qasm_simulator')"
   ]
  },
  {
   "cell_type": "markdown",
   "id": "f14ba623",
   "metadata": {},
   "source": [
    "## BFGS Optimizer"
   ]
  },
  {
   "cell_type": "markdown",
   "id": "67a1bdb9",
   "metadata": {},
   "source": [
    "### Env Vars"
   ]
  },
  {
   "cell_type": "code",
   "execution_count": 11,
   "id": "b113233e",
   "metadata": {},
   "outputs": [],
   "source": [
    "NUM_ITERATIONS = 50"
   ]
  },
  {
   "cell_type": "code",
   "execution_count": 12,
   "id": "cab467e5",
   "metadata": {},
   "outputs": [],
   "source": [
    "from qiskit.algorithms.optimizers import L_BFGS_B\n",
    "\n",
    "bfgs_optimizer = L_BFGS_B(maxiter=NUM_ITERATIONS)"
   ]
  },
  {
   "cell_type": "markdown",
   "id": "17ee0933",
   "metadata": {},
   "source": [
    "### Linear Entangelment Ansatz State"
   ]
  },
  {
   "cell_type": "code",
   "execution_count": 9,
   "id": "377017eb",
   "metadata": {},
   "outputs": [],
   "source": [
    "from linear_entangelment_and_full_entangelment import get_linear_entangelment_ansatz"
   ]
  },
  {
   "cell_type": "markdown",
   "id": "d5c88f0d",
   "metadata": {},
   "source": [
    "### Full Entangelment Ansatz State"
   ]
  },
  {
   "cell_type": "code",
   "execution_count": 10,
   "id": "0eb01a19",
   "metadata": {},
   "outputs": [],
   "source": [
    "from linear_entangelment_and_full_entangelment import get_full_entangelment_ansatz"
   ]
  },
  {
   "cell_type": "code",
   "execution_count": null,
   "id": "935e19b8",
   "metadata": {},
   "outputs": [],
   "source": []
  }
 ],
 "metadata": {
  "kernelspec": {
   "display_name": "Qiskitenv",
   "language": "python",
   "name": "qiskitenv"
  },
  "language_info": {
   "codemirror_mode": {
    "name": "ipython",
    "version": 3
   },
   "file_extension": ".py",
   "mimetype": "text/x-python",
   "name": "python",
   "nbconvert_exporter": "python",
   "pygments_lexer": "ipython3",
   "version": "3.8.13"
  }
 },
 "nbformat": 4,
 "nbformat_minor": 5
}
