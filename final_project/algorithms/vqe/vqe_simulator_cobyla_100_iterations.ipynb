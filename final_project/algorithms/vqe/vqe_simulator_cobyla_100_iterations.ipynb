{
 "cells": [
  {
   "cell_type": "code",
   "execution_count": 1,
   "id": "213d256a",
   "metadata": {},
   "outputs": [],
   "source": [
    "%load_ext autoreload\n",
    "%autoreload 2"
   ]
  },
  {
   "cell_type": "markdown",
   "id": "c4c77734",
   "metadata": {},
   "source": [
    "### Basic Imports"
   ]
  },
  {
   "cell_type": "code",
   "execution_count": 2,
   "id": "9431f6b7",
   "metadata": {},
   "outputs": [],
   "source": [
    "import nbimporter\n",
    "from typing import Dict, Tuple, List\n",
    "import numpy as np\n",
    "from tqdm import tqdm"
   ]
  },
  {
   "cell_type": "markdown",
   "id": "4ff98362",
   "metadata": {},
   "source": [
    "### Env Vars"
   ]
  },
  {
   "cell_type": "code",
   "execution_count": 3,
   "id": "9c7250c3",
   "metadata": {},
   "outputs": [],
   "source": [
    "QUBITS_NUM = 4 \n",
    "N = 2**QUBITS_NUM\n",
    "\n",
    "NUM_SHOTS = 1024\n",
    "NUM_ITERATIONS = 100\n",
    "\n",
    "CIRCUIT_DEPTH = 3\n",
    "PARAMS_NUM = 2*QUBITS_NUM*(CIRCUIT_DEPTH+1)"
   ]
  },
  {
   "cell_type": "markdown",
   "id": "6dcb0625",
   "metadata": {},
   "source": [
    "### Simulator Backend"
   ]
  },
  {
   "cell_type": "code",
   "execution_count": 4,
   "id": "8e287170",
   "metadata": {},
   "outputs": [],
   "source": [
    "from qiskit import Aer\n",
    "from qiskit.utils import QuantumInstance, algorithm_globals\n",
    "\n",
    "seed = 50\n",
    "algorithm_globals.random_seed = seed\n",
    "\n",
    "simulator_backend = Aer.get_backend('qasm_simulator')"
   ]
  },
  {
   "cell_type": "markdown",
   "id": "5cc189d2",
   "metadata": {},
   "source": [
    "### BFGS Optimizer"
   ]
  },
  {
   "cell_type": "code",
   "execution_count": 5,
   "id": "aea5f838",
   "metadata": {},
   "outputs": [],
   "source": [
    "from scipy.optimize import minimize"
   ]
  },
  {
   "cell_type": "markdown",
   "id": "6681d9cf",
   "metadata": {},
   "source": [
    "### Ansatz State"
   ]
  },
  {
   "cell_type": "code",
   "execution_count": 6,
   "id": "ed679eb5",
   "metadata": {},
   "outputs": [],
   "source": [
    "from linear_entangelment_and_full_entangelment_ansatz_circuits import *"
   ]
  },
  {
   "cell_type": "code",
   "execution_count": 7,
   "id": "9ebdb4f8",
   "metadata": {},
   "outputs": [],
   "source": [
    "def get_ansatz_state(thetas, ansatz_entangelment, input_state):\n",
    "    if ansatz_entangelment==\"full\":\n",
    "        return get_full_entangelment_ansatz(QUBITS_NUM, thetas, input_state)\n",
    "    if ansatz_entangelment==\"linear\":\n",
    "        return get_linear_entangelment_ansatz(QUBITS_NUM, thetas, input_state)"
   ]
  },
  {
   "cell_type": "markdown",
   "id": "21777faa",
   "metadata": {},
   "source": [
    "## Expectation Value"
   ]
  },
  {
   "cell_type": "markdown",
   "id": "d320f1b6",
   "metadata": {},
   "source": [
    "### convert hamiltonian to pauli strings"
   ]
  },
  {
   "cell_type": "code",
   "execution_count": 8,
   "id": "56435355",
   "metadata": {},
   "outputs": [],
   "source": [
    "def transfrom_hamiltonian_into_pauli_strings(hamiltonian) -> List:\n",
    "    pauli_operators = hamiltonian.to_pauli_op().settings['oplist']\n",
    "    pauli_coeffs = list(map(lambda pauli_operator: pauli_operator.coeff, pauli_operators))\n",
    "    pauli_strings = list(map(lambda pauli_operator: pauli_operator.primitive, pauli_operators))\n",
    "    return pauli_coeffs, pauli_strings"
   ]
  },
  {
   "cell_type": "markdown",
   "id": "de5f75c3",
   "metadata": {},
   "source": [
    "### pauli string reduction to sigma_z's"
   ]
  },
  {
   "cell_type": "code",
   "execution_count": 9,
   "id": "347de6bb",
   "metadata": {},
   "outputs": [],
   "source": [
    "from qiskit.circuit.library.standard_gates import HGate, SGate\n",
    "from qiskit import QuantumCircuit, ClassicalRegister, QuantumRegister"
   ]
  },
  {
   "cell_type": "code",
   "execution_count": 10,
   "id": "dbbe79ef",
   "metadata": {},
   "outputs": [],
   "source": [
    "reducing_to_pauli_z_mapping = {\n",
    "    'I': 'I',\n",
    "    'Z': 'Z',\n",
    "    'X': 'Z',\n",
    "    'Y': 'Z'\n",
    "} "
   ]
  },
  {
   "cell_type": "code",
   "execution_count": 11,
   "id": "6f94927f",
   "metadata": {},
   "outputs": [],
   "source": [
    "def reduce_pauli_matrixes_into_sigma_z(pauli_string) -> str:\n",
    "    reduced_pauli_string = \"\"\n",
    "    for matrix_index in range(QUBITS_NUM):\n",
    "        pauli_matrix = str(pauli_string[matrix_index])\n",
    "        reduced_pauli_matrix = reducing_to_pauli_z_mapping[pauli_matrix]\n",
    "        reduced_pauli_string = reduced_pauli_matrix + reduced_pauli_string\n",
    "    \n",
    "    return reduced_pauli_string"
   ]
  },
  {
   "cell_type": "code",
   "execution_count": 12,
   "id": "e6f0562f",
   "metadata": {},
   "outputs": [],
   "source": [
    "def add_layer_of_gates_for_reducing_paulis_to_sigma_z(pauli_string, quantum_circuit):\n",
    "    quantum_registers = QuantumRegister(QUBITS_NUM, name=\"qubit\")\n",
    "    additional_circuit_layer = QuantumCircuit(quantum_registers)\n",
    "    \n",
    "    for quantum_register_index, pauli_matrix in enumerate(pauli_string):\n",
    "        if pauli_matrix == \"X\":\n",
    "            additional_circuit_layer.append(HGate(), [quantum_registers[quantum_register_index]])\n",
    "        if pauli_string == \"Y\":\n",
    "            additional_circuit_layer.append(HGate(), [quantum_registers[quantum_register_index]])\n",
    "            additional_circuit_layer.append(SGate(), [quantum_registers[quantum_register_index]])\n",
    "                \n",
    "    extended_quantum_circuit = quantum_circuit.compose(additional_circuit_layer)\n",
    "    return extended_quantum_circuit"
   ]
  },
  {
   "cell_type": "markdown",
   "id": "ce83fae9",
   "metadata": {},
   "source": [
    "### probabilities distribution"
   ]
  },
  {
   "cell_type": "code",
   "execution_count": 13,
   "id": "84e65e31",
   "metadata": {},
   "outputs": [],
   "source": [
    "def get_probability_distribution(counts: Dict) -> Dict:\n",
    "    proba_distribution = {state: (count / NUM_SHOTS) for state, count in counts.items()}\n",
    "    return proba_distribution\n",
    "\n",
    "def calculate_probabilities_of_measurments_in_computational_basis(quantum_state_circuit) -> Dict:\n",
    "    quantum_state_circuit.measure_all()\n",
    "    \n",
    "    transpiled_quantum_state_circuit = transpile(quantum_state_circuit, simulator_backend) \n",
    "    Qobj = assemble(transpiled_quantum_state_circuit)\n",
    "    result = simulator_backend.run(Qobj).result()\n",
    "    counts = result.get_counts(quantum_state_circuit)\n",
    "    \n",
    "    return get_probability_distribution(counts)"
   ]
  },
  {
   "cell_type": "markdown",
   "id": "b9286e5d",
   "metadata": {},
   "source": [
    "### Expectation value from probabilities"
   ]
  },
  {
   "cell_type": "code",
   "execution_count": 14,
   "id": "38a72356",
   "metadata": {},
   "outputs": [],
   "source": [
    "def sort_probas_dict_by_qubits_string_keys(proba_distribution: Dict) -> Dict:\n",
    "    return dict(sorted(proba_distribution.items()))\n",
    "\n",
    "def reset_power_of_minus_1(power_of_minus_1):\n",
    "    power_of_minus_1 = 0\n",
    "    return power_of_minus_1\n",
    "\n",
    "def convert_pauli_string_into_str(pauli_string) -> str:\n",
    "    return str(pauli_string)\n",
    "\n",
    "def calculate_expectation_value_of_pauli_string_by_measurments_probas(pauli_string, ansatz_circuit):\n",
    "    pauli_string_expectation_value = 0\n",
    "    power_of_minus_1 = 0\n",
    "    \n",
    "    pauli_string_str = convert_pauli_string_into_str(pauli_string)\n",
    "    extended_ansatz_circuit = add_layer_of_gates_for_reducing_paulis_to_sigma_z(pauli_string_str, ansatz_circuit)\n",
    "    probas_distribution = calculate_probabilities_of_measurments_in_computational_basis(extended_ansatz_circuit)\n",
    "    \n",
    "    reduced_pauli_string = reduce_pauli_matrixes_into_sigma_z(pauli_string)\n",
    "    sorted_probas_distribuition = sort_probas_dict_by_qubits_string_keys(probas_distribution)\n",
    "    for qubits_string, proba in sorted_probas_distribuition.items():\n",
    "        for string_index in range(QUBITS_NUM):\n",
    "            if(str(qubits_string[string_index])==\"1\" and str(pauli_string[string_index])==\"Z\"):\n",
    "                power_of_minus_1 += 1\n",
    "            \n",
    "        pauli_string_expectation_value += pow(-1, power_of_minus_1)*proba\n",
    "        power_of_minus_1 = reset_power_of_minus_1(power_of_minus_1)\n",
    "        \n",
    "    return pauli_string_expectation_value"
   ]
  },
  {
   "cell_type": "code",
   "execution_count": 15,
   "id": "c263be2b",
   "metadata": {},
   "outputs": [],
   "source": [
    "def get_expectation_value(ansatz_circuit, pauli_coeffs, pauli_strings):\n",
    "    total_expection_value = 0\n",
    "    \n",
    "    for pauli_coeff, pauli_string in tqdm(zip(pauli_coeffs, pauli_strings)):\n",
    "        total_expection_value += pauli_coeff*calculate_expectation_value_of_pauli_string_by_measurments_probas(\n",
    "                                                                                    pauli_string, ansatz_circuit)\n",
    "    \n",
    "    return total_expection_value"
   ]
  },
  {
   "cell_type": "markdown",
   "id": "a79fc302",
   "metadata": {},
   "source": [
    "## Objective Function"
   ]
  },
  {
   "cell_type": "code",
   "execution_count": 16,
   "id": "e3f4d330",
   "metadata": {},
   "outputs": [],
   "source": [
    "from qiskit import assemble, transpile\n",
    "\n",
    "def cost_function(thetas, hamiltonian, ansatz_entangelment):\n",
    "    initial_eigenvector = np.identity(N)[0]\n",
    "    \n",
    "    pauli_coeffs, pauli_strings = transfrom_hamiltonian_into_pauli_strings(hamiltonian)\n",
    "    ansatz_state = get_ansatz_state(thetas, ansatz_entangelment, initial_eigenvector)\n",
    "        \n",
    "    L = get_expectation_value(ansatz_state, pauli_coeffs, pauli_strings)\n",
    "    insert_approximated_energy_to_list_of_all_approximated_energies(L)\n",
    "        \n",
    "    return L"
   ]
  },
  {
   "cell_type": "markdown",
   "id": "e8ac20b3",
   "metadata": {},
   "source": [
    "## Optimization"
   ]
  },
  {
   "cell_type": "code",
   "execution_count": 17,
   "id": "9b2663d2",
   "metadata": {},
   "outputs": [],
   "source": [
    "def get_optimal_thetas_of_ansatz_circuit_for_hamiltonian(hamiltonian, ansatz_entangelment):\n",
    "    initial_thetas = np.random.uniform(low=0, high=2*np.pi, size=PARAMS_NUM)\n",
    "    optimizer_result = minimize(cost_function,\n",
    "                                x0=initial_thetas,\n",
    "                                args=(hamiltonian, ansatz_entangelment),\n",
    "                                method=\"COBYLA\",\n",
    "                                options={\"maxiter\":NUM_ITERATIONS,\n",
    "                                        \"disp\": True})\n",
    "    optimal_thetas = optimizer_result.x\n",
    "    \n",
    "    return optimal_thetas"
   ]
  },
  {
   "cell_type": "code",
   "execution_count": 18,
   "id": "80c13445",
   "metadata": {},
   "outputs": [],
   "source": [
    "def get_approximated_eigenvalue_of_hamiltonian(hamiltonian, ansatz_entangelment):\n",
    "    optimal_thetas = get_optimal_thetas_of_ansatz_circuit_for_hamiltonian(hamiltonian, ansatz_entangelment)\n",
    "    print(optimal_thetas)\n",
    "    initial_eigenvector = np.identity(N)[0]\n",
    "    optimal_ansatz_state = get_ansatz_state(optimal_thetas, ansatz_entangelment, initial_eigenvector)\n",
    "    \n",
    "    pauli_coeffs, pauli_strings = transfrom_hamiltonian_into_pauli_strings(hamiltonian)\n",
    "    approximated_eigenvalue = get_expectation_value(optimal_ansatz_state, pauli_coeffs, pauli_strings)\n",
    "\n",
    "    return approximated_eigenvalue"
   ]
  },
  {
   "cell_type": "markdown",
   "id": "7b410988",
   "metadata": {},
   "source": [
    "## Comparsion"
   ]
  },
  {
   "cell_type": "code",
   "execution_count": 19,
   "id": "6cbe0758",
   "metadata": {},
   "outputs": [],
   "source": [
    "from numpy import linalg as LA\n",
    "\n",
    "def get_approximation_error(exact_eigenvalue, approximated_eigenvalue):\n",
    "    return abs(abs(exact_eigenvalue)-abs(approximated_eigenvalue))/abs(exact_eigenvalue)"
   ]
  },
  {
   "cell_type": "code",
   "execution_count": 20,
   "id": "28b63147",
   "metadata": {},
   "outputs": [],
   "source": [
    "def get_minimum_exact_eigenvalue_of_hamiltonian(hamiltonian):\n",
    "    eigen_values = LA.eigvals(hamiltonian.to_matrix())\n",
    "    print(sorted(eigen_values))\n",
    "    \n",
    "    return min(sorted(eigen_values))"
   ]
  },
  {
   "cell_type": "code",
   "execution_count": 21,
   "id": "529a29d1",
   "metadata": {},
   "outputs": [],
   "source": [
    "def compare_exact_and_approximated_eigenvalue(hamiltonian, approximated_eigenvalue):\n",
    "    exact_eigenvalue = get_minimum_exact_eigenvalue_of_hamiltonian(hamiltonian)\n",
    "    print(\"Exact Eigenvalue:\")\n",
    "    print(exact_eigenvalue)\n",
    "    print(\"\\nApproximated Eigenvalue:\")\n",
    "    print(approximated_eigenvalue)\n",
    "\n",
    "    print(\"\\nApproximation Error\")\n",
    "    print(get_approximation_error(exact_eigenvalue, approximated_eigenvalue))\n",
    "    \n",
    "    plot_convergence_of_optimization_process(approximated_energies, exact_eigenvalue, margin=3)\n",
    "    initialize_approximated_energy_to_list_of_all_approximated_energies()"
   ]
  },
  {
   "cell_type": "markdown",
   "id": "c1452964",
   "metadata": {},
   "source": [
    "## Visualization"
   ]
  },
  {
   "cell_type": "code",
   "execution_count": 22,
   "id": "75c3e505",
   "metadata": {},
   "outputs": [],
   "source": [
    "approximated_energies = []"
   ]
  },
  {
   "cell_type": "code",
   "execution_count": 23,
   "id": "5c4331c6",
   "metadata": {},
   "outputs": [],
   "source": [
    "def insert_approximated_energy_to_list_of_all_approximated_energies(energy):\n",
    "    approximated_energies.append(energy)"
   ]
  },
  {
   "cell_type": "code",
   "execution_count": 24,
   "id": "6f445515",
   "metadata": {},
   "outputs": [],
   "source": [
    "def initialize_approximated_energy_to_list_of_all_approximated_energies():\n",
    "    approximated_energies = []"
   ]
  },
  {
   "cell_type": "code",
   "execution_count": 25,
   "id": "26026bbb",
   "metadata": {},
   "outputs": [],
   "source": [
    "import matplotlib.pyplot as plt\n",
    "\n",
    "def plot_convergence_of_optimization_process(approximated_energies, exact_eigenvalue, margin):\n",
    "    plt.title(\"convergence of optimization process to the exact eigenvalue\")\n",
    "    plt.margins(0, margin)\n",
    "    plt.plot(approximated_energies)\n",
    "    plt.axhline(y = exact_eigenvalue, color = 'r', linestyle = '-')\n",
    "    plt.grid()\n",
    "    plt.xlabel(\"# of iterations\")\n",
    "    plt.ylabel(\"Energy\")\n",
    "    \n",
    "def plot_fidelity():\n",
    "    plt.plot(LiH_approximated_energies)\n",
    "    plt.xlabel(\"# of iterations\")\n",
    "    plt.ylabel(\"Energy\")"
   ]
  },
  {
   "cell_type": "markdown",
   "id": "2b442e22",
   "metadata": {},
   "source": [
    "## LiH Molecule 4 qubits"
   ]
  },
  {
   "cell_type": "code",
   "execution_count": 26,
   "id": "87e93b42",
   "metadata": {},
   "outputs": [],
   "source": [
    "from qiskit.opflow import X, Z, I, H, Y\n",
    "\n",
    "LiH_molecule_4_qubits = -7.49894690201071*(I^I^I^I) + \\\n",
    "                            -0.0029329964409502266*(X^X^Y^Y) + \\\n",
    "                            0.0029329964409502266*(X^Y^Y^X) + \\\n",
    "                            0.01291078027311749*(X^Z^X^I) + \\\n",
    "                            -0.0013743761078958677*(X^Z^X^Z) + \\\n",
    "                            0.011536413200774975*(X^I^X^I) + \\\n",
    "                            0.0029329964409502266*(Y^X^X^Y) + \\\n",
    "                            -0.0029329964409502266*(Y^Y^X^X) + \\\n",
    "                            0.01291078027311749*(Y^Z^Y^I) + \\\n",
    "                            -0.0013743761078958677*(Y^Z^Y^Z) + \\\n",
    "                            0.011536413200774975*(Y^I^Y^I) + \\\n",
    "                            0.16199475388004184*(Z^I^I^I) + \\\n",
    "                            0.011536413200774975*(Z^X^Z^X) + \\\n",
    "                            0.011536413200774975*(Z^Y^Z^Y) + \\\n",
    "                            0.12444770133137588*(Z^Z^I^I) + \\\n",
    "                            0.054130445793298836*(Z^I^Z^I) + \\\n",
    "                            0.05706344223424907*(Z^I^I^Z) + \\\n",
    "                            0.012910780273117487*(I^X^Z^X) + \\\n",
    "                            -0.0013743761078958677*(I^X^I^X) + \\\n",
    "                            0.012910780273117487*(I^Y^Z^Y) + \\\n",
    "                            -0.0013743761078958677*(I^Y^I^Y) + \\\n",
    "                            0.16199475388004186*(I^Z^I^I) + \\\n",
    "                            0.05706344223424907*(I^Z^Z^I) + \\\n",
    "                            0.054130445793298836*(I^Z^I^Z) + \\\n",
    "                            -0.013243698330265966*(I^I^Z^I) + \\\n",
    "                            0.08479609543670981*(I^I^Z^Z) + \\\n",
    "                            -0.013243698330265952*(I^I^I^Z)"
   ]
  },
  {
   "cell_type": "markdown",
   "id": "dbfc22f0",
   "metadata": {},
   "source": [
    "#### Linear Entangelment"
   ]
  },
  {
   "cell_type": "code",
   "execution_count": 27,
   "id": "58cbff1d",
   "metadata": {},
   "outputs": [
    {
     "name": "stderr",
     "output_type": "stream",
     "text": [
      "27it [00:03,  6.87it/s]\n",
      "27it [00:02,  9.64it/s]\n",
      "27it [00:02, 10.49it/s]\n",
      "27it [00:02, 10.14it/s]\n",
      "27it [00:02,  9.75it/s]\n",
      "27it [00:02, 10.11it/s]\n",
      "27it [00:02, 10.02it/s]\n",
      "27it [00:02, 10.02it/s]\n",
      "27it [00:02, 10.24it/s]\n",
      "27it [00:02,  9.79it/s]\n",
      "27it [00:02,  9.93it/s]\n",
      "27it [00:02, 10.25it/s]\n",
      "27it [00:02,  9.94it/s]\n",
      "27it [00:02, 10.11it/s]\n",
      "27it [00:02,  9.96it/s]\n",
      "27it [00:02,  9.70it/s]\n",
      "27it [00:02, 10.00it/s]\n",
      "27it [00:02,  9.88it/s]\n",
      "27it [00:02, 10.00it/s]\n",
      "27it [00:02, 10.18it/s]\n",
      "27it [00:02, 10.36it/s]\n",
      "27it [00:02,  9.84it/s]\n",
      "27it [00:02, 10.09it/s]\n",
      "27it [00:02,  9.95it/s]\n",
      "27it [00:02, 10.24it/s]\n",
      "27it [00:02, 10.06it/s]\n",
      "27it [00:02, 10.13it/s]\n",
      "27it [00:02, 10.68it/s]\n",
      "27it [00:02, 10.17it/s]\n",
      "27it [00:02,  9.88it/s]\n",
      "27it [00:02, 10.32it/s]\n",
      "27it [00:02, 10.42it/s]\n",
      "27it [00:02, 10.03it/s]\n",
      "27it [00:02, 10.12it/s]\n",
      "27it [00:02, 10.00it/s]\n",
      "27it [00:02,  9.84it/s]\n",
      "27it [00:02, 10.32it/s]\n",
      "27it [00:02, 10.35it/s]\n",
      "27it [00:02, 10.40it/s]\n",
      "27it [00:02, 10.25it/s]\n",
      "27it [00:02, 10.21it/s]\n",
      "27it [00:02, 10.08it/s]\n",
      "27it [00:02, 10.42it/s]\n",
      "27it [00:02, 10.28it/s]\n",
      "27it [00:02,  9.94it/s]\n",
      "27it [00:02, 10.17it/s]\n",
      "27it [00:02, 10.09it/s]\n",
      "27it [00:02, 10.31it/s]\n",
      "27it [00:02, 10.27it/s]\n",
      "27it [00:02,  9.82it/s]\n",
      "27it [00:02, 10.25it/s]\n",
      "27it [00:02, 10.25it/s]\n",
      "27it [00:02, 10.19it/s]\n",
      "27it [00:02, 10.29it/s]\n",
      "27it [00:02,  9.83it/s]\n",
      "27it [00:02, 10.44it/s]\n",
      "27it [00:02, 10.17it/s]\n",
      "27it [00:02, 10.08it/s]\n",
      "27it [00:02, 10.25it/s]\n",
      "27it [00:02, 10.05it/s]\n",
      "27it [00:02,  9.83it/s]\n",
      "27it [00:02, 10.55it/s]\n",
      "27it [00:02, 10.10it/s]\n",
      "27it [00:02, 10.09it/s]\n",
      "27it [00:02, 10.24it/s]\n",
      "27it [00:02, 10.20it/s]\n",
      "27it [00:02, 10.37it/s]\n",
      "27it [00:02, 10.18it/s]\n",
      "27it [00:02, 10.03it/s]\n",
      "27it [00:02, 10.10it/s]\n",
      "27it [00:02, 10.58it/s]\n",
      "27it [00:02,  9.77it/s]\n",
      "27it [00:02, 10.26it/s]\n",
      "27it [00:02, 10.41it/s]\n",
      "27it [00:02,  9.90it/s]\n",
      "27it [00:02, 10.56it/s]\n",
      "27it [00:02, 10.50it/s]\n",
      "27it [00:02, 10.14it/s]\n",
      "27it [00:02, 10.25it/s]\n",
      "27it [00:02, 10.37it/s]\n",
      "27it [00:02,  9.73it/s]\n",
      "27it [00:02, 10.66it/s]\n",
      "27it [00:02, 10.43it/s]\n",
      "27it [00:02, 10.18it/s]\n",
      "27it [00:02, 10.22it/s]\n",
      "27it [00:02, 10.40it/s]\n",
      "27it [00:02, 10.48it/s]\n",
      "27it [00:02, 10.08it/s]\n",
      "27it [00:02,  9.83it/s]\n",
      "27it [00:02, 10.66it/s]\n",
      "27it [00:02, 10.24it/s]\n",
      "27it [00:02, 10.17it/s]\n",
      "27it [00:02, 10.35it/s]\n",
      "27it [00:02, 10.54it/s]\n",
      "27it [00:02,  9.80it/s]\n",
      "27it [00:02, 10.54it/s]\n",
      "27it [00:02, 10.32it/s]\n",
      "27it [00:02, 10.20it/s]\n",
      "27it [00:02, 10.13it/s]\n",
      "27it [00:02, 10.38it/s]\n"
     ]
    },
    {
     "name": "stdout",
     "output_type": "stream",
     "text": [
      "[ 3.19047961  3.65603467  3.40111649  6.36658713  3.34324313  3.39784071\n",
      "  5.29568815  4.3010533   3.11248219  6.67566463  3.73714972  4.28982545\n",
      "  0.88963439  1.52146056  0.01435158  5.70777578  2.9116771   2.51592583\n",
      "  5.27152279  0.81087113  2.60730817  7.11522015  4.16341213  0.56224664\n",
      " -0.08141214  2.93091515  6.01175739  4.32707898  5.52564049  5.24155328\n",
      "  3.4912888   4.96610342]\n"
     ]
    },
    {
     "name": "stderr",
     "output_type": "stream",
     "text": [
      "27it [00:02, 10.05it/s]"
     ]
    },
    {
     "name": "stdout",
     "output_type": "stream",
     "text": [
      "CPU times: total: 4min 18s\n",
      "Wall time: 4min 30s\n"
     ]
    },
    {
     "name": "stderr",
     "output_type": "stream",
     "text": [
      "\n"
     ]
    }
   ],
   "source": [
    "%%time\n",
    "LiH_approximated_eigenvalue = get_approximated_eigenvalue_of_hamiltonian(LiH_molecule_4_qubits, \"linear\")"
   ]
  },
  {
   "cell_type": "markdown",
   "id": "fbe670c9",
   "metadata": {},
   "source": [
    "### Comparsion between approximate value after optimtimzation and exact eigenvalue"
   ]
  },
  {
   "cell_type": "code",
   "execution_count": 28,
   "id": "a97114cc",
   "metadata": {},
   "outputs": [
    {
     "name": "stdout",
     "output_type": "stream",
     "text": [
      "[(-7.862773163027979+0j), (-7.7833962082865185+0j), (-7.783396208286518+0j), (-7.7140566916607005+0j), (-7.714056691660695+0j), (-7.714056691660695+0j), (-7.700475837803976+0j), (-7.569984737620559+0j), (-7.569984737620559+0j), (-7.511999706834453+0j), (-7.511999706834451+0j), (-7.364817440287081+0j), (-7.151525481896562+0j), (-7.130406955301309+0j), (-7.130406955301308+0j), (-6.769813218087976+0j)]\n",
      "Exact Eigenvalue:\n",
      "(-7.862773163027979+0j)\n",
      "\n",
      "Approximated Eigenvalue:\n",
      "-7.799125134980942\n",
      "\n",
      "Approximation Error\n",
      "0.008094857466615027\n"
     ]
    },
    {
     "name": "stderr",
     "output_type": "stream",
     "text": [
      "C:\\Users\\hadar\\anaconda3\\envs\\Qiskitenv\\lib\\site-packages\\matplotlib\\cbook\\__init__.py:1317: ComplexWarning: Casting complex values to real discards the imaginary part\n",
      "  return np.asarray(x, float)\n"
     ]
    },
    {
     "data": {
      "image/png": "[encoded data removed]",
      "text/plain": [
       "<Figure size 432x288 with 1 Axes>"
      ]
     },
     "metadata": {
      "needs_background": "light"
     },
     "output_type": "display_data"
    }
   ],
   "source": [
    "compare_exact_and_approximated_eigenvalue(LiH_molecule_4_qubits, LiH_approximated_eigenvalue)"
   ]
  },
  {
   "cell_type": "markdown",
   "id": "32d3273c",
   "metadata": {},
   "source": [
    "#### Full Entangelment"
   ]
  },
  {
   "cell_type": "code",
   "execution_count": 29,
   "id": "39faf0d6",
   "metadata": {},
   "outputs": [
    {
     "name": "stderr",
     "output_type": "stream",
     "text": [
      "27it [00:02,  9.59it/s]\n",
      "27it [00:02,  9.65it/s]\n",
      "27it [00:02,  9.66it/s]\n",
      "27it [00:02,  9.67it/s]\n",
      "27it [00:02,  9.39it/s]\n",
      "27it [00:02,  9.70it/s]\n",
      "27it [00:02,  9.52it/s]\n",
      "27it [00:02,  9.53it/s]\n",
      "27it [00:02,  9.42it/s]\n",
      "27it [00:02,  9.46it/s]\n",
      "27it [00:02,  9.49it/s]\n",
      "27it [00:02,  9.13it/s]\n",
      "27it [00:02,  9.86it/s]\n",
      "27it [00:02,  9.88it/s]\n",
      "27it [00:02,  9.50it/s]\n",
      "27it [00:02,  9.70it/s]\n",
      "27it [00:02,  9.39it/s]\n",
      "27it [00:02,  9.33it/s]\n",
      "27it [00:02,  9.83it/s]\n",
      "27it [00:02,  9.62it/s]\n",
      "27it [00:02,  9.80it/s]\n",
      "27it [00:02,  9.66it/s]\n",
      "27it [00:02,  9.12it/s]\n",
      "27it [00:02,  9.62it/s]\n",
      "27it [00:02,  9.56it/s]\n",
      "27it [00:02,  9.67it/s]\n",
      "27it [00:02,  9.70it/s]\n",
      "27it [00:02,  9.66it/s]\n",
      "27it [00:02,  9.15it/s]\n",
      "27it [00:02,  9.52it/s]\n",
      "27it [00:02,  9.68it/s]\n",
      "27it [00:02,  9.44it/s]\n",
      "27it [00:02,  9.84it/s]\n",
      "27it [00:02,  9.64it/s]\n",
      "27it [00:02,  9.35it/s]\n",
      "27it [00:02,  9.33it/s]\n",
      "27it [00:02,  9.56it/s]\n",
      "27it [00:02,  9.71it/s]\n",
      "27it [00:02,  9.62it/s]\n",
      "27it [00:03,  8.84it/s]\n",
      "27it [00:02,  9.00it/s]\n",
      "27it [00:02,  9.41it/s]\n",
      "27it [00:02,  9.74it/s]\n",
      "27it [00:02,  9.53it/s]\n",
      "27it [00:02,  9.53it/s]\n",
      "27it [00:02,  9.60it/s]\n",
      "27it [00:02,  9.31it/s]\n",
      "27it [00:02,  9.54it/s]\n",
      "27it [00:02,  9.61it/s]\n",
      "27it [00:02,  9.77it/s]\n",
      "27it [00:02,  9.53it/s]\n",
      "27it [00:02,  9.45it/s]\n",
      "27it [00:02,  9.49it/s]\n",
      "27it [00:02,  9.67it/s]\n",
      "27it [00:02,  9.65it/s]\n",
      "27it [00:02,  9.78it/s]\n",
      "27it [00:02,  9.65it/s]\n",
      "27it [00:02,  9.43it/s]\n",
      "27it [00:02, 10.21it/s]\n",
      "27it [00:02,  9.95it/s]\n",
      "27it [00:02, 10.08it/s]\n",
      "27it [00:02, 10.07it/s]\n",
      "27it [00:02, 10.13it/s]\n",
      "27it [00:02,  9.91it/s]\n",
      "27it [00:02,  9.98it/s]\n",
      "27it [00:02, 10.21it/s]\n",
      "27it [00:02, 10.01it/s]\n",
      "27it [00:02, 10.07it/s]\n",
      "27it [00:02, 10.03it/s]\n",
      "27it [00:02,  9.93it/s]\n",
      "27it [00:02, 10.10it/s]\n",
      "27it [00:02, 10.34it/s]\n",
      "27it [00:02, 10.16it/s]\n",
      "27it [00:02,  9.70it/s]\n",
      "27it [00:02,  9.43it/s]\n",
      "27it [00:02,  9.83it/s]\n",
      "27it [00:02, 10.19it/s]\n",
      "27it [00:02, 10.12it/s]\n",
      "27it [00:02, 10.11it/s]\n",
      "27it [00:02,  9.84it/s]\n",
      "27it [00:02, 10.36it/s]\n",
      "27it [00:02,  9.86it/s]\n",
      "27it [00:02, 10.14it/s]\n",
      "27it [00:02, 10.07it/s]\n",
      "27it [00:02, 10.14it/s]\n",
      "27it [00:02, 10.16it/s]\n",
      "27it [00:02, 10.34it/s]\n",
      "27it [00:02,  9.90it/s]\n",
      "27it [00:02, 10.28it/s]\n",
      "27it [00:02,  9.87it/s]\n",
      "27it [00:02,  9.91it/s]\n",
      "27it [00:02, 10.13it/s]\n",
      "27it [00:02, 10.03it/s]\n",
      "27it [00:02,  9.89it/s]\n",
      "27it [00:02,  9.96it/s]\n",
      "27it [00:02,  9.84it/s]\n",
      "27it [00:02, 10.06it/s]\n",
      "27it [00:02, 10.02it/s]\n",
      "27it [00:02,  9.74it/s]\n",
      "27it [00:02,  9.53it/s]\n"
     ]
    },
    {
     "name": "stdout",
     "output_type": "stream",
     "text": [
      "[5.32988988 4.61164735 5.41137437 4.11991268 1.92270237 5.54568379\n",
      " 2.88338939 1.61262983 3.48684646 2.55185062 0.81489403 3.04166451\n",
      " 4.20637973 1.54498223 4.95430037 4.73524678 0.04437719 2.380946\n",
      " 0.76839718 6.94465007 5.58709692 2.3834855  2.20294415 2.26901887\n",
      " 1.014337   2.41514238 5.80527217 3.61048759 3.52962115 2.34775618\n",
      " 4.14434952 6.00609571]\n"
     ]
    },
    {
     "name": "stderr",
     "output_type": "stream",
     "text": [
      "27it [00:02,  9.18it/s]"
     ]
    },
    {
     "name": "stdout",
     "output_type": "stream",
     "text": [
      "CPU times: total: 4min 32s\n",
      "Wall time: 4min 41s\n"
     ]
    },
    {
     "name": "stderr",
     "output_type": "stream",
     "text": [
      "\n"
     ]
    }
   ],
   "source": [
    "%%time\n",
    "LiH_approximated_eigenvalue = get_approximated_eigenvalue_of_hamiltonian(LiH_molecule_4_qubits, \"full\")"
   ]
  },
  {
   "cell_type": "code",
   "execution_count": 30,
   "id": "ae67fc6d",
   "metadata": {},
   "outputs": [
    {
     "name": "stdout",
     "output_type": "stream",
     "text": [
      "[(-7.862773163027979+0j), (-7.7833962082865185+0j), (-7.783396208286518+0j), (-7.7140566916607005+0j), (-7.714056691660695+0j), (-7.714056691660695+0j), (-7.700475837803976+0j), (-7.569984737620559+0j), (-7.569984737620559+0j), (-7.511999706834453+0j), (-7.511999706834451+0j), (-7.364817440287081+0j), (-7.151525481896562+0j), (-7.130406955301309+0j), (-7.130406955301308+0j), (-6.769813218087976+0j)]\n",
      "Exact Eigenvalue:\n",
      "(-7.862773163027979+0j)\n",
      "\n",
      "Approximated Eigenvalue:\n",
      "-7.764937530966622\n",
      "\n",
      "Approximation Error\n",
      "0.012442891335260154\n"
     ]
    },
    {
     "data": {
      "image/png": "[encoded data removed]",
      "text/plain": [
       "<Figure size 432x288 with 1 Axes>"
      ]
     },
     "metadata": {
      "needs_background": "light"
     },
     "output_type": "display_data"
    }
   ],
   "source": [
    "compare_exact_and_approximated_eigenvalue(LiH_molecule_4_qubits, LiH_approximated_eigenvalue)"
   ]
  },
  {
   "cell_type": "markdown",
   "id": "e9cc887a",
   "metadata": {},
   "source": [
    "## H2 Molecule 4 qubits"
   ]
  },
  {
   "cell_type": "code",
   "execution_count": 31,
   "id": "259df459",
   "metadata": {},
   "outputs": [],
   "source": [
    "H2_molecule_Hamiltonian_4_qubits =  -0.8105479805373279 * (I^I^I^I) \\\n",
    "                                    + 0.1721839326191554 * (I^I^I^Z) \\\n",
    "                                    - 0.22575349222402372 * (I^I^Z^I) \\\n",
    "                                    + 0.17218393261915543 * (I^Z^I^I) \\\n",
    "                                    - 0.2257534922240237 * (Z^I^I^I) \\\n",
    "                                    + 0.12091263261776627 * (I^I^Z^Z) \\\n",
    "                                    + 0.16892753870087907 * (I^Z^I^Z) \\\n",
    "                                    + 0.045232799946057826 * (Y^Y^Y^Y) \\\n",
    "                                    + 0.045232799946057826 * (X^X^Y^Y) \\\n",
    "                                    + 0.045232799946057826 * (Y^Y^X^X) \\\n",
    "                                    + 0.045232799946057826 * (X^X^X^X) \\\n",
    "                                    + 0.1661454325638241 * (Z^I^I^Z) \\\n",
    "                                    + 0.1661454325638241 * (I^Z^Z^I) \\\n",
    "                                    + 0.17464343068300453 * (Z^I^Z^I) \\\n",
    "                                    + 0.12091263261776627 * (Z^Z^I^I)"
   ]
  },
  {
   "cell_type": "markdown",
   "id": "fa5a1423",
   "metadata": {},
   "source": [
    "#### Linear Entangelment"
   ]
  },
  {
   "cell_type": "code",
   "execution_count": 32,
   "id": "3634f0d7",
   "metadata": {},
   "outputs": [
    {
     "name": "stderr",
     "output_type": "stream",
     "text": [
      "15it [00:01,  9.74it/s]\n",
      "15it [00:01,  9.68it/s]\n",
      "15it [00:01,  9.64it/s]\n",
      "15it [00:01,  9.62it/s]\n",
      "15it [00:01,  9.67it/s]\n",
      "15it [00:01,  9.30it/s]\n",
      "15it [00:01,  9.69it/s]\n",
      "15it [00:01,  9.92it/s]\n",
      "15it [00:01,  9.68it/s]\n",
      "15it [00:01,  9.53it/s]\n",
      "15it [00:01,  9.52it/s]\n",
      "15it [00:01,  9.90it/s]\n",
      "15it [00:01,  9.65it/s]\n",
      "15it [00:01,  9.56it/s]\n",
      "15it [00:01,  9.92it/s]\n",
      "15it [00:01,  9.77it/s]\n",
      "15it [00:01,  9.43it/s]\n",
      "15it [00:01,  9.89it/s]\n",
      "15it [00:01,  9.72it/s]\n",
      "15it [00:01, 10.01it/s]\n",
      "15it [00:01,  9.83it/s]\n",
      "15it [00:01,  9.58it/s]\n",
      "15it [00:01, 10.03it/s]\n",
      "15it [00:01,  9.81it/s]\n",
      "15it [00:01,  9.89it/s]\n",
      "15it [00:01,  9.96it/s]\n",
      "15it [00:01,  9.86it/s]\n",
      "15it [00:01,  9.62it/s]\n",
      "15it [00:01,  9.57it/s]\n",
      "15it [00:01,  9.94it/s]\n",
      "15it [00:01,  9.43it/s]\n",
      "15it [00:01, 10.01it/s]\n",
      "15it [00:01,  9.72it/s]\n",
      "15it [00:01,  9.68it/s]\n",
      "15it [00:01,  9.71it/s]\n",
      "15it [00:01, 10.00it/s]\n",
      "15it [00:01,  9.72it/s]\n",
      "15it [00:01,  9.60it/s]\n",
      "15it [00:01,  9.33it/s]\n",
      "15it [00:01,  9.86it/s]\n",
      "15it [00:01,  9.23it/s]\n",
      "15it [00:01,  9.85it/s]\n",
      "15it [00:01,  9.83it/s]\n",
      "15it [00:01,  9.86it/s]\n",
      "15it [00:01,  9.57it/s]\n",
      "15it [00:01, 10.08it/s]\n",
      "15it [00:01,  9.78it/s]\n",
      "15it [00:01,  9.84it/s]\n",
      "15it [00:01,  9.52it/s]\n",
      "15it [00:01,  9.79it/s]\n",
      "15it [00:01,  9.40it/s]\n",
      "15it [00:01,  9.51it/s]\n",
      "15it [00:01,  9.98it/s]\n",
      "15it [00:01,  9.97it/s]\n",
      "15it [00:01,  9.68it/s]\n",
      "15it [00:01,  9.83it/s]\n",
      "15it [00:01,  9.23it/s]\n",
      "15it [00:01,  9.73it/s]\n",
      "15it [00:01, 10.05it/s]\n",
      "15it [00:01,  9.95it/s]\n",
      "15it [00:01,  9.31it/s]\n",
      "15it [00:01,  9.85it/s]\n",
      "15it [00:01,  9.84it/s]\n",
      "15it [00:01,  9.41it/s]\n",
      "15it [00:01,  9.43it/s]\n",
      "15it [00:01,  9.49it/s]\n",
      "15it [00:01,  9.93it/s]\n",
      "15it [00:01,  9.87it/s]\n",
      "15it [00:01,  9.76it/s]\n",
      "15it [00:01,  9.38it/s]\n",
      "15it [00:01,  9.95it/s]\n",
      "15it [00:01,  9.99it/s]\n",
      "15it [00:01,  9.43it/s]\n",
      "15it [00:01,  9.75it/s]\n",
      "15it [00:01,  9.47it/s]\n",
      "15it [00:01,  9.63it/s]\n",
      "15it [00:01,  9.44it/s]\n",
      "15it [00:01,  9.59it/s]\n",
      "15it [00:01,  9.90it/s]\n",
      "15it [00:01,  9.94it/s]\n",
      "15it [00:01,  9.53it/s]\n",
      "15it [00:01,  9.89it/s]\n",
      "15it [00:01,  9.82it/s]\n",
      "15it [00:01,  9.65it/s]\n",
      "15it [00:01,  9.09it/s]\n",
      "15it [00:01,  9.99it/s]\n",
      "15it [00:01,  9.91it/s]\n",
      "15it [00:01,  9.33it/s]\n",
      "15it [00:01,  9.77it/s]\n",
      "15it [00:01,  9.69it/s]\n",
      "15it [00:01,  9.65it/s]\n",
      "15it [00:01, 10.04it/s]\n",
      "15it [00:01,  9.89it/s]\n",
      "15it [00:01,  9.51it/s]\n",
      "15it [00:01, 10.09it/s]\n",
      "15it [00:01,  9.88it/s]\n",
      "15it [00:01,  9.78it/s]\n",
      "15it [00:01,  9.81it/s]\n",
      "15it [00:01,  9.52it/s]\n",
      "15it [00:01,  9.16it/s]\n"
     ]
    },
    {
     "name": "stdout",
     "output_type": "stream",
     "text": [
      "[ 3.91667992  5.71998499  6.28145125  1.28250965  2.67330372  0.48665177\n",
      "  6.04710273 -0.15898566  2.98133627  4.38815837  0.42701909  5.94837479\n",
      "  5.50772973  5.93838165  2.14131526  6.19129504  2.68102594  2.48239923\n",
      "  6.75468904  5.59219419  2.31138436  0.81247086  4.86425768  6.9499901\n",
      "  2.37318327  4.17876435  3.12141662  1.04935046  5.91042917  5.96907079\n",
      "  2.79342359  4.41904811]\n"
     ]
    },
    {
     "name": "stderr",
     "output_type": "stream",
     "text": [
      "15it [00:01, 10.05it/s]"
     ]
    },
    {
     "name": "stdout",
     "output_type": "stream",
     "text": [
      "CPU times: total: 2min 31s\n",
      "Wall time: 2min 37s\n"
     ]
    },
    {
     "name": "stderr",
     "output_type": "stream",
     "text": [
      "\n"
     ]
    }
   ],
   "source": [
    "%%time\n",
    "H2_approximated_eigenvalue = get_approximated_eigenvalue_of_hamiltonian(H2_molecule_Hamiltonian_4_qubits, \"linear\")"
   ]
  },
  {
   "cell_type": "code",
   "execution_count": 33,
   "id": "5b96cc5e",
   "metadata": {},
   "outputs": [
    {
     "name": "stdout",
     "output_type": "stream",
     "text": [
      "[(-1.8572750302023793+0j), (-1.25633907300325+0j), (-1.2563390730032498+0j), (-1.2445845498133272+0j), (-1.2445845498133272+0j), (-1.244584549813327+0j), (-1.1606317377577642+0j), (-1.1606317377577642+0j), (-0.8827221502448648+0j), (-0.47189600728114256+0j), (-0.47189600728114245+0j), (-0.353325104107155+0j), (-0.353325104107155+0j), (-0.2249112528308709+0j), (-1.942890293094024e-16+0j), (0.2142782384194731+0j)]\n",
      "Exact Eigenvalue:\n",
      "(-1.8572750302023793+0j)\n",
      "\n",
      "Approximated Eigenvalue:\n",
      "-1.4625089493354433\n",
      "\n",
      "Approximation Error\n",
      "0.21255122394227205\n"
     ]
    },
    {
     "data": {
      "image/png": "[encoded data removed]",
      "text/plain": [
       "<Figure size 432x288 with 1 Axes>"
      ]
     },
     "metadata": {
      "needs_background": "light"
     },
     "output_type": "display_data"
    }
   ],
   "source": [
    "compare_exact_and_approximated_eigenvalue(H2_molecule_Hamiltonian_4_qubits, H2_approximated_eigenvalue)"
   ]
  },
  {
   "cell_type": "markdown",
   "id": "72f299b7",
   "metadata": {},
   "source": [
    "#### Full Entangelment"
   ]
  },
  {
   "cell_type": "code",
   "execution_count": 34,
   "id": "51d29e0c",
   "metadata": {},
   "outputs": [
    {
     "name": "stderr",
     "output_type": "stream",
     "text": [
      "15it [00:01, 10.19it/s]\n",
      "15it [00:01, 10.25it/s]\n",
      "15it [00:01,  9.96it/s]\n",
      "15it [00:01,  9.73it/s]\n",
      "15it [00:01,  9.97it/s]\n",
      "15it [00:01, 10.11it/s]\n",
      "15it [00:01,  9.93it/s]\n",
      "15it [00:01,  9.11it/s]\n",
      "15it [00:01, 10.08it/s]\n",
      "15it [00:01,  9.98it/s]\n",
      "15it [00:01, 10.17it/s]\n",
      "15it [00:01, 10.27it/s]\n",
      "15it [00:01, 10.11it/s]\n",
      "15it [00:01,  9.95it/s]\n",
      "15it [00:01,  9.50it/s]\n",
      "15it [00:01, 10.09it/s]\n",
      "15it [00:01, 10.04it/s]\n",
      "15it [00:01,  9.60it/s]\n",
      "15it [00:01,  9.25it/s]\n",
      "15it [00:01, 10.16it/s]\n",
      "15it [00:01,  9.86it/s]\n",
      "15it [00:01, 10.07it/s]\n",
      "15it [00:01,  9.60it/s]\n",
      "15it [00:01, 10.01it/s]\n",
      "15it [00:01, 10.30it/s]\n",
      "15it [00:01,  9.69it/s]\n",
      "15it [00:01, 10.02it/s]\n",
      "15it [00:01, 10.33it/s]\n",
      "15it [00:01,  9.27it/s]\n",
      "15it [00:01, 10.10it/s]\n",
      "15it [00:01, 10.24it/s]\n",
      "15it [00:01,  9.88it/s]\n",
      "15it [00:01,  9.48it/s]\n",
      "15it [00:01, 10.18it/s]\n",
      "15it [00:01, 10.39it/s]\n",
      "15it [00:01,  9.94it/s]\n",
      "15it [00:01, 10.36it/s]\n",
      "15it [00:01,  9.89it/s]\n",
      "15it [00:01,  9.19it/s]\n",
      "15it [00:01, 10.17it/s]\n",
      "15it [00:01, 10.29it/s]\n",
      "15it [00:01, 10.35it/s]\n",
      "15it [00:01,  9.90it/s]\n",
      "15it [00:01,  9.79it/s]\n",
      "15it [00:01, 10.05it/s]\n",
      "15it [00:01,  9.81it/s]\n",
      "15it [00:01, 10.05it/s]\n",
      "15it [00:01,  9.47it/s]\n",
      "15it [00:01, 10.30it/s]\n",
      "15it [00:01,  9.78it/s]\n",
      "15it [00:01,  9.92it/s]\n",
      "15it [00:01, 10.09it/s]\n",
      "15it [00:01, 10.16it/s]\n",
      "15it [00:01,  9.43it/s]\n",
      "15it [00:01,  9.74it/s]\n",
      "15it [00:01, 10.30it/s]\n",
      "15it [00:01,  9.73it/s]\n",
      "15it [00:01, 10.05it/s]\n",
      "15it [00:01,  9.28it/s]\n",
      "15it [00:01, 10.01it/s]\n",
      "15it [00:01, 10.20it/s]\n",
      "15it [00:01, 10.35it/s]\n",
      "15it [00:01,  9.97it/s]\n",
      "15it [00:01, 10.50it/s]\n",
      "15it [00:01,  9.69it/s]\n",
      "15it [00:01, 10.26it/s]\n",
      "15it [00:01, 10.09it/s]\n",
      "15it [00:01,  9.84it/s]\n",
      "15it [00:01,  9.34it/s]\n",
      "15it [00:01,  9.84it/s]\n",
      "15it [00:01, 10.23it/s]\n",
      "15it [00:01, 10.05it/s]\n",
      "15it [00:01, 10.12it/s]\n",
      "15it [00:01, 10.12it/s]\n",
      "15it [00:01,  9.73it/s]\n",
      "15it [00:01, 10.10it/s]\n",
      "15it [00:01, 10.34it/s]\n",
      "15it [00:01,  9.54it/s]\n",
      "15it [00:01, 10.19it/s]\n",
      "15it [00:01,  9.82it/s]\n",
      "15it [00:01, 10.38it/s]\n",
      "15it [00:01, 10.25it/s]\n",
      "15it [00:01,  9.96it/s]\n",
      "15it [00:01,  9.95it/s]\n",
      "15it [00:01,  9.63it/s]\n",
      "15it [00:01, 10.12it/s]\n",
      "15it [00:01, 10.31it/s]\n",
      "15it [00:01, 10.23it/s]\n",
      "15it [00:01, 10.47it/s]\n",
      "15it [00:01,  9.66it/s]\n",
      "15it [00:01,  9.82it/s]\n",
      "15it [00:01,  9.95it/s]\n",
      "15it [00:01, 10.02it/s]\n",
      "15it [00:01,  9.51it/s]\n",
      "15it [00:01, 10.04it/s]\n",
      "15it [00:01,  9.89it/s]\n",
      "15it [00:01,  9.98it/s]\n",
      "15it [00:01,  9.55it/s]\n",
      "15it [00:01,  8.59it/s]\n",
      "15it [00:01,  9.63it/s]\n"
     ]
    },
    {
     "name": "stdout",
     "output_type": "stream",
     "text": [
      "[5.7340042  6.0343947  1.73997274 0.98361388 2.83435055 4.97862806\n",
      " 6.36070248 4.53743944 2.99567776 2.10353293 1.57797741 5.06383028\n",
      " 1.23711074 6.09921389 2.45905865 1.17830787 3.09265591 4.30325719\n",
      " 3.88011176 1.63436014 6.64322063 2.25846599 2.80709292 2.96322343\n",
      " 0.4578404  5.79419902 0.87082826 1.25819047 1.88268244 3.88073503\n",
      " 3.55467175 0.70164906]\n"
     ]
    },
    {
     "name": "stderr",
     "output_type": "stream",
     "text": [
      "15it [00:01, 10.11it/s]"
     ]
    },
    {
     "name": "stdout",
     "output_type": "stream",
     "text": [
      "CPU times: total: 2min 28s\n",
      "Wall time: 2min 33s\n"
     ]
    },
    {
     "name": "stderr",
     "output_type": "stream",
     "text": [
      "\n"
     ]
    }
   ],
   "source": [
    "%%time\n",
    "H2_approximated_eigenvalue = get_approximated_eigenvalue_of_hamiltonian(H2_molecule_Hamiltonian_4_qubits, \"full\")"
   ]
  },
  {
   "cell_type": "code",
   "execution_count": 35,
   "id": "b3b3d512",
   "metadata": {},
   "outputs": [
    {
     "name": "stdout",
     "output_type": "stream",
     "text": [
      "[(-1.8572750302023793+0j), (-1.25633907300325+0j), (-1.2563390730032498+0j), (-1.2445845498133272+0j), (-1.2445845498133272+0j), (-1.244584549813327+0j), (-1.1606317377577642+0j), (-1.1606317377577642+0j), (-0.8827221502448648+0j), (-0.47189600728114256+0j), (-0.47189600728114245+0j), (-0.353325104107155+0j), (-0.353325104107155+0j), (-0.2249112528308709+0j), (-1.942890293094024e-16+0j), (0.2142782384194731+0j)]\n",
      "Exact Eigenvalue:\n",
      "(-1.8572750302023793+0j)\n",
      "\n",
      "Approximated Eigenvalue:\n",
      "-1.5669491927149528\n",
      "\n",
      "Approximation Error\n",
      "0.15631817192728364\n"
     ]
    },
    {
     "data": {
      "image/png": "[encoded data removed]",
      "text/plain": [
       "<Figure size 432x288 with 1 Axes>"
      ]
     },
     "metadata": {
      "needs_background": "light"
     },
     "output_type": "display_data"
    }
   ],
   "source": [
    "compare_exact_and_approximated_eigenvalue(H2_molecule_Hamiltonian_4_qubits, H2_approximated_eigenvalue)"
   ]
  },
  {
   "cell_type": "markdown",
   "id": "394c3bee",
   "metadata": {},
   "source": [
    "##  Transverse Ising Model 4 qubits"
   ]
  },
  {
   "cell_type": "code",
   "execution_count": 36,
   "id": "8dab0ec4",
   "metadata": {},
   "outputs": [],
   "source": [
    "transverse_ising_4_qubits = 0.0 * (I^I^I^I) \\\n",
    "    + 0.8398088405253477 * (X^I^I^I) \\\n",
    "    + 0.7989496312070936 * (I^X^I^I) \\\n",
    "    + 0.38189710487113193 * (Z^Z^I^I) \\\n",
    "    + 0.057753122422666725 * (I^I^X^I) \\\n",
    "    + 0.5633292636970458 * (Z^I^Z^I) \\\n",
    "    + 0.3152740621483513 * (I^Z^Z^I) \\\n",
    "    + 0.07209487981989715 * (I^I^I^X) \\\n",
    "    + 0.17892334004292654 * (Z^I^I^Z) \\\n",
    "    + 0.2273896497668042 * (I^Z^I^Z) \\\n",
    "    + 0.09762902934216211 * (I^I^Z^Z)"
   ]
  },
  {
   "cell_type": "markdown",
   "id": "c82bd1cb",
   "metadata": {},
   "source": [
    "#### Linear Entangelment"
   ]
  },
  {
   "cell_type": "code",
   "execution_count": 37,
   "id": "ac7514ba",
   "metadata": {},
   "outputs": [
    {
     "name": "stderr",
     "output_type": "stream",
     "text": [
      "11it [00:01, 10.86it/s]\n",
      "11it [00:01, 10.30it/s]\n",
      "11it [00:01, 10.53it/s]\n",
      "11it [00:01, 10.00it/s]\n",
      "11it [00:01,  9.73it/s]\n",
      "11it [00:01,  9.07it/s]\n",
      "11it [00:01,  9.69it/s]\n",
      "11it [00:01, 10.32it/s]\n",
      "11it [00:01,  8.71it/s]\n",
      "11it [00:01,  8.47it/s]\n",
      "11it [00:01, 10.47it/s]\n",
      "11it [00:01,  9.48it/s]\n",
      "11it [00:01, 10.51it/s]\n",
      "11it [00:01,  9.54it/s]\n",
      "11it [00:01, 10.16it/s]\n",
      "11it [00:01, 10.07it/s]\n",
      "11it [00:01,  9.80it/s]\n",
      "11it [00:01, 10.44it/s]\n",
      "11it [00:01, 10.06it/s]\n",
      "11it [00:01, 10.14it/s]\n",
      "11it [00:01, 10.68it/s]\n",
      "11it [00:01,  9.43it/s]\n",
      "11it [00:01, 10.62it/s]\n",
      "11it [00:01, 10.20it/s]\n",
      "11it [00:01, 10.22it/s]\n",
      "11it [00:01, 10.14it/s]\n",
      "11it [00:01, 10.38it/s]\n",
      "11it [00:01, 10.69it/s]\n",
      "11it [00:01,  9.98it/s]\n",
      "11it [00:01,  8.53it/s]\n",
      "11it [00:01,  9.80it/s]\n",
      "11it [00:01, 10.70it/s]\n",
      "11it [00:01,  9.95it/s]\n",
      "11it [00:01,  9.10it/s]\n",
      "11it [00:01,  8.48it/s]\n",
      "11it [00:01,  8.58it/s]\n",
      "11it [00:01,  9.45it/s]\n",
      "11it [00:00, 11.32it/s]\n",
      "11it [00:01, 10.40it/s]\n",
      "11it [00:01, 10.09it/s]\n",
      "11it [00:01, 10.55it/s]\n",
      "11it [00:01,  9.94it/s]\n",
      "11it [00:01,  9.70it/s]\n",
      "11it [00:01,  9.34it/s]\n",
      "11it [00:01, 10.19it/s]\n",
      "11it [00:01, 10.32it/s]\n",
      "11it [00:01,  9.90it/s]\n",
      "11it [00:01, 10.32it/s]\n",
      "11it [00:01, 10.71it/s]\n",
      "11it [02:05, 11.40s/it]\n",
      "11it [00:00, 25.15it/s]\n",
      "11it [00:00, 19.69it/s]\n",
      "11it [00:00, 18.47it/s]\n",
      "11it [00:01, 10.33it/s]\n",
      "11it [00:01,  9.11it/s]\n",
      "11it [00:01,  9.86it/s]\n",
      "11it [00:01,  9.15it/s]\n",
      "11it [00:01,  9.47it/s]\n",
      "11it [00:01, 10.04it/s]\n",
      "11it [00:01,  9.25it/s]\n",
      "11it [00:01,  9.55it/s]\n",
      "11it [00:01, 10.35it/s]\n",
      "11it [00:01,  9.78it/s]\n",
      "11it [00:01, 10.40it/s]\n",
      "11it [00:01,  9.57it/s]\n",
      "11it [00:01,  9.92it/s]\n",
      "11it [00:01, 10.15it/s]\n",
      "11it [00:01,  9.80it/s]\n",
      "11it [00:01, 10.04it/s]\n",
      "11it [00:01, 10.36it/s]\n",
      "11it [00:01,  9.22it/s]\n",
      "11it [00:01, 10.85it/s]\n",
      "11it [00:01,  9.84it/s]\n",
      "11it [00:01, 10.15it/s]\n",
      "11it [00:01, 10.41it/s]\n",
      "11it [00:01,  9.80it/s]\n",
      "11it [00:01, 10.51it/s]\n",
      "11it [00:01,  9.96it/s]\n",
      "11it [00:01, 10.32it/s]\n",
      "11it [00:01,  9.87it/s]\n",
      "11it [00:01, 10.30it/s]\n",
      "11it [00:01, 10.61it/s]\n",
      "11it [00:01, 10.22it/s]\n",
      "11it [00:01, 10.60it/s]\n",
      "11it [00:01, 10.04it/s]\n",
      "11it [00:01, 10.66it/s]\n",
      "11it [00:01,  9.99it/s]\n",
      "11it [00:01, 10.57it/s]\n",
      "11it [00:01, 10.58it/s]\n",
      "11it [00:01,  9.45it/s]\n",
      "11it [00:01, 10.45it/s]\n",
      "11it [00:01, 10.06it/s]\n",
      "11it [00:01, 10.09it/s]\n",
      "11it [00:01, 10.54it/s]\n",
      "11it [00:01,  9.45it/s]\n",
      "11it [00:01,  9.75it/s]\n",
      "11it [00:01, 10.65it/s]\n",
      "11it [00:01,  9.87it/s]\n",
      "11it [00:01, 10.05it/s]\n",
      "11it [00:01, 10.38it/s]\n"
     ]
    },
    {
     "name": "stdout",
     "output_type": "stream",
     "text": [
      "[2.67703456 1.22762107 3.66392423 3.71289285 1.56976529 6.8043031\n",
      " 4.97553947 0.02553571 4.10561009 1.93539927 2.62660475 0.34547598\n",
      " 6.28953648 7.03993893 5.82799522 2.4926338  2.1553386  4.57358536\n",
      " 3.93374906 5.17473376 2.63910846 1.01806368 5.55288185 1.2886814\n",
      " 4.43238345 3.80900439 3.20467782 0.21514683 5.64128796 4.86495211\n",
      " 3.20343343 0.76679055]\n"
     ]
    },
    {
     "name": "stderr",
     "output_type": "stream",
     "text": [
      "11it [00:01,  9.63it/s]"
     ]
    },
    {
     "name": "stdout",
     "output_type": "stream",
     "text": [
      "CPU times: total: 1min 47s\n",
      "Wall time: 3min 54s\n"
     ]
    },
    {
     "name": "stderr",
     "output_type": "stream",
     "text": [
      "\n"
     ]
    }
   ],
   "source": [
    "%%time\n",
    "TI_approximated_eigenvalue = get_approximated_eigenvalue_of_hamiltonian(transverse_ising_4_qubits, \"linear\")"
   ]
  },
  {
   "cell_type": "code",
   "execution_count": 38,
   "id": "ecd81c72",
   "metadata": {},
   "outputs": [
    {
     "name": "stdout",
     "output_type": "stream",
     "text": [
      "[(-1.9994855800333675+0j), (-1.9080638482930956+0j), (-1.8497137109270194+0j), (-1.7583827504312988+0j), (-0.5462047134056278+0j), (-0.47710503946487287+0j), (-0.31907768442618767+0j), (-0.2505930484227001+0j), (0.14239915569453057+0j), (0.20992649961322052+0j), (0.2757654176709828+0j), (0.3444947223438019+0j), (1.6816520928402046+0j), (1.6958488386667439+0j), (2.3718326043433704+0j), (2.3867070442313216+0j)]\n",
      "Exact Eigenvalue:\n",
      "(-1.9994855800333675+0j)\n",
      "\n",
      "Approximated Eigenvalue:\n",
      "1.2353010534151896\n",
      "\n",
      "Approximation Error\n",
      "0.3821905665383319\n"
     ]
    },
    {
     "data": {
      "image/png": "[encoded data removed]",
      "text/plain": [
       "<Figure size 432x288 with 1 Axes>"
      ]
     },
     "metadata": {
      "needs_background": "light"
     },
     "output_type": "display_data"
    }
   ],
   "source": [
    "compare_exact_and_approximated_eigenvalue(transverse_ising_4_qubits, TI_approximated_eigenvalue)"
   ]
  },
  {
   "cell_type": "markdown",
   "id": "b13fdb69",
   "metadata": {},
   "source": [
    "#### Full Entangelment"
   ]
  },
  {
   "cell_type": "code",
   "execution_count": 39,
   "id": "defdd66a",
   "metadata": {},
   "outputs": [
    {
     "name": "stderr",
     "output_type": "stream",
     "text": [
      "11it [00:01,  9.65it/s]\n",
      "11it [00:01,  9.93it/s]\n",
      "11it [00:01, 10.03it/s]\n",
      "11it [00:01, 10.04it/s]\n",
      "11it [00:01,  9.85it/s]\n",
      "11it [00:01, 10.30it/s]\n",
      "11it [00:01,  9.78it/s]\n",
      "11it [00:01,  9.82it/s]\n",
      "11it [00:01, 10.44it/s]\n",
      "11it [00:01,  9.59it/s]\n",
      "11it [00:01, 10.82it/s]\n",
      "11it [00:01,  9.71it/s]\n",
      "11it [00:01, 10.46it/s]\n",
      "11it [00:01,  9.14it/s]\n",
      "11it [00:01,  9.69it/s]\n",
      "11it [00:01, 10.21it/s]\n",
      "11it [00:01,  9.94it/s]\n",
      "11it [00:01,  9.09it/s]\n",
      "11it [00:01, 10.31it/s]\n",
      "11it [00:01,  9.69it/s]\n",
      "11it [00:01,  9.84it/s]\n",
      "11it [00:01, 10.57it/s]\n",
      "11it [00:01,  9.89it/s]\n",
      "11it [00:01, 10.32it/s]\n",
      "11it [00:01,  9.93it/s]\n",
      "11it [00:01, 10.48it/s]\n",
      "11it [00:01,  9.97it/s]\n",
      "11it [00:01,  9.80it/s]\n",
      "11it [00:01, 10.66it/s]\n",
      "11it [00:01,  9.92it/s]\n",
      "11it [00:01,  9.78it/s]\n",
      "11it [00:01,  8.91it/s]\n",
      "11it [00:01,  9.54it/s]\n",
      "11it [00:01, 10.35it/s]\n",
      "11it [00:01, 10.11it/s]\n",
      "11it [00:01, 10.39it/s]\n",
      "11it [00:01,  9.59it/s]\n",
      "11it [00:01, 10.26it/s]\n",
      "11it [00:01,  9.98it/s]\n",
      "11it [00:01, 10.00it/s]\n",
      "11it [00:01, 10.19it/s]\n",
      "11it [00:01, 10.25it/s]\n",
      "11it [00:01,  9.21it/s]\n",
      "11it [00:01, 10.41it/s]\n",
      "11it [00:01,  9.95it/s]\n",
      "11it [00:01,  9.81it/s]\n",
      "11it [00:01, 10.20it/s]\n",
      "11it [00:01,  9.61it/s]\n",
      "11it [00:01,  9.64it/s]\n",
      "11it [00:01, 10.34it/s]\n",
      "11it [00:01,  9.64it/s]\n",
      "11it [00:01, 10.28it/s]\n",
      "11it [00:01, 10.03it/s]\n",
      "11it [00:01,  9.26it/s]\n",
      "11it [00:01,  9.25it/s]\n",
      "11it [00:01, 10.07it/s]\n",
      "11it [00:01,  9.75it/s]\n",
      "11it [00:01, 10.36it/s]\n",
      "11it [00:01, 10.00it/s]\n",
      "11it [00:01, 10.34it/s]\n",
      "11it [00:01, 10.55it/s]\n",
      "11it [00:01, 10.02it/s]\n",
      "11it [00:01, 10.59it/s]\n",
      "11it [00:01,  9.61it/s]\n",
      "11it [00:01, 10.25it/s]\n",
      "11it [00:01, 10.09it/s]\n",
      "11it [00:01, 10.04it/s]\n",
      "11it [00:01, 10.32it/s]\n",
      "11it [00:01, 10.29it/s]\n",
      "11it [00:01, 10.47it/s]\n",
      "11it [00:01, 10.28it/s]\n",
      "11it [00:01,  9.03it/s]\n",
      "11it [00:01, 10.54it/s]\n",
      "11it [00:01, 10.07it/s]\n",
      "11it [00:01, 10.58it/s]\n",
      "11it [00:01,  9.92it/s]\n",
      "11it [00:01,  9.44it/s]\n",
      "11it [00:01, 10.51it/s]\n",
      "11it [00:01,  9.80it/s]\n",
      "11it [00:01, 10.82it/s]\n",
      "11it [00:01, 10.00it/s]\n",
      "11it [00:01, 10.21it/s]\n",
      "11it [00:01, 10.43it/s]\n",
      "11it [00:01,  9.35it/s]\n",
      "11it [00:01, 10.42it/s]\n",
      "11it [00:01,  9.73it/s]\n",
      "11it [00:01, 10.02it/s]\n",
      "11it [00:01, 10.52it/s]\n",
      "11it [00:01,  9.88it/s]\n",
      "11it [00:01, 10.38it/s]\n",
      "11it [00:01, 10.05it/s]\n",
      "11it [00:01, 10.49it/s]\n",
      "11it [00:01,  9.88it/s]\n",
      "11it [00:01,  9.56it/s]\n",
      "11it [00:01, 10.67it/s]\n",
      "11it [00:01, 10.02it/s]\n",
      "11it [00:01,  9.53it/s]\n",
      "11it [00:01, 10.26it/s]\n",
      "11it [00:01,  9.80it/s]\n",
      "11it [00:01,  9.82it/s]\n"
     ]
    },
    {
     "name": "stdout",
     "output_type": "stream",
     "text": [
      "[ 5.42286162  6.34682506  4.56225915  1.97944491  1.45026573  4.66701976\n",
      "  3.57039168  6.74198239  3.0409327   3.62953544  2.23565365  3.99132881\n",
      "  1.95577031  5.91940649  4.85333419  2.9162605   2.82843951  3.48762378\n",
      "  3.15607883  5.81673425  4.47755191  2.38966318  2.32578157 -0.198807\n",
      " -0.39726732  3.32291814  2.04770937  1.91394592  2.99830676  6.10382976\n",
      "  3.59777579  3.77374194]\n"
     ]
    },
    {
     "name": "stderr",
     "output_type": "stream",
     "text": [
      "11it [00:01,  9.93it/s]"
     ]
    },
    {
     "name": "stdout",
     "output_type": "stream",
     "text": [
      "CPU times: total: 1min 49s\n",
      "Wall time: 1min 52s\n"
     ]
    },
    {
     "name": "stderr",
     "output_type": "stream",
     "text": [
      "\n"
     ]
    }
   ],
   "source": [
    "%%time\n",
    "TI_approximated_eigenvalue = get_approximated_eigenvalue_of_hamiltonian(transverse_ising_4_qubits, \"full\")"
   ]
  },
  {
   "cell_type": "code",
   "execution_count": 40,
   "id": "2f902eaa",
   "metadata": {},
   "outputs": [
    {
     "name": "stdout",
     "output_type": "stream",
     "text": [
      "[(-1.9994855800333675+0j), (-1.9080638482930956+0j), (-1.8497137109270194+0j), (-1.7583827504312988+0j), (-0.5462047134056278+0j), (-0.47710503946487287+0j), (-0.31907768442618767+0j), (-0.2505930484227001+0j), (0.14239915569453057+0j), (0.20992649961322052+0j), (0.2757654176709828+0j), (0.3444947223438019+0j), (1.6816520928402046+0j), (1.6958488386667439+0j), (2.3718326043433704+0j), (2.3867070442313216+0j)]\n",
      "Exact Eigenvalue:\n",
      "(-1.9994855800333675+0j)\n",
      "\n",
      "Approximated Eigenvalue:\n",
      "1.1125465522100408\n",
      "\n",
      "Approximation Error\n",
      "0.4435836080440877\n"
     ]
    },
    {
     "data": {
      "image/png": "[encoded data removed]",
      "text/plain": [
       "<Figure size 432x288 with 1 Axes>"
      ]
     },
     "metadata": {
      "needs_background": "light"
     },
     "output_type": "display_data"
    }
   ],
   "source": [
    "compare_exact_and_approximated_eigenvalue(transverse_ising_4_qubits, TI_approximated_eigenvalue)"
   ]
  },
  {
   "cell_type": "markdown",
   "id": "cbf062b7",
   "metadata": {},
   "source": [
    "##  Transverse Ising Model 3 qubits"
   ]
  },
  {
   "cell_type": "code",
   "execution_count": 41,
   "id": "ff246ff1",
   "metadata": {},
   "outputs": [],
   "source": [
    "QUBITS_NUM = 3 \n",
    "N = 2**QUBITS_NUM\n",
    "\n",
    "NUM_SHOTS = 1024\n",
    "NUM_ITERATIONS = 100\n",
    "\n",
    "CIRCUIT_DEPTH = 3\n",
    "PARAMS_NUM = 2*QUBITS_NUM*(CIRCUIT_DEPTH+1)"
   ]
  },
  {
   "cell_type": "code",
   "execution_count": 42,
   "id": "8dd976ef",
   "metadata": {},
   "outputs": [],
   "source": [
    "from qiskit.opflow import X, Z, I\n",
    "\n",
    "transverse_ising_3_qubits = 0.0 * (I^I^I) \\\n",
    "                    + 0.012764169333459807 * (X^I^I) \\\n",
    "                    + 0.7691573729160869 * (I^X^I) \\\n",
    "                    + 0.398094746026449 * (Z^Z^I) \\\n",
    "                    + 0.15250261906586637 * (I^I^X) \\\n",
    "                    + 0.2094051920882264 * (Z^I^Z) \\\n",
    "                    + 0.5131291860752999 * (I^Z^Z)"
   ]
  },
  {
   "cell_type": "markdown",
   "id": "e37dd875",
   "metadata": {},
   "source": [
    "#### Linear Entangelment"
   ]
  },
  {
   "cell_type": "code",
   "execution_count": 43,
   "id": "7ffc0e36",
   "metadata": {},
   "outputs": [
    {
     "name": "stderr",
     "output_type": "stream",
     "text": [
      "7it [00:00, 12.74it/s]\n",
      "7it [00:00, 13.49it/s]\n",
      "7it [00:00, 13.61it/s]\n",
      "7it [00:00, 12.97it/s]\n",
      "7it [00:00, 13.35it/s]\n",
      "7it [00:00, 12.92it/s]\n",
      "7it [00:00, 14.20it/s]\n",
      "7it [00:00, 13.46it/s]\n",
      "7it [00:00, 12.76it/s]\n",
      "7it [00:00, 13.84it/s]\n",
      "7it [00:00, 11.95it/s]\n",
      "7it [00:00, 12.86it/s]\n",
      "7it [00:00, 13.18it/s]\n",
      "7it [00:00, 12.64it/s]\n",
      "7it [00:00, 14.54it/s]\n",
      "7it [00:00, 13.75it/s]\n",
      "7it [00:00, 13.41it/s]\n",
      "7it [00:00, 13.54it/s]\n",
      "7it [00:00, 14.16it/s]\n",
      "7it [00:00, 13.14it/s]\n",
      "7it [00:00, 12.27it/s]\n",
      "7it [00:00, 13.28it/s]\n",
      "7it [00:00, 12.09it/s]\n",
      "7it [00:00, 13.58it/s]\n",
      "7it [00:00, 12.44it/s]\n",
      "7it [00:00, 13.47it/s]\n",
      "7it [00:00, 12.96it/s]\n",
      "7it [00:00, 14.76it/s]\n",
      "7it [00:00, 13.19it/s]\n",
      "7it [00:00, 13.01it/s]\n",
      "7it [00:00, 13.14it/s]\n",
      "7it [00:00, 13.55it/s]\n",
      "7it [00:00, 14.11it/s]\n",
      "7it [00:00, 13.47it/s]\n",
      "7it [00:00, 12.92it/s]\n",
      "7it [00:00, 12.66it/s]\n",
      "7it [00:00, 12.50it/s]\n",
      "7it [00:00, 14.04it/s]\n",
      "7it [00:00, 12.80it/s]\n",
      "7it [00:00, 12.90it/s]\n",
      "7it [00:00, 12.63it/s]\n",
      "7it [00:00, 13.43it/s]\n",
      "7it [00:00, 16.30it/s]\n",
      "7it [00:00, 12.81it/s]\n",
      "7it [00:00, 13.08it/s]\n",
      "7it [00:00, 13.32it/s]\n",
      "7it [00:00, 14.04it/s]\n",
      "7it [00:00, 12.80it/s]\n",
      "7it [00:00, 12.01it/s]\n",
      "7it [00:00, 12.18it/s]\n",
      "7it [00:00, 13.33it/s]\n",
      "7it [00:00, 12.59it/s]\n",
      "7it [00:00, 13.49it/s]\n",
      "7it [00:00, 13.32it/s]\n",
      "7it [00:00, 13.05it/s]\n",
      "7it [00:00, 13.39it/s]\n",
      "7it [00:00, 11.56it/s]\n",
      "7it [00:00, 13.17it/s]\n",
      "7it [00:00, 13.31it/s]\n",
      "7it [00:00, 12.19it/s]\n",
      "7it [00:00, 12.92it/s]\n",
      "7it [00:00, 13.26it/s]\n",
      "7it [00:00, 12.73it/s]\n",
      "7it [00:00, 13.35it/s]\n",
      "7it [00:00, 13.19it/s]\n",
      "7it [00:00, 12.78it/s]\n",
      "7it [00:00, 11.86it/s]\n",
      "7it [00:00, 14.23it/s]\n",
      "7it [00:00, 13.13it/s]\n",
      "7it [00:00, 12.50it/s]\n",
      "7it [00:00, 13.47it/s]\n",
      "7it [00:00, 12.88it/s]\n",
      "7it [00:00, 13.77it/s]\n",
      "7it [00:00, 13.62it/s]\n",
      "7it [00:00, 12.88it/s]\n",
      "7it [00:00, 12.81it/s]\n",
      "7it [00:00, 14.61it/s]\n",
      "7it [00:00, 12.86it/s]\n",
      "7it [00:00, 12.57it/s]\n",
      "7it [00:00, 13.68it/s]\n",
      "7it [00:00, 13.52it/s]\n",
      "7it [00:00, 13.63it/s]\n",
      "7it [00:00, 12.55it/s]\n",
      "7it [00:00, 13.33it/s]\n",
      "7it [00:00, 13.60it/s]\n",
      "7it [00:00, 14.40it/s]\n",
      "7it [00:00, 12.83it/s]\n",
      "7it [00:00, 13.15it/s]\n",
      "7it [00:00, 13.97it/s]\n",
      "7it [00:00, 12.77it/s]\n",
      "7it [00:00, 11.14it/s]\n",
      "7it [00:00, 12.91it/s]\n",
      "7it [00:00, 13.05it/s]\n",
      "7it [00:00, 13.42it/s]\n",
      "7it [00:00, 14.74it/s]\n",
      "7it [00:00, 12.41it/s]\n",
      "7it [00:00, 13.69it/s]\n",
      "7it [00:00, 14.33it/s]\n",
      "7it [00:00, 12.77it/s]\n",
      "7it [00:00, 12.84it/s]\n"
     ]
    },
    {
     "name": "stdout",
     "output_type": "stream",
     "text": [
      "[ 3.39779895  4.69611361  3.66692014  1.64968289  5.93772708  6.61160812\n",
      "  4.842296    5.4992957   2.84902111  5.58207926  7.74883777  1.17159546\n",
      "  1.26312971  1.30161842  0.57139543  2.98995223  4.7863365   3.51336954\n",
      "  3.33894531  0.0910044   5.12611065  0.41555384 -0.10150586  4.14764152]\n"
     ]
    },
    {
     "name": "stderr",
     "output_type": "stream",
     "text": [
      "7it [00:00, 12.92it/s]"
     ]
    },
    {
     "name": "stdout",
     "output_type": "stream",
     "text": [
      "CPU times: total: 53.2 s\n",
      "Wall time: 54.5 s\n"
     ]
    },
    {
     "name": "stderr",
     "output_type": "stream",
     "text": [
      "\n"
     ]
    }
   ],
   "source": [
    "%%time\n",
    "TI_approximated_eigenvalue = get_approximated_eigenvalue_of_hamiltonian(transverse_ising_3_qubits, \"linear\")"
   ]
  },
  {
   "cell_type": "code",
   "execution_count": 44,
   "id": "400315d0",
   "metadata": {},
   "outputs": [
    {
     "name": "stdout",
     "output_type": "stream",
     "text": [
      "[(-1.1327102067329746+0j), (-1.1089522226243493+0j), (-0.8673630797839832+0j), (-0.8433012058342556+0j), (0.5479228225821259+0j), (0.5543478038595204+0j), (1.4216636087077101+0j), (1.4283924798262082+0j)]\n",
      "Exact Eigenvalue:\n",
      "(-1.1327102067329746+0j)\n",
      "\n",
      "Approximated Eigenvalue:\n",
      "0.30749320900711763\n",
      "\n",
      "Approximation Error\n",
      "0.7285332054224121\n"
     ]
    },
    {
     "data": {
      "image/png": "[encoded data removed]",
      "text/plain": [
       "<Figure size 432x288 with 1 Axes>"
      ]
     },
     "metadata": {
      "needs_background": "light"
     },
     "output_type": "display_data"
    }
   ],
   "source": [
    "compare_exact_and_approximated_eigenvalue(transverse_ising_3_qubits, TI_approximated_eigenvalue)"
   ]
  },
  {
   "cell_type": "markdown",
   "id": "91d5d284",
   "metadata": {},
   "source": [
    "#### Full Entangelment"
   ]
  },
  {
   "cell_type": "code",
   "execution_count": 45,
   "id": "d43a0eb0",
   "metadata": {},
   "outputs": [
    {
     "name": "stderr",
     "output_type": "stream",
     "text": [
      "7it [00:00, 14.37it/s]\n",
      "7it [00:00, 13.43it/s]\n",
      "7it [00:00, 12.85it/s]\n",
      "7it [00:00, 13.18it/s]\n",
      "7it [00:00, 14.17it/s]\n",
      "7it [00:00, 12.16it/s]\n",
      "7it [00:00, 12.72it/s]\n",
      "7it [00:00, 13.85it/s]\n",
      "7it [00:00, 12.02it/s]\n",
      "7it [00:00, 12.77it/s]\n",
      "7it [00:00, 12.57it/s]\n",
      "7it [00:00, 13.05it/s]\n",
      "7it [00:00, 14.47it/s]\n",
      "7it [00:00, 12.54it/s]\n",
      "7it [00:00, 12.86it/s]\n",
      "7it [00:00, 12.11it/s]\n",
      "7it [00:00, 13.78it/s]\n",
      "7it [00:00, 13.18it/s]\n",
      "7it [00:00, 12.72it/s]\n",
      "7it [00:00, 12.41it/s]\n",
      "7it [00:00, 11.18it/s]\n",
      "7it [00:00, 12.68it/s]\n",
      "7it [00:00, 13.23it/s]\n",
      "7it [00:00, 13.81it/s]\n",
      "7it [00:00, 13.09it/s]\n",
      "7it [00:00, 12.71it/s]\n",
      "7it [00:00, 12.71it/s]\n",
      "7it [00:00, 14.42it/s]\n",
      "7it [00:00, 11.98it/s]\n",
      "7it [00:00, 13.32it/s]\n",
      "7it [00:00, 12.95it/s]\n",
      "7it [00:00, 13.69it/s]\n",
      "7it [00:00, 14.33it/s]\n",
      "7it [00:00, 12.86it/s]\n",
      "7it [00:00, 12.93it/s]\n",
      "7it [00:00, 13.42it/s]\n",
      "7it [00:00, 14.09it/s]\n",
      "7it [00:00, 12.97it/s]\n",
      "7it [00:00, 13.14it/s]\n",
      "7it [00:00, 14.55it/s]\n",
      "7it [00:00, 13.66it/s]\n",
      "7it [00:00, 12.99it/s]\n",
      "7it [00:00, 12.80it/s]\n",
      "7it [00:00, 12.85it/s]\n",
      "7it [00:00, 14.61it/s]\n",
      "7it [00:00, 12.77it/s]\n",
      "7it [00:00, 13.26it/s]\n",
      "7it [00:00, 13.14it/s]\n",
      "7it [00:00, 13.37it/s]\n",
      "7it [00:00, 13.87it/s]\n",
      "7it [00:00, 13.17it/s]\n",
      "7it [00:00, 12.80it/s]\n",
      "7it [00:00, 12.92it/s]\n",
      "7it [00:00, 11.18it/s]\n",
      "7it [00:00, 13.59it/s]\n",
      "7it [00:00, 13.27it/s]\n",
      "7it [00:00, 12.75it/s]\n",
      "7it [00:00, 12.70it/s]\n",
      "7it [00:00, 14.25it/s]\n",
      "7it [00:00, 13.12it/s]\n",
      "7it [00:00, 12.65it/s]\n",
      "7it [00:00, 13.08it/s]\n",
      "7it [00:00, 13.61it/s]\n",
      "7it [00:00, 13.78it/s]\n",
      "7it [00:00, 12.35it/s]\n",
      "7it [00:00, 13.31it/s]\n",
      "7it [00:00, 12.82it/s]\n",
      "7it [00:00, 14.29it/s]\n",
      "7it [00:00, 13.53it/s]\n",
      "7it [00:00, 12.84it/s]\n",
      "7it [00:00, 12.96it/s]\n",
      "7it [00:00, 13.17it/s]\n",
      "7it [00:00, 14.34it/s]\n",
      "7it [00:00, 13.35it/s]\n",
      "7it [00:00, 12.07it/s]\n",
      "7it [00:00, 13.12it/s]\n",
      "7it [00:00, 13.36it/s]\n",
      "7it [00:00, 14.29it/s]\n",
      "7it [00:00, 12.98it/s]\n",
      "7it [00:00, 12.56it/s]\n",
      "7it [00:00, 13.10it/s]\n",
      "7it [00:00, 13.07it/s]\n",
      "7it [00:00, 14.10it/s]\n",
      "7it [00:00, 12.77it/s]\n",
      "7it [00:00, 13.13it/s]\n",
      "7it [00:00, 13.03it/s]\n",
      "7it [00:00, 13.73it/s]\n",
      "7it [00:00, 13.66it/s]\n",
      "7it [00:00, 11.25it/s]\n",
      "7it [00:00, 13.20it/s]\n",
      "7it [00:00, 13.39it/s]\n",
      "7it [00:00, 12.47it/s]\n",
      "7it [00:00, 14.02it/s]\n",
      "7it [00:00, 13.59it/s]\n",
      "7it [00:00, 12.34it/s]\n",
      "7it [00:00, 12.98it/s]\n",
      "7it [00:00, 13.39it/s]\n",
      "7it [00:00, 14.33it/s]\n",
      "7it [00:00, 12.80it/s]\n",
      "7it [00:00, 12.46it/s]\n"
     ]
    },
    {
     "name": "stdout",
     "output_type": "stream",
     "text": [
      "[2.37880933 2.88353228 4.3854168  5.26343685 2.71286475 3.21942899\n",
      " 5.7153658  1.99958165 4.25083341 2.79425461 2.06832249 4.33877037\n",
      " 4.9295546  2.46609714 0.0356497  5.99452839 6.04134223 5.07814534\n",
      " 4.87514728 1.41448563 3.26197867 6.05880847 1.21245622 3.29250578]\n"
     ]
    },
    {
     "name": "stderr",
     "output_type": "stream",
     "text": [
      "7it [00:00, 12.89it/s]"
     ]
    },
    {
     "name": "stdout",
     "output_type": "stream",
     "text": [
      "CPU times: total: 53.8 s\n",
      "Wall time: 54.8 s\n"
     ]
    },
    {
     "name": "stderr",
     "output_type": "stream",
     "text": [
      "\n"
     ]
    }
   ],
   "source": [
    "%%time\n",
    "TI_approximated_eigenvalue = get_approximated_eigenvalue_of_hamiltonian(transverse_ising_3_qubits, \"full\")"
   ]
  },
  {
   "cell_type": "code",
   "execution_count": 46,
   "id": "39bdc045",
   "metadata": {},
   "outputs": [
    {
     "name": "stdout",
     "output_type": "stream",
     "text": [
      "[(-1.1327102067329746+0j), (-1.1089522226243493+0j), (-0.8673630797839832+0j), (-0.8433012058342556+0j), (0.5479228225821259+0j), (0.5543478038595204+0j), (1.4216636087077101+0j), (1.4283924798262082+0j)]\n",
      "Exact Eigenvalue:\n",
      "(-1.1327102067329746+0j)\n",
      "\n",
      "Approximated Eigenvalue:\n",
      "0.3106710508763552\n",
      "\n",
      "Approximation Error\n",
      "0.7257276847779011\n"
     ]
    },
    {
     "data": {
      "image/png": "[encoded data removed]",
      "text/plain": [
       "<Figure size 432x288 with 1 Axes>"
      ]
     },
     "metadata": {
      "needs_background": "light"
     },
     "output_type": "display_data"
    }
   ],
   "source": [
    "compare_exact_and_approximated_eigenvalue(transverse_ising_3_qubits, TI_approximated_eigenvalue)"
   ]
  },
  {
   "cell_type": "markdown",
   "id": "09be5f46",
   "metadata": {},
   "source": [
    "##  Transverse Ising Model 2 qubits"
   ]
  },
  {
   "cell_type": "code",
   "execution_count": 47,
   "id": "d8a0c4e6",
   "metadata": {},
   "outputs": [],
   "source": [
    "QUBITS_NUM = 2 \n",
    "N = 2**QUBITS_NUM\n",
    "\n",
    "NUM_SHOTS = 1024\n",
    "NUM_ITERATIONS = 100\n",
    "\n",
    "CIRCUIT_DEPTH = 3\n",
    "PARAMS_NUM = 2*QUBITS_NUM*(CIRCUIT_DEPTH+1)"
   ]
  },
  {
   "cell_type": "code",
   "execution_count": 48,
   "id": "58136107",
   "metadata": {},
   "outputs": [],
   "source": [
    "transverse_ising_2_qubits = 0.13755727363376802 * (I^X) \\\n",
    "                            + 0.43305656297810435 * (X^I) \\\n",
    "                            + 0.8538597608997253 * (Z^Z)"
   ]
  },
  {
   "cell_type": "markdown",
   "id": "6428a32d",
   "metadata": {},
   "source": [
    "#### Linear Entangelment"
   ]
  },
  {
   "cell_type": "code",
   "execution_count": 49,
   "id": "d9154eaa",
   "metadata": {},
   "outputs": [
    {
     "name": "stderr",
     "output_type": "stream",
     "text": [
      "3it [00:00, 16.56it/s]\n",
      "3it [00:00, 20.65it/s]\n",
      "3it [00:00, 20.16it/s]\n",
      "3it [00:00, 17.07it/s]\n",
      "3it [00:00, 18.62it/s]\n",
      "3it [00:00, 21.88it/s]\n",
      "3it [00:00, 20.91it/s]\n",
      "3it [00:00, 17.62it/s]\n",
      "3it [00:00, 16.46it/s]\n",
      "3it [00:00, 19.50it/s]\n",
      "3it [00:00, 20.43it/s]\n",
      "3it [00:00, 15.22it/s]\n",
      "3it [00:00, 17.23it/s]\n",
      "3it [00:00, 19.20it/s]\n",
      "3it [00:00, 20.45it/s]\n",
      "3it [00:00, 19.98it/s]\n",
      "3it [00:00, 15.49it/s]\n",
      "3it [00:00, 19.28it/s]\n",
      "3it [00:00, 20.79it/s]\n",
      "3it [00:00, 19.43it/s]\n",
      "3it [00:00, 14.82it/s]\n",
      "3it [00:00, 19.43it/s]\n",
      "3it [00:00, 22.00it/s]\n",
      "3it [00:00, 21.49it/s]\n",
      "3it [00:00, 17.40it/s]\n",
      "3it [00:00, 16.51it/s]\n",
      "3it [00:00, 17.14it/s]\n",
      "3it [00:00, 19.73it/s]\n",
      "3it [00:00, 18.51it/s]\n",
      "3it [00:00, 15.67it/s]\n",
      "3it [00:00, 19.33it/s]\n",
      "3it [00:00, 21.63it/s]\n",
      "3it [00:00, 21.72it/s]\n",
      "3it [00:00, 19.63it/s]\n",
      "3it [00:00, 20.13it/s]\n",
      "3it [00:00, 21.80it/s]\n",
      "3it [00:00, 19.99it/s]\n",
      "3it [00:00, 21.78it/s]\n",
      "3it [00:00, 20.82it/s]\n",
      "3it [00:00, 19.80it/s]\n",
      "3it [00:00, 21.13it/s]\n",
      "3it [00:00, 20.73it/s]\n",
      "3it [00:00, 16.06it/s]\n",
      "3it [00:00, 16.00it/s]\n",
      "3it [00:00, 20.49it/s]\n",
      "3it [00:00, 17.56it/s]\n",
      "3it [00:00, 14.27it/s]\n",
      "3it [00:00, 15.63it/s]\n",
      "3it [00:00, 16.94it/s]\n",
      "3it [00:00, 15.17it/s]\n",
      "3it [00:00, 19.55it/s]\n",
      "3it [00:00, 20.02it/s]\n",
      "3it [00:00, 20.06it/s]\n",
      "3it [00:00, 18.72it/s]\n",
      "3it [00:00, 22.06it/s]\n",
      "3it [00:00, 20.72it/s]\n",
      "3it [00:00, 21.48it/s]\n",
      "3it [00:00, 20.39it/s]\n",
      "3it [00:00, 18.06it/s]\n",
      "3it [00:00, 20.82it/s]\n",
      "3it [00:00, 20.05it/s]\n",
      "3it [00:00, 20.58it/s]\n",
      "3it [00:00, 20.75it/s]\n",
      "3it [00:00, 20.35it/s]\n",
      "3it [00:00, 18.88it/s]\n",
      "3it [00:00, 21.02it/s]\n",
      "3it [00:00, 21.36it/s]\n",
      "3it [00:00, 20.11it/s]\n",
      "3it [00:00, 17.37it/s]\n",
      "3it [00:00, 21.91it/s]\n",
      "3it [00:00, 19.89it/s]\n",
      "3it [00:00, 19.44it/s]\n",
      "3it [00:00, 18.07it/s]\n",
      "3it [00:00, 19.12it/s]\n",
      "3it [00:00, 22.04it/s]\n",
      "3it [00:00, 21.03it/s]\n",
      "3it [00:00, 20.93it/s]\n",
      "3it [00:00, 18.88it/s]\n",
      "3it [00:00, 19.90it/s]\n",
      "3it [00:00, 20.40it/s]\n",
      "3it [00:00, 21.62it/s]\n",
      "3it [00:00, 18.61it/s]\n",
      "3it [00:00, 20.99it/s]\n",
      "3it [00:00, 18.02it/s]\n",
      "3it [00:00, 13.19it/s]\n",
      "3it [00:00, 18.25it/s]\n",
      "3it [00:00, 20.21it/s]\n",
      "3it [00:00, 19.81it/s]\n",
      "3it [00:00, 19.81it/s]\n",
      "3it [00:00, 19.23it/s]\n",
      "3it [00:00, 18.31it/s]\n",
      "3it [00:00, 21.73it/s]\n",
      "3it [00:00, 19.52it/s]\n",
      "3it [00:00, 21.06it/s]\n",
      "3it [00:00, 17.50it/s]\n",
      "3it [00:00, 19.71it/s]\n",
      "3it [00:00, 19.36it/s]\n",
      "3it [00:00, 15.65it/s]\n",
      "3it [00:00, 19.93it/s]\n",
      "3it [00:00, 22.11it/s]\n"
     ]
    },
    {
     "name": "stdout",
     "output_type": "stream",
     "text": [
      "[3.70940039 0.07023641 5.63614769 5.78931634 3.56044473 2.86874373\n",
      " 0.99142806 7.24674658 4.70994386 5.11635211 2.40755338 0.77225073\n",
      " 1.16169782 4.20641447 4.36957418 6.05332665]\n"
     ]
    },
    {
     "name": "stderr",
     "output_type": "stream",
     "text": [
      "3it [00:00, 19.18it/s]"
     ]
    },
    {
     "name": "stdout",
     "output_type": "stream",
     "text": [
      "CPU times: total: 16.2 s\n",
      "Wall time: 16.7 s\n"
     ]
    },
    {
     "name": "stderr",
     "output_type": "stream",
     "text": [
      "\n"
     ]
    }
   ],
   "source": [
    "%%time\n",
    "TI_approximated_eigenvalue = get_approximated_eigenvalue_of_hamiltonian(transverse_ising_2_qubits, \"linear\")"
   ]
  },
  {
   "cell_type": "code",
   "execution_count": 50,
   "id": "88b56e14",
   "metadata": {},
   "outputs": [
    {
     "name": "stdout",
     "output_type": "stream",
     "text": [
      "[(-1.0269745088446245+0j), (-0.9035465241407018+0j), (0.9035465241407012+0j), (1.0269745088446243+0j)]\n",
      "Exact Eigenvalue:\n",
      "(-1.0269745088446245+0j)\n",
      "\n",
      "Approximated Eigenvalue:\n",
      "-0.27323975521480925\n",
      "\n",
      "Approximation Error\n",
      "0.7339371592365893\n"
     ]
    },
    {
     "data": {
      "image/png": "[encoded data removed]",
      "text/plain": [
       "<Figure size 432x288 with 1 Axes>"
      ]
     },
     "metadata": {
      "needs_background": "light"
     },
     "output_type": "display_data"
    }
   ],
   "source": [
    "compare_exact_and_approximated_eigenvalue(transverse_ising_2_qubits, TI_approximated_eigenvalue)"
   ]
  },
  {
   "cell_type": "markdown",
   "id": "49bb4028",
   "metadata": {},
   "source": [
    "#### Full Entangelment"
   ]
  },
  {
   "cell_type": "code",
   "execution_count": 51,
   "id": "c06487da",
   "metadata": {},
   "outputs": [
    {
     "name": "stderr",
     "output_type": "stream",
     "text": [
      "3it [00:00, 14.85it/s]\n",
      "3it [00:00, 21.39it/s]\n",
      "3it [00:00, 20.02it/s]\n",
      "3it [00:00, 16.69it/s]\n",
      "3it [00:00, 14.49it/s]\n",
      "3it [00:00, 15.54it/s]\n",
      "3it [00:00, 17.13it/s]\n",
      "3it [00:00, 17.65it/s]\n",
      "3it [00:00, 18.66it/s]\n",
      "3it [00:00, 15.04it/s]\n",
      "3it [00:00, 21.30it/s]\n",
      "3it [00:00, 19.93it/s]\n",
      "3it [00:00, 15.95it/s]\n",
      "3it [00:00, 19.40it/s]\n",
      "3it [00:00, 19.65it/s]\n",
      "3it [00:00, 20.62it/s]\n",
      "3it [00:00, 16.79it/s]\n",
      "3it [00:00, 14.98it/s]\n",
      "3it [00:00, 19.55it/s]\n",
      "3it [00:00, 19.43it/s]\n",
      "3it [00:00, 15.74it/s]\n",
      "3it [00:00, 17.20it/s]\n",
      "3it [00:00, 19.05it/s]\n",
      "3it [00:00, 20.52it/s]\n",
      "3it [00:00, 16.58it/s]\n",
      "3it [00:00, 17.85it/s]\n",
      "3it [00:00, 20.51it/s]\n",
      "3it [00:00, 21.20it/s]\n",
      "3it [00:00, 20.66it/s]\n",
      "3it [00:00, 14.99it/s]\n",
      "3it [00:00, 16.78it/s]\n",
      "3it [00:00, 22.00it/s]\n",
      "3it [00:00, 18.26it/s]\n",
      "3it [00:00, 17.48it/s]\n",
      "3it [00:00, 18.09it/s]\n",
      "3it [00:00, 19.98it/s]\n",
      "3it [00:00, 20.41it/s]\n",
      "3it [00:00, 18.40it/s]\n",
      "3it [00:00, 21.88it/s]\n",
      "3it [00:00, 19.69it/s]\n",
      "3it [00:00, 20.40it/s]\n",
      "3it [00:00, 18.67it/s]\n",
      "3it [00:00, 20.37it/s]\n",
      "3it [00:00, 20.41it/s]\n",
      "3it [00:00, 20.89it/s]\n",
      "3it [00:00, 19.97it/s]\n",
      "3it [00:00, 20.84it/s]\n",
      "3it [00:00, 20.19it/s]\n",
      "3it [00:00, 20.27it/s]\n",
      "3it [00:00, 20.64it/s]\n",
      "3it [00:00, 18.01it/s]\n",
      "3it [00:00, 21.16it/s]\n",
      "3it [00:00, 20.52it/s]\n",
      "3it [00:00, 21.31it/s]\n",
      "3it [00:00, 18.91it/s]\n",
      "3it [00:00, 20.89it/s]\n",
      "3it [00:00, 19.59it/s]\n",
      "3it [00:00, 21.17it/s]\n",
      "3it [00:00, 15.84it/s]\n",
      "3it [00:00, 20.71it/s]\n",
      "3it [00:00, 20.79it/s]\n",
      "3it [00:00, 20.70it/s]\n",
      "3it [00:00, 18.64it/s]\n",
      "3it [00:00, 20.77it/s]\n",
      "3it [00:00, 19.36it/s]\n",
      "3it [00:00, 20.16it/s]\n",
      "3it [00:00, 19.04it/s]\n",
      "3it [00:00, 16.94it/s]\n",
      "3it [00:00, 21.69it/s]\n",
      "3it [00:00, 18.23it/s]\n",
      "3it [00:00, 21.83it/s]\n",
      "3it [00:00, 14.99it/s]\n",
      "3it [00:00, 20.25it/s]\n",
      "3it [00:00, 20.14it/s]\n",
      "3it [00:00, 21.64it/s]\n",
      "3it [00:00, 18.01it/s]\n",
      "3it [00:00, 20.99it/s]\n",
      "3it [00:00, 20.08it/s]\n",
      "3it [00:00, 22.54it/s]\n",
      "3it [00:00, 17.70it/s]\n",
      "3it [00:00, 18.24it/s]\n",
      "3it [00:00, 21.04it/s]\n",
      "3it [00:00, 22.05it/s]\n",
      "3it [00:00, 17.59it/s]\n",
      "3it [00:00, 20.10it/s]\n",
      "3it [00:00, 21.21it/s]\n",
      "3it [00:00, 21.22it/s]\n",
      "3it [00:00, 19.17it/s]\n",
      "3it [00:00, 20.41it/s]\n",
      "3it [00:00, 20.85it/s]\n",
      "3it [00:00, 20.76it/s]\n",
      "3it [00:00, 16.64it/s]\n",
      "3it [00:00, 19.38it/s]\n",
      "3it [00:00, 20.67it/s]\n",
      "3it [00:00, 19.99it/s]\n",
      "3it [00:00, 14.48it/s]\n",
      "3it [00:00, 19.00it/s]\n",
      "3it [00:00, 20.81it/s]\n",
      "3it [00:00, 21.59it/s]\n",
      "3it [00:00, 14.91it/s]\n"
     ]
    },
    {
     "name": "stdout",
     "output_type": "stream",
     "text": [
      "[3.50985829 5.09046256 5.54589682 6.02130931 2.56701381 5.38651796\n",
      " 5.72728002 5.18236757 2.01938393 3.78072078 3.13863173 0.09950308\n",
      " 2.51104582 1.71052576 4.08508188 3.00034567]\n"
     ]
    },
    {
     "name": "stderr",
     "output_type": "stream",
     "text": [
      "3it [00:00, 18.99it/s]"
     ]
    },
    {
     "name": "stdout",
     "output_type": "stream",
     "text": [
      "CPU times: total: 16.3 s\n",
      "Wall time: 16.9 s\n"
     ]
    },
    {
     "name": "stderr",
     "output_type": "stream",
     "text": [
      "\n"
     ]
    }
   ],
   "source": [
    "%%time\n",
    "TI_approximated_eigenvalue = get_approximated_eigenvalue_of_hamiltonian(transverse_ising_2_qubits, \"full\")"
   ]
  },
  {
   "cell_type": "code",
   "execution_count": 52,
   "id": "65ad38bc",
   "metadata": {},
   "outputs": [
    {
     "name": "stdout",
     "output_type": "stream",
     "text": [
      "[(-1.0269745088446245+0j), (-0.9035465241407018+0j), (0.9035465241407012+0j), (1.0269745088446243+0j)]\n",
      "Exact Eigenvalue:\n",
      "(-1.0269745088446245+0j)\n",
      "\n",
      "Approximated Eigenvalue:\n",
      "-0.278242839751331\n",
      "\n",
      "Approximation Error\n",
      "0.729065485700943\n"
     ]
    },
    {
     "data": {
      "image/png": "[encoded data removed]",
      "text/plain": [
       "<Figure size 432x288 with 1 Axes>"
      ]
     },
     "metadata": {
      "needs_background": "light"
     },
     "output_type": "display_data"
    }
   ],
   "source": [
    "compare_exact_and_approximated_eigenvalue(transverse_ising_2_qubits, TI_approximated_eigenvalue)"
   ]
  },
  {
   "cell_type": "markdown",
   "id": "e9cf7ccb",
   "metadata": {},
   "source": [
    "## H2 Molecule 2 qubits"
   ]
  },
  {
   "cell_type": "code",
   "execution_count": 53,
   "id": "2909cd68",
   "metadata": {},
   "outputs": [],
   "source": [
    "from qiskit.opflow import X, Z, I\n",
    "\n",
    "H2_molecule_Hamiltonian_2_qubits = -0.5053051899926562*(I^I) + \\\n",
    "                            -0.3277380754984016*(Z^I) + \\\n",
    "                            0.15567463610622564*(Z^Z) + \\\n",
    "                            -0.3277380754984016*(I^Z)"
   ]
  },
  {
   "cell_type": "markdown",
   "id": "a3af5292",
   "metadata": {},
   "source": [
    "#### Linear Entangelment"
   ]
  },
  {
   "cell_type": "code",
   "execution_count": 54,
   "id": "6fe25ff3",
   "metadata": {},
   "outputs": [
    {
     "name": "stderr",
     "output_type": "stream",
     "text": [
      "4it [00:00, 16.72it/s]\n",
      "4it [00:00, 21.16it/s]\n",
      "4it [00:00, 19.92it/s]\n",
      "4it [00:00, 15.23it/s]\n",
      "4it [00:00, 21.14it/s]\n",
      "4it [00:00, 20.91it/s]\n",
      "4it [00:00, 14.94it/s]\n",
      "4it [00:00, 12.41it/s]\n",
      "4it [00:00, 15.30it/s]\n",
      "4it [00:00, 20.15it/s]\n",
      "4it [00:00, 20.90it/s]\n",
      "4it [00:00, 17.04it/s]\n",
      "4it [00:00, 20.50it/s]\n",
      "4it [00:00, 21.03it/s]\n",
      "4it [00:00, 17.65it/s]\n",
      "4it [00:00, 18.69it/s]\n",
      "4it [00:00, 20.41it/s]\n",
      "4it [00:00, 16.56it/s]\n",
      "4it [00:00, 19.82it/s]\n",
      "4it [00:00, 20.23it/s]\n",
      "4it [00:00, 16.92it/s]\n",
      "4it [00:00, 19.49it/s]\n",
      "4it [00:00, 19.99it/s]\n",
      "4it [00:00, 19.68it/s]\n",
      "4it [00:00, 16.41it/s]\n",
      "4it [00:00, 19.34it/s]\n",
      "4it [00:00, 19.98it/s]\n",
      "4it [00:00, 16.02it/s]\n",
      "4it [00:00, 18.62it/s]\n",
      "4it [00:00, 19.49it/s]\n",
      "4it [00:00, 21.06it/s]\n",
      "4it [00:00, 16.12it/s]\n",
      "4it [00:00, 20.41it/s]\n",
      "4it [00:00, 20.08it/s]\n",
      "4it [00:00, 15.15it/s]\n",
      "4it [00:00, 19.66it/s]\n",
      "4it [00:00, 21.04it/s]\n",
      "4it [00:00, 16.55it/s]\n",
      "4it [00:00, 18.73it/s]\n",
      "4it [00:00, 22.00it/s]\n",
      "4it [00:00, 18.29it/s]\n",
      "4it [00:00, 17.12it/s]\n",
      "4it [00:00, 20.07it/s]\n",
      "4it [00:00, 20.11it/s]\n",
      "4it [00:00, 16.77it/s]\n",
      "4it [00:00, 19.36it/s]\n",
      "4it [00:00, 19.89it/s]\n",
      "4it [00:00, 16.58it/s]\n",
      "4it [00:00, 18.45it/s]\n",
      "4it [00:00, 19.33it/s]\n",
      "4it [00:00, 18.44it/s]\n",
      "4it [00:00, 14.55it/s]\n",
      "4it [00:00, 19.22it/s]\n",
      "4it [00:00, 18.17it/s]\n",
      "4it [00:00, 16.34it/s]\n",
      "4it [00:00, 19.14it/s]\n",
      "4it [00:00, 15.22it/s]\n",
      "4it [00:00, 19.61it/s]\n",
      "4it [00:00, 20.17it/s]\n",
      "4it [00:00, 14.12it/s]\n",
      "4it [00:00, 20.56it/s]\n",
      "4it [00:00, 20.89it/s]\n",
      "4it [00:00, 13.38it/s]\n",
      "4it [00:00, 21.17it/s]\n",
      "4it [00:00, 21.78it/s]\n",
      "4it [00:00, 15.90it/s]\n",
      "4it [00:00, 19.26it/s]\n",
      "4it [00:00, 19.20it/s]\n",
      "4it [00:00, 15.41it/s]\n",
      "4it [00:00, 19.26it/s]\n",
      "4it [00:00, 19.52it/s]\n",
      "4it [00:00, 15.04it/s]\n",
      "4it [00:00, 19.61it/s]\n",
      "4it [00:00, 19.15it/s]\n",
      "4it [00:00, 15.02it/s]\n",
      "4it [00:00, 19.12it/s]\n",
      "4it [00:00, 19.20it/s]\n",
      "4it [00:00, 15.29it/s]\n",
      "4it [00:00, 19.31it/s]\n",
      "4it [00:00, 20.72it/s]\n",
      "4it [00:00, 17.05it/s]\n",
      "4it [00:00, 20.00it/s]\n",
      "4it [00:00, 19.08it/s]\n",
      "4it [00:00, 14.80it/s]\n",
      "4it [00:00, 20.42it/s]\n",
      "4it [00:00, 20.33it/s]\n",
      "4it [00:00, 16.60it/s]\n",
      "4it [00:00, 18.18it/s]\n",
      "4it [00:00, 21.35it/s]\n",
      "4it [00:00, 20.50it/s]\n",
      "4it [00:00, 15.46it/s]\n",
      "4it [00:00, 19.18it/s]\n",
      "4it [00:00, 18.98it/s]\n",
      "4it [00:00, 16.74it/s]\n",
      "4it [00:00, 19.88it/s]\n",
      "4it [00:00, 18.97it/s]\n",
      "4it [00:00, 16.02it/s]\n",
      "4it [00:00, 20.71it/s]\n",
      "4it [00:00, 18.07it/s]\n",
      "4it [00:00, 17.43it/s]\n"
     ]
    },
    {
     "name": "stdout",
     "output_type": "stream",
     "text": [
      "[3.22444384 5.3329272  1.05405819 2.61925244 6.12742873 5.82906007\n",
      " 4.16057073 2.83183673 0.13497428 1.07134497 1.09973217 3.86216871\n",
      " 3.41318508 3.18931716 3.05711916 1.72871249]\n"
     ]
    },
    {
     "name": "stderr",
     "output_type": "stream",
     "text": [
      "4it [00:00, 19.76it/s]"
     ]
    },
    {
     "name": "stdout",
     "output_type": "stream",
     "text": [
      "CPU times: total: 21.9 s\n",
      "Wall time: 23 s\n"
     ]
    },
    {
     "name": "stderr",
     "output_type": "stream",
     "text": [
      "\n"
     ]
    }
   ],
   "source": [
    "%%time\n",
    "H2_approximated_eigenvalue = get_approximated_eigenvalue_of_hamiltonian(H2_molecule_Hamiltonian_2_qubits, \"linear\")"
   ]
  },
  {
   "cell_type": "code",
   "execution_count": 55,
   "id": "692be58b",
   "metadata": {},
   "outputs": [
    {
     "name": "stdout",
     "output_type": "stream",
     "text": [
      "[(-1.0051067048832336+0j), (-0.6609798260988818+0j), (-0.6609798260988818+0j), (0.30584559711037274+0j)]\n",
      "Exact Eigenvalue:\n",
      "(-1.0051067048832336+0j)\n",
      "\n",
      "Approximated Eigenvalue:\n",
      "-0.9908481207540387\n",
      "\n",
      "Approximation Error\n",
      "0.014186139700313072\n"
     ]
    },
    {
     "data": {
      "image/png": "[encoded data removed]",
      "text/plain": [
       "<Figure size 432x288 with 1 Axes>"
      ]
     },
     "metadata": {
      "needs_background": "light"
     },
     "output_type": "display_data"
    }
   ],
   "source": [
    "compare_exact_and_approximated_eigenvalue(H2_molecule_Hamiltonian_2_qubits, H2_approximated_eigenvalue)"
   ]
  },
  {
   "cell_type": "markdown",
   "id": "46aa3a97",
   "metadata": {},
   "source": [
    "#### Full Entangelment"
   ]
  },
  {
   "cell_type": "code",
   "execution_count": 56,
   "id": "c027435b",
   "metadata": {},
   "outputs": [
    {
     "name": "stderr",
     "output_type": "stream",
     "text": [
      "4it [00:00, 15.69it/s]\n",
      "4it [00:00, 19.02it/s]\n",
      "4it [00:00, 19.96it/s]\n",
      "4it [00:00, 15.70it/s]\n",
      "4it [00:00, 21.11it/s]\n",
      "4it [00:00, 20.31it/s]\n",
      "4it [00:00, 15.83it/s]\n",
      "4it [00:00, 20.07it/s]\n",
      "4it [00:00, 20.74it/s]\n",
      "4it [00:00, 15.28it/s]\n",
      "4it [00:00, 20.31it/s]\n",
      "4it [00:00, 20.93it/s]\n",
      "4it [00:00, 17.28it/s]\n",
      "4it [00:00, 17.59it/s]\n",
      "4it [00:00, 20.55it/s]\n",
      "4it [00:00, 17.07it/s]\n",
      "4it [00:00, 18.10it/s]\n",
      "4it [00:00, 20.69it/s]\n",
      "4it [00:00, 20.67it/s]\n",
      "4it [00:00, 16.35it/s]\n",
      "4it [00:00, 19.82it/s]\n",
      "4it [00:00, 20.15it/s]\n",
      "4it [00:00, 15.93it/s]\n",
      "4it [00:00, 17.77it/s]\n",
      "4it [00:00, 17.77it/s]\n",
      "4it [00:00, 12.07it/s]\n",
      "4it [00:00, 19.29it/s]\n",
      "4it [00:00, 21.81it/s]\n",
      "4it [00:00, 16.22it/s]\n",
      "4it [00:00, 20.08it/s]\n",
      "4it [00:00, 21.72it/s]\n",
      "4it [00:00, 15.96it/s]\n",
      "4it [00:00, 22.11it/s]\n",
      "4it [00:00, 20.26it/s]\n",
      "4it [00:00, 15.18it/s]\n",
      "4it [00:00, 20.58it/s]\n",
      "4it [00:00, 20.78it/s]\n",
      "4it [00:00, 15.18it/s]\n",
      "4it [00:00, 21.56it/s]\n",
      "4it [00:00, 19.98it/s]\n",
      "4it [00:00, 14.53it/s]\n",
      "4it [00:00, 17.80it/s]\n",
      "4it [00:00, 15.97it/s]\n",
      "4it [00:00, 17.66it/s]\n",
      "4it [00:00, 20.66it/s]\n",
      "4it [00:00, 19.25it/s]\n",
      "4it [00:00, 16.48it/s]\n",
      "4it [00:00, 16.33it/s]\n",
      "4it [00:00, 19.80it/s]\n",
      "4it [00:00, 15.59it/s]\n",
      "4it [00:00, 20.91it/s]\n",
      "4it [00:00, 21.01it/s]\n",
      "4it [00:00, 16.46it/s]\n",
      "4it [00:00, 20.53it/s]\n",
      "4it [00:00, 20.97it/s]\n",
      "4it [00:00, 16.85it/s]\n",
      "4it [00:00, 19.76it/s]\n",
      "4it [00:00, 20.48it/s]\n",
      "4it [00:00, 18.22it/s]\n",
      "4it [00:00, 18.04it/s]\n",
      "4it [00:00, 19.97it/s]\n",
      "4it [00:00, 15.53it/s]\n",
      "4it [00:00, 19.36it/s]\n",
      "4it [00:00, 20.97it/s]\n",
      "4it [00:00, 17.31it/s]\n",
      "4it [00:00, 16.99it/s]\n",
      "4it [00:00, 20.32it/s]\n",
      "4it [00:00, 17.19it/s]\n",
      "4it [00:00, 18.02it/s]\n",
      "4it [00:00, 21.47it/s]\n",
      "4it [00:00, 18.04it/s]\n",
      "4it [00:00, 16.75it/s]\n",
      "4it [00:00, 19.97it/s]\n",
      "4it [00:00, 17.28it/s]\n",
      "4it [00:00, 19.11it/s]\n",
      "4it [00:00, 20.28it/s]\n",
      "4it [00:00, 18.06it/s]\n",
      "4it [00:00, 17.46it/s]\n",
      "4it [00:00, 21.36it/s]\n",
      "4it [00:00, 17.04it/s]\n",
      "4it [00:00, 18.89it/s]\n",
      "4it [00:00, 19.55it/s]\n",
      "4it [00:00, 16.00it/s]\n",
      "4it [00:00, 20.10it/s]\n",
      "4it [00:00, 20.84it/s]\n",
      "4it [00:00, 16.95it/s]\n",
      "4it [00:00, 18.72it/s]\n",
      "4it [00:00, 19.91it/s]\n",
      "4it [00:00, 19.20it/s]\n",
      "4it [00:00, 17.67it/s]\n",
      "4it [00:00, 20.45it/s]\n",
      "4it [00:00, 17.11it/s]\n",
      "4it [00:00, 16.06it/s]\n",
      "4it [00:00, 20.96it/s]\n",
      "4it [00:00, 17.34it/s]\n",
      "4it [00:00, 18.54it/s]\n",
      "4it [00:00, 19.68it/s]\n",
      "4it [00:00, 17.55it/s]\n",
      "4it [00:00, 17.77it/s]\n",
      "4it [00:00, 19.87it/s]\n"
     ]
    },
    {
     "name": "stdout",
     "output_type": "stream",
     "text": [
      "[3.89665037 5.50940614 6.29554508 1.53025156 3.47708332 6.0467287\n",
      " 5.8049935  5.27904654 2.63628117 4.30615833 6.52416906 2.26229053\n",
      " 3.64837286 2.55749111 2.83908531 2.65350955]\n"
     ]
    },
    {
     "name": "stderr",
     "output_type": "stream",
     "text": [
      "4it [00:00, 16.40it/s]"
     ]
    },
    {
     "name": "stdout",
     "output_type": "stream",
     "text": [
      "CPU times: total: 22.1 s\n",
      "Wall time: 22.8 s\n"
     ]
    },
    {
     "name": "stderr",
     "output_type": "stream",
     "text": [
      "\n"
     ]
    }
   ],
   "source": [
    "%%time\n",
    "H2_approximated_eigenvalue = get_approximated_eigenvalue_of_hamiltonian(H2_molecule_Hamiltonian_2_qubits, \"full\")"
   ]
  },
  {
   "cell_type": "code",
   "execution_count": 57,
   "id": "d45ad4e5",
   "metadata": {},
   "outputs": [
    {
     "name": "stdout",
     "output_type": "stream",
     "text": [
      "[(-1.0051067048832336+0j), (-0.6609798260988818+0j), (-0.6609798260988818+0j), (0.30584559711037274+0j)]\n",
      "Exact Eigenvalue:\n",
      "(-1.0051067048832336+0j)\n",
      "\n",
      "Approximated Eigenvalue:\n",
      "-0.9995537079042548\n",
      "\n",
      "Approximation Error\n",
      "0.005524783539896819\n"
     ]
    },
    {
     "data": {
      "image/png": "[encoded data removed]",
      "text/plain": [
       "<Figure size 432x288 with 1 Axes>"
      ]
     },
     "metadata": {
      "needs_background": "light"
     },
     "output_type": "display_data"
    }
   ],
   "source": [
    "compare_exact_and_approximated_eigenvalue(H2_molecule_Hamiltonian_2_qubits, H2_approximated_eigenvalue)"
   ]
  }
 ],
 "metadata": {
  "kernelspec": {
   "display_name": "Qiskitenv",
   "language": "python",
   "name": "qiskitenv"
  },
  "language_info": {
   "codemirror_mode": {
    "name": "ipython",
    "version": 3
   },
   "file_extension": ".py",
   "mimetype": "text/x-python",
   "name": "python",
   "nbconvert_exporter": "python",
   "pygments_lexer": "ipython3",
   "version": "3.8.13"
  }
 },
 "nbformat": 4,
 "nbformat_minor": 5
}
