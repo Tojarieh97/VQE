{
 "cells": [
  {
   "cell_type": "code",
   "execution_count": 1,
   "id": "213d256a",
   "metadata": {},
   "outputs": [],
   "source": [
    "%load_ext autoreload\n",
    "%autoreload 2"
   ]
  },
  {
   "cell_type": "markdown",
   "id": "c4c77734",
   "metadata": {},
   "source": [
    "### Basic Imports"
   ]
  },
  {
   "cell_type": "code",
   "execution_count": 2,
   "id": "9431f6b7",
   "metadata": {},
   "outputs": [],
   "source": [
    "import nbimporter\n",
    "from typing import Dict, Tuple, List\n",
    "import numpy as np\n",
    "from tqdm import tqdm"
   ]
  },
  {
   "cell_type": "markdown",
   "id": "4ff98362",
   "metadata": {},
   "source": [
    "### Env Vars"
   ]
  },
  {
   "cell_type": "code",
   "execution_count": 3,
   "id": "9c7250c3",
   "metadata": {},
   "outputs": [],
   "source": [
    "QUBITS_NUM = 4 \n",
    "N = 2**QUBITS_NUM\n",
    "\n",
    "NUM_SHOTS = 1024\n",
    "NUM_ITERATIONS = 100\n",
    "\n",
    "CIRCUIT_DEPTH = 3\n",
    "PARAMS_NUM = 2*QUBITS_NUM*(CIRCUIT_DEPTH+1)"
   ]
  },
  {
   "cell_type": "markdown",
   "id": "6dcb0625",
   "metadata": {},
   "source": [
    "### Simulator Backend"
   ]
  },
  {
   "cell_type": "code",
   "execution_count": 4,
   "id": "8e287170",
   "metadata": {},
   "outputs": [],
   "source": [
    "from qiskit import Aer\n",
    "from qiskit.utils import QuantumInstance, algorithm_globals\n",
    "\n",
    "seed = 50\n",
    "algorithm_globals.random_seed = seed\n",
    "\n",
    "simulator_backend = Aer.get_backend('qasm_simulator')"
   ]
  },
  {
   "cell_type": "markdown",
   "id": "5cc189d2",
   "metadata": {},
   "source": [
    "### BFGS Optimizer"
   ]
  },
  {
   "cell_type": "code",
   "execution_count": 5,
   "id": "aea5f838",
   "metadata": {},
   "outputs": [],
   "source": [
    "from scipy.optimize import minimize"
   ]
  },
  {
   "cell_type": "markdown",
   "id": "6681d9cf",
   "metadata": {},
   "source": [
    "### Ansatz State"
   ]
  },
  {
   "cell_type": "code",
   "execution_count": 6,
   "id": "ed679eb5",
   "metadata": {},
   "outputs": [],
   "source": [
    "from linear_entangelment_and_full_entangelment_ansatz_circuits import *"
   ]
  },
  {
   "cell_type": "code",
   "execution_count": 7,
   "id": "9ebdb4f8",
   "metadata": {},
   "outputs": [],
   "source": [
    "def get_ansatz_state(thetas, ansatz_entangelment, input_state):\n",
    "    if ansatz_entangelment==\"full\":\n",
    "        return get_full_entangelment_ansatz(QUBITS_NUM, thetas, input_state)\n",
    "    if ansatz_entangelment==\"linear\":\n",
    "        return get_linear_entangelment_ansatz(QUBITS_NUM, thetas, input_state)"
   ]
  },
  {
   "cell_type": "markdown",
   "id": "21777faa",
   "metadata": {},
   "source": [
    "## Expectation Value"
   ]
  },
  {
   "cell_type": "markdown",
   "id": "d320f1b6",
   "metadata": {},
   "source": [
    "### convert hamiltonian to pauli strings"
   ]
  },
  {
   "cell_type": "code",
   "execution_count": 8,
   "id": "56435355",
   "metadata": {},
   "outputs": [],
   "source": [
    "def transfrom_hamiltonian_into_pauli_strings(hamiltonian) -> List:\n",
    "    pauli_operators = hamiltonian.to_pauli_op().settings['oplist']\n",
    "    pauli_coeffs = list(map(lambda pauli_operator: pauli_operator.coeff, pauli_operators))\n",
    "    pauli_strings = list(map(lambda pauli_operator: pauli_operator.primitive, pauli_operators))\n",
    "    return pauli_coeffs, pauli_strings"
   ]
  },
  {
   "cell_type": "markdown",
   "id": "de5f75c3",
   "metadata": {},
   "source": [
    "### pauli string reduction to sigma_z's"
   ]
  },
  {
   "cell_type": "code",
   "execution_count": 9,
   "id": "347de6bb",
   "metadata": {},
   "outputs": [],
   "source": [
    "from qiskit.circuit.library.standard_gates import HGate, SGate\n",
    "from qiskit import QuantumCircuit, ClassicalRegister, QuantumRegister"
   ]
  },
  {
   "cell_type": "code",
   "execution_count": 10,
   "id": "dbbe79ef",
   "metadata": {},
   "outputs": [],
   "source": [
    "reducing_to_pauli_z_mapping = {\n",
    "    'I': 'I',\n",
    "    'Z': 'Z',\n",
    "    'X': 'Z',\n",
    "    'Y': 'Z'\n",
    "} "
   ]
  },
  {
   "cell_type": "code",
   "execution_count": 11,
   "id": "6f94927f",
   "metadata": {},
   "outputs": [],
   "source": [
    "def reduce_pauli_matrixes_into_sigma_z(pauli_string) -> str:\n",
    "    reduced_pauli_string = \"\"\n",
    "    for matrix_index in range(QUBITS_NUM):\n",
    "        pauli_matrix = str(pauli_string[matrix_index])\n",
    "        reduced_pauli_matrix = reducing_to_pauli_z_mapping[pauli_matrix]\n",
    "        reduced_pauli_string = reduced_pauli_matrix + reduced_pauli_string\n",
    "    \n",
    "    return reduced_pauli_string"
   ]
  },
  {
   "cell_type": "code",
   "execution_count": 12,
   "id": "e6f0562f",
   "metadata": {},
   "outputs": [],
   "source": [
    "def add_layer_of_gates_for_reducing_paulis_to_sigma_z(pauli_string, quantum_circuit):\n",
    "    quantum_registers = QuantumRegister(QUBITS_NUM, name=\"qubit\")\n",
    "    additional_circuit_layer = QuantumCircuit(quantum_registers)\n",
    "    \n",
    "    for quantum_register_index, pauli_matrix in enumerate(pauli_string):\n",
    "        if pauli_matrix == \"X\":\n",
    "            additional_circuit_layer.append(HGate(), [quantum_registers[quantum_register_index]])\n",
    "        if pauli_string == \"Y\":\n",
    "            additional_circuit_layer.append(HGate(), [quantum_registers[quantum_register_index]])\n",
    "            additional_circuit_layer.append(SGate(), [quantum_registers[quantum_register_index]])\n",
    "                \n",
    "    extended_quantum_circuit = quantum_circuit.compose(additional_circuit_layer)\n",
    "    return extended_quantum_circuit"
   ]
  },
  {
   "cell_type": "markdown",
   "id": "ce83fae9",
   "metadata": {},
   "source": [
    "### probabilities distribution"
   ]
  },
  {
   "cell_type": "code",
   "execution_count": 13,
   "id": "84e65e31",
   "metadata": {},
   "outputs": [],
   "source": [
    "def get_probability_distribution(counts: Dict) -> Dict:\n",
    "    proba_distribution = {state: (count / NUM_SHOTS) for state, count in counts.items()}\n",
    "    return proba_distribution\n",
    "\n",
    "def calculate_probabilities_of_measurments_in_computational_basis(quantum_state_circuit) -> Dict:\n",
    "    quantum_state_circuit.measure_all()\n",
    "    \n",
    "    transpiled_quantum_state_circuit = transpile(quantum_state_circuit, simulator_backend) \n",
    "    Qobj = assemble(transpiled_quantum_state_circuit)\n",
    "    result = simulator_backend.run(Qobj).result()\n",
    "    counts = result.get_counts(quantum_state_circuit)\n",
    "    \n",
    "    return get_probability_distribution(counts)"
   ]
  },
  {
   "cell_type": "markdown",
   "id": "b9286e5d",
   "metadata": {},
   "source": [
    "### Expectation value from probabilities"
   ]
  },
  {
   "cell_type": "code",
   "execution_count": 14,
   "id": "38a72356",
   "metadata": {},
   "outputs": [],
   "source": [
    "def sort_probas_dict_by_qubits_string_keys(proba_distribution: Dict) -> Dict:\n",
    "    return dict(sorted(proba_distribution.items()))\n",
    "\n",
    "def reset_power_of_minus_1(power_of_minus_1):\n",
    "    power_of_minus_1 = 0\n",
    "    return power_of_minus_1\n",
    "\n",
    "def convert_pauli_string_into_str(pauli_string) -> str:\n",
    "    return str(pauli_string)\n",
    "\n",
    "def calculate_expectation_value_of_pauli_string_by_measurments_probas(pauli_string, ansatz_circuit):\n",
    "    pauli_string_expectation_value = 0\n",
    "    power_of_minus_1 = 0\n",
    "    \n",
    "    pauli_string_str = convert_pauli_string_into_str(pauli_string)\n",
    "    extended_ansatz_circuit = add_layer_of_gates_for_reducing_paulis_to_sigma_z(pauli_string_str, ansatz_circuit)\n",
    "    probas_distribution = calculate_probabilities_of_measurments_in_computational_basis(extended_ansatz_circuit)\n",
    "    \n",
    "    reduced_pauli_string = reduce_pauli_matrixes_into_sigma_z(pauli_string)\n",
    "    sorted_probas_distribuition = sort_probas_dict_by_qubits_string_keys(probas_distribution)\n",
    "    for qubits_string, proba in sorted_probas_distribuition.items():\n",
    "        for string_index in range(QUBITS_NUM):\n",
    "            if(str(qubits_string[string_index])==\"1\" and str(reduced_pauli_string[string_index])==\"Z\"):\n",
    "                power_of_minus_1 += 1\n",
    "            \n",
    "        pauli_string_expectation_value += pow(-1, power_of_minus_1)*proba\n",
    "        power_of_minus_1 = reset_power_of_minus_1(power_of_minus_1)\n",
    "        \n",
    "    return pauli_string_expectation_value"
   ]
  },
  {
   "cell_type": "code",
   "execution_count": 15,
   "id": "c263be2b",
   "metadata": {},
   "outputs": [],
   "source": [
    "def get_expectation_value(ansatz_circuit, pauli_coeffs, pauli_strings):\n",
    "    total_expection_value = 0\n",
    "    \n",
    "    for pauli_coeff, pauli_string in tqdm(zip(pauli_coeffs, pauli_strings)):\n",
    "        total_expection_value += pauli_coeff*calculate_expectation_value_of_pauli_string_by_measurments_probas(\n",
    "                                                                                    pauli_string, ansatz_circuit)\n",
    "    \n",
    "    return total_expection_value"
   ]
  },
  {
   "cell_type": "markdown",
   "id": "a79fc302",
   "metadata": {},
   "source": [
    "## Objective Function"
   ]
  },
  {
   "cell_type": "code",
   "execution_count": 16,
   "id": "e3f4d330",
   "metadata": {},
   "outputs": [],
   "source": [
    "from qiskit import assemble, transpile\n",
    "\n",
    "def cost_function(thetas, hamiltonian, ansatz_entangelment):\n",
    "    initial_eigenvector = np.identity(N)[0]\n",
    "    \n",
    "    pauli_coeffs, pauli_strings = transfrom_hamiltonian_into_pauli_strings(hamiltonian)\n",
    "    ansatz_state = get_ansatz_state(thetas, ansatz_entangelment, initial_eigenvector)\n",
    "        \n",
    "    L = get_expectation_value(ansatz_state, pauli_coeffs, pauli_strings)\n",
    "    insert_approximated_energy_to_list_of_all_approximated_energies(L)\n",
    "        \n",
    "    return L"
   ]
  },
  {
   "cell_type": "markdown",
   "id": "e8ac20b3",
   "metadata": {},
   "source": [
    "## Optimization"
   ]
  },
  {
   "cell_type": "code",
   "execution_count": 17,
   "id": "9b2663d2",
   "metadata": {},
   "outputs": [],
   "source": [
    "def get_optimal_thetas_of_ansatz_circuit_for_hamiltonian(hamiltonian, ansatz_entangelment):\n",
    "    initial_thetas = np.random.uniform(low=0, high=2*np.pi, size=PARAMS_NUM)\n",
    "    optimizer_result = minimize(cost_function,\n",
    "                                x0=initial_thetas,\n",
    "                                args=(hamiltonian, ansatz_entangelment),\n",
    "                                method=\"COBYLA\",\n",
    "                                options={\"maxiter\":NUM_ITERATIONS,\n",
    "                                        \"disp\": True})\n",
    "    optimal_thetas = optimizer_result.x\n",
    "    \n",
    "    return optimal_thetas"
   ]
  },
  {
   "cell_type": "code",
   "execution_count": 18,
   "id": "80c13445",
   "metadata": {},
   "outputs": [],
   "source": [
    "def get_approximated_eigenvalue_of_hamiltonian(hamiltonian, ansatz_entangelment):\n",
    "    optimal_thetas = get_optimal_thetas_of_ansatz_circuit_for_hamiltonian(hamiltonian, ansatz_entangelment)\n",
    "    print(optimal_thetas)\n",
    "    initial_eigenvector = np.identity(N)[0]\n",
    "    optimal_ansatz_state = get_ansatz_state(optimal_thetas, ansatz_entangelment, initial_eigenvector)\n",
    "    \n",
    "    pauli_coeffs, pauli_strings = transfrom_hamiltonian_into_pauli_strings(hamiltonian)\n",
    "    approximated_eigenvalue = get_expectation_value(optimal_ansatz_state, pauli_coeffs, pauli_strings)\n",
    "\n",
    "    return approximated_eigenvalue"
   ]
  },
  {
   "cell_type": "markdown",
   "id": "7b410988",
   "metadata": {},
   "source": [
    "## Comparsion"
   ]
  },
  {
   "cell_type": "code",
   "execution_count": 19,
   "id": "6cbe0758",
   "metadata": {},
   "outputs": [],
   "source": [
    "from numpy import linalg as LA\n",
    "\n",
    "def get_approximation_error(exact_eigenvalue, approximated_eigenvalue):\n",
    "    return abs(abs(exact_eigenvalue)-abs(approximated_eigenvalue))/abs(exact_eigenvalue)"
   ]
  },
  {
   "cell_type": "code",
   "execution_count": 20,
   "id": "28b63147",
   "metadata": {},
   "outputs": [],
   "source": [
    "def get_minimum_exact_eigenvalue_of_hamiltonian(hamiltonian):\n",
    "    eigen_values = LA.eigvals(hamiltonian.to_matrix())\n",
    "    print(sorted(eigen_values))\n",
    "    \n",
    "    return min(sorted(eigen_values))"
   ]
  },
  {
   "cell_type": "code",
   "execution_count": 21,
   "id": "529a29d1",
   "metadata": {},
   "outputs": [],
   "source": [
    "def compare_exact_and_approximated_eigenvalue(hamiltonian, approximated_eigenvalue):\n",
    "    exact_eigenvalue = get_minimum_exact_eigenvalue_of_hamiltonian(hamiltonian)\n",
    "    print(\"Exact Eigenvalue:\")\n",
    "    print(exact_eigenvalue)\n",
    "    print(\"\\nApproximated Eigenvalue:\")\n",
    "    print(approximated_eigenvalue)\n",
    "\n",
    "    print(\"\\nApproximation Error\")\n",
    "    print(get_approximation_error(exact_eigenvalue, approximated_eigenvalue))\n",
    "    \n",
    "    plot_convergence_of_optimization_process(approximated_energies, exact_eigenvalue, margin=3)\n",
    "    initialize_approximated_energy_to_list_of_all_approximated_energies()"
   ]
  },
  {
   "cell_type": "markdown",
   "id": "c1452964",
   "metadata": {},
   "source": [
    "## Visualization"
   ]
  },
  {
   "cell_type": "code",
   "execution_count": 22,
   "id": "75c3e505",
   "metadata": {},
   "outputs": [],
   "source": [
    "approximated_energies = []"
   ]
  },
  {
   "cell_type": "code",
   "execution_count": 23,
   "id": "5c4331c6",
   "metadata": {},
   "outputs": [],
   "source": [
    "def insert_approximated_energy_to_list_of_all_approximated_energies(energy):\n",
    "    approximated_energies.append(energy)"
   ]
  },
  {
   "cell_type": "code",
   "execution_count": 24,
   "id": "6f445515",
   "metadata": {},
   "outputs": [],
   "source": [
    "def initialize_approximated_energy_to_list_of_all_approximated_energies():\n",
    "    approximated_energies = []"
   ]
  },
  {
   "cell_type": "code",
   "execution_count": 25,
   "id": "26026bbb",
   "metadata": {},
   "outputs": [],
   "source": [
    "import matplotlib.pyplot as plt\n",
    "\n",
    "def plot_convergence_of_optimization_process(approximated_energies, exact_eigenvalue, margin):\n",
    "    plt.title(\"convergence of optimization process to the exact eigenvalue\")\n",
    "    plt.margins(0, margin)\n",
    "    plt.plot(approximated_energies)\n",
    "    plt.axhline(y = exact_eigenvalue, color = 'r', linestyle = '-')\n",
    "    plt.grid()\n",
    "    plt.xlabel(\"# of iterations\")\n",
    "    plt.ylabel(\"Energy\")\n",
    "    \n",
    "def plot_fidelity():\n",
    "    plt.plot(LiH_approximated_energies)\n",
    "    plt.xlabel(\"# of iterations\")\n",
    "    plt.ylabel(\"Energy\")"
   ]
  },
  {
   "cell_type": "markdown",
   "id": "2b442e22",
   "metadata": {},
   "source": [
    "## LiH Molecule 4 qubits"
   ]
  },
  {
   "cell_type": "code",
   "execution_count": 26,
   "id": "87e93b42",
   "metadata": {},
   "outputs": [],
   "source": [
    "from qiskit.opflow import X, Z, I, H, Y\n",
    "\n",
    "LiH_molecule_4_qubits = -7.49894690201071*(I^I^I^I) + \\\n",
    "                            -0.0029329964409502266*(X^X^Y^Y) + \\\n",
    "                            0.0029329964409502266*(X^Y^Y^X) + \\\n",
    "                            0.01291078027311749*(X^Z^X^I) + \\\n",
    "                            -0.0013743761078958677*(X^Z^X^Z) + \\\n",
    "                            0.011536413200774975*(X^I^X^I) + \\\n",
    "                            0.0029329964409502266*(Y^X^X^Y) + \\\n",
    "                            -0.0029329964409502266*(Y^Y^X^X) + \\\n",
    "                            0.01291078027311749*(Y^Z^Y^I) + \\\n",
    "                            -0.0013743761078958677*(Y^Z^Y^Z) + \\\n",
    "                            0.011536413200774975*(Y^I^Y^I) + \\\n",
    "                            0.16199475388004184*(Z^I^I^I) + \\\n",
    "                            0.011536413200774975*(Z^X^Z^X) + \\\n",
    "                            0.011536413200774975*(Z^Y^Z^Y) + \\\n",
    "                            0.12444770133137588*(Z^Z^I^I) + \\\n",
    "                            0.054130445793298836*(Z^I^Z^I) + \\\n",
    "                            0.05706344223424907*(Z^I^I^Z) + \\\n",
    "                            0.012910780273117487*(I^X^Z^X) + \\\n",
    "                            -0.0013743761078958677*(I^X^I^X) + \\\n",
    "                            0.012910780273117487*(I^Y^Z^Y) + \\\n",
    "                            -0.0013743761078958677*(I^Y^I^Y) + \\\n",
    "                            0.16199475388004186*(I^Z^I^I) + \\\n",
    "                            0.05706344223424907*(I^Z^Z^I) + \\\n",
    "                            0.054130445793298836*(I^Z^I^Z) + \\\n",
    "                            -0.013243698330265966*(I^I^Z^I) + \\\n",
    "                            0.08479609543670981*(I^I^Z^Z) + \\\n",
    "                            -0.013243698330265952*(I^I^I^Z)"
   ]
  },
  {
   "cell_type": "markdown",
   "id": "dbfc22f0",
   "metadata": {},
   "source": [
    "#### Linear Entangelment"
   ]
  },
  {
   "cell_type": "code",
   "execution_count": 27,
   "id": "58cbff1d",
   "metadata": {},
   "outputs": [
    {
     "name": "stderr",
     "output_type": "stream",
     "text": [
      "27it [00:03,  7.03it/s]\n",
      "27it [00:02, 11.32it/s]\n",
      "27it [00:02, 11.82it/s]\n",
      "27it [00:02, 11.74it/s]\n",
      "27it [00:02, 11.63it/s]\n",
      "27it [00:02, 11.06it/s]\n",
      "27it [00:02, 11.17it/s]\n",
      "27it [00:02, 11.59it/s]\n",
      "27it [00:02, 11.01it/s]\n",
      "27it [00:02, 10.35it/s]\n",
      "27it [00:02, 10.80it/s]\n",
      "27it [00:02, 10.89it/s]\n",
      "27it [00:02, 10.27it/s]\n",
      "27it [00:02, 10.04it/s]\n",
      "27it [00:02,  9.56it/s]\n",
      "27it [00:02,  9.22it/s]\n",
      "27it [00:02,  9.62it/s]\n",
      "27it [00:02, 11.22it/s]\n",
      "27it [00:02, 10.27it/s]\n",
      "27it [00:02, 11.17it/s]\n",
      "27it [00:02, 10.91it/s]\n",
      "27it [00:02, 10.79it/s]\n",
      "27it [00:02, 10.38it/s]\n",
      "27it [00:02, 10.16it/s]\n",
      "27it [00:02, 10.01it/s]\n",
      "27it [00:02, 10.85it/s]\n",
      "27it [00:02, 12.02it/s]\n",
      "27it [00:02, 12.11it/s]\n",
      "27it [00:02, 11.12it/s]\n",
      "27it [00:02, 10.35it/s]\n",
      "27it [00:02, 10.72it/s]\n",
      "27it [00:02, 10.97it/s]\n",
      "27it [00:02, 11.22it/s]\n",
      "27it [00:02, 11.20it/s]\n",
      "27it [00:02, 11.05it/s]\n",
      "27it [00:02, 10.25it/s]\n",
      "27it [00:02, 10.61it/s]\n",
      "27it [00:02, 10.16it/s]\n",
      "27it [00:02, 10.48it/s]\n",
      "27it [00:02,  9.34it/s]\n",
      "27it [00:02, 10.98it/s]\n",
      "27it [00:02, 10.22it/s]\n",
      "27it [00:02, 11.06it/s]\n",
      "27it [00:02, 11.30it/s]\n",
      "27it [00:02, 10.89it/s]\n",
      "27it [00:02, 10.97it/s]\n",
      "27it [00:02, 11.06it/s]\n",
      "27it [00:02, 10.98it/s]\n",
      "27it [00:02,  9.83it/s]\n",
      "27it [00:02,  9.79it/s]\n",
      "27it [00:02,  9.06it/s]\n",
      "27it [00:03,  8.98it/s]\n",
      "27it [00:02,  9.73it/s]\n",
      "27it [00:02,  9.99it/s]\n",
      "27it [00:02,  9.46it/s]\n",
      "27it [00:02,  9.56it/s]\n",
      "27it [00:02, 10.58it/s]\n",
      "27it [00:02, 10.20it/s]\n",
      "27it [00:02, 10.63it/s]\n",
      "27it [00:02, 10.05it/s]\n",
      "27it [00:02, 10.22it/s]\n",
      "27it [00:02, 10.16it/s]\n",
      "27it [00:02, 10.06it/s]\n",
      "27it [00:02,  9.99it/s]\n",
      "27it [00:03,  8.90it/s]\n",
      "27it [00:02,  9.17it/s]\n",
      "27it [00:03,  8.74it/s]\n",
      "27it [00:02,  9.32it/s]\n",
      "27it [00:03,  8.74it/s]\n",
      "27it [00:03,  8.22it/s]\n",
      "27it [00:03,  8.70it/s]\n",
      "27it [00:03,  8.50it/s]\n",
      "27it [00:03,  8.86it/s]\n",
      "27it [00:03,  8.92it/s]\n",
      "27it [00:03,  8.65it/s]\n",
      "27it [00:02,  9.25it/s]\n",
      "27it [00:03,  8.76it/s]\n",
      "27it [00:03,  8.61it/s]\n",
      "27it [00:03,  8.67it/s]\n",
      "27it [00:03,  8.56it/s]\n",
      "27it [00:03,  8.23it/s]\n",
      "27it [00:03,  8.50it/s]\n",
      "27it [00:02,  9.09it/s]\n",
      "27it [00:02,  9.17it/s]\n",
      "27it [00:02,  9.23it/s]\n",
      "27it [00:02,  9.14it/s]\n",
      "27it [00:02,  9.40it/s]\n",
      "27it [00:02,  9.60it/s]\n",
      "27it [00:02,  9.09it/s]\n",
      "27it [00:02,  9.03it/s]\n",
      "27it [00:02,  9.73it/s]\n",
      "27it [00:02,  9.81it/s]\n",
      "27it [00:02,  9.72it/s]\n",
      "27it [00:02, 10.10it/s]\n",
      "27it [00:02,  9.35it/s]\n",
      "27it [00:02,  9.85it/s]\n",
      "27it [00:02,  9.21it/s]\n",
      "27it [00:02,  9.12it/s]\n",
      "27it [00:02,  9.13it/s]\n",
      "27it [00:03,  8.63it/s]\n"
     ]
    },
    {
     "name": "stdout",
     "output_type": "stream",
     "text": [
      "[ 3.59592819e+00  2.82774633e+00  4.15463566e+00  5.80468805e+00\n",
      "  1.85728216e+00  6.08561373e-01 -3.43968222e-03  4.51519836e+00\n",
      "  3.35073250e+00  4.67054130e+00  4.22413993e+00  1.62259968e+00\n",
      "  4.72411176e+00  6.15032423e+00  2.18842286e+00  6.17625825e+00\n",
      "  1.97118182e-01  2.13764089e+00  1.87490154e+00  1.06099283e+00\n",
      "  1.53597445e+00  3.12648818e+00  4.94434990e+00 -1.23886279e-02\n",
      " -6.03341288e-02  5.96956251e+00  5.22028635e+00  3.80008338e+00\n",
      "  3.25819624e-01  1.90106943e+00  5.34412764e+00  2.28077658e+00]\n"
     ]
    },
    {
     "name": "stderr",
     "output_type": "stream",
     "text": [
      "27it [00:03,  8.77it/s]"
     ]
    },
    {
     "name": "stdout",
     "output_type": "stream",
     "text": [
      "CPU times: total: 4min 29s\n",
      "Wall time: 4min 37s\n"
     ]
    },
    {
     "name": "stderr",
     "output_type": "stream",
     "text": [
      "\n"
     ]
    }
   ],
   "source": [
    "%%time\n",
    "LiH_approximated_eigenvalue = get_approximated_eigenvalue_of_hamiltonian(LiH_molecule_4_qubits, \"linear\")"
   ]
  },
  {
   "cell_type": "markdown",
   "id": "fbe670c9",
   "metadata": {},
   "source": [
    "### Comparsion between approximate value after optimtimzation and exact eigenvalue"
   ]
  },
  {
   "cell_type": "code",
   "execution_count": 28,
   "id": "a97114cc",
   "metadata": {},
   "outputs": [
    {
     "name": "stdout",
     "output_type": "stream",
     "text": [
      "[(-7.862773163027979+0j), (-7.7833962082865185+0j), (-7.783396208286518+0j), (-7.7140566916607005+0j), (-7.714056691660695+0j), (-7.714056691660695+0j), (-7.700475837803976+0j), (-7.569984737620559+0j), (-7.569984737620559+0j), (-7.511999706834453+0j), (-7.511999706834451+0j), (-7.364817440287081+0j), (-7.151525481896562+0j), (-7.130406955301309+0j), (-7.130406955301308+0j), (-6.769813218087976+0j)]\n",
      "Exact Eigenvalue:\n",
      "(-7.862773163027979+0j)\n",
      "\n",
      "Approximated Eigenvalue:\n",
      "-7.785583502595832\n",
      "\n",
      "Approximation Error\n",
      "0.009817103817150046\n"
     ]
    },
    {
     "name": "stderr",
     "output_type": "stream",
     "text": [
      "C:\\Users\\hadar\\anaconda3\\envs\\Qiskitenv\\lib\\site-packages\\matplotlib\\cbook\\__init__.py:1317: ComplexWarning: Casting complex values to real discards the imaginary part\n",
      "  return np.asarray(x, float)\n"
     ]
    },
    {
     "data": {
      "image/png": "[encoded data removed]",
      "text/plain": [
       "<Figure size 432x288 with 1 Axes>"
      ]
     },
     "metadata": {
      "needs_background": "light"
     },
     "output_type": "display_data"
    }
   ],
   "source": [
    "compare_exact_and_approximated_eigenvalue(LiH_molecule_4_qubits, LiH_approximated_eigenvalue)"
   ]
  },
  {
   "cell_type": "markdown",
   "id": "32d3273c",
   "metadata": {},
   "source": [
    "#### Full Entangelment"
   ]
  },
  {
   "cell_type": "code",
   "execution_count": 29,
   "id": "39faf0d6",
   "metadata": {},
   "outputs": [
    {
     "name": "stderr",
     "output_type": "stream",
     "text": [
      "27it [00:02,  9.08it/s]\n",
      "27it [00:02,  9.47it/s]\n",
      "27it [00:02,  9.21it/s]\n",
      "27it [00:03,  9.00it/s]\n",
      "27it [00:02,  9.07it/s]\n",
      "27it [00:03,  8.75it/s]\n",
      "27it [00:02,  9.21it/s]\n",
      "27it [00:03,  8.36it/s]\n",
      "27it [00:03,  8.75it/s]\n",
      "27it [00:02,  9.36it/s]\n",
      "27it [00:03,  8.58it/s]\n",
      "27it [00:03,  8.83it/s]\n",
      "27it [00:02,  9.58it/s]\n",
      "27it [00:02,  9.01it/s]\n",
      "27it [00:03,  8.45it/s]\n",
      "27it [00:02,  9.10it/s]\n",
      "27it [00:03,  8.85it/s]\n",
      "27it [00:03,  8.78it/s]\n",
      "27it [00:03,  8.44it/s]\n",
      "27it [00:03,  8.79it/s]\n",
      "27it [00:03,  8.56it/s]\n",
      "27it [00:03,  8.14it/s]\n",
      "27it [00:03,  8.97it/s]\n",
      "27it [00:03,  8.96it/s]\n",
      "27it [00:03,  8.37it/s]\n",
      "27it [00:03,  8.52it/s]\n",
      "27it [00:03,  8.44it/s]\n",
      "27it [00:03,  8.23it/s]\n",
      "27it [00:03,  8.40it/s]\n",
      "27it [00:03,  8.54it/s]\n",
      "27it [00:03,  8.52it/s]\n",
      "27it [00:03,  8.80it/s]\n",
      "27it [00:03,  8.23it/s]\n",
      "27it [00:03,  8.27it/s]\n",
      "27it [00:03,  8.56it/s]\n",
      "27it [00:03,  8.20it/s]\n",
      "27it [00:03,  7.99it/s]\n",
      "27it [00:03,  8.66it/s]\n",
      "27it [00:03,  8.49it/s]\n",
      "27it [00:03,  7.67it/s]\n",
      "27it [00:03,  8.50it/s]\n",
      "27it [00:03,  8.66it/s]\n",
      "27it [00:03,  8.46it/s]\n",
      "27it [00:03,  7.94it/s]\n",
      "27it [00:03,  7.94it/s]\n",
      "27it [00:03,  7.63it/s]\n",
      "27it [00:03,  7.60it/s]\n",
      "27it [00:03,  8.09it/s]\n",
      "27it [00:03,  7.94it/s]\n",
      "27it [00:03,  8.49it/s]\n",
      "27it [00:03,  8.27it/s]\n",
      "27it [00:03,  7.89it/s]\n",
      "27it [00:03,  8.00it/s]\n",
      "27it [00:03,  7.89it/s]\n",
      "27it [00:03,  7.64it/s]\n",
      "27it [00:03,  7.43it/s]\n",
      "27it [00:03,  7.04it/s]\n",
      "27it [00:04,  6.44it/s]\n",
      "27it [00:03,  7.72it/s]\n",
      "27it [00:03,  8.14it/s]\n",
      "27it [00:03,  8.37it/s]\n",
      "27it [00:03,  7.80it/s]\n",
      "27it [00:03,  7.54it/s]\n",
      "27it [00:03,  7.63it/s]\n",
      "27it [00:03,  8.02it/s]\n",
      "27it [00:03,  8.19it/s]\n",
      "27it [00:03,  8.33it/s]\n",
      "27it [00:03,  7.44it/s]\n",
      "27it [00:03,  7.76it/s]\n",
      "27it [00:03,  7.59it/s]\n",
      "27it [00:03,  7.82it/s]\n",
      "27it [00:03,  7.80it/s]\n",
      "27it [00:03,  7.98it/s]\n",
      "27it [00:03,  7.78it/s]\n",
      "27it [00:03,  7.11it/s]\n",
      "27it [00:03,  7.14it/s]\n",
      "27it [00:03,  8.26it/s]\n",
      "27it [00:03,  8.10it/s]\n",
      "27it [00:03,  7.99it/s]\n",
      "27it [00:03,  8.05it/s]\n",
      "27it [00:03,  7.83it/s]\n",
      "27it [00:03,  7.64it/s]\n",
      "27it [00:03,  7.63it/s]\n",
      "27it [00:03,  8.39it/s]\n",
      "27it [00:03,  7.92it/s]\n",
      "27it [00:03,  7.20it/s]\n",
      "27it [00:03,  6.97it/s]\n",
      "27it [00:03,  6.83it/s]\n",
      "27it [00:03,  7.15it/s]\n",
      "27it [00:04,  6.74it/s]\n",
      "27it [00:03,  6.98it/s]\n",
      "27it [00:04,  6.42it/s]\n",
      "27it [00:03,  7.34it/s]\n",
      "27it [00:04,  6.58it/s]\n",
      "27it [00:04,  6.52it/s]\n",
      "27it [00:03,  6.95it/s]\n",
      "27it [00:04,  6.40it/s]\n",
      "27it [00:03,  6.77it/s]\n",
      "27it [00:03,  6.79it/s]\n",
      "27it [00:03,  7.36it/s]\n"
     ]
    },
    {
     "name": "stdout",
     "output_type": "stream",
     "text": [
      "[0.70150525 0.25216983 5.70924155 1.26829894 2.23324127 2.50015727\n",
      " 5.24814127 2.39795348 4.29055268 5.75210256 5.91187436 4.92911132\n",
      " 5.95787879 1.51460929 6.03287917 4.06836839 4.59547465 2.66127368\n",
      " 4.51662261 5.72895637 0.20884228 5.3797326  4.22893026 0.27105588\n",
      " 0.86179379 4.98871131 2.00922188 1.8315762  2.58945588 2.7438802\n",
      " 4.89215904 6.98989637]\n"
     ]
    },
    {
     "name": "stderr",
     "output_type": "stream",
     "text": [
      "27it [00:03,  7.47it/s]"
     ]
    },
    {
     "name": "stdout",
     "output_type": "stream",
     "text": [
      "CPU times: total: 5min 22s\n",
      "Wall time: 5min 43s\n"
     ]
    },
    {
     "name": "stderr",
     "output_type": "stream",
     "text": [
      "\n"
     ]
    }
   ],
   "source": [
    "%%time\n",
    "LiH_approximated_eigenvalue = get_approximated_eigenvalue_of_hamiltonian(LiH_molecule_4_qubits, \"full\")"
   ]
  },
  {
   "cell_type": "code",
   "execution_count": 30,
   "id": "ae67fc6d",
   "metadata": {},
   "outputs": [
    {
     "name": "stdout",
     "output_type": "stream",
     "text": [
      "[(-7.862773163027979+0j), (-7.7833962082865185+0j), (-7.783396208286518+0j), (-7.7140566916607005+0j), (-7.714056691660695+0j), (-7.714056691660695+0j), (-7.700475837803976+0j), (-7.569984737620559+0j), (-7.569984737620559+0j), (-7.511999706834453+0j), (-7.511999706834451+0j), (-7.364817440287081+0j), (-7.151525481896562+0j), (-7.130406955301309+0j), (-7.130406955301308+0j), (-6.769813218087976+0j)]\n",
      "Exact Eigenvalue:\n",
      "(-7.862773163027979+0j)\n",
      "\n",
      "Approximated Eigenvalue:\n",
      "-7.756476736389585\n",
      "\n",
      "Approximation Error\n",
      "0.013518948650104418\n"
     ]
    },
    {
     "data": {
      "image/png": "[encoded data removed]",
      "text/plain": [
       "<Figure size 432x288 with 1 Axes>"
      ]
     },
     "metadata": {
      "needs_background": "light"
     },
     "output_type": "display_data"
    }
   ],
   "source": [
    "compare_exact_and_approximated_eigenvalue(LiH_molecule_4_qubits, LiH_approximated_eigenvalue)"
   ]
  },
  {
   "cell_type": "markdown",
   "id": "e9cc887a",
   "metadata": {},
   "source": [
    "## H2 Molecule 4 qubits"
   ]
  },
  {
   "cell_type": "code",
   "execution_count": 31,
   "id": "259df459",
   "metadata": {},
   "outputs": [],
   "source": [
    "H2_molecule_Hamiltonian_4_qubits =  -0.8105479805373279 * (I^I^I^I) \\\n",
    "                                    + 0.1721839326191554 * (I^I^I^Z) \\\n",
    "                                    - 0.22575349222402372 * (I^I^Z^I) \\\n",
    "                                    + 0.17218393261915543 * (I^Z^I^I) \\\n",
    "                                    - 0.2257534922240237 * (Z^I^I^I) \\\n",
    "                                    + 0.12091263261776627 * (I^I^Z^Z) \\\n",
    "                                    + 0.16892753870087907 * (I^Z^I^Z) \\\n",
    "                                    + 0.045232799946057826 * (Y^Y^Y^Y) \\\n",
    "                                    + 0.045232799946057826 * (X^X^Y^Y) \\\n",
    "                                    + 0.045232799946057826 * (Y^Y^X^X) \\\n",
    "                                    + 0.045232799946057826 * (X^X^X^X) \\\n",
    "                                    + 0.1661454325638241 * (Z^I^I^Z) \\\n",
    "                                    + 0.1661454325638241 * (I^Z^Z^I) \\\n",
    "                                    + 0.17464343068300453 * (Z^I^Z^I) \\\n",
    "                                    + 0.12091263261776627 * (Z^Z^I^I)"
   ]
  },
  {
   "cell_type": "markdown",
   "id": "fa5a1423",
   "metadata": {},
   "source": [
    "#### Linear Entangelment"
   ]
  },
  {
   "cell_type": "code",
   "execution_count": 32,
   "id": "3634f0d7",
   "metadata": {},
   "outputs": [
    {
     "name": "stderr",
     "output_type": "stream",
     "text": [
      "15it [00:02,  7.13it/s]\n",
      "15it [00:01,  7.61it/s]\n",
      "15it [00:01,  7.55it/s]\n",
      "15it [00:02,  7.16it/s]\n",
      "15it [00:01,  7.91it/s]\n",
      "15it [00:01,  7.77it/s]\n",
      "15it [00:02,  6.82it/s]\n",
      "15it [00:02,  6.31it/s]\n",
      "15it [00:02,  6.72it/s]\n",
      "15it [00:02,  5.97it/s]\n",
      "15it [00:02,  5.46it/s]\n",
      "15it [00:02,  6.50it/s]\n",
      "15it [00:01,  7.70it/s]\n",
      "15it [00:02,  6.31it/s]\n",
      "15it [00:02,  6.75it/s]\n",
      "15it [00:02,  7.24it/s]\n",
      "15it [00:02,  7.08it/s]\n",
      "15it [00:02,  6.89it/s]\n",
      "15it [00:01,  7.64it/s]\n",
      "15it [00:02,  7.13it/s]\n",
      "15it [00:02,  7.42it/s]\n",
      "15it [00:02,  7.44it/s]\n",
      "15it [00:02,  7.45it/s]\n",
      "15it [00:02,  7.28it/s]\n",
      "15it [00:02,  7.01it/s]\n",
      "15it [00:02,  7.02it/s]\n",
      "15it [00:02,  7.15it/s]\n",
      "15it [00:02,  6.60it/s]\n",
      "15it [00:02,  7.05it/s]\n",
      "15it [00:02,  7.01it/s]\n",
      "15it [00:01,  7.70it/s]\n",
      "15it [00:01,  7.90it/s]\n",
      "15it [00:01,  7.90it/s]\n",
      "15it [00:01,  8.01it/s]\n",
      "15it [00:01,  7.84it/s]\n",
      "15it [00:01,  7.58it/s]\n",
      "15it [00:01,  7.80it/s]\n",
      "15it [00:01,  7.58it/s]\n",
      "15it [00:01,  7.81it/s]\n",
      "15it [00:02,  7.28it/s]\n",
      "15it [00:02,  7.37it/s]\n",
      "15it [00:02,  7.49it/s]\n",
      "15it [00:02,  7.50it/s]\n",
      "15it [00:01,  7.80it/s]\n",
      "15it [00:01,  7.69it/s]\n",
      "15it [00:01,  7.82it/s]\n",
      "15it [00:02,  7.15it/s]\n",
      "15it [00:01,  7.68it/s]\n",
      "15it [00:02,  6.96it/s]\n",
      "15it [00:02,  7.31it/s]\n",
      "15it [00:02,  7.18it/s]\n",
      "15it [00:02,  6.87it/s]\n",
      "15it [00:02,  7.08it/s]\n",
      "15it [00:02,  7.14it/s]\n",
      "15it [00:02,  7.17it/s]\n",
      "15it [00:02,  7.49it/s]\n",
      "15it [00:02,  6.94it/s]\n",
      "15it [00:02,  6.65it/s]\n",
      "15it [00:02,  7.37it/s]\n",
      "15it [00:02,  6.75it/s]\n",
      "15it [00:01,  7.87it/s]\n",
      "15it [00:02,  7.23it/s]\n",
      "15it [00:02,  6.86it/s]\n",
      "15it [00:02,  7.32it/s]\n",
      "15it [00:02,  7.21it/s]\n",
      "15it [00:02,  7.07it/s]\n",
      "15it [00:02,  7.02it/s]\n",
      "15it [00:02,  7.06it/s]\n",
      "15it [00:02,  7.43it/s]\n",
      "15it [00:02,  7.34it/s]\n",
      "15it [00:02,  6.73it/s]\n",
      "15it [00:02,  7.00it/s]\n",
      "15it [00:02,  6.95it/s]\n",
      "15it [00:01,  7.52it/s]\n",
      "15it [00:01,  7.94it/s]\n",
      "15it [00:01,  8.50it/s]\n",
      "15it [00:01,  7.75it/s]\n",
      "15it [00:01,  8.12it/s]\n",
      "15it [00:01,  7.97it/s]\n",
      "15it [00:02,  7.16it/s]\n",
      "15it [00:01,  7.79it/s]\n",
      "15it [00:02,  7.48it/s]\n",
      "15it [00:02,  7.35it/s]\n",
      "15it [00:02,  7.35it/s]\n",
      "15it [00:02,  7.38it/s]\n",
      "15it [00:02,  7.46it/s]\n",
      "15it [00:01,  8.08it/s]\n",
      "15it [00:02,  7.16it/s]\n",
      "15it [00:01,  7.85it/s]\n",
      "15it [00:01,  7.84it/s]\n",
      "15it [00:01,  7.63it/s]\n",
      "15it [00:01,  7.86it/s]\n",
      "15it [00:01,  7.87it/s]\n",
      "15it [00:01,  7.63it/s]\n",
      "15it [00:02,  7.27it/s]\n",
      "15it [00:01,  7.93it/s]\n",
      "15it [00:02,  7.22it/s]\n",
      "15it [00:01,  7.90it/s]\n",
      "15it [00:02,  7.50it/s]\n",
      "15it [00:02,  7.28it/s]\n"
     ]
    },
    {
     "name": "stdout",
     "output_type": "stream",
     "text": [
      "[ 3.33455186  0.75888946  0.51391775  4.32707194  3.47111843  3.14442173\n",
      "  0.27547841  3.559602    6.03609888  5.51963886  3.82056559  1.10128456\n",
      "  0.6843952  -0.12043797  0.67324377  4.47026645  4.14529869  7.28949469\n",
      "  5.22849735  4.03815845  4.64824875  3.41021482  0.18043351  4.19466512\n",
      "  3.09975633  5.02135031  1.82857656  1.44388673  6.38375773  5.0398624\n",
      "  1.97259904  3.13467706]\n"
     ]
    },
    {
     "name": "stderr",
     "output_type": "stream",
     "text": [
      "15it [00:01,  7.83it/s]"
     ]
    },
    {
     "name": "stdout",
     "output_type": "stream",
     "text": [
      "CPU times: total: 3min 2s\n",
      "Wall time: 3min 28s\n"
     ]
    },
    {
     "name": "stderr",
     "output_type": "stream",
     "text": [
      "\n"
     ]
    }
   ],
   "source": [
    "%%time\n",
    "H2_approximated_eigenvalue = get_approximated_eigenvalue_of_hamiltonian(H2_molecule_Hamiltonian_4_qubits, \"linear\")"
   ]
  },
  {
   "cell_type": "code",
   "execution_count": 33,
   "id": "5b96cc5e",
   "metadata": {},
   "outputs": [
    {
     "name": "stdout",
     "output_type": "stream",
     "text": [
      "[(-1.8572750302023793+0j), (-1.25633907300325+0j), (-1.2563390730032498+0j), (-1.2445845498133272+0j), (-1.2445845498133272+0j), (-1.244584549813327+0j), (-1.1606317377577642+0j), (-1.1606317377577642+0j), (-0.8827221502448648+0j), (-0.47189600728114256+0j), (-0.47189600728114245+0j), (-0.353325104107155+0j), (-0.353325104107155+0j), (-0.2249112528308709+0j), (-1.942890293094024e-16+0j), (0.2142782384194731+0j)]\n",
      "Exact Eigenvalue:\n",
      "(-1.8572750302023793+0j)\n",
      "\n",
      "Approximated Eigenvalue:\n",
      "-1.5505321173808402\n",
      "\n",
      "Approximation Error\n",
      "0.1651575064723261\n"
     ]
    },
    {
     "data": {
      "image/png": "[encoded data removed]",
      "text/plain": [
       "<Figure size 432x288 with 1 Axes>"
      ]
     },
     "metadata": {
      "needs_background": "light"
     },
     "output_type": "display_data"
    }
   ],
   "source": [
    "compare_exact_and_approximated_eigenvalue(H2_molecule_Hamiltonian_4_qubits, H2_approximated_eigenvalue)"
   ]
  },
  {
   "cell_type": "markdown",
   "id": "72f299b7",
   "metadata": {},
   "source": [
    "#### Full Entangelment"
   ]
  },
  {
   "cell_type": "code",
   "execution_count": 34,
   "id": "51d29e0c",
   "metadata": {},
   "outputs": [
    {
     "name": "stderr",
     "output_type": "stream",
     "text": [
      "15it [00:02,  7.28it/s]\n",
      "15it [00:01,  7.54it/s]\n",
      "15it [00:02,  7.12it/s]\n",
      "15it [00:01,  7.89it/s]\n",
      "15it [00:02,  7.39it/s]\n",
      "15it [00:02,  7.47it/s]\n",
      "15it [00:02,  7.36it/s]\n",
      "15it [00:01,  7.50it/s]\n",
      "15it [00:02,  7.13it/s]\n",
      "15it [00:02,  6.63it/s]\n",
      "15it [00:02,  6.09it/s]\n",
      "15it [00:02,  7.16it/s]\n",
      "15it [00:02,  7.18it/s]\n",
      "15it [00:02,  7.46it/s]\n",
      "15it [00:02,  7.20it/s]\n",
      "15it [00:02,  6.59it/s]\n",
      "15it [00:02,  6.93it/s]\n",
      "15it [00:02,  6.97it/s]\n",
      "15it [00:02,  6.65it/s]\n",
      "15it [00:02,  6.14it/s]\n",
      "15it [00:02,  6.42it/s]\n",
      "15it [00:02,  7.21it/s]\n",
      "15it [00:02,  7.02it/s]\n",
      "15it [00:02,  6.97it/s]\n",
      "15it [00:01,  7.75it/s]\n",
      "15it [00:01,  8.07it/s]\n",
      "15it [00:01,  8.17it/s]\n",
      "15it [00:01,  7.69it/s]\n",
      "15it [00:01,  7.62it/s]\n",
      "15it [00:02,  7.49it/s]\n",
      "15it [00:02,  7.26it/s]\n",
      "15it [00:02,  6.96it/s]\n",
      "15it [00:01,  7.65it/s]\n",
      "15it [00:01,  7.55it/s]\n",
      "15it [00:01,  7.54it/s]\n",
      "15it [00:02,  6.93it/s]\n",
      "15it [00:02,  6.71it/s]\n",
      "15it [00:02,  7.47it/s]\n",
      "15it [00:02,  7.17it/s]\n",
      "15it [00:02,  7.47it/s]\n",
      "15it [00:02,  6.51it/s]\n",
      "15it [00:02,  6.62it/s]\n",
      "15it [00:02,  6.46it/s]\n",
      "15it [00:02,  6.00it/s]\n",
      "15it [00:02,  6.99it/s]\n",
      "15it [00:02,  5.72it/s]\n",
      "15it [00:02,  5.90it/s]\n",
      "15it [00:02,  7.07it/s]\n",
      "15it [00:02,  6.97it/s]\n",
      "15it [00:02,  7.01it/s]\n",
      "15it [00:02,  7.04it/s]\n",
      "15it [00:01,  7.81it/s]\n",
      "15it [00:01,  7.69it/s]\n",
      "15it [00:01,  7.92it/s]\n",
      "15it [00:01,  7.56it/s]\n",
      "15it [00:01,  7.68it/s]\n",
      "15it [00:02,  7.22it/s]\n",
      "15it [00:02,  7.22it/s]\n",
      "15it [00:02,  7.22it/s]\n",
      "15it [00:02,  7.35it/s]\n",
      "15it [00:02,  7.27it/s]\n",
      "15it [00:02,  7.36it/s]\n",
      "15it [00:02,  7.01it/s]\n",
      "15it [00:02,  7.28it/s]\n",
      "15it [00:01,  7.59it/s]\n",
      "15it [00:02,  6.95it/s]\n",
      "15it [00:02,  7.03it/s]\n",
      "15it [00:02,  6.77it/s]\n",
      "15it [00:02,  7.14it/s]\n",
      "15it [00:02,  7.40it/s]\n",
      "15it [00:02,  6.74it/s]\n",
      "15it [00:02,  7.05it/s]\n",
      "15it [00:02,  6.98it/s]\n",
      "15it [00:02,  7.30it/s]\n",
      "15it [00:02,  7.27it/s]\n",
      "15it [00:01,  7.75it/s]\n",
      "15it [00:01,  7.56it/s]\n",
      "15it [00:02,  7.27it/s]\n",
      "15it [00:01,  7.53it/s]\n",
      "15it [00:01,  7.55it/s]\n",
      "15it [00:02,  7.33it/s]\n",
      "15it [00:02,  7.13it/s]\n",
      "15it [00:02,  7.12it/s]\n",
      "15it [00:01,  7.54it/s]\n",
      "15it [00:02,  7.28it/s]\n",
      "15it [00:02,  7.33it/s]\n",
      "15it [00:02,  7.29it/s]\n",
      "15it [00:01,  7.59it/s]\n",
      "15it [00:01,  7.51it/s]\n",
      "15it [00:01,  7.86it/s]\n",
      "15it [00:01,  7.88it/s]\n",
      "15it [00:02,  7.16it/s]\n",
      "15it [00:02,  7.32it/s]\n",
      "15it [00:02,  7.49it/s]\n",
      "15it [00:01,  7.55it/s]\n",
      "15it [00:02,  7.22it/s]\n",
      "15it [00:02,  7.41it/s]\n",
      "15it [00:02,  7.39it/s]\n",
      "15it [00:02,  7.13it/s]\n",
      "15it [00:02,  7.46it/s]\n"
     ]
    },
    {
     "name": "stdout",
     "output_type": "stream",
     "text": [
      "[ 6.31616755  3.18634846  1.59487581  4.02066994  4.35753906  1.87196223\n",
      "  4.32055155  2.41073241  5.11051984 -0.07563591  4.93512272  5.00626979\n",
      "  2.66367354  0.81767835  3.7425126   4.49240074  3.59917673  3.05728703\n",
      "  0.49917125  4.6903242   0.45460288  1.33198101  3.38566104  0.57145371\n",
      "  5.05284652  2.4693344   5.29553483  4.06680309  0.83159846  3.213306\n",
      "  1.48553121  5.22994696]\n"
     ]
    },
    {
     "name": "stderr",
     "output_type": "stream",
     "text": [
      "15it [00:02,  7.42it/s]"
     ]
    },
    {
     "name": "stdout",
     "output_type": "stream",
     "text": [
      "CPU times: total: 3min 6s\n",
      "Wall time: 3min 32s\n"
     ]
    },
    {
     "name": "stderr",
     "output_type": "stream",
     "text": [
      "\n"
     ]
    }
   ],
   "source": [
    "%%time\n",
    "H2_approximated_eigenvalue = get_approximated_eigenvalue_of_hamiltonian(H2_molecule_Hamiltonian_4_qubits, \"full\")"
   ]
  },
  {
   "cell_type": "code",
   "execution_count": 35,
   "id": "b3b3d512",
   "metadata": {},
   "outputs": [
    {
     "name": "stdout",
     "output_type": "stream",
     "text": [
      "[(-1.8572750302023793+0j), (-1.25633907300325+0j), (-1.2563390730032498+0j), (-1.2445845498133272+0j), (-1.2445845498133272+0j), (-1.244584549813327+0j), (-1.1606317377577642+0j), (-1.1606317377577642+0j), (-0.8827221502448648+0j), (-0.47189600728114256+0j), (-0.47189600728114245+0j), (-0.353325104107155+0j), (-0.353325104107155+0j), (-0.2249112528308709+0j), (-1.942890293094024e-16+0j), (0.2142782384194731+0j)]\n",
      "Exact Eigenvalue:\n",
      "(-1.8572750302023793+0j)\n",
      "\n",
      "Approximated Eigenvalue:\n",
      "-1.604360105509457\n",
      "\n",
      "Approximation Error\n",
      "0.13617526784138334\n"
     ]
    },
    {
     "data": {
      "image/png": "[encoded data removed]",
      "text/plain": [
       "<Figure size 432x288 with 1 Axes>"
      ]
     },
     "metadata": {
      "needs_background": "light"
     },
     "output_type": "display_data"
    }
   ],
   "source": [
    "compare_exact_and_approximated_eigenvalue(H2_molecule_Hamiltonian_4_qubits, H2_approximated_eigenvalue)"
   ]
  },
  {
   "cell_type": "markdown",
   "id": "394c3bee",
   "metadata": {},
   "source": [
    "##  Transverse Ising Model 4 qubits"
   ]
  },
  {
   "cell_type": "code",
   "execution_count": 36,
   "id": "8dab0ec4",
   "metadata": {},
   "outputs": [],
   "source": [
    "transverse_ising_4_qubits = 0.0 * (I^I^I^I) \\\n",
    "    + 0.8398088405253477 * (X^I^I^I) \\\n",
    "    + 0.7989496312070936 * (I^X^I^I) \\\n",
    "    + 0.38189710487113193 * (Z^Z^I^I) \\\n",
    "    + 0.057753122422666725 * (I^I^X^I) \\\n",
    "    + 0.5633292636970458 * (Z^I^Z^I) \\\n",
    "    + 0.3152740621483513 * (I^Z^Z^I) \\\n",
    "    + 0.07209487981989715 * (I^I^I^X) \\\n",
    "    + 0.17892334004292654 * (Z^I^I^Z) \\\n",
    "    + 0.2273896497668042 * (I^Z^I^Z) \\\n",
    "    + 0.09762902934216211 * (I^I^Z^Z)"
   ]
  },
  {
   "cell_type": "markdown",
   "id": "c82bd1cb",
   "metadata": {},
   "source": [
    "#### Linear Entangelment"
   ]
  },
  {
   "cell_type": "code",
   "execution_count": 37,
   "id": "ac7514ba",
   "metadata": {},
   "outputs": [
    {
     "name": "stderr",
     "output_type": "stream",
     "text": [
      "11it [00:01,  7.24it/s]\n",
      "11it [00:01,  7.48it/s]\n",
      "11it [00:01,  7.56it/s]\n",
      "11it [00:01,  7.91it/s]\n",
      "11it [00:01,  7.98it/s]\n",
      "11it [00:01,  7.48it/s]\n",
      "11it [00:01,  7.86it/s]\n",
      "11it [00:01,  7.39it/s]\n",
      "11it [00:01,  7.88it/s]\n",
      "11it [00:01,  7.43it/s]\n",
      "11it [00:01,  8.35it/s]\n",
      "11it [00:01,  7.37it/s]\n",
      "11it [00:01,  7.27it/s]\n",
      "11it [00:01,  7.65it/s]\n",
      "11it [00:01,  7.94it/s]\n",
      "11it [00:01,  8.02it/s]\n",
      "11it [00:01,  8.12it/s]\n",
      "11it [00:01,  7.95it/s]\n",
      "11it [00:01,  7.56it/s]\n",
      "11it [00:01,  7.35it/s]\n",
      "11it [00:01,  7.54it/s]\n",
      "11it [00:01,  7.83it/s]\n",
      "11it [00:01,  7.77it/s]\n",
      "11it [00:01,  7.73it/s]\n",
      "11it [00:01,  7.55it/s]\n",
      "11it [00:01,  7.74it/s]\n",
      "11it [00:01,  6.84it/s]\n",
      "11it [00:01,  7.62it/s]\n",
      "11it [00:01,  7.77it/s]\n",
      "11it [00:01,  7.26it/s]\n",
      "11it [00:01,  7.65it/s]\n",
      "11it [00:01,  7.72it/s]\n",
      "11it [00:01,  7.32it/s]\n",
      "11it [00:01,  7.36it/s]\n",
      "11it [00:01,  7.48it/s]\n",
      "11it [00:01,  6.81it/s]\n",
      "11it [00:01,  7.69it/s]\n",
      "11it [00:01,  7.78it/s]\n",
      "11it [00:01,  5.62it/s]\n",
      "11it [00:02,  5.20it/s]\n",
      "11it [00:01,  5.59it/s]\n",
      "11it [00:02,  5.41it/s]\n",
      "11it [00:01,  5.71it/s]\n",
      "11it [00:01,  5.90it/s]\n",
      "11it [00:01,  6.40it/s]\n",
      "11it [00:01,  5.55it/s]\n",
      "11it [00:01,  6.94it/s]\n",
      "11it [00:01,  7.82it/s]\n",
      "11it [00:01,  7.79it/s]\n",
      "11it [00:01,  7.80it/s]\n",
      "11it [00:01,  7.74it/s]\n",
      "11it [00:01,  7.93it/s]\n",
      "11it [00:01,  7.39it/s]\n",
      "11it [00:01,  7.96it/s]\n",
      "11it [00:01,  8.33it/s]\n",
      "11it [00:01,  7.60it/s]\n",
      "11it [00:01,  6.57it/s]\n",
      "11it [00:01,  6.63it/s]\n",
      "11it [00:01,  6.21it/s]\n",
      "11it [00:01,  6.87it/s]\n",
      "11it [00:01,  6.51it/s]\n",
      "11it [00:01,  6.82it/s]\n",
      "11it [00:01,  7.67it/s]\n",
      "11it [00:01,  8.05it/s]\n",
      "11it [00:01,  7.93it/s]\n",
      "11it [00:01,  7.64it/s]\n",
      "11it [00:01,  7.39it/s]\n",
      "11it [00:01,  7.32it/s]\n",
      "11it [00:01,  7.35it/s]\n",
      "11it [00:01,  7.37it/s]\n",
      "11it [00:01,  6.42it/s]\n",
      "11it [00:01,  7.01it/s]\n",
      "11it [00:01,  6.42it/s]\n",
      "11it [00:01,  7.40it/s]\n",
      "11it [00:01,  7.13it/s]\n",
      "11it [00:01,  7.02it/s]\n",
      "11it [00:01,  7.50it/s]\n",
      "11it [00:01,  8.22it/s]\n",
      "11it [00:01,  8.33it/s]\n",
      "11it [00:01,  8.02it/s]\n",
      "11it [00:01,  7.86it/s]\n",
      "11it [00:01,  7.95it/s]\n",
      "11it [00:01,  7.74it/s]\n",
      "11it [00:01,  7.66it/s]\n",
      "11it [00:01,  8.00it/s]\n",
      "11it [00:01,  8.05it/s]\n",
      "11it [00:01,  7.71it/s]\n",
      "11it [00:01,  7.39it/s]\n",
      "11it [00:01,  7.78it/s]\n",
      "11it [00:01,  7.34it/s]\n",
      "11it [00:01,  6.19it/s]\n",
      "11it [00:01,  7.21it/s]\n",
      "11it [00:01,  7.65it/s]\n",
      "11it [00:01,  7.71it/s]\n",
      "11it [00:01,  7.17it/s]\n",
      "11it [00:01,  7.22it/s]\n",
      "11it [00:01,  7.48it/s]\n",
      "11it [00:01,  7.71it/s]\n",
      "11it [00:01,  7.34it/s]\n",
      "11it [00:01,  7.42it/s]\n"
     ]
    },
    {
     "name": "stdout",
     "output_type": "stream",
     "text": [
      "[ 5.71173799  5.15880905  4.37812662  4.030812    3.36497404  0.12158489\n",
      "  2.54579099  4.13597646  4.13770955  4.23286392  5.85330451  1.89930686\n",
      "  4.47833658  2.22078302  0.78326551  2.14201522  2.84374049  0.22135936\n",
      "  4.6557159   4.569917    1.81131247  0.17150421  0.63497217  4.78403146\n",
      "  1.07057854 -0.32884863  4.04523133  4.00183126  4.48321246  4.35222719\n",
      "  2.41956254  1.8555618 ]\n"
     ]
    },
    {
     "name": "stderr",
     "output_type": "stream",
     "text": [
      "11it [00:01,  7.07it/s]"
     ]
    },
    {
     "name": "stdout",
     "output_type": "stream",
     "text": [
      "CPU times: total: 2min 16s\n",
      "Wall time: 2min 33s\n"
     ]
    },
    {
     "name": "stderr",
     "output_type": "stream",
     "text": [
      "\n"
     ]
    }
   ],
   "source": [
    "%%time\n",
    "TI_approximated_eigenvalue = get_approximated_eigenvalue_of_hamiltonian(transverse_ising_4_qubits, \"linear\")"
   ]
  },
  {
   "cell_type": "code",
   "execution_count": 38,
   "id": "ecd81c72",
   "metadata": {},
   "outputs": [
    {
     "name": "stdout",
     "output_type": "stream",
     "text": [
      "[(-1.9994855800333675+0j), (-1.9080638482930956+0j), (-1.8497137109270194+0j), (-1.7583827504312988+0j), (-0.5462047134056278+0j), (-0.47710503946487287+0j), (-0.31907768442618767+0j), (-0.2505930484227001+0j), (0.14239915569453057+0j), (0.20992649961322052+0j), (0.2757654176709828+0j), (0.3444947223438019+0j), (1.6816520928402046+0j), (1.6958488386667439+0j), (2.3718326043433704+0j), (2.3867070442313216+0j)]\n",
      "Exact Eigenvalue:\n",
      "(-1.9994855800333675+0j)\n",
      "\n",
      "Approximated Eigenvalue:\n",
      "-1.515813512977261\n",
      "\n",
      "Approximation Error\n",
      "0.24189825217345903\n"
     ]
    },
    {
     "data": {
      "image/png": "[encoded data removed]",
      "text/plain": [
       "<Figure size 432x288 with 1 Axes>"
      ]
     },
     "metadata": {
      "needs_background": "light"
     },
     "output_type": "display_data"
    }
   ],
   "source": [
    "compare_exact_and_approximated_eigenvalue(transverse_ising_4_qubits, TI_approximated_eigenvalue)"
   ]
  },
  {
   "cell_type": "markdown",
   "id": "b13fdb69",
   "metadata": {},
   "source": [
    "#### Full Entangelment"
   ]
  },
  {
   "cell_type": "code",
   "execution_count": 39,
   "id": "defdd66a",
   "metadata": {},
   "outputs": [
    {
     "name": "stderr",
     "output_type": "stream",
     "text": [
      "11it [00:01,  7.09it/s]\n",
      "11it [00:01,  7.02it/s]\n",
      "11it [00:01,  6.66it/s]\n",
      "11it [00:01,  6.55it/s]\n",
      "11it [00:01,  6.60it/s]\n",
      "11it [00:01,  6.67it/s]\n",
      "11it [00:01,  6.64it/s]\n",
      "11it [00:01,  6.32it/s]\n",
      "11it [00:01,  6.46it/s]\n",
      "11it [00:01,  6.50it/s]\n",
      "11it [00:01,  6.59it/s]\n",
      "11it [00:01,  6.51it/s]\n",
      "11it [00:01,  7.31it/s]\n",
      "11it [00:01,  6.70it/s]\n",
      "11it [00:01,  6.59it/s]\n",
      "11it [00:01,  6.60it/s]\n",
      "11it [00:01,  6.94it/s]\n",
      "11it [00:01,  6.96it/s]\n",
      "11it [00:01,  6.58it/s]\n",
      "11it [00:01,  6.68it/s]\n",
      "11it [00:01,  6.26it/s]\n",
      "11it [00:01,  6.05it/s]\n",
      "11it [00:01,  6.36it/s]\n",
      "11it [00:01,  6.54it/s]\n",
      "11it [00:01,  6.48it/s]\n",
      "11it [00:01,  6.26it/s]\n",
      "11it [00:01,  6.32it/s]\n",
      "11it [00:01,  6.37it/s]\n",
      "11it [00:01,  6.41it/s]\n",
      "11it [00:01,  6.59it/s]\n",
      "11it [00:01,  6.22it/s]\n",
      "11it [00:01,  5.81it/s]\n",
      "11it [00:01,  6.32it/s]\n",
      "11it [00:01,  6.93it/s]\n",
      "11it [00:01,  6.21it/s]\n",
      "11it [00:01,  6.53it/s]\n",
      "11it [00:01,  6.78it/s]\n",
      "11it [00:01,  6.82it/s]\n",
      "11it [00:01,  6.82it/s]\n",
      "11it [00:01,  6.72it/s]\n",
      "11it [00:01,  6.59it/s]\n",
      "11it [00:01,  6.70it/s]\n",
      "11it [00:01,  6.56it/s]\n",
      "11it [00:01,  5.91it/s]\n",
      "11it [00:01,  6.98it/s]\n",
      "11it [00:01,  5.96it/s]\n",
      "11it [00:01,  6.40it/s]\n",
      "11it [00:01,  7.07it/s]\n",
      "11it [00:01,  6.92it/s]\n",
      "11it [00:01,  7.08it/s]\n",
      "11it [00:01,  7.25it/s]\n",
      "11it [00:01,  7.25it/s]\n",
      "11it [00:01,  6.70it/s]\n",
      "11it [00:01,  7.20it/s]\n",
      "11it [00:01,  6.93it/s]\n",
      "11it [00:01,  6.49it/s]\n",
      "11it [00:01,  6.87it/s]\n",
      "11it [00:01,  7.11it/s]\n",
      "11it [00:01,  6.88it/s]\n",
      "11it [00:01,  7.16it/s]\n",
      "11it [00:01,  6.87it/s]\n",
      "11it [00:01,  6.82it/s]\n",
      "11it [00:01,  6.93it/s]\n",
      "11it [00:01,  6.95it/s]\n",
      "11it [00:01,  7.08it/s]\n",
      "11it [00:01,  7.28it/s]\n",
      "11it [00:01,  7.34it/s]\n",
      "11it [00:01,  6.75it/s]\n",
      "11it [00:01,  7.01it/s]\n",
      "11it [00:01,  6.66it/s]\n",
      "11it [00:01,  6.83it/s]\n",
      "11it [00:01,  6.73it/s]\n",
      "11it [00:01,  6.15it/s]\n",
      "11it [00:01,  6.61it/s]\n",
      "11it [00:01,  6.94it/s]\n",
      "11it [00:01,  6.81it/s]\n",
      "11it [00:01,  6.97it/s]\n",
      "11it [00:01,  7.06it/s]\n",
      "11it [00:01,  7.50it/s]\n",
      "11it [00:01,  7.62it/s]\n",
      "11it [00:01,  7.58it/s]\n",
      "11it [00:01,  7.69it/s]\n",
      "11it [00:01,  7.36it/s]\n",
      "11it [00:01,  7.13it/s]\n",
      "11it [00:01,  7.43it/s]\n",
      "11it [00:01,  8.09it/s]\n",
      "11it [00:01,  7.89it/s]\n",
      "11it [00:01,  8.05it/s]\n",
      "11it [00:01,  7.16it/s]\n",
      "11it [00:01,  7.95it/s]\n",
      "11it [00:01,  7.56it/s]\n",
      "11it [00:01,  6.95it/s]\n",
      "11it [00:01,  7.31it/s]\n",
      "11it [00:01,  7.36it/s]\n",
      "11it [00:01,  8.17it/s]\n",
      "11it [00:01,  7.56it/s]\n",
      "11it [00:01,  6.75it/s]\n",
      "11it [00:01,  7.85it/s]\n",
      "11it [00:01,  7.98it/s]\n",
      "11it [00:01,  8.10it/s]\n"
     ]
    },
    {
     "name": "stdout",
     "output_type": "stream",
     "text": [
      "[3.17730336 6.4113433  2.72523452 3.53785853 3.99665169 3.91431516\n",
      " 4.24088216 3.32933207 6.07577481 0.37013287 3.27714571 5.69410334\n",
      " 7.45557364 2.69192136 1.98207806 2.50207847 6.21298491 2.94295204\n",
      " 2.58363111 5.7062887  1.8705975  4.37763813 3.33183284 5.76337764\n",
      " 4.6782095  0.30088742 0.13216785 3.64949734 3.44767755 1.61473685\n",
      " 0.39252356 3.9500812 ]\n"
     ]
    },
    {
     "name": "stderr",
     "output_type": "stream",
     "text": [
      "11it [00:01,  7.89it/s]"
     ]
    },
    {
     "name": "stdout",
     "output_type": "stream",
     "text": [
      "CPU times: total: 2min 18s\n",
      "Wall time: 2min 43s\n"
     ]
    },
    {
     "name": "stderr",
     "output_type": "stream",
     "text": [
      "\n"
     ]
    }
   ],
   "source": [
    "%%time\n",
    "TI_approximated_eigenvalue = get_approximated_eigenvalue_of_hamiltonian(transverse_ising_4_qubits, \"full\")"
   ]
  },
  {
   "cell_type": "code",
   "execution_count": 40,
   "id": "2f902eaa",
   "metadata": {},
   "outputs": [
    {
     "name": "stdout",
     "output_type": "stream",
     "text": [
      "[(-1.9994855800333675+0j), (-1.9080638482930956+0j), (-1.8497137109270194+0j), (-1.7583827504312988+0j), (-0.5462047134056278+0j), (-0.47710503946487287+0j), (-0.31907768442618767+0j), (-0.2505930484227001+0j), (0.14239915569453057+0j), (0.20992649961322052+0j), (0.2757654176709828+0j), (0.3444947223438019+0j), (1.6816520928402046+0j), (1.6958488386667439+0j), (2.3718326043433704+0j), (2.3867070442313216+0j)]\n",
      "Exact Eigenvalue:\n",
      "(-1.9994855800333675+0j)\n",
      "\n",
      "Approximated Eigenvalue:\n",
      "-1.8528064702140934\n",
      "\n",
      "Approximation Error\n",
      "0.07335842342850321\n"
     ]
    },
    {
     "data": {
      "image/png": "[encoded data removed]",
      "text/plain": [
       "<Figure size 432x288 with 1 Axes>"
      ]
     },
     "metadata": {
      "needs_background": "light"
     },
     "output_type": "display_data"
    }
   ],
   "source": [
    "compare_exact_and_approximated_eigenvalue(transverse_ising_4_qubits, TI_approximated_eigenvalue)"
   ]
  },
  {
   "cell_type": "markdown",
   "id": "cbf062b7",
   "metadata": {},
   "source": [
    "##  Transverse Ising Model 3 qubits"
   ]
  },
  {
   "cell_type": "code",
   "execution_count": 41,
   "id": "ff246ff1",
   "metadata": {},
   "outputs": [],
   "source": [
    "QUBITS_NUM = 3 \n",
    "N = 2**QUBITS_NUM\n",
    "\n",
    "NUM_SHOTS = 1024\n",
    "NUM_ITERATIONS = 100\n",
    "\n",
    "CIRCUIT_DEPTH = 3\n",
    "PARAMS_NUM = 2*QUBITS_NUM*(CIRCUIT_DEPTH+1)"
   ]
  },
  {
   "cell_type": "code",
   "execution_count": 42,
   "id": "8dd976ef",
   "metadata": {},
   "outputs": [],
   "source": [
    "from qiskit.opflow import X, Z, I\n",
    "\n",
    "transverse_ising_3_qubits = 0.0 * (I^I^I) \\\n",
    "                    + 0.012764169333459807 * (X^I^I) \\\n",
    "                    + 0.7691573729160869 * (I^X^I) \\\n",
    "                    + 0.398094746026449 * (Z^Z^I) \\\n",
    "                    + 0.15250261906586637 * (I^I^X) \\\n",
    "                    + 0.2094051920882264 * (Z^I^Z) \\\n",
    "                    + 0.5131291860752999 * (I^Z^Z)"
   ]
  },
  {
   "cell_type": "markdown",
   "id": "e37dd875",
   "metadata": {},
   "source": [
    "#### Linear Entangelment"
   ]
  },
  {
   "cell_type": "code",
   "execution_count": 43,
   "id": "7ffc0e36",
   "metadata": {},
   "outputs": [
    {
     "name": "stderr",
     "output_type": "stream",
     "text": [
      "7it [00:00,  8.27it/s]\n",
      "7it [00:00,  8.79it/s]\n",
      "7it [00:00,  9.23it/s]\n",
      "7it [00:00,  9.32it/s]\n",
      "7it [00:00,  9.61it/s]\n",
      "7it [00:00, 10.22it/s]\n",
      "7it [00:00,  8.99it/s]\n",
      "7it [00:00,  9.82it/s]\n",
      "7it [00:00,  9.45it/s]\n",
      "7it [00:00,  9.01it/s]\n",
      "7it [00:00,  8.72it/s]\n",
      "7it [00:00,  9.27it/s]\n",
      "7it [00:00,  9.51it/s]\n",
      "7it [00:00,  9.50it/s]\n",
      "7it [00:00,  9.85it/s]\n",
      "7it [00:00,  9.50it/s]\n",
      "7it [00:00,  9.23it/s]\n",
      "7it [00:00,  9.73it/s]\n",
      "7it [00:00, 10.02it/s]\n",
      "7it [00:00, 10.68it/s]\n",
      "7it [00:00,  9.84it/s]\n",
      "7it [00:00,  9.63it/s]\n",
      "7it [00:00,  7.79it/s]\n",
      "7it [00:00,  8.69it/s]\n",
      "7it [00:00,  9.17it/s]\n",
      "7it [00:00,  9.04it/s]\n",
      "7it [00:00,  9.27it/s]\n",
      "7it [00:00,  9.53it/s]\n",
      "7it [00:00,  8.87it/s]\n",
      "7it [00:00,  9.51it/s]\n",
      "7it [00:00,  8.58it/s]\n",
      "7it [00:00,  9.84it/s]\n",
      "7it [00:00,  9.30it/s]\n",
      "7it [00:00,  8.83it/s]\n",
      "7it [00:00,  9.78it/s]\n",
      "7it [00:00, 10.52it/s]\n",
      "7it [00:00,  9.73it/s]\n",
      "7it [00:00, 10.46it/s]\n",
      "7it [00:00,  9.58it/s]\n",
      "7it [00:00, 10.13it/s]\n",
      "7it [00:00,  9.44it/s]\n",
      "7it [00:00,  8.88it/s]\n",
      "7it [00:01,  6.73it/s]\n",
      "7it [00:00, 10.10it/s]\n",
      "7it [00:00, 10.17it/s]\n",
      "7it [00:00, 10.35it/s]\n",
      "7it [00:00, 10.20it/s]\n",
      "7it [00:00, 10.07it/s]\n",
      "7it [00:00, 10.54it/s]\n",
      "7it [00:00, 11.11it/s]\n",
      "7it [00:00,  9.55it/s]\n",
      "7it [00:00,  8.95it/s]\n",
      "7it [00:00, 10.35it/s]\n",
      "7it [00:00, 10.02it/s]\n",
      "7it [00:00,  9.26it/s]\n",
      "7it [00:00, 11.10it/s]\n",
      "7it [00:00,  9.74it/s]\n",
      "7it [00:00, 11.35it/s]\n",
      "7it [00:00, 10.78it/s]\n",
      "7it [00:00, 10.74it/s]\n",
      "7it [00:00,  9.48it/s]\n",
      "7it [00:00, 10.72it/s]\n",
      "7it [00:00, 11.66it/s]\n",
      "7it [00:00,  9.29it/s]\n",
      "7it [00:00, 10.44it/s]\n",
      "7it [00:00, 10.54it/s]\n",
      "7it [00:00, 11.49it/s]\n",
      "7it [00:00, 10.58it/s]\n",
      "7it [00:00, 10.90it/s]\n",
      "7it [00:00, 10.73it/s]\n",
      "7it [00:00, 10.44it/s]\n",
      "7it [00:00,  9.87it/s]\n",
      "7it [00:00, 10.48it/s]\n",
      "7it [00:00, 10.71it/s]\n",
      "7it [00:00, 10.07it/s]\n",
      "7it [00:00, 10.57it/s]\n",
      "7it [00:00, 11.10it/s]\n",
      "7it [00:00, 10.50it/s]\n",
      "7it [00:00, 10.82it/s]\n",
      "7it [00:00, 10.68it/s]\n",
      "7it [00:00,  9.35it/s]\n",
      "7it [00:00,  9.85it/s]\n",
      "7it [00:00, 10.09it/s]\n",
      "7it [00:00, 10.65it/s]\n",
      "7it [00:00, 10.10it/s]\n",
      "7it [00:00, 10.54it/s]\n",
      "7it [00:00,  8.61it/s]\n",
      "7it [00:00,  9.66it/s]\n",
      "7it [00:00,  9.86it/s]\n",
      "7it [00:00,  9.15it/s]\n",
      "7it [00:00,  8.01it/s]\n",
      "7it [00:00,  8.62it/s]\n",
      "7it [00:00, 10.07it/s]\n",
      "7it [00:00,  9.85it/s]\n",
      "7it [00:00,  9.63it/s]\n",
      "7it [00:00,  9.32it/s]\n",
      "7it [00:00,  8.68it/s]\n",
      "7it [00:00,  9.86it/s]\n",
      "7it [00:00, 10.65it/s]\n",
      "7it [00:00,  9.47it/s]\n"
     ]
    },
    {
     "name": "stdout",
     "output_type": "stream",
     "text": [
      "[ 4.47979061  0.23770846  5.07245287  0.71879312  0.41685288  5.31149249\n",
      "  1.6381399   2.14710919  5.91769439  2.96713118  4.85957471 -0.01108683\n",
      "  1.25440464  3.91472229  6.12922677  6.34264457  4.18408047  1.89521302\n",
      "  5.76713272  0.9691314   5.35836149  1.22155863  4.17098656  5.65478029]\n"
     ]
    },
    {
     "name": "stderr",
     "output_type": "stream",
     "text": [
      "7it [00:00,  9.52it/s]"
     ]
    },
    {
     "name": "stdout",
     "output_type": "stream",
     "text": [
      "CPU times: total: 1min 5s\n",
      "Wall time: 1min 13s\n"
     ]
    },
    {
     "name": "stderr",
     "output_type": "stream",
     "text": [
      "\n"
     ]
    }
   ],
   "source": [
    "%%time\n",
    "TI_approximated_eigenvalue = get_approximated_eigenvalue_of_hamiltonian(transverse_ising_3_qubits, \"linear\")"
   ]
  },
  {
   "cell_type": "code",
   "execution_count": 44,
   "id": "400315d0",
   "metadata": {},
   "outputs": [
    {
     "name": "stdout",
     "output_type": "stream",
     "text": [
      "[(-1.1327102067329746+0j), (-1.1089522226243493+0j), (-0.8673630797839832+0j), (-0.8433012058342556+0j), (0.5479228225821259+0j), (0.5543478038595204+0j), (1.4216636087077101+0j), (1.4283924798262082+0j)]\n",
      "Exact Eigenvalue:\n",
      "(-1.1327102067329746+0j)\n",
      "\n",
      "Approximated Eigenvalue:\n",
      "-0.923768900731251\n",
      "\n",
      "Approximation Error\n",
      "0.18446139600380554\n"
     ]
    },
    {
     "data": {
      "image/png": "[encoded data removed]",
      "text/plain": [
       "<Figure size 432x288 with 1 Axes>"
      ]
     },
     "metadata": {
      "needs_background": "light"
     },
     "output_type": "display_data"
    }
   ],
   "source": [
    "compare_exact_and_approximated_eigenvalue(transverse_ising_3_qubits, TI_approximated_eigenvalue)"
   ]
  },
  {
   "cell_type": "markdown",
   "id": "91d5d284",
   "metadata": {},
   "source": [
    "#### Full Entangelment"
   ]
  },
  {
   "cell_type": "code",
   "execution_count": 45,
   "id": "d43a0eb0",
   "metadata": {},
   "outputs": [
    {
     "name": "stderr",
     "output_type": "stream",
     "text": [
      "7it [00:00,  9.19it/s]\n",
      "7it [00:00, 10.08it/s]\n",
      "7it [00:00,  9.14it/s]\n",
      "7it [00:00,  9.60it/s]\n",
      "7it [00:00,  9.55it/s]\n",
      "7it [00:00,  9.08it/s]\n",
      "7it [00:00,  9.44it/s]\n",
      "7it [00:00,  9.21it/s]\n",
      "7it [00:00,  9.85it/s]\n",
      "7it [00:00,  9.88it/s]\n",
      "7it [00:00, 10.02it/s]\n",
      "7it [00:00, 10.92it/s]\n",
      "7it [00:00,  9.22it/s]\n",
      "7it [00:00, 10.34it/s]\n",
      "7it [00:00,  9.40it/s]\n",
      "7it [00:00,  9.29it/s]\n",
      "7it [00:00,  8.87it/s]\n",
      "7it [00:00,  8.30it/s]\n",
      "7it [00:00,  9.19it/s]\n",
      "7it [00:00,  8.89it/s]\n",
      "7it [00:00,  9.09it/s]\n",
      "7it [00:00,  7.62it/s]\n",
      "7it [00:00,  9.13it/s]\n",
      "7it [00:00,  9.69it/s]\n",
      "7it [00:00,  8.43it/s]\n",
      "7it [00:00,  9.29it/s]\n",
      "7it [00:00,  9.90it/s]\n",
      "7it [00:00,  9.11it/s]\n",
      "7it [00:00,  8.14it/s]\n",
      "7it [00:00,  9.17it/s]\n",
      "7it [00:00,  9.19it/s]\n",
      "7it [00:00,  9.00it/s]\n",
      "7it [00:00,  9.30it/s]\n",
      "7it [00:00,  9.15it/s]\n",
      "7it [00:00,  8.36it/s]\n",
      "7it [00:00,  8.69it/s]\n",
      "7it [00:00,  8.12it/s]\n",
      "7it [00:00,  8.09it/s]\n",
      "7it [00:00,  7.65it/s]\n",
      "7it [00:00,  8.21it/s]\n",
      "7it [00:00,  8.19it/s]\n",
      "7it [00:00,  9.04it/s]\n",
      "7it [00:00,  8.78it/s]\n",
      "7it [00:00,  8.58it/s]\n",
      "7it [00:00,  8.60it/s]\n",
      "7it [00:00,  8.42it/s]\n",
      "7it [00:00,  8.50it/s]\n",
      "7it [00:00,  9.04it/s]\n",
      "7it [00:00,  8.57it/s]\n",
      "7it [00:00,  8.47it/s]\n",
      "7it [00:00,  8.15it/s]\n",
      "7it [00:00,  8.24it/s]\n",
      "7it [00:00,  7.82it/s]\n",
      "7it [00:00,  8.31it/s]\n",
      "7it [00:00,  8.80it/s]\n",
      "7it [00:00,  7.62it/s]\n",
      "7it [00:00,  8.35it/s]\n",
      "7it [00:00,  8.88it/s]\n",
      "7it [00:00,  8.88it/s]\n",
      "7it [00:00,  9.32it/s]\n",
      "7it [00:00,  9.04it/s]\n",
      "7it [00:00,  8.98it/s]\n",
      "7it [00:00,  8.92it/s]\n",
      "7it [00:00,  8.50it/s]\n",
      "7it [00:00,  7.76it/s]\n",
      "7it [00:00,  8.44it/s]\n",
      "7it [00:00,  8.58it/s]\n",
      "7it [00:00,  7.82it/s]\n",
      "7it [00:00,  8.95it/s]\n",
      "7it [00:00,  8.90it/s]\n",
      "7it [00:00,  8.88it/s]\n",
      "7it [00:00,  8.84it/s]\n",
      "7it [00:00,  8.29it/s]\n",
      "7it [00:00,  8.52it/s]\n",
      "7it [00:00,  9.50it/s]\n",
      "7it [00:00,  9.31it/s]\n",
      "7it [00:00,  9.83it/s]\n",
      "7it [00:00,  9.71it/s]\n",
      "7it [00:00, 10.25it/s]\n",
      "7it [00:00, 10.26it/s]\n",
      "7it [00:00,  9.92it/s]\n",
      "7it [00:00,  9.23it/s]\n",
      "7it [00:00,  9.82it/s]\n",
      "7it [00:00,  8.88it/s]\n",
      "7it [00:00,  9.28it/s]\n",
      "7it [00:00,  9.39it/s]\n",
      "7it [00:00,  8.14it/s]\n",
      "7it [00:00,  9.64it/s]\n",
      "7it [00:00,  8.59it/s]\n",
      "7it [00:00, 10.40it/s]\n",
      "7it [00:00,  9.22it/s]\n",
      "7it [00:00,  9.03it/s]\n",
      "7it [00:00, 10.28it/s]\n",
      "7it [00:00,  8.66it/s]\n",
      "7it [00:00,  9.08it/s]\n",
      "7it [00:00,  9.36it/s]\n",
      "7it [00:00,  9.95it/s]\n",
      "7it [00:00,  9.62it/s]\n",
      "7it [00:00,  9.54it/s]\n",
      "7it [00:00,  8.02it/s]\n"
     ]
    },
    {
     "name": "stdout",
     "output_type": "stream",
     "text": [
      "[-0.16110888  3.22203462  4.41664747  6.56469284  4.91706983  1.36688518\n",
      "  1.75118431  3.61517507  5.3985202   1.67471751  2.58470092  3.47324144\n",
      "  3.99750253  5.26641504  2.84274623  2.9979098   3.4152806   5.75453106\n",
      "  0.02435335  0.97794453  2.18014579  4.75377019  0.93743903  5.50199084]\n"
     ]
    },
    {
     "name": "stderr",
     "output_type": "stream",
     "text": [
      "7it [00:00,  9.68it/s]"
     ]
    },
    {
     "name": "stdout",
     "output_type": "stream",
     "text": [
      "CPU times: total: 1min 8s\n",
      "Wall time: 1min 20s\n"
     ]
    },
    {
     "name": "stderr",
     "output_type": "stream",
     "text": [
      "\n"
     ]
    }
   ],
   "source": [
    "%%time\n",
    "TI_approximated_eigenvalue = get_approximated_eigenvalue_of_hamiltonian(transverse_ising_3_qubits, \"full\")"
   ]
  },
  {
   "cell_type": "code",
   "execution_count": 46,
   "id": "39bdc045",
   "metadata": {},
   "outputs": [
    {
     "name": "stdout",
     "output_type": "stream",
     "text": [
      "[(-1.1327102067329746+0j), (-1.1089522226243493+0j), (-0.8673630797839832+0j), (-0.8433012058342556+0j), (0.5479228225821259+0j), (0.5543478038595204+0j), (1.4216636087077101+0j), (1.4283924798262082+0j)]\n",
      "Exact Eigenvalue:\n",
      "(-1.1327102067329746+0j)\n",
      "\n",
      "Approximated Eigenvalue:\n",
      "-0.8354079459608915\n",
      "\n",
      "Approximation Error\n",
      "0.26246983474226715\n"
     ]
    },
    {
     "data": {
      "image/png": "[encoded data removed]",
      "text/plain": [
       "<Figure size 432x288 with 1 Axes>"
      ]
     },
     "metadata": {
      "needs_background": "light"
     },
     "output_type": "display_data"
    }
   ],
   "source": [
    "compare_exact_and_approximated_eigenvalue(transverse_ising_3_qubits, TI_approximated_eigenvalue)"
   ]
  },
  {
   "cell_type": "markdown",
   "id": "09be5f46",
   "metadata": {},
   "source": [
    "##  Transverse Ising Model 2 qubits"
   ]
  },
  {
   "cell_type": "code",
   "execution_count": 47,
   "id": "d8a0c4e6",
   "metadata": {},
   "outputs": [],
   "source": [
    "QUBITS_NUM = 2 \n",
    "N = 2**QUBITS_NUM\n",
    "\n",
    "NUM_SHOTS = 1024\n",
    "NUM_ITERATIONS = 100\n",
    "\n",
    "CIRCUIT_DEPTH = 3\n",
    "PARAMS_NUM = 2*QUBITS_NUM*(CIRCUIT_DEPTH+1)"
   ]
  },
  {
   "cell_type": "code",
   "execution_count": 48,
   "id": "58136107",
   "metadata": {},
   "outputs": [],
   "source": [
    "transverse_ising_2_qubits = 0.13755727363376802 * (I^X) \\\n",
    "                            + 0.43305656297810435 * (X^I) \\\n",
    "                            + 0.8538597608997253 * (Z^Z)"
   ]
  },
  {
   "cell_type": "markdown",
   "id": "6428a32d",
   "metadata": {},
   "source": [
    "#### Linear Entangelment"
   ]
  },
  {
   "cell_type": "code",
   "execution_count": 49,
   "id": "d9154eaa",
   "metadata": {},
   "outputs": [
    {
     "name": "stderr",
     "output_type": "stream",
     "text": [
      "3it [00:00, 10.72it/s]\n",
      "3it [00:00, 11.95it/s]\n",
      "3it [00:00, 14.98it/s]\n",
      "3it [00:00, 11.07it/s]\n",
      "3it [00:00, 14.35it/s]\n",
      "3it [00:00, 12.83it/s]\n",
      "3it [00:00, 11.24it/s]\n",
      "3it [00:00, 16.53it/s]\n",
      "3it [00:00, 12.39it/s]\n",
      "3it [00:00, 11.26it/s]\n",
      "3it [00:00, 13.81it/s]\n",
      "3it [00:00, 12.24it/s]\n",
      "3it [00:00, 12.16it/s]\n",
      "3it [00:00, 14.20it/s]\n",
      "3it [00:00, 14.59it/s]\n",
      "3it [00:00, 12.07it/s]\n",
      "3it [00:00, 15.53it/s]\n",
      "3it [00:00, 12.36it/s]\n",
      "3it [00:00, 17.02it/s]\n",
      "3it [00:00, 13.73it/s]\n",
      "3it [00:00, 10.85it/s]\n",
      "3it [00:00, 14.66it/s]\n",
      "3it [00:00, 14.64it/s]\n",
      "3it [00:00, 10.99it/s]\n",
      "3it [00:00, 13.88it/s]\n",
      "3it [00:00, 13.98it/s]\n",
      "3it [00:00, 12.54it/s]\n",
      "3it [00:00, 15.98it/s]\n",
      "3it [00:00, 11.13it/s]\n",
      "3it [00:00, 12.91it/s]\n",
      "3it [00:00, 12.75it/s]\n",
      "3it [00:00, 13.64it/s]\n",
      "3it [00:00, 11.03it/s]\n",
      "3it [00:00, 13.39it/s]\n",
      "3it [00:00, 11.18it/s]\n",
      "3it [00:00, 15.02it/s]\n",
      "3it [00:00, 15.47it/s]\n",
      "3it [00:00, 11.69it/s]\n",
      "3it [00:00, 15.95it/s]\n",
      "3it [00:00, 12.52it/s]\n",
      "3it [00:00, 11.37it/s]\n",
      "3it [00:00, 13.72it/s]\n",
      "3it [00:00, 11.94it/s]\n",
      "3it [00:00, 12.66it/s]\n",
      "3it [00:00, 13.24it/s]\n",
      "3it [00:00, 13.03it/s]\n",
      "3it [00:00, 14.18it/s]\n",
      "3it [00:00, 14.70it/s]\n",
      "3it [00:00, 14.45it/s]\n",
      "3it [00:00, 11.36it/s]\n",
      "3it [00:00, 12.89it/s]\n",
      "3it [00:00, 14.41it/s]\n",
      "3it [00:00, 12.64it/s]\n",
      "3it [00:00, 13.82it/s]\n",
      "3it [00:00, 12.71it/s]\n",
      "3it [00:00, 11.30it/s]\n",
      "3it [00:00, 13.38it/s]\n",
      "3it [00:00, 11.93it/s]\n",
      "3it [00:00, 13.56it/s]\n",
      "3it [00:00, 14.45it/s]\n",
      "3it [00:00, 12.46it/s]\n",
      "3it [00:00, 15.51it/s]\n",
      "3it [00:00, 14.68it/s]\n",
      "3it [00:00, 12.75it/s]\n",
      "3it [00:00, 12.55it/s]\n",
      "3it [00:00, 15.44it/s]\n",
      "3it [00:00, 13.95it/s]\n",
      "3it [00:00, 11.46it/s]\n",
      "3it [00:00, 10.88it/s]\n",
      "3it [00:00,  9.33it/s]\n",
      "3it [00:00, 14.30it/s]\n",
      "3it [00:00, 13.78it/s]\n",
      "3it [00:00, 10.98it/s]\n",
      "3it [00:00, 13.48it/s]\n",
      "3it [00:00, 15.77it/s]\n",
      "3it [00:00,  7.41it/s]\n",
      "3it [00:00, 13.15it/s]\n",
      "3it [00:00, 11.27it/s]\n",
      "3it [00:00, 14.62it/s]\n",
      "3it [00:00, 13.75it/s]\n",
      "3it [00:00, 11.32it/s]\n",
      "3it [00:00, 14.14it/s]\n",
      "3it [00:00, 12.86it/s]\n",
      "3it [00:00,  9.75it/s]\n",
      "3it [00:00, 13.96it/s]\n",
      "3it [00:00, 10.79it/s]\n",
      "3it [00:00, 13.07it/s]\n",
      "3it [00:00, 13.43it/s]\n",
      "3it [00:00, 14.95it/s]\n",
      "3it [00:00, 11.67it/s]\n",
      "3it [00:00, 15.14it/s]\n",
      "3it [00:00, 14.63it/s]\n",
      "3it [00:00, 15.23it/s]\n",
      "3it [00:00, 17.07it/s]\n",
      "3it [00:00,  9.94it/s]\n",
      "3it [00:00, 14.12it/s]\n",
      "3it [00:00, 16.45it/s]\n",
      "3it [00:00, 15.32it/s]\n",
      "3it [00:00, 12.02it/s]\n",
      "3it [00:00, 14.33it/s]\n"
     ]
    },
    {
     "name": "stdout",
     "output_type": "stream",
     "text": [
      "[ 3.57686821  3.58476361  2.3107557   4.04828355  6.50874402  1.55060267\n",
      "  1.14974589 -0.10702539  5.51459524  6.24092198  3.10221254  5.76735642\n",
      "  2.4419546   1.02114178  2.64892515  5.10436133]\n"
     ]
    },
    {
     "name": "stderr",
     "output_type": "stream",
     "text": [
      "3it [00:00, 13.81it/s]"
     ]
    },
    {
     "name": "stdout",
     "output_type": "stream",
     "text": [
      "CPU times: total: 22.1 s\n",
      "Wall time: 24.6 s\n"
     ]
    },
    {
     "name": "stderr",
     "output_type": "stream",
     "text": [
      "\n"
     ]
    }
   ],
   "source": [
    "%%time\n",
    "TI_approximated_eigenvalue = get_approximated_eigenvalue_of_hamiltonian(transverse_ising_2_qubits, \"linear\")"
   ]
  },
  {
   "cell_type": "code",
   "execution_count": 50,
   "id": "88b56e14",
   "metadata": {},
   "outputs": [
    {
     "name": "stdout",
     "output_type": "stream",
     "text": [
      "[(-1.0269745088446245+0j), (-0.9035465241407018+0j), (0.9035465241407012+0j), (1.0269745088446243+0j)]\n",
      "Exact Eigenvalue:\n",
      "(-1.0269745088446245+0j)\n",
      "\n",
      "Approximated Eigenvalue:\n",
      "-1.145319020897557\n",
      "\n",
      "Approximation Error\n",
      "0.11523607551474033\n"
     ]
    },
    {
     "data": {
      "image/png": "[encoded data removed]",
      "text/plain": [
       "<Figure size 432x288 with 1 Axes>"
      ]
     },
     "metadata": {
      "needs_background": "light"
     },
     "output_type": "display_data"
    }
   ],
   "source": [
    "compare_exact_and_approximated_eigenvalue(transverse_ising_2_qubits, TI_approximated_eigenvalue)"
   ]
  },
  {
   "cell_type": "markdown",
   "id": "49bb4028",
   "metadata": {},
   "source": [
    "#### Full Entangelment"
   ]
  },
  {
   "cell_type": "code",
   "execution_count": 51,
   "id": "c06487da",
   "metadata": {},
   "outputs": [
    {
     "name": "stderr",
     "output_type": "stream",
     "text": [
      "3it [00:00, 13.22it/s]\n",
      "3it [00:00, 10.20it/s]\n",
      "3it [00:00, 12.88it/s]\n",
      "3it [00:00, 14.88it/s]\n",
      "3it [00:00, 14.27it/s]\n",
      "3it [00:00, 10.38it/s]\n",
      "3it [00:00, 15.20it/s]\n",
      "3it [00:00, 15.80it/s]\n",
      "3it [00:00, 11.16it/s]\n",
      "3it [00:00, 13.45it/s]\n",
      "3it [00:00, 13.17it/s]\n",
      "3it [00:00, 11.02it/s]\n",
      "3it [00:00, 13.15it/s]\n",
      "3it [00:00, 12.75it/s]\n",
      "3it [00:00, 10.60it/s]\n",
      "3it [00:00, 15.27it/s]\n",
      "3it [00:00, 12.26it/s]\n",
      "3it [00:00, 12.71it/s]\n",
      "3it [00:00, 13.83it/s]\n",
      "3it [00:00, 14.18it/s]\n",
      "3it [00:00, 11.72it/s]\n",
      "3it [00:00, 13.15it/s]\n",
      "3it [00:00, 13.58it/s]\n",
      "3it [00:00, 10.09it/s]\n",
      "3it [00:00, 13.96it/s]\n",
      "3it [00:00, 14.90it/s]\n",
      "3it [00:00, 10.71it/s]\n",
      "3it [00:00, 14.25it/s]\n",
      "3it [00:00, 14.53it/s]\n",
      "3it [00:00, 12.37it/s]\n",
      "3it [00:00, 13.66it/s]\n",
      "3it [00:00, 14.75it/s]\n",
      "3it [00:00, 11.07it/s]\n",
      "3it [00:00, 14.30it/s]\n",
      "3it [00:00, 13.25it/s]\n",
      "3it [00:00, 12.32it/s]\n",
      "3it [00:00, 14.85it/s]\n",
      "3it [00:00, 13.66it/s]\n",
      "3it [00:00, 11.47it/s]\n",
      "3it [00:00, 13.47it/s]\n",
      "3it [00:00, 15.52it/s]\n",
      "3it [00:00, 11.62it/s]\n",
      "3it [00:00, 11.99it/s]\n",
      "3it [00:00, 12.93it/s]\n",
      "3it [00:00, 12.74it/s]\n",
      "3it [00:00, 12.82it/s]\n",
      "3it [00:00, 11.34it/s]\n",
      "3it [00:00, 16.08it/s]\n",
      "3it [00:00, 12.70it/s]\n",
      "3it [00:00, 11.94it/s]\n",
      "3it [00:00, 14.76it/s]\n",
      "3it [00:00, 13.62it/s]\n",
      "3it [00:00, 11.17it/s]\n",
      "3it [00:00, 16.54it/s]\n",
      "3it [00:00, 13.67it/s]\n",
      "3it [00:00, 11.78it/s]\n",
      "3it [00:00, 14.87it/s]\n",
      "3it [00:00, 13.39it/s]\n",
      "3it [00:00, 12.65it/s]\n",
      "3it [00:00, 13.22it/s]\n",
      "3it [00:00, 13.04it/s]\n",
      "3it [00:00, 13.39it/s]\n",
      "3it [00:00, 15.62it/s]\n",
      "3it [00:00, 12.09it/s]\n",
      "3it [00:00, 14.17it/s]\n",
      "3it [00:00, 13.31it/s]\n",
      "3it [00:00, 13.94it/s]\n",
      "3it [00:00, 10.10it/s]\n",
      "3it [00:00, 15.16it/s]\n",
      "3it [00:00, 14.36it/s]\n",
      "3it [00:00, 11.27it/s]\n",
      "3it [00:00, 13.08it/s]\n",
      "3it [00:00, 13.02it/s]\n",
      "3it [00:00, 14.14it/s]\n",
      "3it [00:00, 13.89it/s]\n",
      "3it [00:00, 10.55it/s]\n",
      "3it [00:00, 15.31it/s]\n",
      "3it [00:00, 12.79it/s]\n",
      "3it [00:00, 10.96it/s]\n",
      "3it [00:00, 13.34it/s]\n",
      "3it [00:00, 12.56it/s]\n",
      "3it [00:00, 11.53it/s]\n",
      "3it [00:00, 13.86it/s]\n",
      "3it [00:00, 13.57it/s]\n",
      "3it [00:00,  9.79it/s]\n",
      "3it [00:00, 14.93it/s]\n",
      "3it [00:00, 14.02it/s]\n",
      "3it [00:00, 11.56it/s]\n",
      "3it [00:00, 15.03it/s]\n",
      "3it [00:00, 13.97it/s]\n",
      "3it [00:00,  9.83it/s]\n",
      "3it [00:00, 14.50it/s]\n",
      "3it [00:00, 11.87it/s]\n",
      "3it [00:00, 11.17it/s]\n",
      "3it [00:00, 14.46it/s]\n",
      "3it [00:00, 14.36it/s]\n",
      "3it [00:00, 10.90it/s]\n",
      "3it [00:00, 15.05it/s]\n",
      "3it [00:00, 13.04it/s]\n",
      "3it [00:00, 10.77it/s]\n"
     ]
    },
    {
     "name": "stdout",
     "output_type": "stream",
     "text": [
      "[ 2.83685112  4.20892347  1.2127437   1.28693477  3.92003719  3.29763872\n",
      "  3.30537262  4.30583439  4.52130097  4.39663422 -0.21608839  0.93525796\n",
      "  2.17865071  0.34528419  2.99386465  0.2262219 ]\n"
     ]
    },
    {
     "name": "stderr",
     "output_type": "stream",
     "text": [
      "3it [00:00, 13.66it/s]"
     ]
    },
    {
     "name": "stdout",
     "output_type": "stream",
     "text": [
      "CPU times: total: 21.8 s\n",
      "Wall time: 24.5 s\n"
     ]
    },
    {
     "name": "stderr",
     "output_type": "stream",
     "text": [
      "\n"
     ]
    }
   ],
   "source": [
    "%%time\n",
    "TI_approximated_eigenvalue = get_approximated_eigenvalue_of_hamiltonian(transverse_ising_2_qubits, \"full\")"
   ]
  },
  {
   "cell_type": "code",
   "execution_count": 52,
   "id": "65ad38bc",
   "metadata": {},
   "outputs": [
    {
     "name": "stdout",
     "output_type": "stream",
     "text": [
      "[(-1.0269745088446245+0j), (-0.9035465241407018+0j), (0.9035465241407012+0j), (1.0269745088446243+0j)]\n",
      "Exact Eigenvalue:\n",
      "(-1.0269745088446245+0j)\n",
      "\n",
      "Approximated Eigenvalue:\n",
      "-1.0809723403699616\n",
      "\n",
      "Approximation Error\n",
      "0.0525795246720254\n"
     ]
    },
    {
     "data": {
      "image/png": "[encoded data removed]",
      "text/plain": [
       "<Figure size 432x288 with 1 Axes>"
      ]
     },
     "metadata": {
      "needs_background": "light"
     },
     "output_type": "display_data"
    }
   ],
   "source": [
    "compare_exact_and_approximated_eigenvalue(transverse_ising_2_qubits, TI_approximated_eigenvalue)"
   ]
  },
  {
   "cell_type": "markdown",
   "id": "e9cf7ccb",
   "metadata": {},
   "source": [
    "## H2 Molecule 2 qubits"
   ]
  },
  {
   "cell_type": "code",
   "execution_count": 53,
   "id": "2909cd68",
   "metadata": {},
   "outputs": [],
   "source": [
    "from qiskit.opflow import X, Z, I\n",
    "\n",
    "H2_molecule_Hamiltonian_2_qubits = -0.5053051899926562*(I^I) + \\\n",
    "                            -0.3277380754984016*(Z^I) + \\\n",
    "                            0.15567463610622564*(Z^Z) + \\\n",
    "                            -0.3277380754984016*(I^Z)"
   ]
  },
  {
   "cell_type": "markdown",
   "id": "a3af5292",
   "metadata": {},
   "source": [
    "#### Linear Entangelment"
   ]
  },
  {
   "cell_type": "code",
   "execution_count": 54,
   "id": "6fe25ff3",
   "metadata": {},
   "outputs": [
    {
     "name": "stderr",
     "output_type": "stream",
     "text": [
      "4it [00:00, 12.35it/s]\n",
      "4it [00:00, 13.96it/s]\n",
      "4it [00:00,  9.66it/s]\n",
      "4it [00:00, 14.33it/s]\n",
      "4it [00:00, 11.81it/s]\n",
      "4it [00:00, 12.93it/s]\n",
      "4it [00:00, 11.44it/s]\n",
      "4it [00:00, 14.43it/s]\n",
      "4it [00:00, 16.08it/s]\n",
      "4it [00:00, 12.98it/s]\n",
      "4it [00:00, 14.59it/s]\n",
      "4it [00:00, 13.75it/s]\n",
      "4it [00:00, 12.91it/s]\n",
      "4it [00:00, 14.25it/s]\n",
      "4it [00:00, 11.49it/s]\n",
      "4it [00:00, 15.84it/s]\n",
      "4it [00:00, 10.73it/s]\n",
      "4it [00:00, 14.03it/s]\n",
      "4it [00:00, 14.47it/s]\n",
      "4it [00:00, 14.27it/s]\n",
      "4it [00:00, 11.80it/s]\n",
      "4it [00:00, 15.43it/s]\n",
      "4it [00:00, 12.36it/s]\n",
      "4it [00:00, 13.93it/s]\n",
      "4it [00:00, 15.00it/s]\n",
      "4it [00:00, 13.54it/s]\n",
      "4it [00:00, 13.49it/s]\n",
      "4it [00:00, 10.34it/s]\n",
      "4it [00:00, 14.55it/s]\n",
      "4it [00:00, 15.09it/s]\n",
      "4it [00:00, 11.91it/s]\n",
      "4it [00:00, 14.60it/s]\n",
      "4it [00:00, 10.85it/s]\n",
      "4it [00:00, 13.25it/s]\n",
      "4it [00:00, 12.42it/s]\n",
      "4it [00:00, 14.00it/s]\n",
      "4it [00:00, 12.45it/s]\n",
      "4it [00:00, 12.66it/s]\n",
      "4it [00:00, 12.33it/s]\n",
      "4it [00:00, 12.28it/s]\n",
      "4it [00:00, 11.16it/s]\n",
      "4it [00:00, 13.20it/s]\n",
      "4it [00:00, 14.27it/s]\n",
      "4it [00:00, 12.17it/s]\n",
      "4it [00:00, 16.69it/s]\n",
      "4it [00:00, 13.22it/s]\n",
      "4it [00:00, 13.86it/s]\n",
      "4it [00:00, 11.59it/s]\n",
      "4it [00:00, 14.96it/s]\n",
      "4it [00:00, 13.87it/s]\n",
      "4it [00:00, 12.71it/s]\n",
      "4it [00:00, 13.46it/s]\n",
      "4it [00:00, 12.08it/s]\n",
      "4it [00:00, 13.88it/s]\n",
      "4it [00:00, 11.16it/s]\n",
      "4it [00:00, 14.18it/s]\n",
      "4it [00:00, 11.82it/s]\n",
      "4it [00:00, 13.56it/s]\n",
      "4it [00:00, 11.55it/s]\n",
      "4it [00:00, 14.05it/s]\n",
      "4it [00:00, 11.55it/s]\n",
      "4it [00:00, 15.20it/s]\n",
      "4it [00:00, 13.06it/s]\n",
      "4it [00:00, 12.01it/s]\n",
      "4it [00:00, 13.01it/s]\n",
      "4it [00:00, 12.57it/s]\n",
      "4it [00:00, 13.92it/s]\n",
      "4it [00:00, 11.29it/s]\n",
      "4it [00:00, 15.01it/s]\n",
      "4it [00:00, 10.29it/s]\n",
      "4it [00:00, 13.06it/s]\n",
      "4it [00:00, 12.39it/s]\n",
      "4it [00:00, 14.28it/s]\n",
      "4it [00:00, 11.54it/s]\n",
      "4it [00:00, 14.34it/s]\n",
      "4it [00:00, 13.12it/s]\n",
      "4it [00:00, 13.39it/s]\n",
      "4it [00:00, 14.61it/s]\n",
      "4it [00:00, 13.34it/s]\n",
      "4it [00:00, 14.61it/s]\n",
      "4it [00:00, 12.10it/s]\n",
      "4it [00:00, 15.14it/s]\n",
      "4it [00:00, 12.33it/s]\n",
      "4it [00:00, 13.68it/s]\n",
      "4it [00:00, 13.55it/s]\n",
      "4it [00:00, 13.90it/s]\n",
      "4it [00:00, 12.96it/s]\n",
      "4it [00:00, 14.18it/s]\n",
      "4it [00:00, 14.64it/s]\n",
      "4it [00:00, 12.03it/s]\n",
      "4it [00:00, 15.03it/s]\n",
      "4it [00:00, 14.42it/s]\n",
      "4it [00:00, 13.97it/s]\n",
      "4it [00:00, 13.54it/s]\n",
      "4it [00:00, 11.86it/s]\n",
      "4it [00:00, 15.94it/s]\n",
      "4it [00:00, 14.14it/s]\n",
      "4it [00:00, 12.88it/s]\n",
      "4it [00:00, 15.62it/s]\n",
      "4it [00:00, 11.94it/s]\n"
     ]
    },
    {
     "name": "stdout",
     "output_type": "stream",
     "text": [
      "[4.10034933 6.65996832 4.46432956 0.45900631 3.9749553  5.6809294\n",
      " 1.70617417 0.21660472 0.79612904 3.34309152 0.94704372 1.03910995\n",
      " 5.71368116 0.92371338 3.17771698 1.26462812]\n"
     ]
    },
    {
     "name": "stderr",
     "output_type": "stream",
     "text": [
      "4it [00:00, 15.91it/s]"
     ]
    },
    {
     "name": "stdout",
     "output_type": "stream",
     "text": [
      "CPU times: total: 28.4 s\n",
      "Wall time: 32 s\n"
     ]
    },
    {
     "name": "stderr",
     "output_type": "stream",
     "text": [
      "\n"
     ]
    }
   ],
   "source": [
    "%%time\n",
    "H2_approximated_eigenvalue = get_approximated_eigenvalue_of_hamiltonian(H2_molecule_Hamiltonian_2_qubits, \"linear\")"
   ]
  },
  {
   "cell_type": "code",
   "execution_count": 55,
   "id": "692be58b",
   "metadata": {},
   "outputs": [
    {
     "name": "stdout",
     "output_type": "stream",
     "text": [
      "[(-1.0051067048832336+0j), (-0.6609798260988818+0j), (-0.6609798260988818+0j), (0.30584559711037274+0j)]\n",
      "Exact Eigenvalue:\n",
      "(-1.0051067048832336+0j)\n",
      "\n",
      "Approximated Eigenvalue:\n",
      "-1.0001298025701268\n",
      "\n",
      "Approximation Error\n",
      "0.004951615872152549\n"
     ]
    },
    {
     "data": {
      "image/png": "[encoded data removed]",
      "text/plain": [
       "<Figure size 432x288 with 1 Axes>"
      ]
     },
     "metadata": {
      "needs_background": "light"
     },
     "output_type": "display_data"
    }
   ],
   "source": [
    "compare_exact_and_approximated_eigenvalue(H2_molecule_Hamiltonian_2_qubits, H2_approximated_eigenvalue)"
   ]
  },
  {
   "cell_type": "markdown",
   "id": "46aa3a97",
   "metadata": {},
   "source": [
    "#### Full Entangelment"
   ]
  },
  {
   "cell_type": "code",
   "execution_count": 56,
   "id": "c027435b",
   "metadata": {},
   "outputs": [
    {
     "name": "stderr",
     "output_type": "stream",
     "text": [
      "4it [00:00, 14.69it/s]\n",
      "4it [00:00, 12.60it/s]\n",
      "4it [00:00, 13.68it/s]\n",
      "4it [00:00, 12.99it/s]\n",
      "4it [00:00, 13.24it/s]\n",
      "4it [00:00, 13.23it/s]\n",
      "4it [00:00, 13.64it/s]\n",
      "4it [00:00, 13.50it/s]\n",
      "4it [00:00, 13.12it/s]\n",
      "4it [00:00, 15.27it/s]\n",
      "4it [00:00, 14.43it/s]\n",
      "4it [00:00, 13.72it/s]\n",
      "4it [00:00, 15.08it/s]\n",
      "4it [00:00, 12.31it/s]\n",
      "4it [00:00,  9.73it/s]\n",
      "4it [00:00, 13.77it/s]\n",
      "4it [00:00, 14.35it/s]\n",
      "4it [00:00, 13.99it/s]\n",
      "4it [00:00, 15.02it/s]\n",
      "4it [00:00, 14.31it/s]\n",
      "4it [00:00, 11.86it/s]\n",
      "4it [00:00, 13.74it/s]\n",
      "4it [00:00, 13.07it/s]\n",
      "4it [00:00, 15.48it/s]\n",
      "4it [00:00, 12.56it/s]\n",
      "4it [00:00, 14.51it/s]\n",
      "4it [00:00, 11.42it/s]\n",
      "4it [00:00, 13.62it/s]\n",
      "4it [00:00, 11.77it/s]\n",
      "4it [00:00, 14.27it/s]\n",
      "4it [00:00, 14.05it/s]\n",
      "4it [00:00, 13.65it/s]\n",
      "4it [00:00, 15.66it/s]\n",
      "4it [00:00, 14.27it/s]\n",
      "4it [00:00, 14.17it/s]\n",
      "4it [00:00, 13.73it/s]\n",
      "4it [00:00, 16.08it/s]\n",
      "4it [00:00, 14.76it/s]\n",
      "4it [00:00, 12.48it/s]\n",
      "4it [00:00, 15.43it/s]\n",
      "4it [00:00, 13.18it/s]\n",
      "4it [00:00, 13.39it/s]\n",
      "4it [00:00, 14.69it/s]\n",
      "4it [00:00, 13.41it/s]\n",
      "4it [00:00, 17.21it/s]\n",
      "4it [00:00, 12.50it/s]\n",
      "4it [00:00, 13.37it/s]\n",
      "4it [00:00, 13.83it/s]\n",
      "4it [00:00, 14.01it/s]\n",
      "4it [00:00, 15.09it/s]\n",
      "4it [00:00, 12.70it/s]\n",
      "4it [00:00, 14.80it/s]\n",
      "4it [00:00, 14.90it/s]\n",
      "4it [00:00, 12.30it/s]\n",
      "4it [00:00, 15.68it/s]\n",
      "4it [00:00, 11.29it/s]\n",
      "4it [00:00, 14.54it/s]\n",
      "4it [00:00, 12.02it/s]\n",
      "4it [00:00, 15.05it/s]\n",
      "4it [00:00, 12.63it/s]\n",
      "4it [00:00, 13.89it/s]\n",
      "4it [00:00, 16.42it/s]\n",
      "4it [00:00, 12.60it/s]\n",
      "4it [00:00, 14.23it/s]\n",
      "4it [00:00, 13.38it/s]\n",
      "4it [00:00, 15.51it/s]\n",
      "4it [00:00, 13.88it/s]\n",
      "4it [00:00, 16.72it/s]\n",
      "4it [00:00, 13.42it/s]\n",
      "4it [00:00, 13.88it/s]\n",
      "4it [00:00, 12.87it/s]\n",
      "4it [00:00, 13.45it/s]\n",
      "4it [00:00, 14.31it/s]\n",
      "4it [00:00, 11.88it/s]\n",
      "4it [00:00, 15.80it/s]\n",
      "4it [00:00, 13.17it/s]\n",
      "4it [00:00, 13.79it/s]\n",
      "4it [00:00, 14.48it/s]\n",
      "4it [00:00, 14.15it/s]\n",
      "4it [00:00, 13.64it/s]\n",
      "4it [00:00, 13.78it/s]\n",
      "4it [00:00, 14.93it/s]\n",
      "4it [00:00, 13.64it/s]\n",
      "4it [00:00, 13.56it/s]\n",
      "4it [00:00, 14.66it/s]\n",
      "4it [00:00, 13.68it/s]\n",
      "4it [00:00, 14.99it/s]\n",
      "4it [00:00, 12.93it/s]\n",
      "4it [00:00, 13.12it/s]\n",
      "4it [00:00, 11.71it/s]\n",
      "4it [00:00, 15.68it/s]\n",
      "4it [00:00, 15.37it/s]\n",
      "4it [00:00, 13.56it/s]\n",
      "4it [00:00, 12.89it/s]\n",
      "4it [00:00, 13.16it/s]\n",
      "4it [00:00, 14.50it/s]\n",
      "4it [00:00, 13.25it/s]\n",
      "4it [00:00, 15.26it/s]\n",
      "4it [00:00, 15.23it/s]\n",
      "4it [00:00, 13.26it/s]\n"
     ]
    },
    {
     "name": "stdout",
     "output_type": "stream",
     "text": [
      "[7.00683242 1.63502446 5.50571157 2.44627541 1.82263586 3.13767041\n",
      " 3.94752122 0.96392378 4.49006165 0.53113032 5.70745587 2.66237751\n",
      " 5.1644921  0.2415953  0.40619608 6.72408971]\n"
     ]
    },
    {
     "name": "stderr",
     "output_type": "stream",
     "text": [
      "4it [00:00, 15.20it/s]"
     ]
    },
    {
     "name": "stdout",
     "output_type": "stream",
     "text": [
      "CPU times: total: 28.6 s\n",
      "Wall time: 30.6 s\n"
     ]
    },
    {
     "name": "stderr",
     "output_type": "stream",
     "text": [
      "\n"
     ]
    }
   ],
   "source": [
    "%%time\n",
    "H2_approximated_eigenvalue = get_approximated_eigenvalue_of_hamiltonian(H2_molecule_Hamiltonian_2_qubits, \"full\")"
   ]
  },
  {
   "cell_type": "code",
   "execution_count": 57,
   "id": "d45ad4e5",
   "metadata": {},
   "outputs": [
    {
     "name": "stdout",
     "output_type": "stream",
     "text": [
      "[(-1.0051067048832336+0j), (-0.6609798260988818+0j), (-0.6609798260988818+0j), (0.30584559711037274+0j)]\n",
      "Exact Eigenvalue:\n",
      "(-1.0051067048832336+0j)\n",
      "\n",
      "Approximated Eigenvalue:\n",
      "-1.002466190615033\n",
      "\n",
      "Approximation Error\n",
      "0.0026270984517085907\n"
     ]
    },
    {
     "data": {
      "image/png": "[encoded data removed]",
      "text/plain": [
       "<Figure size 432x288 with 1 Axes>"
      ]
     },
     "metadata": {
      "needs_background": "light"
     },
     "output_type": "display_data"
    }
   ],
   "source": [
    "compare_exact_and_approximated_eigenvalue(H2_molecule_Hamiltonian_2_qubits, H2_approximated_eigenvalue)"
   ]
  }
 ],
 "metadata": {
  "kernelspec": {
   "display_name": "Qiskitenv",
   "language": "python",
   "name": "qiskitenv"
  },
  "language_info": {
   "codemirror_mode": {
    "name": "ipython",
    "version": 3
   },
   "file_extension": ".py",
   "mimetype": "text/x-python",
   "name": "python",
   "nbconvert_exporter": "python",
   "pygments_lexer": "ipython3",
   "version": "3.8.13"
  }
 },
 "nbformat": 4,
 "nbformat_minor": 5
}
