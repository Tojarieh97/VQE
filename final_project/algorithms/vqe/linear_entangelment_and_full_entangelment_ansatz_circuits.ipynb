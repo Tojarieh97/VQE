{
 "cells": [
  {
   "cell_type": "code",
   "execution_count": 4,
   "id": "7df1bd0f",
   "metadata": {},
   "outputs": [],
   "source": [
    "from qiskit.circuit.library.standard_gates import RXGate, RZGate, RYGate, CXGate, CZGate, SGate, HGate\n",
    "from qiskit import QuantumCircuit, ClassicalRegister, QuantumRegister\n",
    "\n",
    "import numpy as np"
   ]
  },
  {
   "cell_type": "code",
   "execution_count": 12,
   "id": "30dc72a4",
   "metadata": {},
   "outputs": [],
   "source": [
    "def get_linear_entangelment_ansatz(num_of_qubits, thetas, circuit_depth):\n",
    "    quantum_register = QuantumRegister(num_of_qubits, name=\"qubit\")\n",
    "    quantum_circuit = QuantumCircuit(quantum_register)\n",
    "\n",
    "    for iteration in range(circuit_depth):\n",
    "        for qubit_index in range(num_of_qubits):\n",
    "            RY_theta_index = iteration*2*num_of_qubits + qubit_index\n",
    "            RZ_theta_index = RY_theta_index + num_of_qubits\n",
    "            \n",
    "            quantum_circuit.append(RYGate(thetas[RY_theta_index]), [quantum_register[qubit_index]])\n",
    "            quantum_circuit.append(RZGate(thetas[RZ_theta_index]), [quantum_register[qubit_index]])\n",
    "            \n",
    "        for qubit_index in range(num_of_qubits - 1):\n",
    "            quantum_circuit.append(CXGate(), [quantum_register[qubit_index], quantum_register[qubit_index + 1]])\n",
    "\n",
    "    for qubit_index in range(num_of_qubits):\n",
    "            RY_theta_index = 2*num_of_qubits*circuit_depth + qubit_index\n",
    "            RZ_theta_index = RY_theta_index + num_of_qubits\n",
    "            quantum_circuit.append(RYGate(thetas[RY_theta_index]), [quantum_register[qubit_index]])\n",
    "            quantum_circuit.append(RZGate(thetas[RZ_theta_index]), [quantum_register[qubit_index]])\n",
    "\n",
    "    return quantum_circuit"
   ]
  },
  {
   "cell_type": "code",
   "execution_count": 26,
   "id": "8e40efc3",
   "metadata": {},
   "outputs": [],
   "source": [
    "def get_full_entangelment_ansatz(num_of_qubits, thetas, circuit_depth):\n",
    "    quantum_register = QuantumRegister(num_of_qubits, name=\"qubit\")\n",
    "    quantum_circuit = QuantumCircuit(quantum_register)\n",
    "\n",
    "    for iteration in range(circuit_depth):\n",
    "        for qubit_index in range(num_of_qubits):\n",
    "            RY_theta_index = iteration*2*num_of_qubits + qubit_index\n",
    "            RZ_theta_index = RY_theta_index + num_of_qubits\n",
    "            \n",
    "            quantum_circuit.append(RYGate(thetas[RY_theta_index]), [quantum_register[qubit_index]])\n",
    "            quantum_circuit.append(RZGate(thetas[RZ_theta_index]), [quantum_register[qubit_index]])\n",
    "        for qubit_index in range(num_of_qubits - 1):\n",
    "            for target_qubit_index in range(qubit_index + 1, num_of_qubits):\n",
    "                quantum_circuit.append(CXGate(), [quantum_register[qubit_index], quantum_register[target_qubit_index]])\n",
    "\n",
    "    for qubit_index in range(num_of_qubits):\n",
    "            RY_theta_index = 2*num_of_qubits*circuit_depth + qubit_index\n",
    "            RZ_theta_index = RY_theta_index + num_of_qubits\n",
    "            \n",
    "            quantum_circuit.append(RYGate(thetas[RY_theta_index]), [quantum_register[qubit_index]])\n",
    "            quantum_circuit.append(RZGate(thetas[RZ_theta_index]), [quantum_register[qubit_index]])\n",
    "\n",
    "    return quantum_circuit"
   ]
  },
  {
   "cell_type": "markdown",
   "id": "57b537b7",
   "metadata": {},
   "source": [
    "## Linear entangelment ansatz"
   ]
  },
  {
   "cell_type": "code",
   "execution_count": 20,
   "id": "702b6973",
   "metadata": {},
   "outputs": [
    {
     "name": "stdout",
     "output_type": "stream",
     "text": [
      "         ┌────────────┐┌────────────┐     ┌────────────┐ ┌────────────┐»\n",
      "qubit_0: ┤ Ry(4.4144) ├┤ Rz(2.3125) ├──■──┤ Ry(3.7734) ├─┤ Rz(4.5814) ├»\n",
      "         ├────────────┤├────────────┤┌─┴─┐└────────────┘┌┴────────────┤»\n",
      "qubit_1: ┤ Ry(5.2589) ├┤ Rz(1.3301) ├┤ X ├──────■───────┤ Ry(0.36333) ├»\n",
      "         ├────────────┤├────────────┤└───┘    ┌─┴─┐     └─────────────┘»\n",
      "qubit_2: ┤ Ry(5.0942) ├┤ Rz(4.2309) ├─────────┤ X ├────────────■───────»\n",
      "         ├────────────┤├───────────┬┘         └───┘          ┌─┴─┐     »\n",
      "qubit_3: ┤ Ry(5.1178) ├┤ Rz(4.279) ├─────────────────────────┤ X ├─────»\n",
      "         └────────────┘└───────────┘                         └───┘     »\n",
      "«                                       ┌────────────┐┌────────────┐»\n",
      "«qubit_0: ──────────────────────■───────┤ Ry(2.6083) ├┤ Rz(3.9107) ├»\n",
      "«          ┌────────────┐     ┌─┴─┐     └────────────┘├────────────┤»\n",
      "«qubit_1: ─┤ Rz(1.6227) ├─────┤ X ├───────────■───────┤ Ry(3.8693) ├»\n",
      "«          ├────────────┤ ┌───┴───┴────┐    ┌─┴─┐     └────────────┘»\n",
      "«qubit_2: ─┤ Ry(1.2098) ├─┤ Rz(2.3964) ├────┤ X ├───────────■───────»\n",
      "«         ┌┴────────────┤┌┴────────────┤    └───┘         ┌─┴─┐     »\n",
      "«qubit_3: ┤ Ry(0.27261) ├┤ Rz(0.11223) ├──────────────────┤ X ├─────»\n",
      "«         └─────────────┘└─────────────┘                  └───┘     »\n",
      "«                                      ┌─────────────┐┌─────────────┐»\n",
      "«qubit_0: ─────────────────────■───────┤ Ry(0.25669) ├┤ Rz(0.38054) ├»\n",
      "«          ┌────────────┐    ┌─┴─┐     └─────────────┘└┬────────────┤»\n",
      "«qubit_1: ─┤ Rz(4.1835) ├────┤ X ├────────────■────────┤ Ry(4.8087) ├»\n",
      "«         ┌┴────────────┤┌───┴───┴────┐     ┌─┴─┐      └────────────┘»\n",
      "«qubit_2: ┤ Ry(0.56601) ├┤ Rz(6.1106) ├─────┤ X ├────────────■───────»\n",
      "«         ├─────────────┤├────────────┤     └───┘          ┌─┴─┐     »\n",
      "«qubit_3: ┤ Ry(0.24691) ├┤ Rz(1.5423) ├────────────────────┤ X ├─────»\n",
      "«         └─────────────┘└────────────┘                    └───┘     »\n",
      "«                                     \n",
      "«qubit_0: ────────────────────────────\n",
      "«         ┌────────────┐              \n",
      "«qubit_1: ┤ Rz(2.1616) ├──────────────\n",
      "«         ├───────────┬┘┌────────────┐\n",
      "«qubit_2: ┤ Ry(1.183) ├─┤ Rz(5.5188) ├\n",
      "«         ├───────────┴┐├────────────┤\n",
      "«qubit_3: ┤ Ry(2.3139) ├┤ Rz(3.2074) ├\n",
      "«         └────────────┘└────────────┘\n"
     ]
    }
   ],
   "source": [
    "initial_thetas = np.random.uniform(low=0, high=2*np.pi, size=32)\n",
    "print(get_linear_entangelment_ansatz(4, initial_thetas, 3))"
   ]
  },
  {
   "cell_type": "markdown",
   "id": "4cea9905",
   "metadata": {},
   "source": [
    "## Full entangelment ansatz"
   ]
  },
  {
   "cell_type": "code",
   "execution_count": 27,
   "id": "f96a2f3b",
   "metadata": {},
   "outputs": [
    {
     "name": "stdout",
     "output_type": "stream",
     "text": [
      "         ┌────────────┐ ┌────────────┐               ┌────────────┐»\n",
      "qubit_0: ┤ Ry(2.0517) ├─┤ Rz(2.6014) ├──■────■────■──┤ Ry(3.4748) ├»\n",
      "         ├────────────┤┌┴────────────┤┌─┴─┐  │    │  └────────────┘»\n",
      "qubit_1: ┤ Ry(5.5047) ├┤ Rz(0.79319) ├┤ X ├──┼────┼────────■───────»\n",
      "         ├────────────┤└┬────────────┤└───┘┌─┴─┐  │      ┌─┴─┐     »\n",
      "qubit_2: ┤ Ry(3.0985) ├─┤ Rz(4.1634) ├─────┤ X ├──┼──────┤ X ├─────»\n",
      "         ├────────────┤ ├────────────┤     └───┘┌─┴─┐    └───┘     »\n",
      "qubit_3: ┤ Ry(1.8068) ├─┤ Rz(4.8373) ├──────────┤ X ├──────────────»\n",
      "         └────────────┘ └────────────┘          └───┘              »\n",
      "«         ┌────────────┐                                                     »\n",
      "«qubit_0: ┤ Rz(3.8807) ├───────────────────────────────────■─────────■────■──»\n",
      "«         └────────────┘┌────────────┐ ┌────────────┐    ┌─┴─┐       │    │  »\n",
      "«qubit_1: ──────■───────┤ Ry(2.4805) ├─┤ Rz(6.0811) ├────┤ X ├───────┼────┼──»\n",
      "«               │       └────────────┘┌┴────────────┤┌───┴───┴────┐┌─┴─┐  │  »\n",
      "«qubit_2: ──────┼─────────────■───────┤ Ry(0.85696) ├┤ Rz(2.9265) ├┤ X ├──┼──»\n",
      "«             ┌─┴─┐         ┌─┴─┐     └┬────────────┤├────────────┤└───┘┌─┴─┐»\n",
      "«qubit_3: ────┤ X ├─────────┤ X ├──────┤ Ry(5.4956) ├┤ Rz(2.2153) ├─────┤ X ├»\n",
      "«             └───┘         └───┘      └────────────┘└────────────┘     └───┘»\n",
      "«         ┌────────────┐┌────────────┐                             »\n",
      "«qubit_0: ┤ Ry(4.3211) ├┤ Rz(3.5637) ├─────────────────────────────»\n",
      "«         └────────────┘└────────────┘┌────────────┐ ┌────────────┐»\n",
      "«qubit_1: ──────■─────────────■───────┤ Ry(5.9925) ├─┤ Rz(0.3377) ├»\n",
      "«             ┌─┴─┐           │       └────────────┘┌┴────────────┤»\n",
      "«qubit_2: ────┤ X ├───────────┼─────────────■───────┤ Ry(0.24984) ├»\n",
      "«             └───┘         ┌─┴─┐         ┌─┴─┐     └┬───────────┬┘»\n",
      "«qubit_3: ──────────────────┤ X ├─────────┤ X ├──────┤ Ry(2.197) ├─»\n",
      "«                           └───┘         └───┘      └───────────┘ »\n",
      "«                                 ┌────────────┐┌────────────┐              »\n",
      "«qubit_0: ──────■─────────■────■──┤ Ry(3.5716) ├┤ Rz(2.7482) ├──────────────»\n",
      "«             ┌─┴─┐       │    │  └────────────┘└────────────┘┌────────────┐»\n",
      "«qubit_1: ────┤ X ├───────┼────┼────────■─────────────■───────┤ Ry(6.0688) ├»\n",
      "«         ┌───┴───┴────┐┌─┴─┐  │      ┌─┴─┐           │       └────────────┘»\n",
      "«qubit_2: ┤ Rz(3.7511) ├┤ X ├──┼──────┤ X ├───────────┼─────────────■───────»\n",
      "«         ├────────────┤└───┘┌─┴─┐    └───┘         ┌─┴─┐         ┌─┴─┐     »\n",
      "«qubit_3: ┤ Rz(4.7208) ├─────┤ X ├──────────────────┤ X ├─────────┤ X ├─────»\n",
      "«         └────────────┘     └───┘                  └───┘         └───┘     »\n",
      "«                                     \n",
      "«qubit_0: ────────────────────────────\n",
      "«         ┌────────────┐              \n",
      "«qubit_1: ┤ Rz(5.4126) ├──────────────\n",
      "«         ├────────────┤┌────────────┐\n",
      "«qubit_2: ┤ Ry(2.4805) ├┤ Rz(5.8693) ├\n",
      "«         ├────────────┤├────────────┤\n",
      "«qubit_3: ┤ Ry(2.7072) ├┤ Rz(3.0992) ├\n",
      "«         └────────────┘└────────────┘\n"
     ]
    }
   ],
   "source": [
    "initial_thetas = np.random.uniform(low=0, high=2*np.pi, size=32)\n",
    "print(get_full_entangelment_ansatz(4, initial_thetas, 3))"
   ]
  },
  {
   "cell_type": "code",
   "execution_count": null,
   "id": "1362e1e3",
   "metadata": {},
   "outputs": [],
   "source": []
  }
 ],
 "metadata": {
  "kernelspec": {
   "display_name": "Qiskitenv",
   "language": "python",
   "name": "qiskitenv"
  },
  "language_info": {
   "codemirror_mode": {
    "name": "ipython",
    "version": 3
   },
   "file_extension": ".py",
   "mimetype": "text/x-python",
   "name": "python",
   "nbconvert_exporter": "python",
   "pygments_lexer": "ipython3",
   "version": "3.8.13"
  }
 },
 "nbformat": 4,
 "nbformat_minor": 5
}
