{
 "cells": [
  {
   "cell_type": "code",
   "execution_count": 6,
   "id": "1ab129c5",
   "metadata": {},
   "outputs": [],
   "source": [
    "%load_ext autoreload\n",
    "%autoreload 2"
   ]
  },
  {
   "cell_type": "code",
   "execution_count": 2,
   "id": "7df1bd0f",
   "metadata": {},
   "outputs": [],
   "source": [
    "from qiskit.circuit.library.standard_gates import RXGate, RZGate, RYGate, CXGate, CZGate, SGate, HGate\n",
    "from qiskit import QuantumCircuit, ClassicalRegister, QuantumRegister\n",
    "\n",
    "import numpy as np"
   ]
  },
  {
   "cell_type": "code",
   "execution_count": 3,
   "id": "30dc72a4",
   "metadata": {},
   "outputs": [],
   "source": [
    "def get_linear_entangelment_ansatz(num_of_qubits, thetas, input_state, circuit_depth=3):\n",
    "    quantum_register = QuantumRegister(num_of_qubits, name=\"qubit\")\n",
    "    quantum_circuit = QuantumCircuit(quantum_register)\n",
    "    quantum_circuit.initialize(input_state)\n",
    "\n",
    "    for iteration in range(circuit_depth):\n",
    "        for qubit_index in range(num_of_qubits):\n",
    "            RY_theta_index = iteration*2*num_of_qubits + qubit_index\n",
    "            RZ_theta_index = RY_theta_index + num_of_qubits\n",
    "            \n",
    "            quantum_circuit.append(RYGate(thetas[RY_theta_index]), [quantum_register[qubit_index]])\n",
    "            quantum_circuit.append(RZGate(thetas[RZ_theta_index]), [quantum_register[qubit_index]])\n",
    "            \n",
    "        for qubit_index in range(num_of_qubits - 1):\n",
    "            quantum_circuit.append(CXGate(), [quantum_register[qubit_index], quantum_register[qubit_index + 1]])\n",
    "\n",
    "    for qubit_index in range(num_of_qubits):\n",
    "            RY_theta_index = 2*num_of_qubits*circuit_depth + qubit_index\n",
    "            RZ_theta_index = RY_theta_index + num_of_qubits\n",
    "            quantum_circuit.append(RYGate(thetas[RY_theta_index]), [quantum_register[qubit_index]])\n",
    "            quantum_circuit.append(RZGate(thetas[RZ_theta_index]), [quantum_register[qubit_index]])\n",
    "\n",
    "    return quantum_circuit"
   ]
  },
  {
   "cell_type": "code",
   "execution_count": 4,
   "id": "8e40efc3",
   "metadata": {},
   "outputs": [],
   "source": [
    "def get_full_entangelment_ansatz(num_of_qubits, thetas, input_state, circuit_depth=3):\n",
    "    quantum_register = QuantumRegister(num_of_qubits, name=\"qubit\")\n",
    "    quantum_circuit = QuantumCircuit(quantum_register)\n",
    "    quantum_circuit.initialize(input_state)\n",
    "\n",
    "    for iteration in range(circuit_depth):\n",
    "        for qubit_index in range(num_of_qubits):\n",
    "            RY_theta_index = iteration*2*num_of_qubits + qubit_index\n",
    "            RZ_theta_index = RY_theta_index + num_of_qubits\n",
    "            \n",
    "            quantum_circuit.append(RYGate(thetas[RY_theta_index]), [quantum_register[qubit_index]])\n",
    "            quantum_circuit.append(RZGate(thetas[RZ_theta_index]), [quantum_register[qubit_index]])\n",
    "        for qubit_index in range(num_of_qubits - 1):\n",
    "            for target_qubit_index in range(qubit_index + 1, num_of_qubits):\n",
    "                quantum_circuit.append(CXGate(), [quantum_register[qubit_index], quantum_register[target_qubit_index]])\n",
    "\n",
    "    for qubit_index in range(num_of_qubits):\n",
    "            RY_theta_index = 2*num_of_qubits*circuit_depth + qubit_index\n",
    "            RZ_theta_index = RY_theta_index + num_of_qubits\n",
    "            \n",
    "            quantum_circuit.append(RYGate(thetas[RY_theta_index]), [quantum_register[qubit_index]])\n",
    "            quantum_circuit.append(RZGate(thetas[RZ_theta_index]), [quantum_register[qubit_index]])\n",
    "\n",
    "    return quantum_circuit"
   ]
  },
  {
   "cell_type": "markdown",
   "id": "57b537b7",
   "metadata": {},
   "source": [
    "## Linear entangelment ansatz"
   ]
  },
  {
   "cell_type": "code",
   "execution_count": 5,
   "id": "702b6973",
   "metadata": {},
   "outputs": [
    {
     "name": "stdout",
     "output_type": "stream",
     "text": [
      "         ┌────────────────┐┌────────────┐┌────────────┐     ┌────────────┐»\n",
      "qubit_0: ┤0               ├┤ Ry(159.83) ├┤ Rz(25.965) ├──■──┤ Ry(110.46) ├»\n",
      "         │                │├────────────┤├────────────┤┌─┴─┐└────────────┘»\n",
      "qubit_1: ┤1               ├┤ Ry(60.518) ├┤ Rz(72.181) ├┤ X ├──────■───────»\n",
      "         │  Initialize(3) │├────────────┤├────────────┤└───┘    ┌─┴─┐     »\n",
      "qubit_2: ┤2               ├┤ Ry(356.05) ├┤ Rz(307.48) ├─────────┤ X ├─────»\n",
      "         │                │├────────────┤├────────────┤         └───┘     »\n",
      "qubit_3: ┤3               ├┤ Ry(130.91) ├┤ Rz(252.81) ├───────────────────»\n",
      "         └────────────────┘└────────────┘└────────────┘                   »\n",
      "«         ┌────────────┐                            ┌────────────┐»\n",
      "«qubit_0: ┤ Rz(354.94) ├────────────────────■───────┤ Ry(241.64) ├»\n",
      "«         ├────────────┤┌────────────┐    ┌─┴─┐     └────────────┘»\n",
      "«qubit_1: ┤ Ry(333.54) ├┤ Rz(313.63) ├────┤ X ├───────────■───────»\n",
      "«         └────────────┘├────────────┤┌───┴───┴────┐    ┌─┴─┐     »\n",
      "«qubit_2: ──────■───────┤ Ry(96.125) ├┤ Rz(9.8644) ├────┤ X ├─────»\n",
      "«             ┌─┴─┐     └┬──────────┬┘├────────────┤    └───┘     »\n",
      "«qubit_3: ────┤ X ├──────┤ Ry(44.5) ├─┤ Rz(215.77) ├──────────────»\n",
      "«             └───┘      └──────────┘ └────────────┘              »\n",
      "«         ┌────────────┐                            ┌────────────┐»\n",
      "«qubit_0: ┤ Rz(234.41) ├────────────────────■───────┤ Ry(137.99) ├»\n",
      "«         ├────────────┤┌────────────┐    ┌─┴─┐     └────────────┘»\n",
      "«qubit_1: ┤ Ry(163.92) ├┤ Rz(268.98) ├────┤ X ├───────────■───────»\n",
      "«         └────────────┘├────────────┤┌───┴───┴───┐     ┌─┴─┐     »\n",
      "«qubit_2: ──────■───────┤ Ry(63.908) ├┤ Rz(14.82) ├─────┤ X ├─────»\n",
      "«             ┌─┴─┐     ├────────────┤├───────────┴┐    └───┘     »\n",
      "«qubit_3: ────┤ X ├─────┤ Ry(255.54) ├┤ Rz(105.78) ├──────────────»\n",
      "«             └───┘     └────────────┘└────────────┘              »\n",
      "«         ┌────────────┐                            \n",
      "«qubit_0: ┤ Rz(60.943) ├────────────────────────────\n",
      "«         ├────────────┤┌────────────┐              \n",
      "«qubit_1: ┤ Ry(45.301) ├┤ Rz(162.27) ├──────────────\n",
      "«         └────────────┘├────────────┤┌────────────┐\n",
      "«qubit_2: ──────■───────┤ Ry(234.24) ├┤ Rz(291.22) ├\n",
      "«             ┌─┴─┐     ├───────────┬┘├────────────┤\n",
      "«qubit_3: ────┤ X ├─────┤ Ry(61.88) ├─┤ Rz(208.21) ├\n",
      "«             └───┘     └───────────┘ └────────────┘\n"
     ]
    }
   ],
   "source": [
    "initial_thetas = np.random.uniform(low=0, high=360, size=32)\n",
    "initial_eigenvector = np.identity(16)[0]\n",
    "print(get_linear_entangelment_ansatz(4, initial_thetas, 3))"
   ]
  },
  {
   "cell_type": "code",
   "execution_count": 10,
   "id": "0ae0050c",
   "metadata": {},
   "outputs": [
    {
     "name": "stdout",
     "output_type": "stream",
     "text": [
      "         ┌────────────────┐┌────────────┐┌────────────┐     ┌────────────┐»\n",
      "qubit_0: ┤0               ├┤ Ry(5.1497) ├┤ Rz(5.9969) ├──■──┤ Ry(5.0024) ├»\n",
      "         │                │├────────────┤├────────────┤┌─┴─┐└────────────┘»\n",
      "qubit_1: ┤1 Initialize(3) ├┤ Ry(1.4156) ├┤ Rz(2.8799) ├┤ X ├──────■───────»\n",
      "         │                │├────────────┤├────────────┤└───┘    ┌─┴─┐     »\n",
      "qubit_2: ┤2               ├┤ Ry(5.6369) ├┤ Rz(1.5474) ├─────────┤ X ├─────»\n",
      "         └────────────────┘└────────────┘└────────────┘         └───┘     »\n",
      "«         ┌────────────┐                   ┌─────────────┐┌────────────┐»\n",
      "«qubit_0: ┤ Rz(6.2607) ├────────────────■──┤ Ry(0.66299) ├┤ Rz(2.2867) ├»\n",
      "«         ├────────────┤┌────────────┐┌─┴─┐└─────────────┘├────────────┤»\n",
      "«qubit_1: ┤ Ry(2.5677) ├┤ Rz(2.1184) ├┤ X ├───────■───────┤ Ry(5.7155) ├»\n",
      "«         ├────────────┤├───────────┬┘└───┘     ┌─┴─┐     ├───────────┬┘»\n",
      "«qubit_2: ┤ Ry(1.2866) ├┤ Rz(1.429) ├───────────┤ X ├─────┤ Ry(1.252) ├─»\n",
      "«         └────────────┘└───────────┘           └───┘     └───────────┘ »\n",
      "«                              ┌───────────┐┌────────────┐               \n",
      "«qubit_0: ──────────────────■──┤ Ry(5.766) ├┤ Rz(3.1784) ├───────────────\n",
      "«         ┌──────────────┐┌─┴─┐└───────────┘├────────────┤ ┌────────────┐\n",
      "«qubit_1: ┤ Rz(0.023153) ├┤ X ├──────■──────┤ Ry(3.6654) ├─┤ Rz(3.4419) ├\n",
      "«         └┬────────────┬┘└───┘    ┌─┴─┐    ├───────────┬┘┌┴────────────┤\n",
      "«qubit_2: ─┤ Rz(4.2764) ├──────────┤ X ├────┤ Ry(3.022) ├─┤ Rz(0.53719) ├\n",
      "«          └────────────┘          └───┘    └───────────┘ └─────────────┘\n"
     ]
    }
   ],
   "source": [
    "initial_thetas = np.random.uniform(low=0, high=2*np.pi, size=24)\n",
    "initial_eigenvector = np.identity(8)[0]\n",
    "print(get_linear_entangelment_ansatz(3, initial_thetas, 3))"
   ]
  },
  {
   "cell_type": "code",
   "execution_count": 7,
   "id": "bbf16cfc",
   "metadata": {},
   "outputs": [
    {
     "name": "stdout",
     "output_type": "stream",
     "text": [
      "         ┌────────────────┐┌─────────────┐┌────────────┐     ┌────────────┐»\n",
      "qubit_0: ┤0               ├┤ Ry(0.83747) ├┤ Rz(1.4846) ├──■──┤ Ry(0.6268) ├»\n",
      "         │  Initialize(3) │└┬───────────┬┘├────────────┤┌─┴─┐├───────────┬┘»\n",
      "qubit_1: ┤1               ├─┤ Ry(4.375) ├─┤ Rz(1.9665) ├┤ X ├┤ Ry(1.614) ├─»\n",
      "         └────────────────┘ └───────────┘ └────────────┘└───┘└───────────┘ »\n",
      "«         ┌────────────┐      ┌────────────┐┌────────────┐     ┌────────────┐»\n",
      "«qubit_0: ┤ Rz(5.3903) ├──■───┤ Ry(5.4686) ├┤ Rz(1.1114) ├──■──┤ Ry(4.5434) ├»\n",
      "«         ├────────────┤┌─┴─┐┌┴────────────┤├───────────┬┘┌─┴─┐├────────────┤»\n",
      "«qubit_1: ┤ Rz(4.4936) ├┤ X ├┤ Ry(0.23003) ├┤ Rz(2.147) ├─┤ X ├┤ Ry(6.0521) ├»\n",
      "«         └────────────┘└───┘└─────────────┘└───────────┘ └───┘└────────────┘»\n",
      "«         ┌──────────────┐\n",
      "«qubit_0: ┤ Rz(0.054925) ├\n",
      "«         └┬────────────┬┘\n",
      "«qubit_1: ─┤ Rz(2.1577) ├─\n",
      "«          └────────────┘ \n"
     ]
    }
   ],
   "source": [
    "initial_thetas = np.random.uniform(low=0, high=2*np.pi, size=16)\n",
    "initial_eigenvector = np.identity(4)[0]\n",
    "print(get_linear_entangelment_ansatz(2, initial_thetas, 3))"
   ]
  },
  {
   "cell_type": "markdown",
   "id": "4cea9905",
   "metadata": {},
   "source": [
    "## Full entangelment ansatz"
   ]
  },
  {
   "cell_type": "code",
   "execution_count": 11,
   "id": "f96a2f3b",
   "metadata": {},
   "outputs": [
    {
     "name": "stdout",
     "output_type": "stream",
     "text": [
      "         ┌────────────────┐┌────────────┐┌─────────────┐               »\n",
      "qubit_0: ┤0               ├┤ Ry(4.6619) ├┤ Rz(0.41515) ├──■────■────■──»\n",
      "         │                │├────────────┤└┬────────────┤┌─┴─┐  │    │  »\n",
      "qubit_1: ┤1               ├┤ Ry(4.8225) ├─┤ Rz(5.0193) ├┤ X ├──┼────┼──»\n",
      "         │  Initialize(3) │├────────────┤ ├────────────┤└───┘┌─┴─┐  │  »\n",
      "qubit_2: ┤2               ├┤ Ry(2.9944) ├─┤ Rz(3.6326) ├─────┤ X ├──┼──»\n",
      "         │                │├────────────┤ ├───────────┬┘     └───┘┌─┴─┐»\n",
      "qubit_3: ┤3               ├┤ Ry(3.5793) ├─┤ Rz(1.981) ├───────────┤ X ├»\n",
      "         └────────────────┘└────────────┘ └───────────┘           └───┘»\n",
      "«         ┌───────────┐┌────────────┐                                          »\n",
      "«qubit_0: ┤ Ry(4.902) ├┤ Rz(4.5362) ├──────────────────────────────────■───────»\n",
      "«         └───────────┘└────────────┘┌────────────┐┌────────────┐    ┌─┴─┐     »\n",
      "«qubit_1: ──────■────────────■───────┤ Ry(5.3632) ├┤ Rz(5.8175) ├────┤ X ├─────»\n",
      "«             ┌─┴─┐          │       └────────────┘├───────────┬┘┌───┴───┴────┐»\n",
      "«qubit_2: ────┤ X ├──────────┼─────────────■───────┤ Ry(5.937) ├─┤ Rz(1.3722) ├»\n",
      "«             └───┘        ┌─┴─┐         ┌─┴─┐     ├───────────┴┐├────────────┤»\n",
      "«qubit_3: ─────────────────┤ X ├─────────┤ X ├─────┤ Ry(3.3599) ├┤ Rz(3.7416) ├»\n",
      "«                          └───┘         └───┘     └────────────┘└────────────┘»\n",
      "«                   ┌────────────┐┌────────────┐                             »\n",
      "«qubit_0: ──■────■──┤ Ry(3.2074) ├┤ Rz(3.2677) ├─────────────────────────────»\n",
      "«           │    │  └────────────┘└────────────┘┌────────────┐┌─────────────┐»\n",
      "«qubit_1: ──┼────┼────────■─────────────■───────┤ Ry(3.1754) ├┤ Rz(0.22211) ├»\n",
      "«         ┌─┴─┐  │      ┌─┴─┐           │       └────────────┘└┬────────────┤»\n",
      "«qubit_2: ┤ X ├──┼──────┤ X ├───────────┼─────────────■────────┤ Ry(6.1729) ├»\n",
      "«         └───┘┌─┴─┐    └───┘         ┌─┴─┐         ┌─┴─┐      ├────────────┤»\n",
      "«qubit_3: ─────┤ X ├──────────────────┤ X ├─────────┤ X ├──────┤ Ry(4.9471) ├»\n",
      "«              └───┘                  └───┘         └───┘      └────────────┘»\n",
      "«                                 ┌─────────────┐┌────────────┐              »\n",
      "«qubit_0: ──────■─────────■────■──┤ Ry(0.25327) ├┤ Rz(1.0183) ├──────────────»\n",
      "«             ┌─┴─┐       │    │  └─────────────┘└────────────┘┌────────────┐»\n",
      "«qubit_1: ────┤ X ├───────┼────┼─────────■─────────────■───────┤ Ry(5.7436) ├»\n",
      "«         ┌───┴───┴────┐┌─┴─┐  │       ┌─┴─┐           │       └────────────┘»\n",
      "«qubit_2: ┤ Rz(5.9429) ├┤ X ├──┼───────┤ X ├───────────┼─────────────■───────»\n",
      "«         ├────────────┤└───┘┌─┴─┐     └───┘         ┌─┴─┐         ┌─┴─┐     »\n",
      "«qubit_3: ┤ Rz(2.8388) ├─────┤ X ├───────────────────┤ X ├─────────┤ X ├─────»\n",
      "«         └────────────┘     └───┘                   └───┘         └───┘     »\n",
      "«                                     \n",
      "«qubit_0: ────────────────────────────\n",
      "«         ┌────────────┐              \n",
      "«qubit_1: ┤ Rz(2.6571) ├──────────────\n",
      "«         ├────────────┤┌────────────┐\n",
      "«qubit_2: ┤ Ry(4.3908) ├┤ Rz(6.1307) ├\n",
      "«         ├────────────┤├────────────┤\n",
      "«qubit_3: ┤ Ry(3.9902) ├┤ Rz(3.8243) ├\n",
      "«         └────────────┘└────────────┘\n"
     ]
    }
   ],
   "source": [
    "initial_thetas = np.random.uniform(low=0, high=2*np.pi, size=32)\n",
    "initial_eigenvector = np.identity(16)[0]\n",
    "print(get_full_entangelment_ansatz(4, initial_thetas, 3))"
   ]
  },
  {
   "cell_type": "code",
   "execution_count": 11,
   "id": "846a93ea",
   "metadata": {},
   "outputs": [
    {
     "name": "stdout",
     "output_type": "stream",
     "text": [
      "         ┌────────────────┐┌───────────┐ ┌────────────┐          ┌────────────┐»\n",
      "qubit_0: ┤0               ├┤ Ry(3.846) ├─┤ Rz(1.2031) ├──■────■──┤ Ry(2.4913) ├»\n",
      "         │                │├───────────┴┐├────────────┤┌─┴─┐  │  └────────────┘»\n",
      "qubit_1: ┤1 Initialize(3) ├┤ Ry(2.9839) ├┤ Rz(3.2826) ├┤ X ├──┼────────■───────»\n",
      "         │                │├────────────┤├───────────┬┘└───┘┌─┴─┐    ┌─┴─┐     »\n",
      "qubit_2: ┤2               ├┤ Ry(1.2838) ├┤ Rz(3.399) ├──────┤ X ├────┤ X ├─────»\n",
      "         └────────────────┘└────────────┘└───────────┘      └───┘    └───┘     »\n",
      "«          ┌────────────┐                        ┌────────────┐┌────────────┐»\n",
      "«qubit_0: ─┤ Rz(5.1594) ├────────────────■────■──┤ Ry(4.5917) ├┤ Rz(2.3964) ├»\n",
      "«         ┌┴────────────┤┌────────────┐┌─┴─┐  │  └────────────┘├────────────┤»\n",
      "«qubit_1: ┤ Ry(0.81103) ├┤ Rz(4.8218) ├┤ X ├──┼────────■───────┤ Ry(1.5008) ├»\n",
      "«         ├─────────────┤├────────────┤└───┘┌─┴─┐    ┌─┴─┐     ├────────────┤»\n",
      "«qubit_2: ┤ Ry(0.09039) ├┤ Rz(2.1141) ├─────┤ X ├────┤ X ├─────┤ Ry(1.0358) ├»\n",
      "«         └─────────────┘└────────────┘     └───┘    └───┘     └────────────┘»\n",
      "«                                 ┌────────────┐ ┌────────────┐              \n",
      "«qubit_0: ────────────────■────■──┤ Ry(4.3419) ├─┤ Rz(5.7722) ├──────────────\n",
      "«         ┌────────────┐┌─┴─┐  │  └────────────┘┌┴────────────┤┌────────────┐\n",
      "«qubit_1: ┤ Rz(6.0622) ├┤ X ├──┼────────■───────┤ Ry(0.43751) ├┤ Rz(2.1844) ├\n",
      "«         ├────────────┤└───┘┌─┴─┐    ┌─┴─┐     └┬────────────┤├────────────┤\n",
      "«qubit_2: ┤ Rz(5.2788) ├─────┤ X ├────┤ X ├──────┤ Ry(4.2275) ├┤ Rz(5.2886) ├\n",
      "«         └────────────┘     └───┘    └───┘      └────────────┘└────────────┘\n"
     ]
    }
   ],
   "source": [
    "initial_thetas = np.random.uniform(low=0, high=2*np.pi, size=24)\n",
    "initial_eigenvector = np.identity(8)[0]\n",
    "print(get_full_entangelment_ansatz(3, initial_thetas, 3))"
   ]
  },
  {
   "cell_type": "code",
   "execution_count": 8,
   "id": "0defef4c",
   "metadata": {},
   "outputs": [
    {
     "name": "stdout",
     "output_type": "stream",
     "text": [
      "         ┌────────────────┐ ┌────────────┐┌───────────┐      ┌────────────┐»\n",
      "qubit_0: ┤0               ├─┤ Ry(3.5619) ├┤ Rz(3.688) ├───■──┤ Ry(3.7257) ├»\n",
      "         │  Initialize(3) │┌┴────────────┤├───────────┴┐┌─┴─┐├────────────┤»\n",
      "qubit_1: ┤1               ├┤ Ry(0.34152) ├┤ Rz(4.8209) ├┤ X ├┤ Ry(4.4549) ├»\n",
      "         └────────────────┘└─────────────┘└────────────┘└───┘└────────────┘»\n",
      "«         ┌────────────┐     ┌────────────┐┌─────────────┐     ┌────────────┐»\n",
      "«qubit_0: ┤ Rz(2.0927) ├──■──┤ Ry(5.4044) ├┤ Rz(0.95238) ├──■──┤ Ry(5.6428) ├»\n",
      "«         ├────────────┤┌─┴─┐├────────────┤└┬────────────┤┌─┴─┐├────────────┤»\n",
      "«qubit_1: ┤ Rz(1.6194) ├┤ X ├┤ Ry(3.6951) ├─┤ Rz(1.1115) ├┤ X ├┤ Ry(1.8133) ├»\n",
      "«         └────────────┘└───┘└────────────┘ └────────────┘└───┘└────────────┘»\n",
      "«         ┌─────────────┐ \n",
      "«qubit_0: ┤ Rz(0.51745) ├─\n",
      "«         ├─────────────┴┐\n",
      "«qubit_1: ┤ Rz(0.045128) ├\n",
      "«         └──────────────┘\n"
     ]
    }
   ],
   "source": [
    "initial_thetas = np.random.uniform(low=0, high=2*np.pi, size=16)\n",
    "initial_eigenvector = np.identity(4)[0]\n",
    "print(get_full_entangelment_ansatz(2, initial_thetas, 3))"
   ]
  },
  {
   "cell_type": "code",
   "execution_count": null,
   "id": "1362e1e3",
   "metadata": {},
   "outputs": [],
   "source": []
  }
 ],
 "metadata": {
  "kernelspec": {
   "display_name": "Qiskitenv",
   "language": "python",
   "name": "qiskitenv"
  },
  "language_info": {
   "codemirror_mode": {
    "name": "ipython",
    "version": 3
   },
   "file_extension": ".py",
   "mimetype": "text/x-python",
   "name": "python",
   "nbconvert_exporter": "python",
   "pygments_lexer": "ipython3",
   "version": "3.8.13"
  }
 },
 "nbformat": 4,
 "nbformat_minor": 5
}
