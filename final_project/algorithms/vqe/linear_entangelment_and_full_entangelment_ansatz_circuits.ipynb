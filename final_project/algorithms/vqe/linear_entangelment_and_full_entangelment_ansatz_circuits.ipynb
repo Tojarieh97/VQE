{
 "cells": [
  {
   "cell_type": "code",
   "execution_count": 6,
   "id": "1ab129c5",
   "metadata": {},
   "outputs": [],
   "source": [
    "%load_ext autoreload\n",
    "%autoreload 2"
   ]
  },
  {
   "cell_type": "code",
   "execution_count": 7,
   "id": "7df1bd0f",
   "metadata": {},
   "outputs": [],
   "source": [
    "from qiskit.circuit.library.standard_gates import RXGate, RZGate, RYGate, CXGate, CZGate, SGate, HGate\n",
    "from qiskit import QuantumCircuit, ClassicalRegister, QuantumRegister\n",
    "\n",
    "import numpy as np"
   ]
  },
  {
   "cell_type": "code",
   "execution_count": 8,
   "id": "30dc72a4",
   "metadata": {},
   "outputs": [],
   "source": [
    "def get_linear_entangelment_ansatz(num_of_qubits, thetas, input_state, circuit_depth=3):\n",
    "    quantum_register = QuantumRegister(num_of_qubits, name=\"qubit\")\n",
    "    quantum_circuit = QuantumCircuit(quantum_register)\n",
    "    quantum_circuit.initialize(input_state)\n",
    "\n",
    "    for iteration in range(circuit_depth):\n",
    "        for qubit_index in range(num_of_qubits):\n",
    "            RY_theta_index = iteration*2*num_of_qubits + qubit_index\n",
    "            RZ_theta_index = RY_theta_index + num_of_qubits\n",
    "            \n",
    "            quantum_circuit.append(RYGate(thetas[RY_theta_index]), [quantum_register[qubit_index]])\n",
    "            quantum_circuit.append(RZGate(thetas[RZ_theta_index]), [quantum_register[qubit_index]])\n",
    "            \n",
    "        for qubit_index in range(num_of_qubits - 1):\n",
    "            quantum_circuit.append(CXGate(), [quantum_register[qubit_index], quantum_register[qubit_index + 1]])\n",
    "\n",
    "    for qubit_index in range(num_of_qubits):\n",
    "            RY_theta_index = 2*num_of_qubits*circuit_depth + qubit_index\n",
    "            RZ_theta_index = RY_theta_index + num_of_qubits\n",
    "            quantum_circuit.append(RYGate(thetas[RY_theta_index]), [quantum_register[qubit_index]])\n",
    "            quantum_circuit.append(RZGate(thetas[RZ_theta_index]), [quantum_register[qubit_index]])\n",
    "\n",
    "    return quantum_circuit"
   ]
  },
  {
   "cell_type": "code",
   "execution_count": 9,
   "id": "8e40efc3",
   "metadata": {},
   "outputs": [],
   "source": [
    "def get_full_entangelment_ansatz(num_of_qubits, thetas, input_state, circuit_depth=3):\n",
    "    quantum_register = QuantumRegister(num_of_qubits, name=\"qubit\")\n",
    "    quantum_circuit = QuantumCircuit(quantum_register)\n",
    "    quantum_circuit.initialize(input_state)\n",
    "\n",
    "    for iteration in range(circuit_depth):\n",
    "        for qubit_index in range(num_of_qubits):\n",
    "            RY_theta_index = iteration*2*num_of_qubits + qubit_index\n",
    "            RZ_theta_index = RY_theta_index + num_of_qubits\n",
    "            \n",
    "            quantum_circuit.append(RYGate(thetas[RY_theta_index]), [quantum_register[qubit_index]])\n",
    "            quantum_circuit.append(RZGate(thetas[RZ_theta_index]), [quantum_register[qubit_index]])\n",
    "        for qubit_index in range(num_of_qubits - 1):\n",
    "            for target_qubit_index in range(qubit_index + 1, num_of_qubits):\n",
    "                quantum_circuit.append(CXGate(), [quantum_register[qubit_index], quantum_register[target_qubit_index]])\n",
    "\n",
    "    for qubit_index in range(num_of_qubits):\n",
    "            RY_theta_index = 2*num_of_qubits*circuit_depth + qubit_index\n",
    "            RZ_theta_index = RY_theta_index + num_of_qubits\n",
    "            \n",
    "            quantum_circuit.append(RYGate(thetas[RY_theta_index]), [quantum_register[qubit_index]])\n",
    "            quantum_circuit.append(RZGate(thetas[RZ_theta_index]), [quantum_register[qubit_index]])\n",
    "\n",
    "    return quantum_circuit"
   ]
  },
  {
   "cell_type": "markdown",
   "id": "57b537b7",
   "metadata": {},
   "source": [
    "## Linear entangelment ansatz"
   ]
  },
  {
   "cell_type": "code",
   "execution_count": 10,
   "id": "702b6973",
   "metadata": {},
   "outputs": [
    {
     "name": "stdout",
     "output_type": "stream",
     "text": [
      "         ┌────────────────┐ ┌────────────┐ ┌────────────┐      ┌────────────┐»\n",
      "qubit_0: ┤0               ├─┤ Ry(4.9434) ├─┤ Rz(6.2828) ├───■──┤ Ry(5.0149) ├»\n",
      "         │                │┌┴────────────┤ ├────────────┤ ┌─┴─┐└────────────┘»\n",
      "qubit_1: ┤1               ├┤ Ry(0.17499) ├─┤ Rz(4.2696) ├─┤ X ├──────■───────»\n",
      "         │  Initialize(3) │└┬───────────┬┘ ├────────────┤ └───┘    ┌─┴─┐     »\n",
      "qubit_2: ┤2               ├─┤ Ry(3.844) ├──┤ Rz(1.4013) ├──────────┤ X ├─────»\n",
      "         │                │ ├───────────┴┐┌┴────────────┴┐         └───┘     »\n",
      "qubit_3: ┤3               ├─┤ Ry(2.0786) ├┤ Rz(0.046831) ├───────────────────»\n",
      "         └────────────────┘ └────────────┘└──────────────┘                   »\n",
      "«         ┌────────────┐                             ┌────────────┐»\n",
      "«qubit_0: ┤ Rz(4.4632) ├─────────────────────■───────┤ Ry(4.1847) ├»\n",
      "«         ├────────────┤ ┌────────────┐    ┌─┴─┐     └────────────┘»\n",
      "«qubit_1: ┤ Ry(1.3892) ├─┤ Rz(2.5153) ├────┤ X ├───────────■───────»\n",
      "«         └────────────┘┌┴────────────┤┌───┴───┴────┐    ┌─┴─┐     »\n",
      "«qubit_2: ──────■───────┤ Ry(0.26226) ├┤ Rz(3.3677) ├────┤ X ├─────»\n",
      "«             ┌─┴─┐     └┬────────────┤├────────────┤    └───┘     »\n",
      "«qubit_3: ────┤ X ├──────┤ Ry(2.3586) ├┤ Rz(5.2577) ├──────────────»\n",
      "«             └───┘      └────────────┘└────────────┘              »\n",
      "«          ┌────────────┐                             ┌────────────┐»\n",
      "«qubit_0: ─┤ Rz(2.8285) ├─────────────────────■───────┤ Ry(4.8189) ├»\n",
      "«         ┌┴────────────┤ ┌────────────┐    ┌─┴─┐     └────────────┘»\n",
      "«qubit_1: ┤ Ry(0.71839) ├─┤ Rz(2.9978) ├────┤ X ├───────────■───────»\n",
      "«         └─────────────┘┌┴────────────┤┌───┴───┴────┐    ┌─┴─┐     »\n",
      "«qubit_2: ───────■───────┤ Ry(0.86175) ├┤ Rz(6.1642) ├────┤ X ├─────»\n",
      "«              ┌─┴─┐     └┬────────────┤├───────────┬┘    └───┘     »\n",
      "«qubit_3: ─────┤ X ├──────┤ Ry(2.1341) ├┤ Rz(3.158) ├───────────────»\n",
      "«              └───┘      └────────────┘└───────────┘               »\n",
      "«          ┌────────────┐                             \n",
      "«qubit_0: ─┤ Rz(3.1107) ├─────────────────────────────\n",
      "«         ┌┴────────────┤┌─────────────┐              \n",
      "«qubit_1: ┤ Ry(0.77852) ├┤ Rz(0.81946) ├──────────────\n",
      "«         └─────────────┘├─────────────┤┌────────────┐\n",
      "«qubit_2: ───────■───────┤ Ry(0.57317) ├┤ Rz(3.2003) ├\n",
      "«              ┌─┴─┐     └┬────────────┤├────────────┤\n",
      "«qubit_3: ─────┤ X ├──────┤ Ry(3.5787) ├┤ Rz(5.0169) ├\n",
      "«              └───┘      └────────────┘└────────────┘\n"
     ]
    }
   ],
   "source": [
    "initial_thetas = np.random.uniform(low=0, high=2*np.pi, size=32)\n",
    "initial_eigenvector = np.identity(16)[0]\n",
    "print(get_linear_entangelment_ansatz(4, initial_thetas, 3))"
   ]
  },
  {
   "cell_type": "markdown",
   "id": "4cea9905",
   "metadata": {},
   "source": [
    "## Full entangelment ansatz"
   ]
  },
  {
   "cell_type": "code",
   "execution_count": 11,
   "id": "f96a2f3b",
   "metadata": {},
   "outputs": [
    {
     "name": "stdout",
     "output_type": "stream",
     "text": [
      "         ┌────────────────┐┌────────────┐┌─────────────┐               »\n",
      "qubit_0: ┤0               ├┤ Ry(4.6619) ├┤ Rz(0.41515) ├──■────■────■──»\n",
      "         │                │├────────────┤└┬────────────┤┌─┴─┐  │    │  »\n",
      "qubit_1: ┤1               ├┤ Ry(4.8225) ├─┤ Rz(5.0193) ├┤ X ├──┼────┼──»\n",
      "         │  Initialize(3) │├────────────┤ ├────────────┤└───┘┌─┴─┐  │  »\n",
      "qubit_2: ┤2               ├┤ Ry(2.9944) ├─┤ Rz(3.6326) ├─────┤ X ├──┼──»\n",
      "         │                │├────────────┤ ├───────────┬┘     └───┘┌─┴─┐»\n",
      "qubit_3: ┤3               ├┤ Ry(3.5793) ├─┤ Rz(1.981) ├───────────┤ X ├»\n",
      "         └────────────────┘└────────────┘ └───────────┘           └───┘»\n",
      "«         ┌───────────┐┌────────────┐                                          »\n",
      "«qubit_0: ┤ Ry(4.902) ├┤ Rz(4.5362) ├──────────────────────────────────■───────»\n",
      "«         └───────────┘└────────────┘┌────────────┐┌────────────┐    ┌─┴─┐     »\n",
      "«qubit_1: ──────■────────────■───────┤ Ry(5.3632) ├┤ Rz(5.8175) ├────┤ X ├─────»\n",
      "«             ┌─┴─┐          │       └────────────┘├───────────┬┘┌───┴───┴────┐»\n",
      "«qubit_2: ────┤ X ├──────────┼─────────────■───────┤ Ry(5.937) ├─┤ Rz(1.3722) ├»\n",
      "«             └───┘        ┌─┴─┐         ┌─┴─┐     ├───────────┴┐├────────────┤»\n",
      "«qubit_3: ─────────────────┤ X ├─────────┤ X ├─────┤ Ry(3.3599) ├┤ Rz(3.7416) ├»\n",
      "«                          └───┘         └───┘     └────────────┘└────────────┘»\n",
      "«                   ┌────────────┐┌────────────┐                             »\n",
      "«qubit_0: ──■────■──┤ Ry(3.2074) ├┤ Rz(3.2677) ├─────────────────────────────»\n",
      "«           │    │  └────────────┘└────────────┘┌────────────┐┌─────────────┐»\n",
      "«qubit_1: ──┼────┼────────■─────────────■───────┤ Ry(3.1754) ├┤ Rz(0.22211) ├»\n",
      "«         ┌─┴─┐  │      ┌─┴─┐           │       └────────────┘└┬────────────┤»\n",
      "«qubit_2: ┤ X ├──┼──────┤ X ├───────────┼─────────────■────────┤ Ry(6.1729) ├»\n",
      "«         └───┘┌─┴─┐    └───┘         ┌─┴─┐         ┌─┴─┐      ├────────────┤»\n",
      "«qubit_3: ─────┤ X ├──────────────────┤ X ├─────────┤ X ├──────┤ Ry(4.9471) ├»\n",
      "«              └───┘                  └───┘         └───┘      └────────────┘»\n",
      "«                                 ┌─────────────┐┌────────────┐              »\n",
      "«qubit_0: ──────■─────────■────■──┤ Ry(0.25327) ├┤ Rz(1.0183) ├──────────────»\n",
      "«             ┌─┴─┐       │    │  └─────────────┘└────────────┘┌────────────┐»\n",
      "«qubit_1: ────┤ X ├───────┼────┼─────────■─────────────■───────┤ Ry(5.7436) ├»\n",
      "«         ┌───┴───┴────┐┌─┴─┐  │       ┌─┴─┐           │       └────────────┘»\n",
      "«qubit_2: ┤ Rz(5.9429) ├┤ X ├──┼───────┤ X ├───────────┼─────────────■───────»\n",
      "«         ├────────────┤└───┘┌─┴─┐     └───┘         ┌─┴─┐         ┌─┴─┐     »\n",
      "«qubit_3: ┤ Rz(2.8388) ├─────┤ X ├───────────────────┤ X ├─────────┤ X ├─────»\n",
      "«         └────────────┘     └───┘                   └───┘         └───┘     »\n",
      "«                                     \n",
      "«qubit_0: ────────────────────────────\n",
      "«         ┌────────────┐              \n",
      "«qubit_1: ┤ Rz(2.6571) ├──────────────\n",
      "«         ├────────────┤┌────────────┐\n",
      "«qubit_2: ┤ Ry(4.3908) ├┤ Rz(6.1307) ├\n",
      "«         ├────────────┤├────────────┤\n",
      "«qubit_3: ┤ Ry(3.9902) ├┤ Rz(3.8243) ├\n",
      "«         └────────────┘└────────────┘\n"
     ]
    }
   ],
   "source": [
    "initial_thetas = np.random.uniform(low=0, high=2*np.pi, size=32)\n",
    "initial_eigenvector = np.identity(16)[0]\n",
    "print(get_full_entangelment_ansatz(4, initial_thetas, 3))"
   ]
  },
  {
   "cell_type": "code",
   "execution_count": null,
   "id": "1362e1e3",
   "metadata": {},
   "outputs": [],
   "source": []
  }
 ],
 "metadata": {
  "kernelspec": {
   "display_name": "Qiskitenv",
   "language": "python",
   "name": "qiskitenv"
  },
  "language_info": {
   "codemirror_mode": {
    "name": "ipython",
    "version": 3
   },
   "file_extension": ".py",
   "mimetype": "text/x-python",
   "name": "python",
   "nbconvert_exporter": "python",
   "pygments_lexer": "ipython3",
   "version": "3.8.13"
  }
 },
 "nbformat": 4,
 "nbformat_minor": 5
}
