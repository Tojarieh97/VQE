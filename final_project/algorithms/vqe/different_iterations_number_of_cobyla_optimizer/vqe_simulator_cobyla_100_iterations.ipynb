{
 "cells": [
  {
   "cell_type": "code",
   "execution_count": 58,
   "id": "213d256a",
   "metadata": {},
   "outputs": [
    {
     "name": "stdout",
     "output_type": "stream",
     "text": [
      "The autoreload extension is already loaded. To reload it, use:\n",
      "  %reload_ext autoreload\n"
     ]
    }
   ],
   "source": [
    "%load_ext autoreload\n",
    "%autoreload 2"
   ]
  },
  {
   "cell_type": "markdown",
   "id": "c4c77734",
   "metadata": {},
   "source": [
    "### Basic Imports"
   ]
  },
  {
   "cell_type": "code",
   "execution_count": 59,
   "id": "9431f6b7",
   "metadata": {},
   "outputs": [],
   "source": [
    "import nbimporter\n",
    "from typing import Dict, Tuple, List\n",
    "import numpy as np\n",
    "from tqdm import tqdm"
   ]
  },
  {
   "cell_type": "markdown",
   "id": "4ff98362",
   "metadata": {},
   "source": [
    "### Env Vars"
   ]
  },
  {
   "cell_type": "code",
   "execution_count": 60,
   "id": "9c7250c3",
   "metadata": {},
   "outputs": [],
   "source": [
    "QUBITS_NUM = 4 \n",
    "N = 2**QUBITS_NUM\n",
    "\n",
    "NUM_SHOTS = 1024\n",
    "NUM_ITERATIONS = 100\n",
    "\n",
    "CIRCUIT_DEPTH = 3\n",
    "PARAMS_NUM = 2*QUBITS_NUM*(CIRCUIT_DEPTH+1)"
   ]
  },
  {
   "cell_type": "markdown",
   "id": "6dcb0625",
   "metadata": {},
   "source": [
    "### Simulator Backend"
   ]
  },
  {
   "cell_type": "code",
   "execution_count": 61,
   "id": "8e287170",
   "metadata": {},
   "outputs": [],
   "source": [
    "from qiskit import Aer\n",
    "from qiskit.utils import QuantumInstance, algorithm_globals\n",
    "\n",
    "seed = 50\n",
    "algorithm_globals.random_seed = seed\n",
    "\n",
    "simulator_backend = Aer.get_backend('qasm_simulator')"
   ]
  },
  {
   "cell_type": "markdown",
   "id": "5cc189d2",
   "metadata": {},
   "source": [
    "### BFGS Optimizer"
   ]
  },
  {
   "cell_type": "code",
   "execution_count": 62,
   "id": "aea5f838",
   "metadata": {},
   "outputs": [],
   "source": [
    "from scipy.optimize import minimize"
   ]
  },
  {
   "cell_type": "markdown",
   "id": "6681d9cf",
   "metadata": {},
   "source": [
    "### Ansatz State"
   ]
  },
  {
   "cell_type": "code",
   "execution_count": 63,
   "id": "ed679eb5",
   "metadata": {},
   "outputs": [],
   "source": [
    "from linear_entangelment_and_full_entangelment_ansatz_circuits import *"
   ]
  },
  {
   "cell_type": "code",
   "execution_count": 64,
   "id": "9ebdb4f8",
   "metadata": {},
   "outputs": [],
   "source": [
    "def get_ansatz_state(thetas, ansatz_entangelment, input_state):\n",
    "    if ansatz_entangelment==\"full\":\n",
    "        return get_full_entangelment_ansatz(QUBITS_NUM, thetas, input_state)\n",
    "    if ansatz_entangelment==\"linear\":\n",
    "        return get_linear_entangelment_ansatz(QUBITS_NUM, thetas, input_state)"
   ]
  },
  {
   "cell_type": "markdown",
   "id": "21777faa",
   "metadata": {},
   "source": [
    "## Expectation Value"
   ]
  },
  {
   "cell_type": "markdown",
   "id": "d320f1b6",
   "metadata": {},
   "source": [
    "### convert hamiltonian to pauli strings"
   ]
  },
  {
   "cell_type": "code",
   "execution_count": 65,
   "id": "56435355",
   "metadata": {},
   "outputs": [],
   "source": [
    "def transfrom_hamiltonian_into_pauli_strings(hamiltonian) -> List:\n",
    "    pauli_operators = hamiltonian.to_pauli_op().settings['oplist']\n",
    "    pauli_coeffs = list(map(lambda pauli_operator: pauli_operator.coeff, pauli_operators))\n",
    "    pauli_strings = list(map(lambda pauli_operator: pauli_operator.primitive, pauli_operators))\n",
    "    return pauli_coeffs, pauli_strings"
   ]
  },
  {
   "cell_type": "markdown",
   "id": "de5f75c3",
   "metadata": {},
   "source": [
    "### pauli string reduction to sigma_z's"
   ]
  },
  {
   "cell_type": "code",
   "execution_count": 66,
   "id": "347de6bb",
   "metadata": {},
   "outputs": [],
   "source": [
    "from qiskit.circuit.library.standard_gates import HGate, SGate\n",
    "from qiskit import QuantumCircuit, ClassicalRegister, QuantumRegister"
   ]
  },
  {
   "cell_type": "code",
   "execution_count": 67,
   "id": "dbbe79ef",
   "metadata": {},
   "outputs": [],
   "source": [
    "reducing_to_pauli_z_mapping = {\n",
    "    'I': 'I',\n",
    "    'Z': 'Z',\n",
    "    'X': 'Z',\n",
    "    'Y': 'Z'\n",
    "} "
   ]
  },
  {
   "cell_type": "code",
   "execution_count": 68,
   "id": "6f94927f",
   "metadata": {},
   "outputs": [],
   "source": [
    "def reduce_pauli_matrixes_into_sigma_z(pauli_string) -> str:\n",
    "    reduced_pauli_string = \"\"\n",
    "    for matrix_index in range(QUBITS_NUM):\n",
    "        pauli_matrix = str(pauli_string[matrix_index])\n",
    "        reduced_pauli_matrix = reducing_to_pauli_z_mapping[pauli_matrix]\n",
    "        reduced_pauli_string = reduced_pauli_matrix + reduced_pauli_string\n",
    "    \n",
    "    return reduced_pauli_string"
   ]
  },
  {
   "cell_type": "code",
   "execution_count": 69,
   "id": "e6f0562f",
   "metadata": {},
   "outputs": [],
   "source": [
    "def add_layer_of_gates_for_reducing_paulis_to_sigma_z(pauli_string, quantum_circuit):\n",
    "    quantum_registers = QuantumRegister(QUBITS_NUM, name=\"qubit\")\n",
    "    additional_circuit_layer = QuantumCircuit(quantum_registers)\n",
    "    \n",
    "    for quantum_register_index, pauli_matrix in enumerate(pauli_string):\n",
    "        if pauli_matrix == \"X\":\n",
    "            additional_circuit_layer.append(HGate(), [quantum_registers[quantum_register_index]])\n",
    "        if pauli_string == \"Y\":\n",
    "            additional_circuit_layer.append(HGate(), [quantum_registers[quantum_register_index]])\n",
    "            additional_circuit_layer.append(SGate(), [quantum_registers[quantum_register_index]])\n",
    "                \n",
    "    extended_quantum_circuit = quantum_circuit.compose(additional_circuit_layer)\n",
    "    return extended_quantum_circuit"
   ]
  },
  {
   "cell_type": "markdown",
   "id": "ce83fae9",
   "metadata": {},
   "source": [
    "### probabilities distribution"
   ]
  },
  {
   "cell_type": "code",
   "execution_count": 70,
   "id": "84e65e31",
   "metadata": {},
   "outputs": [],
   "source": [
    "def get_probability_distribution(counts: Dict) -> Dict:\n",
    "    proba_distribution = {state: (count / NUM_SHOTS) for state, count in counts.items()}\n",
    "    return proba_distribution\n",
    "\n",
    "def calculate_probabilities_of_measurments_in_computational_basis(quantum_state_circuit) -> Dict:\n",
    "    quantum_state_circuit.measure_all()\n",
    "    \n",
    "    transpiled_quantum_state_circuit = transpile(quantum_state_circuit, simulator_backend) \n",
    "    Qobj = assemble(transpiled_quantum_state_circuit)\n",
    "    result = simulator_backend.run(Qobj).result()\n",
    "    counts = result.get_counts(quantum_state_circuit)\n",
    "    \n",
    "    return get_probability_distribution(counts)"
   ]
  },
  {
   "cell_type": "markdown",
   "id": "b9286e5d",
   "metadata": {},
   "source": [
    "### Expectation value from probabilities"
   ]
  },
  {
   "cell_type": "code",
   "execution_count": 71,
   "id": "38a72356",
   "metadata": {},
   "outputs": [],
   "source": [
    "def sort_probas_dict_by_qubits_string_keys(proba_distribution: Dict) -> Dict:\n",
    "    return dict(sorted(proba_distribution.items()))\n",
    "\n",
    "def reset_power_of_minus_1(power_of_minus_1):\n",
    "    power_of_minus_1 = 0\n",
    "    return power_of_minus_1\n",
    "\n",
    "def convert_pauli_string_into_str(pauli_string) -> str:\n",
    "    return str(pauli_string)\n",
    "\n",
    "def calculate_expectation_value_of_pauli_string_by_measurments_probas(pauli_string, ansatz_circuit):\n",
    "    pauli_string_expectation_value = 0\n",
    "    power_of_minus_1 = 0\n",
    "    \n",
    "    pauli_string_str = convert_pauli_string_into_str(pauli_string)\n",
    "    extended_ansatz_circuit = add_layer_of_gates_for_reducing_paulis_to_sigma_z(pauli_string_str, ansatz_circuit)\n",
    "    probas_distribution = calculate_probabilities_of_measurments_in_computational_basis(extended_ansatz_circuit)\n",
    "    \n",
    "    reduced_pauli_string = reduce_pauli_matrixes_into_sigma_z(pauli_string)\n",
    "    sorted_probas_distribuition = sort_probas_dict_by_qubits_string_keys(probas_distribution)\n",
    "    for qubits_string, proba in sorted_probas_distribuition.items():\n",
    "        for string_index in range(QUBITS_NUM):\n",
    "            if(str(qubits_string[string_index])==\"1\" and str(reduced_pauli_string[string_index])==\"Z\"):\n",
    "                power_of_minus_1 += 1\n",
    "            \n",
    "        pauli_string_expectation_value += pow(-1, power_of_minus_1)*proba\n",
    "        power_of_minus_1 = reset_power_of_minus_1(power_of_minus_1)\n",
    "        \n",
    "    return pauli_string_expectation_value"
   ]
  },
  {
   "cell_type": "code",
   "execution_count": 72,
   "id": "c263be2b",
   "metadata": {},
   "outputs": [],
   "source": [
    "def get_expectation_value(ansatz_circuit, pauli_coeffs, pauli_strings):\n",
    "    total_expection_value = 0\n",
    "    \n",
    "    for pauli_coeff, pauli_string in tqdm(zip(pauli_coeffs, pauli_strings)):\n",
    "        total_expection_value += pauli_coeff*calculate_expectation_value_of_pauli_string_by_measurments_probas(\n",
    "                                                                                    pauli_string, ansatz_circuit)\n",
    "    \n",
    "    return total_expection_value"
   ]
  },
  {
   "cell_type": "markdown",
   "id": "a79fc302",
   "metadata": {},
   "source": [
    "## Objective Function"
   ]
  },
  {
   "cell_type": "code",
   "execution_count": 73,
   "id": "e3f4d330",
   "metadata": {},
   "outputs": [],
   "source": [
    "from qiskit import assemble, transpile\n",
    "\n",
    "def cost_function(thetas, hamiltonian, ansatz_entangelment):\n",
    "    initial_eigenvector = np.identity(N)[0]\n",
    "    \n",
    "    pauli_coeffs, pauli_strings = transfrom_hamiltonian_into_pauli_strings(hamiltonian)\n",
    "    ansatz_state = get_ansatz_state(thetas, ansatz_entangelment, initial_eigenvector)\n",
    "        \n",
    "    L = get_expectation_value(ansatz_state, pauli_coeffs, pauli_strings)\n",
    "    insert_approximated_energy_to_list_of_all_approximated_energies(L)\n",
    "        \n",
    "    return L"
   ]
  },
  {
   "cell_type": "markdown",
   "id": "e8ac20b3",
   "metadata": {},
   "source": [
    "## Optimization"
   ]
  },
  {
   "cell_type": "code",
   "execution_count": 74,
   "id": "9b2663d2",
   "metadata": {},
   "outputs": [],
   "source": [
    "def get_optimal_thetas_of_ansatz_circuit_for_hamiltonian(hamiltonian, ansatz_entangelment):\n",
    "    initial_thetas = np.random.uniform(low=0, high=360, size=PARAMS_NUM)\n",
    "    optimizer_result = minimize(cost_function,\n",
    "                                x0=initial_thetas,\n",
    "                                args=(hamiltonian, ansatz_entangelment),\n",
    "                                method=\"COBYLA\",\n",
    "                                options={\"maxiter\":NUM_ITERATIONS,\n",
    "                                        \"disp\": True})\n",
    "    optimal_thetas = optimizer_result.x\n",
    "    \n",
    "    return optimal_thetas"
   ]
  },
  {
   "cell_type": "code",
   "execution_count": 75,
   "id": "80c13445",
   "metadata": {},
   "outputs": [],
   "source": [
    "def get_approximated_eigenvalue_of_hamiltonian(hamiltonian, ansatz_entangelment):\n",
    "    optimal_thetas = get_optimal_thetas_of_ansatz_circuit_for_hamiltonian(hamiltonian, ansatz_entangelment)\n",
    "    print(optimal_thetas)\n",
    "    initial_eigenvector = np.identity(N)[0]\n",
    "    optimal_ansatz_state = get_ansatz_state(optimal_thetas, ansatz_entangelment, initial_eigenvector)\n",
    "    \n",
    "    pauli_coeffs, pauli_strings = transfrom_hamiltonian_into_pauli_strings(hamiltonian)\n",
    "    approximated_eigenvalue = get_expectation_value(optimal_ansatz_state, pauli_coeffs, pauli_strings)\n",
    "\n",
    "    return approximated_eigenvalue"
   ]
  },
  {
   "cell_type": "markdown",
   "id": "7b410988",
   "metadata": {},
   "source": [
    "## Comparsion"
   ]
  },
  {
   "cell_type": "code",
   "execution_count": 76,
   "id": "6cbe0758",
   "metadata": {},
   "outputs": [],
   "source": [
    "from numpy import linalg as LA\n",
    "\n",
    "def get_approximation_error(exact_eigenvalue, approximated_eigenvalue):\n",
    "    return abs(abs(exact_eigenvalue)-abs(approximated_eigenvalue))/abs(exact_eigenvalue)"
   ]
  },
  {
   "cell_type": "code",
   "execution_count": 77,
   "id": "28b63147",
   "metadata": {},
   "outputs": [],
   "source": [
    "def get_minimum_exact_eigenvalue_of_hamiltonian(hamiltonian):\n",
    "    eigen_values = LA.eigvals(hamiltonian.to_matrix())\n",
    "    print(sorted(eigen_values))\n",
    "    \n",
    "    return min(sorted(eigen_values))"
   ]
  },
  {
   "cell_type": "code",
   "execution_count": 78,
   "id": "529a29d1",
   "metadata": {},
   "outputs": [],
   "source": [
    "def compare_exact_and_approximated_eigenvalue(hamiltonian, approximated_eigenvalue):\n",
    "    exact_eigenvalue = get_minimum_exact_eigenvalue_of_hamiltonian(hamiltonian)\n",
    "    print(\"Exact Eigenvalue:\")\n",
    "    print(exact_eigenvalue)\n",
    "    print(\"\\nApproximated Eigenvalue:\")\n",
    "    print(approximated_eigenvalue)\n",
    "\n",
    "    print(\"\\nApproximation Error\")\n",
    "    print(get_approximation_error(exact_eigenvalue, approximated_eigenvalue))\n",
    "    \n",
    "    plot_convergence_of_optimization_process(approximated_energies, exact_eigenvalue, margin=3)\n",
    "    initialize_approximated_energy_to_list_of_all_approximated_energies()"
   ]
  },
  {
   "cell_type": "markdown",
   "id": "c1452964",
   "metadata": {},
   "source": [
    "## Visualization"
   ]
  },
  {
   "cell_type": "code",
   "execution_count": 79,
   "id": "75c3e505",
   "metadata": {},
   "outputs": [],
   "source": [
    "approximated_energies = []"
   ]
  },
  {
   "cell_type": "code",
   "execution_count": 80,
   "id": "5c4331c6",
   "metadata": {},
   "outputs": [],
   "source": [
    "def insert_approximated_energy_to_list_of_all_approximated_energies(energy):\n",
    "    approximated_energies.append(energy)"
   ]
  },
  {
   "cell_type": "code",
   "execution_count": 81,
   "id": "6f445515",
   "metadata": {},
   "outputs": [],
   "source": [
    "def initialize_approximated_energy_to_list_of_all_approximated_energies():\n",
    "    approximated_energies = []"
   ]
  },
  {
   "cell_type": "code",
   "execution_count": 82,
   "id": "26026bbb",
   "metadata": {},
   "outputs": [],
   "source": [
    "import matplotlib.pyplot as plt\n",
    "\n",
    "def plot_convergence_of_optimization_process(approximated_energies, exact_eigenvalue, margin):\n",
    "    plt.title(\"convergence of optimization process to the exact eigenvalue\")\n",
    "    plt.margins(0, margin)\n",
    "    plt.plot(approximated_energies)\n",
    "    plt.axhline(y = exact_eigenvalue, color = 'r', linestyle = '-')\n",
    "    plt.grid()\n",
    "    plt.xlabel(\"# of iterations\")\n",
    "    plt.ylabel(\"Energy\")\n",
    "    \n",
    "def plot_fidelity():\n",
    "    plt.plot(LiH_approximated_energies)\n",
    "    plt.xlabel(\"# of iterations\")\n",
    "    plt.ylabel(\"Energy\")"
   ]
  },
  {
   "cell_type": "markdown",
   "id": "2b442e22",
   "metadata": {},
   "source": [
    "## LiH Molecule 4 qubits"
   ]
  },
  {
   "cell_type": "code",
   "execution_count": 83,
   "id": "87e93b42",
   "metadata": {},
   "outputs": [],
   "source": [
    "from qiskit.opflow import X, Z, I, H, Y\n",
    "\n",
    "LiH_molecule_4_qubits = -7.49894690201071*(I^I^I^I) + \\\n",
    "                            -0.0029329964409502266*(X^X^Y^Y) + \\\n",
    "                            0.0029329964409502266*(X^Y^Y^X) + \\\n",
    "                            0.01291078027311749*(X^Z^X^I) + \\\n",
    "                            -0.0013743761078958677*(X^Z^X^Z) + \\\n",
    "                            0.011536413200774975*(X^I^X^I) + \\\n",
    "                            0.0029329964409502266*(Y^X^X^Y) + \\\n",
    "                            -0.0029329964409502266*(Y^Y^X^X) + \\\n",
    "                            0.01291078027311749*(Y^Z^Y^I) + \\\n",
    "                            -0.0013743761078958677*(Y^Z^Y^Z) + \\\n",
    "                            0.011536413200774975*(Y^I^Y^I) + \\\n",
    "                            0.16199475388004184*(Z^I^I^I) + \\\n",
    "                            0.011536413200774975*(Z^X^Z^X) + \\\n",
    "                            0.011536413200774975*(Z^Y^Z^Y) + \\\n",
    "                            0.12444770133137588*(Z^Z^I^I) + \\\n",
    "                            0.054130445793298836*(Z^I^Z^I) + \\\n",
    "                            0.05706344223424907*(Z^I^I^Z) + \\\n",
    "                            0.012910780273117487*(I^X^Z^X) + \\\n",
    "                            -0.0013743761078958677*(I^X^I^X) + \\\n",
    "                            0.012910780273117487*(I^Y^Z^Y) + \\\n",
    "                            -0.0013743761078958677*(I^Y^I^Y) + \\\n",
    "                            0.16199475388004186*(I^Z^I^I) + \\\n",
    "                            0.05706344223424907*(I^Z^Z^I) + \\\n",
    "                            0.054130445793298836*(I^Z^I^Z) + \\\n",
    "                            -0.013243698330265966*(I^I^Z^I) + \\\n",
    "                            0.08479609543670981*(I^I^Z^Z) + \\\n",
    "                            -0.013243698330265952*(I^I^I^Z)"
   ]
  },
  {
   "cell_type": "markdown",
   "id": "dbfc22f0",
   "metadata": {},
   "source": [
    "#### Linear Entangelment"
   ]
  },
  {
   "cell_type": "code",
   "execution_count": 84,
   "id": "58cbff1d",
   "metadata": {},
   "outputs": [
    {
     "name": "stderr",
     "output_type": "stream",
     "text": [
      "27it [00:08,  3.35it/s]\n",
      "27it [00:09,  2.80it/s]\n",
      "27it [00:08,  3.16it/s]\n",
      "27it [00:07,  3.50it/s]\n",
      "27it [00:08,  3.19it/s]\n",
      "27it [00:08,  3.27it/s]\n",
      "27it [00:09,  2.84it/s]\n",
      "27it [00:07,  3.38it/s]\n",
      "27it [00:06,  3.96it/s]\n",
      "27it [00:07,  3.41it/s]\n",
      "27it [00:07,  3.58it/s]\n",
      "27it [00:07,  3.47it/s]\n",
      "27it [00:08,  3.24it/s]\n",
      "27it [00:07,  3.63it/s]\n",
      "27it [00:08,  3.19it/s]\n",
      "27it [00:09,  2.87it/s]\n",
      "27it [00:08,  3.07it/s]\n",
      "27it [00:08,  3.17it/s]\n",
      "27it [00:08,  3.28it/s]\n",
      "27it [00:08,  3.33it/s]\n",
      "27it [00:07,  3.47it/s]\n",
      "27it [00:08,  3.17it/s]\n",
      "27it [00:08,  3.35it/s]\n",
      "27it [00:08,  3.26it/s]\n",
      "27it [00:07,  3.53it/s]\n",
      "27it [00:08,  3.08it/s]\n",
      "27it [00:07,  3.70it/s]\n",
      "27it [00:07,  3.79it/s]\n",
      "27it [00:07,  3.60it/s]\n",
      "27it [00:07,  3.47it/s]\n",
      "27it [00:09,  2.82it/s]\n",
      "27it [00:09,  2.91it/s]\n",
      "27it [00:08,  3.28it/s]\n",
      "27it [00:08,  3.27it/s]\n",
      "27it [00:07,  3.45it/s]\n",
      "27it [00:07,  3.66it/s]\n",
      "27it [00:08,  3.20it/s]\n",
      "27it [00:06,  3.99it/s]\n",
      "27it [00:06,  4.05it/s]\n",
      "27it [00:08,  3.19it/s]\n",
      "27it [00:07,  3.83it/s]\n",
      "27it [00:06,  3.90it/s]\n",
      "27it [00:08,  3.17it/s]\n",
      "27it [00:08,  3.06it/s]\n",
      "27it [00:07,  3.49it/s]\n",
      "27it [00:09,  2.98it/s]\n",
      "27it [00:08,  3.01it/s]\n",
      "27it [00:07,  3.70it/s]\n",
      "27it [00:09,  2.92it/s]\n",
      "27it [00:09,  2.72it/s]\n",
      "27it [00:08,  3.23it/s]\n",
      "27it [00:07,  3.70it/s]\n",
      "27it [00:08,  3.19it/s]\n",
      "27it [00:08,  3.09it/s]\n",
      "27it [00:07,  3.49it/s]\n",
      "27it [00:07,  3.60it/s]\n",
      "27it [00:09,  2.99it/s]\n",
      "27it [00:08,  3.14it/s]\n",
      "27it [00:08,  3.03it/s]\n",
      "27it [00:08,  3.20it/s]\n",
      "27it [00:07,  3.38it/s]\n",
      "27it [00:09,  2.94it/s]\n",
      "27it [00:08,  3.23it/s]\n",
      "27it [00:07,  3.41it/s]\n",
      "27it [00:08,  3.12it/s]\n",
      "27it [00:08,  3.23it/s]\n",
      "27it [00:10,  2.67it/s]\n",
      "27it [00:07,  3.47it/s]\n",
      "27it [00:07,  3.40it/s]\n",
      "27it [00:07,  3.40it/s]\n",
      "27it [00:07,  3.79it/s]\n",
      "27it [00:07,  3.60it/s]\n",
      "27it [00:08,  3.07it/s]\n",
      "27it [00:08,  3.09it/s]\n",
      "27it [00:07,  3.53it/s]\n",
      "27it [00:08,  3.21it/s]\n",
      "27it [00:07,  3.55it/s]\n",
      "27it [00:08,  3.09it/s]\n",
      "27it [00:09,  2.85it/s]\n",
      "27it [00:08,  3.05it/s]\n",
      "27it [00:08,  3.26it/s]\n",
      "27it [00:10,  2.62it/s]\n",
      "27it [00:09,  2.81it/s]\n",
      "27it [00:08,  3.23it/s]\n",
      "27it [00:08,  3.06it/s]\n",
      "27it [00:07,  3.39it/s]\n",
      "27it [00:08,  3.24it/s]\n",
      "27it [00:09,  2.92it/s]\n",
      "27it [00:20,  1.35it/s]\n",
      "27it [00:18,  1.46it/s]\n",
      "27it [00:31,  1.16s/it]\n",
      "27it [00:11,  2.39it/s]\n",
      "27it [00:08,  3.27it/s]\n",
      "27it [00:10,  2.62it/s]\n",
      "27it [00:08,  3.26it/s]\n",
      "27it [00:09,  2.73it/s]\n",
      "27it [00:07,  3.42it/s]\n",
      "27it [00:13,  1.98it/s]\n",
      "27it [00:09,  2.88it/s]\n",
      "27it [00:09,  2.92it/s]\n"
     ]
    },
    {
     "name": "stdout",
     "output_type": "stream",
     "text": [
      "[ 82.18079372 349.47187595  24.31757054 310.79724968 145.91107449\n",
      " 318.29613702 212.57701501 219.95480938 326.67824262  91.36276402\n",
      " 271.57834571 351.97506203  15.52689825 212.92587255 292.54224302\n",
      " 195.72504649  55.99095162 348.21085447 333.98202746 351.92233266\n",
      " 101.42562665  13.46841324  39.57340491 349.38365845 101.96810509\n",
      " 309.79819373 139.4225018  138.03506207  43.75869477 234.35791399\n",
      " 254.82859217  39.67431025]\n"
     ]
    },
    {
     "name": "stderr",
     "output_type": "stream",
     "text": [
      "27it [00:08,  3.19it/s]"
     ]
    },
    {
     "name": "stdout",
     "output_type": "stream",
     "text": [
      "CPU times: total: 9min 40s\n",
      "Wall time: 14min 58s\n"
     ]
    },
    {
     "name": "stderr",
     "output_type": "stream",
     "text": [
      "\n"
     ]
    }
   ],
   "source": [
    "%%time\n",
    "LiH_approximated_eigenvalue = get_approximated_eigenvalue_of_hamiltonian(LiH_molecule_4_qubits, \"linear\")"
   ]
  },
  {
   "cell_type": "markdown",
   "id": "fbe670c9",
   "metadata": {},
   "source": [
    "### Comparsion between approximate value after optimtimzation and exact eigenvalue"
   ]
  },
  {
   "cell_type": "code",
   "execution_count": 85,
   "id": "a97114cc",
   "metadata": {},
   "outputs": [
    {
     "name": "stdout",
     "output_type": "stream",
     "text": [
      "[(-7.862773163027979+0j), (-7.7833962082865185+0j), (-7.783396208286518+0j), (-7.7140566916607005+0j), (-7.714056691660695+0j), (-7.714056691660695+0j), (-7.700475837803976+0j), (-7.569984737620559+0j), (-7.569984737620559+0j), (-7.511999706834453+0j), (-7.511999706834451+0j), (-7.364817440287081+0j), (-7.151525481896562+0j), (-7.130406955301309+0j), (-7.130406955301308+0j), (-6.769813218087976+0j)]\n",
      "Exact Eigenvalue:\n",
      "(-7.862773163027979+0j)\n",
      "\n",
      "Approximated Eigenvalue:\n",
      "-7.774967339277667\n",
      "\n",
      "Approximation Error\n",
      "0.011167284357533018\n"
     ]
    },
    {
     "data": {
      "image/png": "[encoded data removed]",
      "text/plain": [
       "<Figure size 432x288 with 1 Axes>"
      ]
     },
     "metadata": {
      "needs_background": "light"
     },
     "output_type": "display_data"
    }
   ],
   "source": [
    "compare_exact_and_approximated_eigenvalue(LiH_molecule_4_qubits, LiH_approximated_eigenvalue)"
   ]
  },
  {
   "cell_type": "markdown",
   "id": "32d3273c",
   "metadata": {},
   "source": [
    "#### Full Entangelment"
   ]
  },
  {
   "cell_type": "code",
   "execution_count": 86,
   "id": "39faf0d6",
   "metadata": {},
   "outputs": [
    {
     "name": "stderr",
     "output_type": "stream",
     "text": [
      "27it [00:09,  2.86it/s]\n",
      "27it [00:08,  3.29it/s]\n",
      "27it [00:08,  3.16it/s]\n",
      "27it [00:08,  3.09it/s]\n",
      "27it [00:10,  2.54it/s]\n",
      "27it [00:08,  3.07it/s]\n",
      "27it [00:10,  2.53it/s]\n",
      "27it [00:09,  2.89it/s]\n",
      "27it [00:09,  2.75it/s]\n",
      "27it [00:08,  3.05it/s]\n",
      "27it [00:08,  3.04it/s]\n",
      "27it [00:08,  3.11it/s]\n",
      "27it [00:09,  2.84it/s]\n",
      "27it [00:08,  3.37it/s]\n",
      "27it [00:08,  3.10it/s]\n",
      "27it [00:08,  3.01it/s]\n",
      "27it [00:08,  3.35it/s]\n",
      "27it [00:08,  3.31it/s]\n",
      "27it [00:09,  2.96it/s]\n",
      "27it [00:08,  3.21it/s]\n",
      "27it [00:07,  3.52it/s]\n",
      "27it [00:11,  2.29it/s]\n",
      "27it [00:08,  3.26it/s]\n",
      "27it [00:08,  3.11it/s]\n",
      "27it [00:08,  3.17it/s]\n",
      "27it [00:09,  2.79it/s]\n",
      "27it [00:09,  2.79it/s]\n",
      "27it [00:09,  2.75it/s]\n",
      "27it [00:08,  3.06it/s]\n",
      "27it [00:07,  3.45it/s]\n",
      "27it [00:08,  3.14it/s]\n",
      "27it [00:07,  3.49it/s]\n",
      "27it [00:08,  3.35it/s]\n",
      "27it [00:09,  2.91it/s]\n",
      "27it [00:09,  2.96it/s]\n",
      "27it [00:08,  3.06it/s]\n",
      "27it [00:08,  3.04it/s]\n",
      "27it [00:09,  2.91it/s]\n",
      "27it [00:08,  3.09it/s]\n",
      "27it [00:08,  3.13it/s]\n",
      "27it [00:08,  3.28it/s]\n",
      "27it [00:07,  3.40it/s]\n",
      "27it [00:08,  3.10it/s]\n",
      "27it [00:07,  3.45it/s]\n",
      "27it [00:08,  3.02it/s]\n",
      "27it [00:07,  3.44it/s]\n",
      "27it [00:08,  3.18it/s]\n",
      "27it [00:08,  3.24it/s]\n",
      "27it [00:09,  2.73it/s]\n",
      "27it [00:08,  3.00it/s]\n",
      "27it [00:09,  2.89it/s]\n",
      "27it [00:09,  2.78it/s]\n",
      "27it [00:09,  2.95it/s]\n",
      "27it [00:08,  3.27it/s]\n",
      "27it [00:09,  2.82it/s]\n",
      "27it [00:08,  3.00it/s]\n",
      "27it [00:09,  2.95it/s]\n",
      "27it [00:08,  3.01it/s]\n",
      "27it [00:09,  2.98it/s]\n",
      "27it [00:09,  2.94it/s]\n",
      "27it [00:08,  3.14it/s]\n",
      "27it [00:10,  2.67it/s]\n",
      "27it [00:08,  3.01it/s]\n",
      "27it [00:08,  3.17it/s]\n",
      "27it [00:08,  3.12it/s]\n",
      "27it [00:08,  3.09it/s]\n",
      "27it [00:07,  3.39it/s]\n",
      "27it [00:08,  3.24it/s]\n",
      "27it [00:08,  3.15it/s]\n",
      "27it [00:08,  3.03it/s]\n",
      "27it [00:07,  3.39it/s]\n",
      "27it [00:08,  3.20it/s]\n",
      "27it [00:08,  3.19it/s]\n",
      "27it [00:08,  3.15it/s]\n",
      "27it [00:09,  2.85it/s]\n",
      "27it [00:09,  2.74it/s]\n",
      "27it [00:08,  3.03it/s]\n",
      "27it [00:09,  2.80it/s]\n",
      "27it [00:08,  3.21it/s]\n",
      "27it [00:07,  3.82it/s]\n",
      "27it [00:08,  3.34it/s]\n",
      "27it [00:09,  2.75it/s]\n",
      "27it [00:08,  3.11it/s]\n",
      "27it [00:08,  3.03it/s]\n",
      "27it [00:07,  3.39it/s]\n",
      "27it [00:09,  2.96it/s]\n",
      "27it [00:09,  2.81it/s]\n",
      "27it [00:08,  3.00it/s]\n",
      "27it [00:07,  3.51it/s]\n",
      "27it [00:08,  3.03it/s]\n",
      "27it [00:08,  3.14it/s]\n",
      "27it [00:07,  3.39it/s]\n",
      "27it [00:08,  3.07it/s]\n",
      "27it [00:08,  3.03it/s]\n",
      "27it [00:08,  3.37it/s]\n",
      "27it [00:08,  3.01it/s]\n",
      "27it [00:08,  3.03it/s]\n",
      "27it [00:08,  3.14it/s]\n",
      "27it [00:08,  3.04it/s]\n",
      "27it [00:09,  2.90it/s]\n"
     ]
    },
    {
     "name": "stdout",
     "output_type": "stream",
     "text": [
      "[266.91152674  28.12006887 297.88173974 282.31934091  41.64017674\n",
      "  82.46034171  37.45711941 343.20063324 351.9392084  220.18377589\n",
      " 241.70747092 318.11097759 316.62115545  87.417739   215.73466064\n",
      " 178.25754493  84.65810153 260.47614437  44.5378703  339.97931557\n",
      "  60.03762782 306.12679432  71.93213431  65.58695506 182.64927251\n",
      " 232.83286429 314.6421073  140.71554577 242.40959915  71.34819634\n",
      "  59.37157489 309.27067684]\n"
     ]
    },
    {
     "name": "stderr",
     "output_type": "stream",
     "text": [
      "27it [00:08,  3.09it/s]"
     ]
    },
    {
     "name": "stdout",
     "output_type": "stream",
     "text": [
      "CPU times: total: 10min 9s\n",
      "Wall time: 14min 54s\n"
     ]
    },
    {
     "name": "stderr",
     "output_type": "stream",
     "text": [
      "\n"
     ]
    }
   ],
   "source": [
    "%%time\n",
    "LiH_approximated_eigenvalue = get_approximated_eigenvalue_of_hamiltonian(LiH_molecule_4_qubits, \"full\")"
   ]
  },
  {
   "cell_type": "code",
   "execution_count": 87,
   "id": "ae67fc6d",
   "metadata": {},
   "outputs": [
    {
     "name": "stdout",
     "output_type": "stream",
     "text": [
      "[(-7.862773163027979+0j), (-7.7833962082865185+0j), (-7.783396208286518+0j), (-7.7140566916607005+0j), (-7.714056691660695+0j), (-7.714056691660695+0j), (-7.700475837803976+0j), (-7.569984737620559+0j), (-7.569984737620559+0j), (-7.511999706834453+0j), (-7.511999706834451+0j), (-7.364817440287081+0j), (-7.151525481896562+0j), (-7.130406955301309+0j), (-7.130406955301308+0j), (-6.769813218087976+0j)]\n",
      "Exact Eigenvalue:\n",
      "(-7.862773163027979+0j)\n",
      "\n",
      "Approximated Eigenvalue:\n",
      "-7.834880710383381\n",
      "\n",
      "Approximation Error\n",
      "0.003547406502295336\n"
     ]
    },
    {
     "data": {
      "image/png": "[encoded data removed]",
      "text/plain": [
       "<Figure size 432x288 with 1 Axes>"
      ]
     },
     "metadata": {
      "needs_background": "light"
     },
     "output_type": "display_data"
    }
   ],
   "source": [
    "compare_exact_and_approximated_eigenvalue(LiH_molecule_4_qubits, LiH_approximated_eigenvalue)"
   ]
  },
  {
   "cell_type": "markdown",
   "id": "e9cc887a",
   "metadata": {},
   "source": [
    "## H2 Molecule 4 qubits"
   ]
  },
  {
   "cell_type": "code",
   "execution_count": 88,
   "id": "259df459",
   "metadata": {},
   "outputs": [],
   "source": [
    "H2_molecule_Hamiltonian_4_qubits =  -0.8105479805373279 * (I^I^I^I) \\\n",
    "                                    + 0.1721839326191554 * (I^I^I^Z) \\\n",
    "                                    - 0.22575349222402372 * (I^I^Z^I) \\\n",
    "                                    + 0.17218393261915543 * (I^Z^I^I) \\\n",
    "                                    - 0.2257534922240237 * (Z^I^I^I) \\\n",
    "                                    + 0.12091263261776627 * (I^I^Z^Z) \\\n",
    "                                    + 0.16892753870087907 * (I^Z^I^Z) \\\n",
    "                                    + 0.045232799946057826 * (Y^Y^Y^Y) \\\n",
    "                                    + 0.045232799946057826 * (X^X^Y^Y) \\\n",
    "                                    + 0.045232799946057826 * (Y^Y^X^X) \\\n",
    "                                    + 0.045232799946057826 * (X^X^X^X) \\\n",
    "                                    + 0.1661454325638241 * (Z^I^I^Z) \\\n",
    "                                    + 0.1661454325638241 * (I^Z^Z^I) \\\n",
    "                                    + 0.17464343068300453 * (Z^I^Z^I) \\\n",
    "                                    + 0.12091263261776627 * (Z^Z^I^I)"
   ]
  },
  {
   "cell_type": "markdown",
   "id": "fa5a1423",
   "metadata": {},
   "source": [
    "#### Linear Entangelment"
   ]
  },
  {
   "cell_type": "code",
   "execution_count": 89,
   "id": "3634f0d7",
   "metadata": {},
   "outputs": [
    {
     "name": "stderr",
     "output_type": "stream",
     "text": [
      "15it [00:04,  3.01it/s]\n",
      "15it [00:04,  3.12it/s]\n",
      "15it [00:04,  3.23it/s]\n",
      "15it [00:04,  3.25it/s]\n",
      "15it [00:04,  3.13it/s]\n",
      "15it [00:05,  2.98it/s]\n",
      "15it [00:04,  3.24it/s]\n",
      "15it [00:05,  2.88it/s]\n",
      "15it [00:04,  3.27it/s]\n",
      "15it [00:04,  3.64it/s]\n",
      "15it [00:04,  3.17it/s]\n",
      "15it [00:04,  3.16it/s]\n",
      "15it [00:04,  3.15it/s]\n",
      "15it [00:04,  3.41it/s]\n",
      "15it [00:04,  3.19it/s]\n",
      "15it [00:04,  3.33it/s]\n",
      "15it [00:04,  3.13it/s]\n",
      "15it [00:05,  2.92it/s]\n",
      "15it [00:04,  3.24it/s]\n",
      "15it [00:04,  3.50it/s]\n",
      "15it [00:04,  3.21it/s]\n",
      "15it [00:05,  2.80it/s]\n",
      "15it [00:04,  3.54it/s]\n",
      "15it [00:04,  3.27it/s]\n",
      "15it [00:04,  3.35it/s]\n",
      "15it [00:04,  3.25it/s]\n",
      "15it [00:04,  3.16it/s]\n",
      "15it [00:04,  3.26it/s]\n",
      "15it [00:03,  3.92it/s]\n",
      "15it [00:04,  3.29it/s]\n",
      "15it [00:05,  2.95it/s]\n",
      "15it [00:03,  3.87it/s]\n",
      "15it [00:04,  3.44it/s]\n",
      "15it [00:04,  3.66it/s]\n",
      "15it [00:04,  3.08it/s]\n",
      "15it [00:04,  3.28it/s]\n",
      "15it [00:04,  3.16it/s]\n",
      "15it [00:04,  3.05it/s]\n",
      "15it [00:05,  2.96it/s]\n",
      "15it [00:04,  3.26it/s]\n",
      "15it [00:04,  3.18it/s]\n",
      "15it [00:04,  3.14it/s]\n",
      "15it [00:04,  3.24it/s]\n",
      "15it [00:04,  3.19it/s]\n",
      "15it [00:03,  3.90it/s]\n",
      "15it [00:04,  3.21it/s]\n",
      "15it [00:04,  3.04it/s]\n",
      "15it [00:03,  4.37it/s]\n",
      "15it [00:04,  3.45it/s]\n",
      "15it [00:05,  2.90it/s]\n",
      "15it [00:03,  3.88it/s]\n",
      "15it [00:04,  3.59it/s]\n",
      "15it [00:04,  3.23it/s]\n",
      "15it [00:04,  3.09it/s]\n",
      "15it [00:04,  3.01it/s]\n",
      "15it [00:04,  3.01it/s]\n",
      "15it [00:04,  3.05it/s]\n",
      "15it [00:03,  4.08it/s]\n",
      "15it [00:04,  3.03it/s]\n",
      "15it [00:03,  4.00it/s]\n",
      "15it [00:04,  3.70it/s]\n",
      "15it [00:04,  3.15it/s]\n",
      "15it [00:05,  2.99it/s]\n",
      "15it [00:04,  3.16it/s]\n",
      "15it [00:04,  3.49it/s]\n",
      "15it [00:05,  2.95it/s]\n",
      "15it [00:04,  3.38it/s]\n",
      "15it [00:05,  2.92it/s]\n",
      "15it [00:04,  3.15it/s]\n",
      "15it [00:04,  3.27it/s]\n",
      "15it [00:04,  3.23it/s]\n",
      "15it [00:04,  3.17it/s]\n",
      "15it [00:04,  3.03it/s]\n",
      "15it [00:05,  2.78it/s]\n",
      "15it [00:04,  3.54it/s]\n",
      "15it [00:04,  3.15it/s]\n",
      "15it [00:04,  3.10it/s]\n",
      "15it [00:04,  3.26it/s]\n",
      "15it [00:04,  3.35it/s]\n",
      "15it [00:04,  3.08it/s]\n",
      "15it [00:05,  2.79it/s]\n",
      "15it [00:05,  2.97it/s]\n",
      "15it [00:04,  3.23it/s]\n",
      "15it [00:04,  3.14it/s]\n",
      "15it [00:05,  2.95it/s]\n",
      "15it [00:04,  3.18it/s]\n",
      "15it [00:04,  3.55it/s]\n",
      "15it [00:05,  2.84it/s]\n",
      "15it [00:04,  3.32it/s]\n",
      "15it [00:04,  3.07it/s]\n",
      "15it [00:05,  2.77it/s]\n",
      "15it [00:04,  3.51it/s]\n",
      "15it [00:03,  3.87it/s]\n",
      "15it [00:05,  2.71it/s]\n",
      "15it [00:04,  3.03it/s]\n",
      "15it [00:04,  3.18it/s]\n",
      "15it [00:04,  3.26it/s]\n",
      "15it [00:04,  3.29it/s]\n",
      "15it [00:04,  3.43it/s]\n",
      "15it [00:04,  3.57it/s]\n"
     ]
    },
    {
     "name": "stdout",
     "output_type": "stream",
     "text": [
      "[357.87763137 261.53236164 259.17729493 192.19643474 242.09006526\n",
      " 313.46864013 324.96812961 163.69969675  21.78994766  63.15279485\n",
      " 133.15737949 358.80024775 196.94328248 122.01514096 150.30456348\n",
      " 210.82555431 354.83652544 104.43851929 106.62368565 294.21589452\n",
      "  35.46657877 305.61349896 297.44043017 132.82884579 147.43730319\n",
      "   9.98437792 277.82608649 330.45717674 173.89893876 260.21171804\n",
      " 126.84454452  15.2849919 ]\n"
     ]
    },
    {
     "name": "stderr",
     "output_type": "stream",
     "text": [
      "15it [00:05,  2.89it/s]"
     ]
    },
    {
     "name": "stdout",
     "output_type": "stream",
     "text": [
      "CPU times: total: 5min 27s\n",
      "Wall time: 7min 52s\n"
     ]
    },
    {
     "name": "stderr",
     "output_type": "stream",
     "text": [
      "\n"
     ]
    }
   ],
   "source": [
    "%%time\n",
    "H2_approximated_eigenvalue = get_approximated_eigenvalue_of_hamiltonian(H2_molecule_Hamiltonian_4_qubits, \"linear\")"
   ]
  },
  {
   "cell_type": "code",
   "execution_count": 90,
   "id": "5b96cc5e",
   "metadata": {},
   "outputs": [
    {
     "name": "stdout",
     "output_type": "stream",
     "text": [
      "[(-1.8572750302023793+0j), (-1.25633907300325+0j), (-1.2563390730032498+0j), (-1.2445845498133272+0j), (-1.2445845498133272+0j), (-1.244584549813327+0j), (-1.1606317377577642+0j), (-1.1606317377577642+0j), (-0.8827221502448648+0j), (-0.47189600728114256+0j), (-0.47189600728114245+0j), (-0.353325104107155+0j), (-0.353325104107155+0j), (-0.2249112528308709+0j), (-1.942890293094024e-16+0j), (0.2142782384194731+0j)]\n",
      "Exact Eigenvalue:\n",
      "(-1.8572750302023793+0j)\n",
      "\n",
      "Approximated Eigenvalue:\n",
      "-1.6239652815131058\n",
      "\n",
      "Approximation Error\n",
      "0.1256193858719194\n"
     ]
    },
    {
     "data": {
      "image/png": "[encoded data removed]",
      "text/plain": [
       "<Figure size 432x288 with 1 Axes>"
      ]
     },
     "metadata": {
      "needs_background": "light"
     },
     "output_type": "display_data"
    }
   ],
   "source": [
    "compare_exact_and_approximated_eigenvalue(H2_molecule_Hamiltonian_4_qubits, H2_approximated_eigenvalue)"
   ]
  },
  {
   "cell_type": "markdown",
   "id": "72f299b7",
   "metadata": {},
   "source": [
    "#### Full Entangelment"
   ]
  },
  {
   "cell_type": "code",
   "execution_count": 91,
   "id": "51d29e0c",
   "metadata": {},
   "outputs": [
    {
     "name": "stderr",
     "output_type": "stream",
     "text": [
      "15it [00:05,  2.61it/s]\n",
      "15it [00:04,  3.70it/s]\n",
      "15it [00:04,  3.37it/s]\n",
      "15it [00:04,  3.51it/s]\n",
      "15it [00:03,  3.80it/s]\n",
      "15it [00:05,  2.66it/s]\n",
      "15it [00:05,  2.72it/s]\n",
      "15it [00:05,  2.91it/s]\n",
      "15it [00:05,  2.83it/s]\n",
      "15it [00:05,  2.75it/s]\n",
      "15it [00:05,  2.81it/s]\n",
      "15it [00:04,  3.33it/s]\n",
      "15it [00:04,  3.36it/s]\n",
      "15it [00:04,  3.58it/s]\n",
      "15it [00:04,  3.48it/s]\n",
      "15it [00:04,  3.15it/s]\n",
      "15it [00:05,  2.67it/s]\n",
      "15it [00:04,  3.20it/s]\n",
      "15it [00:05,  2.73it/s]\n",
      "15it [00:05,  2.91it/s]\n",
      "15it [00:05,  2.78it/s]\n",
      "15it [00:04,  3.11it/s]\n",
      "15it [00:04,  3.20it/s]\n",
      "15it [00:04,  3.28it/s]\n",
      "15it [00:04,  3.23it/s]\n",
      "15it [00:04,  3.29it/s]\n",
      "15it [00:04,  3.30it/s]\n",
      "15it [00:04,  3.53it/s]\n",
      "15it [00:04,  3.02it/s]\n",
      "15it [00:05,  2.87it/s]\n",
      "15it [00:04,  3.13it/s]\n",
      "15it [00:04,  3.13it/s]\n",
      "15it [00:04,  3.07it/s]\n",
      "15it [00:04,  3.04it/s]\n",
      "15it [00:03,  3.77it/s]\n",
      "15it [00:04,  3.08it/s]\n",
      "15it [00:05,  3.00it/s]\n",
      "15it [00:04,  3.49it/s]\n",
      "15it [00:04,  3.08it/s]\n",
      "15it [00:05,  2.79it/s]\n",
      "15it [00:04,  3.10it/s]\n",
      "15it [00:05,  2.95it/s]\n",
      "15it [00:05,  2.74it/s]\n",
      "15it [00:04,  3.08it/s]\n",
      "15it [00:05,  2.52it/s]\n",
      "15it [00:05,  2.91it/s]\n",
      "15it [00:04,  3.32it/s]\n",
      "15it [00:04,  3.49it/s]\n",
      "15it [00:04,  3.13it/s]\n",
      "15it [00:04,  3.13it/s]\n",
      "15it [00:04,  3.23it/s]\n",
      "15it [00:04,  3.36it/s]\n",
      "15it [00:04,  3.06it/s]\n",
      "15it [00:03,  3.93it/s]\n",
      "15it [00:03,  3.94it/s]\n",
      "15it [00:04,  3.25it/s]\n",
      "15it [00:04,  3.32it/s]\n",
      "15it [00:05,  2.94it/s]\n",
      "15it [00:04,  3.71it/s]\n",
      "15it [00:04,  3.16it/s]\n",
      "15it [00:07,  2.06it/s]\n",
      "15it [00:05,  2.99it/s]\n",
      "15it [00:04,  3.18it/s]\n",
      "15it [00:05,  2.76it/s]\n",
      "15it [00:05,  2.74it/s]\n",
      "15it [00:04,  3.20it/s]\n",
      "15it [00:04,  3.17it/s]\n",
      "15it [00:04,  3.14it/s]\n",
      "15it [00:04,  3.06it/s]\n",
      "15it [00:04,  3.09it/s]\n",
      "15it [00:04,  3.31it/s]\n",
      "15it [00:04,  3.07it/s]\n",
      "15it [00:05,  2.82it/s]\n",
      "15it [00:05,  2.97it/s]\n",
      "15it [00:05,  2.61it/s]\n",
      "15it [00:04,  3.05it/s]\n",
      "15it [00:05,  2.97it/s]\n",
      "15it [00:05,  3.00it/s]\n",
      "15it [00:04,  3.26it/s]\n",
      "15it [00:04,  3.37it/s]\n",
      "15it [00:04,  3.33it/s]\n",
      "15it [00:04,  3.17it/s]\n",
      "15it [00:05,  2.76it/s]\n",
      "15it [00:05,  2.99it/s]\n",
      "15it [00:04,  3.49it/s]\n",
      "15it [00:05,  2.97it/s]\n",
      "15it [00:04,  3.27it/s]\n",
      "15it [00:04,  3.43it/s]\n",
      "15it [00:04,  3.61it/s]\n",
      "15it [00:04,  3.15it/s]\n",
      "15it [00:04,  3.11it/s]\n",
      "15it [00:04,  3.35it/s]\n",
      "15it [00:05,  2.75it/s]\n",
      "15it [00:05,  2.80it/s]\n",
      "15it [00:05,  2.95it/s]\n",
      "15it [00:04,  3.36it/s]\n",
      "15it [00:04,  3.03it/s]\n",
      "15it [00:05,  2.93it/s]\n",
      "15it [00:05,  2.72it/s]\n",
      "15it [00:04,  3.36it/s]\n"
     ]
    },
    {
     "name": "stdout",
     "output_type": "stream",
     "text": [
      "[119.32319542  85.65015999 149.22755025 236.65761239 151.53023617\n",
      " 324.45045317 173.75135747 112.61305674  50.22723001 304.91278856\n",
      "  72.1231521  270.59612926 167.32584351 295.26272268  49.02666201\n",
      "  90.54497457  43.80021588  65.2976599  296.46450782 245.48225171\n",
      "  18.79612376 152.97360044 104.86747391  53.65107359 154.19704244\n",
      " 209.29201987 222.89104439 101.05290506  48.04925891 218.61411841\n",
      " 317.40676758 301.61075269]\n"
     ]
    },
    {
     "name": "stderr",
     "output_type": "stream",
     "text": [
      "15it [00:05,  2.80it/s]"
     ]
    },
    {
     "name": "stdout",
     "output_type": "stream",
     "text": [
      "CPU times: total: 5min 41s\n",
      "Wall time: 8min 13s\n"
     ]
    },
    {
     "name": "stderr",
     "output_type": "stream",
     "text": [
      "\n"
     ]
    }
   ],
   "source": [
    "%%time\n",
    "H2_approximated_eigenvalue = get_approximated_eigenvalue_of_hamiltonian(H2_molecule_Hamiltonian_4_qubits, \"full\")"
   ]
  },
  {
   "cell_type": "code",
   "execution_count": 92,
   "id": "b3b3d512",
   "metadata": {},
   "outputs": [
    {
     "name": "stdout",
     "output_type": "stream",
     "text": [
      "[(-1.8572750302023793+0j), (-1.25633907300325+0j), (-1.2563390730032498+0j), (-1.2445845498133272+0j), (-1.2445845498133272+0j), (-1.244584549813327+0j), (-1.1606317377577642+0j), (-1.1606317377577642+0j), (-0.8827221502448648+0j), (-0.47189600728114256+0j), (-0.47189600728114245+0j), (-0.353325104107155+0j), (-0.353325104107155+0j), (-0.2249112528308709+0j), (-1.942890293094024e-16+0j), (0.2142782384194731+0j)]\n",
      "Exact Eigenvalue:\n",
      "(-1.8572750302023793+0j)\n",
      "\n",
      "Approximated Eigenvalue:\n",
      "-1.7025585475741638\n",
      "\n",
      "Approximation Error\n",
      "0.08330294658156077\n"
     ]
    },
    {
     "data": {
      "image/png": "[encoded data removed]",
      "text/plain": [
       "<Figure size 432x288 with 1 Axes>"
      ]
     },
     "metadata": {
      "needs_background": "light"
     },
     "output_type": "display_data"
    }
   ],
   "source": [
    "compare_exact_and_approximated_eigenvalue(H2_molecule_Hamiltonian_4_qubits, H2_approximated_eigenvalue)"
   ]
  },
  {
   "cell_type": "markdown",
   "id": "394c3bee",
   "metadata": {},
   "source": [
    "##  Transverse Ising Model 4 qubits"
   ]
  },
  {
   "cell_type": "code",
   "execution_count": 93,
   "id": "8dab0ec4",
   "metadata": {},
   "outputs": [],
   "source": [
    "transverse_ising_4_qubits = 0.0 * (I^I^I^I) \\\n",
    "    + 0.8398088405253477 * (X^I^I^I) \\\n",
    "    + 0.7989496312070936 * (I^X^I^I) \\\n",
    "    + 0.38189710487113193 * (Z^Z^I^I) \\\n",
    "    + 0.057753122422666725 * (I^I^X^I) \\\n",
    "    + 0.5633292636970458 * (Z^I^Z^I) \\\n",
    "    + 0.3152740621483513 * (I^Z^Z^I) \\\n",
    "    + 0.07209487981989715 * (I^I^I^X) \\\n",
    "    + 0.17892334004292654 * (Z^I^I^Z) \\\n",
    "    + 0.2273896497668042 * (I^Z^I^Z) \\\n",
    "    + 0.09762902934216211 * (I^I^Z^Z)"
   ]
  },
  {
   "cell_type": "markdown",
   "id": "c82bd1cb",
   "metadata": {},
   "source": [
    "#### Linear Entangelment"
   ]
  },
  {
   "cell_type": "code",
   "execution_count": 94,
   "id": "ac7514ba",
   "metadata": {},
   "outputs": [
    {
     "name": "stderr",
     "output_type": "stream",
     "text": [
      "11it [00:04,  2.40it/s]\n",
      "11it [00:04,  2.26it/s]\n",
      "11it [00:03,  3.26it/s]\n",
      "11it [00:03,  3.04it/s]\n",
      "11it [00:03,  3.30it/s]\n",
      "11it [00:03,  3.25it/s]\n",
      "11it [00:03,  3.20it/s]\n",
      "11it [00:03,  3.35it/s]\n",
      "11it [00:03,  3.05it/s]\n",
      "11it [00:03,  3.16it/s]\n",
      "11it [00:03,  3.60it/s]\n",
      "11it [00:03,  3.17it/s]\n",
      "11it [00:03,  2.91it/s]\n",
      "11it [00:03,  2.76it/s]\n",
      "11it [00:03,  3.45it/s]\n",
      "11it [00:03,  3.03it/s]\n",
      "11it [00:03,  3.17it/s]\n",
      "11it [00:03,  3.30it/s]\n",
      "11it [00:03,  3.17it/s]\n",
      "11it [00:03,  3.59it/s]\n",
      "11it [00:03,  3.60it/s]\n",
      "11it [00:04,  2.54it/s]\n",
      "11it [00:04,  2.48it/s]\n",
      "11it [00:03,  3.08it/s]\n",
      "11it [00:03,  3.59it/s]\n",
      "11it [00:02,  3.89it/s]\n",
      "11it [00:03,  2.76it/s]\n",
      "11it [00:03,  3.45it/s]\n",
      "11it [00:03,  3.24it/s]\n",
      "11it [00:03,  2.90it/s]\n",
      "11it [00:03,  2.88it/s]\n",
      "11it [00:03,  2.80it/s]\n",
      "11it [00:03,  3.53it/s]\n",
      "11it [00:03,  2.89it/s]\n",
      "11it [00:03,  3.05it/s]\n",
      "11it [00:03,  2.77it/s]\n",
      "11it [00:03,  2.78it/s]\n",
      "11it [00:03,  3.60it/s]\n",
      "11it [00:03,  3.49it/s]\n",
      "11it [00:03,  2.87it/s]\n",
      "11it [00:03,  3.05it/s]\n",
      "11it [00:03,  2.82it/s]\n",
      "11it [00:03,  3.18it/s]\n",
      "11it [00:02,  3.67it/s]\n",
      "11it [00:04,  2.74it/s]\n",
      "11it [00:04,  2.48it/s]\n",
      "11it [00:04,  2.24it/s]\n",
      "11it [00:03,  3.44it/s]\n",
      "11it [00:03,  3.24it/s]\n",
      "11it [00:03,  3.34it/s]\n",
      "11it [00:03,  3.40it/s]\n",
      "11it [00:04,  2.50it/s]\n",
      "11it [00:03,  2.92it/s]\n",
      "11it [00:03,  3.34it/s]\n",
      "11it [00:02,  4.11it/s]\n",
      "11it [00:02,  3.80it/s]\n",
      "11it [00:03,  3.41it/s]\n",
      "11it [00:04,  2.49it/s]\n",
      "11it [00:03,  3.27it/s]\n",
      "11it [00:03,  3.05it/s]\n",
      "11it [00:03,  3.02it/s]\n",
      "11it [00:03,  3.09it/s]\n",
      "11it [00:03,  3.10it/s]\n",
      "11it [00:03,  3.37it/s]\n",
      "11it [00:03,  3.04it/s]\n",
      "11it [00:03,  2.99it/s]\n",
      "11it [00:03,  3.05it/s]\n",
      "11it [00:03,  2.83it/s]\n",
      "11it [00:03,  3.07it/s]\n",
      "11it [00:03,  3.02it/s]\n",
      "11it [00:03,  3.05it/s]\n",
      "11it [00:03,  2.96it/s]\n",
      "11it [00:03,  2.88it/s]\n",
      "11it [00:04,  2.52it/s]\n",
      "11it [00:04,  2.49it/s]\n",
      "11it [00:04,  2.61it/s]\n",
      "11it [00:04,  2.70it/s]\n",
      "11it [00:04,  2.54it/s]\n",
      "11it [00:03,  3.06it/s]\n",
      "11it [00:03,  3.37it/s]\n",
      "11it [00:03,  3.48it/s]\n",
      "11it [00:03,  3.12it/s]\n",
      "11it [00:04,  2.42it/s]\n",
      "11it [00:03,  2.90it/s]\n",
      "11it [00:03,  3.37it/s]\n",
      "11it [00:03,  3.13it/s]\n",
      "11it [00:03,  2.77it/s]\n",
      "11it [00:04,  2.59it/s]\n",
      "11it [00:03,  2.85it/s]\n",
      "11it [00:04,  2.51it/s]\n",
      "11it [00:04,  2.60it/s]\n",
      "11it [00:04,  2.67it/s]\n",
      "11it [00:04,  2.67it/s]\n",
      "11it [00:03,  2.90it/s]\n",
      "11it [00:03,  3.14it/s]\n",
      "11it [00:03,  3.32it/s]\n",
      "11it [00:03,  3.06it/s]\n",
      "11it [00:03,  2.88it/s]\n",
      "11it [00:02,  3.82it/s]\n",
      "11it [00:03,  2.97it/s]\n"
     ]
    },
    {
     "name": "stdout",
     "output_type": "stream",
     "text": [
      "[145.19806195 150.65651373 343.60005047 218.98830029 274.29804686\n",
      " 282.33861987 348.99250854 247.36913407 159.57929242  44.21719752\n",
      " 304.09856421  32.12237567 332.77754666 291.39034746 185.53029881\n",
      " 247.51316614 167.42153763 293.195874   188.49230074 109.78991842\n",
      " 192.58528411 178.61647023 136.11071901 165.35220726 298.59081188\n",
      " 346.72468907 268.48533524 161.66727964 331.19900576 341.98074406\n",
      "  96.41681105 239.27752867]\n"
     ]
    },
    {
     "name": "stderr",
     "output_type": "stream",
     "text": [
      "11it [00:03,  2.77it/s]"
     ]
    },
    {
     "name": "stdout",
     "output_type": "stream",
     "text": [
      "CPU times: total: 4min 17s\n",
      "Wall time: 6min 12s\n"
     ]
    },
    {
     "name": "stderr",
     "output_type": "stream",
     "text": [
      "\n"
     ]
    }
   ],
   "source": [
    "%%time\n",
    "TI_approximated_eigenvalue = get_approximated_eigenvalue_of_hamiltonian(transverse_ising_4_qubits, \"linear\")"
   ]
  },
  {
   "cell_type": "code",
   "execution_count": 95,
   "id": "ecd81c72",
   "metadata": {},
   "outputs": [
    {
     "name": "stdout",
     "output_type": "stream",
     "text": [
      "[(-1.9994855800333675+0j), (-1.9080638482930956+0j), (-1.8497137109270194+0j), (-1.7583827504312988+0j), (-0.5462047134056278+0j), (-0.47710503946487287+0j), (-0.31907768442618767+0j), (-0.2505930484227001+0j), (0.14239915569453057+0j), (0.20992649961322052+0j), (0.2757654176709828+0j), (0.3444947223438019+0j), (1.6816520928402046+0j), (1.6958488386667439+0j), (2.3718326043433704+0j), (2.3867070442313216+0j)]\n",
      "Exact Eigenvalue:\n",
      "(-1.9994855800333675+0j)\n",
      "\n",
      "Approximated Eigenvalue:\n",
      "-1.638691240879889\n",
      "\n",
      "Approximation Error\n",
      "0.18044358146731795\n"
     ]
    },
    {
     "data": {
      "image/png": "[encoded data removed]",
      "text/plain": [
       "<Figure size 432x288 with 1 Axes>"
      ]
     },
     "metadata": {
      "needs_background": "light"
     },
     "output_type": "display_data"
    }
   ],
   "source": [
    "compare_exact_and_approximated_eigenvalue(transverse_ising_4_qubits, TI_approximated_eigenvalue)"
   ]
  },
  {
   "cell_type": "markdown",
   "id": "b13fdb69",
   "metadata": {},
   "source": [
    "#### Full Entangelment"
   ]
  },
  {
   "cell_type": "code",
   "execution_count": 96,
   "id": "defdd66a",
   "metadata": {},
   "outputs": [
    {
     "name": "stderr",
     "output_type": "stream",
     "text": [
      "11it [00:03,  2.93it/s]\n",
      "11it [00:03,  2.80it/s]\n",
      "11it [00:03,  3.24it/s]\n",
      "11it [00:03,  3.07it/s]\n",
      "11it [00:03,  3.64it/s]\n",
      "11it [00:03,  2.83it/s]\n",
      "11it [00:04,  2.54it/s]\n",
      "11it [00:04,  2.72it/s]\n",
      "11it [00:04,  2.56it/s]\n",
      "11it [00:04,  2.72it/s]\n",
      "11it [00:03,  3.19it/s]\n",
      "11it [00:03,  3.12it/s]\n",
      "11it [00:03,  3.20it/s]\n",
      "11it [00:03,  2.81it/s]\n",
      "11it [00:03,  3.19it/s]\n",
      "11it [00:03,  3.29it/s]\n",
      "11it [00:03,  2.91it/s]\n",
      "11it [00:03,  2.79it/s]\n",
      "11it [00:03,  2.93it/s]\n",
      "11it [00:03,  3.22it/s]\n",
      "11it [00:04,  2.54it/s]\n",
      "11it [00:04,  2.74it/s]\n",
      "11it [00:03,  3.38it/s]\n",
      "11it [00:03,  2.81it/s]\n",
      "11it [00:03,  3.30it/s]\n",
      "11it [00:03,  3.05it/s]\n",
      "11it [00:04,  2.64it/s]\n",
      "11it [00:03,  3.41it/s]\n",
      "11it [00:03,  3.19it/s]\n",
      "11it [00:04,  2.74it/s]\n",
      "11it [00:03,  2.93it/s]\n",
      "11it [00:03,  3.02it/s]\n",
      "11it [00:03,  3.04it/s]\n",
      "11it [00:03,  3.18it/s]\n",
      "11it [00:03,  3.36it/s]\n",
      "11it [00:03,  3.01it/s]\n",
      "11it [00:04,  2.65it/s]\n",
      "11it [00:03,  2.99it/s]\n",
      "11it [00:03,  2.95it/s]\n",
      "11it [00:03,  3.41it/s]\n",
      "11it [00:03,  3.06it/s]\n",
      "11it [00:03,  3.36it/s]\n",
      "11it [00:03,  2.98it/s]\n",
      "11it [00:03,  3.40it/s]\n",
      "11it [00:03,  3.20it/s]\n",
      "11it [00:03,  3.11it/s]\n",
      "11it [00:03,  3.08it/s]\n",
      "11it [00:03,  3.03it/s]\n",
      "11it [00:04,  2.54it/s]\n",
      "11it [00:03,  2.99it/s]\n",
      "11it [00:03,  3.12it/s]\n",
      "11it [00:03,  2.77it/s]\n",
      "11it [00:04,  2.65it/s]\n",
      "11it [00:03,  3.47it/s]\n",
      "11it [00:03,  3.45it/s]\n",
      "11it [00:02,  3.69it/s]\n",
      "11it [00:03,  3.18it/s]\n",
      "11it [00:03,  3.27it/s]\n",
      "11it [00:03,  3.22it/s]\n",
      "11it [00:03,  3.19it/s]\n",
      "11it [00:03,  3.01it/s]\n",
      "11it [00:03,  3.38it/s]\n",
      "11it [00:03,  3.15it/s]\n",
      "11it [00:04,  2.63it/s]\n",
      "11it [00:03,  3.21it/s]\n",
      "11it [00:03,  3.47it/s]\n",
      "11it [00:03,  3.07it/s]\n",
      "11it [00:03,  2.97it/s]\n",
      "11it [00:03,  3.05it/s]\n",
      "11it [00:03,  3.02it/s]\n",
      "11it [00:03,  2.92it/s]\n",
      "11it [00:04,  2.60it/s]\n",
      "11it [00:03,  3.13it/s]\n",
      "11it [00:03,  3.25it/s]\n",
      "11it [00:03,  3.11it/s]\n",
      "11it [00:03,  3.01it/s]\n",
      "11it [00:03,  2.91it/s]\n",
      "11it [00:04,  2.66it/s]\n",
      "11it [00:03,  2.96it/s]\n",
      "11it [00:03,  3.18it/s]\n",
      "11it [00:03,  3.17it/s]\n",
      "11it [00:03,  3.48it/s]\n",
      "11it [00:03,  3.25it/s]\n",
      "11it [00:03,  3.06it/s]\n",
      "11it [00:03,  3.14it/s]\n",
      "11it [00:03,  3.16it/s]\n",
      "11it [00:03,  2.84it/s]\n",
      "11it [00:05,  2.16it/s]\n",
      "11it [00:04,  2.62it/s]\n",
      "11it [00:04,  2.52it/s]\n",
      "11it [00:03,  2.76it/s]\n",
      "11it [00:03,  2.77it/s]\n",
      "11it [00:03,  2.89it/s]\n",
      "11it [00:03,  3.17it/s]\n",
      "11it [00:03,  3.37it/s]\n",
      "11it [00:03,  3.38it/s]\n",
      "11it [00:03,  3.20it/s]\n",
      "11it [00:03,  3.17it/s]\n",
      "11it [00:03,  3.39it/s]\n",
      "11it [00:02,  3.72it/s]\n"
     ]
    },
    {
     "name": "stdout",
     "output_type": "stream",
     "text": [
      "[230.97419524  43.94405856 151.9755477   73.04291188   3.94290807\n",
      "  87.20644464 323.13566719 225.12163738 292.57865146 182.0547051\n",
      "  50.2236636  158.5776391  144.58336891 128.00940423 143.45999946\n",
      " 121.68029077 324.88169729  50.44654165 291.24142881 111.11894232\n",
      " 286.88309649 193.61337672 332.12650127 212.35484515 181.10835113\n",
      " 228.94459079  78.46903918 130.30829306  56.91032906 316.84500007\n",
      " 207.73606585 183.58079007]\n"
     ]
    },
    {
     "name": "stderr",
     "output_type": "stream",
     "text": [
      "11it [00:02,  3.71it/s]"
     ]
    },
    {
     "name": "stdout",
     "output_type": "stream",
     "text": [
      "CPU times: total: 4min 12s\n",
      "Wall time: 6min 9s\n"
     ]
    },
    {
     "name": "stderr",
     "output_type": "stream",
     "text": [
      "\n"
     ]
    }
   ],
   "source": [
    "%%time\n",
    "TI_approximated_eigenvalue = get_approximated_eigenvalue_of_hamiltonian(transverse_ising_4_qubits, \"full\")"
   ]
  },
  {
   "cell_type": "code",
   "execution_count": 97,
   "id": "2f902eaa",
   "metadata": {},
   "outputs": [
    {
     "name": "stdout",
     "output_type": "stream",
     "text": [
      "[(-1.9994855800333675+0j), (-1.9080638482930956+0j), (-1.8497137109270194+0j), (-1.7583827504312988+0j), (-0.5462047134056278+0j), (-0.47710503946487287+0j), (-0.31907768442618767+0j), (-0.2505930484227001+0j), (0.14239915569453057+0j), (0.20992649961322052+0j), (0.2757654176709828+0j), (0.3444947223438019+0j), (1.6816520928402046+0j), (1.6958488386667439+0j), (2.3718326043433704+0j), (2.3867070442313216+0j)]\n",
      "Exact Eigenvalue:\n",
      "(-1.9994855800333675+0j)\n",
      "\n",
      "Approximated Eigenvalue:\n",
      "-1.8023201443703776\n",
      "\n",
      "Approximation Error\n",
      "0.09860808081431607\n"
     ]
    },
    {
     "data": {
      "image/png": "[encoded data removed]",
      "text/plain": [
       "<Figure size 432x288 with 1 Axes>"
      ]
     },
     "metadata": {
      "needs_background": "light"
     },
     "output_type": "display_data"
    }
   ],
   "source": [
    "compare_exact_and_approximated_eigenvalue(transverse_ising_4_qubits, TI_approximated_eigenvalue)"
   ]
  },
  {
   "cell_type": "markdown",
   "id": "cbf062b7",
   "metadata": {},
   "source": [
    "##  Transverse Ising Model 3 qubits"
   ]
  },
  {
   "cell_type": "code",
   "execution_count": 98,
   "id": "ff246ff1",
   "metadata": {},
   "outputs": [],
   "source": [
    "QUBITS_NUM = 3 \n",
    "N = 2**QUBITS_NUM\n",
    "\n",
    "NUM_SHOTS = 1024\n",
    "NUM_ITERATIONS = 100\n",
    "\n",
    "CIRCUIT_DEPTH = 3\n",
    "PARAMS_NUM = 2*QUBITS_NUM*(CIRCUIT_DEPTH+1)"
   ]
  },
  {
   "cell_type": "code",
   "execution_count": 99,
   "id": "8dd976ef",
   "metadata": {},
   "outputs": [],
   "source": [
    "from qiskit.opflow import X, Z, I\n",
    "\n",
    "transverse_ising_3_qubits = 0.0 * (I^I^I) \\\n",
    "                    + 0.012764169333459807 * (X^I^I) \\\n",
    "                    + 0.7691573729160869 * (I^X^I) \\\n",
    "                    + 0.398094746026449 * (Z^Z^I) \\\n",
    "                    + 0.15250261906586637 * (I^I^X) \\\n",
    "                    + 0.2094051920882264 * (Z^I^Z) \\\n",
    "                    + 0.5131291860752999 * (I^Z^Z)"
   ]
  },
  {
   "cell_type": "markdown",
   "id": "e37dd875",
   "metadata": {},
   "source": [
    "#### Linear Entangelment"
   ]
  },
  {
   "cell_type": "code",
   "execution_count": 100,
   "id": "7ffc0e36",
   "metadata": {},
   "outputs": [
    {
     "name": "stderr",
     "output_type": "stream",
     "text": [
      "7it [00:01,  4.28it/s]\n",
      "7it [00:01,  4.08it/s]\n",
      "7it [00:01,  4.41it/s]\n",
      "7it [00:01,  3.92it/s]\n",
      "7it [00:01,  4.83it/s]\n",
      "7it [00:01,  3.65it/s]\n",
      "7it [00:01,  3.80it/s]\n",
      "7it [00:01,  4.24it/s]\n",
      "7it [00:01,  3.75it/s]\n",
      "7it [00:01,  3.95it/s]\n",
      "7it [00:01,  4.18it/s]\n",
      "7it [00:02,  3.40it/s]\n",
      "7it [00:01,  4.50it/s]\n",
      "7it [00:01,  4.28it/s]\n",
      "7it [00:02,  3.44it/s]\n",
      "7it [00:02,  3.06it/s]\n",
      "7it [00:01,  4.31it/s]\n",
      "7it [00:01,  4.59it/s]\n",
      "7it [00:01,  4.99it/s]\n",
      "7it [00:01,  4.29it/s]\n",
      "7it [00:01,  4.88it/s]\n",
      "7it [00:01,  5.03it/s]\n",
      "7it [00:01,  5.24it/s]\n",
      "7it [00:01,  4.31it/s]\n",
      "7it [00:01,  5.25it/s]\n",
      "7it [00:01,  4.24it/s]\n",
      "7it [00:02,  3.48it/s]\n",
      "7it [00:01,  3.80it/s]\n",
      "7it [00:01,  4.11it/s]\n",
      "7it [00:01,  4.38it/s]\n",
      "7it [00:01,  4.26it/s]\n",
      "7it [00:01,  4.82it/s]\n",
      "7it [00:01,  3.71it/s]\n",
      "7it [00:01,  4.32it/s]\n",
      "7it [00:01,  3.93it/s]\n",
      "7it [00:01,  4.10it/s]\n",
      "7it [00:01,  4.43it/s]\n",
      "7it [00:01,  4.37it/s]\n",
      "7it [00:01,  3.57it/s]\n",
      "7it [00:01,  3.64it/s]\n",
      "7it [00:01,  5.32it/s]\n",
      "7it [00:01,  3.96it/s]\n",
      "7it [00:01,  4.26it/s]\n",
      "7it [00:01,  4.54it/s]\n",
      "7it [00:01,  4.08it/s]\n",
      "7it [00:01,  4.43it/s]\n",
      "7it [00:01,  4.20it/s]\n",
      "7it [00:01,  3.57it/s]\n",
      "7it [00:01,  3.90it/s]\n",
      "7it [00:01,  4.87it/s]\n",
      "7it [00:01,  5.15it/s]\n",
      "7it [00:01,  4.71it/s]\n",
      "7it [00:01,  5.02it/s]\n",
      "7it [00:01,  3.62it/s]\n",
      "7it [00:01,  3.64it/s]\n",
      "7it [00:01,  4.49it/s]\n",
      "7it [00:01,  4.27it/s]\n",
      "7it [00:01,  5.05it/s]\n",
      "7it [00:01,  4.09it/s]\n",
      "7it [00:01,  4.65it/s]\n",
      "7it [00:01,  5.26it/s]\n",
      "7it [00:01,  5.62it/s]\n",
      "7it [00:01,  4.53it/s]\n",
      "7it [00:01,  4.00it/s]\n",
      "7it [00:01,  4.00it/s]\n",
      "7it [00:02,  3.25it/s]\n",
      "7it [00:01,  3.82it/s]\n",
      "7it [00:01,  3.99it/s]\n",
      "7it [00:01,  3.97it/s]\n",
      "7it [00:01,  4.02it/s]\n",
      "7it [00:01,  4.16it/s]\n",
      "7it [00:01,  4.31it/s]\n",
      "7it [00:01,  3.61it/s]\n",
      "7it [00:02,  3.38it/s]\n",
      "7it [00:01,  4.28it/s]\n",
      "7it [00:01,  4.65it/s]\n",
      "7it [00:01,  4.11it/s]\n",
      "7it [00:02,  3.36it/s]\n",
      "7it [00:01,  4.06it/s]\n",
      "7it [00:01,  3.81it/s]\n",
      "7it [00:01,  4.44it/s]\n",
      "7it [00:01,  4.11it/s]\n",
      "7it [00:01,  3.72it/s]\n",
      "7it [00:02,  3.35it/s]\n",
      "7it [00:01,  3.83it/s]\n",
      "7it [00:01,  3.68it/s]\n",
      "7it [00:01,  3.90it/s]\n",
      "7it [00:01,  4.30it/s]\n",
      "7it [00:01,  4.30it/s]\n",
      "7it [00:01,  3.96it/s]\n",
      "7it [00:01,  3.59it/s]\n",
      "7it [00:01,  3.51it/s]\n",
      "7it [00:01,  3.85it/s]\n",
      "7it [00:01,  3.72it/s]\n",
      "7it [00:01,  3.81it/s]\n",
      "7it [00:01,  3.78it/s]\n",
      "7it [00:01,  4.95it/s]\n",
      "7it [00:01,  4.05it/s]\n",
      "7it [00:01,  3.82it/s]\n",
      "7it [00:01,  3.78it/s]\n"
     ]
    },
    {
     "name": "stdout",
     "output_type": "stream",
     "text": [
      "[152.31788123 270.10913698  28.94426333 103.23062865 100.00300448\n",
      "   6.40473541 147.18634677 308.20020688  62.86431864 281.55396727\n",
      " 257.49126436  70.23630258 261.53636507 196.23613413  44.64059567\n",
      " 344.41732706  66.43765406 180.06420548 246.17955907 306.56029384\n",
      "  34.23517364 324.65523005 105.32725175 124.73417687]\n"
     ]
    },
    {
     "name": "stderr",
     "output_type": "stream",
     "text": [
      "7it [00:01,  4.21it/s]"
     ]
    },
    {
     "name": "stdout",
     "output_type": "stream",
     "text": [
      "CPU times: total: 2min 1s\n",
      "Wall time: 2min 54s\n"
     ]
    },
    {
     "name": "stderr",
     "output_type": "stream",
     "text": [
      "\n"
     ]
    }
   ],
   "source": [
    "%%time\n",
    "TI_approximated_eigenvalue = get_approximated_eigenvalue_of_hamiltonian(transverse_ising_3_qubits, \"linear\")"
   ]
  },
  {
   "cell_type": "code",
   "execution_count": 101,
   "id": "400315d0",
   "metadata": {},
   "outputs": [
    {
     "name": "stdout",
     "output_type": "stream",
     "text": [
      "[(-1.1327102067329746+0j), (-1.1089522226243493+0j), (-0.8673630797839832+0j), (-0.8433012058342556+0j), (0.5479228225821259+0j), (0.5543478038595204+0j), (1.4216636087077101+0j), (1.4283924798262082+0j)]\n",
      "Exact Eigenvalue:\n",
      "(-1.1327102067329746+0j)\n",
      "\n",
      "Approximated Eigenvalue:\n",
      "-1.0131369892957531\n",
      "\n",
      "Approximation Error\n",
      "0.10556382093713199\n"
     ]
    },
    {
     "data": {
      "image/png": "[encoded data removed]",
      "text/plain": [
       "<Figure size 432x288 with 1 Axes>"
      ]
     },
     "metadata": {
      "needs_background": "light"
     },
     "output_type": "display_data"
    }
   ],
   "source": [
    "compare_exact_and_approximated_eigenvalue(transverse_ising_3_qubits, TI_approximated_eigenvalue)"
   ]
  },
  {
   "cell_type": "markdown",
   "id": "91d5d284",
   "metadata": {},
   "source": [
    "#### Full Entangelment"
   ]
  },
  {
   "cell_type": "code",
   "execution_count": 102,
   "id": "d43a0eb0",
   "metadata": {},
   "outputs": [
    {
     "name": "stderr",
     "output_type": "stream",
     "text": [
      "7it [00:01,  5.05it/s]\n",
      "7it [00:01,  4.20it/s]\n",
      "7it [00:01,  3.85it/s]\n",
      "7it [00:01,  4.35it/s]\n",
      "7it [00:01,  4.83it/s]\n",
      "7it [00:01,  4.55it/s]\n",
      "7it [00:01,  4.62it/s]\n",
      "7it [00:01,  3.50it/s]\n",
      "7it [00:01,  3.81it/s]\n",
      "7it [00:01,  4.40it/s]\n",
      "7it [00:01,  4.42it/s]\n",
      "7it [00:01,  4.14it/s]\n",
      "7it [00:01,  4.50it/s]\n",
      "7it [00:01,  3.68it/s]\n",
      "7it [00:01,  4.07it/s]\n",
      "7it [00:01,  3.53it/s]\n",
      "7it [00:02,  3.46it/s]\n",
      "7it [00:01,  4.36it/s]\n",
      "7it [00:01,  4.54it/s]\n",
      "7it [00:01,  4.61it/s]\n",
      "7it [00:01,  3.90it/s]\n",
      "7it [00:01,  3.97it/s]\n",
      "7it [00:01,  4.21it/s]\n",
      "7it [00:01,  3.52it/s]\n",
      "7it [00:01,  4.18it/s]\n",
      "7it [00:01,  4.01it/s]\n",
      "7it [00:01,  3.99it/s]\n",
      "7it [00:01,  5.34it/s]\n",
      "7it [00:01,  4.74it/s]\n",
      "7it [00:01,  4.63it/s]\n",
      "7it [00:01,  4.85it/s]\n",
      "7it [00:01,  4.36it/s]\n",
      "7it [00:01,  4.57it/s]\n",
      "7it [00:01,  4.15it/s]\n",
      "7it [00:01,  4.36it/s]\n",
      "7it [00:01,  4.15it/s]\n",
      "7it [00:02,  3.34it/s]\n",
      "7it [00:01,  4.18it/s]\n",
      "7it [00:01,  4.16it/s]\n",
      "7it [00:01,  4.35it/s]\n",
      "7it [00:01,  3.56it/s]\n",
      "7it [00:01,  4.12it/s]\n",
      "7it [00:01,  4.44it/s]\n",
      "7it [00:02,  3.40it/s]\n",
      "7it [00:02,  3.20it/s]\n",
      "7it [00:02,  3.49it/s]\n",
      "7it [00:01,  3.70it/s]\n",
      "7it [00:01,  3.59it/s]\n",
      "7it [00:01,  4.21it/s]\n",
      "7it [00:02,  3.42it/s]\n",
      "7it [00:01,  3.58it/s]\n",
      "7it [00:01,  3.79it/s]\n",
      "7it [00:01,  4.19it/s]\n",
      "7it [00:01,  3.71it/s]\n",
      "7it [00:01,  4.02it/s]\n",
      "7it [00:01,  4.15it/s]\n",
      "7it [00:01,  3.63it/s]\n",
      "7it [00:02,  3.48it/s]\n",
      "7it [00:02,  3.50it/s]\n",
      "7it [00:02,  3.49it/s]\n",
      "7it [00:01,  4.48it/s]\n",
      "7it [00:01,  4.01it/s]\n",
      "7it [00:01,  3.85it/s]\n",
      "7it [00:01,  4.44it/s]\n",
      "7it [00:01,  4.08it/s]\n",
      "7it [00:02,  3.31it/s]\n",
      "7it [00:02,  3.08it/s]\n",
      "7it [00:02,  3.30it/s]\n",
      "7it [00:01,  3.63it/s]\n",
      "7it [00:01,  4.02it/s]\n",
      "7it [00:02,  3.41it/s]\n",
      "7it [00:01,  3.63it/s]\n",
      "7it [00:01,  3.60it/s]\n",
      "7it [00:01,  4.73it/s]\n",
      "7it [00:01,  5.34it/s]\n",
      "7it [00:01,  4.88it/s]\n",
      "7it [00:01,  4.73it/s]\n",
      "7it [00:01,  3.66it/s]\n",
      "7it [00:01,  3.54it/s]\n",
      "7it [00:01,  3.99it/s]\n",
      "7it [00:01,  3.57it/s]\n",
      "7it [00:01,  4.26it/s]\n",
      "7it [00:02,  3.47it/s]\n",
      "7it [00:01,  3.66it/s]\n",
      "7it [00:01,  3.98it/s]\n",
      "7it [00:01,  3.78it/s]\n",
      "7it [00:01,  3.85it/s]\n",
      "7it [00:01,  4.37it/s]\n",
      "7it [00:01,  4.23it/s]\n",
      "7it [00:01,  3.61it/s]\n",
      "7it [00:01,  3.89it/s]\n",
      "7it [00:01,  3.79it/s]\n",
      "7it [00:01,  4.33it/s]\n",
      "7it [00:01,  3.81it/s]\n",
      "7it [00:01,  4.17it/s]\n",
      "7it [00:01,  3.51it/s]\n",
      "7it [00:01,  4.35it/s]\n",
      "7it [00:01,  3.72it/s]\n",
      "7it [00:01,  3.60it/s]\n",
      "7it [00:02,  3.26it/s]\n"
     ]
    },
    {
     "name": "stdout",
     "output_type": "stream",
     "text": [
      "[321.95946085 320.16131331  60.91279856 180.47996054  75.73754682\n",
      " 218.77225454 211.60678428  77.8282774  128.019252   181.55036132\n",
      " 350.09341272 346.91398379 350.00084788 122.72139083 271.03173415\n",
      " 153.68185985 197.20578839 270.03722872 138.62320669 208.92852842\n",
      "  36.29927022  17.5314816   29.01122419 198.66478173]\n"
     ]
    },
    {
     "name": "stderr",
     "output_type": "stream",
     "text": [
      "7it [00:02,  3.39it/s]"
     ]
    },
    {
     "name": "stdout",
     "output_type": "stream",
     "text": [
      "CPU times: total: 2min\n",
      "Wall time: 3min\n"
     ]
    },
    {
     "name": "stderr",
     "output_type": "stream",
     "text": [
      "\n"
     ]
    }
   ],
   "source": [
    "%%time\n",
    "TI_approximated_eigenvalue = get_approximated_eigenvalue_of_hamiltonian(transverse_ising_3_qubits, \"full\")"
   ]
  },
  {
   "cell_type": "code",
   "execution_count": 103,
   "id": "39bdc045",
   "metadata": {},
   "outputs": [
    {
     "name": "stdout",
     "output_type": "stream",
     "text": [
      "[(-1.1327102067329746+0j), (-1.1089522226243493+0j), (-0.8673630797839832+0j), (-0.8433012058342556+0j), (0.5479228225821259+0j), (0.5543478038595204+0j), (1.4216636087077101+0j), (1.4283924798262082+0j)]\n",
      "Exact Eigenvalue:\n",
      "(-1.1327102067329746+0j)\n",
      "\n",
      "Approximated Eigenvalue:\n",
      "-0.9818345903717259\n",
      "\n",
      "Approximation Error\n",
      "0.13319877887956222\n"
     ]
    },
    {
     "data": {
      "image/png": "[encoded data removed]",
      "text/plain": [
       "<Figure size 432x288 with 1 Axes>"
      ]
     },
     "metadata": {
      "needs_background": "light"
     },
     "output_type": "display_data"
    }
   ],
   "source": [
    "compare_exact_and_approximated_eigenvalue(transverse_ising_3_qubits, TI_approximated_eigenvalue)"
   ]
  },
  {
   "cell_type": "markdown",
   "id": "09be5f46",
   "metadata": {},
   "source": [
    "##  Transverse Ising Model 2 qubits"
   ]
  },
  {
   "cell_type": "code",
   "execution_count": 104,
   "id": "d8a0c4e6",
   "metadata": {},
   "outputs": [],
   "source": [
    "QUBITS_NUM = 2 \n",
    "N = 2**QUBITS_NUM\n",
    "\n",
    "NUM_SHOTS = 1024\n",
    "NUM_ITERATIONS = 100\n",
    "\n",
    "CIRCUIT_DEPTH = 3\n",
    "PARAMS_NUM = 2*QUBITS_NUM*(CIRCUIT_DEPTH+1)"
   ]
  },
  {
   "cell_type": "code",
   "execution_count": 105,
   "id": "58136107",
   "metadata": {},
   "outputs": [],
   "source": [
    "transverse_ising_2_qubits = 0.13755727363376802 * (I^X) \\\n",
    "                            + 0.43305656297810435 * (X^I) \\\n",
    "                            + 0.8538597608997253 * (Z^Z)"
   ]
  },
  {
   "cell_type": "markdown",
   "id": "6428a32d",
   "metadata": {},
   "source": [
    "#### Linear Entangelment"
   ]
  },
  {
   "cell_type": "code",
   "execution_count": 106,
   "id": "d9154eaa",
   "metadata": {},
   "outputs": [
    {
     "name": "stderr",
     "output_type": "stream",
     "text": [
      "3it [00:00,  6.51it/s]\n",
      "3it [00:00,  6.92it/s]\n",
      "3it [00:00,  6.56it/s]\n",
      "3it [00:00,  4.99it/s]\n",
      "3it [00:00,  7.47it/s]\n",
      "3it [00:00,  6.20it/s]\n",
      "3it [00:00,  6.87it/s]\n",
      "3it [00:00,  7.48it/s]\n",
      "3it [00:00,  7.74it/s]\n",
      "3it [00:00,  5.70it/s]\n",
      "3it [00:00,  5.97it/s]\n",
      "3it [00:00,  5.88it/s]\n",
      "3it [00:00,  4.91it/s]\n",
      "3it [00:00,  4.70it/s]\n",
      "3it [00:00,  4.37it/s]\n",
      "3it [00:00,  4.52it/s]\n",
      "3it [00:00,  4.46it/s]\n",
      "3it [00:00,  6.64it/s]\n",
      "3it [00:00,  8.10it/s]\n",
      "3it [00:00,  6.44it/s]\n",
      "3it [00:00,  6.76it/s]\n",
      "3it [00:00,  5.27it/s]\n",
      "3it [00:00,  5.81it/s]\n",
      "3it [00:00,  5.67it/s]\n",
      "3it [00:00,  5.71it/s]\n",
      "3it [00:00,  5.15it/s]\n",
      "3it [00:00,  4.36it/s]\n",
      "3it [00:00,  5.39it/s]\n",
      "3it [00:00,  5.00it/s]\n",
      "3it [00:00,  7.17it/s]\n",
      "3it [00:00,  6.40it/s]\n",
      "3it [00:00,  5.62it/s]\n",
      "3it [00:00,  6.86it/s]\n",
      "3it [00:00,  7.70it/s]\n",
      "3it [00:00,  6.18it/s]\n",
      "3it [00:00,  6.41it/s]\n",
      "3it [00:00,  5.30it/s]\n",
      "3it [00:00,  7.04it/s]\n",
      "3it [00:00,  6.23it/s]\n",
      "3it [00:00,  6.67it/s]\n",
      "3it [00:00,  6.39it/s]\n",
      "3it [00:00,  5.55it/s]\n",
      "3it [00:00,  5.76it/s]\n",
      "3it [00:00,  5.82it/s]\n",
      "3it [00:00,  5.19it/s]\n",
      "3it [00:00,  5.20it/s]\n",
      "3it [00:00,  6.22it/s]\n",
      "3it [00:00,  5.83it/s]\n",
      "3it [00:00,  7.47it/s]\n",
      "3it [00:00,  7.11it/s]\n",
      "3it [00:00,  5.84it/s]\n",
      "3it [00:00,  5.70it/s]\n",
      "3it [00:00,  5.53it/s]\n",
      "3it [00:00,  5.41it/s]\n",
      "3it [00:00,  5.25it/s]\n",
      "3it [00:00,  6.36it/s]\n",
      "3it [00:00,  5.27it/s]\n",
      "3it [00:00,  5.72it/s]\n",
      "3it [00:00,  5.64it/s]\n",
      "3it [00:00,  5.38it/s]\n",
      "3it [00:00,  4.28it/s]\n",
      "3it [00:00,  5.83it/s]\n",
      "3it [00:00,  6.48it/s]\n",
      "3it [00:00,  6.36it/s]\n",
      "3it [00:00,  5.93it/s]\n",
      "3it [00:00,  6.97it/s]\n",
      "3it [00:00,  7.40it/s]\n",
      "3it [00:00,  5.35it/s]\n",
      "3it [00:00,  6.34it/s]\n",
      "3it [00:00,  6.97it/s]\n",
      "3it [00:00,  5.62it/s]\n",
      "3it [00:00,  4.94it/s]\n",
      "3it [00:00,  6.44it/s]\n",
      "3it [00:00,  5.96it/s]\n",
      "3it [00:00,  5.78it/s]\n",
      "3it [00:00,  5.98it/s]\n",
      "3it [00:00,  7.61it/s]\n",
      "3it [00:00,  5.82it/s]\n",
      "3it [00:00,  6.61it/s]\n",
      "3it [00:00,  6.75it/s]\n",
      "3it [00:00,  8.05it/s]\n",
      "3it [00:00,  5.40it/s]\n",
      "3it [00:00,  6.78it/s]\n",
      "3it [00:00,  5.91it/s]\n",
      "3it [00:00,  5.51it/s]\n",
      "3it [00:00,  4.66it/s]\n",
      "3it [00:00,  6.60it/s]\n",
      "3it [00:00,  6.49it/s]\n",
      "3it [00:00,  5.89it/s]\n",
      "3it [00:00,  4.81it/s]\n",
      "3it [00:00,  5.06it/s]\n",
      "3it [00:00,  5.17it/s]\n",
      "3it [00:00,  7.37it/s]\n",
      "3it [00:00,  5.84it/s]\n",
      "3it [00:00,  5.77it/s]\n",
      "3it [00:00,  4.75it/s]\n",
      "3it [00:00,  4.73it/s]\n",
      "3it [00:00,  5.81it/s]\n",
      "3it [00:00,  4.58it/s]\n",
      "3it [00:00,  7.14it/s]\n"
     ]
    },
    {
     "name": "stdout",
     "output_type": "stream",
     "text": [
      "[147.16197028 175.88789146 110.95177482 142.27540984  38.10611539\n",
      " 128.76010712 186.49439961 155.67231577 201.49189891  59.5883305\n",
      "  87.83698493 227.35638118 260.23041264 194.63622232  22.70728368\n",
      " 283.95559323]\n"
     ]
    },
    {
     "name": "stderr",
     "output_type": "stream",
     "text": [
      "3it [00:00,  6.49it/s]"
     ]
    },
    {
     "name": "stdout",
     "output_type": "stream",
     "text": [
      "CPU times: total: 36.3 s\n",
      "Wall time: 53.1 s\n"
     ]
    },
    {
     "name": "stderr",
     "output_type": "stream",
     "text": [
      "\n"
     ]
    }
   ],
   "source": [
    "%%time\n",
    "TI_approximated_eigenvalue = get_approximated_eigenvalue_of_hamiltonian(transverse_ising_2_qubits, \"linear\")"
   ]
  },
  {
   "cell_type": "code",
   "execution_count": 107,
   "id": "88b56e14",
   "metadata": {},
   "outputs": [
    {
     "name": "stdout",
     "output_type": "stream",
     "text": [
      "[(-1.0269745088446245+0j), (-0.9035465241407018+0j), (0.9035465241407012+0j), (1.0269745088446243+0j)]\n",
      "Exact Eigenvalue:\n",
      "(-1.0269745088446245+0j)\n",
      "\n",
      "Approximated Eigenvalue:\n",
      "-1.1349884897293359\n",
      "\n",
      "Approximation Error\n",
      "0.10517688604192345\n"
     ]
    },
    {
     "data": {
      "image/png": "[encoded data removed]",
      "text/plain": [
       "<Figure size 432x288 with 1 Axes>"
      ]
     },
     "metadata": {
      "needs_background": "light"
     },
     "output_type": "display_data"
    }
   ],
   "source": [
    "compare_exact_and_approximated_eigenvalue(transverse_ising_2_qubits, TI_approximated_eigenvalue)"
   ]
  },
  {
   "cell_type": "markdown",
   "id": "49bb4028",
   "metadata": {},
   "source": [
    "#### Full Entangelment"
   ]
  },
  {
   "cell_type": "code",
   "execution_count": 108,
   "id": "c06487da",
   "metadata": {},
   "outputs": [
    {
     "name": "stderr",
     "output_type": "stream",
     "text": [
      "3it [00:00,  5.72it/s]\n",
      "3it [00:00,  7.55it/s]\n",
      "3it [00:00,  5.35it/s]\n",
      "3it [00:00,  5.14it/s]\n",
      "3it [00:00,  7.14it/s]\n",
      "3it [00:00,  6.21it/s]\n",
      "3it [00:00,  3.91it/s]\n",
      "3it [00:00,  6.23it/s]\n",
      "3it [00:00,  4.54it/s]\n",
      "3it [00:00,  4.98it/s]\n",
      "3it [00:00,  5.73it/s]\n",
      "3it [00:00,  4.57it/s]\n",
      "3it [00:00,  5.34it/s]\n",
      "3it [00:00,  7.05it/s]\n",
      "3it [00:00,  6.66it/s]\n",
      "3it [00:00,  5.42it/s]\n",
      "3it [00:00,  6.31it/s]\n",
      "3it [00:00,  5.85it/s]\n",
      "3it [00:00,  6.40it/s]\n",
      "3it [00:00,  5.20it/s]\n",
      "3it [00:00,  5.98it/s]\n",
      "3it [00:00,  6.21it/s]\n",
      "3it [00:00,  5.77it/s]\n",
      "3it [00:00,  5.10it/s]\n",
      "3it [00:00,  6.53it/s]\n",
      "3it [00:00,  5.65it/s]\n",
      "3it [00:00,  6.74it/s]\n",
      "3it [00:00,  6.23it/s]\n",
      "3it [00:00,  5.72it/s]\n",
      "3it [00:00,  4.57it/s]\n",
      "3it [00:00,  4.27it/s]\n",
      "3it [00:00,  4.48it/s]\n",
      "3it [00:00,  3.71it/s]\n",
      "3it [00:00,  5.20it/s]\n",
      "3it [00:00,  5.17it/s]\n",
      "3it [00:00,  4.81it/s]\n",
      "3it [00:00,  4.91it/s]\n",
      "3it [00:00,  7.32it/s]\n",
      "3it [00:00,  5.75it/s]\n",
      "3it [00:00,  4.91it/s]\n",
      "3it [00:00,  4.33it/s]\n",
      "3it [00:00,  5.14it/s]\n",
      "3it [00:00,  5.35it/s]\n",
      "3it [00:00,  5.85it/s]\n",
      "3it [00:00,  5.35it/s]\n",
      "3it [00:00,  5.58it/s]\n",
      "3it [00:00,  4.86it/s]\n",
      "3it [00:00,  4.96it/s]\n",
      "3it [00:00,  5.31it/s]\n",
      "3it [00:00,  4.67it/s]\n",
      "3it [00:00,  6.33it/s]\n",
      "3it [00:00,  5.34it/s]\n",
      "3it [00:00,  6.31it/s]\n",
      "3it [00:00,  5.56it/s]\n",
      "3it [00:00,  7.17it/s]\n",
      "3it [00:00,  6.75it/s]\n",
      "3it [00:00,  5.69it/s]\n",
      "3it [00:00,  5.36it/s]\n",
      "3it [00:00,  5.59it/s]\n",
      "3it [00:00,  5.96it/s]\n",
      "3it [00:00,  4.65it/s]\n",
      "3it [00:00,  4.92it/s]\n",
      "3it [00:00,  4.80it/s]\n",
      "3it [00:00,  4.38it/s]\n",
      "3it [00:00,  4.59it/s]\n",
      "3it [00:00,  6.31it/s]\n",
      "3it [00:00,  5.08it/s]\n",
      "3it [00:00,  5.94it/s]\n",
      "3it [00:00,  6.37it/s]\n",
      "3it [00:00,  4.43it/s]\n",
      "3it [00:00,  5.71it/s]\n",
      "3it [00:00,  6.67it/s]\n",
      "3it [00:00,  5.89it/s]\n",
      "3it [00:00,  6.78it/s]\n",
      "3it [00:00,  5.11it/s]\n",
      "3it [00:00,  5.17it/s]\n",
      "3it [00:00,  6.40it/s]\n",
      "3it [00:00,  6.25it/s]\n",
      "3it [00:00,  6.06it/s]\n",
      "3it [00:00,  6.36it/s]\n",
      "3it [00:00,  5.56it/s]\n",
      "3it [00:00,  5.63it/s]\n",
      "3it [00:00,  5.89it/s]\n",
      "3it [00:00,  6.31it/s]\n",
      "3it [00:00,  5.30it/s]\n",
      "3it [00:00,  7.07it/s]\n",
      "3it [00:00,  6.43it/s]\n",
      "3it [00:00,  7.29it/s]\n",
      "3it [00:00,  7.68it/s]\n",
      "3it [00:00,  7.19it/s]\n",
      "3it [00:00,  8.70it/s]\n",
      "3it [00:00,  5.42it/s]\n",
      "3it [00:00,  7.35it/s]\n",
      "3it [00:00,  5.80it/s]\n",
      "3it [00:00,  7.09it/s]\n",
      "3it [00:00,  7.01it/s]\n",
      "3it [00:00,  6.94it/s]\n",
      "3it [00:00,  6.75it/s]\n",
      "3it [00:00,  7.02it/s]\n",
      "3it [00:00,  7.50it/s]\n"
     ]
    },
    {
     "name": "stdout",
     "output_type": "stream",
     "text": [
      "[196.57236194 260.34164431 216.67104216 176.01503215 239.49328343\n",
      "  93.37805838 286.60317176  85.58686388 134.71077797 336.66297924\n",
      " 306.84340101 168.28652062 208.96849519  22.77206035 257.70585072\n",
      " 192.69495539]\n"
     ]
    },
    {
     "name": "stderr",
     "output_type": "stream",
     "text": [
      "3it [00:00,  6.23it/s]"
     ]
    },
    {
     "name": "stdout",
     "output_type": "stream",
     "text": [
      "CPU times: total: 36.8 s\n",
      "Wall time: 55.3 s\n"
     ]
    },
    {
     "name": "stderr",
     "output_type": "stream",
     "text": [
      "\n"
     ]
    }
   ],
   "source": [
    "%%time\n",
    "TI_approximated_eigenvalue = get_approximated_eigenvalue_of_hamiltonian(transverse_ising_2_qubits, \"full\")"
   ]
  },
  {
   "cell_type": "code",
   "execution_count": 109,
   "id": "65ad38bc",
   "metadata": {},
   "outputs": [
    {
     "name": "stdout",
     "output_type": "stream",
     "text": [
      "[(-1.0269745088446245+0j), (-0.9035465241407018+0j), (0.9035465241407012+0j), (1.0269745088446243+0j)]\n",
      "Exact Eigenvalue:\n",
      "(-1.0269745088446245+0j)\n",
      "\n",
      "Approximated Eigenvalue:\n",
      "-1.1284190703420145\n",
      "\n",
      "Approximation Error\n",
      "0.09878001900117075\n"
     ]
    },
    {
     "data": {
      "image/png": "[encoded data removed]",
      "text/plain": [
       "<Figure size 432x288 with 1 Axes>"
      ]
     },
     "metadata": {
      "needs_background": "light"
     },
     "output_type": "display_data"
    }
   ],
   "source": [
    "compare_exact_and_approximated_eigenvalue(transverse_ising_2_qubits, TI_approximated_eigenvalue)"
   ]
  },
  {
   "cell_type": "markdown",
   "id": "e9cf7ccb",
   "metadata": {},
   "source": [
    "## H2 Molecule 2 qubits"
   ]
  },
  {
   "cell_type": "code",
   "execution_count": 110,
   "id": "2909cd68",
   "metadata": {},
   "outputs": [],
   "source": [
    "from qiskit.opflow import X, Z, I\n",
    "\n",
    "H2_molecule_Hamiltonian_2_qubits = -0.5053051899926562*(I^I) + \\\n",
    "                            -0.3277380754984016*(Z^I) + \\\n",
    "                            0.15567463610622564*(Z^Z) + \\\n",
    "                            -0.3277380754984016*(I^Z)"
   ]
  },
  {
   "cell_type": "markdown",
   "id": "a3af5292",
   "metadata": {},
   "source": [
    "#### Linear Entangelment"
   ]
  },
  {
   "cell_type": "code",
   "execution_count": 111,
   "id": "6fe25ff3",
   "metadata": {},
   "outputs": [
    {
     "name": "stderr",
     "output_type": "stream",
     "text": [
      "4it [00:00,  5.05it/s]\n",
      "4it [00:00,  6.10it/s]\n",
      "4it [00:00,  5.89it/s]\n",
      "4it [00:00,  6.54it/s]\n",
      "4it [00:00,  5.67it/s]\n",
      "4it [00:00,  5.48it/s]\n",
      "4it [00:00,  7.53it/s]\n",
      "4it [00:00,  7.01it/s]\n",
      "4it [00:00,  7.89it/s]\n",
      "4it [00:00,  8.12it/s]\n",
      "4it [00:00,  7.73it/s]\n",
      "4it [00:00,  7.62it/s]\n",
      "4it [00:00,  6.07it/s]\n",
      "4it [00:00,  6.81it/s]\n",
      "4it [00:00,  6.57it/s]\n",
      "4it [00:00,  7.46it/s]\n",
      "4it [00:00,  5.24it/s]\n",
      "4it [00:00,  5.09it/s]\n",
      "4it [00:00,  5.23it/s]\n",
      "4it [00:00,  6.95it/s]\n",
      "4it [00:00,  8.21it/s]\n",
      "4it [00:00,  6.13it/s]\n",
      "4it [00:00,  5.38it/s]\n",
      "4it [00:00,  4.31it/s]\n",
      "4it [00:00,  5.35it/s]\n",
      "4it [00:00,  5.55it/s]\n",
      "4it [00:00,  4.14it/s]\n",
      "4it [00:00,  6.24it/s]\n",
      "4it [00:00,  5.50it/s]\n",
      "4it [00:00,  5.94it/s]\n",
      "4it [00:00,  8.11it/s]\n",
      "4it [00:00,  8.58it/s]\n",
      "4it [00:00,  7.11it/s]\n",
      "4it [00:00,  6.40it/s]\n",
      "4it [00:00,  5.62it/s]\n",
      "4it [00:00,  5.74it/s]\n",
      "4it [00:00,  5.47it/s]\n",
      "4it [00:00,  5.96it/s]\n",
      "4it [00:00,  6.43it/s]\n",
      "4it [00:00,  6.43it/s]\n",
      "4it [00:00,  5.87it/s]\n",
      "4it [00:00,  4.90it/s]\n",
      "4it [00:00,  4.80it/s]\n",
      "4it [00:00,  6.13it/s]\n",
      "4it [00:00,  6.02it/s]\n",
      "4it [00:00,  6.53it/s]\n",
      "4it [00:00,  5.46it/s]\n",
      "4it [00:00,  5.50it/s]\n",
      "4it [00:00,  4.95it/s]\n",
      "4it [00:00,  4.32it/s]\n",
      "4it [00:00,  5.22it/s]\n",
      "4it [00:00,  4.62it/s]\n",
      "4it [00:00,  5.24it/s]\n",
      "4it [00:00,  5.97it/s]\n",
      "4it [00:00,  6.16it/s]\n",
      "4it [00:00,  5.69it/s]\n",
      "4it [00:00,  5.35it/s]\n",
      "4it [00:00,  7.39it/s]\n",
      "4it [00:00,  6.41it/s]\n",
      "4it [00:00,  6.99it/s]\n",
      "4it [00:00,  7.97it/s]\n",
      "4it [00:00,  5.89it/s]\n",
      "4it [00:00,  5.99it/s]\n",
      "4it [00:00,  6.82it/s]\n",
      "4it [00:00,  6.23it/s]\n",
      "4it [00:00,  5.89it/s]\n",
      "4it [00:00,  7.61it/s]\n",
      "4it [00:00,  7.78it/s]\n",
      "4it [00:00,  7.34it/s]\n",
      "4it [00:00,  6.84it/s]\n",
      "4it [00:00,  6.54it/s]\n",
      "4it [00:00,  5.36it/s]\n",
      "4it [00:00,  5.64it/s]\n",
      "4it [00:00,  5.60it/s]\n",
      "4it [00:00,  5.42it/s]\n",
      "4it [00:00,  5.55it/s]\n",
      "4it [00:00,  4.31it/s]\n",
      "4it [00:00,  4.50it/s]\n",
      "4it [00:00,  4.89it/s]\n",
      "4it [00:00,  4.86it/s]\n",
      "4it [00:00,  5.45it/s]\n",
      "4it [00:00,  5.89it/s]\n",
      "4it [00:00,  5.62it/s]\n",
      "4it [00:00,  5.45it/s]\n",
      "4it [00:00,  5.22it/s]\n",
      "4it [00:00,  4.37it/s]\n",
      "4it [00:00,  4.65it/s]\n",
      "4it [00:00,  5.63it/s]\n",
      "4it [00:00,  6.29it/s]\n",
      "4it [00:00,  5.41it/s]\n",
      "4it [00:00,  6.08it/s]\n",
      "4it [00:00,  4.94it/s]\n",
      "4it [00:00,  5.17it/s]\n",
      "4it [00:00,  5.53it/s]\n",
      "4it [00:00,  5.31it/s]\n",
      "4it [00:00,  5.60it/s]\n",
      "4it [00:00,  5.95it/s]\n",
      "4it [00:00,  6.56it/s]\n",
      "4it [00:00,  5.97it/s]\n",
      "4it [00:00,  6.15it/s]\n"
     ]
    },
    {
     "name": "stdout",
     "output_type": "stream",
     "text": [
      "[247.86461803 311.4654379  113.9902817  186.49171987 307.88850611\n",
      " 297.02165696 206.34903705  41.44717915   6.36689909  70.28213504\n",
      " 340.4312494  334.37025404 323.79495601  59.55817094 140.15442092\n",
      "  51.69546235]\n"
     ]
    },
    {
     "name": "stderr",
     "output_type": "stream",
     "text": [
      "4it [00:00,  4.54it/s]"
     ]
    },
    {
     "name": "stdout",
     "output_type": "stream",
     "text": [
      "CPU times: total: 48.9 s\n",
      "Wall time: 1min 11s\n"
     ]
    },
    {
     "name": "stderr",
     "output_type": "stream",
     "text": [
      "\n"
     ]
    }
   ],
   "source": [
    "%%time\n",
    "H2_approximated_eigenvalue = get_approximated_eigenvalue_of_hamiltonian(H2_molecule_Hamiltonian_2_qubits, \"linear\")"
   ]
  },
  {
   "cell_type": "code",
   "execution_count": 112,
   "id": "692be58b",
   "metadata": {},
   "outputs": [
    {
     "name": "stdout",
     "output_type": "stream",
     "text": [
      "[(-1.0051067048832336+0j), (-0.6609798260988818+0j), (-0.6609798260988818+0j), (0.30584559711037274+0j)]\n",
      "Exact Eigenvalue:\n",
      "(-1.0051067048832336+0j)\n",
      "\n",
      "Approximated Eigenvalue:\n",
      "-1.0040665112866276\n",
      "\n",
      "Approximation Error\n",
      "0.001034908623683743\n"
     ]
    },
    {
     "data": {
      "image/png": "[encoded data removed]",
      "text/plain": [
       "<Figure size 432x288 with 1 Axes>"
      ]
     },
     "metadata": {
      "needs_background": "light"
     },
     "output_type": "display_data"
    }
   ],
   "source": [
    "compare_exact_and_approximated_eigenvalue(H2_molecule_Hamiltonian_2_qubits, H2_approximated_eigenvalue)"
   ]
  },
  {
   "cell_type": "markdown",
   "id": "46aa3a97",
   "metadata": {},
   "source": [
    "#### Full Entangelment"
   ]
  },
  {
   "cell_type": "code",
   "execution_count": 113,
   "id": "c027435b",
   "metadata": {},
   "outputs": [
    {
     "name": "stderr",
     "output_type": "stream",
     "text": [
      "4it [00:00,  5.87it/s]\n",
      "4it [00:00,  6.70it/s]\n",
      "4it [00:00,  6.87it/s]\n",
      "4it [00:00,  6.21it/s]\n",
      "4it [00:00,  5.22it/s]\n",
      "4it [00:00,  4.93it/s]\n",
      "4it [00:00,  5.70it/s]\n",
      "4it [00:00,  5.58it/s]\n",
      "4it [00:00,  5.84it/s]\n",
      "4it [00:00,  5.45it/s]\n",
      "4it [00:00,  5.23it/s]\n",
      "4it [00:00,  4.58it/s]\n",
      "4it [00:00,  5.51it/s]\n",
      "4it [00:00,  4.94it/s]\n",
      "4it [00:01,  3.90it/s]\n",
      "4it [00:00,  5.44it/s]\n",
      "4it [00:00,  6.94it/s]\n",
      "4it [00:00,  4.50it/s]\n",
      "4it [00:00,  4.16it/s]\n",
      "4it [00:00,  5.10it/s]\n",
      "4it [00:00,  4.59it/s]\n",
      "4it [00:00,  4.47it/s]\n",
      "4it [00:00,  4.91it/s]\n",
      "4it [00:00,  5.19it/s]\n",
      "4it [00:00,  5.03it/s]\n",
      "4it [00:00,  5.35it/s]\n",
      "4it [00:00,  5.93it/s]\n",
      "4it [00:00,  6.40it/s]\n",
      "4it [00:00,  5.18it/s]\n",
      "4it [00:00,  5.76it/s]\n",
      "4it [00:00,  5.60it/s]\n",
      "4it [00:00,  5.71it/s]\n",
      "4it [00:00,  4.86it/s]\n",
      "4it [00:00,  5.24it/s]\n",
      "4it [00:00,  6.02it/s]\n",
      "4it [00:00,  6.60it/s]\n",
      "4it [00:00,  7.95it/s]\n",
      "4it [00:00,  7.48it/s]\n",
      "4it [00:00,  6.69it/s]\n",
      "4it [00:00,  5.18it/s]\n",
      "4it [00:00,  6.13it/s]\n",
      "4it [00:00,  7.38it/s]\n",
      "4it [00:00,  7.75it/s]\n",
      "4it [00:00,  6.35it/s]\n",
      "4it [00:00,  7.29it/s]\n",
      "4it [00:00,  6.16it/s]\n",
      "4it [00:00,  5.02it/s]\n",
      "4it [00:00,  5.58it/s]\n",
      "4it [00:00,  5.58it/s]\n",
      "4it [00:00,  7.32it/s]\n",
      "4it [00:00,  5.28it/s]\n",
      "4it [00:00,  4.71it/s]\n",
      "4it [00:00,  6.60it/s]\n",
      "4it [00:00,  4.34it/s]\n",
      "4it [00:00,  5.54it/s]\n",
      "4it [00:00,  5.98it/s]\n",
      "4it [00:00,  7.02it/s]\n",
      "4it [00:00,  7.15it/s]\n",
      "4it [00:00,  5.90it/s]\n",
      "4it [00:00,  7.00it/s]\n",
      "4it [00:00,  5.04it/s]\n",
      "4it [00:00,  5.46it/s]\n",
      "4it [00:00,  5.82it/s]\n",
      "4it [00:00,  7.77it/s]\n",
      "4it [00:00,  5.37it/s]\n",
      "4it [00:00,  5.93it/s]\n",
      "4it [00:00,  6.63it/s]\n",
      "4it [00:00,  5.31it/s]\n",
      "4it [00:00,  6.00it/s]\n",
      "4it [00:00,  6.54it/s]\n",
      "4it [00:00,  5.20it/s]\n",
      "4it [00:00,  5.70it/s]\n",
      "4it [00:00,  4.37it/s]\n",
      "4it [00:00,  4.61it/s]\n",
      "4it [00:00,  4.37it/s]\n",
      "4it [00:00,  4.95it/s]\n",
      "4it [00:00,  5.58it/s]\n",
      "4it [00:00,  6.15it/s]\n",
      "4it [00:00,  5.32it/s]\n",
      "4it [00:00,  4.78it/s]\n",
      "4it [00:00,  4.63it/s]\n",
      "4it [00:00,  6.10it/s]\n",
      "4it [00:00,  5.20it/s]\n",
      "4it [00:00,  4.64it/s]\n",
      "4it [00:00,  5.24it/s]\n",
      "4it [00:00,  5.09it/s]\n",
      "4it [00:00,  6.75it/s]\n",
      "4it [00:00,  5.78it/s]\n",
      "4it [00:00,  6.09it/s]\n",
      "4it [00:00,  6.47it/s]\n",
      "4it [00:00,  6.66it/s]\n",
      "4it [00:00,  7.08it/s]\n",
      "4it [00:00,  5.90it/s]\n",
      "4it [00:00,  5.86it/s]\n",
      "4it [00:00,  4.89it/s]\n",
      "4it [00:00,  4.89it/s]\n",
      "4it [00:00,  4.66it/s]\n",
      "4it [00:00,  4.59it/s]\n",
      "4it [00:00,  4.63it/s]\n",
      "4it [00:00,  5.32it/s]\n"
     ]
    },
    {
     "name": "stdout",
     "output_type": "stream",
     "text": [
      "[212.05360693 316.82406922   5.30668566 137.87583911   9.11077431\n",
      " 227.12677925 109.44472648 135.99143096  94.21838397 168.32145312\n",
      " 297.12689761 152.91720141 246.3221586  231.16650813 343.0305528\n",
      " 344.3877477 ]\n"
     ]
    },
    {
     "name": "stderr",
     "output_type": "stream",
     "text": [
      "4it [00:00,  5.64it/s]"
     ]
    },
    {
     "name": "stdout",
     "output_type": "stream",
     "text": [
      "CPU times: total: 48.5 s\n",
      "Wall time: 1min 14s\n"
     ]
    },
    {
     "name": "stderr",
     "output_type": "stream",
     "text": [
      "\n"
     ]
    }
   ],
   "source": [
    "%%time\n",
    "H2_approximated_eigenvalue = get_approximated_eigenvalue_of_hamiltonian(H2_molecule_Hamiltonian_2_qubits, \"full\")"
   ]
  },
  {
   "cell_type": "code",
   "execution_count": 114,
   "id": "d45ad4e5",
   "metadata": {},
   "outputs": [
    {
     "name": "stdout",
     "output_type": "stream",
     "text": [
      "[(-1.0051067048832336+0j), (-0.6609798260988818+0j), (-0.6609798260988818+0j), (0.30584559711037274+0j)]\n",
      "Exact Eigenvalue:\n",
      "(-1.0051067048832336+0j)\n",
      "\n",
      "Approximated Eigenvalue:\n",
      "-0.9454799052702043\n",
      "\n",
      "Approximation Error\n",
      "0.05932385021743172\n"
     ]
    },
    {
     "data": {
      "image/png": "[encoded data removed]",
      "text/plain": [
       "<Figure size 432x288 with 1 Axes>"
      ]
     },
     "metadata": {
      "needs_background": "light"
     },
     "output_type": "display_data"
    }
   ],
   "source": [
    "compare_exact_and_approximated_eigenvalue(H2_molecule_Hamiltonian_2_qubits, H2_approximated_eigenvalue)"
   ]
  }
 ],
 "metadata": {
  "kernelspec": {
   "display_name": "Qiskitenv",
   "language": "python",
   "name": "qiskitenv"
  },
  "language_info": {
   "codemirror_mode": {
    "name": "ipython",
    "version": 3
   },
   "file_extension": ".py",
   "mimetype": "text/x-python",
   "name": "python",
   "nbconvert_exporter": "python",
   "pygments_lexer": "ipython3",
   "version": "3.8.13"
  }
 },
 "nbformat": 4,
 "nbformat_minor": 5
}
