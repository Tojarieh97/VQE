{
 "cells": [
  {
   "cell_type": "code",
   "execution_count": 34,
   "id": "213d256a",
   "metadata": {},
   "outputs": [
    {
     "name": "stdout",
     "output_type": "stream",
     "text": [
      "The autoreload extension is already loaded. To reload it, use:\n",
      "  %reload_ext autoreload\n"
     ]
    }
   ],
   "source": [
    "%load_ext autoreload\n",
    "%autoreload 2"
   ]
  },
  {
   "cell_type": "markdown",
   "id": "c4c77734",
   "metadata": {},
   "source": [
    "### Basic Imports"
   ]
  },
  {
   "cell_type": "code",
   "execution_count": 35,
   "id": "9431f6b7",
   "metadata": {},
   "outputs": [],
   "source": [
    "import nbimporter\n",
    "from typing import Dict, Tuple, List\n",
    "import numpy as np\n",
    "from tqdm import tqdm"
   ]
  },
  {
   "cell_type": "markdown",
   "id": "4ff98362",
   "metadata": {},
   "source": [
    "### Env Vars"
   ]
  },
  {
   "cell_type": "code",
   "execution_count": 36,
   "id": "9c7250c3",
   "metadata": {},
   "outputs": [],
   "source": [
    "QUBITS_NUM = 4 \n",
    "N = 2**QUBITS_NUM\n",
    "\n",
    "NUM_SHOTS = 1024\n",
    "NUM_ITERATIONS = 100\n",
    "\n",
    "CIRCUIT_DEPTH = 3\n",
    "PARAMS_NUM = 2*QUBITS_NUM*(CIRCUIT_DEPTH+1)"
   ]
  },
  {
   "cell_type": "markdown",
   "id": "6dcb0625",
   "metadata": {},
   "source": [
    "### Simulator Backend"
   ]
  },
  {
   "cell_type": "code",
   "execution_count": 37,
   "id": "8e287170",
   "metadata": {},
   "outputs": [],
   "source": [
    "from qiskit import Aer\n",
    "from qiskit.utils import QuantumInstance, algorithm_globals\n",
    "\n",
    "seed = 50\n",
    "algorithm_globals.random_seed = seed\n",
    "\n",
    "simulator_backend = Aer.get_backend('qasm_simulator')"
   ]
  },
  {
   "cell_type": "markdown",
   "id": "5cc189d2",
   "metadata": {},
   "source": [
    "### BFGS Optimizer"
   ]
  },
  {
   "cell_type": "code",
   "execution_count": 38,
   "id": "aea5f838",
   "metadata": {},
   "outputs": [],
   "source": [
    "from scipy.optimize import minimize"
   ]
  },
  {
   "cell_type": "markdown",
   "id": "6681d9cf",
   "metadata": {},
   "source": [
    "### Ansatz State"
   ]
  },
  {
   "cell_type": "code",
   "execution_count": 39,
   "id": "ed679eb5",
   "metadata": {},
   "outputs": [],
   "source": [
    "from linear_entangelment_and_full_entangelment_ansatz_circuits import *"
   ]
  },
  {
   "cell_type": "code",
   "execution_count": 40,
   "id": "9ebdb4f8",
   "metadata": {},
   "outputs": [],
   "source": [
    "def get_ansatz_state(thetas, ansatz_entangelment, input_state):\n",
    "    if ansatz_entangelment==\"full\":\n",
    "        return get_full_entangelment_ansatz(QUBITS_NUM, thetas, input_state)\n",
    "    if ansatz_entangelment==\"linear\":\n",
    "        return get_linear_entangelment_ansatz(QUBITS_NUM, thetas, input_state)"
   ]
  },
  {
   "cell_type": "markdown",
   "id": "21777faa",
   "metadata": {},
   "source": [
    "## Expectation Value"
   ]
  },
  {
   "cell_type": "markdown",
   "id": "d320f1b6",
   "metadata": {},
   "source": [
    "### convert hamiltonian to pauli strings"
   ]
  },
  {
   "cell_type": "code",
   "execution_count": 41,
   "id": "56435355",
   "metadata": {},
   "outputs": [],
   "source": [
    "def transfrom_hamiltonian_into_pauli_strings(hamiltonian) -> List:\n",
    "    pauli_operators = hamiltonian.to_pauli_op().settings['oplist']\n",
    "    pauli_coeffs = list(map(lambda pauli_operator: pauli_operator.coeff, pauli_operators))\n",
    "    pauli_strings = list(map(lambda pauli_operator: pauli_operator.primitive, pauli_operators))\n",
    "    return pauli_coeffs, pauli_strings"
   ]
  },
  {
   "cell_type": "markdown",
   "id": "de5f75c3",
   "metadata": {},
   "source": [
    "### pauli string reduction to sigma_z's"
   ]
  },
  {
   "cell_type": "code",
   "execution_count": 42,
   "id": "347de6bb",
   "metadata": {},
   "outputs": [],
   "source": [
    "from qiskit.circuit.library.standard_gates import HGate, SGate\n",
    "from qiskit import QuantumCircuit, ClassicalRegister, QuantumRegister"
   ]
  },
  {
   "cell_type": "code",
   "execution_count": 43,
   "id": "dbbe79ef",
   "metadata": {},
   "outputs": [],
   "source": [
    "reducing_to_pauli_z_mapping = {\n",
    "    'I': 'I',\n",
    "    'Z': 'Z',\n",
    "    'X': 'Z',\n",
    "    'Y': 'Z'\n",
    "} "
   ]
  },
  {
   "cell_type": "code",
   "execution_count": 44,
   "id": "6f94927f",
   "metadata": {},
   "outputs": [],
   "source": [
    "def reduce_pauli_matrixes_into_sigma_z(pauli_string) -> str:\n",
    "    reduced_pauli_string = \"\"\n",
    "    for matrix_index in range(QUBITS_NUM):\n",
    "        pauli_matrix = str(pauli_string[matrix_index])\n",
    "        reduced_pauli_matrix = reducing_to_pauli_z_mapping[pauli_matrix]\n",
    "        reduced_pauli_string = reduced_pauli_matrix + reduced_pauli_string\n",
    "    \n",
    "    return reduced_pauli_string"
   ]
  },
  {
   "cell_type": "code",
   "execution_count": 45,
   "id": "e6f0562f",
   "metadata": {},
   "outputs": [],
   "source": [
    "def add_layer_of_gates_for_reducing_paulis_to_sigma_z(pauli_string, quantum_circuit):\n",
    "    quantum_registers = QuantumRegister(QUBITS_NUM, name=\"qubit\")\n",
    "    additional_circuit_layer = QuantumCircuit(quantum_registers)\n",
    "    \n",
    "    for quantum_register_index, pauli_matrix in enumerate(pauli_string):\n",
    "        if pauli_matrix == \"X\":\n",
    "            additional_circuit_layer.append(HGate(), [quantum_registers[quantum_register_index]])\n",
    "        if pauli_string == \"Y\":\n",
    "            additional_circuit_layer.append(HGate(), [quantum_registers[quantum_register_index]])\n",
    "            additional_circuit_layer.append(SGate(), [quantum_registers[quantum_register_index]])\n",
    "                \n",
    "    extended_quantum_circuit = quantum_circuit.compose(additional_circuit_layer)\n",
    "    return extended_quantum_circuit"
   ]
  },
  {
   "cell_type": "markdown",
   "id": "ce83fae9",
   "metadata": {},
   "source": [
    "### probabilities distribution"
   ]
  },
  {
   "cell_type": "code",
   "execution_count": 46,
   "id": "84e65e31",
   "metadata": {},
   "outputs": [],
   "source": [
    "def get_probability_distribution(counts: Dict) -> Dict:\n",
    "    proba_distribution = {state: (count / NUM_SHOTS) for state, count in counts.items()}\n",
    "    return proba_distribution\n",
    "\n",
    "def calculate_probabilities_of_measurments_in_computational_basis(quantum_state_circuit) -> Dict:\n",
    "    quantum_state_circuit.measure_all()\n",
    "    \n",
    "    transpiled_quantum_state_circuit = transpile(quantum_state_circuit, simulator_backend) \n",
    "    Qobj = assemble(transpiled_quantum_state_circuit)\n",
    "    result = simulator_backend.run(Qobj).result()\n",
    "    counts = result.get_counts(quantum_state_circuit)\n",
    "    \n",
    "    return get_probability_distribution(counts)"
   ]
  },
  {
   "cell_type": "markdown",
   "id": "b9286e5d",
   "metadata": {},
   "source": [
    "### Expectation value from probabilities"
   ]
  },
  {
   "cell_type": "code",
   "execution_count": 47,
   "id": "38a72356",
   "metadata": {},
   "outputs": [],
   "source": [
    "def sort_probas_dict_by_qubits_string_keys(proba_distribution: Dict) -> Dict:\n",
    "    return dict(sorted(proba_distribution.items()))\n",
    "\n",
    "def reset_power_of_minus_1(power_of_minus_1):\n",
    "    power_of_minus_1 = 0\n",
    "    return power_of_minus_1\n",
    "\n",
    "def convert_pauli_string_into_str(pauli_string) -> str:\n",
    "    return str(pauli_string)\n",
    "\n",
    "def calculate_expectation_value_of_pauli_string_by_measurments_probas(pauli_string, ansatz_circuit):\n",
    "    pauli_string_expectation_value = 0\n",
    "    power_of_minus_1 = 0\n",
    "    \n",
    "    pauli_string_str = convert_pauli_string_into_str(pauli_string)\n",
    "    extended_ansatz_circuit = add_layer_of_gates_for_reducing_paulis_to_sigma_z(pauli_string_str, ansatz_circuit)\n",
    "    probas_distribution = calculate_probabilities_of_measurments_in_computational_basis(extended_ansatz_circuit)\n",
    "    \n",
    "    reduced_pauli_string = reduce_pauli_matrixes_into_sigma_z(pauli_string)\n",
    "    sorted_probas_distribuition = sort_probas_dict_by_qubits_string_keys(probas_distribution)\n",
    "    for qubits_string, proba in sorted_probas_distribuition.items():\n",
    "        for string_index in range(QUBITS_NUM):\n",
    "            if(str(qubits_string[string_index])==\"1\" and str(reduced_pauli_string[string_index])==\"Z\"):\n",
    "                power_of_minus_1 += 1\n",
    "            \n",
    "        pauli_string_expectation_value += pow(-1, power_of_minus_1)*proba\n",
    "        power_of_minus_1 = reset_power_of_minus_1(power_of_minus_1)\n",
    "        \n",
    "    return pauli_string_expectation_value"
   ]
  },
  {
   "cell_type": "code",
   "execution_count": 48,
   "id": "c263be2b",
   "metadata": {},
   "outputs": [],
   "source": [
    "def get_expectation_value(ansatz_circuit, pauli_coeffs, pauli_strings):\n",
    "    total_expection_value = 0\n",
    "    \n",
    "    for pauli_coeff, pauli_string in tqdm(zip(pauli_coeffs, pauli_strings)):\n",
    "        total_expection_value += pauli_coeff*calculate_expectation_value_of_pauli_string_by_measurments_probas(\n",
    "                                                                                    pauli_string, ansatz_circuit)\n",
    "    \n",
    "    return total_expection_value"
   ]
  },
  {
   "cell_type": "markdown",
   "id": "a79fc302",
   "metadata": {},
   "source": [
    "## Objective Function"
   ]
  },
  {
   "cell_type": "code",
   "execution_count": 49,
   "id": "e3f4d330",
   "metadata": {},
   "outputs": [],
   "source": [
    "from qiskit import assemble, transpile\n",
    "\n",
    "def cost_function(thetas, hamiltonian, ansatz_entangelment):\n",
    "    initial_eigenvector = np.identity(N)[0]\n",
    "    \n",
    "    pauli_coeffs, pauli_strings = transfrom_hamiltonian_into_pauli_strings(hamiltonian)\n",
    "    ansatz_state = get_ansatz_state(thetas, ansatz_entangelment, initial_eigenvector)\n",
    "        \n",
    "    L = get_expectation_value(ansatz_state, pauli_coeffs, pauli_strings)\n",
    "    insert_approximated_energy_to_list_of_all_approximated_energies(L)\n",
    "        \n",
    "    return L"
   ]
  },
  {
   "cell_type": "markdown",
   "id": "e8ac20b3",
   "metadata": {},
   "source": [
    "## Optimization"
   ]
  },
  {
   "cell_type": "code",
   "execution_count": 50,
   "id": "9b2663d2",
   "metadata": {},
   "outputs": [],
   "source": [
    "def get_optimal_thetas_of_ansatz_circuit_for_hamiltonian(hamiltonian, ansatz_entangelment):\n",
    "    initial_thetas = np.random.uniform(low=0, high=360, size=PARAMS_NUM)\n",
    "    optimizer_result = minimize(cost_function,\n",
    "                                x0=initial_thetas,\n",
    "                                args=(hamiltonian, ansatz_entangelment),\n",
    "                                method=\"COBYLA\",\n",
    "                                options={\"maxiter\":NUM_ITERATIONS,\n",
    "                                        \"disp\": True})\n",
    "    optimal_thetas = optimizer_result.x\n",
    "    \n",
    "    return optimal_thetas"
   ]
  },
  {
   "cell_type": "code",
   "execution_count": 51,
   "id": "80c13445",
   "metadata": {},
   "outputs": [],
   "source": [
    "def get_approximated_eigenvalue_of_hamiltonian(hamiltonian, ansatz_entangelment):\n",
    "    optimal_thetas = get_optimal_thetas_of_ansatz_circuit_for_hamiltonian(hamiltonian, ansatz_entangelment)\n",
    "    print(optimal_thetas)\n",
    "    initial_eigenvector = np.identity(N)[0]\n",
    "    optimal_ansatz_state = get_ansatz_state(optimal_thetas, ansatz_entangelment, initial_eigenvector)\n",
    "    \n",
    "    pauli_coeffs, pauli_strings = transfrom_hamiltonian_into_pauli_strings(hamiltonian)\n",
    "    approximated_eigenvalue = get_expectation_value(optimal_ansatz_state, pauli_coeffs, pauli_strings)\n",
    "\n",
    "    return approximated_eigenvalue"
   ]
  },
  {
   "cell_type": "markdown",
   "id": "7b410988",
   "metadata": {},
   "source": [
    "## Comparsion"
   ]
  },
  {
   "cell_type": "code",
   "execution_count": 52,
   "id": "6cbe0758",
   "metadata": {},
   "outputs": [],
   "source": [
    "from numpy import linalg as LA\n",
    "\n",
    "def get_approximation_error(exact_eigenvalue, approximated_eigenvalue):\n",
    "    return abs(abs(exact_eigenvalue)-abs(approximated_eigenvalue))/abs(exact_eigenvalue)"
   ]
  },
  {
   "cell_type": "code",
   "execution_count": 53,
   "id": "28b63147",
   "metadata": {},
   "outputs": [],
   "source": [
    "def get_minimum_exact_eigenvalue_of_hamiltonian(hamiltonian):\n",
    "    eigen_values = LA.eigvals(hamiltonian.to_matrix())\n",
    "    print(sorted(eigen_values))\n",
    "    \n",
    "    return min(sorted(eigen_values))"
   ]
  },
  {
   "cell_type": "code",
   "execution_count": 54,
   "id": "529a29d1",
   "metadata": {},
   "outputs": [],
   "source": [
    "def compare_exact_and_approximated_eigenvalue(hamiltonian, approximated_eigenvalue):\n",
    "    exact_eigenvalue = get_minimum_exact_eigenvalue_of_hamiltonian(hamiltonian)\n",
    "    print(\"Exact Eigenvalue:\")\n",
    "    print(exact_eigenvalue)\n",
    "    print(\"\\nApproximated Eigenvalue:\")\n",
    "    print(approximated_eigenvalue)\n",
    "\n",
    "    print(\"\\nApproximation Error\")\n",
    "    print(get_approximation_error(exact_eigenvalue, approximated_eigenvalue))\n",
    "    \n",
    "    plot_convergence_of_optimization_process(approximated_energies, exact_eigenvalue, margin=3)"
   ]
  },
  {
   "cell_type": "markdown",
   "id": "c1452964",
   "metadata": {},
   "source": [
    "## Visualization"
   ]
  },
  {
   "cell_type": "code",
   "execution_count": 55,
   "id": "75c3e505",
   "metadata": {},
   "outputs": [],
   "source": [
    "approximated_energies = []"
   ]
  },
  {
   "cell_type": "code",
   "execution_count": 56,
   "id": "5c4331c6",
   "metadata": {},
   "outputs": [],
   "source": [
    "def insert_approximated_energy_to_list_of_all_approximated_energies(energy):\n",
    "    approximated_energies.append(energy)"
   ]
  },
  {
   "cell_type": "code",
   "execution_count": 57,
   "id": "26026bbb",
   "metadata": {},
   "outputs": [],
   "source": [
    "import matplotlib.pyplot as plt\n",
    "\n",
    "def plot_convergence_of_optimization_process(approximated_energies, exact_eigenvalue, margin):\n",
    "    plt.title(\"convergence of optimization process to the exact eigenvalue\")\n",
    "    plt.margins(0, margin)\n",
    "    plt.plot(approximated_energies[-NUM_ITERATIONS:])\n",
    "    plt.axhline(y = exact_eigenvalue, color = 'r', linestyle = '-')\n",
    "    plt.grid()\n",
    "    plt.xlabel(\"# of iterations\")\n",
    "    plt.ylabel(\"Energy\")\n",
    "    \n",
    "def plot_fidelity():\n",
    "    plt.plot(LiH_approximated_energies)\n",
    "    plt.xlabel(\"# of iterations\")\n",
    "    plt.ylabel(\"Energy\")"
   ]
  },
  {
   "cell_type": "markdown",
   "id": "2b442e22",
   "metadata": {},
   "source": [
    "## LiH Molecule 4 qubits"
   ]
  },
  {
   "cell_type": "code",
   "execution_count": 58,
   "id": "87e93b42",
   "metadata": {},
   "outputs": [],
   "source": [
    "from qiskit.opflow import X, Z, I, H, Y\n",
    "\n",
    "LiH_molecule_4_qubits = -7.49894690201071*(I^I^I^I) + \\\n",
    "                            -0.0029329964409502266*(X^X^Y^Y) + \\\n",
    "                            0.0029329964409502266*(X^Y^Y^X) + \\\n",
    "                            0.01291078027311749*(X^Z^X^I) + \\\n",
    "                            -0.0013743761078958677*(X^Z^X^Z) + \\\n",
    "                            0.011536413200774975*(X^I^X^I) + \\\n",
    "                            0.0029329964409502266*(Y^X^X^Y) + \\\n",
    "                            -0.0029329964409502266*(Y^Y^X^X) + \\\n",
    "                            0.01291078027311749*(Y^Z^Y^I) + \\\n",
    "                            -0.0013743761078958677*(Y^Z^Y^Z) + \\\n",
    "                            0.011536413200774975*(Y^I^Y^I) + \\\n",
    "                            0.16199475388004184*(Z^I^I^I) + \\\n",
    "                            0.011536413200774975*(Z^X^Z^X) + \\\n",
    "                            0.011536413200774975*(Z^Y^Z^Y) + \\\n",
    "                            0.12444770133137588*(Z^Z^I^I) + \\\n",
    "                            0.054130445793298836*(Z^I^Z^I) + \\\n",
    "                            0.05706344223424907*(Z^I^I^Z) + \\\n",
    "                            0.012910780273117487*(I^X^Z^X) + \\\n",
    "                            -0.0013743761078958677*(I^X^I^X) + \\\n",
    "                            0.012910780273117487*(I^Y^Z^Y) + \\\n",
    "                            -0.0013743761078958677*(I^Y^I^Y) + \\\n",
    "                            0.16199475388004186*(I^Z^I^I) + \\\n",
    "                            0.05706344223424907*(I^Z^Z^I) + \\\n",
    "                            0.054130445793298836*(I^Z^I^Z) + \\\n",
    "                            -0.013243698330265966*(I^I^Z^I) + \\\n",
    "                            0.08479609543670981*(I^I^Z^Z) + \\\n",
    "                            -0.013243698330265952*(I^I^I^Z)"
   ]
  },
  {
   "cell_type": "markdown",
   "id": "dbfc22f0",
   "metadata": {},
   "source": [
    "#### Linear Entangelment"
   ]
  },
  {
   "cell_type": "code",
   "execution_count": 59,
   "id": "58cbff1d",
   "metadata": {},
   "outputs": [
    {
     "name": "stderr",
     "output_type": "stream",
     "text": [
      "27it [00:01, 13.57it/s]\n",
      "27it [00:01, 18.82it/s]\n",
      "27it [00:01, 18.63it/s]\n",
      "27it [00:01, 14.22it/s]\n",
      "27it [00:01, 13.71it/s]\n",
      "27it [00:01, 15.41it/s]\n",
      "27it [00:01, 17.88it/s]\n",
      "27it [00:01, 16.52it/s]\n",
      "27it [00:01, 18.34it/s]\n",
      "27it [00:01, 16.73it/s]\n",
      "27it [00:01, 16.65it/s]\n",
      "27it [00:01, 18.46it/s]\n",
      "27it [00:01, 18.04it/s]\n",
      "27it [00:01, 17.47it/s]\n",
      "27it [00:01, 17.04it/s]\n",
      "27it [00:01, 18.17it/s]\n",
      "27it [00:01, 18.25it/s]\n",
      "27it [00:01, 17.47it/s]\n",
      "27it [00:01, 17.80it/s]\n",
      "27it [00:01, 18.38it/s]\n",
      "27it [00:01, 18.12it/s]\n",
      "27it [00:01, 18.84it/s]\n",
      "27it [00:01, 18.20it/s]\n",
      "27it [00:01, 18.06it/s]\n",
      "27it [00:01, 15.21it/s]\n",
      "27it [00:01, 18.35it/s]\n",
      "27it [00:01, 15.39it/s]\n",
      "27it [00:01, 15.94it/s]\n",
      "27it [00:01, 15.76it/s]\n",
      "27it [00:02, 11.26it/s]\n",
      "27it [00:02, 10.91it/s]\n",
      "27it [00:02, 10.21it/s]\n",
      "27it [00:02, 12.05it/s]\n",
      "27it [00:02, 12.57it/s]\n",
      "27it [00:02, 13.09it/s]\n",
      "27it [00:02, 12.12it/s]\n",
      "27it [00:02, 12.79it/s]\n",
      "27it [00:02, 11.33it/s]\n",
      "27it [00:02, 11.57it/s]\n",
      "27it [00:02, 13.23it/s]\n",
      "27it [00:02, 12.64it/s]\n",
      "27it [00:02, 11.75it/s]\n",
      "27it [00:02, 12.49it/s]\n",
      "27it [00:01, 15.01it/s]\n",
      "27it [00:02, 12.63it/s]\n",
      "27it [00:02, 11.93it/s]\n",
      "27it [00:02, 13.06it/s]\n",
      "27it [00:01, 14.96it/s]\n",
      "27it [00:01, 13.85it/s]\n",
      "27it [00:01, 14.48it/s]\n",
      "27it [00:01, 14.31it/s]\n",
      "27it [00:01, 14.90it/s]\n",
      "27it [00:02, 12.56it/s]\n",
      "27it [00:02, 12.85it/s]\n",
      "27it [00:01, 15.53it/s]\n",
      "27it [00:02, 13.20it/s]\n",
      "27it [00:02, 12.29it/s]\n",
      "27it [00:01, 16.02it/s]\n",
      "27it [00:01, 15.14it/s]\n",
      "27it [00:01, 14.83it/s]\n",
      "27it [00:01, 14.04it/s]\n",
      "27it [00:01, 15.38it/s]\n",
      "27it [00:01, 14.33it/s]\n",
      "27it [00:01, 15.29it/s]\n",
      "27it [00:01, 15.22it/s]\n",
      "27it [00:01, 13.89it/s]\n",
      "27it [00:02, 12.60it/s]\n",
      "27it [00:02, 11.56it/s]\n",
      "27it [00:02, 11.41it/s]\n",
      "27it [00:02, 12.88it/s]\n",
      "27it [00:02, 13.14it/s]\n",
      "27it [00:02, 11.96it/s]\n",
      "27it [00:02, 11.79it/s]\n",
      "27it [00:02, 10.95it/s]\n",
      "27it [00:01, 14.02it/s]\n",
      "27it [00:01, 14.27it/s]\n",
      "27it [00:01, 13.95it/s]\n",
      "27it [00:01, 14.69it/s]\n",
      "27it [00:02,  9.81it/s]\n",
      "27it [00:02, 11.72it/s]\n",
      "27it [00:01, 14.29it/s]\n",
      "27it [00:02, 11.98it/s]\n",
      "27it [00:01, 14.99it/s]\n",
      "27it [00:01, 14.96it/s]\n",
      "27it [00:02, 10.70it/s]\n",
      "27it [00:02, 13.08it/s]\n",
      "27it [00:02, 12.46it/s]\n",
      "27it [00:02, 12.82it/s]\n",
      "27it [00:02, 13.03it/s]\n",
      "27it [00:01, 14.23it/s]\n",
      "27it [00:01, 14.83it/s]\n",
      "27it [00:01, 14.62it/s]\n",
      "27it [00:01, 14.20it/s]\n",
      "27it [00:01, 14.35it/s]\n",
      "27it [00:01, 14.31it/s]\n",
      "27it [00:01, 14.66it/s]\n",
      "27it [00:01, 15.01it/s]\n",
      "27it [00:01, 14.19it/s]\n",
      "27it [00:01, 16.60it/s]\n",
      "27it [00:01, 15.47it/s]\n"
     ]
    },
    {
     "name": "stdout",
     "output_type": "stream",
     "text": [
      "[264.20016049 285.93988017  86.30409294 329.70029313 206.10851218\n",
      " 153.68313622 151.94440908 219.28464508 114.55359934  11.03925026\n",
      "  45.43818421  39.18271219 192.04726838 156.41586141  73.94325842\n",
      " 201.3017123  145.99556575  49.03432506 107.69080544 159.37355025\n",
      " 120.96060066 345.89427518 215.20950026 226.91264818  81.96825129\n",
      "  17.68558579  64.38366717 185.44109314  23.42098415 179.92654049\n",
      " 208.00425563 252.37675506]\n"
     ]
    },
    {
     "name": "stderr",
     "output_type": "stream",
     "text": [
      "27it [00:01, 14.44it/s]"
     ]
    },
    {
     "name": "stdout",
     "output_type": "stream",
     "text": [
      "CPU times: total: 2min 58s\n",
      "Wall time: 3min 14s\n"
     ]
    },
    {
     "name": "stderr",
     "output_type": "stream",
     "text": [
      "\n"
     ]
    }
   ],
   "source": [
    "%%time\n",
    "LiH_approximated_eigenvalue = get_approximated_eigenvalue_of_hamiltonian(LiH_molecule_4_qubits, \"linear\")"
   ]
  },
  {
   "cell_type": "markdown",
   "id": "fbe670c9",
   "metadata": {},
   "source": [
    "### Comparsion between approximate value after optimtimzation and exact eigenvalue"
   ]
  },
  {
   "cell_type": "code",
   "execution_count": 60,
   "id": "a97114cc",
   "metadata": {},
   "outputs": [
    {
     "name": "stdout",
     "output_type": "stream",
     "text": [
      "[(-7.862773163027979+0j), (-7.7833962082865185+0j), (-7.783396208286518+0j), (-7.7140566916607005+0j), (-7.714056691660695+0j), (-7.714056691660695+0j), (-7.700475837803976+0j), (-7.569984737620559+0j), (-7.569984737620559+0j), (-7.511999706834453+0j), (-7.511999706834451+0j), (-7.364817440287081+0j), (-7.151525481896562+0j), (-7.130406955301309+0j), (-7.130406955301308+0j), (-6.769813218087976+0j)]\n",
      "Exact Eigenvalue:\n",
      "(-7.862773163027979+0j)\n",
      "\n",
      "Approximated Eigenvalue:\n",
      "-7.826561363922414\n",
      "\n",
      "Approximation Error\n",
      "0.004605474220703603\n"
     ]
    },
    {
     "data": {
      "image/png": "[encoded data removed]",
      "text/plain": [
       "<Figure size 432x288 with 1 Axes>"
      ]
     },
     "metadata": {
      "needs_background": "light"
     },
     "output_type": "display_data"
    }
   ],
   "source": [
    "compare_exact_and_approximated_eigenvalue(LiH_molecule_4_qubits, LiH_approximated_eigenvalue)"
   ]
  },
  {
   "cell_type": "markdown",
   "id": "32d3273c",
   "metadata": {},
   "source": [
    "#### Full Entangelment"
   ]
  },
  {
   "cell_type": "code",
   "execution_count": 61,
   "id": "39faf0d6",
   "metadata": {},
   "outputs": [
    {
     "name": "stderr",
     "output_type": "stream",
     "text": [
      "27it [00:02, 12.42it/s]\n",
      "27it [00:02, 12.79it/s]\n",
      "27it [00:02, 11.06it/s]\n",
      "27it [00:03,  7.31it/s]\n",
      "27it [00:03,  6.78it/s]\n",
      "27it [00:02,  9.63it/s]\n",
      "27it [00:02, 12.20it/s]\n",
      "27it [00:02, 11.12it/s]\n",
      "27it [00:02, 10.26it/s]\n",
      "27it [00:02, 11.94it/s]\n",
      "27it [00:02, 10.98it/s]\n",
      "27it [00:02, 10.37it/s]\n",
      "27it [00:01, 14.37it/s]\n",
      "27it [00:02, 11.79it/s]\n",
      "27it [00:02, 13.44it/s]\n",
      "27it [00:02, 13.17it/s]\n",
      "27it [00:02, 13.00it/s]\n",
      "27it [00:01, 13.84it/s]\n",
      "27it [00:01, 13.89it/s]\n",
      "27it [00:02, 12.32it/s]\n",
      "27it [00:02, 10.98it/s]\n",
      "27it [00:01, 13.90it/s]\n",
      "27it [00:02, 12.99it/s]\n",
      "27it [00:02, 11.42it/s]\n",
      "27it [00:02, 11.90it/s]\n",
      "27it [00:02, 12.11it/s]\n",
      "27it [00:01, 13.79it/s]\n",
      "27it [00:01, 13.76it/s]\n",
      "27it [00:02, 13.22it/s]\n",
      "27it [00:02, 11.71it/s]\n",
      "27it [00:02, 13.16it/s]\n",
      "27it [00:02, 12.88it/s]\n",
      "27it [00:01, 14.41it/s]\n",
      "27it [00:02, 12.78it/s]\n",
      "27it [00:01, 15.12it/s]\n",
      "27it [00:02, 12.10it/s]\n",
      "27it [00:02, 12.63it/s]\n",
      "27it [00:02, 11.63it/s]\n",
      "27it [00:02, 11.29it/s]\n",
      "27it [00:02, 10.26it/s]\n",
      "27it [00:02, 11.54it/s]\n",
      "27it [00:02, 12.38it/s]\n",
      "27it [00:02, 12.08it/s]\n",
      "27it [00:02, 12.51it/s]\n",
      "27it [00:02, 13.17it/s]\n",
      "27it [00:02, 12.67it/s]\n",
      "27it [00:02, 12.72it/s]\n",
      "27it [00:02, 11.96it/s]\n",
      "27it [00:02, 12.15it/s]\n",
      "27it [00:02, 13.21it/s]\n",
      "27it [00:02, 11.02it/s]\n",
      "27it [00:01, 13.82it/s]\n",
      "27it [00:01, 14.42it/s]\n",
      "27it [00:02, 13.12it/s]\n",
      "27it [00:01, 13.87it/s]\n",
      "27it [00:01, 15.09it/s]\n",
      "27it [00:01, 13.72it/s]\n",
      "27it [00:01, 13.54it/s]\n",
      "27it [00:01, 13.78it/s]\n",
      "27it [00:01, 14.04it/s]\n",
      "27it [00:01, 14.32it/s]\n",
      "27it [00:02,  9.94it/s]\n",
      "27it [00:02, 13.22it/s]\n",
      "27it [00:02, 12.67it/s]\n",
      "27it [00:01, 14.79it/s]\n",
      "27it [00:01, 13.85it/s]\n",
      "27it [00:02, 13.01it/s]\n",
      "27it [00:02, 12.73it/s]\n",
      "27it [00:02, 13.08it/s]\n",
      "27it [00:01, 14.37it/s]\n",
      "27it [00:01, 15.06it/s]\n",
      "27it [00:02, 13.46it/s]\n",
      "27it [00:02, 12.91it/s]\n",
      "27it [00:02, 12.08it/s]\n",
      "27it [00:02, 12.13it/s]\n",
      "27it [00:01, 13.51it/s]\n",
      "27it [00:01, 14.93it/s]\n",
      "27it [00:02, 13.04it/s]\n",
      "27it [00:02, 11.71it/s]\n",
      "27it [00:03,  7.96it/s]\n",
      "27it [00:03,  7.64it/s]\n",
      "27it [00:03,  7.47it/s]\n",
      "27it [00:03,  8.26it/s]\n",
      "27it [00:03,  8.61it/s]\n",
      "27it [00:02,  9.90it/s]\n",
      "27it [00:02,  9.75it/s]\n",
      "27it [00:02, 11.14it/s]\n",
      "27it [00:02,  9.95it/s]\n",
      "27it [00:02,  9.72it/s]\n",
      "27it [00:03,  8.96it/s]\n",
      "27it [00:02,  9.54it/s]\n",
      "27it [00:02,  9.32it/s]\n",
      "27it [00:02,  9.37it/s]\n",
      "27it [00:02,  9.46it/s]\n",
      "27it [00:03,  8.17it/s]\n",
      "27it [00:02, 11.07it/s]\n",
      "27it [00:02,  9.30it/s]\n",
      "27it [00:02,  9.48it/s]\n",
      "27it [00:03,  8.32it/s]\n",
      "27it [00:03,  8.08it/s]\n"
     ]
    },
    {
     "name": "stdout",
     "output_type": "stream",
     "text": [
      "[157.31429885 189.21651972  95.12954523 222.50911231 359.01607923\n",
      " 218.3924018   52.03890025 236.72620361 299.36727455 106.95144285\n",
      " 153.74185452  25.38047746  59.12566693 269.50527648  12.19279262\n",
      " 278.19014888 212.34955352 102.89130696 231.69430146 316.13430954\n",
      "  94.88248781  22.88119727 353.76285495  72.85253901 106.88890808\n",
      "  40.36042751 154.3933523  205.00122286  71.76985947  79.06026072\n",
      " 320.7010062  273.24599806]\n"
     ]
    },
    {
     "name": "stderr",
     "output_type": "stream",
     "text": [
      "27it [00:02,  9.44it/s]"
     ]
    },
    {
     "name": "stdout",
     "output_type": "stream",
     "text": [
      "CPU times: total: 3min 34s\n",
      "Wall time: 3min 58s\n"
     ]
    },
    {
     "name": "stderr",
     "output_type": "stream",
     "text": [
      "\n"
     ]
    }
   ],
   "source": [
    "%%time\n",
    "LiH_approximated_eigenvalue = get_approximated_eigenvalue_of_hamiltonian(LiH_molecule_4_qubits, \"full\")"
   ]
  },
  {
   "cell_type": "code",
   "execution_count": 62,
   "id": "ae67fc6d",
   "metadata": {
    "scrolled": true
   },
   "outputs": [
    {
     "name": "stdout",
     "output_type": "stream",
     "text": [
      "[(-7.862773163027979+0j), (-7.7833962082865185+0j), (-7.783396208286518+0j), (-7.7140566916607005+0j), (-7.714056691660695+0j), (-7.714056691660695+0j), (-7.700475837803976+0j), (-7.569984737620559+0j), (-7.569984737620559+0j), (-7.511999706834453+0j), (-7.511999706834451+0j), (-7.364817440287081+0j), (-7.151525481896562+0j), (-7.130406955301309+0j), (-7.130406955301308+0j), (-6.769813218087976+0j)]\n",
      "Exact Eigenvalue:\n",
      "(-7.862773163027979+0j)\n",
      "\n",
      "Approximated Eigenvalue:\n",
      "-7.724395650995989\n",
      "\n",
      "Approximation Error\n",
      "0.017599072129241066\n"
     ]
    },
    {
     "data": {
      "image/png": "[encoded data removed]",
      "text/plain": [
       "<Figure size 432x288 with 1 Axes>"
      ]
     },
     "metadata": {
      "needs_background": "light"
     },
     "output_type": "display_data"
    }
   ],
   "source": [
    "compare_exact_and_approximated_eigenvalue(LiH_molecule_4_qubits, LiH_approximated_eigenvalue)"
   ]
  },
  {
   "cell_type": "markdown",
   "id": "e9cc887a",
   "metadata": {},
   "source": [
    "## H2 Molecule 4 qubits"
   ]
  },
  {
   "cell_type": "code",
   "execution_count": 63,
   "id": "259df459",
   "metadata": {},
   "outputs": [],
   "source": [
    "H2_molecule_Hamiltonian_4_qubits =  -0.8105479805373279 * (I^I^I^I) \\\n",
    "                                    + 0.1721839326191554 * (I^I^I^Z) \\\n",
    "                                    - 0.22575349222402372 * (I^I^Z^I) \\\n",
    "                                    + 0.17218393261915543 * (I^Z^I^I) \\\n",
    "                                    - 0.2257534922240237 * (Z^I^I^I) \\\n",
    "                                    + 0.12091263261776627 * (I^I^Z^Z) \\\n",
    "                                    + 0.16892753870087907 * (I^Z^I^Z) \\\n",
    "                                    + 0.045232799946057826 * (Y^Y^Y^Y) \\\n",
    "                                    + 0.045232799946057826 * (X^X^Y^Y) \\\n",
    "                                    + 0.045232799946057826 * (Y^Y^X^X) \\\n",
    "                                    + 0.045232799946057826 * (X^X^X^X) \\\n",
    "                                    + 0.1661454325638241 * (Z^I^I^Z) \\\n",
    "                                    + 0.1661454325638241 * (I^Z^Z^I) \\\n",
    "                                    + 0.17464343068300453 * (Z^I^Z^I) \\\n",
    "                                    + 0.12091263261776627 * (Z^Z^I^I)"
   ]
  },
  {
   "cell_type": "markdown",
   "id": "fa5a1423",
   "metadata": {},
   "source": [
    "#### Linear Entangelment"
   ]
  },
  {
   "cell_type": "code",
   "execution_count": 64,
   "id": "3634f0d7",
   "metadata": {},
   "outputs": [
    {
     "name": "stderr",
     "output_type": "stream",
     "text": [
      "15it [00:01,  9.27it/s]\n",
      "15it [00:01, 10.00it/s]\n",
      "15it [00:01, 10.83it/s]\n",
      "15it [00:01, 11.27it/s]\n",
      "15it [00:01, 10.67it/s]\n",
      "15it [00:01, 11.08it/s]\n",
      "15it [00:01, 11.05it/s]\n",
      "15it [00:01, 11.15it/s]\n",
      "15it [00:01, 10.90it/s]\n",
      "15it [00:01, 11.40it/s]\n",
      "15it [00:01, 10.17it/s]\n",
      "15it [00:01, 11.67it/s]\n",
      "15it [00:01, 12.33it/s]\n",
      "15it [00:01, 11.98it/s]\n",
      "15it [00:01,  9.68it/s]\n",
      "15it [00:01, 11.27it/s]\n",
      "15it [00:01,  9.52it/s]\n",
      "15it [00:01, 11.72it/s]\n",
      "15it [00:01, 14.01it/s]\n",
      "15it [00:01, 10.74it/s]\n",
      "15it [00:01, 11.22it/s]\n",
      "15it [00:01, 12.05it/s]\n",
      "15it [00:01, 13.08it/s]\n",
      "15it [00:00, 15.04it/s]\n",
      "15it [00:01, 14.46it/s]\n",
      "15it [00:01, 14.41it/s]\n",
      "15it [00:01, 12.32it/s]\n",
      "15it [00:01, 14.13it/s]\n",
      "15it [00:01, 13.41it/s]\n",
      "15it [00:01, 11.97it/s]\n",
      "15it [00:01, 13.52it/s]\n",
      "15it [00:01, 11.79it/s]\n",
      "15it [00:01, 12.37it/s]\n",
      "15it [00:01, 10.89it/s]\n",
      "15it [00:01,  7.91it/s]\n",
      "15it [00:01, 10.77it/s]\n",
      "15it [00:01,  9.60it/s]\n",
      "15it [00:01, 10.53it/s]\n",
      "15it [00:01,  9.03it/s]\n",
      "15it [00:01,  9.72it/s]\n",
      "15it [00:01,  9.17it/s]\n",
      "15it [00:01,  8.06it/s]\n",
      "15it [00:01,  9.13it/s]\n",
      "15it [00:01, 10.64it/s]\n",
      "15it [00:01, 11.76it/s]\n",
      "15it [00:01, 11.52it/s]\n",
      "15it [00:01, 12.40it/s]\n",
      "15it [00:01, 11.49it/s]\n",
      "15it [00:01, 12.03it/s]\n",
      "15it [00:01, 11.31it/s]\n",
      "15it [00:01, 12.63it/s]\n",
      "15it [00:01, 13.19it/s]\n",
      "15it [00:01, 12.49it/s]\n",
      "15it [00:01, 12.39it/s]\n",
      "15it [00:01, 12.05it/s]\n",
      "15it [00:01, 12.71it/s]\n",
      "15it [00:01, 11.74it/s]\n",
      "15it [00:01, 13.05it/s]\n",
      "15it [00:01, 11.34it/s]\n",
      "15it [00:01, 11.98it/s]\n",
      "15it [00:01, 12.70it/s]\n",
      "15it [00:01, 11.87it/s]\n",
      "15it [00:01,  9.40it/s]\n",
      "15it [00:01, 10.09it/s]\n",
      "15it [00:01, 10.79it/s]\n",
      "15it [00:01, 10.92it/s]\n",
      "15it [00:01,  8.94it/s]\n",
      "15it [00:01, 10.16it/s]\n",
      "15it [00:01, 10.27it/s]\n",
      "15it [00:01, 11.21it/s]\n",
      "15it [00:01, 12.41it/s]\n",
      "15it [00:01, 11.17it/s]\n",
      "15it [00:01, 10.91it/s]\n",
      "15it [00:01, 12.11it/s]\n",
      "15it [00:01, 12.40it/s]\n",
      "15it [00:01, 11.66it/s]\n",
      "15it [00:01, 13.06it/s]\n",
      "15it [00:01, 10.50it/s]\n",
      "15it [00:01, 12.23it/s]\n",
      "15it [00:01, 11.31it/s]\n",
      "15it [00:01, 13.04it/s]\n",
      "15it [00:01, 12.96it/s]\n",
      "15it [00:01, 10.02it/s]\n",
      "15it [00:01, 10.20it/s]\n",
      "15it [00:01, 12.53it/s]\n",
      "15it [00:01, 11.76it/s]\n",
      "15it [00:01, 10.89it/s]\n",
      "15it [00:01, 10.69it/s]\n",
      "15it [00:01, 10.95it/s]\n",
      "15it [00:01,  9.80it/s]\n",
      "15it [00:01,  7.71it/s]\n",
      "15it [00:01,  7.87it/s]\n",
      "15it [00:01,  8.92it/s]\n",
      "15it [00:01,  8.19it/s]\n",
      "15it [00:01,  9.67it/s]\n",
      "15it [00:01,  9.45it/s]\n",
      "15it [00:01,  8.53it/s]\n",
      "15it [00:01,  9.14it/s]\n",
      "15it [00:01,  9.39it/s]\n",
      "15it [00:01,  7.56it/s]\n"
     ]
    },
    {
     "name": "stdout",
     "output_type": "stream",
     "text": [
      "[201.0291063  333.75700845 267.23082525 110.51323688 175.67770716\n",
      " 256.01712147 187.51470475 348.12435546 122.49171846 359.84916751\n",
      "  12.41320313 316.25893568  95.31286932 135.50689825 267.79699899\n",
      " 265.04394385 193.98145651 140.55121323 169.65348826 358.29394135\n",
      " 173.64059073 281.37072893 111.23677845 358.04132753 290.23145572\n",
      " 192.79813543 200.34257298 312.13964415 103.97507653 205.40236689\n",
      " 216.67175657 251.73609582]\n"
     ]
    },
    {
     "name": "stderr",
     "output_type": "stream",
     "text": [
      "15it [00:01,  8.37it/s]"
     ]
    },
    {
     "name": "stdout",
     "output_type": "stream",
     "text": [
      "CPU times: total: 2min 5s\n",
      "Wall time: 2min 20s\n"
     ]
    },
    {
     "name": "stderr",
     "output_type": "stream",
     "text": [
      "\n"
     ]
    }
   ],
   "source": [
    "%%time\n",
    "H2_approximated_eigenvalue = get_approximated_eigenvalue_of_hamiltonian(H2_molecule_Hamiltonian_4_qubits, \"linear\")"
   ]
  },
  {
   "cell_type": "code",
   "execution_count": 65,
   "id": "5b96cc5e",
   "metadata": {},
   "outputs": [
    {
     "name": "stdout",
     "output_type": "stream",
     "text": [
      "[(-1.8572750302023793+0j), (-1.25633907300325+0j), (-1.2563390730032498+0j), (-1.2445845498133272+0j), (-1.2445845498133272+0j), (-1.244584549813327+0j), (-1.1606317377577642+0j), (-1.1606317377577642+0j), (-0.8827221502448648+0j), (-0.47189600728114256+0j), (-0.47189600728114245+0j), (-0.353325104107155+0j), (-0.353325104107155+0j), (-0.2249112528308709+0j), (-1.942890293094024e-16+0j), (0.2142782384194731+0j)]\n",
      "Exact Eigenvalue:\n",
      "(-1.8572750302023793+0j)\n",
      "\n",
      "Approximated Eigenvalue:\n",
      "-1.1282114439588777\n",
      "\n",
      "Approximation Error\n",
      "0.3925447628314147\n"
     ]
    },
    {
     "data": {
      "image/png": "[encoded data removed]",
      "text/plain": [
       "<Figure size 432x288 with 1 Axes>"
      ]
     },
     "metadata": {
      "needs_background": "light"
     },
     "output_type": "display_data"
    }
   ],
   "source": [
    "compare_exact_and_approximated_eigenvalue(H2_molecule_Hamiltonian_4_qubits, H2_approximated_eigenvalue)"
   ]
  },
  {
   "cell_type": "markdown",
   "id": "72f299b7",
   "metadata": {},
   "source": [
    "#### Full Entangelment"
   ]
  },
  {
   "cell_type": "code",
   "execution_count": 66,
   "id": "51d29e0c",
   "metadata": {},
   "outputs": [
    {
     "name": "stderr",
     "output_type": "stream",
     "text": [
      "15it [00:01,  8.01it/s]\n",
      "15it [00:01,  7.79it/s]\n",
      "15it [00:01,  7.97it/s]\n",
      "15it [00:01,  8.70it/s]\n",
      "15it [00:01,  8.13it/s]\n",
      "15it [00:01,  8.44it/s]\n",
      "15it [00:01,  9.87it/s]\n",
      "15it [00:01, 10.07it/s]\n",
      "15it [00:01, 10.69it/s]\n",
      "15it [00:01,  7.91it/s]\n",
      "15it [00:01,  8.16it/s]\n",
      "15it [00:01,  8.02it/s]\n",
      "15it [00:01,  9.59it/s]\n",
      "15it [00:01,  9.14it/s]\n",
      "15it [00:02,  7.48it/s]\n",
      "15it [00:01,  9.15it/s]\n",
      "15it [00:01,  8.90it/s]\n",
      "15it [00:01,  8.17it/s]\n",
      "15it [00:01,  7.64it/s]\n",
      "15it [00:01,  7.53it/s]\n",
      "15it [00:01,  7.84it/s]\n",
      "15it [00:01,  7.91it/s]\n",
      "15it [00:01,  8.64it/s]\n",
      "15it [00:01,  9.71it/s]\n",
      "15it [00:01,  8.48it/s]\n",
      "15it [00:01,  7.68it/s]\n",
      "15it [00:01, 10.22it/s]\n",
      "15it [00:01,  7.99it/s]\n",
      "15it [00:01,  8.91it/s]\n",
      "15it [00:01, 10.10it/s]\n",
      "15it [00:01,  8.59it/s]\n",
      "15it [00:01,  8.96it/s]\n",
      "15it [00:01,  9.83it/s]\n",
      "15it [00:01,  7.59it/s]\n",
      "15it [00:01,  8.06it/s]\n",
      "15it [00:01,  8.28it/s]\n",
      "15it [00:01, 10.47it/s]\n",
      "15it [00:01,  8.86it/s]\n",
      "15it [00:01,  8.73it/s]\n",
      "15it [00:01,  8.34it/s]\n",
      "15it [00:01,  8.35it/s]\n",
      "15it [00:01,  9.19it/s]\n",
      "15it [00:01,  8.48it/s]\n",
      "15it [00:01,  8.14it/s]\n",
      "15it [00:01,  7.97it/s]\n",
      "15it [00:01,  7.74it/s]\n",
      "15it [00:01,  9.28it/s]\n",
      "15it [00:01,  8.35it/s]\n",
      "15it [00:01,  8.71it/s]\n",
      "15it [00:01,  9.40it/s]\n",
      "15it [00:01,  9.85it/s]\n",
      "15it [00:01, 10.47it/s]\n",
      "15it [00:01, 10.86it/s]\n",
      "15it [00:01,  8.88it/s]\n",
      "15it [00:01,  9.34it/s]\n",
      "15it [00:01,  8.61it/s]\n",
      "15it [00:01,  9.95it/s]\n",
      "15it [00:01,  9.77it/s]\n",
      "15it [00:01, 10.24it/s]\n",
      "15it [00:01, 10.38it/s]\n",
      "15it [00:01,  9.82it/s]\n",
      "15it [00:01, 10.49it/s]\n",
      "15it [00:01,  9.10it/s]\n",
      "15it [00:01,  9.76it/s]\n",
      "15it [00:01,  8.44it/s]\n",
      "15it [00:01,  7.68it/s]\n",
      "15it [00:01,  8.53it/s]\n",
      "15it [00:02,  7.31it/s]\n",
      "15it [00:02,  6.98it/s]\n",
      "15it [00:02,  7.46it/s]\n",
      "15it [00:02,  6.07it/s]\n",
      "15it [00:02,  7.30it/s]\n",
      "15it [00:02,  7.50it/s]\n",
      "15it [00:02,  7.43it/s]\n",
      "15it [00:01,  8.67it/s]\n",
      "15it [00:01,  8.11it/s]\n",
      "15it [00:02,  6.26it/s]\n",
      "15it [00:02,  6.70it/s]\n",
      "15it [00:02,  7.50it/s]\n",
      "15it [00:01,  8.05it/s]\n",
      "15it [00:02,  7.10it/s]\n",
      "15it [00:02,  6.42it/s]\n",
      "15it [00:02,  6.33it/s]\n",
      "15it [00:02,  7.01it/s]\n",
      "15it [00:01,  8.34it/s]\n",
      "15it [00:01,  8.47it/s]\n",
      "15it [00:02,  7.14it/s]\n",
      "15it [00:02,  6.99it/s]\n",
      "15it [00:02,  7.28it/s]\n",
      "15it [00:01,  8.26it/s]\n",
      "15it [00:02,  7.42it/s]\n",
      "15it [00:02,  6.64it/s]\n",
      "15it [00:02,  6.28it/s]\n",
      "15it [00:01,  7.57it/s]\n",
      "15it [00:01,  7.92it/s]\n",
      "15it [00:01,  8.39it/s]\n",
      "15it [00:02,  6.67it/s]\n",
      "15it [00:02,  6.78it/s]\n",
      "15it [00:01,  7.55it/s]\n",
      "15it [00:02,  6.97it/s]\n"
     ]
    },
    {
     "name": "stdout",
     "output_type": "stream",
     "text": [
      "[267.13476128 257.47871837   5.49780499  12.31332627 129.67485178\n",
      " 269.13936457 228.56789227  38.28250423  30.77882891 321.13592291\n",
      " 166.90301899 358.38848233 186.83155359 314.45889748 283.11142555\n",
      "   6.43413453  53.3034124   58.7365398  227.65647154 246.43863104\n",
      "  57.06619744 153.01821153 116.38824544  56.54010904  52.76995317\n",
      " 129.34052552 213.99358894  83.30109394 243.89673788   4.37720364\n",
      "  43.45054332   1.52094246]\n"
     ]
    },
    {
     "name": "stderr",
     "output_type": "stream",
     "text": [
      "15it [00:01,  8.27it/s]"
     ]
    },
    {
     "name": "stdout",
     "output_type": "stream",
     "text": [
      "CPU times: total: 2min 36s\n",
      "Wall time: 3min 5s\n"
     ]
    },
    {
     "name": "stderr",
     "output_type": "stream",
     "text": [
      "\n"
     ]
    }
   ],
   "source": [
    "%%time\n",
    "H2_approximated_eigenvalue = get_approximated_eigenvalue_of_hamiltonian(H2_molecule_Hamiltonian_4_qubits, \"full\")"
   ]
  },
  {
   "cell_type": "code",
   "execution_count": 67,
   "id": "b3b3d512",
   "metadata": {},
   "outputs": [
    {
     "name": "stdout",
     "output_type": "stream",
     "text": [
      "[(-1.8572750302023793+0j), (-1.25633907300325+0j), (-1.2563390730032498+0j), (-1.2445845498133272+0j), (-1.2445845498133272+0j), (-1.244584549813327+0j), (-1.1606317377577642+0j), (-1.1606317377577642+0j), (-0.8827221502448648+0j), (-0.47189600728114256+0j), (-0.47189600728114245+0j), (-0.353325104107155+0j), (-0.353325104107155+0j), (-0.2249112528308709+0j), (-1.942890293094024e-16+0j), (0.2142782384194731+0j)]\n",
      "Exact Eigenvalue:\n",
      "(-1.8572750302023793+0j)\n",
      "\n",
      "Approximated Eigenvalue:\n",
      "-1.5420738102925051\n",
      "\n",
      "Approximation Error\n",
      "0.1697116554006156\n"
     ]
    },
    {
     "data": {
      "image/png": "[encoded data removed]",
      "text/plain": [
       "<Figure size 432x288 with 1 Axes>"
      ]
     },
     "metadata": {
      "needs_background": "light"
     },
     "output_type": "display_data"
    }
   ],
   "source": [
    "compare_exact_and_approximated_eigenvalue(H2_molecule_Hamiltonian_4_qubits, H2_approximated_eigenvalue)"
   ]
  },
  {
   "cell_type": "markdown",
   "id": "394c3bee",
   "metadata": {},
   "source": [
    "##  Transverse Ising Model 4 qubits"
   ]
  },
  {
   "cell_type": "code",
   "execution_count": 68,
   "id": "8dab0ec4",
   "metadata": {},
   "outputs": [],
   "source": [
    "transverse_ising_4_qubits = 0.0 * (I^I^I^I) \\\n",
    "    + 0.8398088405253477 * (X^I^I^I) \\\n",
    "    + 0.7989496312070936 * (I^X^I^I) \\\n",
    "    + 0.38189710487113193 * (Z^Z^I^I) \\\n",
    "    + 0.057753122422666725 * (I^I^X^I) \\\n",
    "    + 0.5633292636970458 * (Z^I^Z^I) \\\n",
    "    + 0.3152740621483513 * (I^Z^Z^I) \\\n",
    "    + 0.07209487981989715 * (I^I^I^X) \\\n",
    "    + 0.17892334004292654 * (Z^I^I^Z) \\\n",
    "    + 0.2273896497668042 * (I^Z^I^Z) \\\n",
    "    + 0.09762902934216211 * (I^I^Z^Z)"
   ]
  },
  {
   "cell_type": "markdown",
   "id": "c82bd1cb",
   "metadata": {},
   "source": [
    "#### Linear Entangelment"
   ]
  },
  {
   "cell_type": "code",
   "execution_count": 69,
   "id": "ac7514ba",
   "metadata": {},
   "outputs": [
    {
     "name": "stderr",
     "output_type": "stream",
     "text": [
      "11it [00:01,  8.11it/s]\n",
      "11it [00:01,  7.65it/s]\n",
      "11it [00:01,  8.47it/s]\n",
      "11it [00:01,  6.55it/s]\n",
      "11it [00:01,  8.18it/s]\n",
      "11it [00:01,  9.05it/s]\n",
      "11it [00:01,  9.22it/s]\n",
      "11it [00:01,  8.21it/s]\n",
      "11it [00:01,  7.97it/s]\n",
      "11it [00:01,  9.35it/s]\n",
      "11it [00:01,  9.42it/s]\n",
      "11it [00:01,  8.52it/s]\n",
      "11it [00:01,  9.27it/s]\n",
      "11it [00:01,  9.23it/s]\n",
      "11it [00:01,  8.40it/s]\n",
      "11it [00:01,  8.26it/s]\n",
      "11it [00:01,  7.87it/s]\n",
      "11it [00:01,  9.35it/s]\n",
      "11it [00:01,  8.26it/s]\n",
      "11it [00:01,  8.92it/s]\n",
      "11it [00:01,  9.16it/s]\n",
      "11it [00:01,  8.48it/s]\n",
      "11it [00:01,  6.65it/s]\n",
      "11it [00:01,  7.56it/s]\n",
      "11it [00:01,  7.62it/s]\n",
      "11it [00:01,  9.02it/s]\n",
      "11it [00:01,  8.13it/s]\n",
      "11it [00:01,  7.31it/s]\n",
      "11it [00:01,  6.16it/s]\n",
      "11it [00:01,  8.25it/s]\n",
      "11it [00:01,  8.28it/s]\n",
      "11it [00:01,  9.39it/s]\n",
      "11it [00:01,  8.28it/s]\n",
      "11it [00:01,  8.83it/s]\n",
      "11it [00:01,  8.80it/s]\n",
      "11it [00:01,  7.81it/s]\n",
      "11it [00:01,  8.52it/s]\n",
      "11it [00:01,  8.69it/s]\n",
      "11it [00:01,  8.96it/s]\n",
      "11it [00:01,  8.43it/s]\n",
      "11it [00:01,  7.57it/s]\n",
      "11it [00:01,  9.48it/s]\n",
      "11it [00:01,  8.46it/s]\n",
      "11it [00:01,  7.87it/s]\n",
      "11it [00:01,  7.94it/s]\n",
      "11it [00:01,  6.83it/s]\n",
      "11it [00:01,  6.36it/s]\n",
      "11it [00:01,  7.56it/s]\n",
      "11it [00:01,  6.90it/s]\n",
      "11it [00:01,  6.33it/s]\n",
      "11it [00:01,  5.79it/s]\n",
      "11it [00:01,  7.02it/s]\n",
      "11it [00:01,  7.30it/s]\n",
      "11it [00:01,  7.00it/s]\n",
      "11it [00:01,  6.11it/s]\n",
      "11it [00:01,  6.82it/s]\n",
      "11it [00:01,  6.31it/s]\n",
      "11it [00:01,  7.41it/s]\n",
      "11it [00:01,  7.78it/s]\n",
      "11it [00:01,  7.24it/s]\n",
      "11it [00:01,  8.02it/s]\n",
      "11it [00:01,  8.09it/s]\n",
      "11it [00:01,  9.05it/s]\n",
      "11it [00:01,  8.08it/s]\n",
      "11it [00:01,  7.77it/s]\n",
      "11it [00:01,  7.23it/s]\n",
      "11it [00:01,  8.17it/s]\n",
      "11it [00:01,  7.40it/s]\n",
      "11it [00:01,  8.22it/s]\n",
      "11it [00:01,  7.92it/s]\n",
      "11it [00:01,  7.79it/s]\n",
      "11it [00:01,  7.67it/s]\n",
      "11it [00:01,  7.57it/s]\n",
      "11it [00:01,  7.88it/s]\n",
      "11it [00:01,  6.70it/s]\n",
      "11it [00:01,  6.45it/s]\n",
      "11it [00:01,  5.98it/s]\n",
      "11it [00:01,  6.68it/s]\n",
      "11it [00:01,  7.00it/s]\n",
      "11it [00:01,  7.97it/s]\n",
      "11it [00:01,  7.24it/s]\n",
      "11it [00:01,  6.82it/s]\n",
      "11it [00:01,  7.50it/s]\n",
      "11it [00:01,  7.43it/s]\n",
      "11it [00:01,  7.27it/s]\n",
      "11it [00:01,  5.88it/s]\n",
      "11it [00:01,  7.22it/s]\n",
      "11it [00:01,  7.65it/s]\n",
      "11it [00:01,  7.76it/s]\n",
      "11it [00:01,  7.80it/s]\n",
      "11it [00:01,  7.65it/s]\n",
      "11it [00:01,  8.18it/s]\n",
      "11it [00:01,  8.92it/s]\n",
      "11it [00:01,  7.76it/s]\n",
      "11it [00:01,  8.47it/s]\n",
      "11it [00:01,  8.84it/s]\n",
      "11it [00:01,  6.16it/s]\n",
      "11it [00:01,  7.17it/s]\n",
      "11it [00:01,  6.56it/s]\n",
      "11it [00:01,  7.34it/s]\n"
     ]
    },
    {
     "name": "stdout",
     "output_type": "stream",
     "text": [
      "[2.61657284e+02 2.97989244e+01 2.17044610e+02 2.55270598e+02\n",
      " 3.43679728e+02 1.32752340e+02 6.58867042e+00 4.72394299e+00\n",
      " 1.76724174e+01 8.74710458e+01 1.17857388e+02 2.47986463e+02\n",
      " 1.76096869e+02 2.07786533e+00 6.16224786e+01 3.10163659e+02\n",
      " 1.14981930e+02 1.53617409e+02 1.27082364e+02 2.90401345e+02\n",
      " 2.99173662e+02 1.54210914e+01 2.22820247e+02 2.54143922e+02\n",
      " 1.11650857e+02 2.38513092e+02 2.50334005e-01 3.50124357e+02\n",
      " 1.03950597e+02 2.25367527e+02 3.50826828e+02 3.74323850e+01]\n"
     ]
    },
    {
     "name": "stderr",
     "output_type": "stream",
     "text": [
      "11it [00:01,  5.86it/s]"
     ]
    },
    {
     "name": "stdout",
     "output_type": "stream",
     "text": [
      "CPU times: total: 1min 59s\n",
      "Wall time: 2min 25s\n"
     ]
    },
    {
     "name": "stderr",
     "output_type": "stream",
     "text": [
      "\n"
     ]
    }
   ],
   "source": [
    "%%time\n",
    "TI_approximated_eigenvalue = get_approximated_eigenvalue_of_hamiltonian(transverse_ising_4_qubits, \"linear\")"
   ]
  },
  {
   "cell_type": "code",
   "execution_count": 70,
   "id": "ecd81c72",
   "metadata": {},
   "outputs": [
    {
     "name": "stdout",
     "output_type": "stream",
     "text": [
      "[(-1.9994855800333675+0j), (-1.9080638482930956+0j), (-1.8497137109270194+0j), (-1.7583827504312988+0j), (-0.5462047134056278+0j), (-0.47710503946487287+0j), (-0.31907768442618767+0j), (-0.2505930484227001+0j), (0.14239915569453057+0j), (0.20992649961322052+0j), (0.2757654176709828+0j), (0.3444947223438019+0j), (1.6816520928402046+0j), (1.6958488386667439+0j), (2.3718326043433704+0j), (2.3867070442313216+0j)]\n",
      "Exact Eigenvalue:\n",
      "(-1.9994855800333675+0j)\n",
      "\n",
      "Approximated Eigenvalue:\n",
      "-0.9840686447126921\n",
      "\n",
      "Approximation Error\n",
      "0.5078390889439324\n"
     ]
    },
    {
     "data": {
      "image/png": "[encoded data removed]",
      "text/plain": [
       "<Figure size 432x288 with 1 Axes>"
      ]
     },
     "metadata": {
      "needs_background": "light"
     },
     "output_type": "display_data"
    }
   ],
   "source": [
    "compare_exact_and_approximated_eigenvalue(transverse_ising_4_qubits, TI_approximated_eigenvalue)"
   ]
  },
  {
   "cell_type": "markdown",
   "id": "b13fdb69",
   "metadata": {},
   "source": [
    "#### Full Entangelment"
   ]
  },
  {
   "cell_type": "code",
   "execution_count": 71,
   "id": "defdd66a",
   "metadata": {},
   "outputs": [
    {
     "name": "stderr",
     "output_type": "stream",
     "text": [
      "11it [00:01,  7.17it/s]\n",
      "11it [00:01,  7.21it/s]\n",
      "11it [00:01,  6.76it/s]\n",
      "11it [00:01,  6.00it/s]\n",
      "11it [00:01,  6.80it/s]\n",
      "11it [00:01,  7.20it/s]\n",
      "11it [00:01,  8.21it/s]\n",
      "11it [00:01,  7.74it/s]\n",
      "11it [00:01,  6.77it/s]\n",
      "11it [00:01,  6.04it/s]\n",
      "11it [00:01,  5.87it/s]\n",
      "11it [00:01,  6.03it/s]\n",
      "11it [00:02,  5.28it/s]\n",
      "11it [00:01,  5.92it/s]\n",
      "11it [00:01,  6.12it/s]\n",
      "11it [00:01,  6.32it/s]\n",
      "11it [00:01,  6.10it/s]\n",
      "11it [00:01,  6.54it/s]\n",
      "11it [00:01,  6.43it/s]\n",
      "11it [00:01,  6.62it/s]\n",
      "11it [00:01,  7.17it/s]\n",
      "11it [00:01,  7.22it/s]\n",
      "11it [00:01,  6.10it/s]\n",
      "11it [00:01,  6.49it/s]\n",
      "11it [00:01,  6.92it/s]\n",
      "11it [00:02,  4.93it/s]\n",
      "11it [00:01,  5.82it/s]\n",
      "11it [00:01,  6.37it/s]\n",
      "11it [00:01,  6.13it/s]\n",
      "11it [00:01,  6.86it/s]\n",
      "11it [00:01,  6.91it/s]\n",
      "11it [00:01,  6.36it/s]\n",
      "11it [00:01,  6.90it/s]\n",
      "11it [00:01,  7.07it/s]\n",
      "11it [00:01,  6.27it/s]\n",
      "11it [00:01,  6.69it/s]\n",
      "11it [00:01,  6.47it/s]\n",
      "11it [00:01,  6.94it/s]\n",
      "11it [00:01,  7.35it/s]\n",
      "11it [00:01,  6.60it/s]\n",
      "11it [00:01,  7.40it/s]\n",
      "11it [00:01,  6.81it/s]\n",
      "11it [00:01,  6.99it/s]\n",
      "11it [00:01,  6.97it/s]\n",
      "11it [00:01,  5.93it/s]\n",
      "11it [00:01,  5.63it/s]\n",
      "11it [00:01,  6.19it/s]\n",
      "11it [00:02,  4.99it/s]\n",
      "11it [00:01,  6.52it/s]\n",
      "11it [00:01,  6.35it/s]\n",
      "11it [00:01,  6.26it/s]\n",
      "11it [00:01,  7.59it/s]\n",
      "11it [00:01,  6.57it/s]\n",
      "11it [00:01,  6.51it/s]\n",
      "11it [00:01,  6.20it/s]\n",
      "11it [00:01,  5.66it/s]\n",
      "11it [00:01,  6.22it/s]\n",
      "11it [00:01,  6.45it/s]\n",
      "11it [00:01,  5.83it/s]\n",
      "11it [00:01,  6.58it/s]\n",
      "11it [00:01,  6.44it/s]\n",
      "11it [00:02,  5.50it/s]\n",
      "11it [00:01,  6.59it/s]\n",
      "11it [00:01,  6.51it/s]\n",
      "11it [00:01,  5.97it/s]\n",
      "11it [00:01,  5.72it/s]\n",
      "11it [00:01,  6.74it/s]\n",
      "11it [00:01,  6.47it/s]\n",
      "11it [00:01,  7.08it/s]\n",
      "11it [00:01,  6.31it/s]\n",
      "11it [00:01,  6.13it/s]\n",
      "11it [00:01,  6.01it/s]\n",
      "11it [00:01,  5.55it/s]\n",
      "11it [00:01,  5.82it/s]\n",
      "11it [00:01,  6.30it/s]\n",
      "11it [00:01,  6.26it/s]\n",
      "11it [00:01,  6.79it/s]\n",
      "11it [00:01,  6.61it/s]\n",
      "11it [00:01,  6.40it/s]\n",
      "11it [00:01,  6.66it/s]\n",
      "11it [00:01,  6.81it/s]\n",
      "11it [00:01,  7.41it/s]\n",
      "11it [00:01,  7.22it/s]\n",
      "11it [00:01,  6.27it/s]\n",
      "11it [00:01,  6.59it/s]\n",
      "11it [00:01,  6.07it/s]\n",
      "11it [00:01,  5.83it/s]\n",
      "11it [00:01,  7.12it/s]\n",
      "11it [00:01,  6.88it/s]\n",
      "11it [00:01,  7.30it/s]\n",
      "11it [00:01,  6.46it/s]\n",
      "11it [00:01,  5.63it/s]\n",
      "11it [00:02,  5.27it/s]\n",
      "11it [00:01,  5.55it/s]\n",
      "11it [00:01,  6.39it/s]\n",
      "11it [00:01,  6.16it/s]\n",
      "11it [00:01,  6.24it/s]\n",
      "11it [00:01,  5.84it/s]\n",
      "11it [00:01,  6.43it/s]\n",
      "11it [00:01,  7.16it/s]\n"
     ]
    },
    {
     "name": "stdout",
     "output_type": "stream",
     "text": [
      "[112.90281921 152.46471973  97.40817719 170.11778732 306.84113992\n",
      "  64.06527505 315.69131589 115.57194952 131.79586734 292.81450705\n",
      "  22.01077827 321.69206027 324.17175386  37.04459401 227.7404291\n",
      "  43.68931051 100.01236559 255.81652369 135.89996682 100.46237002\n",
      "  24.36499909 203.9990932  172.63528136 320.69731628  58.45643732\n",
      "  81.00428229  90.43392023 231.24676698 178.04038665 103.13622601\n",
      " 116.05062029  51.17669563]\n"
     ]
    },
    {
     "name": "stderr",
     "output_type": "stream",
     "text": [
      "11it [00:01,  6.85it/s]"
     ]
    },
    {
     "name": "stdout",
     "output_type": "stream",
     "text": [
      "CPU times: total: 2min 8s\n",
      "Wall time: 2min 55s\n"
     ]
    },
    {
     "name": "stderr",
     "output_type": "stream",
     "text": [
      "\n"
     ]
    }
   ],
   "source": [
    "%%time\n",
    "TI_approximated_eigenvalue = get_approximated_eigenvalue_of_hamiltonian(transverse_ising_4_qubits, \"full\")"
   ]
  },
  {
   "cell_type": "code",
   "execution_count": 72,
   "id": "2f902eaa",
   "metadata": {},
   "outputs": [
    {
     "name": "stdout",
     "output_type": "stream",
     "text": [
      "[(-1.9994855800333675+0j), (-1.9080638482930956+0j), (-1.8497137109270194+0j), (-1.7583827504312988+0j), (-0.5462047134056278+0j), (-0.47710503946487287+0j), (-0.31907768442618767+0j), (-0.2505930484227001+0j), (0.14239915569453057+0j), (0.20992649961322052+0j), (0.2757654176709828+0j), (0.3444947223438019+0j), (1.6816520928402046+0j), (1.6958488386667439+0j), (2.3718326043433704+0j), (2.3867070442313216+0j)]\n",
      "Exact Eigenvalue:\n",
      "(-1.9994855800333675+0j)\n",
      "\n",
      "Approximated Eigenvalue:\n",
      "-1.8673692559360267\n",
      "\n",
      "Approximation Error\n",
      "0.06607515723876144\n"
     ]
    },
    {
     "data": {
      "image/png": "[encoded data removed]",
      "text/plain": [
       "<Figure size 432x288 with 1 Axes>"
      ]
     },
     "metadata": {
      "needs_background": "light"
     },
     "output_type": "display_data"
    }
   ],
   "source": [
    "compare_exact_and_approximated_eigenvalue(transverse_ising_4_qubits, TI_approximated_eigenvalue)"
   ]
  },
  {
   "cell_type": "markdown",
   "id": "cbf062b7",
   "metadata": {},
   "source": [
    "##  Transverse Ising Model 3 qubits"
   ]
  },
  {
   "cell_type": "code",
   "execution_count": 73,
   "id": "ff246ff1",
   "metadata": {},
   "outputs": [],
   "source": [
    "QUBITS_NUM = 3 \n",
    "N = 2**QUBITS_NUM\n",
    "\n",
    "NUM_SHOTS = 1024\n",
    "NUM_ITERATIONS = 100\n",
    "\n",
    "CIRCUIT_DEPTH = 3\n",
    "PARAMS_NUM = 2*QUBITS_NUM*(CIRCUIT_DEPTH+1)"
   ]
  },
  {
   "cell_type": "code",
   "execution_count": 74,
   "id": "8dd976ef",
   "metadata": {},
   "outputs": [],
   "source": [
    "from qiskit.opflow import X, Z, I\n",
    "\n",
    "transverse_ising_3_qubits = 0.0 * (I^I^I) \\\n",
    "                    + 0.012764169333459807 * (X^I^I) \\\n",
    "                    + 0.7691573729160869 * (I^X^I) \\\n",
    "                    + 0.398094746026449 * (Z^Z^I) \\\n",
    "                    + 0.15250261906586637 * (I^I^X) \\\n",
    "                    + 0.2094051920882264 * (Z^I^Z) \\\n",
    "                    + 0.5131291860752999 * (I^Z^Z)"
   ]
  },
  {
   "cell_type": "markdown",
   "id": "e37dd875",
   "metadata": {},
   "source": [
    "#### Linear Entangelment"
   ]
  },
  {
   "cell_type": "code",
   "execution_count": 75,
   "id": "7ffc0e36",
   "metadata": {},
   "outputs": [
    {
     "name": "stderr",
     "output_type": "stream",
     "text": [
      "7it [00:00,  9.01it/s]\n",
      "7it [00:00,  8.17it/s]\n",
      "7it [00:00,  8.16it/s]\n",
      "7it [00:00,  9.39it/s]\n",
      "7it [00:00,  8.32it/s]\n",
      "7it [00:00,  7.87it/s]\n",
      "7it [00:00,  7.65it/s]\n",
      "7it [00:00,  8.09it/s]\n",
      "7it [00:00,  7.66it/s]\n",
      "7it [00:00,  8.52it/s]\n",
      "7it [00:00, 10.24it/s]\n",
      "7it [00:00,  8.48it/s]\n",
      "7it [00:00,  7.95it/s]\n",
      "7it [00:00,  8.45it/s]\n",
      "7it [00:00,  7.26it/s]\n",
      "7it [00:00,  8.40it/s]\n",
      "7it [00:00,  8.11it/s]\n",
      "7it [00:00,  7.99it/s]\n",
      "7it [00:00,  9.02it/s]\n",
      "7it [00:00,  8.85it/s]\n",
      "7it [00:00, 10.41it/s]\n",
      "7it [00:00,  9.08it/s]\n",
      "7it [00:00,  8.17it/s]\n",
      "7it [00:00,  8.24it/s]\n",
      "7it [00:00,  9.95it/s]\n",
      "7it [00:00,  9.27it/s]\n",
      "7it [00:00,  9.19it/s]\n",
      "7it [00:00,  9.08it/s]\n",
      "7it [00:00,  9.18it/s]\n",
      "7it [00:00,  8.54it/s]\n",
      "7it [00:00, 10.28it/s]\n",
      "7it [00:00,  9.06it/s]\n",
      "7it [00:00,  9.00it/s]\n",
      "7it [00:00,  8.26it/s]\n",
      "7it [00:01,  5.24it/s]\n",
      "7it [00:00,  7.63it/s]\n",
      "7it [00:00,  7.67it/s]\n",
      "7it [00:01,  6.33it/s]\n",
      "7it [00:00,  7.61it/s]\n",
      "7it [00:00,  8.90it/s]\n",
      "7it [00:00,  7.83it/s]\n",
      "7it [00:00,  7.80it/s]\n",
      "7it [00:00,  8.22it/s]\n",
      "7it [00:01,  5.89it/s]\n",
      "7it [00:00,  7.84it/s]\n",
      "7it [00:01,  6.17it/s]\n",
      "7it [00:00,  7.13it/s]\n",
      "7it [00:00,  7.40it/s]\n",
      "7it [00:00,  7.39it/s]\n",
      "7it [00:00,  7.82it/s]\n",
      "7it [00:00,  7.59it/s]\n",
      "7it [00:00,  8.65it/s]\n",
      "7it [00:00,  9.17it/s]\n",
      "7it [00:00,  8.06it/s]\n",
      "7it [00:00,  8.40it/s]\n",
      "7it [00:00,  8.30it/s]\n",
      "7it [00:00,  8.43it/s]\n",
      "7it [00:00,  8.41it/s]\n",
      "7it [00:00,  8.14it/s]\n",
      "7it [00:00,  8.50it/s]\n",
      "7it [00:00,  9.42it/s]\n",
      "7it [00:00,  7.92it/s]\n",
      "7it [00:00,  8.18it/s]\n",
      "7it [00:00,  8.32it/s]\n",
      "7it [00:00,  9.96it/s]\n",
      "7it [00:00,  7.93it/s]\n",
      "7it [00:00,  9.30it/s]\n",
      "7it [00:00,  8.90it/s]\n",
      "7it [00:00, 10.44it/s]\n",
      "7it [00:00,  7.73it/s]\n",
      "7it [00:00,  9.71it/s]\n",
      "7it [00:00,  7.37it/s]\n",
      "7it [00:00,  8.82it/s]\n",
      "7it [00:00,  7.96it/s]\n",
      "7it [00:00,  8.48it/s]\n",
      "7it [00:00,  8.41it/s]\n",
      "7it [00:00,  7.65it/s]\n",
      "7it [00:00,  8.79it/s]\n",
      "7it [00:00,  7.01it/s]\n",
      "7it [00:00,  9.15it/s]\n",
      "7it [00:00,  9.29it/s]\n",
      "7it [00:00,  9.21it/s]\n",
      "7it [00:00,  9.42it/s]\n",
      "7it [00:00,  8.01it/s]\n",
      "7it [00:00,  7.63it/s]\n",
      "7it [00:01,  6.93it/s]\n",
      "7it [00:00,  7.09it/s]\n",
      "7it [00:00,  8.11it/s]\n",
      "7it [00:00,  7.84it/s]\n",
      "7it [00:00,  9.00it/s]\n",
      "7it [00:00,  7.66it/s]\n",
      "7it [00:00,  8.16it/s]\n",
      "7it [00:00,  8.82it/s]\n",
      "7it [00:00,  8.71it/s]\n",
      "7it [00:00,  8.84it/s]\n",
      "7it [00:00,  8.79it/s]\n",
      "7it [00:00,  7.61it/s]\n",
      "7it [00:00,  8.98it/s]\n",
      "7it [00:00,  9.59it/s]\n",
      "7it [00:00, 10.30it/s]\n"
     ]
    },
    {
     "name": "stdout",
     "output_type": "stream",
     "text": [
      "[328.42563171 340.82560197 149.50785515 247.20059177 199.19419955\n",
      "  85.1750821  130.356183   337.03802371  30.83638439 322.75121352\n",
      " 305.26652266 155.51690664  54.62569827 250.91302713  32.16150845\n",
      " 321.73226298 294.32968456 227.14114451 177.02260325 303.82215351\n",
      " 284.82359262 354.78928399 274.10173468  23.49394645]\n"
     ]
    },
    {
     "name": "stderr",
     "output_type": "stream",
     "text": [
      "7it [00:00,  9.03it/s]"
     ]
    },
    {
     "name": "stdout",
     "output_type": "stream",
     "text": [
      "CPU times: total: 1min 3s\n",
      "Wall time: 1min 27s\n"
     ]
    },
    {
     "name": "stderr",
     "output_type": "stream",
     "text": [
      "\n"
     ]
    }
   ],
   "source": [
    "%%time\n",
    "TI_approximated_eigenvalue = get_approximated_eigenvalue_of_hamiltonian(transverse_ising_3_qubits, \"linear\")"
   ]
  },
  {
   "cell_type": "code",
   "execution_count": 76,
   "id": "400315d0",
   "metadata": {},
   "outputs": [
    {
     "name": "stdout",
     "output_type": "stream",
     "text": [
      "[(-1.1327102067329746+0j), (-1.1089522226243493+0j), (-0.8673630797839832+0j), (-0.8433012058342556+0j), (0.5479228225821259+0j), (0.5543478038595204+0j), (1.4216636087077101+0j), (1.4283924798262082+0j)]\n",
      "Exact Eigenvalue:\n",
      "(-1.1327102067329746+0j)\n",
      "\n",
      "Approximated Eigenvalue:\n",
      "-0.9022357673125379\n",
      "\n",
      "Approximation Error\n",
      "0.20347167179254427\n"
     ]
    },
    {
     "data": {
      "image/png": "[encoded data removed]",
      "text/plain": [
       "<Figure size 432x288 with 1 Axes>"
      ]
     },
     "metadata": {
      "needs_background": "light"
     },
     "output_type": "display_data"
    }
   ],
   "source": [
    "compare_exact_and_approximated_eigenvalue(transverse_ising_3_qubits, TI_approximated_eigenvalue)"
   ]
  },
  {
   "cell_type": "markdown",
   "id": "91d5d284",
   "metadata": {},
   "source": [
    "#### Full Entangelment"
   ]
  },
  {
   "cell_type": "code",
   "execution_count": 77,
   "id": "d43a0eb0",
   "metadata": {},
   "outputs": [
    {
     "name": "stderr",
     "output_type": "stream",
     "text": [
      "7it [00:00,  8.92it/s]\n",
      "7it [00:00,  9.00it/s]\n",
      "7it [00:00,  8.52it/s]\n",
      "7it [00:00,  8.86it/s]\n",
      "7it [00:00,  9.79it/s]\n",
      "7it [00:00,  9.28it/s]\n",
      "7it [00:00,  9.41it/s]\n",
      "7it [00:00,  7.79it/s]\n",
      "7it [00:00,  9.11it/s]\n",
      "7it [00:00,  7.97it/s]\n",
      "7it [00:00,  7.25it/s]\n",
      "7it [00:00,  7.68it/s]\n",
      "7it [00:00,  7.56it/s]\n",
      "7it [00:01,  5.49it/s]\n",
      "7it [00:00,  8.17it/s]\n",
      "7it [00:00,  9.25it/s]\n",
      "7it [00:00,  7.28it/s]\n",
      "7it [00:00,  7.32it/s]\n",
      "7it [00:00,  7.31it/s]\n",
      "7it [00:00,  8.44it/s]\n",
      "7it [00:00,  7.82it/s]\n",
      "7it [00:00,  8.49it/s]\n",
      "7it [00:00,  7.97it/s]\n",
      "7it [00:00,  7.62it/s]\n",
      "7it [00:00,  8.97it/s]\n",
      "7it [00:00,  8.98it/s]\n",
      "7it [00:00,  7.88it/s]\n",
      "7it [00:00, 10.16it/s]\n",
      "7it [00:00,  8.78it/s]\n",
      "7it [00:00,  9.07it/s]\n",
      "7it [00:00,  8.94it/s]\n",
      "7it [00:00,  8.51it/s]\n",
      "7it [00:00, 10.16it/s]\n",
      "7it [00:00,  7.74it/s]\n",
      "7it [00:00,  8.67it/s]\n",
      "7it [00:00,  7.91it/s]\n",
      "7it [00:00,  8.83it/s]\n",
      "7it [00:00,  8.54it/s]\n",
      "7it [00:00,  9.05it/s]\n",
      "7it [00:00,  7.85it/s]\n",
      "7it [00:00,  7.55it/s]\n",
      "7it [00:00,  7.94it/s]\n",
      "7it [00:01,  6.66it/s]\n",
      "7it [00:01,  6.88it/s]\n",
      "7it [00:00,  7.66it/s]\n",
      "7it [00:01,  6.04it/s]\n",
      "7it [00:00,  7.38it/s]\n",
      "7it [00:01,  6.35it/s]\n",
      "7it [00:00,  7.05it/s]\n",
      "7it [00:00,  8.14it/s]\n",
      "7it [00:00,  7.53it/s]\n",
      "7it [00:00,  7.63it/s]\n",
      "7it [00:00,  7.47it/s]\n",
      "7it [00:00,  7.56it/s]\n",
      "7it [00:00,  7.54it/s]\n",
      "7it [00:01,  6.17it/s]\n",
      "7it [00:01,  6.67it/s]\n",
      "7it [00:00,  7.55it/s]\n",
      "7it [00:00,  9.19it/s]\n",
      "7it [00:00,  8.76it/s]\n",
      "7it [00:00,  7.43it/s]\n",
      "7it [00:01,  5.59it/s]\n",
      "7it [00:00,  7.12it/s]\n",
      "7it [00:00,  7.67it/s]\n",
      "7it [00:01,  6.41it/s]\n",
      "7it [00:00,  7.78it/s]\n",
      "7it [00:00,  8.90it/s]\n",
      "7it [00:00,  9.11it/s]\n",
      "7it [00:00,  9.18it/s]\n",
      "7it [00:00,  8.33it/s]\n",
      "7it [00:01,  6.39it/s]\n",
      "7it [00:00,  8.24it/s]\n",
      "7it [00:00,  8.12it/s]\n",
      "7it [00:00,  7.70it/s]\n",
      "7it [00:00,  8.16it/s]\n",
      "7it [00:01,  5.37it/s]\n",
      "7it [00:00,  8.24it/s]\n",
      "7it [00:00,  8.88it/s]\n",
      "7it [00:00,  8.45it/s]\n",
      "7it [00:00,  9.07it/s]\n",
      "7it [00:00,  8.46it/s]\n",
      "7it [00:00,  9.07it/s]\n",
      "7it [00:00,  9.52it/s]\n",
      "7it [00:00,  7.77it/s]\n",
      "7it [00:01,  6.65it/s]\n",
      "7it [00:00,  7.50it/s]\n",
      "7it [00:00,  7.86it/s]\n",
      "7it [00:01,  4.88it/s]\n",
      "7it [00:00,  7.61it/s]\n",
      "7it [00:00,  7.98it/s]\n",
      "7it [00:01,  6.16it/s]\n",
      "7it [00:00,  8.26it/s]\n",
      "7it [00:00,  9.32it/s]\n",
      "7it [00:00,  8.17it/s]\n",
      "7it [00:01,  5.54it/s]\n",
      "7it [00:01,  6.98it/s]\n",
      "7it [00:00,  9.43it/s]\n",
      "7it [00:00,  8.71it/s]\n",
      "7it [00:01,  6.71it/s]\n",
      "7it [00:00,  7.87it/s]\n"
     ]
    },
    {
     "name": "stdout",
     "output_type": "stream",
     "text": [
      "[229.73270244 261.34498285 252.87563549 322.93397937  93.64053935\n",
      " 320.7573359   30.60256749 163.19467331 208.70982654 215.99017357\n",
      "  95.54820949 313.25089727  46.83327533 120.10045141 150.85097496\n",
      " 182.79999196 231.75890993 357.48763881  53.88520293 281.85502872\n",
      " 313.91501733 347.39195395 317.53895761 314.93315433]\n"
     ]
    },
    {
     "name": "stderr",
     "output_type": "stream",
     "text": [
      "7it [00:00,  7.85it/s]"
     ]
    },
    {
     "name": "stdout",
     "output_type": "stream",
     "text": [
      "CPU times: total: 1min 4s\n",
      "Wall time: 1min 32s\n"
     ]
    },
    {
     "name": "stderr",
     "output_type": "stream",
     "text": [
      "\n"
     ]
    }
   ],
   "source": [
    "%%time\n",
    "TI_approximated_eigenvalue = get_approximated_eigenvalue_of_hamiltonian(transverse_ising_3_qubits, \"full\")"
   ]
  },
  {
   "cell_type": "code",
   "execution_count": 78,
   "id": "39bdc045",
   "metadata": {},
   "outputs": [
    {
     "name": "stdout",
     "output_type": "stream",
     "text": [
      "[(-1.1327102067329746+0j), (-1.1089522226243493+0j), (-0.8673630797839832+0j), (-0.8433012058342556+0j), (0.5479228225821259+0j), (0.5543478038595204+0j), (1.4216636087077101+0j), (1.4283924798262082+0j)]\n",
      "Exact Eigenvalue:\n",
      "(-1.1327102067329746+0j)\n",
      "\n",
      "Approximated Eigenvalue:\n",
      "-1.0150086320321505\n",
      "\n",
      "Approximation Error\n",
      "0.10391146296836636\n"
     ]
    },
    {
     "data": {
      "image/png": "[encoded data removed]",
      "text/plain": [
       "<Figure size 432x288 with 1 Axes>"
      ]
     },
     "metadata": {
      "needs_background": "light"
     },
     "output_type": "display_data"
    }
   ],
   "source": [
    "compare_exact_and_approximated_eigenvalue(transverse_ising_3_qubits, TI_approximated_eigenvalue)"
   ]
  },
  {
   "cell_type": "markdown",
   "id": "09be5f46",
   "metadata": {},
   "source": [
    "##  Transverse Ising Model 2 qubits"
   ]
  },
  {
   "cell_type": "code",
   "execution_count": 79,
   "id": "d8a0c4e6",
   "metadata": {},
   "outputs": [],
   "source": [
    "QUBITS_NUM = 2 \n",
    "N = 2**QUBITS_NUM\n",
    "\n",
    "NUM_SHOTS = 1024\n",
    "NUM_ITERATIONS = 100\n",
    "\n",
    "CIRCUIT_DEPTH = 3\n",
    "PARAMS_NUM = 2*QUBITS_NUM*(CIRCUIT_DEPTH+1)"
   ]
  },
  {
   "cell_type": "code",
   "execution_count": 80,
   "id": "58136107",
   "metadata": {},
   "outputs": [],
   "source": [
    "transverse_ising_2_qubits = 0.13755727363376802 * (I^X) \\\n",
    "                            + 0.43305656297810435 * (X^I) \\\n",
    "                            + 0.8538597608997253 * (Z^Z)"
   ]
  },
  {
   "cell_type": "markdown",
   "id": "6428a32d",
   "metadata": {},
   "source": [
    "#### Linear Entangelment"
   ]
  },
  {
   "cell_type": "code",
   "execution_count": 81,
   "id": "d9154eaa",
   "metadata": {},
   "outputs": [
    {
     "name": "stderr",
     "output_type": "stream",
     "text": [
      "3it [00:00,  8.42it/s]\n",
      "3it [00:00,  7.56it/s]\n",
      "3it [00:00, 10.64it/s]\n",
      "3it [00:00,  8.00it/s]\n",
      "3it [00:00,  9.49it/s]\n",
      "3it [00:00,  7.92it/s]\n",
      "3it [00:00,  8.90it/s]\n",
      "3it [00:00,  7.68it/s]\n",
      "3it [00:00,  8.63it/s]\n",
      "3it [00:00,  5.83it/s]\n",
      "3it [00:00, 10.66it/s]\n",
      "3it [00:00, 11.13it/s]\n",
      "3it [00:00, 10.68it/s]\n",
      "3it [00:00, 12.74it/s]\n",
      "3it [00:00,  8.81it/s]\n",
      "3it [00:00, 11.09it/s]\n",
      "3it [00:00, 12.00it/s]\n",
      "3it [00:00,  7.52it/s]\n",
      "3it [00:00, 15.19it/s]\n",
      "3it [00:00, 10.42it/s]\n",
      "3it [00:00,  8.64it/s]\n",
      "3it [00:00, 13.76it/s]\n",
      "3it [00:00, 12.88it/s]\n",
      "3it [00:00,  6.73it/s]\n",
      "3it [00:00, 11.49it/s]\n",
      "3it [00:00,  6.57it/s]\n",
      "3it [00:00, 10.05it/s]\n",
      "3it [00:00,  6.36it/s]\n",
      "3it [00:00, 11.29it/s]\n",
      "3it [00:00,  7.02it/s]\n",
      "3it [00:00,  6.81it/s]\n",
      "3it [00:00,  8.88it/s]\n",
      "3it [00:00, 13.27it/s]\n",
      "3it [00:00,  8.70it/s]\n",
      "3it [00:00,  9.40it/s]\n",
      "3it [00:00,  8.72it/s]\n",
      "3it [00:00, 10.30it/s]\n",
      "3it [00:00, 11.56it/s]\n",
      "3it [00:00,  8.12it/s]\n",
      "3it [00:00,  5.59it/s]\n",
      "3it [00:00, 11.26it/s]\n",
      "3it [00:00, 13.42it/s]\n",
      "3it [00:00, 12.20it/s]\n",
      "3it [00:00, 13.40it/s]\n",
      "3it [00:00,  9.95it/s]\n",
      "3it [00:00, 12.53it/s]\n",
      "3it [00:00,  8.26it/s]\n",
      "3it [00:00, 10.80it/s]\n",
      "3it [00:00,  6.71it/s]\n",
      "3it [00:00, 11.32it/s]\n",
      "3it [00:00,  8.78it/s]\n",
      "3it [00:00, 12.69it/s]\n",
      "3it [00:00, 11.81it/s]\n",
      "3it [00:00,  8.88it/s]\n",
      "3it [00:00, 12.58it/s]\n",
      "3it [00:00,  8.20it/s]\n",
      "3it [00:00,  9.53it/s]\n",
      "3it [00:00, 11.11it/s]\n",
      "3it [00:00,  9.15it/s]\n",
      "3it [00:00, 12.61it/s]\n",
      "3it [00:00,  9.59it/s]\n",
      "3it [00:00, 12.45it/s]\n",
      "3it [00:00, 11.13it/s]\n",
      "3it [00:00, 11.07it/s]\n",
      "3it [00:00, 14.35it/s]\n",
      "3it [00:00,  7.63it/s]\n",
      "3it [00:00,  9.13it/s]\n",
      "3it [00:00, 10.08it/s]\n",
      "3it [00:00,  8.91it/s]\n",
      "3it [00:00, 11.29it/s]\n",
      "3it [00:00,  8.81it/s]\n",
      "3it [00:00, 10.00it/s]\n",
      "3it [00:00, 13.20it/s]\n",
      "3it [00:00,  9.07it/s]\n",
      "3it [00:00, 11.98it/s]\n",
      "3it [00:00,  8.18it/s]\n",
      "3it [00:00, 13.39it/s]\n",
      "3it [00:00,  9.45it/s]\n",
      "3it [00:00, 12.00it/s]\n",
      "3it [00:00, 10.12it/s]\n",
      "3it [00:00, 11.06it/s]\n",
      "3it [00:00, 12.32it/s]\n",
      "3it [00:00,  8.44it/s]\n",
      "3it [00:00,  9.58it/s]\n",
      "3it [00:00, 12.55it/s]\n",
      "3it [00:00,  6.69it/s]\n",
      "3it [00:00, 11.72it/s]\n",
      "3it [00:00,  9.93it/s]\n",
      "3it [00:00, 10.53it/s]\n",
      "3it [00:00, 12.32it/s]\n",
      "3it [00:00,  7.40it/s]\n",
      "3it [00:00, 11.58it/s]\n",
      "3it [00:00,  9.67it/s]\n",
      "3it [00:00,  8.35it/s]\n",
      "3it [00:00, 10.67it/s]\n",
      "3it [00:00, 11.29it/s]\n",
      "3it [00:00, 13.36it/s]\n",
      "3it [00:00, 11.47it/s]\n",
      "3it [00:00, 10.09it/s]\n",
      "3it [00:00, 11.61it/s]\n"
     ]
    },
    {
     "name": "stdout",
     "output_type": "stream",
     "text": [
      "[197.50402063 130.65062361  77.38803707 272.90944373 316.07411946\n",
      " 335.33041411 332.51781387 192.50744746 222.35943449  29.4184496\n",
      " 175.08396082 226.13394117 334.50176147 143.4880231  149.27817432\n",
      " 251.98202643]\n"
     ]
    },
    {
     "name": "stderr",
     "output_type": "stream",
     "text": [
      "3it [00:00, 12.30it/s]"
     ]
    },
    {
     "name": "stdout",
     "output_type": "stream",
     "text": [
      "CPU times: total: 20.1 s\n",
      "Wall time: 33.2 s\n"
     ]
    },
    {
     "name": "stderr",
     "output_type": "stream",
     "text": [
      "\n"
     ]
    }
   ],
   "source": [
    "%%time\n",
    "TI_approximated_eigenvalue = get_approximated_eigenvalue_of_hamiltonian(transverse_ising_2_qubits, \"linear\")"
   ]
  },
  {
   "cell_type": "code",
   "execution_count": 82,
   "id": "88b56e14",
   "metadata": {},
   "outputs": [
    {
     "name": "stdout",
     "output_type": "stream",
     "text": [
      "[(-1.0269745088446245+0j), (-0.9035465241407018+0j), (0.9035465241407012+0j), (1.0269745088446243+0j)]\n",
      "Exact Eigenvalue:\n",
      "(-1.0269745088446245+0j)\n",
      "\n",
      "Approximated Eigenvalue:\n",
      "-0.8890640610143257\n",
      "\n",
      "Approximation Error\n",
      "0.13428809249165494\n"
     ]
    },
    {
     "data": {
      "image/png": "[encoded data removed]",
      "text/plain": [
       "<Figure size 432x288 with 1 Axes>"
      ]
     },
     "metadata": {
      "needs_background": "light"
     },
     "output_type": "display_data"
    }
   ],
   "source": [
    "compare_exact_and_approximated_eigenvalue(transverse_ising_2_qubits, TI_approximated_eigenvalue)"
   ]
  },
  {
   "cell_type": "markdown",
   "id": "49bb4028",
   "metadata": {},
   "source": [
    "#### Full Entangelment"
   ]
  },
  {
   "cell_type": "code",
   "execution_count": 83,
   "id": "c06487da",
   "metadata": {},
   "outputs": [
    {
     "name": "stderr",
     "output_type": "stream",
     "text": [
      "3it [00:00, 11.83it/s]\n",
      "3it [00:00,  8.57it/s]\n",
      "3it [00:00, 12.58it/s]\n",
      "3it [00:00, 10.96it/s]\n",
      "3it [00:00, 13.67it/s]\n",
      "3it [00:00, 13.27it/s]\n",
      "3it [00:00,  9.23it/s]\n",
      "3it [00:00, 11.25it/s]\n",
      "3it [00:00, 13.52it/s]\n",
      "3it [00:00, 10.63it/s]\n",
      "3it [00:00, 11.75it/s]\n",
      "3it [00:00, 16.00it/s]\n",
      "3it [00:00,  7.96it/s]\n",
      "3it [00:00, 10.41it/s]\n",
      "3it [00:00, 13.10it/s]\n",
      "3it [00:00,  6.62it/s]\n",
      "3it [00:00,  8.66it/s]\n",
      "3it [00:00,  6.05it/s]\n",
      "3it [00:00, 12.41it/s]\n",
      "3it [00:00,  9.10it/s]\n",
      "3it [00:00, 12.03it/s]\n",
      "3it [00:00, 10.97it/s]\n",
      "3it [00:00,  8.37it/s]\n",
      "3it [00:00,  9.78it/s]\n",
      "3it [00:00, 13.78it/s]\n",
      "3it [00:00,  8.36it/s]\n",
      "3it [00:00, 12.07it/s]\n",
      "3it [00:00,  8.85it/s]\n",
      "3it [00:00, 12.40it/s]\n",
      "3it [00:00,  8.42it/s]\n",
      "3it [00:00, 11.41it/s]\n",
      "3it [00:00, 11.07it/s]\n",
      "3it [00:00,  7.01it/s]\n",
      "3it [00:00, 10.38it/s]\n",
      "3it [00:00,  9.73it/s]\n",
      "3it [00:00,  8.82it/s]\n",
      "3it [00:00, 11.83it/s]\n",
      "3it [00:00,  7.94it/s]\n",
      "3it [00:00,  9.13it/s]\n",
      "3it [00:00,  8.74it/s]\n",
      "3it [00:00, 10.37it/s]\n",
      "3it [00:00, 12.38it/s]\n",
      "3it [00:00,  9.56it/s]\n",
      "3it [00:00, 12.00it/s]\n",
      "3it [00:00,  9.14it/s]\n",
      "3it [00:00,  9.37it/s]\n",
      "3it [00:00,  6.34it/s]\n",
      "3it [00:00,  8.15it/s]\n",
      "3it [00:00, 12.87it/s]\n",
      "3it [00:00, 11.68it/s]\n",
      "3it [00:00, 10.70it/s]\n",
      "3it [00:00, 11.79it/s]\n",
      "3it [00:00,  8.23it/s]\n",
      "3it [00:00, 11.61it/s]\n",
      "3it [00:00,  9.75it/s]\n",
      "3it [00:00, 10.46it/s]\n",
      "3it [00:00, 10.93it/s]\n",
      "3it [00:00, 13.71it/s]\n",
      "3it [00:00, 16.00it/s]\n",
      "3it [00:00,  7.96it/s]\n",
      "3it [00:00, 11.66it/s]\n",
      "3it [00:00, 11.03it/s]\n",
      "3it [00:00,  8.73it/s]\n",
      "3it [00:00, 13.13it/s]\n",
      "3it [00:00, 13.93it/s]\n",
      "3it [00:00,  6.95it/s]\n",
      "3it [00:00, 12.69it/s]\n",
      "3it [00:00,  9.50it/s]\n",
      "3it [00:00,  8.16it/s]\n",
      "3it [00:00, 10.26it/s]\n",
      "3it [00:00, 11.38it/s]\n",
      "3it [00:00, 13.42it/s]\n",
      "3it [00:00,  9.07it/s]\n",
      "3it [00:00,  9.75it/s]\n",
      "3it [00:00, 13.45it/s]\n",
      "3it [00:00,  9.61it/s]\n",
      "3it [00:00, 11.46it/s]\n",
      "3it [00:00, 12.36it/s]\n",
      "3it [00:00, 10.85it/s]\n",
      "3it [00:00, 13.70it/s]\n",
      "3it [00:00,  8.64it/s]\n",
      "3it [00:00, 10.30it/s]\n",
      "3it [00:00, 13.30it/s]\n",
      "3it [00:00,  9.03it/s]\n",
      "3it [00:00, 10.67it/s]\n",
      "3it [00:00,  8.37it/s]\n",
      "3it [00:00, 12.37it/s]\n",
      "3it [00:00, 12.60it/s]\n",
      "3it [00:00, 12.00it/s]\n",
      "3it [00:00, 12.68it/s]\n",
      "3it [00:00,  9.17it/s]\n",
      "3it [00:00, 10.83it/s]\n",
      "3it [00:00,  9.00it/s]\n",
      "3it [00:00, 10.16it/s]\n",
      "3it [00:00,  9.68it/s]\n",
      "3it [00:00,  6.07it/s]\n",
      "3it [00:00,  7.45it/s]\n",
      "3it [00:00,  7.45it/s]\n",
      "3it [00:00,  8.77it/s]\n",
      "3it [00:00,  7.93it/s]\n"
     ]
    },
    {
     "name": "stdout",
     "output_type": "stream",
     "text": [
      "[136.85284625 259.51484872 189.47940471 294.04917011 181.61117296\n",
      " 280.02332587 103.05849398  74.88360095 302.94893952 156.0665554\n",
      "  56.95375934 127.90071385 257.70628598 227.74496062 155.16322858\n",
      " 222.89654612]\n"
     ]
    },
    {
     "name": "stderr",
     "output_type": "stream",
     "text": [
      "3it [00:00, 12.53it/s]"
     ]
    },
    {
     "name": "stdout",
     "output_type": "stream",
     "text": [
      "CPU times: total: 19.6 s\n",
      "Wall time: 31.6 s\n"
     ]
    },
    {
     "name": "stderr",
     "output_type": "stream",
     "text": [
      "\n"
     ]
    }
   ],
   "source": [
    "%%time\n",
    "TI_approximated_eigenvalue = get_approximated_eigenvalue_of_hamiltonian(transverse_ising_2_qubits, \"full\")"
   ]
  },
  {
   "cell_type": "code",
   "execution_count": 84,
   "id": "65ad38bc",
   "metadata": {},
   "outputs": [
    {
     "name": "stdout",
     "output_type": "stream",
     "text": [
      "[(-1.0269745088446245+0j), (-0.9035465241407018+0j), (0.9035465241407012+0j), (1.0269745088446243+0j)]\n",
      "Exact Eigenvalue:\n",
      "(-1.0269745088446245+0j)\n",
      "\n",
      "Approximated Eigenvalue:\n",
      "-1.1364490640701161\n",
      "\n",
      "Approximation Error\n",
      "0.10659909694219542\n"
     ]
    },
    {
     "data": {
      "image/png": "[encoded data removed]",
      "text/plain": [
       "<Figure size 432x288 with 1 Axes>"
      ]
     },
     "metadata": {
      "needs_background": "light"
     },
     "output_type": "display_data"
    }
   ],
   "source": [
    "compare_exact_and_approximated_eigenvalue(transverse_ising_2_qubits, TI_approximated_eigenvalue)"
   ]
  },
  {
   "cell_type": "markdown",
   "id": "e9cf7ccb",
   "metadata": {},
   "source": [
    "## H2 Molecule 2 qubits"
   ]
  },
  {
   "cell_type": "code",
   "execution_count": 85,
   "id": "2909cd68",
   "metadata": {},
   "outputs": [],
   "source": [
    "from qiskit.opflow import X, Z, I\n",
    "\n",
    "H2_molecule_Hamiltonian_2_qubits = -0.5053051899926562*(I^I) + \\\n",
    "                            -0.3277380754984016*(Z^I) + \\\n",
    "                            0.15567463610622564*(Z^Z) + \\\n",
    "                            -0.3277380754984016*(I^Z)"
   ]
  },
  {
   "cell_type": "markdown",
   "id": "a3af5292",
   "metadata": {},
   "source": [
    "#### Linear Entangelment"
   ]
  },
  {
   "cell_type": "code",
   "execution_count": 86,
   "id": "6fe25ff3",
   "metadata": {},
   "outputs": [
    {
     "name": "stderr",
     "output_type": "stream",
     "text": [
      "4it [00:00, 10.09it/s]\n",
      "4it [00:00,  9.56it/s]\n",
      "4it [00:00, 10.51it/s]\n",
      "4it [00:00,  8.63it/s]\n",
      "4it [00:00,  8.55it/s]\n",
      "4it [00:00,  8.91it/s]\n",
      "4it [00:00,  7.53it/s]\n",
      "4it [00:00, 10.90it/s]\n",
      "4it [00:00,  8.55it/s]\n",
      "4it [00:00,  8.14it/s]\n",
      "4it [00:00,  9.83it/s]\n",
      "4it [00:00, 10.65it/s]\n",
      "4it [00:00, 10.41it/s]\n",
      "4it [00:00,  9.87it/s]\n",
      "4it [00:00, 10.61it/s]\n",
      "4it [00:00, 14.16it/s]\n",
      "4it [00:00,  9.39it/s]\n",
      "4it [00:00, 12.80it/s]\n",
      "4it [00:00,  8.75it/s]\n",
      "4it [00:00,  9.99it/s]\n",
      "4it [00:00, 10.79it/s]\n",
      "4it [00:00, 11.87it/s]\n",
      "4it [00:00, 10.02it/s]\n",
      "4it [00:00, 11.24it/s]\n",
      "4it [00:00, 11.20it/s]\n",
      "4it [00:00,  9.07it/s]\n",
      "4it [00:00, 10.71it/s]\n",
      "4it [00:00, 11.26it/s]\n",
      "4it [00:00, 12.46it/s]\n",
      "4it [00:00, 10.80it/s]\n",
      "4it [00:00, 10.41it/s]\n",
      "4it [00:00, 10.59it/s]\n",
      "4it [00:00, 10.91it/s]\n",
      "4it [00:00,  9.95it/s]\n",
      "4it [00:00, 12.76it/s]\n",
      "4it [00:00,  9.68it/s]\n",
      "4it [00:00,  8.39it/s]\n",
      "4it [00:00, 12.16it/s]\n",
      "4it [00:00, 11.94it/s]\n",
      "4it [00:00,  9.24it/s]\n",
      "4it [00:00,  8.80it/s]\n",
      "4it [00:00, 12.19it/s]\n",
      "4it [00:00,  9.47it/s]\n",
      "4it [00:00, 11.26it/s]\n",
      "4it [00:00, 12.55it/s]\n",
      "4it [00:00,  9.60it/s]\n",
      "4it [00:00, 10.45it/s]\n",
      "4it [00:00, 11.43it/s]\n",
      "4it [00:00,  8.93it/s]\n",
      "4it [00:00,  7.78it/s]\n",
      "4it [00:00, 10.92it/s]\n",
      "4it [00:00,  9.67it/s]\n",
      "4it [00:00, 10.39it/s]\n",
      "4it [00:00,  9.64it/s]\n",
      "4it [00:00, 10.95it/s]\n",
      "4it [00:00, 11.64it/s]\n",
      "4it [00:00,  8.92it/s]\n",
      "4it [00:00,  9.68it/s]\n",
      "4it [00:00,  9.61it/s]\n",
      "4it [00:00,  8.27it/s]\n",
      "4it [00:00,  9.75it/s]\n",
      "4it [00:00,  8.42it/s]\n",
      "4it [00:00,  6.92it/s]\n",
      "4it [00:00,  9.03it/s]\n",
      "4it [00:00, 11.56it/s]\n",
      "4it [00:00,  7.47it/s]\n",
      "4it [00:00,  9.27it/s]\n",
      "4it [00:00,  8.63it/s]\n",
      "4it [00:00, 12.10it/s]\n",
      "4it [00:00,  8.94it/s]\n",
      "4it [00:00, 10.41it/s]\n",
      "4it [00:00,  9.22it/s]\n",
      "4it [00:00,  7.76it/s]\n",
      "4it [00:00,  8.47it/s]\n",
      "4it [00:00, 10.15it/s]\n",
      "4it [00:00,  9.54it/s]\n",
      "4it [00:00, 11.30it/s]\n",
      "4it [00:00,  8.78it/s]\n",
      "4it [00:00, 11.16it/s]\n",
      "4it [00:00, 10.46it/s]\n",
      "4it [00:00, 12.78it/s]\n",
      "4it [00:00,  9.44it/s]\n",
      "4it [00:00, 12.05it/s]\n",
      "4it [00:00,  8.33it/s]\n",
      "4it [00:00, 11.61it/s]\n",
      "4it [00:00,  8.63it/s]\n",
      "4it [00:00, 11.01it/s]\n",
      "4it [00:00,  5.81it/s]\n",
      "4it [00:00,  5.16it/s]\n",
      "4it [00:00,  6.54it/s]\n",
      "4it [00:00,  7.47it/s]\n",
      "4it [00:00,  6.90it/s]\n",
      "4it [00:00,  9.56it/s]\n",
      "4it [00:00,  8.69it/s]\n",
      "4it [00:00,  9.01it/s]\n",
      "4it [00:00,  7.93it/s]\n",
      "4it [00:00, 10.80it/s]\n",
      "4it [00:00, 10.77it/s]\n",
      "4it [00:00,  7.89it/s]\n",
      "4it [00:00, 10.23it/s]\n"
     ]
    },
    {
     "name": "stdout",
     "output_type": "stream",
     "text": [
      "[ 26.78505374   5.25018302 290.0371752  121.28870131 345.32987212\n",
      " 244.02032157 254.61633068 107.39143118 278.44231133 305.844622\n",
      "  83.94695803  36.65370495  77.82713879   1.03794262 240.73134575\n",
      " 342.07819503]\n"
     ]
    },
    {
     "name": "stderr",
     "output_type": "stream",
     "text": [
      "4it [00:00,  6.91it/s]"
     ]
    },
    {
     "name": "stdout",
     "output_type": "stream",
     "text": [
      "CPU times: total: 25.7 s\n",
      "Wall time: 44.3 s\n"
     ]
    },
    {
     "name": "stderr",
     "output_type": "stream",
     "text": [
      "\n"
     ]
    }
   ],
   "source": [
    "%%time\n",
    "H2_approximated_eigenvalue = get_approximated_eigenvalue_of_hamiltonian(H2_molecule_Hamiltonian_2_qubits, \"linear\")"
   ]
  },
  {
   "cell_type": "code",
   "execution_count": 87,
   "id": "692be58b",
   "metadata": {},
   "outputs": [
    {
     "name": "stdout",
     "output_type": "stream",
     "text": [
      "[(-1.0051067048832336+0j), (-0.6609798260988818+0j), (-0.6609798260988818+0j), (0.30584559711037274+0j)]\n",
      "Exact Eigenvalue:\n",
      "(-1.0051067048832336+0j)\n",
      "\n",
      "Approximated Eigenvalue:\n",
      "-0.9789099570788657\n",
      "\n",
      "Approximation Error\n",
      "0.026063648443586124\n"
     ]
    },
    {
     "data": {
      "image/png": "[encoded data removed]",
      "text/plain": [
       "<Figure size 432x288 with 1 Axes>"
      ]
     },
     "metadata": {
      "needs_background": "light"
     },
     "output_type": "display_data"
    }
   ],
   "source": [
    "compare_exact_and_approximated_eigenvalue(H2_molecule_Hamiltonian_2_qubits, H2_approximated_eigenvalue)"
   ]
  },
  {
   "cell_type": "markdown",
   "id": "46aa3a97",
   "metadata": {},
   "source": [
    "#### Full Entangelment"
   ]
  },
  {
   "cell_type": "code",
   "execution_count": 88,
   "id": "c027435b",
   "metadata": {},
   "outputs": [
    {
     "name": "stderr",
     "output_type": "stream",
     "text": [
      "4it [00:00,  7.73it/s]\n",
      "4it [00:00,  8.01it/s]\n",
      "4it [00:00, 10.30it/s]\n",
      "4it [00:00, 10.32it/s]\n",
      "4it [00:00,  7.40it/s]\n",
      "4it [00:00,  9.51it/s]\n",
      "4it [00:00, 11.19it/s]\n",
      "4it [00:00,  6.91it/s]\n",
      "4it [00:00,  8.16it/s]\n",
      "4it [00:00,  8.12it/s]\n",
      "4it [00:00,  9.35it/s]\n",
      "4it [00:00,  8.51it/s]\n",
      "4it [00:00, 11.46it/s]\n",
      "4it [00:00,  7.50it/s]\n",
      "4it [00:00, 11.64it/s]\n",
      "4it [00:00, 10.24it/s]\n",
      "4it [00:00,  8.47it/s]\n",
      "4it [00:00,  9.70it/s]\n",
      "4it [00:00, 12.95it/s]\n",
      "4it [00:00, 11.34it/s]\n",
      "4it [00:00, 10.53it/s]\n",
      "4it [00:00, 10.06it/s]\n",
      "4it [00:00, 13.89it/s]\n",
      "4it [00:00,  8.20it/s]\n",
      "4it [00:00, 11.23it/s]\n",
      "4it [00:00, 10.81it/s]\n",
      "4it [00:00,  7.97it/s]\n",
      "4it [00:00, 11.05it/s]\n",
      "4it [00:00,  8.32it/s]\n",
      "4it [00:00, 12.24it/s]\n",
      "4it [00:00,  7.55it/s]\n",
      "4it [00:00, 11.02it/s]\n",
      "4it [00:00, 12.01it/s]\n",
      "4it [00:00, 10.03it/s]\n",
      "4it [00:00, 10.23it/s]\n",
      "4it [00:00, 10.77it/s]\n",
      "4it [00:00, 11.32it/s]\n",
      "4it [00:00,  9.86it/s]\n",
      "4it [00:00, 10.32it/s]\n",
      "4it [00:00, 12.49it/s]\n",
      "4it [00:00, 10.17it/s]\n",
      "4it [00:00,  8.74it/s]\n",
      "4it [00:00, 10.84it/s]\n",
      "4it [00:00,  8.16it/s]\n",
      "4it [00:00, 12.30it/s]\n",
      "4it [00:00,  8.76it/s]\n",
      "4it [00:00, 10.61it/s]\n",
      "4it [00:00,  8.16it/s]\n",
      "4it [00:00,  8.98it/s]\n",
      "4it [00:00,  8.20it/s]\n",
      "4it [00:00,  9.08it/s]\n",
      "4it [00:00, 10.15it/s]\n",
      "4it [00:00,  9.35it/s]\n",
      "4it [00:00, 10.13it/s]\n",
      "4it [00:00,  8.51it/s]\n",
      "4it [00:00,  8.33it/s]\n",
      "4it [00:00,  7.03it/s]\n",
      "4it [00:00,  9.73it/s]\n",
      "4it [00:00, 10.75it/s]\n",
      "4it [00:00,  7.49it/s]\n",
      "4it [00:00,  8.20it/s]\n",
      "4it [00:00, 10.26it/s]\n",
      "4it [00:00, 11.83it/s]\n",
      "4it [00:00,  8.48it/s]\n",
      "4it [00:00,  8.75it/s]\n",
      "4it [00:00,  9.73it/s]\n",
      "4it [00:00,  7.77it/s]\n",
      "4it [00:00, 12.36it/s]\n",
      "4it [00:00,  9.39it/s]\n",
      "4it [00:00,  8.70it/s]\n",
      "4it [00:00,  8.94it/s]\n",
      "4it [00:00, 10.77it/s]\n",
      "4it [00:00,  8.29it/s]\n",
      "4it [00:00, 10.23it/s]\n",
      "4it [00:00,  8.71it/s]\n",
      "4it [00:00, 10.68it/s]\n",
      "4it [00:00,  8.11it/s]\n",
      "4it [00:00,  8.49it/s]\n",
      "4it [00:00, 12.08it/s]\n",
      "4it [00:00,  9.06it/s]\n",
      "4it [00:00,  9.83it/s]\n",
      "4it [00:00,  8.06it/s]\n",
      "4it [00:00, 10.10it/s]\n",
      "4it [00:00, 11.29it/s]\n",
      "4it [00:00,  9.83it/s]\n",
      "4it [00:00,  9.02it/s]\n",
      "4it [00:00,  8.56it/s]\n",
      "4it [00:00,  8.78it/s]\n",
      "4it [00:00,  8.31it/s]\n",
      "4it [00:00,  5.82it/s]\n",
      "4it [00:00,  6.05it/s]\n",
      "4it [00:00,  6.12it/s]\n",
      "4it [00:00,  7.99it/s]\n",
      "4it [00:00,  8.52it/s]\n",
      "4it [00:00,  9.91it/s]\n",
      "4it [00:00,  7.35it/s]\n",
      "4it [00:00,  6.70it/s]\n",
      "4it [00:00,  7.19it/s]\n",
      "4it [00:00,  8.95it/s]\n",
      "4it [00:00,  8.97it/s]\n"
     ]
    },
    {
     "name": "stdout",
     "output_type": "stream",
     "text": [
      "[201.31875223  22.90586277  77.09571298 146.4006812  243.00581552\n",
      " 260.37220037 114.96747778 218.18346806 175.08103954  62.95544619\n",
      " 231.18714827 357.57406839 253.33451631 239.55555062  93.39570546\n",
      " 281.64848035]\n"
     ]
    },
    {
     "name": "stderr",
     "output_type": "stream",
     "text": [
      "4it [00:00, 10.57it/s]"
     ]
    },
    {
     "name": "stdout",
     "output_type": "stream",
     "text": [
      "CPU times: total: 25.4 s\n",
      "Wall time: 45.5 s\n"
     ]
    },
    {
     "name": "stderr",
     "output_type": "stream",
     "text": [
      "\n"
     ]
    }
   ],
   "source": [
    "%%time\n",
    "H2_approximated_eigenvalue = get_approximated_eigenvalue_of_hamiltonian(H2_molecule_Hamiltonian_2_qubits, \"full\")"
   ]
  },
  {
   "cell_type": "code",
   "execution_count": 89,
   "id": "d45ad4e5",
   "metadata": {},
   "outputs": [
    {
     "name": "stdout",
     "output_type": "stream",
     "text": [
      "[(-1.0051067048832336+0j), (-0.6609798260988818+0j), (-0.6609798260988818+0j), (0.30584559711037274+0j)]\n",
      "Exact Eigenvalue:\n",
      "(-1.0051067048832336+0j)\n",
      "\n",
      "Approximated Eigenvalue:\n",
      "-1.0027862844292117\n",
      "\n",
      "Approximation Error\n",
      "0.0023086309570400205\n"
     ]
    },
    {
     "data": {
      "image/png": "[encoded data removed]",
      "text/plain": [
       "<Figure size 432x288 with 1 Axes>"
      ]
     },
     "metadata": {
      "needs_background": "light"
     },
     "output_type": "display_data"
    }
   ],
   "source": [
    "compare_exact_and_approximated_eigenvalue(H2_molecule_Hamiltonian_2_qubits, H2_approximated_eigenvalue)"
   ]
  }
 ],
 "metadata": {
  "kernelspec": {
   "display_name": "Qiskitenv",
   "language": "python",
   "name": "qiskitenv"
  },
  "language_info": {
   "codemirror_mode": {
    "name": "ipython",
    "version": 3
   },
   "file_extension": ".py",
   "mimetype": "text/x-python",
   "name": "python",
   "nbconvert_exporter": "python",
   "pygments_lexer": "ipython3",
   "version": "3.8.13"
  }
 },
 "nbformat": 4,
 "nbformat_minor": 5
}
