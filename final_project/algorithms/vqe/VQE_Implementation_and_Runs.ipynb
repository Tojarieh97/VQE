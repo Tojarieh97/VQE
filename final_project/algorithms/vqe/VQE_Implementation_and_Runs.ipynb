{
 "cells": [
  {
   "cell_type": "markdown",
   "id": "189518bb",
   "metadata": {},
   "source": [
    "### Introducation"
   ]
  },
  {
   "cell_type": "markdown",
   "id": "a7f9f772",
   "metadata": {},
   "source": [
    "##### What are variational algorithms?"
   ]
  },
  {
   "cell_type": "markdown",
   "id": "69ab5b8e",
   "metadata": {},
   "source": [
    "The available quantum computers in the near term, called Noisy Intermediate Scale Quantum computers (NISQ), are too small to support error correction and have high levels of noise. Therefore, implementing long quantum circuits on such devices will not likely provide satisfyingly accurate results. A class of algorithms, called the variational algorithms, on the other hand are suited to be performed on a quantum computer since they can be implemented using shallow circuits.\n",
    "\n",
    "One of these variational algorithms called VQE."
   ]
  },
  {
   "cell_type": "markdown",
   "id": "16bbb154",
   "metadata": {},
   "source": [
    "The Variational Quantum Eigensolver (VQE) is a flagship algorithm for quantum chemistry using near-term quantum computers.\n",
    "It is an application of the Ritz variational principle, where a quantum computer is trained to prepare the ground state of a given molecule. This algorithm is a Hybrid algorithm as it divides the task of finding the smallest eigenvalue between quantum and classical processors. This is done by taking an advantage of the natural preparation of variational quantum states and measuring expectation values on quantum computers, which are difficult to do on classical computers due to the expoenential growth of the Hilbert space (quantum qubits state space) with system size (the number of qubits). Moreover, the algorithm uses classical processors to do tasks they are capable of performing easily. More specifically, VQE uses a classical optimizer to minimize the expectation value obtained from the quantum computer by varying the variational qubits state.\n",
    "\n",
    "The inputs to the VQE algorithm are a Hamiltonian (mulacular or modeled) and a parametrized circuit preparing the quantum state of the molecule. Within VQE, the cost function is defined as the expectation value of the Hamiltonian computed in the trial state. The ground state of the target Hamiltonian is obtained by performing an iterative minimization of the cost function. The optimization is carried out by a classical optimizer which leverages a quantum computer to evaluate the cost function and calculate its gradient at each optimization step."
   ]
  },
  {
   "cell_type": "markdown",
   "id": "e6943811",
   "metadata": {},
   "source": [
    "### Basic Imports"
   ]
  },
  {
   "cell_type": "code",
   "execution_count": 22,
   "id": "6854c997",
   "metadata": {},
   "outputs": [],
   "source": [
    "from qiskit.circuit.library.standard_gates import RXGate, RZGate, RYGate, CXGate, CZGate, SGate, HGate\n",
    "from qiskit import QuantumCircuit, ClassicalRegister, QuantumRegister\n",
    "from typing import Dict, Tuple, List\n",
    "import numpy as np\n",
    "from numpy import linalg as LA\n",
    "from qiskit.opflow import X, Z, I, H, Y\n",
    "from qiskit.quantum_info import Pauli\n",
    "import matplotlib\n",
    "from qiskit import assemble, Aer\n",
    "from qiskit import IBMQ\n",
    "from qiskit import *\n",
    "from qiskit.visualization import plot_histogram\n",
    "import math\n",
    "from qiskit.algorithms.optimizers import L_BFGS_B, COBYLA"
   ]
  },
  {
   "cell_type": "markdown",
   "id": "2d34681b",
   "metadata": {},
   "source": [
    "### full entengalment and linear entanglment ansatz circuits"
   ]
  },
  {
   "cell_type": "markdown",
   "id": "72971525",
   "metadata": {},
   "source": [
    "for information about the VQE ansatz circuits, see the relevent notenook in this folder."
   ]
  },
  {
   "cell_type": "code",
   "execution_count": 23,
   "id": "1251a931",
   "metadata": {},
   "outputs": [],
   "source": [
    "import nbimporter\n",
    "from linear_entangelment_and_full_entangelment_ansatz_circuits import *"
   ]
  },
  {
   "cell_type": "markdown",
   "id": "fcfc9fb5",
   "metadata": {},
   "source": [
    "# Generating the hamiltonians"
   ]
  },
  {
   "cell_type": "markdown",
   "id": "9d406612",
   "metadata": {},
   "source": [
    "for information about the hamitonians, see the relevent notenook in this folder.\n",
    "\n",
    "before each iteration on specific hamitonian, the hamiltonian matrix will be printed."
   ]
  },
  {
   "cell_type": "code",
   "execution_count": 24,
   "id": "44c442ad",
   "metadata": {},
   "outputs": [],
   "source": [
    "from hamiltonians import *"
   ]
  },
  {
   "cell_type": "markdown",
   "id": "7e0c6d08",
   "metadata": {},
   "source": [
    "# Expectation Value"
   ]
  },
  {
   "cell_type": "code",
   "execution_count": 25,
   "id": "7b180bfb",
   "metadata": {},
   "outputs": [],
   "source": [
    "reducing_to_pauli_z_dict = {\n",
    "    Pauli('I'): Pauli('I'),\n",
    "    Pauli('Z'): Pauli('Z'),\n",
    "    Pauli('X'): Pauli('Z'),\n",
    "    Pauli('Y'): Pauli('Z')\n",
    "} \n",
    "\n",
    "def transfrom_hamiltonian_into_pauli_string(hamiltonian):\n",
    "    pauli_operators = hamiltonian.to_pauli_op().settings['oplist']\n",
    "    pauli_strings = list(map(lambda pauli_operator: pauli_operator.primitive, pauli_operators))\n",
    "    pauli_coeffs = list(map(lambda pauli_operator: pauli_operator.coeff, pauli_operators))\n",
    "    return (pauli_strings, pauli_coeffs)\n",
    "\n",
    "def reduce_pauli_matrixes_into_sigma_z(pauli_string):\n",
    "    for matrix_index in range(QUBITS_NUM):\n",
    "        pauli_matrix = pauli_string[matrix_index]\n",
    "        pauli_string[matrix_index].insert(reducing_to_pauli_z_dict[pauli_matrix])\n",
    "    \n",
    "    return pauli_string\n",
    "\n",
    "def get_z_reduction_for_pauli_string(qc, pauli_string):\n",
    "    qr = QuantumRegister(QUBITS_NUM, name=\"q\")\n",
    "    exdend_qc = QuantumCircuit(qr)\n",
    "    pauli_string = str(pauli_string)\n",
    "    for qubit_index, pauli_matrix in enumerate(pauli_string):\n",
    "        if pauli_matrix == \"X\":\n",
    "            exdend_qc.append(HGate(), [qr[qubit_index]])\n",
    "        elif pauli_matrix == \"Y\":\n",
    "            exdend_qc.append(HGate(), [qr[qubit_index]])\n",
    "            exdend_qc.append(SGate(), [qr[qubit_index]])\n",
    "    qc = qc.compose(exdend_qc)\n",
    "    return qc\n",
    "\n",
    "def get_probability_distribution(counts: Dict) -> Dict:\n",
    "    proba_distribution = {state: (count / NUM_SHOTS) for state, count in counts.items()}\n",
    "    return proba_distribution\n",
    "\n",
    "def calculate_probabilities_of_measurments_in_computational_basis(quantum_state_circuit) -> Dict:\n",
    "    quantum_state_circuit.measure_all()\n",
    "\n",
    "    transpiled_quantum_state_circuit = transpile(quantum_state_circuit, BACKEND) \n",
    "    \n",
    "    result = BACKEND.run(transpiled_quantum_state_circuit).result() \n",
    "    counts = result.get_counts(transpiled_quantum_state_circuit)\n",
    "    \n",
    "    return get_probability_distribution(counts)\n",
    "\n",
    "def sort_probas_dict_by_qubits_string_keys(proba_distribution: Dict) -> Dict:\n",
    "    return dict(sorted(proba_distribution.items()))\n",
    "\n",
    "def reset_power_of_minus_1(power_of_minus_1):\n",
    "    power_of_minus_1 = 0\n",
    "    return power_of_minus_1\n",
    "\n",
    "def calculate_expectation_value_of_pauli_string_by_measurments_probas(pauli_string, probas_distribution):\n",
    "    pauli_string_expectation_value = 0\n",
    "    power_of_minus_1 = 0\n",
    "    \n",
    "    sorted_probas_distribuition = sort_probas_dict_by_qubits_string_keys(probas_distribution)\n",
    "    for qubits_string, proba in sorted_probas_distribuition.items():\n",
    "        for string_index in range(QUBITS_NUM):\n",
    "            if(str(qubits_string[string_index])==\"1\" and str(pauli_string[string_index])==\"Z\"):\n",
    "                power_of_minus_1 += 1\n",
    "            \n",
    "        pauli_string_expectation_value += pow(-1, power_of_minus_1)*proba\n",
    "        power_of_minus_1 = reset_power_of_minus_1(power_of_minus_1)\n",
    "        \n",
    "    return pauli_string_expectation_value\n",
    "\n",
    "def get_expectation_value(pauli_string, probas_distribution):\n",
    "    return calculate_expectation_value_of_pauli_string_by_measurments_probas(pauli_string, probas_distribution)"
   ]
  },
  {
   "cell_type": "markdown",
   "id": "6eab5b64",
   "metadata": {},
   "source": [
    "# Calculating the target function"
   ]
  },
  {
   "cell_type": "code",
   "execution_count": 26,
   "id": "104fe029",
   "metadata": {},
   "outputs": [],
   "source": [
    "def target_function(thetas):\n",
    "    ansatz = calc_ansatz_circ(QUBITS_NUM, Entangelment, thetas, Depth)\n",
    "    \n",
    "    qr = QuantumRegister(QUBITS_NUM, name=\"qubit\")\n",
    "    qc = QuantumCircuit(qr)\n",
    "    qc.initialize(Init_state, qc.qubits)\n",
    "    \n",
    "    total_expectation_value = 0\n",
    "    pauli_strings, pauli_coeffs = transfrom_hamiltonian_into_pauli_string(Ham)\n",
    "    \n",
    "    for pauli_index, pauli_string in enumerate(pauli_strings):\n",
    "        qc_per_pauli_string = qc.compose(ansatz)\n",
    "        qc_per_pauli_string = get_z_reduction_for_pauli_string(qc_per_pauli_string, pauli_string)\n",
    "        probas_distribution = calculate_probabilities_of_measurments_in_computational_basis(qc_per_pauli_string)\n",
    "        total_expectation_value += pauli_coeffs[pauli_index] * get_expectation_value(pauli_string, probas_distribution)\n",
    "        \n",
    "    print(\"total expectation value:\")\n",
    "    print(total_expectation_value)\n",
    "    return total_expectation_value\n",
    "        "
   ]
  },
  {
   "cell_type": "markdown",
   "id": "868f8c11",
   "metadata": {},
   "source": [
    "# Calculate the difference between the algorithm result and actual result"
   ]
  },
  {
   "cell_type": "code",
   "execution_count": 27,
   "id": "a111afb6",
   "metadata": {},
   "outputs": [],
   "source": [
    "def calc_diff_from_actual_result(hamiltonian, algorithm_result):\n",
    "    matrix = hamiltonian.to_matrix()\n",
    "    eigen_values, eigen_vectors = LA.eig(matrix)\n",
    "    actual_result = min(eigen_values)\n",
    "    print(\"The actual minimal energy is:\")\n",
    "    print(actual_result)\n",
    "    diff = algorithm_result - actual_result\n",
    "    print(\"The differnce between the actual value and the algorithm result is:\")\n",
    "    print(diff)"
   ]
  },
  {
   "cell_type": "markdown",
   "id": "8bb15717",
   "metadata": {},
   "source": [
    "# Implementing the VQE algorithem"
   ]
  },
  {
   "cell_type": "code",
   "execution_count": 28,
   "id": "746f2171",
   "metadata": {},
   "outputs": [],
   "source": [
    "def VQE(optimazer, initial_thetas):\n",
    "    print(\"The Hamiltonian running VQE on is:\")\n",
    "    print(Ham)\n",
    "    point, value, nfev = optimazer.optimize(QUBITS_NUM*2*(Depth + 1), target_function, initial_point=initial_thetas)\n",
    "    base_energy = value\n",
    "    print(\"The VQE result for the minimal energy of the Hamiltonian given is:\")\n",
    "    print(base_energy)\n",
    "    calc_diff_from_actual_result(Ham, base_energy)"
   ]
  },
  {
   "cell_type": "markdown",
   "id": "981da34b",
   "metadata": {},
   "source": [
    "# Setting the simulator and optimazer"
   ]
  },
  {
   "cell_type": "code",
   "execution_count": 29,
   "id": "fc660463",
   "metadata": {},
   "outputs": [],
   "source": [
    "bfgs_optimizer = L_BFGS_B(maxiter=2)\n",
    "cobyla_optimazer = COBYLA(maxiter=50)\n",
    "\n",
    "simulator_backend = Aer.get_backend('qasm_simulator') "
   ]
  },
  {
   "cell_type": "markdown",
   "id": "67bd507d",
   "metadata": {},
   "source": [
    "# VQE with Transverse Ising Model Hamiltonian(4 Qubits) + LINEAR Entangelment Ansatz"
   ]
  },
  {
   "cell_type": "code",
   "execution_count": 30,
   "id": "53bbc99b",
   "metadata": {},
   "outputs": [
    {
     "ename": "NameError",
     "evalue": "name 'get_hamiltonian' is not defined",
     "output_type": "error",
     "traceback": [
      "\u001b[1;31m---------------------------------------------------------------------------\u001b[0m",
      "\u001b[1;31mNameError\u001b[0m                                 Traceback (most recent call last)",
      "Input \u001b[1;32mIn [30]\u001b[0m, in \u001b[0;36m<cell line: 6>\u001b[1;34m()\u001b[0m\n\u001b[0;32m      3\u001b[0m BACKEND \u001b[38;5;241m=\u001b[39m simulator_backend\n\u001b[0;32m      5\u001b[0m QUBITS_NUM \u001b[38;5;241m=\u001b[39m \u001b[38;5;241m4\u001b[39m\n\u001b[1;32m----> 6\u001b[0m Ham \u001b[38;5;241m=\u001b[39m \u001b[43mget_hamiltonian\u001b[49m(\u001b[38;5;124m\"\u001b[39m\u001b[38;5;124mIsing Model\u001b[39m\u001b[38;5;124m\"\u001b[39m)\n\u001b[0;32m      7\u001b[0m Entangelment \u001b[38;5;241m=\u001b[39m \u001b[38;5;124m\"\u001b[39m\u001b[38;5;124mlinear\u001b[39m\u001b[38;5;124m\"\u001b[39m\n\u001b[0;32m      8\u001b[0m Depth \u001b[38;5;241m=\u001b[39m \u001b[38;5;241m3\u001b[39m\n",
      "\u001b[1;31mNameError\u001b[0m: name 'get_hamiltonian' is not defined"
     ]
    }
   ],
   "source": [
    "#Backend number of shots\n",
    "NUM_SHOTS = 1024\n",
    "BACKEND = simulator_backend\n",
    "\n",
    "QUBITS_NUM = 4\n",
    "Ham = get_hamiltonian(\"Ising Model\")\n",
    "Entangelment = \"linear\"\n",
    "Depth = 3\n",
    "Init_state = np.zeros(2**QUBITS_NUM)\n",
    "Init_state[0] = 1\n",
    "initial_thetas = np.arange(QUBITS_NUM*2*(Depth + 1))\n",
    "optimazer = bfgs_optimizer\n",
    "VQE(optimazer, initial_thetas)\n",
    "    "
   ]
  },
  {
   "cell_type": "markdown",
   "id": "458b8dd1",
   "metadata": {},
   "source": [
    "# VQE with Transverse Ising Model Hamiltonian(4 Qubits) + FULL Entangelment Ansatz"
   ]
  },
  {
   "cell_type": "code",
   "execution_count": null,
   "id": "36237174",
   "metadata": {},
   "outputs": [],
   "source": [
    "#Backend number of shots\n",
    "NUM_SHOTS = 1024\n",
    "BACKEND = simulator_backend\n",
    "\n",
    "QUBITS_NUM = 4\n",
    "Entangelment = \"full\"\n",
    "Depth = 3\n",
    "Init_state = np.zeros(2**QUBITS_NUM)\n",
    "Init_state[0] = 1\n",
    "initial_thetas = np.arange(QUBITS_NUM*2*(Depth + 1))\n",
    "optimazer = bfgs_optimizer\n",
    "VQE(optimazer, initial_thetas)"
   ]
  },
  {
   "cell_type": "markdown",
   "id": "6b8ccaae",
   "metadata": {},
   "source": [
    "# VQE with Transverse Ising Model Hamiltonian(4 Qubits) + LINEAR Entangelment Ansatz Using COBYLA Optimazer"
   ]
  },
  {
   "cell_type": "code",
   "execution_count": null,
   "id": "48fac160",
   "metadata": {},
   "outputs": [],
   "source": [
    "#Backend number of shots\n",
    "NUM_SHOTS = 1024\n",
    "BACKEND = simulator_backend\n",
    "\n",
    "QUBITS_NUM = 4\n",
    "Entangelment = \"linear\"\n",
    "Depth = 3\n",
    "Init_state = np.zeros(2**QUBITS_NUM)\n",
    "Init_state[0] = 1\n",
    "initial_thetas = np.arange(QUBITS_NUM*2*(Depth + 1))\n",
    "optimazer = cobyla_optimazer\n",
    "VQE(optimazer, initial_thetas)\n",
    "    "
   ]
  },
  {
   "cell_type": "markdown",
   "id": "773a474f",
   "metadata": {},
   "source": [
    "# VQE with Transverse Ising Model Hamiltonian(4 Qubits) + FULL Entangelment Ansatz Using COBYLA Optimazer"
   ]
  },
  {
   "cell_type": "code",
   "execution_count": null,
   "id": "5fb62689",
   "metadata": {},
   "outputs": [],
   "source": [
    "#Backend number of shots\n",
    "NUM_SHOTS = 1024\n",
    "BACKEND = simulator_backend\n",
    "\n",
    "QUBITS_NUM = 4\n",
    "Entangelment = \"full\"\n",
    "Depth = 3\n",
    "Init_state = np.zeros(2**QUBITS_NUM)\n",
    "Init_state[0] = 1\n",
    "initial_thetas = np.arange(QUBITS_NUM*2*(Depth + 1))\n",
    "optimazer = cobyla_optimazer\n",
    "VQE(optimazer, initial_thetas)"
   ]
  },
  {
   "cell_type": "markdown",
   "id": "9651915c",
   "metadata": {},
   "source": [
    "# VQE with Transverse Ising Model Hamiltonian(3 Qubits) + LINEAR Entangelment Ansatz"
   ]
  },
  {
   "cell_type": "code",
   "execution_count": null,
   "id": "a15db376",
   "metadata": {},
   "outputs": [],
   "source": [
    "#Backend number of shots\n",
    "NUM_SHOTS = 1024\n",
    "BACKEND = simulator_backend\n",
    "\n",
    "QUBITS_NUM = 3\n",
    "Ham = get_hamiltonian(\"Ising Model\")\n",
    "Entangelment = \"linear\"\n",
    "Depth = 3\n",
    "Init_state = np.zeros(2**QUBITS_NUM)\n",
    "Init_state[0] = 1\n",
    "initial_thetas = np.arange(QUBITS_NUM*2*(Depth + 1))\n",
    "optimazer = bfgs_optimizer\n",
    "VQE(optimazer, initial_thetas)\n",
    "    "
   ]
  },
  {
   "cell_type": "markdown",
   "id": "6b243f61",
   "metadata": {},
   "source": [
    "# VQE with Transverse Ising Model Hamiltonian(3 Qubits) + FULL Entangelment Ansatz"
   ]
  },
  {
   "cell_type": "code",
   "execution_count": null,
   "id": "d7f63037",
   "metadata": {},
   "outputs": [],
   "source": [
    "#Backend number of shots\n",
    "NUM_SHOTS = 1024\n",
    "BACKEND = simulator_backend\n",
    "\n",
    "QUBITS_NUM = 3\n",
    "Entangelment = \"full\"\n",
    "Depth = 3\n",
    "Init_state = np.zeros(2**QUBITS_NUM)\n",
    "Init_state[0] = 1\n",
    "initial_thetas = np.arange(QUBITS_NUM*2*(Depth + 1))\n",
    "optimazer = bfgs_optimizer\n",
    "VQE(optimazer, initial_thetas)"
   ]
  },
  {
   "cell_type": "markdown",
   "id": "adbaa039",
   "metadata": {},
   "source": [
    "# VQE with Transverse Ising Model Hamiltonian(3 Qubits) + LINEAR Entangelment Ansatz Using COBYLA Optimazer"
   ]
  },
  {
   "cell_type": "code",
   "execution_count": null,
   "id": "aa21db49",
   "metadata": {},
   "outputs": [],
   "source": [
    "#Backend number of shots\n",
    "NUM_SHOTS = 1024\n",
    "BACKEND = simulator_backend\n",
    "\n",
    "QUBITS_NUM = 3\n",
    "Entangelment = \"linear\"\n",
    "Depth = 3\n",
    "Init_state = np.zeros(2**QUBITS_NUM)\n",
    "Init_state[0] = 1\n",
    "initial_thetas = np.arange(QUBITS_NUM*2*(Depth + 1))\n",
    "optimazer = cobyla_optimazer\n",
    "VQE(optimazer, initial_thetas)\n",
    "    "
   ]
  },
  {
   "cell_type": "markdown",
   "id": "2a2b48eb",
   "metadata": {},
   "source": [
    "# VQE with Transverse Ising Model Hamiltonian(3 Qubits) + FULL Entangelment Ansatz Using COBYLA Optimazer"
   ]
  },
  {
   "cell_type": "code",
   "execution_count": null,
   "id": "1449f1cf",
   "metadata": {},
   "outputs": [],
   "source": [
    "#Backend number of shots\n",
    "NUM_SHOTS = 1024\n",
    "BACKEND = simulator_backend\n",
    "\n",
    "QUBITS_NUM = 3\n",
    "Entangelment = \"full\"\n",
    "Depth = 3\n",
    "Init_state = np.zeros(2**QUBITS_NUM)\n",
    "Init_state[0] = 1\n",
    "initial_thetas = np.arange(QUBITS_NUM*2*(Depth + 1))\n",
    "optimazer = cobyla_optimazer\n",
    "VQE(optimazer, initial_thetas)"
   ]
  },
  {
   "cell_type": "markdown",
   "id": "1eee5863",
   "metadata": {},
   "source": [
    "# VQE with Transverse Ising Model Hamiltonian(2 Qubits) + LINEAR Entangelment Ansatz"
   ]
  },
  {
   "cell_type": "code",
   "execution_count": null,
   "id": "d987b9b9",
   "metadata": {},
   "outputs": [],
   "source": [
    "#Backend number of shots\n",
    "NUM_SHOTS = 1024\n",
    "BACKEND = simulator_backend\n",
    "\n",
    "QUBITS_NUM = 2\n",
    "Ham = get_hamiltonian(\"Ising Model\")\n",
    "Entangelment = \"linear\"\n",
    "Depth = 3\n",
    "Init_state = np.zeros(2**QUBITS_NUM)\n",
    "Init_state[0] = 1\n",
    "initial_thetas = np.arange(QUBITS_NUM*2*(Depth + 1))\n",
    "optimazer = bfgs_optimizer\n",
    "VQE(optimazer, initial_thetas)\n",
    "    "
   ]
  },
  {
   "cell_type": "markdown",
   "id": "111115ff",
   "metadata": {},
   "source": [
    "# VQE with Transverse Ising Model Hamiltonian(2 Qubits) + FULL Entangelment Ansatz"
   ]
  },
  {
   "cell_type": "code",
   "execution_count": null,
   "id": "d6e4c4af",
   "metadata": {},
   "outputs": [],
   "source": [
    "#Backend number of shots\n",
    "NUM_SHOTS = 1024\n",
    "BACKEND = simulator_backend\n",
    "\n",
    "QUBITS_NUM = 2\n",
    "Entangelment = \"full\"\n",
    "Depth = 3\n",
    "Init_state = np.zeros(2**QUBITS_NUM)\n",
    "Init_state[0] = 1\n",
    "initial_thetas = np.arange(QUBITS_NUM*2*(Depth + 1))\n",
    "optimazer = bfgs_optimizer\n",
    "VQE(optimazer, initial_thetas)"
   ]
  },
  {
   "cell_type": "markdown",
   "id": "c59e67a3",
   "metadata": {},
   "source": [
    "# VQE with Transverse Ising Model Hamiltonian(2 Qubits) + LINEAR Entangelment Ansatz Using COBYLA Optimazer"
   ]
  },
  {
   "cell_type": "code",
   "execution_count": null,
   "id": "863f7853",
   "metadata": {},
   "outputs": [],
   "source": [
    "#Backend number of shots\n",
    "NUM_SHOTS = 1024\n",
    "BACKEND = simulator_backend\n",
    "\n",
    "QUBITS_NUM = 2\n",
    "Entangelment = \"linear\"\n",
    "Depth = 3\n",
    "Init_state = np.zeros(2**QUBITS_NUM)\n",
    "Init_state[0] = 1\n",
    "initial_thetas = np.arange(QUBITS_NUM*2*(Depth + 1))\n",
    "optimazer = cobyla_optimazer\n",
    "VQE(optimazer, initial_thetas)\n",
    "    "
   ]
  },
  {
   "cell_type": "markdown",
   "id": "73a7b0ba",
   "metadata": {},
   "source": [
    "# VQE with Transverse Ising Model Hamiltonian(2 Qubits) + FULL Entangelment Ansatz Using COBYLA Optimazer"
   ]
  },
  {
   "cell_type": "code",
   "execution_count": null,
   "id": "07cadd71",
   "metadata": {},
   "outputs": [],
   "source": [
    "#Backend number of shots\n",
    "NUM_SHOTS = 1024\n",
    "BACKEND = simulator_backend\n",
    "\n",
    "QUBITS_NUM = 2\n",
    "Entangelment = \"full\"\n",
    "Depth = 3\n",
    "Init_state = np.zeros(2**QUBITS_NUM)\n",
    "Init_state[0] = 1\n",
    "initial_thetas = np.arange(QUBITS_NUM*2*(Depth + 1))\n",
    "optimazer = cobyla_optimazer\n",
    "VQE(optimazer, initial_thetas)"
   ]
  },
  {
   "cell_type": "markdown",
   "id": "8e7cee53",
   "metadata": {},
   "source": [
    "# VQE with H2 Molecule Hamiltonian(2 Qubits) + LINEAR Entangelment Ansatz"
   ]
  },
  {
   "cell_type": "code",
   "execution_count": null,
   "id": "33853c86",
   "metadata": {},
   "outputs": [],
   "source": [
    "#Backend number of shots\n",
    "NUM_SHOTS = 1024\n",
    "BACKEND = simulator_backend\n",
    "\n",
    "QUBITS_NUM = 2\n",
    "Ham = get_hamiltonian(\"H2\")\n",
    "Entangelment = \"linear\"\n",
    "Depth = 3\n",
    "Init_state = np.zeros(2**QUBITS_NUM)\n",
    "Init_state[0] = 1\n",
    "initial_thetas = np.arange(QUBITS_NUM*2*(Depth + 1))\n",
    "optimazer = bfgs_optimizer\n",
    "VQE(optimazer, initial_thetas)"
   ]
  },
  {
   "cell_type": "markdown",
   "id": "971a7e14",
   "metadata": {},
   "source": [
    "# VQE with H2 Molecule Hamiltonian(2 Qubits) + FULL Entangelment Ansatz"
   ]
  },
  {
   "cell_type": "code",
   "execution_count": null,
   "id": "334f89ed",
   "metadata": {},
   "outputs": [],
   "source": [
    "#Backend number of shots\n",
    "NUM_SHOTS = 1024\n",
    "BACKEND = simulator_backend\n",
    "\n",
    "QUBITS_NUM = 2\n",
    "Ham = get_hamiltonian(\"H2\")\n",
    "Entangelment = \"full\"\n",
    "Depth = 3\n",
    "Init_state = np.zeros(2**QUBITS_NUM)\n",
    "Init_state[0] = 1\n",
    "initial_thetas = np.arange(QUBITS_NUM*2*(Depth + 1))\n",
    "optimazer = bfgs_optimizer\n",
    "VQE(optimazer, initial_thetas)"
   ]
  },
  {
   "cell_type": "markdown",
   "id": "3eb83dc8",
   "metadata": {},
   "source": [
    "# VQE with H2 Molecule Hamiltonian(2 Qubits) + LINEAR Entangelment Ansatz Using COBYLA Optimazer"
   ]
  },
  {
   "cell_type": "code",
   "execution_count": null,
   "id": "6093ecae",
   "metadata": {},
   "outputs": [],
   "source": [
    "#Backend number of shots\n",
    "NUM_SHOTS = 1024\n",
    "BACKEND = simulator_backend\n",
    "\n",
    "QUBITS_NUM = 2\n",
    "Ham = get_hamiltonian(\"H2\")\n",
    "Entangelment = \"linear\"\n",
    "Depth = 3\n",
    "Init_state = np.zeros(2**QUBITS_NUM)\n",
    "Init_state[0] = 1\n",
    "initial_thetas = np.arange(QUBITS_NUM*2*(Depth + 1))\n",
    "optimazer = cobyla_optimazer\n",
    "VQE(optimazer, initial_thetas)"
   ]
  },
  {
   "cell_type": "markdown",
   "id": "57ee540a",
   "metadata": {},
   "source": [
    "# VQE with H2 Molecule Hamiltonian(2 Qubits) + FULL Entangelment Ansatz Using COBYLA Optimazer"
   ]
  },
  {
   "cell_type": "code",
   "execution_count": null,
   "id": "c8f5339d",
   "metadata": {},
   "outputs": [],
   "source": [
    "#Backend number of shots\n",
    "NUM_SHOTS = 1024\n",
    "BACKEND = simulator_backend\n",
    "\n",
    "QUBITS_NUM = 2\n",
    "Ham = get_hamiltonian(\"H2\")\n",
    "Entangelment = \"full\"\n",
    "Depth = 3\n",
    "Init_state = np.zeros(2**QUBITS_NUM)\n",
    "Init_state[0] = 1\n",
    "initial_thetas = np.arange(QUBITS_NUM*2*(Depth + 1))\n",
    "optimazer = cobyla_optimazer\n",
    "VQE(optimazer, initial_thetas)"
   ]
  },
  {
   "cell_type": "markdown",
   "id": "803fd369",
   "metadata": {},
   "source": [
    "# VQE with H2 Molecule Hamiltonian(4 Qubits) + LINEAR Entangelment Ansatz"
   ]
  },
  {
   "cell_type": "code",
   "execution_count": null,
   "id": "5252d84c",
   "metadata": {},
   "outputs": [],
   "source": [
    "#Backend number of shots\n",
    "NUM_SHOTS = 1024\n",
    "BACKEND = simulator_backend\n",
    "\n",
    "QUBITS_NUM = 4\n",
    "Ham = get_hamiltonian(\"H2\")\n",
    "Entangelment = \"linear\"\n",
    "Depth = 3\n",
    "Init_state = np.zeros(2**QUBITS_NUM)\n",
    "Init_state[0] = 1\n",
    "initial_thetas = np.arange(QUBITS_NUM*2*(Depth + 1))\n",
    "optimazer = bfgs_optimizer\n",
    "VQE(optimazer, initial_thetas)"
   ]
  },
  {
   "cell_type": "markdown",
   "id": "dd66e50d",
   "metadata": {},
   "source": [
    "# VQE with H2 Molecule Hamiltonian(4 Qubits) + FULL Entangelment Ansatz"
   ]
  },
  {
   "cell_type": "code",
   "execution_count": null,
   "id": "00714095",
   "metadata": {},
   "outputs": [],
   "source": [
    "#Backend number of shots\n",
    "NUM_SHOTS = 1024\n",
    "BACKEND = simulator_backend\n",
    "\n",
    "QUBITS_NUM = 4\n",
    "Ham = get_hamiltonian(\"H2\")\n",
    "Entangelment = \"full\"\n",
    "Depth = 3\n",
    "Init_state = np.zeros(2**QUBITS_NUM)\n",
    "Init_state[0] = 1\n",
    "initial_thetas = np.arange(QUBITS_NUM*2*(Depth + 1))\n",
    "optimazer = bfgs_optimizer\n",
    "VQE(optimazer, initial_thetas)"
   ]
  },
  {
   "cell_type": "markdown",
   "id": "100d4b8a",
   "metadata": {},
   "source": [
    "# VQE with H2 Molecule Hamiltonian(4 Qubits) + LINEAR Entangelment Ansatz Using COBYLA Optimazer"
   ]
  },
  {
   "cell_type": "code",
   "execution_count": null,
   "id": "1605cfb0",
   "metadata": {},
   "outputs": [],
   "source": [
    "#Backend number of shots\n",
    "NUM_SHOTS = 1024\n",
    "BACKEND = simulator_backend\n",
    "\n",
    "QUBITS_NUM = 4\n",
    "Ham = get_hamiltonian(\"H2\")\n",
    "Entangelment = \"linear\"\n",
    "Depth = 3\n",
    "Init_state = np.zeros(2**QUBITS_NUM)\n",
    "Init_state[0] = 1\n",
    "initial_thetas = np.arange(QUBITS_NUM*2*(Depth + 1))\n",
    "optimazer = cobyla_optimazer\n",
    "VQE(optimazer, initial_thetas)"
   ]
  },
  {
   "cell_type": "markdown",
   "id": "efc5c071",
   "metadata": {},
   "source": [
    "# VQE with H2 Molecule Hamiltonian(4 Qubits) + FULL Entangelment Ansatz Using COBYLA Optimazer"
   ]
  },
  {
   "cell_type": "code",
   "execution_count": null,
   "id": "06001896",
   "metadata": {},
   "outputs": [],
   "source": [
    "#Backend number of shots\n",
    "NUM_SHOTS = 1024\n",
    "BACKEND = simulator_backend\n",
    "\n",
    "QUBITS_NUM = 4\n",
    "Ham = get_hamiltonian(\"H2\")\n",
    "Entangelment = \"full\"\n",
    "Depth = 3\n",
    "Init_state = np.zeros(2**QUBITS_NUM)\n",
    "Init_state[0] = 1\n",
    "initial_thetas = np.arange(QUBITS_NUM*2*(Depth + 1))\n",
    "optimazer = cobyla_optimazer\n",
    "VQE(optimazer, initial_thetas)"
   ]
  },
  {
   "cell_type": "markdown",
   "id": "b69cbd66",
   "metadata": {},
   "source": [
    "# VQE with LiH Molecule Hamiltonian(4 Qubits) + LINEAR Entangelment Ansatz"
   ]
  },
  {
   "cell_type": "code",
   "execution_count": null,
   "id": "f317c327",
   "metadata": {},
   "outputs": [],
   "source": [
    "#Backend number of shots\n",
    "NUM_SHOTS = 1024\n",
    "BACKEND = simulator_backend\n",
    "\n",
    "QUBITS_NUM = 4\n",
    "Ham = get_hamiltonian(\"LiH\")\n",
    "Entangelment = \"linear\"\n",
    "Depth = 3\n",
    "Init_state = np.zeros(2**QUBITS_NUM)\n",
    "Init_state[0] = 1\n",
    "initial_thetas = np.arange(QUBITS_NUM*2*(Depth + 1))\n",
    "optimazer = bfgs_optimizer\n",
    "VQE(optimazer, initial_thetas)"
   ]
  },
  {
   "cell_type": "markdown",
   "id": "58a483c6",
   "metadata": {},
   "source": [
    "# VQE with LiH Molecule Hamiltonian(4 Qubits) + FULL Entangelment Ansatz"
   ]
  },
  {
   "cell_type": "code",
   "execution_count": null,
   "id": "ce0fbd32",
   "metadata": {},
   "outputs": [],
   "source": [
    "#Backend number of shots\n",
    "NUM_SHOTS = 1024\n",
    "BACKEND = simulator_backend\n",
    "\n",
    "QUBITS_NUM = 4\n",
    "Ham = get_hamiltonian(\"LiH\")\n",
    "Entangelment = \"full\"\n",
    "Depth = 3\n",
    "Init_state = np.zeros(2**QUBITS_NUM)\n",
    "Init_state[0] = 1\n",
    "initial_thetas = np.arange(QUBITS_NUM*2*(Depth + 1))\n",
    "optimazer = bfgs_optimizer\n",
    "VQE(optimazer, initial_thetas)"
   ]
  },
  {
   "cell_type": "markdown",
   "id": "fcec7787",
   "metadata": {},
   "source": [
    "# VQE with LiH Molecule Hamiltonian(4 Qubits) + LINEAR Entangelment Ansatz Using COBYLA Optimazer"
   ]
  },
  {
   "cell_type": "code",
   "execution_count": null,
   "id": "b44f747f",
   "metadata": {},
   "outputs": [],
   "source": [
    "#Backend number of shots\n",
    "NUM_SHOTS = 1024\n",
    "BACKEND = simulator_backend\n",
    "\n",
    "QUBITS_NUM = 4\n",
    "Ham = get_hamiltonian(\"LiH\")\n",
    "Entangelment = \"linear\"\n",
    "Depth = 3\n",
    "Init_state = np.zeros(2**QUBITS_NUM)\n",
    "Init_state[0] = 1\n",
    "initial_thetas = np.arange(QUBITS_NUM*2*(Depth + 1))\n",
    "optimazer = cobyla_optimazer\n",
    "VQE(optimazer, initial_thetas)"
   ]
  },
  {
   "cell_type": "markdown",
   "id": "49407915",
   "metadata": {},
   "source": [
    "# VQE with LiH Molecule Hamiltonian(4 Qubits) + FULL Entangelment Ansatz Using COBYLA Optimazer"
   ]
  },
  {
   "cell_type": "code",
   "execution_count": null,
   "id": "4ccce6f7",
   "metadata": {
    "scrolled": false
   },
   "outputs": [],
   "source": [
    "#Backend number of shots\n",
    "NUM_SHOTS = 1024\n",
    "BACKEND = simulator_backend\n",
    "\n",
    "QUBITS_NUM = 4\n",
    "Ham = get_hamiltonian(\"LiH\")\n",
    "Entangelment = \"full\"\n",
    "Depth = 3\n",
    "Init_state = np.zeros(2**QUBITS_NUM)\n",
    "Init_state[0] = 1\n",
    "initial_thetas = np.arange(QUBITS_NUM*2*(Depth + 1))\n",
    "optimazer = cobyla_optimazer\n",
    "VQE(optimazer, initial_thetas)"
   ]
  }
 ],
 "metadata": {
  "kernelspec": {
   "display_name": "Qiskitenv",
   "language": "python",
   "name": "qiskitenv"
  },
  "language_info": {
   "codemirror_mode": {
    "name": "ipython",
    "version": 3
   },
   "file_extension": ".py",
   "mimetype": "text/x-python",
   "name": "python",
   "nbconvert_exporter": "python",
   "pygments_lexer": "ipython3",
   "version": "3.8.13"
  }
 },
 "nbformat": 4,
 "nbformat_minor": 5
}
