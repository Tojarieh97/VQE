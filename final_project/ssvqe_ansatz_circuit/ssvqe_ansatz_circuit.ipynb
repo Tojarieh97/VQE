{
 "cells": [
  {
   "cell_type": "markdown",
   "id": "2208dc71",
   "metadata": {},
   "source": [
    "Here you can find the implementation of ansatz in Figure 1 of SSVQE article."
   ]
  },
  {
   "cell_type": "markdown",
   "id": "ea6cc528",
   "metadata": {},
   "source": [
    "This is a variational quantum circuit used in the simulations performed in the article.\n",
    "The parameters φ, θ are optimized to minimize L. D1 and D2 denote the number of repetition of a circuit in each bracket."
   ]
  },
  {
   "cell_type": "markdown",
   "id": "dfbe79ee",
   "metadata": {},
   "source": [
    "### Variational quantum circuit used in the simulations of SSVQE"
   ]
  },
  {
   "cell_type": "code",
   "execution_count": 46,
   "id": "f095b875",
   "metadata": {},
   "outputs": [],
   "source": [
    "from qiskit.circuit.library.standard_gates import RXGate, RZGate, CXGate, CZGate\n",
    "from qiskit import QuantumCircuit, ClassicalRegister, QuantumRegister"
   ]
  },
  {
   "cell_type": "code",
   "execution_count": 47,
   "id": "3344b06e",
   "metadata": {},
   "outputs": [],
   "source": [
    "def get_thetas_circuit(thetas, D2):\n",
    "    qr = QuantumRegister(4, name=\"qubit\")\n",
    "    qc = QuantumCircuit(qr)\n",
    "        \n",
    "    for d in range(D2):\n",
    "        qc.append(RXGate(thetas[0]), [qr[0]])\n",
    "        qc.append(RXGate(thetas[1]), [qr[1]])\n",
    "        qc.append(RXGate(thetas[2]), [qr[2]])\n",
    "        qc.append(RXGate(thetas[3]), [qr[3]])\n",
    "        \n",
    "        qc.append(RZGate(thetas[4]), [qr[0]])\n",
    "        qc.append(RZGate(thetas[5]), [qr[1]])\n",
    "        qc.append(RZGate(thetas[6]), [qr[2]])\n",
    "        qc.append(RZGate(thetas[7]), [qr[3]])\n",
    "        \n",
    "        qc.append(CZGate(), [qr[0], qr[1]])\n",
    "        qc.append(CZGate(), [qr[1], qr[2]])\n",
    "        qc.append(CZGate(), [qr[2], qr[3]])\n",
    "        qc.barrier(qr)\n",
    "    \n",
    "    qc.append(RXGate(thetas[0]), [qr[0]])\n",
    "    qc.append(RXGate(thetas[1]), [qr[1]])\n",
    "    qc.append(RXGate(thetas[2]), [qr[2]])\n",
    "    qc.append(RXGate(thetas[3]), [qr[3]])\n",
    "\n",
    "    qc.append(RZGate(thetas[4]), [qr[0]])\n",
    "    qc.append(RZGate(thetas[5]), [qr[1]])\n",
    "    qc.append(RZGate(thetas[6]), [qr[2]])\n",
    "    qc.append(RZGate(thetas[7]), [qr[3]])\n",
    "\n",
    "    return qc"
   ]
  },
  {
   "cell_type": "code",
   "execution_count": 48,
   "id": "ee00c9df",
   "metadata": {},
   "outputs": [],
   "source": [
    "def get_phis_circuit(phis, D1):\n",
    "    qr = QuantumRegister(4, name=\"qubit\")\n",
    "    qc = QuantumCircuit(qr)\n",
    "    for d in range(D1):\n",
    "        qc.append(RXGate(phis[0]), [qr[2]])\n",
    "        qc.append(RXGate(phis[1]), [qr[3]])\n",
    "        \n",
    "        qc.append(RZGate(phis[2]), [qr[2]])\n",
    "        qc.append(RZGate(phis[3]), [qr[3]])\n",
    "        \n",
    "        qc.append(CZGate(), [qr[2], qr[3]])\n",
    "        qc.barrier(qr)\n",
    "    return qc"
   ]
  },
  {
   "cell_type": "code",
   "execution_count": 56,
   "id": "769b28d7",
   "metadata": {},
   "outputs": [],
   "source": [
    "def get_full_variational_quantum_circuit(thetas, phis, D1, D2):\n",
    "    thetas_quantum_circuit = get_thetas_circuit(thetas, D2)\n",
    "    phis_quantum_circuit = get_phis_circuit(phis, D1)\n",
    "    \n",
    "    variational_quantum_circuit = phis_quantum_circuit.compose(thetas_quantum_circuit)\n",
    "    return variational_quantum_circuit"
   ]
  },
  {
   "cell_type": "markdown",
   "id": "becb69c3",
   "metadata": {},
   "source": [
    "### Circuits Display"
   ]
  },
  {
   "cell_type": "code",
   "execution_count": 57,
   "id": "183f4e50",
   "metadata": {},
   "outputs": [],
   "source": [
    "import numpy as np\n",
    "\n",
    "thetas = np.random.uniform(low=0, high=2*np.pi, size=8)\n",
    "phis = np.random.uniform(low=0, high=2*np.pi, size=4)\n",
    "\n",
    "D1 = 2\n",
    "D2 = 6"
   ]
  },
  {
   "cell_type": "markdown",
   "id": "c0aa67e9",
   "metadata": {},
   "source": [
    "### U(theta)"
   ]
  },
  {
   "cell_type": "code",
   "execution_count": 58,
   "id": "3c285f30",
   "metadata": {},
   "outputs": [
    {
     "name": "stdout",
     "output_type": "stream",
     "text": [
      "         ┌────────────┐ ┌────────────┐          ░ ┌────────────┐ ┌────────────┐»\n",
      "qubit_0: ┤ Rx(3.8256) ├─┤ Rz(4.8532) ├─■────────░─┤ Rx(3.8256) ├─┤ Rz(4.8532) ├»\n",
      "         ├────────────┤ ├────────────┤ │        ░ ├────────────┤ ├────────────┤»\n",
      "qubit_1: ┤ Rx(1.2575) ├─┤ Rz(2.4787) ├─■──■─────░─┤ Rx(1.2575) ├─┤ Rz(2.4787) ├»\n",
      "         ├────────────┤ ├────────────┤    │     ░ ├────────────┤ ├────────────┤»\n",
      "qubit_2: ┤ Rx(5.6364) ├─┤ Rz(2.5773) ├────■──■──░─┤ Rx(5.6364) ├─┤ Rz(2.5773) ├»\n",
      "         ├────────────┤┌┴────────────┤       │  ░ ├────────────┤┌┴────────────┤»\n",
      "qubit_3: ┤ Rx(2.5757) ├┤ Rz(0.52758) ├───────■──░─┤ Rx(2.5757) ├┤ Rz(0.52758) ├»\n",
      "         └────────────┘└─────────────┘          ░ └────────────┘└─────────────┘»\n",
      "«                   ░ ┌────────────┐ ┌────────────┐          ░ ┌────────────┐»\n",
      "«qubit_0: ─■────────░─┤ Rx(3.8256) ├─┤ Rz(4.8532) ├─■────────░─┤ Rx(3.8256) ├»\n",
      "«          │        ░ ├────────────┤ ├────────────┤ │        ░ ├────────────┤»\n",
      "«qubit_1: ─■──■─────░─┤ Rx(1.2575) ├─┤ Rz(2.4787) ├─■──■─────░─┤ Rx(1.2575) ├»\n",
      "«             │     ░ ├────────────┤ ├────────────┤    │     ░ ├────────────┤»\n",
      "«qubit_2: ────■──■──░─┤ Rx(5.6364) ├─┤ Rz(2.5773) ├────■──■──░─┤ Rx(5.6364) ├»\n",
      "«                │  ░ ├────────────┤┌┴────────────┤       │  ░ ├────────────┤»\n",
      "«qubit_3: ───────■──░─┤ Rx(2.5757) ├┤ Rz(0.52758) ├───────■──░─┤ Rx(2.5757) ├»\n",
      "«                   ░ └────────────┘└─────────────┘          ░ └────────────┘»\n",
      "«          ┌────────────┐          ░ ┌────────────┐ ┌────────────┐          ░ »\n",
      "«qubit_0: ─┤ Rz(4.8532) ├─■────────░─┤ Rx(3.8256) ├─┤ Rz(4.8532) ├─■────────░─»\n",
      "«          ├────────────┤ │        ░ ├────────────┤ ├────────────┤ │        ░ »\n",
      "«qubit_1: ─┤ Rz(2.4787) ├─■──■─────░─┤ Rx(1.2575) ├─┤ Rz(2.4787) ├─■──■─────░─»\n",
      "«          ├────────────┤    │     ░ ├────────────┤ ├────────────┤    │     ░ »\n",
      "«qubit_2: ─┤ Rz(2.5773) ├────■──■──░─┤ Rx(5.6364) ├─┤ Rz(2.5773) ├────■──■──░─»\n",
      "«         ┌┴────────────┤       │  ░ ├────────────┤┌┴────────────┤       │  ░ »\n",
      "«qubit_3: ┤ Rz(0.52758) ├───────■──░─┤ Rx(2.5757) ├┤ Rz(0.52758) ├───────■──░─»\n",
      "«         └─────────────┘          ░ └────────────┘└─────────────┘          ░ »\n",
      "«         ┌────────────┐ ┌────────────┐          ░ ┌────────────┐»\n",
      "«qubit_0: ┤ Rx(3.8256) ├─┤ Rz(4.8532) ├─■────────░─┤ Rx(3.8256) ├»\n",
      "«         ├────────────┤ ├────────────┤ │        ░ ├────────────┤»\n",
      "«qubit_1: ┤ Rx(1.2575) ├─┤ Rz(2.4787) ├─■──■─────░─┤ Rx(1.2575) ├»\n",
      "«         ├────────────┤ ├────────────┤    │     ░ ├────────────┤»\n",
      "«qubit_2: ┤ Rx(5.6364) ├─┤ Rz(2.5773) ├────■──■──░─┤ Rx(5.6364) ├»\n",
      "«         ├────────────┤┌┴────────────┤       │  ░ ├────────────┤»\n",
      "«qubit_3: ┤ Rx(2.5757) ├┤ Rz(0.52758) ├───────■──░─┤ Rx(2.5757) ├»\n",
      "«         └────────────┘└─────────────┘          ░ └────────────┘»\n",
      "«          ┌────────────┐\n",
      "«qubit_0: ─┤ Rz(4.8532) ├\n",
      "«          ├────────────┤\n",
      "«qubit_1: ─┤ Rz(2.4787) ├\n",
      "«          ├────────────┤\n",
      "«qubit_2: ─┤ Rz(2.5773) ├\n",
      "«         ┌┴────────────┤\n",
      "«qubit_3: ┤ Rz(0.52758) ├\n",
      "«         └─────────────┘\n"
     ]
    }
   ],
   "source": [
    "qc1 = get_thetas_circuit(thetas,D2)\n",
    "print(qc1.draw())"
   ]
  },
  {
   "cell_type": "markdown",
   "id": "81073a4b",
   "metadata": {},
   "source": [
    "### V(phi)"
   ]
  },
  {
   "cell_type": "code",
   "execution_count": 59,
   "id": "3992b69d",
   "metadata": {},
   "outputs": [
    {
     "name": "stdout",
     "output_type": "stream",
     "text": [
      "                                         ░                                 ░ \n",
      "qubit_0: ────────────────────────────────░─────────────────────────────────░─\n",
      "                                         ░                                 ░ \n",
      "qubit_1: ────────────────────────────────░─────────────────────────────────░─\n",
      "         ┌────────────┐┌────────────┐    ░ ┌────────────┐┌────────────┐    ░ \n",
      "qubit_2: ┤ Rx(4.0308) ├┤ Rz(5.7318) ├─■──░─┤ Rx(4.0308) ├┤ Rz(5.7318) ├─■──░─\n",
      "         ├────────────┤├────────────┤ │  ░ ├────────────┤├────────────┤ │  ░ \n",
      "qubit_3: ┤ Rx(2.1359) ├┤ Rz(1.1168) ├─■──░─┤ Rx(2.1359) ├┤ Rz(1.1168) ├─■──░─\n",
      "         └────────────┘└────────────┘    ░ └────────────┘└────────────┘    ░ \n"
     ]
    }
   ],
   "source": [
    "qc2 = get_phis_circuit(phis,D1)\n",
    "print(qc2.draw())"
   ]
  },
  {
   "cell_type": "markdown",
   "id": "11069af7",
   "metadata": {},
   "source": [
    "### Full Circuit"
   ]
  },
  {
   "cell_type": "code",
   "execution_count": 62,
   "id": "d4f035d4",
   "metadata": {},
   "outputs": [
    {
     "name": "stdout",
     "output_type": "stream",
     "text": [
      "                                         ░                                 ░ »\n",
      "qubit_0: ────────────────────────────────░─────────────────────────────────░─»\n",
      "                                         ░                                 ░ »\n",
      "qubit_1: ────────────────────────────────░─────────────────────────────────░─»\n",
      "         ┌────────────┐┌────────────┐    ░ ┌────────────┐┌────────────┐    ░ »\n",
      "qubit_2: ┤ Rx(4.0308) ├┤ Rz(5.7318) ├─■──░─┤ Rx(4.0308) ├┤ Rz(5.7318) ├─■──░─»\n",
      "         ├────────────┤├────────────┤ │  ░ ├────────────┤├────────────┤ │  ░ »\n",
      "qubit_3: ┤ Rx(2.1359) ├┤ Rz(1.1168) ├─■──░─┤ Rx(2.1359) ├┤ Rz(1.1168) ├─■──░─»\n",
      "         └────────────┘└────────────┘    ░ └────────────┘└────────────┘    ░ »\n",
      "«         ┌────────────┐ ┌────────────┐          ░ ┌────────────┐»\n",
      "«qubit_0: ┤ Rx(3.8256) ├─┤ Rz(4.8532) ├─■────────░─┤ Rx(3.8256) ├»\n",
      "«         ├────────────┤ ├────────────┤ │        ░ ├────────────┤»\n",
      "«qubit_1: ┤ Rx(1.2575) ├─┤ Rz(2.4787) ├─■──■─────░─┤ Rx(1.2575) ├»\n",
      "«         ├────────────┤ ├────────────┤    │     ░ ├────────────┤»\n",
      "«qubit_2: ┤ Rx(5.6364) ├─┤ Rz(2.5773) ├────■──■──░─┤ Rx(5.6364) ├»\n",
      "«         ├────────────┤┌┴────────────┤       │  ░ ├────────────┤»\n",
      "«qubit_3: ┤ Rx(2.5757) ├┤ Rz(0.52758) ├───────■──░─┤ Rx(2.5757) ├»\n",
      "«         └────────────┘└─────────────┘          ░ └────────────┘»\n",
      "«          ┌────────────┐          ░ ┌────────────┐ ┌────────────┐          ░ »\n",
      "«qubit_0: ─┤ Rz(4.8532) ├─■────────░─┤ Rx(3.8256) ├─┤ Rz(4.8532) ├─■────────░─»\n",
      "«          ├────────────┤ │        ░ ├────────────┤ ├────────────┤ │        ░ »\n",
      "«qubit_1: ─┤ Rz(2.4787) ├─■──■─────░─┤ Rx(1.2575) ├─┤ Rz(2.4787) ├─■──■─────░─»\n",
      "«          ├────────────┤    │     ░ ├────────────┤ ├────────────┤    │     ░ »\n",
      "«qubit_2: ─┤ Rz(2.5773) ├────■──■──░─┤ Rx(5.6364) ├─┤ Rz(2.5773) ├────■──■──░─»\n",
      "«         ┌┴────────────┤       │  ░ ├────────────┤┌┴────────────┤       │  ░ »\n",
      "«qubit_3: ┤ Rz(0.52758) ├───────■──░─┤ Rx(2.5757) ├┤ Rz(0.52758) ├───────■──░─»\n",
      "«         └─────────────┘          ░ └────────────┘└─────────────┘          ░ »\n",
      "«         ┌────────────┐ ┌────────────┐          ░ ┌────────────┐»\n",
      "«qubit_0: ┤ Rx(3.8256) ├─┤ Rz(4.8532) ├─■────────░─┤ Rx(3.8256) ├»\n",
      "«         ├────────────┤ ├────────────┤ │        ░ ├────────────┤»\n",
      "«qubit_1: ┤ Rx(1.2575) ├─┤ Rz(2.4787) ├─■──■─────░─┤ Rx(1.2575) ├»\n",
      "«         ├────────────┤ ├────────────┤    │     ░ ├────────────┤»\n",
      "«qubit_2: ┤ Rx(5.6364) ├─┤ Rz(2.5773) ├────■──■──░─┤ Rx(5.6364) ├»\n",
      "«         ├────────────┤┌┴────────────┤       │  ░ ├────────────┤»\n",
      "«qubit_3: ┤ Rx(2.5757) ├┤ Rz(0.52758) ├───────■──░─┤ Rx(2.5757) ├»\n",
      "«         └────────────┘└─────────────┘          ░ └────────────┘»\n",
      "«          ┌────────────┐          ░ ┌────────────┐ ┌────────────┐          ░ »\n",
      "«qubit_0: ─┤ Rz(4.8532) ├─■────────░─┤ Rx(3.8256) ├─┤ Rz(4.8532) ├─■────────░─»\n",
      "«          ├────────────┤ │        ░ ├────────────┤ ├────────────┤ │        ░ »\n",
      "«qubit_1: ─┤ Rz(2.4787) ├─■──■─────░─┤ Rx(1.2575) ├─┤ Rz(2.4787) ├─■──■─────░─»\n",
      "«          ├────────────┤    │     ░ ├────────────┤ ├────────────┤    │     ░ »\n",
      "«qubit_2: ─┤ Rz(2.5773) ├────■──■──░─┤ Rx(5.6364) ├─┤ Rz(2.5773) ├────■──■──░─»\n",
      "«         ┌┴────────────┤       │  ░ ├────────────┤┌┴────────────┤       │  ░ »\n",
      "«qubit_3: ┤ Rz(0.52758) ├───────■──░─┤ Rx(2.5757) ├┤ Rz(0.52758) ├───────■──░─»\n",
      "«         └─────────────┘          ░ └────────────┘└─────────────┘          ░ »\n",
      "«         ┌────────────┐ ┌────────────┐\n",
      "«qubit_0: ┤ Rx(3.8256) ├─┤ Rz(4.8532) ├\n",
      "«         ├────────────┤ ├────────────┤\n",
      "«qubit_1: ┤ Rx(1.2575) ├─┤ Rz(2.4787) ├\n",
      "«         ├────────────┤ ├────────────┤\n",
      "«qubit_2: ┤ Rx(5.6364) ├─┤ Rz(2.5773) ├\n",
      "«         ├────────────┤┌┴────────────┤\n",
      "«qubit_3: ┤ Rx(2.5757) ├┤ Rz(0.52758) ├\n",
      "«         └────────────┘└─────────────┘\n"
     ]
    }
   ],
   "source": [
    "print(get_full_variational_quantum_circuit(thetas, phis, D1, D2))"
   ]
  }
 ],
 "metadata": {
  "kernelspec": {
   "display_name": "Qiskitenv",
   "language": "python",
   "name": "qiskitenv"
  },
  "language_info": {
   "codemirror_mode": {
    "name": "ipython",
    "version": 3
   },
   "file_extension": ".py",
   "mimetype": "text/x-python",
   "name": "python",
   "nbconvert_exporter": "python",
   "pygments_lexer": "ipython3",
   "version": "3.8.13"
  }
 },
 "nbformat": 4,
 "nbformat_minor": 5
}
