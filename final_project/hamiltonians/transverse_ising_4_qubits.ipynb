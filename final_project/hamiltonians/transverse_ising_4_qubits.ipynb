{
 "cells": [
  {
   "cell_type": "code",
   "execution_count": 9,
   "id": "62c2adb9",
   "metadata": {},
   "outputs": [],
   "source": [
    "from qiskit.opflow import X, Z, I, Y\n",
    "import numpy as np"
   ]
  },
  {
   "cell_type": "code",
   "execution_count": 10,
   "id": "ef04746f",
   "metadata": {},
   "outputs": [],
   "source": [
    "QUBITS_NUM = 4"
   ]
  },
  {
   "cell_type": "code",
   "execution_count": 11,
   "id": "8af95867",
   "metadata": {},
   "outputs": [
    {
     "name": "stdout",
     "output_type": "stream",
     "text": [
      "0.0 * IIII\n",
      "+ 0.5382068209047236 * XIII\n",
      "+ 0.9394351760484223 * IXII\n",
      "+ 0.5598354832012843 * ZZII\n",
      "+ 0.7181117945371607 * IIXI\n",
      "+ 0.7886239947244251 * ZIZI\n",
      "+ 0.0035624099041806634 * IZZI\n",
      "+ 0.5291596722562962 * IIIX\n",
      "+ 0.9921643164016806 * ZIIZ\n",
      "+ 0.7193548664244208 * IZIZ\n",
      "+ 0.7557621751252636 * IIZZ\n"
     ]
    }
   ],
   "source": [
    "def create_pauli_string_with_pauli_op_on_index_i(pauli_op, i, qubits_num):\n",
    "    if i == 1:\n",
    "        pauli_string = pauli_op\n",
    "        for qubit in range(qubits_num - 1):\n",
    "            pauli_string = pauli_string ^ I\n",
    "        return pauli_string\n",
    "    \n",
    "    pauli_string = I\n",
    "    for qubit in range(2, qubits_num + 1):\n",
    "        if qubit == i:\n",
    "            pauli_string = pauli_string ^ pauli_op\n",
    "        else:\n",
    "            pauli_string = pauli_string ^ I\n",
    "            \n",
    "    return pauli_string\n",
    "\n",
    "def create_pauli_string_with_pauli_ops_on_index_i_and_j(pauli_op_second, i, pauli_op_first, j, qubits_num):\n",
    "    if j == 1:\n",
    "        pauli_string = pauli_op_first\n",
    "        for qubit in range(2, qubits_num + 1):\n",
    "            if qubit == i:\n",
    "                pauli_string = pauli_string ^ pauli_op_second\n",
    "            else:\n",
    "                pauli_string = pauli_string ^ I\n",
    "        return pauli_string\n",
    "    \n",
    "    pauli_string = I\n",
    "    for qubit in range(2, qubits_num + 1):\n",
    "        if qubit == j:\n",
    "            pauli_string = pauli_string ^ pauli_op_first\n",
    "        elif qubit == i:\n",
    "            pauli_string = pauli_string ^ pauli_op_second\n",
    "        else:\n",
    "            pauli_string = pauli_string ^ I\n",
    "            \n",
    "    return pauli_string\n",
    "\n",
    "\n",
    "def get_Ising_model_hamiltonian():\n",
    "    hamiltonian = I\n",
    "    for qubit in range(QUBITS_NUM - 1):\n",
    "        hamiltonian = hamiltonian^I\n",
    "    hamiltonian = 0 * hamiltonian\n",
    "    \n",
    "    for i in range(1, QUBITS_NUM + 1):\n",
    "        a_i = np.random.random_sample()\n",
    "        x_i = create_pauli_string_with_pauli_op_on_index_i(X, i, QUBITS_NUM)\n",
    "        hamiltonian = hamiltonian + a_i * x_i\n",
    "        for j in range(1, i):\n",
    "            J_ij = np.random.random_sample()\n",
    "            z_ij = create_pauli_string_with_pauli_ops_on_index_i_and_j(Z, i, Z, j, QUBITS_NUM)\n",
    "            hamiltonian = hamiltonian + J_ij * z_ij\n",
    "    \n",
    "    return hamiltonian\n",
    "\n",
    "transverse_ising_4_qubits = get_Ising_model_hamiltonian()\n",
    "print(transverse_ising_4_qubits)"
   ]
  }
 ],
 "metadata": {
  "kernelspec": {
   "display_name": "Qiskitenv",
   "language": "python",
   "name": "qiskitenv"
  },
  "language_info": {
   "codemirror_mode": {
    "name": "ipython",
    "version": 3
   },
   "file_extension": ".py",
   "mimetype": "text/x-python",
   "name": "python",
   "nbconvert_exporter": "python",
   "pygments_lexer": "ipython3",
   "version": "3.8.13"
  }
 },
 "nbformat": 4,
 "nbformat_minor": 5
}
