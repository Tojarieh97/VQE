{
 "cells": [
  {
   "cell_type": "code",
   "execution_count": 1,
   "id": "c4cd30bb",
   "metadata": {},
   "outputs": [],
   "source": [
    "import numpy as np\n",
    "from qiskit.opflow import X, Z, I\n",
    "\n",
    "a_1 = np.random.random_sample()\n",
    "a_2 = np.random.random_sample()\n",
    "J_21 = np.random.random_sample()\n",
    "\n",
    "H_transverse_ising = a_1*(I^X) + a_2*(X^I) + J_21*(Z^Z)"
   ]
  },
  {
   "cell_type": "code",
   "execution_count": 2,
   "id": "4f9a1533",
   "metadata": {},
   "outputs": [
    {
     "name": "stdout",
     "output_type": "stream",
     "text": [
      "========== Transverse Ising Model Hamiltonian for Two Qubits ==========\n",
      "\n",
      "[[ 0.75069428+0.j  0.37729159+0.j  0.94604541+0.j  0.        +0.j]\n",
      " [ 0.37729159+0.j -0.75069428+0.j  0.        +0.j  0.94604541+0.j]\n",
      " [ 0.94604541+0.j  0.        +0.j -0.75069428+0.j  0.37729159+0.j]\n",
      " [ 0.        +0.j  0.94604541+0.j  0.37729159+0.j  0.75069428+0.j]]\n",
      "\n"
     ]
    }
   ],
   "source": [
    "print(\"========== Transverse Ising Model Hamiltonian for Two Qubits ==========\\n\")\n",
    "print(H_transverse_ising.to_matrix())\n",
    "print()"
   ]
  }
 ],
 "metadata": {
  "kernelspec": {
   "display_name": "Qiskitenv",
   "language": "python",
   "name": "qiskitenv"
  },
  "language_info": {
   "codemirror_mode": {
    "name": "ipython",
    "version": 3
   },
   "file_extension": ".py",
   "mimetype": "text/x-python",
   "name": "python",
   "nbconvert_exporter": "python",
   "pygments_lexer": "ipython3",
   "version": "3.8.13"
  }
 },
 "nbformat": 4,
 "nbformat_minor": 5
}
