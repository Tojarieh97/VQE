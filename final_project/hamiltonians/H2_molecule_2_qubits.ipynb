{
 "cells": [
  {
   "cell_type": "markdown",
   "id": "d9c756d4",
   "metadata": {},
   "source": [
    "The code one sould run for getting this molecular hamiltonian can be found in the openfermion folder.\n"
   ]
  },
  {
   "cell_type": "code",
   "execution_count": 4,
   "id": "4fc565ca",
   "metadata": {},
   "outputs": [],
   "source": [
    "from qiskit.opflow import X, Z, I\n",
    "\n",
    "H2_molecule_hamiltonian = -0.5053051899926562*(I^I) + \\\n",
    "                            -0.3277380754984016*(Z^I) + \\\n",
    "                            0.15567463610622564*(Z^Z) + \\\n",
    "                            -0.3277380754984016*(I^Z)"
   ]
  },
  {
   "cell_type": "code",
   "execution_count": 8,
   "id": "66574747",
   "metadata": {},
   "outputs": [
    {
     "name": "stdout",
     "output_type": "stream",
     "text": [
      "========== H2 Molecule Hamiltonian for Two Qubits ==========\n",
      "\n",
      "[[-1.0051067 +0.j  0.        +0.j  0.        +0.j  0.        +0.j]\n",
      " [ 0.        +0.j -0.66097983+0.j  0.        +0.j  0.        +0.j]\n",
      " [ 0.        +0.j  0.        +0.j -0.66097983+0.j  0.        +0.j]\n",
      " [ 0.        +0.j  0.        +0.j  0.        +0.j  0.3058456 +0.j]]\n"
     ]
    }
   ],
   "source": [
    "print(\"========== H2 Molecule Hamiltonian for Two Qubits ==========\\n\")\n",
    "print(H2_molecule_hamiltonian.to_matrix())"
   ]
  }
 ],
 "metadata": {
  "kernelspec": {
   "display_name": "Qiskitenv",
   "language": "python",
   "name": "qiskitenv"
  },
  "language_info": {
   "codemirror_mode": {
    "name": "ipython",
    "version": 3
   },
   "file_extension": ".py",
   "mimetype": "text/x-python",
   "name": "python",
   "nbconvert_exporter": "python",
   "pygments_lexer": "ipython3",
   "version": "3.8.13"
  }
 },
 "nbformat": 4,
 "nbformat_minor": 5
}
