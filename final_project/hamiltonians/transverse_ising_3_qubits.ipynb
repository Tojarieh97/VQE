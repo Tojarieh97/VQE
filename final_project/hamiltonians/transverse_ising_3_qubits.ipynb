{
 "cells": [
  {
   "cell_type": "code",
   "execution_count": 4,
   "id": "62c2adb9",
   "metadata": {},
   "outputs": [],
   "source": [
    "from qiskit.opflow import X, Z, I, Y\n",
    "import numpy as np"
   ]
  },
  {
   "cell_type": "code",
   "execution_count": 5,
   "id": "ef04746f",
   "metadata": {},
   "outputs": [],
   "source": [
    "QUBITS_NUM = 3"
   ]
  },
  {
   "cell_type": "code",
   "execution_count": 6,
   "id": "8af95867",
   "metadata": {},
   "outputs": [],
   "source": [
    "def create_pauli_string_with_pauli_op_on_index_i(pauli_op, i, qubits_num):\n",
    "    if i == 1:\n",
    "        pauli_string = pauli_op\n",
    "        for qubit in range(qubits_num - 1):\n",
    "            pauli_string = pauli_string ^ I\n",
    "        return pauli_string\n",
    "    \n",
    "    pauli_string = I\n",
    "    for qubit in range(2, qubits_num + 1):\n",
    "        if qubit == i:\n",
    "            pauli_string = pauli_string ^ pauli_op\n",
    "        else:\n",
    "            pauli_string = pauli_string ^ I\n",
    "            \n",
    "    return pauli_string\n",
    "\n",
    "def create_pauli_string_with_pauli_ops_on_index_i_and_j(pauli_op_second, i, pauli_op_first, j, qubits_num):\n",
    "    if j == 1:\n",
    "        pauli_string = pauli_op_first\n",
    "        for qubit in range(2, qubits_num + 1):\n",
    "            if qubit == i:\n",
    "                pauli_string = pauli_string ^ pauli_op_second\n",
    "            else:\n",
    "                pauli_string = pauli_string ^ I\n",
    "        return pauli_string\n",
    "    \n",
    "    pauli_string = I\n",
    "    for qubit in range(2, qubits_num + 1):\n",
    "        if qubit == j:\n",
    "            pauli_string = pauli_string ^ pauli_op_first\n",
    "        elif qubit == i:\n",
    "            pauli_string = pauli_string ^ pauli_op_second\n",
    "        else:\n",
    "            pauli_string = pauli_string ^ I\n",
    "            \n",
    "    return pauli_string\n",
    "\n",
    "\n",
    "def get_Ising_model_hamiltonian():\n",
    "    hamiltonian = I\n",
    "    for qubit in range(QUBITS_NUM - 1):\n",
    "        hamiltonian = hamiltonian^I\n",
    "    hamiltonian = 0 * hamiltonian\n",
    "    \n",
    "    for i in range(1, QUBITS_NUM + 1):\n",
    "        a_i = np.random.random_sample()\n",
    "        x_i = create_pauli_string_with_pauli_op_on_index_i(X, i, QUBITS_NUM)\n",
    "        hamiltonian = hamiltonian + a_i * x_i\n",
    "        for j in range(1, i):\n",
    "            J_ij = np.random.random_sample()\n",
    "            z_ij = create_pauli_string_with_pauli_ops_on_index_i_and_j(Z, i, Z, j, QUBITS_NUM)\n",
    "            hamiltonian = hamiltonian + J_ij * z_ij\n",
    "    \n",
    "    return hamiltonian"
   ]
  },
  {
   "cell_type": "code",
   "execution_count": 7,
   "id": "f3040bbb",
   "metadata": {},
   "outputs": [
    {
     "name": "stdout",
     "output_type": "stream",
     "text": [
      "0.0 * III\n",
      "+ 0.012764169333459807 * XII\n",
      "+ 0.7691573729160869 * IXI\n",
      "+ 0.398094746026449 * ZZI\n",
      "+ 0.15250261906586637 * IIX\n",
      "+ 0.2094051920882264 * ZIZ\n",
      "+ 0.5131291860752999 * IZZ\n"
     ]
    }
   ],
   "source": [
    "transverse_ising_3_qubits = get_Ising_model_hamiltonian()\n",
    "print(transverse_ising_3_qubits)"
   ]
  },
  {
   "cell_type": "code",
   "execution_count": null,
   "id": "0ab3a6fc",
   "metadata": {},
   "outputs": [],
   "source": [
    "from qiskit.opflow import X, Z, I\n",
    "\n",
    "H2_molecule_hamiltonian = 0.0 * (I^I^I)\n",
    "                    + 0.012764169333459807 * (X^I^I)\n",
    "                    + 0.7691573729160869 * (I^X^I)\n",
    "                    + 0.398094746026449 * (Z^Z^I)\n",
    "                    + 0.15250261906586637 * (I^I^X)\n",
    "                    + 0.2094051920882264 * (Z^I^Z)\n",
    "                    + 0.5131291860752999 * (I^Z^Z)"
   ]
  }
 ],
 "metadata": {
  "kernelspec": {
   "display_name": "Qiskitenv",
   "language": "python",
   "name": "qiskitenv"
  },
  "language_info": {
   "codemirror_mode": {
    "name": "ipython",
    "version": 3
   },
   "file_extension": ".py",
   "mimetype": "text/x-python",
   "name": "python",
   "nbconvert_exporter": "python",
   "pygments_lexer": "ipython3",
   "version": "3.8.13"
  }
 },
 "nbformat": 4,
 "nbformat_minor": 5
}
