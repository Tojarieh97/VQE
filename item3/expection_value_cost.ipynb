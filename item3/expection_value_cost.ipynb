{
 "cells": [
  {
   "cell_type": "code",
   "execution_count": 14,
   "id": "6a1fd325",
   "metadata": {},
   "outputs": [],
   "source": [
    "import numpy as np\n",
    "\n",
    "import nbimporter\n",
    "import anzats_SSVQE_article as anzats\n",
    "\n",
    "class ExpvalCost:\n",
    "    \"\"\"\n",
    "    Create a cost function that gives the expectation value of an input Hamiltonian.\n",
    "\n",
    "    \"\"\"\n",
    "\n",
    "    def __init__(\n",
    "        self,\n",
    "        hamiltonian,\n",
    "        backend,\n",
    "    ):\n",
    "        self.hamiltonian = hamiltonian\n",
    "        self.backend = backend\n",
    "        \n",
    "        def cost_fn(theta_params, phi_params, basis, D1, D2, weighted=False):\n",
    "            cost = 0\n",
    "            for state_vector in basis:\n",
    "                qc = anzats.anzats_circ(theta_params, phi_params, D1, D2)\n",
    "                qc.initialize(state_vector)\n",
    "\n",
    "                qobj = assemble(qc)\n",
    "                state = sim.run(qobj).result().get_statevector()\n",
    "                \n",
    "                dagger_state = np.matrix(state)\n",
    "                state = dagger_state.getH()\n",
    "                \n",
    "                state = np.array(state)\n",
    "                dagger_state = np.array(dagger_state)\n",
    "                \n",
    "                exp_val = np.matmul(dagger_state, np.matmul(self.hamiltonian, state))\n",
    "\n",
    "                if weighted and basis[state_vector]==(len(basis)-1):\n",
    "                    cost += 0.5*exp_val\n",
    "                else:\n",
    "                    cost += exp_val\n",
    "                \n",
    "                return cost\n",
    "            \n",
    "        self.cost_function = cost_fn\n",
    "\n",
    "    def __call__(self, theta_params,phi_params,basis,D1,D2,weigthed=False):\n",
    "        return self.cost_function(theta_params, phi_params, basis, D1, D2,weighted)\n"
   ]
  },
  {
   "cell_type": "code",
   "execution_count": null,
   "id": "2972533a",
   "metadata": {},
   "outputs": [],
   "source": []
  }
 ],
 "metadata": {
  "kernelspec": {
   "display_name": "Qiskitenv",
   "language": "python",
   "name": "qiskitenv"
  },
  "language_info": {
   "codemirror_mode": {
    "name": "ipython",
    "version": 3
   },
   "file_extension": ".py",
   "mimetype": "text/x-python",
   "name": "python",
   "nbconvert_exporter": "python",
   "pygments_lexer": "ipython3",
   "version": "3.8.13"
  }
 },
 "nbformat": 4,
 "nbformat_minor": 5
}
