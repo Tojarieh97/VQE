{
 "cells": [
  {
   "cell_type": "code",
   "execution_count": 56,
   "id": "0f2fb768",
   "metadata": {},
   "outputs": [],
   "source": [
    "import nbimporter"
   ]
  },
  {
   "cell_type": "markdown",
   "id": "ba0ce253",
   "metadata": {},
   "source": [
    "### Simulator Backend"
   ]
  },
  {
   "cell_type": "code",
   "execution_count": 15,
   "id": "4f4d3634",
   "metadata": {},
   "outputs": [],
   "source": [
    "from qiskit import Aer\n",
    "from qiskit.utils import QuantumInstance, algorithm_globals\n",
    "\n",
    "seed = 50\n",
    "algorithm_globals.random_seed = seed\n",
    "\n",
    "backend = Aer.get_backend('qasm_simulator')"
   ]
  },
  {
   "cell_type": "markdown",
   "id": "1f5063fe",
   "metadata": {},
   "source": [
    "### BFGS Optimizer"
   ]
  },
  {
   "cell_type": "code",
   "execution_count": 54,
   "id": "ff1ed108",
   "metadata": {},
   "outputs": [],
   "source": [
    "from qiskit.algorithms.optimizers import L_BFGS_B\n",
    "\n",
    "bfgs_optimizer = L_BFGS_B(maxiter=60)"
   ]
  },
  {
   "cell_type": "code",
   "execution_count": 59,
   "id": "a037bd4c",
   "metadata": {},
   "outputs": [],
   "source": [
    "import numpy as np\n",
    "\n",
    "import nbimporter\n",
    "import anzats_SSVQE_article as anzats\n",
    "\n",
    "class ExpvalCost:\n",
    "    \"\"\"\n",
    "    Create a cost function that gives the expectation value of an input Hamiltonian.\n",
    "\n",
    "    \"\"\"\n",
    "\n",
    "    def __init__(\n",
    "        self,\n",
    "        hamiltonian,\n",
    "        backend,\n",
    "    ):\n",
    "        self.hamiltonian = hamiltonian\n",
    "        self.backend = backend\n",
    "        \n",
    "        def cost_fn(theta_params, phi_params, basis, D1, D2, weighted=False):\n",
    "            cost = 0\n",
    "            for state_vector in basis:\n",
    "                qc = anzats.anzats_circ(theta_params, phi_params, D1, D2)\n",
    "                qc.initialize(state_vector)\n",
    "\n",
    "                qobj = assemble(qc)\n",
    "                state = sim.run(qobj).result().get_statevector()\n",
    "                \n",
    "                dagger_state = np.matrix(state)\n",
    "                state = dagger_state.getH()\n",
    "                \n",
    "                state = np.array(state)\n",
    "                dagger_state = np.array(dagger_state)\n",
    "                \n",
    "                exp_val = np.matmul(dagger_state, np.matmul(self.hamiltonian, state))\n",
    "\n",
    "                if weighted and basis[state_vector]==(len(basis)-1):\n",
    "                    cost += 0.5*exp_val\n",
    "                else:\n",
    "                    cost += exp_val\n",
    "                \n",
    "                return cost\n",
    "            \n",
    "        self.cost_function = cost_fn\n",
    "\n",
    "    def __call__(self, params, state_idx):\n",
    "        return self.cost_function(params, state_idx)\n"
   ]
  },
  {
   "cell_type": "code",
   "execution_count": 60,
   "id": "00dc0789",
   "metadata": {},
   "outputs": [],
   "source": [
    "ham = np.identity(16)\n",
    "single_cost = ExpvalCost(ham, backend)"
   ]
  },
  {
   "cell_type": "code",
   "execution_count": 63,
   "id": "61645294",
   "metadata": {},
   "outputs": [],
   "source": [
    "def get_k_basis(k, n):\n",
    "    full_basis = np.identity(n)\n",
    "    return full_basis[:k]"
   ]
  },
  {
   "cell_type": "code",
   "execution_count": 62,
   "id": "8b1afbb1",
   "metadata": {},
   "outputs": [],
   "source": [
    "num_qubits = 2\n",
    "w = np.arange(num_qubits, 0, -1)"
   ]
  },
  {
   "cell_type": "code",
   "execution_count": 64,
   "id": "c39810e7",
   "metadata": {},
   "outputs": [],
   "source": [
    "max_iterations = 200\n",
    "costs = []\n",
    "\n",
    "# Initial parameters for the ansatz\n",
    "num_layers = 8\n",
    "params = np.random.uniform(low=0, high=2*np.pi, size=(num_layers, num_qubits, 3))"
   ]
  },
  {
   "cell_type": "code",
   "execution_count": 71,
   "id": "a09cc7a6",
   "metadata": {},
   "outputs": [
    {
     "ename": "ValueError",
     "evalue": "Initial point is required but None given",
     "output_type": "error",
     "traceback": [
      "\u001b[1;31m---------------------------------------------------------------------------\u001b[0m",
      "\u001b[1;31mValueError\u001b[0m                                Traceback (most recent call last)",
      "Input \u001b[1;32mIn [71]\u001b[0m, in \u001b[0;36m<cell line: 5>\u001b[1;34m()\u001b[0m\n\u001b[0;32m      3\u001b[0m Ising_callback_energies_single_1 \u001b[38;5;241m=\u001b[39m []\n\u001b[0;32m      5\u001b[0m \u001b[38;5;28;01mfor\u001b[39;00m _ \u001b[38;5;129;01min\u001b[39;00m \u001b[38;5;28mrange\u001b[39m(max_iterations):\n\u001b[1;32m----> 6\u001b[0m     params, prev_energy \u001b[38;5;241m=\u001b[39m \u001b[43mbfgs_optimizer\u001b[49m\u001b[38;5;241;43m.\u001b[39;49m\u001b[43moptimize\u001b[49m\u001b[43m(\u001b[49m\u001b[38;5;241;43m12\u001b[39;49m\u001b[43m,\u001b[49m\u001b[43msingle_cost\u001b[49m\u001b[43m)\u001b[49m\n\u001b[0;32m      7\u001b[0m     energy \u001b[38;5;241m=\u001b[39m total_cost(params)\n\u001b[0;32m      8\u001b[0m     energy_ground_state \u001b[38;5;241m=\u001b[39m single_cost(params, state_idx\u001b[38;5;241m=\u001b[39m\u001b[38;5;241m0\u001b[39m)\n",
      "File \u001b[1;32m~\\anaconda3\\envs\\Qiskitenv\\lib\\site-packages\\qiskit\\algorithms\\optimizers\\scipy_optimizer.py:155\u001b[0m, in \u001b[0;36mSciPyOptimizer.optimize\u001b[1;34m(self, num_vars, objective_function, gradient_function, variable_bounds, initial_point)\u001b[0m\n\u001b[0;32m    147\u001b[0m \u001b[38;5;28;01mdef\u001b[39;00m \u001b[38;5;21moptimize\u001b[39m(\n\u001b[0;32m    148\u001b[0m     \u001b[38;5;28mself\u001b[39m,\n\u001b[0;32m    149\u001b[0m     num_vars,\n\u001b[1;32m   (...)\u001b[0m\n\u001b[0;32m    153\u001b[0m     initial_point\u001b[38;5;241m=\u001b[39m\u001b[38;5;28;01mNone\u001b[39;00m,\n\u001b[0;32m    154\u001b[0m ):\n\u001b[1;32m--> 155\u001b[0m     \u001b[38;5;28;43msuper\u001b[39;49m\u001b[43m(\u001b[49m\u001b[43m)\u001b[49m\u001b[38;5;241;43m.\u001b[39;49m\u001b[43moptimize\u001b[49m\u001b[43m(\u001b[49m\n\u001b[0;32m    156\u001b[0m \u001b[43m        \u001b[49m\u001b[43mnum_vars\u001b[49m\u001b[43m,\u001b[49m\u001b[43m \u001b[49m\u001b[43mobjective_function\u001b[49m\u001b[43m,\u001b[49m\u001b[43m \u001b[49m\u001b[43mgradient_function\u001b[49m\u001b[43m,\u001b[49m\u001b[43m \u001b[49m\u001b[43mvariable_bounds\u001b[49m\u001b[43m,\u001b[49m\u001b[43m \u001b[49m\u001b[43minitial_point\u001b[49m\n\u001b[0;32m    157\u001b[0m \u001b[43m    \u001b[49m\u001b[43m)\u001b[49m\n\u001b[0;32m    158\u001b[0m     result \u001b[38;5;241m=\u001b[39m \u001b[38;5;28mself\u001b[39m\u001b[38;5;241m.\u001b[39mminimize(\n\u001b[0;32m    159\u001b[0m         objective_function, initial_point, gradient_function, variable_bounds\n\u001b[0;32m    160\u001b[0m     )\n\u001b[0;32m    161\u001b[0m     \u001b[38;5;28;01mreturn\u001b[39;00m result\u001b[38;5;241m.\u001b[39mx, result\u001b[38;5;241m.\u001b[39mfun, result\u001b[38;5;241m.\u001b[39mnfev\n",
      "File \u001b[1;32m~\\anaconda3\\envs\\Qiskitenv\\lib\\site-packages\\qiskit\\algorithms\\optimizers\\optimizer.py:325\u001b[0m, in \u001b[0;36mOptimizer.optimize\u001b[1;34m(self, num_vars, objective_function, gradient_function, variable_bounds, initial_point)\u001b[0m\n\u001b[0;32m    323\u001b[0m     \u001b[38;5;28;01mraise\u001b[39;00m \u001b[38;5;167;01mValueError\u001b[39;00m(\u001b[38;5;124m\"\u001b[39m\u001b[38;5;124mVariable bounds is required but None given\u001b[39m\u001b[38;5;124m\"\u001b[39m)\n\u001b[0;32m    324\u001b[0m \u001b[38;5;28;01mif\u001b[39;00m initial_point \u001b[38;5;129;01mis\u001b[39;00m \u001b[38;5;28;01mNone\u001b[39;00m \u001b[38;5;129;01mand\u001b[39;00m \u001b[38;5;28mself\u001b[39m\u001b[38;5;241m.\u001b[39mis_initial_point_required:\n\u001b[1;32m--> 325\u001b[0m     \u001b[38;5;28;01mraise\u001b[39;00m \u001b[38;5;167;01mValueError\u001b[39;00m(\u001b[38;5;124m\"\u001b[39m\u001b[38;5;124mInitial point is required but None given\u001b[39m\u001b[38;5;124m\"\u001b[39m)\n\u001b[0;32m    327\u001b[0m \u001b[38;5;28;01mif\u001b[39;00m gradient_function \u001b[38;5;129;01mis\u001b[39;00m \u001b[38;5;129;01mnot\u001b[39;00m \u001b[38;5;28;01mNone\u001b[39;00m \u001b[38;5;129;01mand\u001b[39;00m \u001b[38;5;28mself\u001b[39m\u001b[38;5;241m.\u001b[39mis_gradient_ignored:\n\u001b[0;32m    328\u001b[0m     logger\u001b[38;5;241m.\u001b[39mdebug(\n\u001b[0;32m    329\u001b[0m         \u001b[38;5;124m\"\u001b[39m\u001b[38;5;124mWARNING: \u001b[39m\u001b[38;5;132;01m%s\u001b[39;00m\u001b[38;5;124m does not support gradient function. It will be ignored.\u001b[39m\u001b[38;5;124m\"\u001b[39m,\n\u001b[0;32m    330\u001b[0m         \u001b[38;5;28mself\u001b[39m\u001b[38;5;241m.\u001b[39m\u001b[38;5;18m__class__\u001b[39m\u001b[38;5;241m.\u001b[39m\u001b[38;5;18m__name__\u001b[39m,\n\u001b[0;32m    331\u001b[0m     )\n",
      "\u001b[1;31mValueError\u001b[0m: Initial point is required but None given"
     ]
    }
   ],
   "source": [
    "Ising_callback_energies = []\n",
    "Ising_callback_energies_single_0 = []\n",
    "Ising_callback_energies_single_1 = []\n",
    "\n",
    "for _ in range(max_iterations):\n",
    "    params, prev_energy = bfgs_optimizer.optimize(12,single_cost)\n",
    "    energy = total_cost(params)\n",
    "    energy_ground_state = single_cost(params, state_idx=0)\n",
    "    energy_first_excited_state = single_cost(params, state_idx=1)\n",
    "    Ising_callback_energies_single_0.append(energy_ground_state)\n",
    "    Ising_callback_energies_single_1.append(energy_first_excited_state)\n",
    "    Ising_callback_energies.append(energy)"
   ]
  },
  {
   "cell_type": "code",
   "execution_count": null,
   "id": "47660388",
   "metadata": {},
   "outputs": [],
   "source": []
  }
 ],
 "metadata": {
  "kernelspec": {
   "display_name": "Qiskitenv",
   "language": "python",
   "name": "qiskitenv"
  },
  "language_info": {
   "codemirror_mode": {
    "name": "ipython",
    "version": 3
   },
   "file_extension": ".py",
   "mimetype": "text/x-python",
   "name": "python",
   "nbconvert_exporter": "python",
   "pygments_lexer": "ipython3",
   "version": "3.8.13"
  }
 },
 "nbformat": 4,
 "nbformat_minor": 5
}
