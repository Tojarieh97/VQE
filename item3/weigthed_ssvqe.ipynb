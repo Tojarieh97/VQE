{
 "cells": [
  {
   "cell_type": "code",
   "execution_count": 264,
   "id": "9431f6b7",
   "metadata": {},
   "outputs": [],
   "source": [
    "import nbimporter\n",
    "from typing import Dict, Tuple, List\n",
    "import numpy as np"
   ]
  },
  {
   "cell_type": "markdown",
   "id": "7df91593",
   "metadata": {},
   "source": [
    "### Env Vars"
   ]
  },
  {
   "cell_type": "code",
   "execution_count": 361,
   "id": "3fb09055",
   "metadata": {},
   "outputs": [],
   "source": [
    "QUBITS_NUM = 4 \n",
    "N = 16\n",
    "K = 4\n",
    "NUM_SHOTS = 10000"
   ]
  },
  {
   "cell_type": "markdown",
   "id": "6dcb0625",
   "metadata": {},
   "source": [
    "### Simulator Backend"
   ]
  },
  {
   "cell_type": "code",
   "execution_count": 253,
   "id": "8e287170",
   "metadata": {},
   "outputs": [],
   "source": [
    "from qiskit import Aer\n",
    "from qiskit.utils import QuantumInstance, algorithm_globals\n",
    "\n",
    "seed = 50\n",
    "algorithm_globals.random_seed = seed\n",
    "\n",
    "simulator_backend = Aer.get_backend('qasm_simulator')"
   ]
  },
  {
   "cell_type": "markdown",
   "id": "5cc189d2",
   "metadata": {},
   "source": [
    "### BFGS Optimizer"
   ]
  },
  {
   "cell_type": "code",
   "execution_count": 35,
   "id": "aea5f838",
   "metadata": {},
   "outputs": [],
   "source": [
    "from qiskit.algorithms.optimizers import L_BFGS_B\n",
    "\n",
    "bfgs_optimizer = L_BFGS_B(maxiter=60)"
   ]
  },
  {
   "cell_type": "markdown",
   "id": "8b33aa64",
   "metadata": {},
   "source": [
    "### k input states (computational basis)"
   ]
  },
  {
   "cell_type": "code",
   "execution_count": 36,
   "id": "fdd30a93",
   "metadata": {},
   "outputs": [],
   "source": [
    "from utiles import *"
   ]
  },
  {
   "cell_type": "code",
   "execution_count": 37,
   "id": "edf70318",
   "metadata": {},
   "outputs": [
    {
     "name": "stdout",
     "output_type": "stream",
     "text": [
      "[[1. 0. 0. 0. 0. 0. 0. 0. 0. 0. 0. 0. 0. 0. 0. 0.]\n",
      " [0. 1. 0. 0. 0. 0. 0. 0. 0. 0. 0. 0. 0. 0. 0. 0.]\n",
      " [0. 0. 1. 0. 0. 0. 0. 0. 0. 0. 0. 0. 0. 0. 0. 0.]\n",
      " [0. 0. 0. 1. 0. 0. 0. 0. 0. 0. 0. 0. 0. 0. 0. 0.]]\n"
     ]
    }
   ],
   "source": [
    "k = 4\n",
    "n = 16\n",
    "input_states = get_first_k_eigenvectors_from_n_computational_basis(k, n)\n",
    "print(input_states)"
   ]
  },
  {
   "cell_type": "markdown",
   "id": "6681d9cf",
   "metadata": {},
   "source": [
    "### Ansatz State"
   ]
  },
  {
   "cell_type": "code",
   "execution_count": 261,
   "id": "ed679eb5",
   "metadata": {},
   "outputs": [],
   "source": [
    "from ansatz_circuit_item2 import get_full_variational_quantum_circuit"
   ]
  },
  {
   "cell_type": "code",
   "execution_count": 262,
   "id": "e70a51fc",
   "metadata": {},
   "outputs": [],
   "source": [
    "init_circuit_params = {\n",
    "    \"thetas\": np.random.uniform(low=0, high=2*np.pi, size=8),\n",
    "    \"phis\": np.random.uniform(low=0, high=2*np.pi, size=4),\n",
    "    \"D1\": 2,\n",
    "    \"D2\": 6\n",
    "}"
   ]
  },
  {
   "cell_type": "code",
   "execution_count": 265,
   "id": "75e7bdcc",
   "metadata": {},
   "outputs": [],
   "source": [
    "def prepare_circuit_params(thetas) -> Dict:\n",
    "     return {\n",
    "    \"thetas\": thetas[4:],\n",
    "    \"phis\": thetas[:4],\n",
    "    \"D1\": 2,\n",
    "    \"D2\": 6\n",
    "     }"
   ]
  },
  {
   "cell_type": "code",
   "execution_count": 197,
   "id": "9ebdb4f8",
   "metadata": {},
   "outputs": [],
   "source": [
    "def get_ansatz_state(circuit_params, input_state):\n",
    "    circuit_params_with_input_state = {**circuit_params, \"input_state\": input_state}\n",
    "    return get_full_variational_quantum_circuit(**circuit_params_with_input_state)"
   ]
  },
  {
   "cell_type": "markdown",
   "id": "21777faa",
   "metadata": {},
   "source": [
    "## Expectation Value"
   ]
  },
  {
   "cell_type": "markdown",
   "id": "d320f1b6",
   "metadata": {},
   "source": [
    "### From hamiltonian to pauli string"
   ]
  },
  {
   "cell_type": "code",
   "execution_count": 380,
   "id": "dbbe79ef",
   "metadata": {},
   "outputs": [
    {
     "ename": "QiskitError",
     "evalue": "'Pauli string label \"HZH\" is not valid.'",
     "output_type": "error",
     "traceback": [
      "\u001b[1;31m---------------------------------------------------------------------------\u001b[0m",
      "\u001b[1;31mQiskitError\u001b[0m                               Traceback (most recent call last)",
      "Input \u001b[1;32mIn [380]\u001b[0m, in \u001b[0;36m<cell line: 7>\u001b[1;34m()\u001b[0m\n\u001b[0;32m      3\u001b[0m X_z \u001b[38;5;241m=\u001b[39m H\u001b[38;5;129m@Z\u001b[39m\u001b[38;5;129m@H\u001b[39m\n\u001b[0;32m      4\u001b[0m Y_z \u001b[38;5;241m=\u001b[39m S\u001b[38;5;129m@H\u001b[39m\u001b[38;5;129m@Z\u001b[39m\u001b[38;5;129m@H\u001b[39m\u001b[38;5;129m@S_t\u001b[39m\n\u001b[0;32m      6\u001b[0m reducing_to_pauli_z_dict \u001b[38;5;241m=\u001b[39m {\n\u001b[0;32m      7\u001b[0m     Pauli(\u001b[38;5;124m'\u001b[39m\u001b[38;5;124mI\u001b[39m\u001b[38;5;124m'\u001b[39m): Pauli(\u001b[38;5;124m'\u001b[39m\u001b[38;5;124mI\u001b[39m\u001b[38;5;124m'\u001b[39m),\n\u001b[0;32m      8\u001b[0m     Pauli(\u001b[38;5;124m'\u001b[39m\u001b[38;5;124mZ\u001b[39m\u001b[38;5;124m'\u001b[39m): Pauli(\u001b[38;5;124m'\u001b[39m\u001b[38;5;124mZ\u001b[39m\u001b[38;5;124m'\u001b[39m),\n\u001b[1;32m----> 9\u001b[0m     Pauli(\u001b[38;5;124m'\u001b[39m\u001b[38;5;124mX\u001b[39m\u001b[38;5;124m'\u001b[39m): \u001b[43mPauli\u001b[49m\u001b[43m(\u001b[49m\u001b[38;5;124;43m'\u001b[39;49m\u001b[38;5;124;43mHZH\u001b[39;49m\u001b[38;5;124;43m'\u001b[39;49m\u001b[43m)\u001b[49m,\n\u001b[0;32m     10\u001b[0m     Pauli(\u001b[38;5;124m'\u001b[39m\u001b[38;5;124mY\u001b[39m\u001b[38;5;124m'\u001b[39m): Pauli(\u001b[38;5;124m'\u001b[39m\u001b[38;5;124mSHZHS\u001b[39m\u001b[38;5;124m'\u001b[39m)\n\u001b[0;32m     11\u001b[0m }\n",
      "File \u001b[1;32m~\\anaconda3\\envs\\Qiskitenv\\lib\\site-packages\\qiskit\\quantum_info\\operators\\symplectic\\pauli.py:186\u001b[0m, in \u001b[0;36mPauli.__init__\u001b[1;34m(self, data, x, z, label)\u001b[0m\n\u001b[0;32m    184\u001b[0m     base_z, base_x, base_phase \u001b[38;5;241m=\u001b[39m \u001b[38;5;28mself\u001b[39m\u001b[38;5;241m.\u001b[39m_from_array(\u001b[38;5;241m*\u001b[39mdata)\n\u001b[0;32m    185\u001b[0m \u001b[38;5;28;01melif\u001b[39;00m \u001b[38;5;28misinstance\u001b[39m(data, \u001b[38;5;28mstr\u001b[39m):\n\u001b[1;32m--> 186\u001b[0m     base_z, base_x, base_phase \u001b[38;5;241m=\u001b[39m \u001b[38;5;28;43mself\u001b[39;49m\u001b[38;5;241;43m.\u001b[39;49m\u001b[43m_from_label\u001b[49m\u001b[43m(\u001b[49m\u001b[43mdata\u001b[49m\u001b[43m)\u001b[49m\n\u001b[0;32m    187\u001b[0m \u001b[38;5;28;01melif\u001b[39;00m \u001b[38;5;28misinstance\u001b[39m(data, ScalarOp):\n\u001b[0;32m    188\u001b[0m     base_z, base_x, base_phase \u001b[38;5;241m=\u001b[39m \u001b[38;5;28mself\u001b[39m\u001b[38;5;241m.\u001b[39m_from_scalar_op(data)\n",
      "File \u001b[1;32m~\\anaconda3\\envs\\Qiskitenv\\lib\\site-packages\\qiskit\\quantum_info\\operators\\symplectic\\pauli.py:609\u001b[0m, in \u001b[0;36mPauli._from_label\u001b[1;34m(label)\u001b[0m\n\u001b[0;32m    597\u001b[0m \u001b[38;5;124;03m\"\"\"Return the symplectic representation of Pauli string.\u001b[39;00m\n\u001b[0;32m    598\u001b[0m \n\u001b[0;32m    599\u001b[0m \u001b[38;5;124;03mArgs:\u001b[39;00m\n\u001b[1;32m   (...)\u001b[0m\n\u001b[0;32m    606\u001b[0m \u001b[38;5;124;03m    QiskitError: if Pauli string is not valid.\u001b[39;00m\n\u001b[0;32m    607\u001b[0m \u001b[38;5;124;03m\"\"\"\u001b[39;00m\n\u001b[0;32m    608\u001b[0m \u001b[38;5;28;01mif\u001b[39;00m Pauli\u001b[38;5;241m.\u001b[39m_VALID_LABEL_PATTERN\u001b[38;5;241m.\u001b[39mmatch(label) \u001b[38;5;129;01mis\u001b[39;00m \u001b[38;5;28;01mNone\u001b[39;00m:\n\u001b[1;32m--> 609\u001b[0m     \u001b[38;5;28;01mraise\u001b[39;00m QiskitError(\u001b[38;5;124mf\u001b[39m\u001b[38;5;124m'\u001b[39m\u001b[38;5;124mPauli string label \u001b[39m\u001b[38;5;124m\"\u001b[39m\u001b[38;5;132;01m{\u001b[39;00mlabel\u001b[38;5;132;01m}\u001b[39;00m\u001b[38;5;124m\"\u001b[39m\u001b[38;5;124m is not valid.\u001b[39m\u001b[38;5;124m'\u001b[39m)\n\u001b[0;32m    611\u001b[0m \u001b[38;5;66;03m# Split string into coefficient and Pauli\u001b[39;00m\n\u001b[0;32m    612\u001b[0m pauli, coeff \u001b[38;5;241m=\u001b[39m _split_pauli_label(label)\n",
      "\u001b[1;31mQiskitError\u001b[0m: 'Pauli string label \"HZH\" is not valid.'"
     ]
    }
   ],
   "source": [
    "from qiskit.quantum_info import Pauli\n",
    "S_t = S.adjoint()\n",
    "X_z = H@Z@H\n",
    "Y_z = S@H@Z@H@S_t\n",
    "\n",
    "reducing_to_pauli_z_dict = {\n",
    "    Pauli('I'): Pauli('I'),\n",
    "    Pauli('Z'): Pauli('Z'),\n",
    "    Pauli('X'): Pauli('HZH'),\n",
    "    Pauli('Y'): Pauli('SHZHS')\n",
    "} "
   ]
  },
  {
   "cell_type": "code",
   "execution_count": 362,
   "id": "d64dc010",
   "metadata": {},
   "outputs": [],
   "source": [
    "#TODO: change the a_i and J_ij params into random values\n",
    "from qiskit.opflow import X, Z, Y, I, H, S\n",
    "from qiskit.opflow import ListOp\n",
    "\n",
    "H_transverse_ising = 0.5*((I^I^I^X) + (I^I^X^I) + (I^X^I^I) + (X^I^I^I) + \\\n",
    "                          (Z^Z^I^I) + (Z^I^Z^I) + (Z^I^I^Z) + (I^Z^Z^I) + \\\n",
    "                          (I^Z^I^Z) + (I^I^Z^Z))"
   ]
  },
  {
   "cell_type": "code",
   "execution_count": 359,
   "id": "56435355",
   "metadata": {},
   "outputs": [],
   "source": [
    "def transfrom_hamiltonian_into_pauli_string(hamiltonian):\n",
    "    pauli_operators = hamiltonian.to_pauli_op().settings['oplist']\n",
    "    pauli_strings = list(map(lambda pauli_operator: pauli_operator.primitive, pauli_operators))\n",
    "    return pauli_strings"
   ]
  },
  {
   "cell_type": "code",
   "execution_count": 377,
   "id": "29c3ac8a",
   "metadata": {},
   "outputs": [],
   "source": [
    "def reduce_pauli_matrixes_into_sigma_z(pauli_string):\n",
    "    for matrix_index in range(QUBITS_NUM):\n",
    "        pauli_matrix = pauli_string[matrix_index]\n",
    "        pauli_string[matrix_index].insert(reducing_to_pauli_z_dict[pauli_matrix.primitive_strings])\n",
    "    \n",
    "    print(pauli_string)\n",
    "    return pauli_string"
   ]
  },
  {
   "cell_type": "code",
   "execution_count": 371,
   "id": "533d35e1",
   "metadata": {},
   "outputs": [],
   "source": [
    "NUM_SHOTS=10000\n",
    "\n",
    "def get_probability_distribution(counts: Dict) -> Dict:\n",
    "    proba_distribution = {state: (count / NUM_SHOTS) for state, count in counts.items()}\n",
    "    print(proba_distribution)\n",
    "    return proba_distribution\n",
    "\n",
    "def calculate_probabilities_of_measurments_in_computational_basis(quantum_state_circuit):\n",
    "    quantum_state_circuit.measure_all()\n",
    "    \n",
    "    transpiled_quantum_state_circuit = transpile(quantum_state_circuit, simulator_backend)\n",
    "    Qobj = assemble(transpiled_quantum_state_circuit)\n",
    "    result = simulator_backend.run(Qobj).result()\n",
    "    counts = result.get_counts(quantum_state_circuit)\n",
    "    print(counts)\n",
    "    \n",
    "    return get_probability_distribution(counts)\n"
   ]
  },
  {
   "cell_type": "code",
   "execution_count": 372,
   "id": "c263be2b",
   "metadata": {},
   "outputs": [],
   "source": [
    "def get_expectation_value(hamiltonian, ansatz_state):\n",
    "    proba_distribution = calculate_probabilities_of_measurments_in_computational_basis(ansatz_state)\n",
    "    \n",
    "    pauli_strings = transfrom_hamiltonian_into_pauli_string(hamiltonian)\n",
    "    pauli_strings_reduced_to_sigma_z =  list(map(lambda pauli_string: \n",
    "                                                 reduce_pauli_matrixes_into_sigma_z(pauli_string), pauli_strings))\n",
    "    \n",
    "    right_mult = np.matmul(hamiltonian, np.array(ket_state_vector))\n",
    "    bra_state_vector = np.matrix(ket_state_vector).getH()\n",
    "    return np.matmul(right_mult, bra_state_vector)[(0,0)]"
   ]
  },
  {
   "cell_type": "code",
   "execution_count": null,
   "id": "b5bac540",
   "metadata": {},
   "outputs": [],
   "source": []
  },
  {
   "cell_type": "markdown",
   "id": "a79fc302",
   "metadata": {},
   "source": [
    "## Objective Function"
   ]
  },
  {
   "cell_type": "code",
   "execution_count": 373,
   "id": "e3f4d330",
   "metadata": {},
   "outputs": [],
   "source": [
    "from qiskit import assemble, transpile\n",
    "k = 4\n",
    "n = 16\n",
    "w = 0.5\n",
    "\n",
    "def get_cost_function(k, thetas, hamiltonian):    \n",
    "    circuit_params = prepare_circuit_params(thetas)\n",
    "    computational_eigenvectors = get_first_k_eigenvectors_from_n_computational_basis(k, n)\n",
    "    \n",
    "    ansatz_state = get_ansatz_state(circuit_params, computational_eigenvectors[k-1])\n",
    "    L_w = w*get_expectation_value(hamiltonian, ansatz_state)\n",
    "    \n",
    "    for j in range(k-1):\n",
    "        ansatz_state = get_ansatz_state(circuit_params, computational_eigenvectors[j])\n",
    "        L_w += get_expectation_value(hamiltonian, ansatz_circuit)\n",
    "        \n",
    "    return L_w"
   ]
  },
  {
   "cell_type": "code",
   "execution_count": 378,
   "id": "8c9a6790",
   "metadata": {},
   "outputs": [
    {
     "name": "stdout",
     "output_type": "stream",
     "text": [
      "{'0111': 440, '0011': 99, '0101': 152, '1111': 53, '1011': 170, '0001': 11, '1001': 17, '1101': 20, '0100': 37, '0110': 9, '1100': 6, '0000': 6, '1000': 1, '1110': 1, '0010': 1, '1010': 1}\n",
      "{'0111': 0.044, '0011': 0.0099, '0101': 0.0152, '1111': 0.0053, '1011': 0.017, '0001': 0.0011, '1001': 0.0017, '1101': 0.002, '0100': 0.0037, '0110': 0.0009, '1100': 0.0006, '0000': 0.0006, '1000': 0.0001, '1110': 0.0001, '0010': 0.0001, '1010': 0.0001}\n"
     ]
    },
    {
     "ename": "AttributeError",
     "evalue": "'Pauli' object has no attribute 'primitive_strings'",
     "output_type": "error",
     "traceback": [
      "\u001b[1;31m---------------------------------------------------------------------------\u001b[0m",
      "\u001b[1;31mAttributeError\u001b[0m                            Traceback (most recent call last)",
      "Input \u001b[1;32mIn [378]\u001b[0m, in \u001b[0;36m<cell line: 2>\u001b[1;34m()\u001b[0m\n\u001b[0;32m      1\u001b[0m thetas \u001b[38;5;241m=\u001b[39m np\u001b[38;5;241m.\u001b[39mrandom\u001b[38;5;241m.\u001b[39muniform(low\u001b[38;5;241m=\u001b[39m\u001b[38;5;241m0\u001b[39m, high\u001b[38;5;241m=\u001b[39m\u001b[38;5;241m2\u001b[39m\u001b[38;5;241m*\u001b[39mnp\u001b[38;5;241m.\u001b[39mpi, size\u001b[38;5;241m=\u001b[39m\u001b[38;5;241m12\u001b[39m)\n\u001b[1;32m----> 2\u001b[0m \u001b[43mget_cost_function\u001b[49m\u001b[43m(\u001b[49m\u001b[43mk\u001b[49m\u001b[38;5;241;43m=\u001b[39;49m\u001b[38;5;241;43m4\u001b[39;49m\u001b[43m,\u001b[49m\u001b[43m \u001b[49m\u001b[43mthetas\u001b[49m\u001b[38;5;241;43m=\u001b[39;49m\u001b[43mthetas\u001b[49m\u001b[43m,\u001b[49m\u001b[43m \u001b[49m\u001b[43mhamiltonian\u001b[49m\u001b[38;5;241;43m=\u001b[39;49m\u001b[43mH_transverse_ising\u001b[49m\u001b[43m)\u001b[49m\n",
      "Input \u001b[1;32mIn [373]\u001b[0m, in \u001b[0;36mget_cost_function\u001b[1;34m(k, thetas, hamiltonian)\u001b[0m\n\u001b[0;32m      8\u001b[0m computational_eigenvectors \u001b[38;5;241m=\u001b[39m get_first_k_eigenvectors_from_n_computational_basis(k, n)\n\u001b[0;32m     10\u001b[0m ansatz_state \u001b[38;5;241m=\u001b[39m get_ansatz_state(circuit_params, computational_eigenvectors[k\u001b[38;5;241m-\u001b[39m\u001b[38;5;241m1\u001b[39m])\n\u001b[1;32m---> 11\u001b[0m L_w \u001b[38;5;241m=\u001b[39m w\u001b[38;5;241m*\u001b[39m\u001b[43mget_expectation_value\u001b[49m\u001b[43m(\u001b[49m\u001b[43mhamiltonian\u001b[49m\u001b[43m,\u001b[49m\u001b[43m \u001b[49m\u001b[43mansatz_state\u001b[49m\u001b[43m)\u001b[49m\n\u001b[0;32m     13\u001b[0m \u001b[38;5;28;01mfor\u001b[39;00m j \u001b[38;5;129;01min\u001b[39;00m \u001b[38;5;28mrange\u001b[39m(k\u001b[38;5;241m-\u001b[39m\u001b[38;5;241m1\u001b[39m):\n\u001b[0;32m     14\u001b[0m     ansatz_state \u001b[38;5;241m=\u001b[39m get_ansatz_state(circuit_params, computational_eigenvectors[j])\n",
      "Input \u001b[1;32mIn [372]\u001b[0m, in \u001b[0;36mget_expectation_value\u001b[1;34m(hamiltonian, ansatz_state)\u001b[0m\n\u001b[0;32m      2\u001b[0m proba_distribution \u001b[38;5;241m=\u001b[39m calculate_probabilities_of_measurments_in_computational_basis(ansatz_state)\n\u001b[0;32m      4\u001b[0m pauli_strings \u001b[38;5;241m=\u001b[39m transfrom_hamiltonian_into_pauli_string(hamiltonian)\n\u001b[1;32m----> 5\u001b[0m pauli_strings_reduced_to_sigma_z \u001b[38;5;241m=\u001b[39m  \u001b[38;5;28;43mlist\u001b[39;49m\u001b[43m(\u001b[49m\u001b[38;5;28;43mmap\u001b[39;49m\u001b[43m(\u001b[49m\u001b[38;5;28;43;01mlambda\u001b[39;49;00m\u001b[43m \u001b[49m\u001b[43mpauli_string\u001b[49m\u001b[43m:\u001b[49m\u001b[43m \u001b[49m\n\u001b[0;32m      6\u001b[0m \u001b[43m                                             \u001b[49m\u001b[43mreduce_pauli_matrixes_into_sigma_z\u001b[49m\u001b[43m(\u001b[49m\u001b[43mpauli_string\u001b[49m\u001b[43m)\u001b[49m\u001b[43m,\u001b[49m\u001b[43m \u001b[49m\u001b[43mpauli_strings\u001b[49m\u001b[43m)\u001b[49m\u001b[43m)\u001b[49m\n\u001b[0;32m      8\u001b[0m right_mult \u001b[38;5;241m=\u001b[39m np\u001b[38;5;241m.\u001b[39mmatmul(hamiltonian, np\u001b[38;5;241m.\u001b[39marray(ket_state_vector))\n\u001b[0;32m      9\u001b[0m bra_state_vector \u001b[38;5;241m=\u001b[39m np\u001b[38;5;241m.\u001b[39mmatrix(ket_state_vector)\u001b[38;5;241m.\u001b[39mgetH()\n",
      "Input \u001b[1;32mIn [372]\u001b[0m, in \u001b[0;36mget_expectation_value.<locals>.<lambda>\u001b[1;34m(pauli_string)\u001b[0m\n\u001b[0;32m      2\u001b[0m proba_distribution \u001b[38;5;241m=\u001b[39m calculate_probabilities_of_measurments_in_computational_basis(ansatz_state)\n\u001b[0;32m      4\u001b[0m pauli_strings \u001b[38;5;241m=\u001b[39m transfrom_hamiltonian_into_pauli_string(hamiltonian)\n\u001b[0;32m      5\u001b[0m pauli_strings_reduced_to_sigma_z \u001b[38;5;241m=\u001b[39m  \u001b[38;5;28mlist\u001b[39m(\u001b[38;5;28mmap\u001b[39m(\u001b[38;5;28;01mlambda\u001b[39;00m pauli_string: \n\u001b[1;32m----> 6\u001b[0m                                              \u001b[43mreduce_pauli_matrixes_into_sigma_z\u001b[49m\u001b[43m(\u001b[49m\u001b[43mpauli_string\u001b[49m\u001b[43m)\u001b[49m, pauli_strings))\n\u001b[0;32m      8\u001b[0m right_mult \u001b[38;5;241m=\u001b[39m np\u001b[38;5;241m.\u001b[39mmatmul(hamiltonian, np\u001b[38;5;241m.\u001b[39marray(ket_state_vector))\n\u001b[0;32m      9\u001b[0m bra_state_vector \u001b[38;5;241m=\u001b[39m np\u001b[38;5;241m.\u001b[39mmatrix(ket_state_vector)\u001b[38;5;241m.\u001b[39mgetH()\n",
      "Input \u001b[1;32mIn [377]\u001b[0m, in \u001b[0;36mreduce_pauli_matrixes_into_sigma_z\u001b[1;34m(pauli_string)\u001b[0m\n\u001b[0;32m      2\u001b[0m \u001b[38;5;28;01mfor\u001b[39;00m matrix_index \u001b[38;5;129;01min\u001b[39;00m \u001b[38;5;28mrange\u001b[39m(QUBITS_NUM):\n\u001b[0;32m      3\u001b[0m     pauli_matrix \u001b[38;5;241m=\u001b[39m pauli_string[matrix_index]\n\u001b[1;32m----> 4\u001b[0m     pauli_string[matrix_index]\u001b[38;5;241m.\u001b[39minsert(reducing_to_pauli_z_dict[\u001b[43mpauli_matrix\u001b[49m\u001b[38;5;241;43m.\u001b[39;49m\u001b[43mprimitive_strings\u001b[49m])\n\u001b[0;32m      6\u001b[0m \u001b[38;5;28mprint\u001b[39m(pauli_string)\n\u001b[0;32m      7\u001b[0m \u001b[38;5;28;01mreturn\u001b[39;00m pauli_string\n",
      "\u001b[1;31mAttributeError\u001b[0m: 'Pauli' object has no attribute 'primitive_strings'"
     ]
    }
   ],
   "source": [
    "thetas = np.random.uniform(low=0, high=2*np.pi, size=12)\n",
    "get_cost_function(k=4, thetas=thetas, hamiltonian=H_transverse_ising)"
   ]
  },
  {
   "cell_type": "code",
   "execution_count": null,
   "id": "2a68a21b",
   "metadata": {},
   "outputs": [],
   "source": []
  }
 ],
 "metadata": {
  "kernelspec": {
   "display_name": "Qiskitenv",
   "language": "python",
   "name": "qiskitenv"
  },
  "language_info": {
   "codemirror_mode": {
    "name": "ipython",
    "version": 3
   },
   "file_extension": ".py",
   "mimetype": "text/x-python",
   "name": "python",
   "nbconvert_exporter": "python",
   "pygments_lexer": "ipython3",
   "version": "3.8.13"
  }
 },
 "nbformat": 4,
 "nbformat_minor": 5
}
