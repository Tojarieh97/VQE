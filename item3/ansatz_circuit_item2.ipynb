{
 "cells": [
  {
   "cell_type": "code",
   "execution_count": 1,
   "id": "0998e1ad",
   "metadata": {},
   "outputs": [],
   "source": [
    "%load_ext autoreload\n",
    "%autoreload 2"
   ]
  },
  {
   "cell_type": "markdown",
   "id": "dfbe79ee",
   "metadata": {},
   "source": [
    "### Variational quantum circuit used in the simulations of SSVQE"
   ]
  },
  {
   "cell_type": "code",
   "execution_count": 2,
   "id": "f095b875",
   "metadata": {},
   "outputs": [],
   "source": [
    "from qiskit.circuit.library.standard_gates import RXGate, RZGate, CXGate, CZGate\n",
    "from qiskit import QuantumCircuit, ClassicalRegister, QuantumRegister"
   ]
  },
  {
   "cell_type": "code",
   "execution_count": 3,
   "id": "3344b06e",
   "metadata": {},
   "outputs": [],
   "source": [
    "def get_thetas_circuit(thetas, D2):\n",
    "    qr = QuantumRegister(4, name=\"qubit\")\n",
    "    qc = QuantumCircuit(qr)\n",
    "        \n",
    "    for d in range(D2):\n",
    "        qc.append(RXGate(thetas[0]), [qr[0]])\n",
    "        qc.append(RXGate(thetas[1]), [qr[1]])\n",
    "        qc.append(RXGate(thetas[2]), [qr[2]])\n",
    "        qc.append(RXGate(thetas[3]), [qr[3]])\n",
    "        \n",
    "        qc.append(RZGate(thetas[4]), [qr[0]])\n",
    "        qc.append(RZGate(thetas[5]), [qr[1]])\n",
    "        qc.append(RZGate(thetas[6]), [qr[2]])\n",
    "        qc.append(RZGate(thetas[7]), [qr[3]])\n",
    "        \n",
    "        qc.append(CZGate(), [qr[0], qr[1]])\n",
    "        qc.append(CZGate(), [qr[1], qr[2]])\n",
    "        qc.append(CZGate(), [qr[2], qr[3]])\n",
    "        qc.barrier(qr)\n",
    "    \n",
    "    qc.append(RXGate(thetas[0]), [qr[0]])\n",
    "    qc.append(RXGate(thetas[1]), [qr[1]])\n",
    "    qc.append(RXGate(thetas[2]), [qr[2]])\n",
    "    qc.append(RXGate(thetas[3]), [qr[3]])\n",
    "\n",
    "    qc.append(RZGate(thetas[4]), [qr[0]])\n",
    "    qc.append(RZGate(thetas[5]), [qr[1]])\n",
    "    qc.append(RZGate(thetas[6]), [qr[2]])\n",
    "    qc.append(RZGate(thetas[7]), [qr[3]])\n",
    "\n",
    "    return qc"
   ]
  },
  {
   "cell_type": "code",
   "execution_count": 4,
   "id": "ee00c9df",
   "metadata": {},
   "outputs": [],
   "source": [
    "def get_phis_circuit(phis, D1, input_state):\n",
    "    qr = QuantumRegister(4, name=\"qubit\")\n",
    "    qc = QuantumCircuit(qr)\n",
    "    qc.initialize(input_state)\n",
    "    \n",
    "    for d in range(D1):\n",
    "        qc.append(RXGate(phis[0]), [qr[2]])\n",
    "        qc.append(RXGate(phis[1]), [qr[3]])\n",
    "        \n",
    "        qc.append(RZGate(phis[2]), [qr[2]])\n",
    "        qc.append(RZGate(phis[3]), [qr[3]])\n",
    "        \n",
    "        qc.append(CZGate(), [qr[2], qr[3]])\n",
    "        qc.barrier(qr)\n",
    "    return qc"
   ]
  },
  {
   "cell_type": "code",
   "execution_count": 6,
   "id": "769b28d7",
   "metadata": {},
   "outputs": [],
   "source": [
    "def get_full_variational_quantum_circuit(thetas, phis, D1, D2, input_state):\n",
    "    thetas_quantum_circuit = get_thetas_circuit(thetas, D2)\n",
    "    phis_quantum_circuit = get_phis_circuit(phis, D1, input_state)\n",
    "    \n",
    "    variational_quantum_circuit = phis_quantum_circuit.compose(thetas_quantum_circuit)\n",
    "    return variational_quantum_circuit"
   ]
  },
  {
   "cell_type": "code",
   "execution_count": null,
   "id": "eb545c8e",
   "metadata": {},
   "outputs": [],
   "source": []
  }
 ],
 "metadata": {
  "kernelspec": {
   "display_name": "Qiskitenv",
   "language": "python",
   "name": "qiskitenv"
  },
  "language_info": {
   "codemirror_mode": {
    "name": "ipython",
    "version": 3
   },
   "file_extension": ".py",
   "mimetype": "text/x-python",
   "name": "python",
   "nbconvert_exporter": "python",
   "pygments_lexer": "ipython3",
   "version": "3.8.13"
  }
 },
 "nbformat": 4,
 "nbformat_minor": 5
}
