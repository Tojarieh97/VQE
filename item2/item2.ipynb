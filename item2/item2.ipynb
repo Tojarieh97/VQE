{
 "cells": [
  {
   "cell_type": "markdown",
   "id": "dfbe79ee",
   "metadata": {},
   "source": [
    "# Section 2 implementation:"
   ]
  },
  {
   "cell_type": "code",
   "execution_count": 1,
   "id": "f095b875",
   "metadata": {},
   "outputs": [],
   "source": [
    "from qiskit.circuit.library.standard_gates import RXGate, RZGate, CXGate, CZGate\n",
    "from qiskit import QuantumCircuit, ClassicalRegister, QuantumRegister"
   ]
  },
  {
   "cell_type": "code",
   "execution_count": 2,
   "id": "3344b06e",
   "metadata": {},
   "outputs": [],
   "source": [
    "def anzats_circ(thetas, phis, D1, D2):\n",
    "    qr = QuantumRegister(4, name=\"q\")\n",
    "    cr = ClassicalRegister(4, name='c')\n",
    "    qc = QuantumCircuit(qr, cr)\n",
    "    for d in range(D1):\n",
    "        qc.append(RXGate(phis[0]), [qr[2]])\n",
    "        qc.append(RXGate(phis[1]), [qr[3]])\n",
    "        \n",
    "        qc.append(RZGate(phis[2]), [qr[2]])\n",
    "        qc.append(RZGate(phis[3]), [qr[3]])\n",
    "        \n",
    "        qc.append(CZGate(), [qr[2], qr[3]])\n",
    "        qc.barrier(qr)\n",
    "        \n",
    "    for d in range(D2):\n",
    "        qc.append(RXGate(thetas[0]), [qr[0]])\n",
    "        qc.append(RXGate(thetas[1]), [qr[1]])\n",
    "        qc.append(RXGate(thetas[2]), [qr[2]])\n",
    "        qc.append(RXGate(thetas[3]), [qr[3]])\n",
    "        \n",
    "        qc.append(RZGate(thetas[4]), [qr[0]])\n",
    "        qc.append(RZGate(thetas[5]), [qr[1]])\n",
    "        qc.append(RZGate(thetas[6]), [qr[2]])\n",
    "        qc.append(RZGate(thetas[7]), [qr[3]])\n",
    "        \n",
    "        qc.append(CZGate(), [qr[0], qr[1]])\n",
    "        qc.append(CZGate(), [qr[1], qr[2]])\n",
    "        qc.append(CZGate(), [qr[2], qr[3]])\n",
    "        qc.barrier(qr)\n",
    "    \n",
    "    qc.append(RXGate(thetas[0]), [qr[0]])\n",
    "    qc.append(RXGate(thetas[1]), [qr[1]])\n",
    "    qc.append(RXGate(thetas[2]), [qr[2]])\n",
    "    qc.append(RXGate(thetas[3]), [qr[3]])\n",
    "\n",
    "    qc.append(RZGate(thetas[4]), [qr[0]])\n",
    "    qc.append(RZGate(thetas[5]), [qr[1]])\n",
    "    qc.append(RZGate(thetas[6]), [qr[2]])\n",
    "    qc.append(RZGate(thetas[7]), [qr[3]])\n",
    "\n",
    "    return qc"
   ]
  },
  {
   "cell_type": "markdown",
   "id": "becb69c3",
   "metadata": {},
   "source": [
    "## Circuit Display:"
   ]
  },
  {
   "cell_type": "code",
   "execution_count": 3,
   "id": "183f4e50",
   "metadata": {},
   "outputs": [],
   "source": [
    "#Define in this box the parameters for the anzats\n",
    "import numpy as np\n",
    "\n",
    "#you may define here the requsted parameters as you'd like\n",
    "thetas = np.array([0,0,0,0,np.pi/2,np.pi/2,np.pi/2,np.pi/2])\n",
    "phis = np.array([np.pi,np.pi,np.pi,np.pi])\n",
    "\n",
    "#you may define here the requested number of iterations D1 and D2 as described in Fig.1 of Subspace-search variational quantum\n",
    "#eigensolver for excited states. \n",
    "D1 = 1\n",
    "D2 = 1"
   ]
  },
  {
   "cell_type": "code",
   "execution_count": 4,
   "id": "3c285f30",
   "metadata": {},
   "outputs": [
    {
     "data": {
      "text/html": [
       "<pre style=\"word-wrap: normal;white-space: pre;background: #fff0;line-height: 1.1;font-family: &quot;Courier New&quot;,Courier,monospace\">                           ░ ┌───────┐┌─────────┐          ░ ┌───────┐»\n",
       "q_0: ──────────────────────░─┤ Rx(0) ├┤ Rz(π/2) ├─■────────░─┤ Rx(0) ├»\n",
       "                           ░ ├───────┤├─────────┤ │        ░ ├───────┤»\n",
       "q_1: ──────────────────────░─┤ Rx(0) ├┤ Rz(π/2) ├─■──■─────░─┤ Rx(0) ├»\n",
       "     ┌───────┐┌───────┐    ░ ├───────┤├─────────┤    │     ░ ├───────┤»\n",
       "q_2: ┤ Rx(π) ├┤ Rz(π) ├─■──░─┤ Rx(0) ├┤ Rz(π/2) ├────■──■──░─┤ Rx(0) ├»\n",
       "     ├───────┤├───────┤ │  ░ ├───────┤├─────────┤       │  ░ ├───────┤»\n",
       "q_3: ┤ Rx(π) ├┤ Rz(π) ├─■──░─┤ Rx(0) ├┤ Rz(π/2) ├───────■──░─┤ Rx(0) ├»\n",
       "     └───────┘└───────┘    ░ └───────┘└─────────┘          ░ └───────┘»\n",
       "c: 4/═════════════════════════════════════════════════════════════════»\n",
       "                                                                      »\n",
       "«     ┌─────────┐\n",
       "«q_0: ┤ Rz(π/2) ├\n",
       "«     ├─────────┤\n",
       "«q_1: ┤ Rz(π/2) ├\n",
       "«     ├─────────┤\n",
       "«q_2: ┤ Rz(π/2) ├\n",
       "«     ├─────────┤\n",
       "«q_3: ┤ Rz(π/2) ├\n",
       "«     └─────────┘\n",
       "«c: 4/═══════════\n",
       "«                </pre>"
      ],
      "text/plain": [
       "                           ░ ┌───────┐┌─────────┐          ░ ┌───────┐»\n",
       "q_0: ──────────────────────░─┤ Rx(0) ├┤ Rz(π/2) ├─■────────░─┤ Rx(0) ├»\n",
       "                           ░ ├───────┤├─────────┤ │        ░ ├───────┤»\n",
       "q_1: ──────────────────────░─┤ Rx(0) ├┤ Rz(π/2) ├─■──■─────░─┤ Rx(0) ├»\n",
       "     ┌───────┐┌───────┐    ░ ├───────┤├─────────┤    │     ░ ├───────┤»\n",
       "q_2: ┤ Rx(π) ├┤ Rz(π) ├─■──░─┤ Rx(0) ├┤ Rz(π/2) ├────■──■──░─┤ Rx(0) ├»\n",
       "     ├───────┤├───────┤ │  ░ ├───────┤├─────────┤       │  ░ ├───────┤»\n",
       "q_3: ┤ Rx(π) ├┤ Rz(π) ├─■──░─┤ Rx(0) ├┤ Rz(π/2) ├───────■──░─┤ Rx(0) ├»\n",
       "     └───────┘└───────┘    ░ └───────┘└─────────┘          ░ └───────┘»\n",
       "c: 4/═════════════════════════════════════════════════════════════════»\n",
       "                                                                      »\n",
       "«     ┌─────────┐\n",
       "«q_0: ┤ Rz(π/2) ├\n",
       "«     ├─────────┤\n",
       "«q_1: ┤ Rz(π/2) ├\n",
       "«     ├─────────┤\n",
       "«q_2: ┤ Rz(π/2) ├\n",
       "«     ├─────────┤\n",
       "«q_3: ┤ Rz(π/2) ├\n",
       "«     └─────────┘\n",
       "«c: 4/═══════════\n",
       "«                "
      ]
     },
     "execution_count": 4,
     "metadata": {},
     "output_type": "execute_result"
    }
   ],
   "source": [
    "#display the created circuit\n",
    "qc = anzats_circ(thetas,phis,D1,D2)\n",
    "qc.draw()"
   ]
  }
 ],
 "metadata": {
  "kernelspec": {
   "display_name": "QIS_ENV",
   "language": "python",
   "name": "pythonqisenv"
  },
  "language_info": {
   "codemirror_mode": {
    "name": "ipython",
    "version": 3
   },
   "file_extension": ".py",
   "mimetype": "text/x-python",
   "name": "python",
   "nbconvert_exporter": "python",
   "pygments_lexer": "ipython3",
   "version": "3.9.12"
  }
 },
 "nbformat": 4,
 "nbformat_minor": 5
}
