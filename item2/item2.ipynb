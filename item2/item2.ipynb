{
 "cells": [
  {
   "cell_type": "markdown",
   "id": "dfbe79ee",
   "metadata": {},
   "source": [
    "### Variational quantum circuit used in the simulations of SSVQE"
   ]
  },
  {
   "cell_type": "code",
   "execution_count": 6,
   "id": "f095b875",
   "metadata": {},
   "outputs": [],
   "source": [
    "from qiskit.circuit.library.standard_gates import RXGate, RZGate, CXGate, CZGate\n",
    "from qiskit import QuantumCircuit, ClassicalRegister, QuantumRegister"
   ]
  },
  {
   "cell_type": "code",
   "execution_count": 16,
   "id": "3344b06e",
   "metadata": {},
   "outputs": [],
   "source": [
    "def get_thetas_circuit(thetas, D2):\n",
    "    qr = QuantumRegister(4, name=\"qubit\")\n",
    "    qc = QuantumCircuit(qr)\n",
    "        \n",
    "    for d in range(D2):\n",
    "        qc.append(RXGate(thetas[0]), [qr[0]])\n",
    "        qc.append(RXGate(thetas[1]), [qr[1]])\n",
    "        qc.append(RXGate(thetas[2]), [qr[2]])\n",
    "        qc.append(RXGate(thetas[3]), [qr[3]])\n",
    "        \n",
    "        qc.append(RZGate(thetas[4]), [qr[0]])\n",
    "        qc.append(RZGate(thetas[5]), [qr[1]])\n",
    "        qc.append(RZGate(thetas[6]), [qr[2]])\n",
    "        qc.append(RZGate(thetas[7]), [qr[3]])\n",
    "        \n",
    "        qc.append(CZGate(), [qr[0], qr[1]])\n",
    "        qc.append(CZGate(), [qr[1], qr[2]])\n",
    "        qc.append(CZGate(), [qr[2], qr[3]])\n",
    "        qc.barrier(qr)\n",
    "    \n",
    "    qc.append(RXGate(thetas[0]), [qr[0]])\n",
    "    qc.append(RXGate(thetas[1]), [qr[1]])\n",
    "    qc.append(RXGate(thetas[2]), [qr[2]])\n",
    "    qc.append(RXGate(thetas[3]), [qr[3]])\n",
    "\n",
    "    qc.append(RZGate(thetas[4]), [qr[0]])\n",
    "    qc.append(RZGate(thetas[5]), [qr[1]])\n",
    "    qc.append(RZGate(thetas[6]), [qr[2]])\n",
    "    qc.append(RZGate(thetas[7]), [qr[3]])\n",
    "\n",
    "    return qc"
   ]
  },
  {
   "cell_type": "code",
   "execution_count": 17,
   "id": "21f105d5",
   "metadata": {},
   "outputs": [],
   "source": [
    "def get_phis_circuit(phis, D1):\n",
    "    qr = QuantumRegister(4, name=\"qubit\")\n",
    "    qc = QuantumCircuit(qr)\n",
    "    for d in range(D1):\n",
    "        qc.append(RXGate(phis[0]), [qr[2]])\n",
    "        qc.append(RXGate(phis[1]), [qr[3]])\n",
    "        \n",
    "        qc.append(RZGate(phis[2]), [qr[2]])\n",
    "        qc.append(RZGate(phis[3]), [qr[3]])\n",
    "        \n",
    "        qc.append(CZGate(), [qr[2], qr[3]])\n",
    "        qc.barrier(qr)\n",
    "    return qc"
   ]
  },
  {
   "cell_type": "code",
   "execution_count": 18,
   "id": "24af0ddc",
   "metadata": {},
   "outputs": [],
   "source": [
    "def get_full_variational_quantum_circuit(thetas, phis, D1, D2):\n",
    "    thetas_quantum_circuit = get_thetas_circuit(thetas, D2)\n",
    "    phis_quantum_circuit = get_phis_circuit(phis, D1)\n",
    "    \n",
    "    variational_quantum_circuit = phis_quantum_circuit.composed(thetas_quantum_circuit)\n",
    "    return variational_quantum_circuit"
   ]
  },
  {
   "cell_type": "markdown",
   "id": "becb69c3",
   "metadata": {},
   "source": [
    "### Circuits Display"
   ]
  },
  {
   "cell_type": "code",
   "execution_count": 19,
   "id": "183f4e50",
   "metadata": {},
   "outputs": [],
   "source": [
    "#Define in this box the parameters for the anzats\n",
    "import numpy as np\n",
    "\n",
    "#you may define here the requsted parameters as you'd like\n",
    "thetas = np.array([0,0,0,0,np.pi/2,np.pi/2,np.pi/2,np.pi/2])\n",
    "phis = np.array([np.pi,np.pi,np.pi,np.pi])\n",
    "\n",
    "#you may define here the requested number of iterations D1 and D2 as described in Fig.1 of Subspace-search variational quantum\n",
    "#eigensolver for excited states. \n",
    "D1 = 1\n",
    "D2 = 1"
   ]
  },
  {
   "cell_type": "markdown",
   "id": "adc4551f",
   "metadata": {},
   "source": [
    "### U(theta)"
   ]
  },
  {
   "cell_type": "code",
   "execution_count": 20,
   "id": "3c285f30",
   "metadata": {},
   "outputs": [
    {
     "name": "stdout",
     "output_type": "stream",
     "text": [
      "         ┌───────┐┌─────────┐          ░ ┌───────┐┌─────────┐\n",
      "qubit_0: ┤ Rx(0) ├┤ Rz(π/2) ├─■────────░─┤ Rx(0) ├┤ Rz(π/2) ├\n",
      "         ├───────┤├─────────┤ │        ░ ├───────┤├─────────┤\n",
      "qubit_1: ┤ Rx(0) ├┤ Rz(π/2) ├─■──■─────░─┤ Rx(0) ├┤ Rz(π/2) ├\n",
      "         ├───────┤├─────────┤    │     ░ ├───────┤├─────────┤\n",
      "qubit_2: ┤ Rx(0) ├┤ Rz(π/2) ├────■──■──░─┤ Rx(0) ├┤ Rz(π/2) ├\n",
      "         ├───────┤├─────────┤       │  ░ ├───────┤├─────────┤\n",
      "qubit_3: ┤ Rx(0) ├┤ Rz(π/2) ├───────■──░─┤ Rx(0) ├┤ Rz(π/2) ├\n",
      "         └───────┘└─────────┘          ░ └───────┘└─────────┘\n"
     ]
    }
   ],
   "source": [
    "qc1 = get_thetas_circuit(thetas,D2)\n",
    "print(qc1.draw())"
   ]
  },
  {
   "cell_type": "markdown",
   "id": "9bed8ae7",
   "metadata": {},
   "source": [
    "### V(phi)"
   ]
  },
  {
   "cell_type": "code",
   "execution_count": 21,
   "id": "3992b69d",
   "metadata": {},
   "outputs": [
    {
     "name": "stdout",
     "output_type": "stream",
     "text": [
      "                               ░ \n",
      "qubit_0: ──────────────────────░─\n",
      "                               ░ \n",
      "qubit_1: ──────────────────────░─\n",
      "         ┌───────┐┌───────┐    ░ \n",
      "qubit_2: ┤ Rx(π) ├┤ Rz(π) ├─■──░─\n",
      "         ├───────┤├───────┤ │  ░ \n",
      "qubit_3: ┤ Rx(π) ├┤ Rz(π) ├─■──░─\n",
      "         └───────┘└───────┘    ░ \n"
     ]
    }
   ],
   "source": [
    "qc2 = get_phis_circuit(phis,D1)\n",
    "print(qc2.draw())"
   ]
  },
  {
   "cell_type": "markdown",
   "id": "e94e57e1",
   "metadata": {},
   "source": [
    "### Full Circuit"
   ]
  },
  {
   "cell_type": "code",
   "execution_count": 22,
   "id": "0216d26a",
   "metadata": {},
   "outputs": [
    {
     "name": "stdout",
     "output_type": "stream",
     "text": [
      "                               ░ ┌───────┐┌─────────┐          ░ ┌───────┐»\n",
      "qubit_0: ──────────────────────░─┤ Rx(0) ├┤ Rz(π/2) ├─■────────░─┤ Rx(0) ├»\n",
      "                               ░ ├───────┤├─────────┤ │        ░ ├───────┤»\n",
      "qubit_1: ──────────────────────░─┤ Rx(0) ├┤ Rz(π/2) ├─■──■─────░─┤ Rx(0) ├»\n",
      "         ┌───────┐┌───────┐    ░ ├───────┤├─────────┤    │     ░ ├───────┤»\n",
      "qubit_2: ┤ Rx(π) ├┤ Rz(π) ├─■──░─┤ Rx(0) ├┤ Rz(π/2) ├────■──■──░─┤ Rx(0) ├»\n",
      "         ├───────┤├───────┤ │  ░ ├───────┤├─────────┤       │  ░ ├───────┤»\n",
      "qubit_3: ┤ Rx(π) ├┤ Rz(π) ├─■──░─┤ Rx(0) ├┤ Rz(π/2) ├───────■──░─┤ Rx(0) ├»\n",
      "         └───────┘└───────┘    ░ └───────┘└─────────┘          ░ └───────┘»\n",
      "«         ┌─────────┐\n",
      "«qubit_0: ┤ Rz(π/2) ├\n",
      "«         ├─────────┤\n",
      "«qubit_1: ┤ Rz(π/2) ├\n",
      "«         ├─────────┤\n",
      "«qubit_2: ┤ Rz(π/2) ├\n",
      "«         ├─────────┤\n",
      "«qubit_3: ┤ Rz(π/2) ├\n",
      "«         └─────────┘\n"
     ]
    }
   ],
   "source": [
    "print(qc2.compose(qc1).draw())"
   ]
  },
  {
   "cell_type": "code",
   "execution_count": null,
   "id": "1075466d",
   "metadata": {},
   "outputs": [],
   "source": []
  }
 ],
 "metadata": {
  "kernelspec": {
   "display_name": "Qiskitenv",
   "language": "python",
   "name": "qiskitenv"
  },
  "language_info": {
   "codemirror_mode": {
    "name": "ipython",
    "version": 3
   },
   "file_extension": ".py",
   "mimetype": "text/x-python",
   "name": "python",
   "nbconvert_exporter": "python",
   "pygments_lexer": "ipython3",
   "version": "3.8.13"
  }
 },
 "nbformat": 4,
 "nbformat_minor": 5
}
